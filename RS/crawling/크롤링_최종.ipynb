{
 "cells": [
  {
   "cell_type": "code",
   "execution_count": 1,
   "metadata": {
    "id": "855Mo76s-kvl"
   },
   "outputs": [],
   "source": [
    "# 네이버에서 검색어 입력받아 검색 한 후 블로그 메뉴를 선택하고\n",
    "# 오른쪽에 있는 검색옵션 버튼을 눌러서\n",
    "# 정렬 방식과 기간을 입력하기\n",
    "\n",
    "#Step 0. 필요한 모듈과 라이브러리를 로딩합니다.\n",
    "import sys # 시스템\n",
    "import os  # 시스템\n",
    "\n",
    "import pandas as pd  # 판다스 : 데이터분석 라이브러리\n",
    "import numpy as np   # 넘파이 : 숫자, 행렬 데이터 라이브러리\n",
    "\n",
    "import chromedriver_autoinstaller\n",
    "from bs4 import BeautifulSoup    # html 데이터를 전처리\n",
    "from selenium import webdriver   # 웹 브라우저 자동화\n",
    "import time    # 서버와 통신할 때 중간중간 시간 지연. 보통은 1초\n",
    "from tqdm import tqdm_notebook   # for문 돌릴 때 진행상황을 %게이지로 알려준다.\n",
    "\n",
    "# 워닝 무시\n",
    "import warnings\n",
    "warnings.filterwarnings('ignore')"
   ]
  },
  {
   "cell_type": "code",
   "execution_count": 2,
   "metadata": {
    "id": "n8Lxk6vh-kvn",
    "outputId": "69ae7a9d-8942-49d3-f943-63eb1f8e7569"
   },
   "outputs": [
    {
     "name": "stdout",
     "output_type": "stream",
     "text": [
      "Python 3.8.13\r\n"
     ]
    }
   ],
   "source": [
    "# python 버전 확인\n",
    "!python --version"
   ]
  },
  {
   "cell_type": "code",
   "execution_count": 3,
   "metadata": {
    "id": "Vn8wKGA8-kvo",
    "outputId": "da4b2b84-4fd6-4730-fc49-8b24a87623d4"
   },
   "outputs": [
    {
     "data": {
      "text/plain": [
       "'1.4.3'"
      ]
     },
     "execution_count": 3,
     "metadata": {},
     "output_type": "execute_result"
    }
   ],
   "source": [
    "# 판다스 버전 확인\n",
    "pd.__version__"
   ]
  },
  {
   "cell_type": "code",
   "execution_count": 4,
   "metadata": {},
   "outputs": [],
   "source": [
    "#!pip install selenium"
   ]
  },
  {
   "cell_type": "code",
   "execution_count": 4,
   "metadata": {
    "id": "CNdy9c7U-kvo",
    "outputId": "38d4d3b7-0b1a-46a4-b2fc-6a4e2d79a399"
   },
   "outputs": [
    {
     "name": "stdout",
     "output_type": "stream",
     "text": [
      "1.크롤링할 키워드는 무엇입니까?: 홍대 맛집\n"
     ]
    }
   ],
   "source": [
    "# 검색어, 검색 기간 정의\n",
    "query_txt = input('1.크롤링할 키워드는 무엇입니까?: ')"
   ]
  },
  {
   "cell_type": "code",
   "execution_count": 5,
   "metadata": {},
   "outputs": [
    {
     "data": {
      "text/plain": [
       "'홍대 맛집'"
      ]
     },
     "execution_count": 5,
     "metadata": {},
     "output_type": "execute_result"
    }
   ],
   "source": [
    "query_txt"
   ]
  },
  {
   "cell_type": "markdown",
   "metadata": {
    "id": "MniuiSeb-kvp"
   },
   "source": [
    "# 1. 크롤링할 블로그 url 수집하기"
   ]
  },
  {
   "cell_type": "code",
   "execution_count": 7,
   "metadata": {
    "id": "Bqoa7llc-kvp",
    "outputId": "f084e7cc-ac2e-40ff-a65e-bd6a42bc279e"
   },
   "outputs": [
    {
     "data": {
      "text/plain": [
       "'/Users/aiden/Dropbox/Mac/Desktop'"
      ]
     },
     "execution_count": 7,
     "metadata": {},
     "output_type": "execute_result"
    }
   ],
   "source": [
    "pwd"
   ]
  },
  {
   "cell_type": "code",
   "execution_count": 5,
   "metadata": {
    "code_folding": [],
    "colab": {
     "base_uri": "https://localhost:8080/",
     "height": 239
    },
    "executionInfo": {
     "elapsed": 5,
     "status": "error",
     "timestamp": 1622793307717,
     "user": {
      "displayName": "Hyeok Lee",
      "photoUrl": "",
      "userId": "09184002132621914803"
     },
     "user_tz": -540
    },
    "id": "buplEXzx-kvq",
    "outputId": "11751daa-2f59-4a1d-d6a7-ca9282d20c33"
   },
   "outputs": [],
   "source": [
    "options = webdriver.ChromeOptions()\n",
    "chrome_path = chromedriver_autoinstaller.install()\n",
    "driver = webdriver.Chrome(chrome_path, options=options)\n",
    "\n",
    "# 사이트 주소는 네이버\n",
    "driver.get('https://search.shopping.naver.com/search/category/100002381?catId=50001092&frm=NVSHCHK&origQuery&pagingIndex=1&pagingSize=40&productSet=checkout&query&sort=rel&timestamp=&viewType=list')\n",
    "time.sleep(2)  # 2초간 정지"
   ]
  },
  {
   "cell_type": "code",
   "execution_count": 7,
   "metadata": {
    "code_folding": [],
    "id": "uiwhXvob-kvq"
   },
   "outputs": [],
   "source": [
    "# Step 2. 네이버 검색창에 \"검색어\" 검색\n",
    "element = driver.find_element_by_id(\"query\")\n",
    "element.send_keys(query_txt)  # query_txt는 위에서 입력한 키워드\n",
    "element.submit()\n",
    "time.sleep(1)"
   ]
  },
  {
   "cell_type": "code",
   "execution_count": 8,
   "metadata": {
    "code_folding": [],
    "id": "uiwhXvob-kvq"
   },
   "outputs": [],
   "source": [
    "# 'VIEW' 클릭\n",
    "driver.find_element_by_link_text(\"VIEW\").click( )\n",
    "time.sleep(1)"
   ]
  },
  {
   "cell_type": "code",
   "execution_count": 9,
   "metadata": {
    "code_folding": [],
    "id": "uiwhXvob-kvq"
   },
   "outputs": [],
   "source": [
    "# '블로그' 클릭\n",
    "driver.find_element_by_link_text(\"블로그\").click( )\n",
    "time.sleep(1)\n",
    "\n",
    "# '옵션' 클릭\n",
    "driver.find_element_by_link_text(\"옵션\").click( )\n",
    "time.sleep(1)"
   ]
  },
  {
   "cell_type": "code",
   "execution_count": 10,
   "metadata": {
    "code_folding": [],
    "id": "X537FPoE-kvq",
    "outputId": "2e7df665-1fd7-4fd0-dcc9-65b6a12c7a6d"
   },
   "outputs": [
    {
     "name": "stdout",
     "output_type": "stream",
     "text": [
      "전체\n",
      "블로그\n",
      "카페\n",
      "관련도순\n",
      "최신순\n",
      "전체\n",
      "1시간\n",
      "1일\n",
      "1주\n",
      "1개월\n",
      "3개월\n",
      "6개월\n",
      "1년\n",
      "직접입력옵션펼치기\n"
     ]
    }
   ],
   "source": [
    "# 검색옵션 확인\n",
    "item_li = driver.find_elements_by_css_selector('.option .txt')\n",
    "\n",
    "for i in range(0, len(item_li)):\n",
    "    print(item_li[i].text)"
   ]
  },
  {
   "cell_type": "code",
   "execution_count": 11,
   "metadata": {
    "id": "YNdHtrki-kvr",
    "outputId": "e7fde35f-3b2b-4cde-a4f6-006975ff383c",
    "scrolled": true
   },
   "outputs": [
    {
     "name": "stdout",
     "output_type": "stream",
     "text": [
      "3개월\n"
     ]
    }
   ],
   "source": [
    "# 검색기간 '3개월' 클릭\n",
    "print(item_li[10].text)\n",
    "\n",
    "item_li[10].click()"
   ]
  },
  {
   "cell_type": "code",
   "execution_count": 6,
   "metadata": {
    "id": "OyFhrsrA-kvr"
   },
   "outputs": [],
   "source": [
    "# 스크롤 다운\n",
    "# driver.execute_script(\"window.scrollTo(0, 500)\")\n",
    "# time.sleep(2)\n",
    "\n",
    "# 스크롤을 밑으로 내려주는 함수\n",
    "def scroll_down(driver):\n",
    "    driver.execute_script(\"window.scrollTo(0, 19431049)\")\n",
    "    time.sleep(1)\n",
    "\n",
    "# n: 스크롤할 횟수 설정\n",
    "n = 3\n",
    "i = 0\n",
    "while i < n: # 이 조건이 만족되는 동안 반복 실행\n",
    "    scroll_down(driver) # 스크롤 다운\n",
    "    i = i+1"
   ]
  },
  {
   "cell_type": "code",
   "execution_count": 7,
   "metadata": {
    "id": "35cdGv2g-kvr",
    "outputId": "b04e2570-7061-4bc9-fdaf-d0862d6d2e7e"
   },
   "outputs": [
    {
     "data": {
      "text/plain": [
       "<selenium.webdriver.remote.webelement.WebElement (session=\"e55137b5e8953db27dd99240806e5849\", element=\"8f5f64c9-cc4e-4570-9ae2-a28abd0bfc0f\")>"
      ]
     },
     "execution_count": 7,
     "metadata": {},
     "output_type": "execute_result"
    }
   ],
   "source": [
    "# 블로그 글 url들 수집\n",
    "url_list = []\n",
    "title_list = []\n",
    "\n",
    "# URL_raw 크롤링 시작\n",
    "articles = \".basicList_link__1MaTN\"\n",
    "article_raw = driver.find_elements_by_css_selector(articles)\n",
    "article_raw[0]"
   ]
  },
  {
   "cell_type": "code",
   "execution_count": 8,
   "metadata": {
    "id": "lS4BWdhY-kvr",
    "outputId": "325f828f-c25d-46e4-89d2-df3cdf39dc3d"
   },
   "outputs": [
    {
     "data": {
      "text/plain": [
       "'https://adcr.naver.com/adcr?x=3tItLbCrm2Z+wf8xVADXj////w==kwlyIWaJhY9MhI6Vfnxb1vNcg30cOYp9U74hRzBd9dmFpyblYAwDkpNJhloyN9CUUEqGHn4hPDyTz1HYw9dmKlkSLbn0ME6sQ3DY/gp5nBVCw2hFyP5H/TbD6nou7mqzA8Ykc9R4oeAARJjU+5MqAlk2PTGtdhQWkQicdMoFp1OzdO5LLY5OXA3kKf81NLk9AkRQX29TQ/YDV+p3/Ys148DORmk53NS64gjKMxZs5JClRl3qL222+8zhOup5TdoFllkNZGTLg7CNTr4URtpK/N2H0JpyUjsYYq0GPc7UnAbI9V6mi4SpUjbN4JuYljawMteDcEupRxYPO7DjIGawAjTNASGlgCwalDrZvVEa63SpltuvGDElIhDuzs30pjh7JyDOmANbubTnqq7WdLTZku4VAkudODcgTfc0WyPcSGidPu9zHEPssiHSgbhSo5N8cE+VNULSZAvkSeBcAKQpDiFA17nj57aOgNiJL9iOZIan2ehmZPMwPge4jhMn9CQ1z+yZNcKKcS3zU7vvOlDoPLdXC/eaYpkkIhKBf3p9aA5ZL9K1XzfNvyHjtK9IS3AJxOb1OatxQ5vD8OAPzbd81oh/E8aSYXuAPvYUyXXoFYtkGGzjw5eN73njRDm74fJ3T4GLvIJB38uXdq6HV2PqxHsePasXoq7IUeVeZMF8kUbcDilcXN2bMwoq3xprVm5bpjd0xrCkCSo0Q1qiZt+n7MCZGYei+W/tuLz+URPC0XWO3zDD6YtwgXwHXcm8HNQWgEBk0Fhss6eD9ln4ZAXljoJEpEjM3Hdz0lSIdtaSPVvEyhssp4oEDSvvQmYTjq0rCyXxvNZuC+bkEngz4Ba6V0OlVS9GV3VEQxGIXtiMZbYICDZ2qTPVVlDkF2PJ4XSwz7KZ2DHc3S1wKf+A7MQliK1Yvcq6oqvRYakNuClTf+ri5DMP2ZrDQQF6v/XeiJqnw83SYuMPSlfAbwKrbK+SxVP2yfuy3KDWwe0BFRlRlJq4N4/X8uio5UE5IbgPt+3mhjbz9F5v6PkyxxrRxacKVnjhUxD+7vmS2dFi7VIgcGl0='"
      ]
     },
     "execution_count": 8,
     "metadata": {},
     "output_type": "execute_result"
    }
   ],
   "source": [
    "# 첫번째 글의 url 확인\n",
    "article_raw[0].get_attribute('href')"
   ]
  },
  {
   "cell_type": "code",
   "execution_count": 9,
   "metadata": {
    "id": "c4oJ0A0S-kvs",
    "outputId": "bd3015c2-0b1e-472e-f2a5-1df89f81cf67",
    "scrolled": true
   },
   "outputs": [
    {
     "name": "stdout",
     "output_type": "stream",
     "text": [
      "[네이버 전용]종근당건강 아이클리어 루테인 지아잔틴 10박스(10개월분) 눈영양제 식물성캡슐 차인표 루테인\n",
      "[3+1] 5:1비율 뉴트리코어 루테인지아잔틴\n",
      "뉴질랜드 라이프스팬 초록입홍합 오일추출 25000mg 120캡슐 푸른입홍합녹색그린\n",
      "뉴트리원 정우성 루테인 지아잔틴 164 3박스 3개월분\n",
      "닥터머콜라 퀘르세틴 케르세틴 프테로스틸벤 어드벤스 약들약 추천 60 180캡슐\n",
      "정우성 유기농 밀크씨슬 2박스 2개월분 실리마린 간영양제\n",
      "종근당건강 조인성 프로메가 알티지 오메가3듀얼 (3박스,3개월분)\n",
      "연세 루테인 플러스 연세대학교 연세생활건강 4개월분\n",
      "1+1 쏜리서치 SAT 60캡슐\n",
      "뉴트리모어 액티브 엽산 400 800 임산부영양제 활성 활성형엽산 450mg x 60정 2개월\n",
      "4개월분 4세대 활성형 활성엽산 리노브 액티폴릭 임산부 엽산 영양제\n",
      "모유유래 bnr17 유산균 락토바실러스가세리 비에날17 다이어트 갱년기 영양제 yt1 비에날씬 여성 질 lgg 프로바이오틱스\n",
      "뉴트리원 정우성 유산균 프로 프리 바이오틱스 3박스 3개월분\n",
      "베이비락 이산화규소없는 유아 아기 유산균 아연함유 2개월분 신바이오틱스 신생아 어린이\n",
      "유유제약 프리미엄 달맞이꽃종자유 감마리놀렌산 950mg 효능 효과 영양제 생리\n",
      "종근당건강 조인성 프로메가 알티지 오메가3 듀얼 1박스\n",
      "비타슈넬 식물성 캡슐 알티지 오메가3 2박스 2개월분\n",
      "덴마크 유산균 이야기 12개월분 프로바이오틱스\n",
      "피에이치365 킹 프로바이오틱스 베이비 아기유산균 신생아 모유 프롤린 영양제 돌\n",
      "캐나다 더리얼 알티지 오메가3 맥스1400 초임계 식물성 장용성 임산부 epa dha\n",
      "킹 프리미엄 생유산균 신바이오틱스포스트 모유 바이오틱스 프롤린lgg 키즈아기 여성질락토핏\n",
      "트루포뮬러 비아노스 (전립선 건강의 유지에 도움)\n",
      "닥터스베스트 MSM 식이유황 1500mg 120타블렛 옵티 Opti 엠에스엠 닥터베스트\n",
      "버블레스 렐리시 여성 아연 질 유래 유산균 프로바이오틱스 30포(1개월분)\n",
      "덴마크유산균이야기 4개월분 60캡슐 2박스 3세대 LGG유산균 시즌3\n",
      "종근당건강 락토핏 5X 생유산균 코어(6통,12개월)외 골드 로얄 맥스\n",
      "[공유 유산균] 덴마크 유산균이야기 3개월/(30캡슐X3BOX)\n",
      "CG땡 프테로스틸벤 50mg 30 / 180베지캡슐\n",
      "유유제약 인사맥스 4개월 치아 형성 필요한 칼슘 보충용 영양제-품-옵션 잇몸 과학 치 약\n",
      "트루포뮬러 위톱 (위 점막 보호 위건강에 도움)\n",
      "쏜리서치 기초영양소 종합비타민 60캡슐\n",
      "담백하루 초임계 알티지 오메가3 1000 180캡슐 6개월 6박스 비타민D600IU 에센스\n",
      "[박스패키지]유한양행 유한백수오 골드 180정(3개월분) 여성 갱년기 영양제\n",
      "종근당건강 조인성 프로메가 알티지 오메가3 듀얼 1박스\n",
      "여성 유산균 자로우 펨 도피러스 60캡슐 프로바이오틱스 락토바실러스 [ 품 질 보 증 ]\n",
      "유한양행 유한 코엔자임Q10 4개월분 120캡슐\n",
      "캐나다 3세대 알티지오메가3 rtg오메가3 EPA DHA 1200 비타민D 초임계 식물성\n",
      "애터미 헤모힘 20mlx60포(당일발송) 효능 면역기능 개선 1개월 분\n",
      "[공유 유산균] 덴마크 유산균이야기 1개월/(30캡슐x1BOX)\n",
      "닥터 메르콜땡 퀘르세틴 프테로스틸벤 60정 180정 고약사 Dr Mercol땡\n",
      "닥터린 초임계 알티지오메가3 1박스 송중기 rTG 오메가3\n",
      "남진 쏘팔코사놀 1000 4개월 + 10일분\n",
      "에스더포뮬러 울트라 플로라 클래식,블루 60캡슐,여에스더 유산균 화이트 30캡슐\n",
      "진센큐 뇌 건강 기억력개선 치매영양제 4개월분\n",
      "초임계 루테인 아스타잔틴 눈에 좋은 영양제\n",
      "[프로바이오틱스] 덴마크 유산균이야기 8개월분\n",
      "유한 엘레나 여성 질유산균 2개월분 유한양행 질건강 기능성 UREX 소이현 유렉스유산균\n",
      "지성 관절엔 콘드로이친 1200 900mg x 60정 1박스\n",
      "헬스업 뉴질랜드 초록홍합 오일 그린머슬 15500 초록입 초록잎 홍합 180캡슐\n",
      "나우푸드 호팍사 피크노제놀 100mg 60정\n",
      "뉴트키즈철분 어린이 아기 키즈 유아 철분제 영양제 30포(1개월분)\n",
      "[이지드롭] 액상 바이오가이아 아기유산균 비타민D 10ml 2개\n",
      "덴마크 유산균 이야기 12개월분 시즌3 공유 LGG 유산균\n",
      "닥터프로그램 임산부건강설계 마더스케어 올인원 플러스\n",
      "히말라야 파티스마트 3박스 75캡슐 인도 partysmart 3box\n",
      "4세대 모유 포스트바이오틱스유산균 종근당 락토바실러스 lgg 유산균\n",
      "종근당건강 조인성 프로메가 알티지 오메가3 듀얼 60캡슐 초임계 오메가3\n",
      "쿠바산 레이델 폴리코사놀10 10mg 180정 6개월분\n",
      "브로세틴 고함량 퀘르세틴 브로멜라인 프로폴리스 아연 비타민p\n",
      "종근당건강 프로메가 알티지 오메가3 듀얼 12개월\n",
      "케어가든 콘드로이친 2박스 3개월분 효능\n",
      "여성 유산균 자로우 펨 도피러스 10억 50억 30/60 캡슐 [배 송 품 질 보 증]\n",
      "알티지 rTG 오메가3 메타 엔초비 EPA DHA 2박스 총 6개월 180캡슐\n",
      "진센큐 120정 은행잎추출물 나토키나제 기억력 뇌 혈액순환 개선 영양제\n",
      "[네이버 전용]종근당건강 아이클리어 루테인 지아잔틴 10박스(10개월분) 눈영양제 식물성캡슐 차인표 루테인\n",
      "CG땡 캘리포니아골드 프테로스틸벤 50mg 180정 베지캡슐 2통 고약사\n",
      "종근당 프로메가 오메가3 듀얼 트리플 알티지 RTG\n",
      "사노핏 사과초모식초 애플사이다비니거 유기산 복합체 당독소 60정\n",
      "뉴트리코어 맥스 글루타치온 9.05g x 120매\n",
      "쏜리서치 1+1 기초영양소 60캡슐 종합비타민 투퍼데이\n",
      "슈퍼프리 생유산균 모유프롤린 lgg 신바이오틱스 포스트 낙산균 바이오틱스 락토핏키즈 아기\n",
      "쏘밍 네이쳐스그린웨이 호주 고함량 프로폴리스 스프레이 30ml\n",
      "드시모네 유산균 베이비 키즈 캡슐 어린이 성인 유산균 아기 신생아 유아 임산부\n",
      "[THORNE] 쏜리서치 글루타치온 60 캡슐 Glutathione-SR SA540\n",
      "SR 스포츠리서치 오메가3 rTG알티지 1250mg 180젤 90젤 30젤 EPA DHA 트리플스트렝스 알래스카오메가3 피쉬 오일 오마비\n",
      "속편한에센셜 위건강 위에좋은영양제 헬리코박터균\n",
      "엘나스 긴장완화 영양제 알파파 테아닌 스트레스 건강기능식품 L테아닌\n",
      "히말라야 숙취해소제 함량 2배 모닝컴스 세트\n",
      "[4+4] 초임계 추출 알티지(rTG) 오메가3 닥터린 / 8박스\n",
      "린 LEAN / 체지방감량 다이어트보조제 가르시니아 카르니틴 카테킨 CLA /그린커피빈 /한달분 30일 분\n",
      "뉴트리모어 4세대 활성 활성형 액티브 플러스 엽산 400 800 임산부영양제 1개월분 Quatrefolic\n",
      "우리아이유산균드롭스플러스D 닥터바이오D 신생아 돌 아기 유아 어린이 액상 유산균 비타민디\n",
      "뉴트리코어 브라질 그린 프로폴리스 NCS SIF인증\n",
      "미국 쏘팔메토 전립선영양제 옥타코사놀 소변자주마려움 1300mg\n",
      "[정식수입] 바이오가이아 프로텍티스 이지 드롭 프로바이오틱스 +비타민D 10ml\n",
      "포베라 아이맘 프로바이오틱스 베이비 아기 신생아 유산균 비타민D 함유\n",
      "\n",
      "url갯수:  86\n",
      "title갯수:  86\n"
     ]
    }
   ],
   "source": [
    "# 크롤링한 셀레늄 덩어리(객체)인 article_raw에서 get_attribute 함수를 이용해서 \n",
    "# url 추출(href 속성값만 뽑아내기)하기\n",
    "for article in article_raw:\n",
    "    url = article.get_attribute('href')\n",
    "    url_list.append(url)\n",
    "time.sleep(1)\n",
    "\n",
    "# 제목 크롤링 시작\n",
    "for article in article_raw:\n",
    "    title = article.text\n",
    "    title_list.append(title)\n",
    "\n",
    "    print(title)\n",
    "\n",
    "print(\"\")\n",
    "print('url갯수: ', len(url_list))\n",
    "print('title갯수: ', len(title_list))"
   ]
  },
  {
   "cell_type": "code",
   "execution_count": 10,
   "metadata": {
    "id": "R2yjlm_5-kvs",
    "outputId": "efd2bab6-67e5-4d04-d826-4f878de28658"
   },
   "outputs": [
    {
     "data": {
      "text/plain": [
       "['https://adcr.naver.com/adcr?x=3tItLbCrm2Z+wf8xVADXj////w==kwlyIWaJhY9MhI6Vfnxb1vNcg30cOYp9U74hRzBd9dmFpyblYAwDkpNJhloyN9CUUEqGHn4hPDyTz1HYw9dmKlkSLbn0ME6sQ3DY/gp5nBVCw2hFyP5H/TbD6nou7mqzA8Ykc9R4oeAARJjU+5MqAlk2PTGtdhQWkQicdMoFp1OzdO5LLY5OXA3kKf81NLk9AkRQX29TQ/YDV+p3/Ys148DORmk53NS64gjKMxZs5JClRl3qL222+8zhOup5TdoFllkNZGTLg7CNTr4URtpK/N2H0JpyUjsYYq0GPc7UnAbI9V6mi4SpUjbN4JuYljawMteDcEupRxYPO7DjIGawAjTNASGlgCwalDrZvVEa63SpltuvGDElIhDuzs30pjh7JyDOmANbubTnqq7WdLTZku4VAkudODcgTfc0WyPcSGidPu9zHEPssiHSgbhSo5N8cE+VNULSZAvkSeBcAKQpDiFA17nj57aOgNiJL9iOZIan2ehmZPMwPge4jhMn9CQ1z+yZNcKKcS3zU7vvOlDoPLdXC/eaYpkkIhKBf3p9aA5ZL9K1XzfNvyHjtK9IS3AJxOb1OatxQ5vD8OAPzbd81oh/E8aSYXuAPvYUyXXoFYtkGGzjw5eN73njRDm74fJ3T4GLvIJB38uXdq6HV2PqxHsePasXoq7IUeVeZMF8kUbcDilcXN2bMwoq3xprVm5bpjd0xrCkCSo0Q1qiZt+n7MCZGYei+W/tuLz+URPC0XWO3zDD6YtwgXwHXcm8HNQWgEBk0Fhss6eD9ln4ZAXljoJEpEjM3Hdz0lSIdtaSPVvEyhssp4oEDSvvQmYTjq0rCyXxvNZuC+bkEngz4Ba6V0OlVS9GV3VEQxGIXtiMZbYICDZ2qTPVVlDkF2PJ4XSwz7KZ2DHc3S1wKf+A7MQliK1Yvcq6oqvRYakNuClTf+ri5DMP2ZrDQQF6v/XeiJqnw83SYuMPSlfAbwKrbK+SxVP2yfuy3KDWwe0BFRlRlJq4N4/X8uio5UE5IbgPt+3mhjbz9F5v6PkyxxrRxacKVnjhUxD+7vmS2dFi7VIgcGl0=',\n",
       " 'https://adcr.naver.com/adcr?x=++KJ6bPuBk25jS+VjLZiHf///w==ktpwbamjb51XxEBy9QkTmURZ7zZOoHROiGZlKRv1TaoblHlJ0Dnwnrh/emH2PbKdR7kdD4XyYAIc/HZfdmNTBq+7+PDG3deiqXljyU4/dct9xosdMt6XJ66QTsOOZg0zgdInWLnY+XccT/lh0oTWsstuNlGueEAUSLXRYsJFvkT3G+aVX7r0KNw1CKD0B6Tua7mJAKqkqeOGCyY2suRnB/t8PdeSIUBhxA+5IZnHTCxuIxRCYWv/m/jWj+0gF5sy5+JPSi41BOd1mlDY/n492v5Ax87LEfNWLWKZ1sMCJNFiVigp9MuPfTw9Tsvd3NozH9pbLIFTxJUj/ODo03uzRoeeGz6s5xyh/H589I3DpKVEUQFMG6RBl6OQzgH52cn2iagqBEGXvaUFstvJl12NCr82GxLvRJP+h7nNjNEbps54mWU+YUbKUvPcNkU8EgJb460piBmBYNhBLDs9GLLzdDulGpGnEg0cYfMgMTkavGhgu4Kdy3YjYBFivZzCqbMHCGkVeDFgOovieEcmPe2X9DYIxE6Hhqm4nCOEIqkIZGdit7P0mRLLH+CuEeG9elomNUWP0NzKtn3yjuavmGOWUKCwJPAlTP35GGk761p6P0zAqtNVHAi0x2GBT0W+TU0T6d/K1m8W7YrhGicZ/az3DXEtzsz+olFKT773H2KxpU+GUaldrjlWe2RfdDsGTzkEORxp+wl9BG/9v/cHhreKbaLpGbVD20EQs5OxCOHeluToE2W8AALzm6sFuCS5RdGs2CjJGc8AihfuQ8UZy+ki/DT0s6NIP2g2cUjA4M51zNVf5hqhZX4j8SgllZE2eE49zM8wRhk8rdqftICHykIYiIVOGruqpq+MPUJ2oYmNlsh/vxzbpMnjfd8fqD8xuzGVYIPVllcZJJLEqdYIfm34a1ILRaDo9avARTTQdBOdpEcbWpMZXnHwnidJ9m1RltehK+5Moc76yGUAQHo6JaKTaocNQlKyU2PRzkjIJbT17RkxdAOUy8n5wVI9HKphknX0jyyLpr6yqgXnODOSoR2ZtKA==',\n",
       " 'https://adcr.naver.com/adcr?x=MaspD5RFxKY+b5xPYduZ4////w==kznWgCpl9mfsKTKsnGdMCVxeTS+7O6yV8lSyxD7Iu4DpR5leiyfypyxpc9xP0RMsnq6Y1ebJnuU3blJAI2W3Sqfyr/tiOBW06ehjdd08LMyYKDgn0X3ZUsSwb0gRGEgdVvSbCFrm35FCUyx8rYWos2rDh+EgSMh/Z3RZkKMb/lh9q48BUpsknqLSKmLsDJ/OHqhN7O9JzAFSQbkwnNMvxkp2g/6/oDfJevtsDa6wfdt8yOgsY4A6cxouDdWp2CuHCgMn4It085GbvPCIwSGBZ/GseDxSeBXSQqJdyDKSVkTG04msFAkio+/yUSm4r2Xt7V/q9PUTzOUQ38M62RqpqsQkDpW64Vp1h4jkv/fKF5++FzCjhzuDgcYk2b3cHP8Wnm7tPHnYkScIHyZCLwMN9YxNIfiDQmyW9G9p2T8csdwd78+TZ1IloBnMe1Hkct09zqlIGe+9vOnG8lV3Elqtk18ZSkW6m38bywiAynXVEdiIuyaZbyvrzZUSC3y3Pb2z5LV2lXazdiqLpXiRfdrwdqFdGVV2ryHVEcC8bElX4c3Cy/4CqwaIrpnmq5HD283HMWUSbhdL9EKEtQLn2o/T3nh6Jm01wBf++KXlWEcRGuoqmUb2fSfjFdrZb1r9yD+zfNZiQI6w60MqrCxJaYrFShMuGOZD36GFWsCCUxp4uzHdeDFxyZW7OsQr0+9ZTX9m2wMQlqp8pKgab8pQt/MNx49uRvPBf3Nan/1C/AXlrl1TNymIy5t15uzj7H4Nc8lIdH+KUt6DgrxPSIe1ahgLuC+VO1ikkSOpymR3yiOSSqEg92AUyzCqBs2ygH10eG10TMSIA6omUQu9lpBm4zIGCqtSIWkyCMYjZ6YratitilMymDmFWWtnX1ys+orbl31Q1lAiyNADRenMYulWFj0R546itveQWYsAuDws7tSUj1nIq/9gCqKHY2OwZhnHzkgbMLWGSNJx7C/g5blO3eWawwZi9jUgkwjk2pItxbn06O8zsfaqTAn9icvd9ij8q9iogWAE7NIbzNSWhpat2KSEH6Q4m10XXdN5eU9K5CRtwNSXpTDQ8erZ97OqEw9bmb1Md',\n",
       " 'https://cr.shopping.naver.com/adcr.nhn?x=9102zHjr30NjcTrc77RhCP%2F%2F%2Fw%3D%3DsZFwhteWGc7FuAoDiUB60TdFPues8VodEeyHCPJsluY32uU954Tfii0YBnSiNYqiaan7%2F1g4uVdx1TrWJNTCANsv%2BjB2erv%2BZ%2Brrs5VHOiTT%2Fs8htyn7qbZ155SxFlMX4%2B5YUgfaqE1gqeQGsdxtGPRxsLAiRnnX9rZs%2FpDkcylAJ6xCnO77nbWoZVG2IRPky4HL5kRY67kNrzih5Se6YE0S%2BortKzfQDWBF5GV%2FKfqEhJv3ljJo79VVIpj6%2Fm3WO8Gd5g0uqYFHhbaqZjShT9azxJZqgqyth26ArRIZLXxHL%2Fowdnq7%2Fmfq67OVRzok0S5SJNLgIdS1XFCtZ5GETGHmu991BsHBmNiXgngtK1sOVViLs9AMfTtKVdw0OlnXh2R9%2FcykJH1r9Jdg4X2I5JftPy%2Fbb7CeLO6j%2BqybmzGV%2B2QVJcQBWLXdM17QpAEFqzfNVo1KcSVSazeZg7M%2BAaWqjM1L0qxITFvdo%2FNxWEmFj1ud05TqeYfQIT1d5GC6Ui%2FVypb6wuWxfuE3k5sXhXlcSjuY65QiX%2FNFsdLvyD6DXb0jyn4uKTlvxbRptvLvJcWE84X1s7J8VekxjlnFaMRjfkF3tVbmzAxJMBlJowJhcWic1xGs%2F9BuQrX5QL9%2F0zToR5DgxdXga0fvKfiNoo3WNdXXg0FR3LRHDu5C1E1wtmnBHZupnS6aqMFuf7IQO&nvMid=81402911643&catId=50002608',\n",
       " 'https://cr.shopping.naver.com/adcr.nhn?x=Q%2BZ28cyFieqK6ORQi%2BF71P%2F%2F%2Fw%3D%3DsQSEvTf6aGXQWUCDKcLBrwGYVBxRAH5XfrmMVjok6Qo72LhoOlRxEyVNG2tGcopTgTZjQFXahqtE1UOVsEbtecMv%2BjB2erv%2BZ%2Brrs5VHOiTT%2Fs8htyn7qbZ155SxFlMX4%2B5YUgfaqE1gqeQGsdxtGPRxsLAiRnnX9rZs%2FpDkcylAJ6xCnO77nbWoZVG2IRPky4HL5kRY67kNrzih5Se6YE0S%2BortKzfQDWBF5GV%2FKfqEhJv3ljJo79VVIpj6%2Fm3WOVPJAMX9wXlOTY0VeLffm46zxJZqgqyth26ArRIZLXxHL%2Fowdnq7%2Fmfq67OVRzok0S5SJNLgIdS1XFCtZ5GETGHmu991BsHBmNiXgngtK1sPGLETAmDTi7lWWxrpBUQcYMS4EgFFbBUCN%2Bb%2Bop0VodYEWpsMiDK17vNY1xbgKYoQEMXeyz1025H245%2BYrSw3jsv4Pv0kWpdQcKGzAgoBrl1U0t%2F80QMW71IivRzx1Cf2Zeyw2DApBRJeIPPI8sYDG8F0BvitZn%2B6ZD3Yk0nF840gFwBFkMGGDhkslpUhUSYJ62I0HdSPcOvuyrrPD2v0n%2FvR%2FMltNelXUtX8qZUrN8S9PE4mNH8T27FCnmpu4fOltvcKOgj1jQMwa63Akd8Dc%2FJiBieWcihCN4%2FaAb8%2ByBPoLbWPIIzzahtrKB8MbdBMqU9Fjs9UShRw2Ez6rfygdCJwf7luxTRfoCZX4QV5iyWU4uCjkToMEWS16aBzeGtk%3D&nvMid=84410093812&catId=50002615',\n",
       " 'https://cr.shopping.naver.com/adcr.nhn?x=oYyOBBI%2FfgH0cYRmcYlwPv%2F%2F%2Fw%3D%3Ds8edyEMMxPYCFJvwqgDUHCIe4xTARgRCjAfIEwogem7gChTf%2Bf4tMx9LpmsFHjskmIxBoSNnW71KZnJUgEgCu%2BN9%2BKy%2Fm0d%2BgYWHtEf61Jo4hrX7i8ROREiNblWok2%2BM4oYeAqlreQxCn%2BOAbX6Xeh4bAVENK%2BFPgE%2BceEuRoIyzYp8WJRFHs29SbR36Di8MSH%2FTL4BWKrWRB6Z%2FuixYU38mscUZuB%2FB3GA4tAdwd4kJn0E%2B7lsL8Xc%2FJzL4VwihdxUGVURuC994m1QQ2hbbu0k8%2FzrHmea%2BijwTq4TEcsXLffisv5tHfoGFh7RH%2BtSaOAFJNLWxG%2Fj2gEfGb7GroeJYon82LnxeOQ%2FLYJl5%2FRKInitO4OTz6ODwtFdtrOLq0K3Ta0gjSRE8PwqSft4XEht5dl4zROLCHn0TknkqwGrff8WesiSmorC8%2FE3oap5jfPl%2BjLMiL5j1tU27P3jrrlT1G7Fo12Tw2SKU00hqKg%2BA4jo7nRtxHBbtyW5y9Hg5MPjMPYlPIJNinGpMXUOLJy0rVgRTamUpMxgBJvsg51gEQPRoCI0IcTUDSBPV9Pj5WDzh58854KVLygB6gW3tNUwHjWmWHt9FCkH%2FGwGVr6apRoANVGfoPyEdeu1a1gKMjyn6%2B7bAfZ4o%2BwCB4zB2moe26Ub2rMwbhEAOOqa6k%2B4NxsiGeHNNP%2FFK%2BqsocGKBcpfCjQTTDsASjlKIoyTvnQA%3D%3D&nvMid=83080921196&catId=50007031',\n",
       " 'https://cr.shopping.naver.com/adcr.nhn?x=VW0eYM79nOPY9w8UoA03Vf%2F%2F%2Fw%3D%3DsAfL%2F4Kf515METF4otDALju9i9Pb3v%2B9LIQ%2FB80sl2lAr1%2F9bBSsLFPuxBXHg091rY7zr1%2BMgpUQexG39aLvKLMv%2BjB2erv%2BZ%2Brrs5VHOiTT%2Fs8htyn7qbZ155SxFlMX4%2B5YUgfaqE1gqeQGsdxtGPRxsLAiRnnX9rZs%2FpDkcylAJ6xCnO77nbWoZVG2IRPky4HL5kRY67kNrzih5Se6YE0S%2BortKzfQDWBF5GV%2FKfqEhJv3ljJo79VVIpj6%2Fm3WOearLbmQNmk1s%2FQuLT3TABazxJZqgqyth26ArRIZLXxHL%2Fowdnq7%2Fmfq67OVRzok0S5SJNLgIdS1XFCtZ5GETGHmu991BsHBmNiXgngtK1sM4QL%2BRWiZH4y%2FanGoyBQth01uq8sLGZ4Nk0CMcR3gebu5UO2B9WzGuN%2B%2FtZas7Spzhldx1TgiV%2F5eZgk3xPvmUzfNVo1KcSVSazeZg7M%2BAaRHChK0hVuxMHV7GN5ksZx4NU5YxntePvSrGPF4PAgzbdx3g0uozijYxl4beLdMy%2Fti0xWtjMDY7%2BkS5VLCPrWk%2FlcQph7YLdfC9Yw5J3pdo7Pl2%2FSr657gRTedfZlldmDfrgcROiPkIzbASfmKYHxLaisiEHnUyW5%2FJUGUd%2Fo0%2Fd9uqBOuec6JS3XP8L8M53xst3%2FUVehFE2JdW9YOJ01jspWXx76ILfbuKAMgSRdvlB%2F7uqkvurt7iQqfzuqDHPQ%3D%3D&nvMid=82467788801&catId=50002447',\n",
       " 'https://cr.shopping.naver.com/adcr.nhn?x=7mJaHlF%2FjPgulpCTzmrAlf%2F%2F%2Fw%3D%3DsU%2Fk8lctBQVnI1n5EQ27GmVoMkIIdgpzTLxPhCVO4eWHEFbbuMWxcFPRg6cDhA7U4dXFD%2FePVJLf5CYHWohhbAsv%2BjB2erv%2BZ%2Brrs5VHOiTT%2Fs8htyn7qbZ155SxFlMX4%2B5YUgfaqE1gqeQGsdxtGPRxsLAiRnnX9rZs%2FpDkcylAJ6xCnO77nbWoZVG2IRPky4HL5kRY67kNrzih5Se6YE0S%2BortKzfQDWBF5GV%2FKfqEhJv3ljJo79VVIpj6%2Fm3WO1KjLoVI0YNqwAjIv1H6p3KzxJZqgqyth26ArRIZLXxHL%2Fowdnq7%2Fmfq67OVRzok0S5SJNLgIdS1XFCtZ5GETGHmu991BsHBmNiXgngtK1sP4JOf6W8AAgDbZ5CnsBEk%2Bg9g49utUw95yb25WQoHWqftPy%2Fbb7CeLO6j%2BqybmzGUi40zyQGYEVQTbzd78Rn2MzfNVo1KcSVSazeZg7M%2BAaUKWWwNooEfROpP2b%2B2Yij4EAi%2BH5%2BiL%2BNX%2FVbOLe3y7tEWvyqBRuoFQ9zLCcurnz%2B1AH%2FtMIXFG2iECp5l1Yj7fS8T%2FcoiyuDHSA7OCq2%2FiZbLW0gqslV1GIQdG%2FeBpGZDOfraIHx%2F9hujKK7MAkA9GQ9NCX6Qdu%2FNGfK2a9Yhb0oyR79tPEHtlBkyzk3QqL8okjzk6TJfhTjUJgCr5wrVlOLgo5E6DBFktemgc3hrZ&nvMid=84175662044&catId=50002608',\n",
       " 'https://cr.shopping.naver.com/adcr.nhn?x=jAvx5IFqfMbF2XZ1TayA4v%2F%2F%2Fw%3D%3DsSDVOuSNc0GW29XloCJ6hgazQJvO2uB2eTAXyvnqcMfF%2BfcLi%2BQGoPS1JEGfx5ljtSASo8r3erhu0%2FwAK5hTsA99%2BKy%2Fm0d%2BgYWHtEf61Jo4hrX7i8ROREiNblWok2%2BM4oYeAqlreQxCn%2BOAbX6Xeh4bAVENK%2BFPgE%2BceEuRoIyzYp8WJRFHs29SbR36Di8MSH%2FTL4BWKrWRB6Z%2FuixYU38mscUZuB%2FB3GA4tAdwd4kJn0E%2B7lsL8Xc%2FJzL4Vwihd0B4NPbAxNrgjAJSeiaOv608%2FzrHmea%2BijwTq4TEcsXLffisv5tHfoGFh7RH%2BtSaOAFJNLWxG%2Fj2gEfGb7GroeJYon82LnxeOQ%2FLYJl5%2FRKJGmgUsbTfDMbt3rT%2F2zo5Aj51VmhaDY0TatpnZcVE2RlGqyJMprwuEieV8HiAfwN%2BGJZFi7VgifHO9hBpWC147wjCoZ9wC63kSi96LK8yE7MA3OPMM9s%2FGGmNGP5Ib5h7y2JiiCvHIcNUtRDtQtwNzjivDeSnJYHlNKrkbJIjfWDQc0l0SLsuhbtpJmIrLXu2cMV8zwpIl3lk9NNEaTjmnmtXa8WiR1uEj5xcP5mQRQJMZvoK8sNnkVpTcxvBqhdrmIjcXtWMiCxjBN4Nc5dhYpfCjQTTDsASjlKIoyTvnQA%3D%3D&nvMid=82821161557&catId=50002615',\n",
       " 'https://cr.shopping.naver.com/adcr.nhn?x=JxKUiRD8lgYlqH5p41ErAP%2F%2F%2Fw%3D%3DsVqhF1egvb5nZwELPglaUfpLvSYHjhQLKA3Jksa1Up3Zf6oZIHQJ7wW27jJh0w4oUjYuMYauoGf3osLOVy7sWmN9%2BKy%2Fm0d%2BgYWHtEf61Jo4hrX7i8ROREiNblWok2%2BM4oYeAqlreQxCn%2BOAbX6Xeh4bAVENK%2BFPgE%2BceEuRoIyzYp8WJRFHs29SbR36Di8MSH%2FTL4BWKrWRB6Z%2FuixYU38mscUZuB%2FB3GA4tAdwd4kJn0E%2B7lsL8Xc%2FJzL4Vwihdq%2FEF88NFnEzCglXZOdCrY08%2FzrHmea%2BijwTq4TEcsXLffisv5tHfoGFh7RH%2BtSaOAFJNLWxG%2Fj2gEfGb7GroeJYon82LnxeOQ%2FLYJl5%2FRKK8iMPYWGJLrVBSzyDJPbFAJYRfyAyLRWEagrH3kEx5LmHbbaXf3hnVKPBhSrO6MxD5iJGCRnXTXt%2BzQ%2FE9Q80GJ5cr3OxYx7Jp6vOJOeI9GRPvyXZd0RyVpq%2FEDcugTspIVYJ6vR6Ha9AxTZB26GrNbuZ5GNz7tViEjt451hdMsNyfx7cQzZmsUNF8M7jVxKPn03u49yqyFXvw%2FWDxkiW11%2Bu2VD3rdLEeWcAF3rWKk9H%2FtcqgpLsAsPQCfw7uKbOrFia9wZJkwbsjoAEjkJnTKzrz1h5DRUNZiJNReebj7uD9HDmodQgsNSxldSUyo6sUjVRFzO44RG4uajplXIlHX2LdmmQNWqy9GTe9r2EfAAN%2BQsjK6V0FLd%2Fybx7qcuaRtzcktilxqccMRA8RTZ8h&nvMid=83187912006&catId=50002440',\n",
       " 'https://cr.shopping.naver.com/adcr.nhn?x=ndUroQjEBKt4xLo7Pemjj%2F%2F%2F%2Fw%3D%3Ds%2FEFmRvQ3i9G45k7SN0HPgDJ%2BLhMWMDvN3wdSs88gxwNlatuB%2F%2B8yTigLsG7Yvgar6qVQfJTv6TS5FrfyL2keAcv%2BjB2erv%2BZ%2Brrs5VHOiTT%2Fs8htyn7qbZ155SxFlMX4%2B5YUgfaqE1gqeQGsdxtGPRxsLAiRnnX9rZs%2FpDkcylAJ6xCnO77nbWoZVG2IRPky4HL5kRY67kNrzih5Se6YE0S%2BortKzfQDWBF5GV%2FKfqEhJv3ljJo79VVIpj6%2Fm3WOYRNonbNFPRZmNac7KzOJlKzxJZqgqyth26ArRIZLXxHL%2Fowdnq7%2Fmfq67OVRzok0S5SJNLgIdS1XFCtZ5GETGHmu991BsHBmNiXgngtK1sNrlAg8VS1PVaujxyW28RdgZkqHAD8xZJSRAloDDX%2BiRhNpiTDPHzwYG%2F%2Fg7frAUJ8kVtBtX9D%2FtiIMnQB9MUZGfMRYoh5IvyAIaSjSa4hcBFGq3g1piXhOEpUHHb5H6xIDa70mjl3GaT%2FQJNgteUpvkXrMPMRepqoli1FQSmx5cUrFYYyrozyjOOgOHUimRumWTTjP4RFA%2F7jryoE%2FJqn93EWsvdAyu3CQOZ2BkZ6cKasWJr3BkmTBuyOgASOQmdOWy8XqjxR%2Bs0i1kN6CKzx94P0cOah1CCw1LGV1JTKjqy1fy7wEgUkJ%2BJBjbvPFPxYJacHb%2Bj56rrgqhVPr%2FPn%2FA35CyMrpXQUt3%2FJvHupy5pG3NyS2KXGpxwxEDxFNnyE%3D&nvMid=82718563981&catId=50002440',\n",
       " 'https://cr.shopping.naver.com/adcr.nhn?x=%2BUJsJHbF1Dx9yfgMBebb1%2F%2F%2F%2Fw%3D%3DsoKudYzvcbHDk%2Bk4vXeRetdbroKj2Tb8%2BhMKrz%2B8lX7lhsXRvxNp0h4UzEtGjhEFyp3QZG4sXEMz5%2BoxDDT0JD7ngnxQ7ssMZd09T0OjyjIyc8aXVMDAQlaNV07bsUe8retN4AlbPcmwFF0OI05BuhAaZZA5XHyCsRxesnGe3Jlt9mBVFBCUuJi0YGOOkLSjILnyXZpz40F3Zb%2BgW98Q3sGFEV98CfAwi%2FgpsOD1fQ6BauFou6XqHVWbZADh1MXsbVZkyYlLDIjbjSUJujHbglVQNGLtbl9J5Mq3faiCMLQW54J8UO7LDGXdPU9Do8oyMQnQVV1hBbjmfKy8hwM3DJfuWFIH2qhNYKnkBrHcbRj38WmZHW5WMG%2F0eogKBz4%2FrvTC4Dw1t%2FBdG%2BW%2BeLt%2FfbPu%2BJOUT9fF4hiE%2FggQ2gKOZDzTmUTU0F%2BK9YHFRqBn3CojoHTl713ZnE9D1RKsN8ULYFhjSyfacMHGDz4h1eXoqupJJTYIqgKNEPCnJCnj%2F4MWWGFlLy%2FFTjM84fSx68X0TAnQ2V6dUNQkTERd5i2BgwLhpjK9JFTw7Vmiu%2BEk1wmjyaURsbcMnkn4zBIpEaRMgweqg4K8ICUlbuHrYSoQMTzqo7FT3Ic7ct%2Fg9QwhV8nzAlnhGxn6CQcdMmLKxZYP1p44O%2FjnTLqBo3DydZu1BhbkGvFWvrf8I3%2B%2ByUywq2C3NSRRhMMP4SP08ot5GQZhKp5f6t3IcZLQCF40LT6T0UbNk5di1V8jUMbmtHii%2FvFuWXCEHpZmcnjZto8CSmQ%3D%3D&nvMid=83065154470&catId=50007030',\n",
       " 'https://cr.shopping.naver.com/adcr.nhn?x=QUWnQuHzZSk%2BeoyfIvYXSv%2F%2F%2Fw%3D%3DsWlKLhT94lsIP0aOU3DYD0GgFkBlDSdAZW4zpjlOOtYVfKeHXWZc7ROac4a7s1G3%2Bh5pM7hNSOCDk1RkDO4aZwd9%2BKy%2Fm0d%2BgYWHtEf61Jo4hrX7i8ROREiNblWok2%2BM4oYeAqlreQxCn%2BOAbX6Xeh4bAVENK%2BFPgE%2BceEuRoIyzYp8WJRFHs29SbR36Di8MSH%2FTL4BWKrWRB6Z%2FuixYU38mscUZuB%2FB3GA4tAdwd4kJn0E%2B7lsL8Xc%2FJzL4VwihdxRV2wW5ryHG99q%2Bk%2FKJn3U8%2FzrHmea%2BijwTq4TEcsXLffisv5tHfoGFh7RH%2BtSaOAFJNLWxG%2Fj2gEfGb7GroeJYon82LnxeOQ%2FLYJl5%2FRKIktwCkUYoLNA9x2zcFbUslLhU5BABVqSlkStTdnYU8695dl4zROLCHn0TknkqwGrewKJSlZfRn%2BYhbVOLemlv4NvYswhb%2B%2F7JxTudgglck8oY8mQX7e%2BH7jhf%2FK%2Fq8cYGcAhk5Sw7s11WIUF2P35e8RnHPzs8XISVpzYj0eZ%2F%2F%2B%2FYiSwh10Xg3PMv3k9gmhL1FezdaNYV2R0vWXmPWzAeH129I8p%2BLik5b8W0abby7yU0tcxFGN2EWvoCAC74EXbP%2F49%2FomkYm6loC6OHp4pFjXFonNcRrP%2FQbkK1%2BUC%2Ff9L6Un5aw0znn4t%2Be5vBL9m3y204NzleYf6arB1M76NZEDbeiC4B2j1pC5B1tO%2ByeFg%3D%3D&nvMid=82521939667&catId=50007030',\n",
       " 'https://cr.shopping.naver.com/adcr.nhn?x=mBkyLdQgoyyTUKmbDQu%2FEv%2F%2F%2Fw%3D%3DsCnZpKWfbm8WOUCcinwFSKzPPdA9MD22u6o%2F6LgBVH10X%2BpPq%2B1glFDc0dBaYBW92GWyLHDDk%2FZ6xrefPZSXrIN9%2BKy%2Fm0d%2BgYWHtEf61Jo4hrX7i8ROREiNblWok2%2BM4oYeAqlreQxCn%2BOAbX6Xeh4bAVENK%2BFPgE%2BceEuRoIyzYp8WJRFHs29SbR36Di8MSH%2FTL4BWKrWRB6Z%2FuixYU38mscUZuB%2FB3GA4tAdwd4kJn0E%2B7lsL8Xc%2FJzL4Vwihd2XouW1Db1PoBC%2FPeBbbY908%2FzrHmea%2BijwTq4TEcsXLffisv5tHfoGFh7RH%2BtSaOAFJNLWxG%2Fj2gEfGb7GroeJYon82LnxeOQ%2FLYJl5%2FRKI%2Fw81RiEH8pFtvOXUeAyw46emS0vBJsnF4HPMePEQFud5dl4zROLCHn0TknkqwGrdx3v9mxlhTUhVZ%2BZQP4C7Y%2F%2BRHiKIDRUPD6%2F51Rkj9sJEVzUoMp80eD0%2FhjTcySrA9ZsEUfwoODzpAw%2BBjgwsnj6bOXxmZD9FXjJOFchnsyoMiUNIbptF7PR7d%2BFbWuqL5P6dwT2asYb7Vt160NO0DOMqr9oWrolqyfVMG4Ipltf4MXncZmIxHDcU1QTZApEAPNfdZj0rvcv9DltqC%2BjJYLt8HJafX2xG3vTS5rOPr%2B98aYGzPdI2K27NG6p3l29bg%2FRw5qHUILDUsZXUlMqOrCa23RvY0oONiw7sneeZjfyM0pZLJP4ku8vbSb1cskxtvU2Y6hEEwGxc1AZfON9sLGT0HZcA35XudSAuftxLVoA%3D%3D&nvMid=80262306963&catId=50007030',\n",
       " 'https://cr.shopping.naver.com/adcr.nhn?x=aJhfG6rGIY7jz9DMU2OY5%2F%2F%2F%2Fw%3D%3DsnYXIYai4JeOImJCVEgV7wUPCr5xxKP3h5xY7SU%2FpnriLjdAZHwCNU21hmmrQvF4hmfMWwaipOZh2zDDIl9EmFFVd6Z%2BmZ5fvTALbBBPmfKLR71%2BG1mg7pxhejX%2BnHQgT%2F6PZoS2hO1IhfaDXboPaXa9cKRy250NmnWzpLnOWIwwoSy2IdmvdqCNEiI9AEnImfEI2JUoVBDJoE5s%2F%2BxH7%2F8VIhUTYq2J1wF4XcKD2AOWkOA3ZateG%2FY8eKxwX1E0NZUEhGNs%2FekCjV6F3e4KETgesXa4I7qWLE7crrjoJ%2FyxVXemfpmeX70wC2wQT5nyi5pxiwDZPU40LYzhHX%2FcRv6GHgKpa3kMQp%2FjgG1%2Bl3oeWfM%2FhihwpYYbAiVmaxd8mQfTW4PmHe7LG1WDyIOPA%2BAx%2FnIxlU%2FBitwt9Xxbz3a0vkgQzFbLUcBk8Y1nql994E2se7LoirpDpaVvCc0hdhwOoNWDkv%2BbuuIRlCc7WM1ugNax3nN%2BP29lEB35TXFlXkYBqWyRaSEKtQiwpEVkwOkXFAuQyLGs1hD%2FR8AVLZ%2Bs1Ddr%2Bp6I%2FM3sok1o9v4FzsAticBgxJBp37xGfgd00nHYFBRBSU4k%2FKyi%2BQq%2Fq1%2BIUGjaD1Xz2ZBDR8SNWhRtUUlLuIfYWbis7V6ycO8uQNTBJ%2Bqp98ZLOLzBJ5nLMUio4i1C%2FGPcYgr9cvxM7nAUPYxgTODhfLP6DvKSeTA27Lw23oguAdo9aQuQdbTvsnhY%3D&nvMid=84426832697&catId=50002448',\n",
       " 'https://cr.shopping.naver.com/adcr.nhn?x=GnH01m2izNQPL%2F7lDPILx%2F%2F%2F%2Fw%3D%3DsMnT8YuxHD681yn9JYrwJYRWbL7kwvSstCthhVTBPukL3BsZ%2FLf8nbMghHK9OHvXMEErs7rR8Jk%2Ff7apPLSTmaMv%2BjB2erv%2BZ%2Brrs5VHOiTT%2Fs8htyn7qbZ155SxFlMX4%2B5YUgfaqE1gqeQGsdxtGPRxsLAiRnnX9rZs%2FpDkcylAJ6xCnO77nbWoZVG2IRPky4HL5kRY67kNrzih5Se6YE0S%2BortKzfQDWBF5GV%2FKfqEhJv3ljJo79VVIpj6%2Fm3WOkNzCGyd%2FEykTsEIbSx3CTqzxJZqgqyth26ArRIZLXxHL%2Fowdnq7%2Fmfq67OVRzok0S5SJNLgIdS1XFCtZ5GETGHmu991BsHBmNiXgngtK1sOyaxeCOyKBifClU8BY9JBs01uq8sLGZ4Nk0CMcR3gebu5UO2B9WzGuN%2B%2FtZas7Spzi0PFH%2FQOLafTKNL3RlNYezfNVo1KcSVSazeZg7M%2BAaRHChK0hVuxMHV7GN5ksZx4NU5YxntePvSrGPF4PAgzbdx3g0uozijYxl4beLdMy%2FuzkTd7qRpPwK6as5WOIBf9lbZfpppvB9xATVzUtrjwkpZTv3eBLNCiHY0WZ%2FDM8qCp05NgUIckbC75v%2BNNnDVprCA1fXc7zNixwDOQxl%2FEGxzmb19L4ksvjT%2FdZ1A5bWRTZMJI%2FK3hyNKJ83ApU85aYXV1lmgFUrkG46h9qGDDwJXSFlseqJb%2BD9y1uadTE7g%3D%3D&nvMid=82467633376&catId=50002447',\n",
       " 'https://cr.shopping.naver.com/adcr.nhn?x=g8xDqcJETmUf6y6Quc7%2Bz%2F%2F%2F%2Fw%3D%3DsirXsLKieRA9kREzhxvb%2Ba1ACiPGsv94xT71pn2kTOTR6qWlEtdZq08k6uBqsRXbzNVq0eZIGTJi72t%2BP564tScv%2BjB2erv%2BZ%2Brrs5VHOiTT%2Fs8htyn7qbZ155SxFlMX4%2B5YUgfaqE1gqeQGsdxtGPRxsLAiRnnX9rZs%2FpDkcylAJ6xCnO77nbWoZVG2IRPky4HL5kRY67kNrzih5Se6YE0S%2BortKzfQDWBF5GV%2FKfqEhJv3ljJo79VVIpj6%2Fm3WOA7p7XOwZSYWIscvUzC%2FKB6zxJZqgqyth26ArRIZLXxHL%2Fowdnq7%2Fmfq67OVRzok0S5SJNLgIdS1XFCtZ5GETGHmu991BsHBmNiXgngtK1sMIqhymBeiiTbWUPujEpj082R9%2FcykJH1r9Jdg4X2I5Je5UO2B9WzGuN%2B%2FtZas7Spz4h4zi0a7%2BErT0lK7zkra1zfNVo1KcSVSazeZg7M%2BAaaJwywP6DZzGqqr%2FgjR0fGWbFpscNUrOBYbQ%2FTBBqjmSNBw%2Fs1FEN54%2FcqeWk7CnuyKidg77FSnQhVbz5QOlAj3Cn%2F%2BKPy%2BnMrXltQx3l7SZxf%2B%2BWbViovuHknkLURxq31ZdDyuIAB8Q7oZbWggOdkeceoKNKYs7lWphmI01eeXYMtTKqdnev5nN7%2BBlWUsIrNLCVKZmqME7FbKoBBuUvfUH%2Fu6qS%2B6u3uJCp%2FO6oMc9&nvMid=82856196064&catId=50002447',\n",
       " 'https://cr.shopping.naver.com/adcr.nhn?x=9lA8tvPlm%2BXlDiMPHU%2FHPv%2F%2F%2Fw%3D%3DsH4%2FIWSmPj6b6%2B1xPuu9wDBoufUCq%2FTdm7l4zh2z1rDeXT4CRWXh4b%2FkTeO7XvneG9mcIgnPY5Q2ylsB42oSPfMv%2BjB2erv%2BZ%2Brrs5VHOiTT%2Fs8htyn7qbZ155SxFlMX4%2B5YUgfaqE1gqeQGsdxtGPRxsLAiRnnX9rZs%2FpDkcylAJ6xCnO77nbWoZVG2IRPky4HL5kRY67kNrzih5Se6YE0S%2BortKzfQDWBF5GV%2FKfqEhJv3ljJo79VVIpj6%2Fm3WOgIHApuLjtfuZzyYkVHMhS6zxJZqgqyth26ArRIZLXxHL%2Fowdnq7%2Fmfq67OVRzok0S5SJNLgIdS1XFCtZ5GETGHmu991BsHBmNiXgngtK1sO4ipmBHvJS30f0YCsgcLHv2Uhzo0kedqPJa%2FbvjZ9Tcnqi3rLa69%2BWA6L31M6pumRBR8RS34UzbQ6icbyVKNjizfNVo1KcSVSazeZg7M%2BAaaUvwfUPgl3Ej7KMfRnZSScinAPNlm9ZPOizrai5RuYCZjZgdaGMU6aD7Pv0kR1ce5KL0j9zwGmnlIaUh7ZRmR%2FyfMCWeEbGfoJBx0yYsrFl%2FqrwZW9Mj7kfmI%2Bunz3kPfeRlKUK2gqnrLdNWA84pUZWleN6C5thZJMulP5rpzGCI%2BeCtm0Z1nkmdGWc57VeGPLAwddbxdZR06Rl1WMsRDnH1lWer0Sov%2BW7hXobFIjc&nvMid=82781177328&catId=50007030',\n",
       " 'https://cr.shopping.naver.com/adcr.nhn?x=ptzK1vRoVEWIF35wArcWVv%2F%2F%2Fw%3D%3DskSVliAvYipNYM7kwTJvWk7xpK6%2F98HOeR3JD4%2FB6XkRtv4nz7FYk9IeUI1YMiofZmHekETG991xohGmSt%2FdvI8v%2BjB2erv%2BZ%2Brrs5VHOiTT%2Fs8htyn7qbZ155SxFlMX4%2B5YUgfaqE1gqeQGsdxtGPRxsLAiRnnX9rZs%2FpDkcylAJ6xCnO77nbWoZVG2IRPky4HL5kRY67kNrzih5Se6YE0S%2BortKzfQDWBF5GV%2FKfqEhJv3ljJo79VVIpj6%2Fm3WO3Sa6Wg3JlouYs6MAc05aaazxJZqgqyth26ArRIZLXxHL%2Fowdnq7%2Fmfq67OVRzok0S5SJNLgIdS1XFCtZ5GETGHmu991BsHBmNiXgngtK1sOMLDjqksVcHBVZEM0I16crDgkuE75mNzoUCURqQx2rcXqi3rLa69%2BWA6L31M6pumR0ke6%2F6EYAr7EcPBhkb3KczfNVo1KcSVSazeZg7M%2BAaRcq4n5ceFi%2BIxRodGPEODi2XtlKj2KAyWrYNOYHrXUrGmJpZebCVW06idrOYRVxAbXPSyufEfhJF2xLnztRyFngdrSeRK1F11ri7lKR16AdBW9BtbPxbJqABxaSS%2FOD4r5rSos8tj3FEkS234cTYKEmEbp%2Fc%2B%2FpWYgUbeNrZHbTLqZ2knpvdAtHX0VmbefQCeD9HDmodQgsNSxldSUyo6tOML%2BKlscfksYxxKuGQ53r%2BRT5iMlRC%2Ft0FmHXtCurnm9TZjqEQTAbFzUBl8432wsZPQdlwDfle51IC5%2B3EtWg&nvMid=82307182893&catId=50007030',\n",
       " 'https://cr.shopping.naver.com/adcr.nhn?x=AW1S7qVtaoZhUi6ZauS6Pf%2F%2F%2Fw%3D%3DsrEG3qjvOajbXyA31MeSqV9p5mGIb17colVAyxGC0Mb6OumgmmJKALZBjuJOG59lnyY1vaeT8%2FFQQdoJQQzL3pt9%2BKy%2Fm0d%2BgYWHtEf61Jo4hrX7i8ROREiNblWok2%2BM4oYeAqlreQxCn%2BOAbX6Xeh4bAVENK%2BFPgE%2BceEuRoIyzYp8WJRFHs29SbR36Di8MSH%2FTL4BWKrWRB6Z%2FuixYU38mscUZuB%2FB3GA4tAdwd4kJn0E%2B7lsL8Xc%2FJzL4VwihdDdF1Fnnh5q2frwlwSWSEQXOQ1TsMxabmlnPfArGls4hD4P%2Bj2CVvS6QkrpszyaIoCuwrUM2Vi5bq9fxYHuPhKVz0gLUYySei0qVI%2BdfytSdkd8Gm2ZqDCnRnk6xQzsM16165p3o7A0hc60Ol15FZ7abFmWeWe8GYTCSFFpkgruDU3abxPRB4vuCIyKEeyd999tyhJ5L5v%2FLJjgKLUJ2q7oij%2F6FsW9EQouSGA4%2BEyfZRaOKqZ2xGWYEb63CsASRfVVsdY%2BVUGiUIxbruakyrSRycSrP%2Boupk%2FBw7RnJLl4cDhQ8v2aTt%2FHwmCYBGjaQzH4kaSMcgMZTY7z0fc7BkfKg7PI6n8KJUvJUitC8F2mHq85ReQ5CcMhyomKailYZHnKTfoRDHd1Uv9MGfFSRfnvFTppCV1JP7V8euk48De1U9qheLhmobtU8xGlFdOu25e87sJxQvE3cj3Ej5vKP3nQ23oguAdo9aQuQdbTvsnhY%3D&nvMid=11439949685&catId=50002447',\n",
       " 'https://cr.shopping.naver.com/adcr.nhn?x=WTy%2BalWcG3Ly6babEt%2BKcP%2F%2F%2Fw%3D%3Ds70udDT8ds%2FPvpyDIbJkBjtBOMQDfehjYaudVEAyHMUj3jlzwsOYdFxDz2pTZ4MRnqeWDh9GQebNPItGP5vTiy1Vd6Z%2BmZ5fvTALbBBPmfKLR71%2BG1mg7pxhejX%2BnHQgT%2F6PZoS2hO1IhfaDXboPaXa9cKRy250NmnWzpLnOWIwwoSy2IdmvdqCNEiI9AEnImfEI2JUoVBDJoE5s%2F%2BxH7%2F8VIhUTYq2J1wF4XcKD2AOWkOA3ZateG%2FY8eKxwX1E0NCgVI7ODWFMpNEFGZrZKMxQesXa4I7qWLE7crrjoJ%2FyxVXemfpmeX70wC2wQT5nyi5pxiwDZPU40LYzhHX%2FcRv6GHgKpa3kMQp%2FjgG1%2Bl3ofBzLkxnfJ%2BqxTk5oYfsugIGTRiNG8USg5YYOZpd5cbpLtt56MLa7b8NSPBdg52YNoM%2F7ZtuXXKjThw0v2Ta%2FHoFp%2BlFYkWf4FfqpDKyy9hCFbm9j5%2FzmbVTC3cvieHtcg2Ioxv%2FU0MMR4BfxxKvRjAJME%2BJNwbajFE0TaNcbtKCyESwTCFZpws98xhd9xbX9O73%2FeNfiWsjY4FvAxBE1dk9yDdxIGDmHq0%2Bq52Tb89MkyUPTN9%2BRAIqABg3fDqDWel46UKwSrAumyr5ZCPYmVVa2U2Q8PEn7wvU6FKDXAKvJ3QHuObPAZFMS3qj%2BF%2FoYlTfGxCrKsKs4uXuSsipApNqoQzRsuQJGkwxOquhCMRs9bM%2F3yW4qW4z7KALXbaL4SYXV1lmgFUrkG46h9qGDDwJXSFlseqJb%2BD9y1uadTE7g%3D%3D&nvMid=82051248708&catId=50007030',\n",
       " 'https://cr.shopping.naver.com/adcr.nhn?x=wnYb%2F3wjWHV16R04TcyUqv%2F%2F%2Fw%3D%3DsniBC5X%2FJwdRifLsQGkBjcEqclmU7sOy%2FcmSU0KOsTDxuF4xKBHO22ySYTyecKgFcF5mnSRd9EvKMlqTC8a%2BYc1Vd6Z%2BmZ5fvTALbBBPmfKLR71%2BG1mg7pxhejX%2BnHQgT%2F6PZoS2hO1IhfaDXboPaXa9cKRy250NmnWzpLnOWIwwoSy2IdmvdqCNEiI9AEnImfRx1cL6RiaSgHrO9DyfEwVElAIoFY2rlAp7nPbeC1QntXY4YrBzjPDubuCrAUqy2uzLWmTXAi7xQK%2FDN17q7%2B2mcmHy5KROq9Bnyicm%2Fj7%2BlBxqAWLBOzqerxr%2F9%2BfPsvRxTIrTqjfjaj5hIRLkGrj7U9isOCsvDdu7nvqDq0VwrLGPKjiSuTDg8Ykn%2B4b8y9rQG2EBgKUqkmU05X2CXR1QNGLtbl9J5Mq3faiCMLQW54J8UO7LDGXdPU9Do8oyMQnQVV1hBbjmfKy8hwM3DJfuWFIH2qhNYKnkBrHcbRj1lNMeQTZPwGSqWHYWOyxNGEyblVZzrW9hj6von4HmBYSuPzQrRUyNRdpQ%2F%2F11Bs90xJCxap6nYyQF56ZCZfyB0S8aa4XNzKlorig2G1eeHlvQiEI7X99ZiXdsdiPNVVyzhrsMz0WrCVE4ZIjRrsQ08R75Rf9mgPTH2QYU3Omx9HqZso8cOEQG04anZycciBOyb%2Fb3jTWs%2B3qkIDaBmI6IZfSei3ZEIi%2Ftx8Qk5pT2dNdh59hKWPdagFSUtpqs9opiT8zUbnTkJoW97BTtAbwmc9FGzZOXYtVfI1DG5rR4ov7xbllwhB6WZnJ42baPAkpk%3D&nvMid=24863065166&catId=50002610',\n",
       " 'https://cr.shopping.naver.com/adcr.nhn?x=lrhiWxIOCZALOK36Nu4d5%2F%2F%2F%2Fw%3D%3DsM4qZWfGfC9i9RQekE7Wt%2BdKPjJDqpJu33wYwhWr%2FtDSmpJtngi4SSyye1tIUl4tsdo1ReD%2FbAzCPcJhwihkkKlVd6Z%2BmZ5fvTALbBBPmfKLR71%2BG1mg7pxhejX%2BnHQgT%2F6PZoS2hO1IhfaDXboPaXa9cKRy250NmnWzpLnOWIwwoSy2IdmvdqCNEiI9AEnImfEI2JUoVBDJoE5s%2F%2BxH7%2F8VIhUTYq2J1wF4XcKD2AOWkOA3ZateG%2FY8eKxwX1E0NpZ2dkT3TkuWGEVqAHo1eMwesXa4I7qWLE7crrjoJ%2FyxVXemfpmeX70wC2wQT5nyi5pxiwDZPU40LYzhHX%2FcRv6GHgKpa3kMQp%2FjgG1%2Bl3ocEJ6Swf521w8CtWQMgwfNKxCqofV6oe9%2BpvYPUyPrwsr%2B0RyTbfK7gtwx2AJD12mCpZcg1EqlD%2Bsj6JpXr5HKEEqDiPlXQi3pHud6o466IfX7VkYADjsRk9gX82HD1w4SRYsWaLIckhhGgz%2ByCI%2Fr8D494YPBYdSMCxP9czeEt1EJRjHsMt0I7LTfcxlkquKFKhNuYismMj8sS%2FgBiqDkcBI33jefpnT1SdYF9bP03iRJLryo7%2B0AkPInOVxu1fvhFfNPQSsovCsxqhBZrGcTOJKZHuoCYJA5gxb%2BofoovIAzGq0iBwBxjXAen%2FkAxEFAG9TQriyDXP%2B88YvhxDbViY7RBJx2aPv1bgiR77Jh46zVpbQSGlUizVRqW33BFA%2BI%3D&nvMid=12082905897&catId=50007036',\n",
       " 'https://cr.shopping.naver.com/adcr.nhn?x=n321uswEhTZHjr2XUQpS2f%2F%2F%2Fw%3D%3DsTCbssLXcrkojscU5Boa04Qt1HyXy1%2BAZTEGmTZbF%2BdMnvILBxAWWvHFdPTi6NvGt%2F6UeQZriKUzuxqHJLxlWGVVd6Z%2BmZ5fvTALbBBPmfKLR71%2BG1mg7pxhejX%2BnHQgT%2F6PZoS2hO1IhfaDXboPaXa9cKRy250NmnWzpLnOWIwwoSy2IdmvdqCNEiI9AEnImfEI2JUoVBDJoE5s%2F%2BxH7%2F8VIhUTYq2J1wF4XcKD2AOWkOA3ZateG%2FY8eKxwX1E0NLB5OC806MLZTGOVcjF7quAesXa4I7qWLE7crrjoJ%2FyxVXemfpmeX70wC2wQT5nyi5pxiwDZPU40LYzhHX%2FcRv6GHgKpa3kMQp%2FjgG1%2Bl3of0Ws6JWX9BgD6Aym2WSVdhPpYwEjr6UG9iAAMrCicC6Ltt56MLa7b8NSPBdg52YNphelOsIsJIVf4E9lv0yhM08tUBYP3n0hqjmGTeLCCnoxryr%2ByYuffimbAkEog6KCuUkUaWMNvEGR9EN68SMxHqHtelNBqOKkhWwNh4tYyHoSxOEkzqp6QJ%2BQ8B0o%2BnJw3zfTjy%2F1f1ETsQZ285HNhni8F6h598rNiy2i8YuXU0ycXSly%2FB50OVz8Re0HVaJYD3RCTSCHn1A4snVrsr%2FNTZJKZHuoCYJA5gxb%2BofoovIGnSHTr4ZEfT2WAXiBh%2Fs8Otsn5mrgsmOsVkUlT0wWEEY7RBJx2aPv1bgiR77Jh46zVpbQSGlUizVRqW33BFA%2BI%3D&nvMid=82490952381&catId=50007030',\n",
       " 'https://cr.shopping.naver.com/adcr.nhn?x=vBvzpVWxk6ID0TWvjzJpXv%2F%2F%2Fw%3D%3DssgpQWF3ye0Vlfhk3Xb4CY2o5q3qB5anucRXBAz%2F%2FjZmFjEia8h6YFBX99RB4X683G9PGg2lQns4AUtXp%2F46OAVVd6Z%2BmZ5fvTALbBBPmfKLR71%2BG1mg7pxhejX%2BnHQgT%2F6PZoS2hO1IhfaDXboPaXa9cKRy250NmnWzpLnOWIwwoSy2IdmvdqCNEiI9AEnImfEI2JUoVBDJoE5s%2F%2BxH7%2F8VIhUTYq2J1wF4XcKD2AOWkOA3ZateG%2FY8eKxwX1E0NFAypduuTe0c235Cu1CiIAAesXa4I7qWLE7crrjoJ%2FyxVXemfpmeX70wC2wQT5nyi5pxiwDZPU40LYzhHX%2FcRv6GHgKpa3kMQp%2FjgG1%2Bl3ofpmIoVzCrCCa2Amc62vCKT%2FDAjZzoJ4hrVVRlQlTS2xrtt56MLa7b8NSPBdg52YNo0laO6SmJMZWiXf1lI8%2BtBADyZ4At%2BvCqeHRZojf7GdDlztmJXvci7EvFABErE33e%2Fh%2BJL5RCKvNKmYTo2T3euP4i3d8qJRY1YnogzB7kCNBVbYv4YYRagXlZZnByouEOg6jfFXdKc55LhP3V58rsBwOnhHtSBF9pkVLJWbggiXH6bWXLFelVIJ%2Bu9N9VtdfHXCpLS%2Br6yQ%2BgbFPDqvoQdQoTNIkg3zxt7pdKwJBxUnFqJyr53XqdwN0VsuFKyXBMDGwi2gIkngX2TYRHjHJIvXb7%2FHJeUJIBbMDv4tCPy3w%3D%3D&nvMid=82355686425&catId=50007030',\n",
       " 'https://cr.shopping.naver.com/adcr.nhn?x=Xgdo6iBFDhWtwomwBvazRv%2F%2F%2Fw%3D%3Dsy4lVsYvI8gGVAzxtvCDQCJ9I0Gak%2FKdzr2vX2Xm%2FOTpbLQQISeKI8d%2BImLYEuppjpLCvhjG3SEjPRfG%2FQx8mJ8v%2BjB2erv%2BZ%2Brrs5VHOiTT%2Fs8htyn7qbZ155SxFlMX4%2B5YUgfaqE1gqeQGsdxtGPRxsLAiRnnX9rZs%2FpDkcylAJ6xCnO77nbWoZVG2IRPky4HL5kRY67kNrzih5Se6YE0S%2BortKzfQDWBF5GV%2FKfqEhJv3ljJo79VVIpj6%2Fm3WOCxYJygQuGRx6%2B7gyk%2FRfk6zxJZqgqyth26ArRIZLXxHL%2Fowdnq7%2Fmfq67OVRzok0S5SJNLgIdS1XFCtZ5GETGHmu991BsHBmNiXgngtK1sPOKJ5tQOG4v9O1tZHLMTkU01uq8sLGZ4Nk0CMcR3gebnqi3rLa69%2BWA6L31M6pumRJ7gUTh9EcGlMhlO0KhvVmzfNVo1KcSVSazeZg7M%2BAaRHChK0hVuxMHV7GN5ksZx4POhdlX6x%2FegspMDIpSamDpoEZaEQcQdx29%2FL39%2FGDP6TpGeUHS5zaOa%2F50FJ8i3nKFg94FKsbeN%2ByMNGAvoxz58z51qfDOjGByjeIo0%2BeN%2FNz5hQpO1gxdp5gG3ENMGVJED4IuflQuA%2FfkhJUlomJ%2FoFK3zLzgoXmV1uFj4N6Zeo2fGsqYQadPnBIuLl2nR2P92iAC%2FacSVbx8fLkdTjBZTi4KOROgwRZLXpoHN4a2Q%3D%3D&nvMid=83563198889&catId=50007030',\n",
       " 'https://cr.shopping.naver.com/adcr.nhn?x=r%2FDgIT8J%2F3BeYt%2FI72ye7f%2F%2F%2Fw%3D%3Dsd%2BkKjotfRPwKzS0tClXslPgpJdnPhiIyEUwS5HDDgsySCMQJm%2B6ceFRTiK3BAIzd9yIm9oo8oaIhqKHMwjnRDt9%2BKy%2Fm0d%2BgYWHtEf61Jo4hrX7i8ROREiNblWok2%2BM4oYeAqlreQxCn%2BOAbX6Xeh4bAVENK%2BFPgE%2BceEuRoIyzYp8WJRFHs29SbR36Di8MSH%2FTL4BWKrWRB6Z%2FuixYU38mscUZuB%2FB3GA4tAdwd4kJn0E%2B7lsL8Xc%2FJzL4VwihdgDmI5wlDLHEwO1OBOwbXPU8%2FzrHmea%2BijwTq4TEcsXLffisv5tHfoGFh7RH%2BtSaOAFJNLWxG%2Fj2gEfGb7GroeJYon82LnxeOQ%2FLYJl5%2FRKIBrDY%2FpKBpa7XN%2F2M7o2LiTMiuowWZBegCDIl6xsIg9d5dl4zROLCHn0TknkqwGrfCyopX3ZeWiXQux60c0RgBHDAU47Y7aibXQDAeLgL7X7ZqyH3EQ0i9nCgsObAcGVs3zH6rezCq65M1w8jTRWuSr5cj9oI33PgbQVnJAORHEwaQGaNTt%2F0aBV4%2FH33Yxe%2FG94TdC0xEZT1%2BzBpbvH0Eoktc20cOa4euEWbND%2FHZRCnMOepzcLPYwAW0pZOdyPdTfGxCrKsKs4uXuSsipApN8Ju4CqQZV%2F%2FD8pjogJefGF1%2FkAjJfoofwKK1J62W3WmYXV1lmgFUrkG46h9qGDDwJXSFlseqJb%2BD9y1uadTE7g%3D%3D&nvMid=83756269583&catId=50007030',\n",
       " 'https://cr.shopping.naver.com/adcr.nhn?x=UdX2lUzxAVXC6bWSl4IC7v%2F%2F%2Fw%3D%3DsFB5PPgbFlNRY2CDNWvAF2M%2BCbbJlq%2BxOIOpoAAvxernE4UxLux7%2Bwihm1PAYmh85kOomklVj1LYUoUywzLVYicv%2BjB2erv%2BZ%2Brrs5VHOiTT%2Fs8htyn7qbZ155SxFlMX4%2B5YUgfaqE1gqeQGsdxtGPRxsLAiRnnX9rZs%2FpDkcylAJ6xCnO77nbWoZVG2IRPky4HL5kRY67kNrzih5Se6YE0S%2BortKzfQDWBF5GV%2FKfqEhJv3ljJo79VVIpj6%2Fm3WOGYmRubakX14%2B%2BfybpCUoo6zxJZqgqyth26ArRIZLXxHL%2Fowdnq7%2Fmfq67OVRzok0S5SJNLgIdS1XFCtZ5GETGHmu991BsHBmNiXgngtK1sPJj%2FO2g4a7qVY7HFVCdJcqXB%2BFPqD0DDValjrjPdyD34EWpsMiDK17vNY1xbgKYoQuty3Tk12VKuGJYdL0Tqv4xv197fyjYSyXFrroWYEUdiKONxSPJFUbxvLxdImGQ8NaK6dEVYt7yi9gLw2moPW7t%2Fsh3kfTuHlHsH7FqkmZQgnsQ2RCYgGU7NDqtge9FnPFgY6zxnjdlzqlqSOhGoLIjNqZakj4hBSVEsPgOxvXrqIE75HlZq0V%2Bu6uMRFgR%2BvjNSJ8yojIc1g6Vx5A7qq%2B8pec2%2FGSmI0WBpu3wvydLS2acEdm6mdLpqowW5%2FshA4%3D&nvMid=84407552465&catId=50002615',\n",
       " 'https://cr.shopping.naver.com/adcr.nhn?x=5f8jFHhZ%2FiK2rRXmySR0v%2F%2F%2F%2Fw%3D%3Ds7E9YGEfMUiOps9J0Ywf1DNkfkIEBGFlSRzZAtk8j6jJ4tWk%2B2AzujgZaNN%2FP7YBqtUZPaq3M60VfEaXr347qJd9%2BKy%2Fm0d%2BgYWHtEf61Jo4hrX7i8ROREiNblWok2%2BM4oYeAqlreQxCn%2BOAbX6Xeh4bAVENK%2BFPgE%2BceEuRoIyzYp8WJRFHs29SbR36Di8MSH%2FTL4BWKrWRB6Z%2FuixYU38mscUZuB%2FB3GA4tAdwd4kJn0E%2B7lsL8Xc%2FJzL4VwihdGk1zrLFr98nh%2BzOubsIRU08%2FzrHmea%2BijwTq4TEcsXLffisv5tHfoGFh7RH%2BtSaOAFJNLWxG%2Fj2gEfGb7GroeJYon82LnxeOQ%2FLYJl5%2FRKKg%2Bqx7z1zt2IyNO%2B6jn8Od076Zv7TkF33LzdCKhH4nWlGqyJMprwuEieV8HiAfwN%2B4579OtdHtnqwg7XGCQIn%2B2UwY4%2F%2FyBxeD6qKiGSdlSFEdj%2BpW9wXojVijZrKaceuBu9IIe24M%2FcCXnCp2sWk90E022NhchCj3rueT0YlW1PIl%2BuG2aHDKXFE5%2BpmSat2zkW2fotPC4oZp6KALt5dH5qG4VazQug88RTUA3d20RsD%2Bsgvh1kd3oqGn0XWOJIDKrtRL5gNgoonZSOJWvDCeGh9tdvkH04AfeKLZMYRmhzZRU8vK38d3kmV5LqDeHkZGQ9NCX6Qdu%2FNGfK2a9Yhbx3ivIZMdZoIW5yiXUXH%2BOBaPe79aQOsjDkRqe05k9KycgZDYmA9nEuUSR5KXox8S&nvMid=80151223514&catId=50002443',\n",
       " 'https://cr.shopping.naver.com/adcr.nhn?x=c0BSGxyahsnWR7bfKfz9t%2F%2F%2F%2Fw%3D%3Ds2V9gJ7bB3pVy3%2BmIIbzZL0hjBbileifCTfUSJYap1OeBt335yQl9yC1hZDWtrWDDEwWcNjn4LhGglZ%2FOhZu9B99%2BKy%2Fm0d%2BgYWHtEf61Jo4hrX7i8ROREiNblWok2%2BM4oYeAqlreQxCn%2BOAbX6Xeh4bAVENK%2BFPgE%2BceEuRoIyzYp8WJRFHs29SbR36Di8MSa09eFwMOfnqnHatAM5PMaafdHYXs1w%2FJn%2BxYQbgyCIvb99QTm8EZjSvoIg50evgu6UcMFIeGEMsdhCCdbeyPASg1gbiq%2BHMPgdiNjiLxOEij6LvwwcArB%2B1H4uVhUHDH7xTUL%2FvpKON9AXBjfk3K4jj9mWlaui5pNyhB0OS7qECIdQ3K0oN0QjL%2FIsqkueeZMitjBPS6WZH2q%2Fj%2FqmrsvKzxJZqgqyth26ArRIZLXxHL%2Fowdnq7%2Fmfq67OVRzok0S5SJNLgIdS1XFCtZ5GETGHmu991BsHBmNiXgngtK1sMmZEgOjY%2BsAasRss0qJrAjoob2dXN9FOhyogeLBhBb44EWpsMiDK17vNY1xbgKYoRmo17QEkVMA9hd50L9tZ4x3XChkvCt7%2FRzot8LxdC85tM5ifEZFTrQVQvKfXycVWPOlv2%2FAnonBGZCW2o9wgNV8IOX30abVhLrBChRyIpC%2BSJXZRnKTfx6BSeqIcGOodWecM1Gas%2BPC6h3dG%2B7Ff9pjblmWnVjzPNPsNQH4UJdJfOFD%2Fbt7d78luCRb04w0%2Fo%2BT%2B0LYeRGLdR1eV9XpllzbY1eG7nAZ0Igkm7FmYypk6Xwo0E0w7AEo5SiKMk750A%3D&nvMid=28562024038&catId=50002615',\n",
       " 'https://cr.shopping.naver.com/adcr.nhn?x=2nEYe6Tbk4m8NhYlVLqlff%2F%2F%2Fw%3D%3DsnSJLfGwLTs9iwK56awZ2U4fFpNZQ%2Fz1IsT7dOsahtp0sVvXdB%2FD%2BjnpuSSNmIkOdbPL6nK9mn4t8mJYEewAWiN9%2BKy%2Fm0d%2BgYWHtEf61Jo4hrX7i8ROREiNblWok2%2BM4oYeAqlreQxCn%2BOAbX6Xeh4bAVENK%2BFPgE%2BceEuRoIyzYp8WJRFHs29SbR36Di8MSH%2FTL4BWKrWRB6Z%2FuixYU38mscUZuB%2FB3GA4tAdwd4kJn0E%2B7lsL8Xc%2FJzL4VwihdRuczUKyrpaP%2Fbfm8vDNLSU8%2FzrHmea%2BijwTq4TEcsXLffisv5tHfoGFh7RH%2BtSaOAFJNLWxG%2Fj2gEfGb7GroeJYon82LnxeOQ%2FLYJl5%2FRKLpQG7NbiIfoWr1HJjMo%2BSKHh95vxkeUWp%2B428MtasuzVGqyJMprwuEieV8HiAfwN9fcB%2BD2tUhEPnGbUEVU0RL7WFwMHKdU4oL2roQoXgHsc%2BpjFDyhY5Td8dhgTmI6ksIKz4ktScDEq9QNI26D0AxgCR5uoCHTaXgZ2vuquAVD%2BniUjT5rOb2p9kKAg3hPahZIEv2en%2F6M%2Fts7rRoQs%2F%2BfNaxKv2a0d6PyxUK3I1lMMl3VNG30IFC7JVcC5zsqEg66O8xfvRdXmtaBAQhfgK2Nz8O8NBo0Fxm%2FzJRhpuB1pyBkNiYD2cS5RJHkpejHxI%3D&nvMid=83015035597&catId=50002615',\n",
       " 'https://cr.shopping.naver.com/adcr.nhn?x=c%2B5H6gDk%2BEJTH%2FDQnY0aSP%2F%2F%2Fw%3D%3Ds59QN2CkIYM6euBfw%2FO0fLEdqVbGhkmHWhQ0lQrpEOzcPEMuy9UAfwNZF8PGt6oZRpDeKQl1M%2BVZFumCuc9Ze38v%2BjB2erv%2BZ%2Brrs5VHOiTT%2Fs8htyn7qbZ155SxFlMX4%2B5YUgfaqE1gqeQGsdxtGPRxsLAiRnnX9rZs%2FpDkcylAJ6xCnO77nbWoZVG2IRPky4HL5kRY67kNrzih5Se6YE0S%2BortKzfQDWBF5GV%2FKfqEhJv3ljJo79VVIpj6%2Fm3WOv5ZMPqAUuQhQo7z1veU7tqzxJZqgqyth26ArRIZLXxHL%2Fowdnq7%2Fmfq67OVRzok0S5SJNLgIdS1XFCtZ5GETGHmu991BsHBmNiXgngtK1sMHhYPf0QKSbZTFuQOszxi2yMkerTiAHy%2FbLFF7j6IZQhNpiTDPHzwYG%2F%2Fg7frAUJ8PABUsx%2FAWzIU2c43Oombqsv4Pv0kWpdQcKGzAgoBrlxNNLVko6Z7BonY5tGrY3dP75i1ryzrRKHBsOE2MfPnLfOLAyk5mrT6LAbtK4JkDlQy%2BNa3wzer%2BMbtP%2FyeKNtFQmXN7a3sP1Eb6AeDaZtxVVRMvR8X2xWp%2Fs16pAvQtRSgzfwrTE8YaLQ%2BiZrZgGvT2M8suOBYq1NIJBG3Fkj8BGrUBG86rVOPFgJ4vv4%2BUyLq4KZHXcG3I6lm%2BNpUiPPeyCMcaABqVZiK9OyJxeaT6wFRd41yRFHuxVgeRsmyAh4vD0RIS%2BY1lqNJzoV4dmEA%3D&nvMid=83664988222&catId=50002447',\n",
       " 'https://cr.shopping.naver.com/adcr.nhn?x=faz87uUUh6m48K9r4JTZz%2F%2F%2F%2Fw%3D%3DsRf%2FuuAeKzCL6Ggr8cmNrjmbNejoGT4EW3mA0Y904PWuLXA14A8SUYNzjxw6Wll5RihcBdmen7dh%2FG33y%2B82UI8v%2BjB2erv%2BZ%2Brrs5VHOiTT%2Fs8htyn7qbZ155SxFlMX4%2B5YUgfaqE1gqeQGsdxtGPRxsLAiRnnX9rZs%2FpDkcylAJ6xCnO77nbWoZVG2IRPky4HL5kRY67kNrzih5Se6YE0S%2BortKzfQDWBF5GV%2FKfqEhJv3ljJo79VVIpj6%2Fm3WOmW9zwUwvEq5MNpmRd9maWKzxJZqgqyth26ArRIZLXxHL%2Fowdnq7%2Fmfq67OVRzok0S5SJNLgIdS1XFCtZ5GETGHmu991BsHBmNiXgngtK1sM69tcnA%2BKg209Phi4F9B7RejJoUUyMGDAOp0PWQi7KVoEWpsMiDK17vNY1xbgKYoTcR4ZDeVPG0asF%2FGYIOoybPoVRGKE69U0rr5qui8URdvRrt3sFSDGUnrFy7v8VJfliOAH67BH%2F6Ue2L9B%2F27h5uJvWPA2t1I7ni3yVfIBMEWuk%2B5KiYdGXV%2FoLX%2FOIt%2Faic1J1Aycno7GKegL%2BDoLcaUKJ4y8Xou8c%2BnodqWgcTq%2BPfXWh83h0xMEUGgNmO7LugbrOgLMQtgobmjY78fTt0aZjjZFxcxKPK8hwQxm0sd1TbEdEz6%2B5ATwnvHhY4MDBzuBeVl2PX9bjvqI3kt9BBHCLNI6A7lRBifTgt7dK4S2acEdm6mdLpqowW5%2FshA4%3D&nvMid=84166222433&catId=50002615',\n",
       " 'https://cr.shopping.naver.com/adcr.nhn?x=EwaxpZAkeq9az9poV4uqNv%2F%2F%2Fw%3D%3DsLbmuasAcz7x%2FYmgIgbHglcEgA8oUJdBz4fKlTYsGh9GOcAp5u35MG%2BQOPcikljHjOvOxzvf4VOn5j7XN%2BZ0ddt9%2BKy%2Fm0d%2BgYWHtEf61Jo4hrX7i8ROREiNblWok2%2BM4oYeAqlreQxCn%2BOAbX6Xeh4bAVENK%2BFPgE%2BceEuRoIyzYp8WJRFHs29SbR36Di8MSH%2FTL4BWKrWRB6Z%2FuixYU38mscUZuB%2FB3GA4tAdwd4kJn0E%2B7lsL8Xc%2FJzL4VwihdjiGsfb3vF42n0kxLkgSAjE8%2FzrHmea%2BijwTq4TEcsXLffisv5tHfoGFh7RH%2BtSaOAFJNLWxG%2Fj2gEfGb7GroeJYon82LnxeOQ%2FLYJl5%2FRKIN7R6Oq3hOmWRcy5shtTp8hW8hbIYePQ6kMlwz6qnD71GqyJMprwuEieV8HiAfwN%2BpvA4%2BZwiag2y3ZtjCcYqD5zYZu%2BaWXVX%2FE4mrMI%2FUeywajx8w%2BeGekr89bxjYwAcxymW4PTFoO%2FaQbxfKtJD1jjf00vecQ2%2Bsls3kUoJbLrAg6ihvDmVm3PQEAK0LhrrAcKSNErlwLYb3QhzYLSLB4ZXY8GmQJMKAAXDD3Qz9AWLRNORcezA89EDb6R7tPJng%2FRw5qHUILDUsZXUlMqOreZhFiZQzPGq5iJj6B5gE2zQUrE%2Fz%2BiuBmwvC4lxPvOJvU2Y6hEEwGxc1AZfON9sLGT0HZcA35XudSAuftxLVoA%3D%3D&nvMid=82684200775&catId=50002447',\n",
       " 'https://cr.shopping.naver.com/adcr.nhn?x=5bpPkfOcT%2FC6Zleap0J%2FTf%2F%2F%2Fw%3D%3DskyRsEA5W6P%2BmkB3aX3OyHfFsdQ0fEnR5FwzoJkvaOt%2F2GQOzkibPOC3%2F8mso%2BKwGae7IlArbjMN%2BwC0obughQMv%2BjB2erv%2BZ%2Brrs5VHOiTT%2Fs8htyn7qbZ155SxFlMX4%2B5YUgfaqE1gqeQGsdxtGPRxsLAiRnnX9rZs%2FpDkcylAJ6xCnO77nbWoZVG2IRPky4HL5kRY67kNrzih5Se6YE0S%2BortKzfQDWBF5GV%2FKfqEhJv3ljJo79VVIpj6%2Fm3WOTBFJQ9o%2FynvOy7%2FJrli2LqUwyb3T1WClPWalv8ZrQ67DpmNu2Rs3tEPrV0ZTODsbWqyaFa2xLbpwGCJChqMDqpcP0NnUxfymfWpON%2BoOsolcTF267Uaugt78WMavM0P%2BPN68MEcT6Sri%2FAUZP8Q0GgVxNc%2FpjCdmLfcgDmrJB93bIaGaOCmTVSqKOhthSkwVjB5%2BwQwTWqlzZqCmwHkzL%2BWVT4g%2FeMocPoRwl46gTB3SvHuYvyEN7azD9WuQGSWzewxuC%2B3PvOuw4gL%2BKvGwCcAc1e1u0rmoh0OSPPu7PHsWbdU4sCSWUPFLIBcASFmKgnShX%2BVs7G%2BCMO%2B%2FyhxA%2F7%2B3t3fm6ytPSiBh7MLUNb5oR5wPks60wxY%2BBVUkhy7M7k6TMST0sqvQGdMxN31HAkGFuQa8Va%2Bt%2Fwjf77JTLCoqhdwAxEGRfsT0mlpnKltEE%2BlLnYn6Fel2gTYOThe5U9WL0hG2wKZDwh%2BmfGtXRIel8KNBNMOwBKOUoijJO%2BdA&nvMid=10146450474&catId=50007030',\n",
       " 'https://cr.shopping.naver.com/adcr.nhn?x=emAMVKZj8llPRT4Nm%2BIU5P%2F%2F%2Fw%3D%3Ds1IU7OhlMx%2ByBbICaQ8WZ%2Fnchdq3LiIM0F90R1%2BCgnomqup1ceWCVyIklG9k2WotBtb0m352m2CZZv%2FuLXkj7Z99%2BKy%2Fm0d%2BgYWHtEf61Jo4hrX7i8ROREiNblWok2%2BM4oYeAqlreQxCn%2BOAbX6Xeh4bAVENK%2BFPgE%2BceEuRoIyzYp8WJRFHs29SbR36Di8MSH%2FTL4BWKrWRB6Z%2FuixYU38mscUZuB%2FB3GA4tAdwd4kJn0E%2B7lsL8Xc%2FJzL4VwihdWNMd0Gk3%2BdQ%2FN%2BlhK3b7kk8%2FzrHmea%2BijwTq4TEcsXLffisv5tHfoGFh7RH%2BtSaOAFJNLWxG%2Fj2gEfGb7GroeJYon82LnxeOQ%2FLYJl5%2FRKLj%2F7PeA%2Bc01mHPaLvmfU4Ce81rVmHDyqJRyciT7x6vtWHbbaXf3hnVKPBhSrO6MxCVCca%2FPq0wMxBK%2B2VxiD0LFv%2BAqAEIldgd4%2BQNSuSZ5KNoE6QFMTYzWMY2PTKTrRR2LueNL%2BtO6taSsiRihSHoJxPxMYArjeH5ofm7c7qJmkCpUnF2Tmh05vAJ0P8zpd3y2S4iLGy2XfaQ1DWYk5I7ESettGFIuwUg8YZ4%2Fk4XxOD9HDmodQgsNSxldSUyo6sPjrYomZa2WKeGOiI3i7recZr%2FgnER9bmCR%2Byb0%2BxwLW9TZjqEQTAbFzUBl8432wsZPQdlwDfle51IC5%2B3EtWg&nvMid=84240805951&catId=50002617',\n",
       " 'https://cr.shopping.naver.com/adcr.nhn?x=bG4qSSlBMIERUHGRe6mYqP%2F%2F%2Fw%3D%3Dst7j1%2FJUqDhw6YYkq3TuPo49dSln%2F6bkj%2BzHHN0bXTGkD08Zt08MqOiWxxjchgQnaE90h8XrvnLvKMj263ph3QN9%2BKy%2Fm0d%2BgYWHtEf61Jo4hrX7i8ROREiNblWok2%2BM4oYeAqlreQxCn%2BOAbX6Xeh4bAVENK%2BFPgE%2BceEuRoIyzYp8WJRFHs29SbR36Di8MSH%2FTL4BWKrWRB6Z%2FuixYU38mscUZuB%2FB3GA4tAdwd4kJn0E%2B7lsL8Xc%2FJzL4VwihdFeV5LdbrGTKtEfZi3cQJwk8%2FzrHmea%2BijwTq4TEcsXLffisv5tHfoGFh7RH%2BtSaOAFJNLWxG%2Fj2gEfGb7GroeJYon82LnxeOQ%2FLYJl5%2FRKII6BHDL6CJ5ay3U%2BtvHe7Ku1Q9fVkibUqgA%2FzTma1PF1GqyJMprwuEieV8HiAfwN84f0h4jRsJj%2BQjq%2BfjlICfI1Xy2EEpljkEvE3LxTueIRkastetV2TXI63qfMxMXLCMuG3z%2Bv%2F8yvXz5uxrTMIhZ5PlU0nf2eotxyJxki%2FUO8V%2FIK5GANI%2F0IXhndK42LbM0wc6zTQHBDqkA59SXdBRZfUKdPuSolNnGFZTB1lc9uhuR5%2F9tZic2KoM3FC78b4doAzYuNs218Iu456ddEW0j6F%2BLHuu1vP7ICy921THfZiHsM66Nb9iSV2Lr48EHerN9SytATVqKdmyOuBp0IqlwwacH5MkRT0UBNE9Usp5HzbM8wKSbg%2B5uOZp%2FKqlEVc%3D&nvMid=82399018253&catId=50002447',\n",
       " 'https://cr.shopping.naver.com/adcr.nhn?x=bgpaVej%2FEwRYkXQh7pxfRv%2F%2F%2Fw%3D%3DsFTREPWBDBO5HWNGFzBQnGSRmUmCYXaGMdC6NTashy%2BVGvxYb0gITsKKKdLHw4TDqCtZo8H2PqQLTtFgA6g9198v%2BjB2erv%2BZ%2Brrs5VHOiTT%2Fs8htyn7qbZ155SxFlMX4%2B5YUgfaqE1gqeQGsdxtGPRxsLAiRnnX9rZs%2FpDkcylAJ6xCnO77nbWoZVG2IRPky4HL5kRY67kNrzih5Se6YE0S%2BortKzfQDWBF5GV%2FKfqEhJv3ljJo79VVIpj6%2Fm3WOTOTq%2FpweUm5T15U3v2YpvazxJZqgqyth26ArRIZLXxHL%2Fowdnq7%2Fmfq67OVRzok0S5SJNLgIdS1XFCtZ5GETGHmu991BsHBmNiXgngtK1sPUQ8DyZdAL9xFsY6JEpYhyd7nuf4kXynka%2FfrSquikOoEWpsMiDK17vNY1xbgKYoRVrrTYW9vTBl5mpgo5qbQnsv4Pv0kWpdQcKGzAgoBrl6LYNNzizWAxwfZaYtAHrBut%2FXstZXAqBQHkqCxthVAg5gOnsWTR0Vew8FE8Ec%2BHYfUXHYZDZIJWoiBL7QYUyg5mJXOLO9V4Dl2KtmwPfGh3t4aygR5jtpH4TpUf0wIWlir1Sz%2Bh4ap6Upk19awt9FeWQNGl5WgkQrsmLF96V5EtGYHja3CiUjM6bNpjJz%2FVspwawaOfor4%2BCN1X3OgPuv1w%2FNF%2B1YAhuBwLbTEhbEXJDbeiC4B2j1pC5B1tO%2ByeFg%3D%3D&nvMid=83862322222&catId=50002615',\n",
       " 'https://cr.shopping.naver.com/adcr.nhn?x=nvG%2BloCgSIthRdH5fWIrN%2F%2F%2F%2Fw%3D%3DsHZCcg4%2FAHskqwqn75quE7ozxDXwfGp4mjDzhLXACgttOS4ke%2BOWuM8Gzxr4GQyBkR7CxrNNJm7txVw7nhPA%2F1d9%2BKy%2Fm0d%2BgYWHtEf61Jo4hrX7i8ROREiNblWok2%2BM4oYeAqlreQxCn%2BOAbX6Xeh4bAVENK%2BFPgE%2BceEuRoIyzYp8WJRFHs29SbR36Di8MSH%2FTL4BWKrWRB6Z%2FuixYU38mscUZuB%2FB3GA4tAdwd4kJn0E%2B7lsL8Xc%2FJzL4Vwihd%2FoAwoRX%2FJzaIxpkFwaUWyU8%2FzrHmea%2BijwTq4TEcsXLffisv5tHfoGFh7RH%2BtSaOAFJNLWxG%2Fj2gEfGb7GroeJYon82LnxeOQ%2FLYJl5%2FRKKDy7LV5A7EHlklPbmSIW5Bz%2B1%2FpTE75K6DoOF3Tdrdod5dl4zROLCHn0TknkqwGrce2z%2B0CkF9M93oEP7VZ6b8b9l8DeTqG1cjuPn6EO%2FYkLZqyH3EQ0i9nCgsObAcGVs3zH6rezCq65M1w8jTRWuSr5cj9oI33PgbQVnJAORHEzRZVScON0miwsOjTOAPEr9Xib9bhHoyMp38h1U3Ij8HMShUHWTQdSJWPgO6xpg%2F%2FaAQqOubHE3DMKHISz5nZblTfGxCrKsKs4uXuSsipApNKM8PN7Zr1NwxTBPPC1Qjn0HkSQN3S5euEPl4%2Bt4ELeeYXV1lmgFUrkG46h9qGDDwJXSFlseqJb%2BD9y1uadTE7g%3D%3D&nvMid=83718710015&catId=50007030',\n",
       " 'https://cr.shopping.naver.com/adcr.nhn?x=OnONt1XkZVyPl9PpD2giTv%2F%2F%2Fw%3D%3Dsamm1beCr1w%2F7hHCcYtfI1igopDhbDK7pIcPFHu%2FFpE5BtwNlHlgmm1cReY6x0e7igOZ9uN51Mo8CgxFov6KHhVVd6Z%2BmZ5fvTALbBBPmfKLR71%2BG1mg7pxhejX%2BnHQgT%2F6PZoS2hO1IhfaDXboPaXa9cKRy250NmnWzpLnOWIwwoSy2IdmvdqCNEiI9AEnImfEI2JUoVBDJoE5s%2F%2BxH7%2F8VIhUTYq2J1wF4XcKD2AOWkOA3ZateG%2FY8eKxwX1E0N6Zvnefhvf6Q5tu2PxeV5jQesXa4I7qWLE7crrjoJ%2FyxVXemfpmeX70wC2wQT5nyi5pxiwDZPU40LYzhHX%2FcRv6GHgKpa3kMQp%2FjgG1%2Bl3ofk%2FqQ7PYKReSi9BVshj8FFmHb1QV%2BZaKeOdGJ46NQmR9MSUF5z3SMVr4GxZTIB9%2Fsw22Syb4mxL3oO5xBT1QDrRFadIoK8rzHqu58MsZGpJ24e6qD8kWELrJdBtassmxa6KDVe%2BPQtZE70AzaXbzs15W25nnL8LRKtfPJ2R6d77E9y9yJdnqqszjspTnbo1rVQmEh3K6CY15nadi6OvePHRf%2FnvO4q0DSkgRsNGO2HkWLusgOoyMuDG1Wi0FHtHoaEhmCzVUZme5Dhsj%2BpI74UoqF7xg44BxJdIROiRut0J9BrZGhSztKozj2XD5iybL%2FQn7svlp5LJQ2brzcwRY2qB%2F7uqkvurt7iQqfzuqDHPQ%3D%3D&nvMid=84407734064&catId=50002615',\n",
       " 'https://cr.shopping.naver.com/adcr.nhn?x=CEoVBgtQ9YyVoSF5s%2Ft1qP%2F%2F%2Fw%3D%3DsCNUFD1l%2FUBaQYr7oCaElAYQBfn%2FuXWA%2F2Zj3Psx1kSqCBDoY1GDeT77vBvNta%2BPZKwZ5orxPsH0yAZpmQAQu3cv%2BjB2erv%2BZ%2Brrs5VHOiTT%2Fs8htyn7qbZ155SxFlMX4%2B5YUgfaqE1gqeQGsdxtGPRxsLAiRnnX9rZs%2FpDkcylAJ6xCnO77nbWoZVG2IRPky4HL5kRY67kNrzih5Se6YE0S%2BortKzfQDWBF5GV%2FKfqEhJv3ljJo79VVIpj6%2Fm3WOg7i3JoZhZcsMKAtJ6sfHfqzxJZqgqyth26ArRIZLXxHL%2Fowdnq7%2Fmfq67OVRzok0S5SJNLgIdS1XFCtZ5GETGHmu991BsHBmNiXgngtK1sOq2sLSmHXm2CSGJzsjvOAtzAqYf0SBiPxsmCdH8Zbu3hNpiTDPHzwYG%2F%2Fg7frAUJ%2B8MB5StBB%2FcgxDdB5ixd7rfMRYoh5IvyAIaSjSa4hcBHtUmc8QjKssi2pP%2F8kMWYDdZB%2BRF8fBXg9rbgeaVNVy6GTel%2FAHEXiKmigRByPuBvnvlQi2zqIgLiUpn%2BOrZXyNvzcDbJVFniwcGhbmW7vhkZ4TdjEA34jVxv8Ui32t1q%2BJ3byulXtT7H%2BxPSqHpzp%2BEGvyS0jqNAzgy0BGP2s12LMTlF54%2FU4XnbtQHOhJuD0A0alEKMC5eM5Cv8VgiO2cgZDYmA9nEuUSR5KXox8S&nvMid=83123267541&catId=50002447',\n",
       " 'https://cr.shopping.naver.com/adcr.nhn?x=mRfoFoknIfl122wwWFx52%2F%2F%2F%2Fw%3D%3DsdANiUW5j8Ss%2B%2BuXXMVtpoVyoUjRT%2FFTZdfCFFSF7jLSGjdoUlgfrQo7IGC1SLKClpA1BqPpDvX31qxj55ZzaxlVd6Z%2BmZ5fvTALbBBPmfKLR71%2BG1mg7pxhejX%2BnHQgT%2F6PZoS2hO1IhfaDXboPaXa9cKRy250NmnWzpLnOWIwwoSy2IdmvdqCNEiI9AEnImfEI2JUoVBDJoE5s%2F%2BxH7%2F8VIhUTYq2J1wF4XcKD2AOWkOA3ZateG%2FY8eKxwX1E0N9ns3zpOVCEO0h5PvSXCjpwesXa4I7qWLE7crrjoJ%2FyxVXemfpmeX70wC2wQT5nyi5pxiwDZPU40LYzhHX%2FcRv6GHgKpa3kMQp%2FjgG1%2Bl3oct3gfllI%2FkqyvWDpCLF2zOJEFftxVqhVv6R32%2BFxTmsWe2GEWT5tBZfO25fiubCXa4FfDl09Wt0eCTMm9gsiuaRFadIoK8rzHqu58MsZGpJ%2B0m5GxngyOIrt%2BvsAAICWrsbcDOrKzlCQqlusDCR6U7%2FjpNENb0hlJgdZYaNIssbNrPleB8YLhC2VPC%2Bhtqd3PoE%2B8jG%2FqqaX40GcDwCkRI4P0cOah1CCw1LGV1JTKjq9GgA5njkB5J7THdlKgBW0E53jeBXHHnTar45X4NoMjjb1NmOoRBMBsXNQGXzjfbCxk9B2XAN%2BV7nUgLn7cS1aA%3D&nvMid=84348450283&catId=50002610',\n",
       " 'https://cr.shopping.naver.com/adcr.nhn?x=hfA%2FD2YeR2kVMnId1lMYm%2F%2F%2F%2Fw%3D%3Ds7YzBChZVsDSz9KXMWWTlaUoJaUeeEizDQ%2BVABRZojlV4gtYZ6kf6%2FmxuKI697ksysp%2F4k89y9qwSvb%2Fjx7LI%2FlVd6Z%2BmZ5fvTALbBBPmfKLR71%2BG1mg7pxhejX%2BnHQgT%2F6PZoS2hO1IhfaDXboPaXa9cKRy250NmnWzpLnOWIwwoSy2IdmvdqCNEiI9AEnImfEI2JUoVBDJoE5s%2F%2BxH7%2F8VIhUTYq2J1wF4XcKD2AOWkOA3ZateG%2FY8eKxwX1E0NCsCV2wNZHsSdEAecvmE09wesXa4I7qWLE7crrjoJ%2FyxVXemfpmeX70wC2wQT5nyi5pxiwDZPU40LYzhHX%2FcRv6GHgKpa3kMQp%2FjgG1%2Bl3ofYc7eOWT9M1hCmFbKytf76z%2Fh7FNR9YbKBLXCobGagA7tt56MLa7b8NSPBdg52YNqNZU5GcIhAMuGKBxdB4GvDSrICfviHadUeb6H%2FcwKuyhfxKqAqR6UKyHI5eflHZee%2FPGPaVZHNvThZuXGlwPgtGLFDnp28DLHhb%2FY1p73U96GBpauGvKOawcUNHd9QCyPDl7LQwazjxv0i2Pdtv0Gz8Cby7PcnFTbAHDw3tpcmAIK6yLrldmbvz8kUfRDpe4jXR0nexZWnZQhbCNlboWsTW63gcdIp%2BaS%2BqfMgwoFNRxQ1gbjGL5ZO2qVY8y8hTgE37lpnrn60IOp29JrAjic%2FXtgntOd4yScGSQ2uxNChf2U4uCjkToMEWS16aBzeGtk%3D&nvMid=80470683887&catId=50007030',\n",
       " 'https://adcr.naver.com/adcr?x=6xaqqjqTcZHKOQFJtwKCZP///w==kFQljefQuwqWQDgyO/36xn/Y+vgINzEE1sudkXVYWjJg7GwPfpcZ3eiijlLuS+q9mCM0p9NXd792zuM1CcvMr/lxBgRKAJvti++rrcN3CKjWtTySXztVsftnTk8UuZMA2WiBX4Jix5wOyH8qIaOU5Eof+6qK55hhqa6ZcWQwwaScIARZaPW2HTYGdutu3/k1k7pRsMY+FXZWV/Q+2Fqdnfu21RLrixeoQ81XeOEemKjNIs3TAburkpDzyk3mNZ0PCXz+wQwxhfiH84Opdl1eKUtKHu+kO/ACo/7+yYjHbyblWLTfu8XcloVhNenIXus+rNfwoO64snCq+aSAzMbbjoitTyNhzSC5Fh06RhtlxulGiw9VGvIgVFfGZbeqeBtf/ZgPIknmEqeisNMepSlnoQoJ1kzMrKf/C4rTZ5pwdbEE2Ui9QmfUoUK2hSwe1MZd6E1vIbaeKntRIUYZaSau15tY3vWAZ8ACkhWsvlyajhTKgzvOF4Ngcjl+3tfMD7ZTyKAYPGJYnv+MDmiknvKggaQ5F+Ncc+QlwzlG8qAPeoC1+Uc052DDhsa0m3wCcn0GSd3PK4EvK2OvaOB9M7Z+xA5Iod2XDOEtHy5q3+x7WxW/DfL3cFUDZL6dpnlZdUFXbJSSitveRBx3/Dxo7MHq88suuIr8/ufB7HjBjqmc1YGJnUGMvO7CcKSm2JIOQoGijQIwSGJvGhrznia50mayyDCUbxIenucG3v0xkeyNQox+V+bVHozUpmL4JTAvBy8DOXvBCUiPv69qVXR7LoP5UpdStkhWzYo2NvHq07d/a8WmKMKlDtExFLHc4Mhah8Il9HUl56x5U++kKvXIRrN4Tv+qg1zJixnkVEjYl8/+fwGgxpoSTDaZ+wnByErqAsxhUUR4ZcL1KTdMykVUXLfMkWpiC2/gNQmQXejsjm3v4+IvzM1fqzBFmKArWTS/smu8T/1jwrztmzLzAnhqzknnFZ2MKKhGHKm3PaP8yvQKMU/zdvXU2a2hQD85NEzEoJ9qDyzFdOSREDtPNUYO5VyEtkQ==',\n",
       " 'https://adcr.naver.com/adcr?x=tZ0XFv5VNr7hI5o1kxmnrP///w==kenbjvQV5pSgg1leN9N53gFFEVyNc4ztvsOgO6kYJS9IaLD9q/YhIwI0Y6+k6yzvo5vSWNdX649CizZfsWkEYUzebaBag0bBsBnPFYBxm/JjGaA6hEY2jYt7KtFFF4+mf64H4xHZhpLoARi8x877KvVJAgZG5+F6q/ubvrEOMyrBNodMWsMZlKmI0ZAQXu/XVZQfDFmwCq3Mbf3SvBtdl3XK8hx0HULiTRIo+8YPoE2xH1i5T2xalv0mrQrGafBPd8Ymi5o+125Vrva2ikB5rnXlDLdjd75WBwvCk8mkLWJl34YVy2M4jh9Fu3Dxli/VyvGNT3OG/PEbVPfj7Khnk78Cdsr/671isHpnUBZSKo9cMhYFN12pYe8vAVqBD94Y/nh3LfmLlGhA9X8SoDs7wZ1AEr+G3DSNb7Nc53h0V9xYOrSJJ0RAqfYEiIKqwLBlZ1ysQ3HjYB+ch+Y7jAzVqqVsy4q/ifUeZ/RbdwbzmiuQ/Bh0QrHKlXksQpHi2t5a1nRRcMNsj7wF/tVHxKXIgm3tqxJutRV3ISC7NBzJpIlOlJ18udcAErqE8VYMp4dYYXitqAwTGocg1UrDpWex0bF3unHUBmqDxLGHI3yTf4Mu4GhmtyHyck/RLRwJFfci+Guoy3KH1wPa1sM/pM2cw3yMRtbmEuZwMzMyHN4zrIIZOH8qK/4h6XT8ddukXK6NjVxhhdHhO5NT00z1yv5W9zJy3bMGB8TOat1IWCQJUUnQf1HaLhXUvk1unsi3QS/Rd74uMocZJ3VdqGS+0ariEYg8qHEhD4tif7B4Ch23ByJE57zJf8WGe0fnsC/FltROULGNeh4rsd3I/UCc0pfseShVXlYuBcbn9HqThKD0X7YNbdipJ4aAfViL1HsXJsCKpraXTFXxZbBEkoqwQx5eC4EH63H0HOUBzBD+bFE6ZDM/vZjB8b3xuKapI/c9I+hV3srqg/QUnCjcUf3vmymKOPdqKKvXw2vF6d/A2QfQdFHlMkfAoc6F9+qePawMqVmB2BJnPzRrt1s1nLhi4q3TgUQ==',\n",
       " 'https://adcr.naver.com/adcr?x=dDZWXHPYS89TQQZed2M1YP///w==kPecr9aMLinr3Fj+Nohq/NVfE5GfzY74T1dQcrDPV/ednePIpXcg6QEDPqychGuqqAOloG+tXi8cGLFj2KH6cOUblJmJVbQzoF5AjnwxBMP28CZlAJdZ4gGrZKoVeLAvPB1biPrHy1rCbbofbduB7r9UTU8Dsz5Og7GozI0LKGKpZc0bT6TrC/zLhtfIurYNLZi0cMEff5RcaHYauLGexGoeHFDOS8KI135mLDg98++MC666sTOVIrFWAOTktcjQg5pYAI14GZeG4mZIy2BL32u3JUty/kaSRKD6qG9JWXIEiLbxLhMfHEEv945FYM2VnG8eUOS0RI5xRRha+3YV7wuedw+xjvYUO/oGxW5w7rwEESnIX3pbEoGlyAdKNegxYmY4DZ31NYaywxT+rdXX7qq51J1g5IV8AWbfeS8e4CqwS0LlWYAU4GsN6drbpArduxTiQt+r/k1Ig2eaBhXuVfI/Euuzc9TZkl3Of/D61HTrrxtt42G5YHGIRnaZY5jFq5u74VLIPRahdT9EpEbR9KJ+pXmHjiClS1TlR7DS354ZpZM5V3TRcMiEK4i8DIp8BnDnjmeKqCYA3drexX/qdjRMwkXLaovUBof5SfXg1z37VB1Bat5m5K3RzitUOGO0ES2Qt9r9TG56iRZiG39GnI/ebxtvlYAjr1Du+94IgZ6HRNsm9ntKsmoS5ZKUXkjPp287bnp/oXqqcgywIcKRslWvvWA1ekxDNRBpC5UaCRMoZj3k9n8yKeC89diXkKESZXgoM3nZEjrJqABtRJiBcwtGUL6Jr2kEnJ7+7oyJtXe7uNu2tOGTnYfqsJ6idc17ETAlprcH1QfvCdVJ07GWf6cVp+y3Kc3NHqr0DzVdtPHOafuTtIc9QMDiAfNU0lndUYamiZq08s8zqAPbeWSmIGxlYG85yZc0iM5Tv9JStlDR1CP72lG9rnziYb8icqYRF4yfu2THRgtTMvJ4eUJlGs2Too2497LSFtI07FxKtRW/PVJ0mSW6y5cIFqD4QS1112gRGJMt/dgB6qwiiaYoyjA==',\n",
       " 'https://cr.shopping.naver.com/adcr.nhn?x=TglSHRoYujRbLEEGgW54HP%2F%2F%2Fw%3D%3DszYXYH8aPkBZUhUKL%2FZ0UCiLthH%2B6VxC%2Bb0pe%2FhrD9hkA%2BJ7R%2B9oysFI3AbOfk95E1Kc8eDe8Z39aHr%2FAsynwcsv%2BjB2erv%2BZ%2Brrs5VHOiTT%2Fs8htyn7qbZ155SxFlMX4%2B5YUgfaqE1gqeQGsdxtGPRxsLAiRnnX9rZs%2FpDkcylAJ6xCnO77nbWoZVG2IRPky4HL5kRY67kNrzih5Se6YE0S%2BortKzfQDWBF5GV%2FKfqEhJv3ljJo79VVIpj6%2Fm3WOJNFtaBvcPx8tsxG4OUgI5KzxJZqgqyth26ArRIZLXxHL%2Fowdnq7%2Fmfq67OVRzok0S5SJNLgIdS1XFCtZ5GETGHmu991BsHBmNiXgngtK1sPX1TKpt4sqZoy5iv%2FHfxVGLW%2FnH12rFg%2FUo1I3q8nu%2FE8s%2FPk3u8nIoUL5%2FIWhkdoFhuDJNh0kx1L0t9g8dTWA3XChkvCt7%2FRzot8LxdC85sY8gy22ijgZFOMImUM8nld2tmnmiSXpbuMSvIpoV%2F3cQeYih92dE5I76FNCQ%2BiBRPUSS7JCGr93a8%2FDKB0TBshFwtM7oqsSA%2B6MrIyM38BTYPUYWhnC5udUvfzWkfGcBUfMYnvsNa3jvZbjWc%2BkIOHHkUjHC3ok3X9kWxorGDqTgtqogf68OxY98mfhef9kjgC2zQhnNFgb2M%2BYP5%2BRSM1Z9VPYLiYqQqow3mcf7IUXbfPUjKo0Ly1fVBHKIq%2FSqoIcTV6bcwZzlKNwPOGuWUctmnBHZupnS6aqMFuf7IQO&nvMid=82980101418&catId=50007030',\n",
       " 'https://cr.shopping.naver.com/adcr.nhn?x=lB0aAYoSiESfT2FR9t5ss%2F%2F%2F%2Fw%3D%3DsoAn7OssoJagRL6H0Dxa8qnHAdfW4u7aDlcGCi8vzhJ0m3qYc%2F9RlXik7fzfWsE5mfjUhWi1Xp4naJgGaOpmgtVVd6Z%2BmZ5fvTALbBBPmfKLR71%2BG1mg7pxhejX%2BnHQgT%2F6PZoS2hO1IhfaDXboPaXa9cKRy250NmnWzpLnOWIwwoSy2IdmvdqCNEiI9AEnImfEI2JUoVBDJoE5s%2F%2BxH7%2F8VIhUTYq2J1wF4XcKD2AOWkOA3ZateG%2FY8eKxwX1E0NaFYHuYz6TxnBVhfnGfsJ8gesXa4I7qWLE7crrjoJ%2FyxVXemfpmeX70wC2wQT5nyi5pxiwDZPU40LYzhHX%2FcRv6GHgKpa3kMQp%2FjgG1%2Bl3oc1fvxjGEkx%2FUhcx74UhaN%2BGxTxOPXiVX2gGDfJ%2Bm%2F1JNMSUF5z3SMVr4GxZTIB9%2FsbZuEsQjOl6aDr4FhDt8XHFCJLeTNMiIpdd72TMnUFR3ksJUIRuzmo1024Mr%2FmK8g7aJonC7CHgoj5vCnmN%2BZdJuQRK6jTJhAa3AUwOOjBfazuzT467yeHs2BJJ1kgztrCsJdWZ30dsP6%2FAvPysVWWJ7Jf9asKuD%2F62XRSWUSYMq8YHJlsx6dHKrPyZ%2Bs%2FD%2BU3b%2FYoPF8PfXXi%2F53tzhJTwutt3670kCMYB%2BBcLNKBysnXq52WlLtNdGnwEoCeGaZWkbDrUFJ2hBG8QaB8WVzn&nvMid=82911910420&catId=50002615',\n",
       " 'https://cr.shopping.naver.com/adcr.nhn?x=nl%2BomUJFo1GICkhMrDpgFP%2F%2F%2Fw%3D%3Ds%2BH5vpXAx0rRcNZF%2BTs1j2y8926wpyWAnipEJYb87bUMmf5X8utMZSen6LDFYA23Ta02%2FaaVIlruQq2MxV4dujbngnxQ7ssMZd09T0OjyjIyc8aXVMDAQlaNV07bsUe8retN4AlbPcmwFF0OI05BuhAaZZA5XHyCsRxesnGe3Jlt9mBVFBCUuJi0YGOOkLSjILnyXZpz40F3Zb%2BgW98Q3sGFEV98CfAwi%2FgpsOD1fQ6BKy9uZgfsv%2BOFb220zRzjpOvJU7OHzZ%2Bi5G9A9QrgRpFQNGLtbl9J5Mq3faiCMLQW54J8UO7LDGXdPU9Do8oyMQnQVV1hBbjmfKy8hwM3DJfuWFIH2qhNYKnkBrHcbRj3Myp%2FSw4du1zSmUVaxaapXRla%2F0xddjrdOBApn853CUXYo1O%2Fq98yFUAsOFSzyZF5538UwkCbZY7gE8SooVVHqJblpSSbeqTQIOfloQhcBCYy4PuzpPyxOB982ZPkhuxHucO5GGp%2BpbiCz1zvVUTPYEDKN4xUlup39w9hkbaZ9yWs0tt0P1xTr7REpqBQHLXTj%2FKg5M7AduIB9ucI%2FR33pBDUNttR1qU5eYzvLj%2F9k0QPbtlolZXgyuvk9UgUtjVHulPDtDXptg%2FK5XqjSVpx5JKZHuoCYJA5gxb%2BofoovIA2UKvVRjlPkhGL9204q2KYnG6%2BJzCijB6fU6lA4%2FJ6kY7RBJx2aPv1bgiR77Jh46zVpbQSGlUizVRqW33BFA%2BI%3D&nvMid=12310908939&catId=50002615',\n",
       " 'https://cr.shopping.naver.com/adcr.nhn?x=97I1PnkZ0qyGQfgqbeOc4v%2F%2F%2Fw%3D%3DsbS8BHuO5jhRpT1PQbWZvRSJiZh79G8GakY%2FnUN8aWHgvTRrMc8N%2BIRsrFHyfhvyn49YlYw406XjySxpNW20DQcv%2BjB2erv%2BZ%2Brrs5VHOiTT%2Fs8htyn7qbZ155SxFlMX4%2B5YUgfaqE1gqeQGsdxtGPRxsLAiRnnX9rZs%2FpDkcylAJ6xCnO77nbWoZVG2IRPky4HL5kRY67kNrzih5Se6YE0S%2BortKzfQDWBF5GV%2FKfqEhJv3ljJo79VVIpj6%2Fm3WOLH0xBnUUOGhvZUrPEO1VJazxJZqgqyth26ArRIZLXxHL%2Fowdnq7%2Fmfq67OVRzok0S5SJNLgIdS1XFCtZ5GETGHmu991BsHBmNiXgngtK1sM80BrZ4Epnx%2B%2FQoIp7PL8AkUvR5wttwVgFi%2Fy7m4yAQcVAcuOReYNIy3j%2B7j7T8QOhIiD9nX1%2FrxlGzGZEqfiazfNVo1KcSVSazeZg7M%2BAaeTgPrYnQdBOaSLXC0oMkmR%2FX4sNlIdz3jzFATeNJyresx71wNctKzfspB89ioF2Eud2FdJVgIWyiq1vev8P6slppN9V4LxvyurCJou79vRmXK7Q1tMbpcTlbN5Im0DT6CDx2aF56Sq5qDUhW28k60bQsO5ApmS5YMwyoHRYeLTWn%2F9f394ktwalel%2Btx%2BSOnDbM8wKSbg%2B5uOZp%2FKqlEVc%3D&nvMid=83018755601&catId=50002615',\n",
       " 'https://cr.shopping.naver.com/adcr.nhn?x=PjyyoxpEZQMux4O9c2V8s%2F%2F%2F%2Fw%3D%3DskqIN5T6d00Doa%2BS%2Bw5UEkYs4OlQXl1t0F%2BBM25VIK7sD08Zt08MqOiWxxjchgQnao2mWQTTbbq9gpVVnYmkICN9%2BKy%2Fm0d%2BgYWHtEf61Jo4hrX7i8ROREiNblWok2%2BM4oYeAqlreQxCn%2BOAbX6Xeh4bAVENK%2BFPgE%2BceEuRoIyzYp8WJRFHs29SbR36Di8MSH%2FTL4BWKrWRB6Z%2FuixYU38mscUZuB%2FB3GA4tAdwd4kJn0E%2B7lsL8Xc%2FJzL4Vwihd2IzCIjReGKktG8Xr0GAdgE8%2FzrHmea%2BijwTq4TEcsXLffisv5tHfoGFh7RH%2BtSaOAFJNLWxG%2Fj2gEfGb7GroeJYon82LnxeOQ%2FLYJl5%2FRKLVdpYMANbjKGsT%2BBwI%2Bw88OFwJopFjoX1cl69d%2BPH91FGqyJMprwuEieV8HiAfwN%2BQD9Jmj29mnrY%2FuDxNKqWicPhA7WLZTCWcE68vcKpJF8Pmo4vm5ypuPwB7O06SZoD7V%2BI5YWtFvFnsg8Zyi5z8ZszPzeRHoWbJE6kjXcKAcNgNTrQk9rESfWSUy34GxptW9NR%2FjJn9SzLmR5V5%2BRY6ewEtZLQbHaGyId%2FVTJkZjz%2BTUGEcYdm6a3Rlshq2Y%2BGzw7y7XCOjv%2FlUc0u3Q3qLU3xsQqyrCrOLl7krIqQKTaqUkKLR8djyk8l8u8VYtdPZeIPEqooM19iMyPakdiAbmF1dZZoBVK5BuOofahgw8CV0hZbHqiW%2Fg%2FctbmnUxO4%3D&nvMid=83370828119&catId=50002442',\n",
       " 'https://cr.shopping.naver.com/adcr.nhn?x=Rm1VVmfrl%2BcWwu3gREgb%2B%2F%2F%2F%2Fw%3D%3DsK7JKTMon%2FeCN4vRBAgVRmhCooDy%2FBkwS%2FwdvenX%2BILZ9FuhcWl8d95itC%2FLBNGAaJlv6EhLvy%2B513lRUj3BJk99%2BKy%2Fm0d%2BgYWHtEf61Jo4hrX7i8ROREiNblWok2%2BM4oYeAqlreQxCn%2BOAbX6Xeh4bAVENK%2BFPgE%2BceEuRoIyzYp8WJRFHs29SbR36Di8MSa09eFwMOfnqnHatAM5PMaW%2Fzlkaggylryt0IEowRYKPgv6Uqdx%2BQ4rufvoPK93htossc5Q%2BtKLDx6KZMeBXEb6XAbcEc6PuS9CtmUQMdh2QOQ%2BZCjWNNsI25%2BqpYf0fsFDPPeoaCkfulfu2ZaUPsogez%2FY8eSma9aMvarLWce5sQor%2BSliTA%2FsvUk%2FCddh2Bds3fFrXV3lisCjJMqK7JiLF%2Fm1dAw%2B7v8cbEemMiU1H5HBFj%2BQGdx9XUvIXC4opbEV6Ymf3idj9l7baf3geMZvbcoSeS%2Bb%2FyyY4Ci1Cdqu64HdZ9sfAhOcAx8n1oLx%2BXp9UNCwI4hV4%2F81OqR%2F5YRNRpay7dhNJhu%2FxIbLk8w4rufVOmbqu1nQbP89zimIhrZ5rCXfJ3TTAoxmcjV6U9YfJ8wJZ4RsZ%2BgkHHTJiysWWTEmmktE3%2B%2F2i4es%2BL6Du5QYW5BrxVr63%2FCN%2FvslMsKt5BPlYP%2BJsSnJP0dcssmpcP3T9EjEnr9jctMMVj7oKcZTi4KOROgwRZLXpoHN4a2Q%3D%3D&nvMid=29439341785&catId=50007030',\n",
       " 'https://cr.shopping.naver.com/adcr.nhn?x=oBrzh%2FNo5toK%2BhfvswrfBP%2F%2F%2Fw%3D%3DsRDcBbCkSnEYIyiwSG9fgEb8CJJkm6ZTk4UkMol0IyNuOGNP86KeOLWJNNVfudl51pB95fr3LmocA%2BJGNJAZv2d9%2BKy%2Fm0d%2BgYWHtEf61Jo4hrX7i8ROREiNblWok2%2BM4oYeAqlreQxCn%2BOAbX6Xeh4bAVENK%2BFPgE%2BceEuRoIyzYp8WJRFHs29SbR36Di8MSH%2FTL4BWKrWRB6Z%2FuixYU38mscUZuB%2FB3GA4tAdwd4kJn0E%2B7lsL8Xc%2FJzL4Vwihd%2FdQ4YobTuu4xDs%2FuGu1LME8%2FzrHmea%2BijwTq4TEcsXLffisv5tHfoGFh7RH%2BtSaOAFJNLWxG%2Fj2gEfGb7GroeJYon82LnxeOQ%2FLYJl5%2FRKLGUEa4ODWwj1BKBsCepjs6wDTcf%2BV6MMidSe%2FBgLWZQ95dl4zROLCHn0TknkqwGreGCwfbPiS7pLh%2FwYp%2ForJrJGHDETTjqN%2BRmbq5hdSnQijFg3bWutv0WCfSd%2Fywtx%2B5hL9jq2zl26KR%2FpFOo0cq6%2FH8na%2BcBkjDm1v6GlPVcEsBBtXrTPCm757YK1VCs4NaeerGtbBAagNATKKLkyy0sLUNV2EQCGqfixRJmqFZBoQYStmJBQ1oCJcf91dVKuxrCA1fXc7zNixwDOQxl%2FEG0SgJ5ANi4X1JesVmiblk6PXkwhLyLbsR%2B5E5a8QmpTyYXV1lmgFUrkG46h9qGDDwJXSFlseqJb%2BD9y1uadTE7g%3D%3D&nvMid=82635901341&catId=50007030',\n",
       " 'https://cr.shopping.naver.com/adcr.nhn?x=rWrkpJ2hmDnFm1MiOsl0gv%2F%2F%2Fw%3D%3Ds4c3G0o99ObnMmy7zesvqB6cwIYQDEyuSbh9k1Rwau3zor1lx4kBn1DDlytWRYMsYKOsV1WqT1mRhSRKuivC%2FNVVd6Z%2BmZ5fvTALbBBPmfKLR71%2BG1mg7pxhejX%2BnHQgT%2F6PZoS2hO1IhfaDXboPaXa9cKRy250NmnWzpLnOWIwwoSy2IdmvdqCNEiI9AEnImfEI2JUoVBDJoE5s%2F%2BxH7%2F8VIhUTYq2J1wF4XcKD2AOWkOA3ZateG%2FY8eKxwX1E0NQdfOJsEt4FADTLCP8Gw5owesXa4I7qWLE7crrjoJ%2FyxVXemfpmeX70wC2wQT5nyi5pxiwDZPU40LYzhHX%2FcRv6GHgKpa3kMQp%2FjgG1%2Bl3ofCJqw7sM7MHkauf3exa1mm%2BGVuonCjBQWUcUqab3fxsbwheUFUN09gETfOHZ2WcdVMzsD8mBLEjprFwREOVC5BEqDiPlXQi3pHud6o466IfQt9lQ38Q9LZfpEZkIbC0AkTeD999L5sJpx4Q00EvCHNJ%2FSgZL14k5snc9PHv6m2NLH2290ObskngTabOS%2FJlHLcYObo8oh6hKTLmW7yFNG%2FjI2%2B41PyfoJAR0ITGrkwmXGt01z0uBjLDb2RYAhC8ZuvGByZbMenRyqz8mfrPw%2FlQloAZk%2FihkKb5Wp%2FNWhzUO0wtGvaH0uIcHWP8B0omHLJ16udlpS7TXRp8BKAnhmmVpGw61BSdoQRvEGgfFlc5w%3D%3D&nvMid=84224038195&catId=50002440',\n",
       " 'https://cr.shopping.naver.com/adcr.nhn?x=HGsYtEUxgqjfePYUdIMnB%2F%2F%2F%2Fw%3D%3Ds2Iru4e%2FxavgevIeb1h5yn3O%2BYp%2FGBO7WbMTgjv4U29GlCTNB%2BT5SEDUdqLCeNOwmEVB5gaxyTn8HDODC1yflG8v%2BjB2erv%2BZ%2Brrs5VHOiTT%2Fs8htyn7qbZ155SxFlMX4%2B5YUgfaqE1gqeQGsdxtGPRxsLAiRnnX9rZs%2FpDkcylAJ6xCnO77nbWoZVG2IRPky4HL5kRY67kNrzih5Se6YE0S%2BortKzfQDWBF5GV%2FKfqEhJv3ljJo79VVIpj6%2Fm3WOhe7UkGcQhtx5uuxXhPnp2qzxJZqgqyth26ArRIZLXxHL%2Fowdnq7%2Fmfq67OVRzok0S5SJNLgIdS1XFCtZ5GETGHmu991BsHBmNiXgngtK1sOnGsVkWisjPWPfcW5%2FPLqkS0TpBqKDnNrSqERR7%2ByZ3sVAcuOReYNIy3j%2B7j7T8QOmmFxsO0uPTx5BjSAdJbuuzfNVo1KcSVSazeZg7M%2BAabdYBVrT6WiOfDjZjAtyo5yLnmRLCM5z%2F3ZavuLsjWi4vLuONu9lBRgP4XRplHo1XKhBmDBBIfLl3ZxZ8cMO2R9r31keVpHZoKbLg39IbHw8aJolcr5w%2FbCHCEpcwi86GQ8oPRpvMPl6O7r8IKgS8Pnbdq%2F4KzRHhYBrYiuufHxQnW9HO2KP7K78pqdrF4ACrOWdyAIsBxULqBoUxWvXU%2FMNt6ILgHaPWkLkHW077J4W&nvMid=82647105597&catId=50002615',\n",
       " 'https://cr.shopping.naver.com/adcr.nhn?x=hsSVn%2FtH66Dipsw7yhpAvf%2F%2F%2Fw%3D%3DsrafoUqBggHfZw5zd72%2FrRhm92a74z8UxO6XtoK69fYuQ9TdBvTSpBjaXixUjLo7th%2B5nv0tQAPx%2FeJvAz8l3YlVd6Z%2BmZ5fvTALbBBPmfKLR71%2BG1mg7pxhejX%2BnHQgT%2F6PZoS2hO1IhfaDXboPaXa9cKRy250NmnWzpLnOWIwwoSy2IdmvdqCNEiI9AEnImfEI2JUoVBDJoE5s%2F%2BxH7%2F8VIhUTYq2J1wF4XcKD2AOWkOA3ZateG%2FY8eKxwX1E0NXjHTzYj2IIViOIJJTvWnVgesXa4I7qWLE7crrjoJ%2FyxVXemfpmeX70wC2wQT5nyi5pxiwDZPU40LYzhHX%2FcRv6GHgKpa3kMQp%2FjgG1%2Bl3oeJKYdD6BG4YcUlIk6cApBAdVvQnF9s9vAz%2Bac5auhkt7tt56MLa7b8NSPBdg52YNriAdvHtW4cxvkvNWw2WKM%2BEWCU7fHSdTHoSvPwsKkDDJ2qWYi9fdClU3hwvL81DgGZuH7p1U1iGSN8Jddu%2BY56d4hQk8KVvy6dohWM6rfXaf3zna8zeik6jqY054eyfBhlwQRpMabjLrhAVf3yWGL9Jm7s%2Fp10SFlEd4ZSAudh80YXYmBBVGrbqUWTUVDR%2BHTDolQnRbI0z6GK1RrOEkHJCTNB5phXhYsgXvQQniJCBDLbKtPPp%2BKLB7Hhi3jTdWgTTilJ0wLOj8fT7ZwLu%2BNOnIGQ2JgPZxLlEkeSl6MfEg%3D%3D&nvMid=82879724405&catId=50007030',\n",
       " 'https://cr.shopping.naver.com/adcr.nhn?x=rJ4lbYzNx7ZEv8JZh%2BtqXP%2F%2F%2Fw%3D%3Ds1RHfhwlBH3cB5cqzJt6MLPTwNDV0ws%2BWYhcnfEd9CnBrHoXPNsCc7093uUSLPPyk6TFfC9SzgVpY4oi6MRSip8v%2BjB2erv%2BZ%2Brrs5VHOiTT%2Fs8htyn7qbZ155SxFlMX4%2B5YUgfaqE1gqeQGsdxtGPRxsLAiRnnX9rZs%2FpDkcylAJ6xCnO77nbWoZVG2IRPky4HL5kRY67kNrzih5Se6YE0S%2BortKzfQDWBF5GV%2FKfqEhJv3ljJo79VVIpj6%2Fm3WOaYaDAxA%2FNULsp7lCxFY7JazxJZqgqyth26ArRIZLXxHL%2Fowdnq7%2Fmfq67OVRzok0S5SJNLgIdS1XFCtZ5GETGHmu991BsHBmNiXgngtK1sOwbs90a7jo8InNuIkJgTx6Sqi2lfI62CtxtyGt7pT1N%2B5UO2B9WzGuN%2B%2FtZas7SpyQ4jrBUwrCAsdKC%2Fwjxb4HzfNVo1KcSVSazeZg7M%2BAaRHChK0hVuxMHV7GN5ksZx4NU5YxntePvSrGPF4PAgzbdx3g0uozijYxl4beLdMy%2FuzkTd7qRpPwK6as5WOIBf%2BOr%2B6%2B3M3%2FNiuGQDVsIm3jowO6jlTWA4Mx7fq5CBoNE%2Fxe%2FxuE3o2N%2BeydoZRon4obTCG028%2BriilRPnaQDGGmBoV62bXoaBkb9ZHbWnBA7Q6RrhHxnjXxIx49D4ALvXQqHJwSSn%2Bhx%2FRh0e8Y4qMughKpb3CA%2BLgNZXr77XmpqMfWVZ6vRKi%2F5buFehsUiNw%3D&nvMid=84060437766&catId=50002447',\n",
       " 'https://cr.shopping.naver.com/adcr.nhn?x=KFzMQohEy%2B1gZJ8nrpQm0%2F%2F%2F%2Fw%3D%3Ds5D%2BG1L%2FOPwtL6Nj8ypehyTitJbFVzn1YScnS%2BGTiIjjn6hVRRnp8hd7huv6DZ5TLceZYwUFIY0A7sVi%2BxClC9Mv%2BjB2erv%2BZ%2Brrs5VHOiTT%2Fs8htyn7qbZ155SxFlMX4%2B5YUgfaqE1gqeQGsdxtGPRxsLAiRnnX9rZs%2FpDkcylAJ6xCnO77nbWoZVG2IRPky4HL5kRY67kNrzih5Se6YE0S%2BortKzfQDWBF5GV%2FKfqEhJv3ljJo79VVIpj6%2Fm3WOaLYtz36hRATX4k%2BWONkxbazxJZqgqyth26ArRIZLXxHL%2Fowdnq7%2Fmfq67OVRzok0S5SJNLgIdS1XFCtZ5GETGHmu991BsHBmNiXgngtK1sPWa8p6oeXCSB4hrzjLTa3WgkqBf7VszPpV8yIUTMiaJHeJavoV4OoAXxnJfP8e75pvtDEUM9pc50rCz3tv9DPazfNVo1KcSVSazeZg7M%2BAaXn38JlwY%2BPS%2B7H%2Fi%2FcQktF%2F0Rr%2FsG1GsaDHKZmLw4EYv%2FvuxyOUs5YYu3eem%2Fr40rx3EYExlvJP%2BfQ2iZwk3m7iVMud3XU2nA4E9wjAswfgyTHjvzjvttJIsrUD3m%2B4cySmR7qAmCQOYMW%2FqH6KLyDjIPBl8OQb5UX3Kuuz26UTrAD%2F%2BKN3B5rcYYSIY%2FHO2WO0QScdmj79W4Ike%2ByYeOs1aW0EhpVIs1Ualt9wRQPi&nvMid=81949181218&catId=50007032',\n",
       " 'https://cr.shopping.naver.com/adcr.nhn?x=9WAQei5qBwewM3OIFqI%2FsP%2F%2F%2Fw%3D%3DsK4Wcpv8T5QW9qxdOj5u73NnY4FAVNr88EEG7lM9%2BCiNB5iPFAV%2FZXvcbLrNEtYpC6iA7AyMqjAN47RNH%2BlNUHsv%2BjB2erv%2BZ%2Brrs5VHOiTT%2Fs8htyn7qbZ155SxFlMX4%2B5YUgfaqE1gqeQGsdxtGPRxsLAiRnnX9rZs%2FpDkcylAJ6xCnO77nbWoZVG2IRPky4HL5kRY67kNrzih5Se6YE0S%2BortKzfQDWBF5GV%2FKfqEhJv3ljJo79VVIpj6%2Fm3WOuO406GstrsFeHWdDkulGaazxJZqgqyth26ArRIZLXxHL%2Fowdnq7%2Fmfq67OVRzok0S5SJNLgIdS1XFCtZ5GETGHmu991BsHBmNiXgngtK1sNydHeeojctqzz%2BAzphNILt325ZJOAgifxMEe7GaxX6loEWpsMiDK17vNY1xbgKYoQ%2FYxdGIRtMqdBIH6TIFEKdbgl%2B6nysN7iylSTy%2BxBAoVYrZPFvgUudsmlJ9NZVJnIo%2B169%2FJigWebmVT%2BuRw1K3H9wGMp%2BpSG7Kib5stR8iJmN%2FvSd%2BOw5%2BMx%2BLdTZ49fs%2FmBQEM8ARBvwX7g0edHqf3kPDzBfpD39VV2WgurLybjYszdzQIQb41cRB0zkTt4SLTUD0N9ofC%2FavhJs07XwvTC9dZa8Y0qmjrrVusvXLkKoej11G3tBTVv2r96q4brFXR1wQof5bVJXX5C09AO6i8PREhL5jWWo0nOhXh2YQA%3D%3D&nvMid=83667884894&catId=50002615',\n",
       " 'https://cr.shopping.naver.com/adcr.nhn?x=GHyBUB0JC7Yc280WSr0wI%2F%2F%2F%2Fw%3D%3DsnaBXd3FILpRUn5BCvAIjcCsQJLyg36uLLHs7Wdnzz2VQN2jv1AW%2FC6iXKw7jIpdqocgPBKcfX%2Bwq0FLnQFY7Ssv%2BjB2erv%2BZ%2Brrs5VHOiTT%2Fs8htyn7qbZ155SxFlMX4%2B5YUgfaqE1gqeQGsdxtGPRxsLAiRnnX9rZs%2FpDkcylAJ6xCnO77nbWoZVG2IRPky4HL5kRY67kNrzih5Se6YE0S%2BortKzfQDWBF5GV%2FKfqEhJv3ljJo79VVIpj6%2Fm3WOCrzCIq6fkbkXvQ1urTwEq6zxJZqgqyth26ArRIZLXxHL%2Fowdnq7%2Fmfq67OVRzok0S5SJNLgIdS1XFCtZ5GETGHmu991BsHBmNiXgngtK1sOj1zss4yy08PXWG4u%2BQ7uy2Uhzo0kedqPJa%2FbvjZ9Tcu5UO2B9WzGuN%2B%2FtZas7SpwmitBlvDc2fpS9gv2V7gHozfNVo1KcSVSazeZg7M%2BAaRHChK0hVuxMHV7GN5ksZx5wOMNucT2mXPzOaG1mlj6IkZRh1oNHNOZDSUiIvTeBPT%2Fqx7iqoiMHhx%2F%2FWdHXs5jr7JqhmRU1vEG2Q34xFHVNgk%2Baax2cD4kbfFuvQmSEHpCGQZqWmw7WK09Qz7zqU0LAiCgXpzRJwdPaa63uyahZOzEiIuBBx0jpzx73YT0gOJ%2BbToGWHTOuBpCmPiS0IYI2zPMCkm4PubjmafyqpRFX&nvMid=82635789994&catId=50002447',\n",
       " 'https://cr.shopping.naver.com/adcr.nhn?x=zBpuNnO4wCnpnNKf6TBQjf%2F%2F%2Fw%3D%3DsWyfnSAZTbK7Drj7WyzetjG85CHj3cM26%2Bpd6TxOMqWRxRuEK%2FRrpX61n9GjG0zeSwWqeDdVB2TnlGBCEtTOi5Mv%2BjB2erv%2BZ%2Brrs5VHOiTT%2Fs8htyn7qbZ155SxFlMX4%2B5YUgfaqE1gqeQGsdxtGPRxsLAiRnnX9rZs%2FpDkcylAJ6xCnO77nbWoZVG2IRPky4HL5kRY67kNrzih5Se6YE0S%2BortKzfQDWBF5GV%2FKfqEhJv3ljJo79VVIpj6%2Fm3WO8NvzSBEHIqJt7SIhBicWR6zxJZqgqyth26ArRIZLXxHL%2Fowdnq7%2Fmfq67OVRzok0S5SJNLgIdS1XFCtZ5GETGHmu991BsHBmNiXgngtK1sOfV2wzvZKZH6jri4JSDkzvgMvx8Aql13Z4FFktRbEJCIEWpsMiDK17vNY1xbgKYoR2KuXSqCQzloqvKydxsOOOPoVRGKE69U0rr5qui8URdsLvc6XBstrZ4lN9K%2FBCwHQ3O%2FNaDgJHaO2w7LGMV5XJ4ytOPtPzz8V9dyYjYH3JN%2BfMtHVa1jVvGcTk8jv62rHsndyi0%2F6jzvD4gBXmI3dbq%2FikNhH0NamVGCQXCZEw%2FT2vmQ9bAa2EDwAESkYC%2BlD1XuGRqcQIxIT9ETh78CFAaMbyOItWdMDurnRgiuq9XmU4uCjkToMEWS16aBzeGtk%3D&nvMid=84195168273&catId=50002615',\n",
       " 'https://cr.shopping.naver.com/adcr.nhn?x=hvJ7GykBHGaWZoDBTgDN3%2F%2F%2F%2Fw%3D%3DsOX%2F55tBWLD8TlAQJ8Ek5mXp%2FlA8ukg9wxHtwAjsu2SYc1lEhv%2F1qvsvExRJxQLVAA1gVwm0Nq8gWTewWuRYOUsv%2BjB2erv%2BZ%2Brrs5VHOiTT%2Fs8htyn7qbZ155SxFlMX4%2B5YUgfaqE1gqeQGsdxtGPRxsLAiRnnX9rZs%2FpDkcylAJ6xCnO77nbWoZVG2IRPky4HL5kRY67kNrzih5Se6YE0S%2BortKzfQDWBF5GV%2FKfqEhJv3ljJo79VVIpj6%2Fm3WOxAoCwA3%2BXTczZJ94ad72FqzxJZqgqyth26ArRIZLXxHL%2Fowdnq7%2Fmfq67OVRzok0S5SJNLgIdS1XFCtZ5GETGHmu991BsHBmNiXgngtK1sMttLt78sORGeUDvOCCgV1SJ5gDjP0UQD04G6TpGtprrXqi3rLa69%2BWA6L31M6pumS%2Ffn1KzjZlgtcYuIc6yC6DzfNVo1KcSVSazeZg7M%2BAacZaOZbMzNs9GuVRSKE8wd9v1YBXZlI%2FI2IVktRRnavyqkhiu1H49U%2Bzn%2BJvQqQxGClQPavqy7xprEIxAH04qVqSw7iKkXzgcgRFTiF01GLCQDHgd2M5itMJ78Ug3v4WWcXSly%2FB50OVz8Re0HVaJYDEtxviBDAFmZuRma2lPhHru7vK4zwizOYe8PnbVNAGAN6jcZRzHGFt73sx4JSHnZ%2BvXEfgQ4MpgSrqjnWdFl6j9FGzZOXYtVfI1DG5rR4ov7xbllwhB6WZnJ42baPAkpk%3D&nvMid=82635067524&catId=50007030',\n",
       " 'https://cr.shopping.naver.com/adcr.nhn?x=XrvK7gCYacYhFaGk%2B1fkR%2F%2F%2F%2Fw%3D%3DsX2hbGwId2fdyLeXrDlxjtKytExz7WfZ5A1EaDhITrbWAb9TLhdS%2FQQSoKaRNeNlPFltbwJwwnocNephffkjMmcv%2BjB2erv%2BZ%2Brrs5VHOiTT%2Fs8htyn7qbZ155SxFlMX4%2B5YUgfaqE1gqeQGsdxtGPRxsLAiRnnX9rZs%2FpDkcylAJ6xCnO77nbWoZVG2IRPky4HL5kRY67kNrzih5Se6YE0S%2BortKzfQDWBF5GV%2FKfqEhJv3ljJo79VVIpj6%2Fm3WODMS102a0Obz80%2FYDHKfk0azxJZqgqyth26ArRIZLXxHL%2Fowdnq7%2Fmfq67OVRzok0S5SJNLgIdS1XFCtZ5GETGHmu991BsHBmNiXgngtK1sNrvBpGIILHyp%2BnMqL2IydS5meqQ%2B1oSS5u4Creq1xNEe5UO2B9WzGuN%2B%2FtZas7SpylZHCmSh57CRHrDuObSjw6zfNVo1KcSVSazeZg7M%2BAabhGxkzHO8lEef2wr2dfngHqCEO8PZS49EhCl7hMUVfOkVVvA%2B9d8wCim9MOulY4yPR0WaBKo8dt8KGfpX4sYVR2VODDiRUJgUfZzknwJAIgAWKUXI1LATUYwDMCljPgDUo7P%2FZ4MyFlKqOpDVmLBC1BhbkGvFWvrf8I3%2B%2ByUywqy2GQM6U5sh1G2LLzUnbOT6d%2BVfYK0soQzCzCifWLYXbAjvHbKujLraF8ZWxiIpqOpfCjQTTDsASjlKIoyTvnQA%3D%3D&nvMid=84137559208&catId=50002447',\n",
       " 'https://cr.shopping.naver.com/adcr.nhn?x=NjgqHZ4swlqI%2F8DE7sR4aP%2F%2F%2Fw%3D%3Ds2Kl48sN3l4nrgcHLo%2FYffROypchS1XVaTWktVAI50MfclQ1RmwvI0aV%2F83dxJoLsKIqM4Dp020IHX6FLoaDFV1Vd6Z%2BmZ5fvTALbBBPmfKLR71%2BG1mg7pxhejX%2BnHQgT%2F6PZoS2hO1IhfaDXboPaXa9cKRy250NmnWzpLnOWIwwoSy2IdmvdqCNEiI9AEnImfEI2JUoVBDJoE5s%2F%2BxH7%2F8VIhUTYq2J1wF4XcKD2AOWkOA3ZateG%2FY8eKxwX1E0Na6t6nqh6WvU0L1axEka88gesXa4I7qWLE7crrjoJ%2FyxVXemfpmeX70wC2wQT5nyi5pxiwDZPU40LYzhHX%2FcRv6GHgKpa3kMQp%2FjgG1%2Bl3odHFMhbwr0G2N2PGbmXDOnA8BU9LCrXvXlsn6L7hS4C2X4WIwVTJng%2F4zlzkvLRAd3%2BqPlmEMCmcndN1yB7h7Kn4%2Fcye7A6mCvcsXdTR2gq6EY8AaucD3Nw1ReJ7p%2BMixbHRkg0usYDMzqtnynK4PbAhw0%2FVP0R3xDpbd1DQIM1anbYITaVozHrpsdDT7GOsiGGYmV9hYuZ1VLUAxmresNqzPdARuz7ivz5KbBxJAJr1APbtlolZXgyuvk9UgUtjVE3xYjLBEAnoG3T%2BWtP5QSg4P0cOah1CCw1LGV1JTKjq27eOuZQVZJJrij%2BETWwuGITpifGn2NOfCw0EHCwJRdbb1NmOoRBMBsXNQGXzjfbCxk9B2XAN%2BV7nUgLn7cS1aA%3D&nvMid=80012942981&catId=50002615',\n",
       " 'https://cr.shopping.naver.com/adcr.nhn?x=7J%2Fqg0rlEbnUhtszQ1t3kf%2F%2F%2Fw%3D%3Ds9Ns1KXSWvFEPHWGtOXXyyR4UKxCImgXynP9G0cek2Y2FxuaX%2BOzWDIx7T7hKFy2QHinNrx5sg4hc%2Bs%2BwYZL3l6Tq%2FbD2MGowZHhNOyBhpCfvP2k5UoL2yubzi4vkIHhkqPyI72DO4k0f%2Fe8AYloiwZqIQBCjetdpGGkjP7XrKBRHpsghzi%2BhIKKEhaK0ehwsIotDWoJLTP%2FkX3lLr6X39kuG%2FicFY3q9hGdjro9%2BnxTFQZQlMrAuj%2BMyZsivQwwM0JinwfQqjnwmGceeR61msjul5jfYI6Ne2On6xpSWxl6k6v2w9jBqMGR4TTsgYaQnOgoJMFPBFPATEeqUjMSJHP%2Bj2aEtoTtSIX2g126D2l04t6sPPPn0IVd5vsnt0xEVMrpfQ8W09VYqBSSjvbUiMclsFnKHWhb1zNLFGVQmAj4SB90GnkEjwpn62uq%2Bv4FBfD2HhOz623tJvyI1xAMUvbk4EvJFsqWmLhG%2FU2myD2eRwSn6T3xNPsSheMxT6hsiUEsv4Bp3CnfewfqqqrjgnajP770QVtF%2FpVf3Uix5s%2Bu22EkCPNUm5e6haWog6po15y9T4WJO5OslSKTQE%2FWeZ9rTd5HsJEILa49sG1%2BFy7u8kt3aFcziD4Apdl%2FmkNij6fK4I3myjS7m9f6iPgx2qvHh9n457fiHOpcKNejsc1P5Q3paNJd12ZYWMk%2BdLHa0YOZt2FW9253jdXPYZBd%2FOVYvxcyn5tQHyuImrRD2PiSzqyJHS%2BKm1IS0NSKQmfzoi8PREhL5jWWo0nOhXh2YQA%3D%3D&nvMid=84150667182&catId=50002608',\n",
       " 'https://cr.shopping.naver.com/adcr.nhn?x=QpFsYr3fkAtka3e16Vcasv%2F%2F%2Fw%3D%3Ds92a%2BE%2BMk8V%2BtsJGn5nQAVfQa3h6rRYWL3bwokRtI8p1QHOXF2oiY3zq9qiZTs3qkiVTGXRyfha98K2HFBuOkUlVd6Z%2BmZ5fvTALbBBPmfKLR71%2BG1mg7pxhejX%2BnHQgT%2F6PZoS2hO1IhfaDXboPaXa9cKRy250NmnWzpLnOWIwwoSy2IdmvdqCNEiI9AEnImfEI2JUoVBDJoE5s%2F%2BxH7%2F8VIhUTYq2J1wF4XcKD2AOWkOA3ZateG%2FY8eKxwX1E0NgdHKc1VXBugUK5UYDZ46UAesXa4I7qWLE7crrjoJ%2FyxVXemfpmeX70wC2wQT5nyi5pxiwDZPU40LYzhHX%2FcRv6GHgKpa3kMQp%2FjgG1%2Bl3odCMxi30e1q30ciiLSW2ctnmHb1QV%2BZaKeOdGJ46NQmR9MSUF5z3SMVr4GxZTIB9%2Fu%2FxZ0jP8DEylz7kRc4tvGt2FjrC5flfok6BYqeoW0IJDBf5sV3fdWffEmVQdwshqDoWceEsFYHUNRGpIPGvDSCkHmZLDZ8QkHLkpceI59JXdlpnfvm8MBdD2Xgrb0uXjpopGuEzcaqG1LqcD11feRWfFuebWFwvivKL0aN76UDTLuMJaLceQ6Yo44AxBDYBLOeqRaL97ebptK7AOUkH%2Bw9fgBQGoH8la9Xx5HBh18bvKCZG7IdQFqoz0YfGquGufA67TVLD7oCJHRaud9zypWdDbeiC4B2j1pC5B1tO%2ByeFg%3D%3D&nvMid=84407606998&catId=50002615',\n",
       " 'https://cr.shopping.naver.com/adcr.nhn?x=bkl2Zez%2Fi7N4FJdmGQFbO%2F%2F%2F%2Fw%3D%3DsmUeRUBIO2c7c7eH0JJXF%2BoGWfv1yK%2FjE%2Bzhwl%2BUNVOGJ40UZs5E6754D7GYyVrnnYx%2B5%2FYNGWv52GygHNIMqQlVd6Z%2BmZ5fvTALbBBPmfKLR71%2BG1mg7pxhejX%2BnHQgT%2F6PZoS2hO1IhfaDXboPaXa9cKRy250NmnWzpLnOWIwwoSy2IdmvdqCNEiI9AEnImfEI2JUoVBDJoE5s%2F%2BxH7%2F8VIhUTYq2J1wF4XcKD2AOWkOA3ZateG%2FY8eKxwX1E0Ny0MF%2FMIPTUjilVBXzzEOIQesXa4I7qWLE7crrjoJ%2FyxVXemfpmeX70wC2wQT5nyi5pxiwDZPU40LYzhHX%2FcRv6GHgKpa3kMQp%2FjgG1%2Bl3ocRKnWDXZfqYxPh%2FtbB%2BeZ6qjPfFr7zJTEfwxwYy28PZiKjUcv5SFEeMtH0RUNkRD6CfX5CRd6LiYNDYy87c0lKFCJLeTNMiIpdd72TMnUFRz0yZVzBEeD4rKqdn%2BnDHk0prIiS%2BBCpToUSAFzgfJ8J0APMUQT4rH2SYKLpEXWJyszz4c4qeKMbfKL5O3IQaDAwm8Sao1y7Fr%2FfzYEntQbvu7pw9Z5egsmr4PASpbIJLSSmR7qAmCQOYMW%2FqH6KLyAymmajYN1zl6JJpYP8%2BeLAOAjkbIuXMQHndYrrqrbiWGO0QScdmj79W4Ike%2ByYeOs1aW0EhpVIs1Ualt9wRQPi&nvMid=84292717994&catId=50002447',\n",
       " 'https://cr.shopping.naver.com/adcr.nhn?x=BVa8eUW2%2BdZiWLdfONFJnP%2F%2F%2Fw%3D%3Ds56eu%2BmQLCWW1hofeVVVvlZkrAu6BgusRfMrn02ysSoAv0dbhLoTZFONjQGNk9Q%2FuGP5Mk%2FaX4la3GpW%2BtUBW11Vd6Z%2BmZ5fvTALbBBPmfKLR71%2BG1mg7pxhejX%2BnHQgT%2F6PZoS2hO1IhfaDXboPaXa9cKRy250NmnWzpLnOWIwwoSy2IdmvdqCNEiI9AEnImfEI2JUoVBDJoE5s%2F%2BxH7%2F8VIhUTYq2J1wF4XcKD2AOWkOA3ZateG%2FY8eKxwX1E0NvfXakKDciNefGVOVjhCl7gesXa4I7qWLE7crrjoJ%2FyxVXemfpmeX70wC2wQT5nyi5pxiwDZPU40LYzhHX%2FcRv6GHgKpa3kMQp%2FjgG1%2Bl3oe2wwHBZ5BhkyKpCQK8KZoX9xk2%2FIWw8lK1%2F2yCjdtC5iG1SrsjOwAALBstLe8NDQV0nYz93zR3qfUgVrwbK5Q5FCJLeTNMiIpdd72TMnUFR5x9Q8%2BIIbwcU9dkDXo21PCHZxs0NvSg%2BW8GrxHl0sy6%2Blkq9pT1VpTPeXYXYcbYy9N0UDy8KfXtQXbmp59pzsh464CtXYjatQjjH4zKecIE6278pgdPIiDiJVMWZRNeDzaxYW%2BP32NtV1FFz06uJFUulBFKNjEQvAgIrbgm4arkSJ5U5vRZ4pgpGEfKXPau2TFEZLXTN%2BbznrQ9XFaC7Dye6Gj0xMg5VbTHbZCEsvBsZTi4KOROgwRZLXpoHN4a2Q%3D%3D&nvMid=82556253915&catId=50007030',\n",
       " 'https://cr.shopping.naver.com/adcr.nhn?x=cpIVfEeQWdOg%2FAmGPVj4hP%2F%2F%2Fw%3D%3Dsm2JQd%2Bj1fsDPtnR59a0CUtdS7nUqgJjVNCc6Mk6EVzCTep9384DAsoFLlXlpDj9IOIlx3Rn2or0cNZVTi1Qew99%2BKy%2Fm0d%2BgYWHtEf61Jo4hrX7i8ROREiNblWok2%2BM4oYeAqlreQxCn%2BOAbX6Xeh4bAVENK%2BFPgE%2BceEuRoIyzYp8WJRFHs29SbR36Di8MSH%2FTL4BWKrWRB6Z%2FuixYU38mscUZuB%2FB3GA4tAdwd4kJn0E%2B7lsL8Xc%2FJzL4Vwihd%2Flaa8KANfpMArALRtIzxZU8%2FzrHmea%2BijwTq4TEcsXLffisv5tHfoGFh7RH%2BtSaOAFJNLWxG%2Fj2gEfGb7GroeJYon82LnxeOQ%2FLYJl5%2FRKJTOwvc2tA5SL7dAXh3S49AEoJyfpbxjBCRYL55ndLIZVGqyJMprwuEieV8HiAfwN%2BJcFRkpkN5UZfDIH013S3jEVnZlI1QzeJlrgEiKz%2B0C3NIt%2BgNo34dZ1md0U1QO8dam1QoTwD1Kmizp5Une2PCqyGNcCT%2Ba%2F6tDKoY%2BvOkRQYAYIjwkv63FIdSjyWGl4Pc78OSnz0QjvlMfxWUG21%2FML80uKHuUxHj625Rep6fqtSucRrFKsplSobyRCNFNYwi4SlkYEBAzMg1KnNB1uoXriK%2FT%2B%2BOYLRjkoePTt3kvMnXq52WlLtNdGnwEoCeGaZWkbDrUFJ2hBG8QaB8WVzn&nvMid=84240210294&catId=50002615',\n",
       " 'https://cr.shopping.naver.com/adcr.nhn?x=6JbF2xE5m4D4Jrf%2BjvbHZf%2F%2F%2Fw%3D%3DsqHPzaMUxqw%2FNBjkEXSydz8Tn%2FFRCck%2FnVRZ1AJ8GOpo0oXzK3AhCQGXp3TO5%2Bvkp9RIqLN7Q24lE61sKdyACc99%2BKy%2Fm0d%2BgYWHtEf61Jo4hrX7i8ROREiNblWok2%2BM4oYeAqlreQxCn%2BOAbX6Xeh4bAVENK%2BFPgE%2BceEuRoIyzYp8WJRFHs29SbR36Di8MSH%2FTL4BWKrWRB6Z%2FuixYU38mscUZuB%2FB3GA4tAdwd4kJn0E%2B7lsL8Xc%2FJzL4VwihdR18RKKYLbSHLuXzFyEuZq08%2FzrHmea%2BijwTq4TEcsXLffisv5tHfoGFh7RH%2BtSaOAFJNLWxG%2Fj2gEfGb7GroeJYon82LnxeOQ%2FLYJl5%2FRKLkiMRwyIwhdpASfbVk09kY0650ASNPeJCCoOTI4e%2BOa2HbbaXf3hnVKPBhSrO6MxA%2BH4Z4WEi%2B2a49gSc7iSjd553D7uhbre1osZP%2B01kC1LPEt9b2T6gsJJChF%2FgTEN5%2BhQTXv9fVkRIrJVIZfQrE9XYLQuvb51SRcfP%2BTkuIeQ2ESDz%2FWbjvBaczBAmJg%2FylkrXHDRQKICaOGGrqJfi1jAsqRD3UWnT%2BJDgIJCrXZRH9%2B3uiiq1BjuEwxITevX9rCA1fXc7zNixwDOQxl%2FEG7Rj8OXJGzai8B8CmfdNuMrf2On0gaT33SalnQ1cgYZuYXV1lmgFUrkG46h9qGDDwJXSFlseqJb%2BD9y1uadTE7g%3D%3D&nvMid=83838464290&catId=50002615',\n",
       " 'https://cr.shopping.naver.com/adcr.nhn?x=B4aJBBPlMIgyw8bTsl01v%2F%2F%2F%2Fw%3D%3DsuNdXHK0CDu%2FRiuf%2BuYE0Ig6F6w4jx2Iw4jOb5Y7jMzEr1UJ2FjvmGcKok3%2BAJVKbAUJxyURTn3fW1uC2Lu5xjMv%2BjB2erv%2BZ%2Brrs5VHOiTT%2Fs8htyn7qbZ155SxFlMX4%2B5YUgfaqE1gqeQGsdxtGPRxsLAiRnnX9rZs%2FpDkcylAJ6xCnO77nbWoZVG2IRPky4HL5kRY67kNrzih5Se6YE0S%2BortKzfQDWBF5GV%2FKfqEhJv3ljJo79VVIpj6%2Fm3WO5Gk2xfjtC21r81RZpc21D6zxJZqgqyth26ArRIZLXxHL%2Fowdnq7%2Fmfq67OVRzok0S5SJNLgIdS1XFCtZ5GETGHmu991BsHBmNiXgngtK1sNOVFc4vQmlIryMMeGjcETF70pLZxnOSQGn8XXH3F1xHHqi3rLa69%2BWA6L31M6pumSXUh3%2B8Ap%2FxpO0%2FdnmLEx9zfNVo1KcSVSazeZg7M%2BAaavey5nNSzGpxLFrMbMxmEuH1XvlDh8f4L4XKvuuMAjgF3da%2B2X0l6Rr3flf7%2FlyNHA9lFkQQbeh5ZENAMEkQBBCKxJk%2FxWthkEL5LszpcBWkGgLzicqq3qJrrWI%2BQBBQwNoBsUr5VB2y2%2B%2FxMXnvJXttyQ7e7HoV3urGp7XY6kOB7GgcNR0SOi%2BlslnKaeNJTOUyXkscVxrlRCM6xHRdQKqH7MqXVJUlzyYHAK6C3d%2B9FMO0QeHuV%2F%2BsN0i7NDHjRQ1VMLmemcSJ7Qep4px5mQDfkLIyuldBS3f8m8e6nLmkbc3JLYpcanHDEQPEU2fIQ%3D%3D&nvMid=82539502625&catId=50007030',\n",
       " 'https://cr.shopping.naver.com/adcr.nhn?x=vEE8E8EQZkGZKl7te0YHzf%2F%2F%2Fw%3D%3DshDf9auMrY%2BsGpm0qeoIwW0nRw3FWLASP9pDKmDykuH4dBwdBsRTAm0WkZ2s0cgJOvEYwzoAO3V%2BknNsm9wzhdFVd6Z%2BmZ5fvTALbBBPmfKLR71%2BG1mg7pxhejX%2BnHQgT%2F6PZoS2hO1IhfaDXboPaXa9cKRy250NmnWzpLnOWIwwoSy2IdmvdqCNEiI9AEnImfEI2JUoVBDJoE5s%2F%2BxH7%2F8VIhUTYq2J1wF4XcKD2AOWkOA3ZateG%2FY8eKxwX1E0NXrSaG1oqUWCH7xBEfqvdyQesXa4I7qWLE7crrjoJ%2FyxVXemfpmeX70wC2wQT5nyi5pxiwDZPU40LYzhHX%2FcRv6GHgKpa3kMQp%2FjgG1%2Bl3odqzZTaJ3BQcdYDIFeGXewXg%2FWaMhy4JFNiSLWEJEI4iZRdbUAnGDwKjhZWXePsEKKKf89dpf8yRUJqZ%2FkfPIpl2viCZXrPl7FjcRkT3l3R3NkLEeuwB3Pe34MrgzlReDaCPOK63k4b1S1xWanbSa6Dr0f40SZ4YfD%2B1jYzR4lUJHC9%2B6X7yJfz%2FY8N6dP6uRvS0StF9f%2Bro%2Fs%2Fu6azUSxvAWKUXI1LATUYwDMCljPgDdiaXdcTk21v0jKTitV%2FG8FBhbkGvFWvrf8I3%2B%2ByUywqn1IgoHAQq1ZRWkoSKugutAepkeNY8WmRRjhhN5j8BkjVi9IRtsCmQ8IfpnxrV0SHpfCjQTTDsASjlKIoyTvnQA%3D%3D&nvMid=13456705567&catId=50002445',\n",
       " 'https://cr.shopping.naver.com/adcr.nhn?x=xbqEMLkFadhbo%2BupSdEJV%2F%2F%2F%2Fw%3D%3DsCfPip7Viz2X8zQf8BbyJOn1lsYWiQ1U4Ma5XBZ3WQM5T0AGWOeaNH5NsWSziFYzP7SuEnHkTpyYI0%2F5yVxVXwsv%2BjB2erv%2BZ%2Brrs5VHOiTT%2Fs8htyn7qbZ155SxFlMX4%2B5YUgfaqE1gqeQGsdxtGPRxsLAiRnnX9rZs%2FpDkcylAJ6xCnO77nbWoZVG2IRPky4HL5kRY67kNrzih5Se6YE0S%2BortKzfQDWBF5GV%2FKfqEhJv3ljJo79VVIpj6%2Fm3WOM1WCCP59lIAEpoQoo5RwuazxJZqgqyth26ArRIZLXxHL%2Fowdnq7%2Fmfq67OVRzok0S5SJNLgIdS1XFCtZ5GETGHmu991BsHBmNiXgngtK1sP6GtzB3dbxS5VIsipy%2BXAXBgByGlVQHpnXhcHVRvXXMXqi3rLa69%2BWA6L31M6pumRao92DA5FideF%2FJhJHYkBUzfNVo1KcSVSazeZg7M%2BAabHr1f4p0LqFPLDZrwIOEdaBwUJGGlz4EAI5xufvdl0MAN5B%2BMYjsUAWFYZMgZr28sA%2Fp6KIsRSDEXOszp0i0%2FPNbh4CH19%2B8s%2BwRLC2UI44FpWot8tG4Td63i%2Fe9%2BD%2F1rAlLLTaQ0Yu8YGzjgEjzXRFy9mga%2Fakgo37j0Q3PUuW0A7sHLUPjOuhbiCMU1IgttI2hxmRIcgnCXdhq9iCvhGXOWA0yAY%2FJfAHLIdO8RU2E65OLcKz3jd8TJnV4eJ0rwN%2BQsjK6V0FLd%2Fybx7qcuaRtzcktilxqccMRA8RTZ8h&nvMid=12749966351&catId=50007030',\n",
       " 'https://cr.shopping.naver.com/adcr.nhn?x=TU4TYjLqYpr7jQljnuBgN%2F%2F%2F%2Fw%3D%3Ds81HhrYkXhtocZzQhukkz5hEyjpEronFRNXs1nvNYaYZ4IJ5KfivvvwpvL%2FFXIkXF%2FZi5%2FwAmtMpqWAjLqwyZON9%2BKy%2Fm0d%2BgYWHtEf61Jo4hrX7i8ROREiNblWok2%2BM4oYeAqlreQxCn%2BOAbX6Xeh4bAVENK%2BFPgE%2BceEuRoIyzYp8WJRFHs29SbR36Di8MSH%2FTL4BWKrWRB6Z%2FuixYU38mscUZuB%2FB3GA4tAdwd4kJn0E%2B7lsL8Xc%2FJzL4Vwihds0AglT8i32LKvIbUZ1lw%2FU8%2FzrHmea%2BijwTq4TEcsXLffisv5tHfoGFh7RH%2BtSaOAFJNLWxG%2Fj2gEfGb7GroeJYon82LnxeOQ%2FLYJl5%2FRKLJdPe7I37eoP7do8fhiYBVv4sFagNImW3Z75R%2BGHm4D1GqyJMprwuEieV8HiAfwN9WPeb%2BH3AzEh1%2FwuIbEZeF3w2MrdVs79teCjIkiAxvdmkulFVkTR5O%2F1CIP981misPsZhTK%2FuPWtnprD3FH0aWnCVTkou5aJE%2BQXCAk4qadyk90YG0XQEwp%2B39IDKUidZy3z48McO6QakHnRgqVgKv2mcn8Xy3ILKsl%2BeXENXwfzuND%2By6hlP64bnyLypyTQhrIllUSIkG0F0uy5bN41Ee6pcKeCAbKvmpqtfuucX7x1ZRp6asv3Qs0Fm4I%2FD5YKhlOLgo5E6DBFktemgc3hrZ&nvMid=84365458792&catId=50002615',\n",
       " 'https://cr.shopping.naver.com/adcr.nhn?x=CoIGE5x%2BCDh1bUS9%2FCK0s%2F%2F%2F%2Fw%3D%3Ds7RWKNeBk06ZgDDUR3Kk%2FQmgWNU6NNAi7qQokjfvVb99kkwtXTBjCqJto%2B25PikbTwzoLbeIHh47s2Ir6QUP5Ssv%2BjB2erv%2BZ%2Brrs5VHOiTT%2Fs8htyn7qbZ155SxFlMX4%2B5YUgfaqE1gqeQGsdxtGPRxsLAiRnnX9rZs%2FpDkcylAJ6xCnO77nbWoZVG2IRPky4HL5kRY67kNrzih5Se6YE0S%2BortKzfQDWBF5GV%2FKfqEhJv3ljJo79VVIpj6%2Fm3WO91WoN30wBIKdrgWXYVMruqzxJZqgqyth26ArRIZLXxHL%2Fowdnq7%2Fmfq67OVRzok0S5SJNLgIdS1XFCtZ5GETGHmu991BsHBmNiXgngtK1sNYJs2ligZ68roaKj2VNKIJtHH3mKUlGAv%2FzDoMBXg2Qe5UO2B9WzGuN%2B%2FtZas7SpzddC8a51%2F3Tc7PAuIclyQ4zfNVo1KcSVSazeZg7M%2BAaVrRfqFF15ZOXDDIXTcBaZk4fDl1xUp1qCG1a%2Fj7O3G1IYqCduJr7rbzL8iF9yA133bdNtcz5b1VJ3iWyZCz4HEpjSZAcTwfvAWSGcvT2gpu2KDmhdqsqdCkxL%2Bps6FXmFtgCZfg%2FpSR%2Bo1413bKdTua3XJXUNR3wiDgjZmnZiYy30iJn5IGalPSK57O6fU7dOD9HDmodQgsNSxldSUyo6sHidEIbA4eO%2FCgvKL9oeYgmZ22NSXIhe6oluoprnnWD29TZjqEQTAbFzUBl8432wsZPQdlwDfle51IC5%2B3EtWg&nvMid=82114927988&catId=50002447',\n",
       " 'https://cr.shopping.naver.com/adcr.nhn?x=3ajrJq3UJqI9mHn%2BJNXxbP%2F%2F%2Fw%3D%3DsQIBOL9ZSRrnzsi8dG8pwhLBRmh5hZFpmxfmRAqFv%2B9AX%2BpPq%2B1glFDc0dBaYBW92TNbFD8YH%2Bsxq7rUMWu%2FoQt9%2BKy%2Fm0d%2BgYWHtEf61Jo4hrX7i8ROREiNblWok2%2BM4oYeAqlreQxCn%2BOAbX6Xeh4bAVENK%2BFPgE%2BceEuRoIyzYp8WJRFHs29SbR36Di8MSH%2FTL4BWKrWRB6Z%2FuixYU38mscUZuB%2FB3GA4tAdwd4kJn0E%2B7lsL8Xc%2FJzL4VwihdhRa6oEa1OBU0wE4MUH2C708%2FzrHmea%2BijwTq4TEcsXLffisv5tHfoGFh7RH%2BtSaOAFJNLWxG%2Fj2gEfGb7GroeJYon82LnxeOQ%2FLYJl5%2FRKIXR5fyfvtPywDbPInGNpb4THnUZC1HlE%2Buj0DN%2F0xVRlGqyJMprwuEieV8HiAfwN9QQh%2BxnPGc1MvpnE%2B4ABfckHw5IxRFolUoi7vM%2FZrHXVUXnkbPDNADbsoTns8nExpChKBlzPciY4mVjcTJLMFocs7KhRY2IdUT2%2FRc3zzzTq33rXuo0ArDzc1lOaDVma5DkRCFPW3Yl3c3p4MbjZspgzMr%2FVmME908AW8ZSfMYxRrilmqQYFAmViUYAhJsBxVGQ9NCX6Qdu%2FNGfK2a9YhbHJypqBVrythuyUxMs%2BIn02BppDdhpgHRzdfTRnqFs1CcgZDYmA9nEuUSR5KXox8S&nvMid=80302845143&catId=50002615',\n",
       " 'https://cr.shopping.naver.com/adcr.nhn?x=SgGPkMxeGWloSIKBSY4PPv%2F%2F%2Fw%3D%3DsoUrABNUc6s33I38KRIeYlJmaImhEohDyi6MR%2Fgn7%2BJmgn8MFHitAF6%2FvT2SZaluo1C6%2F65Ns3uIu1Ea%2B6YA88cv%2BjB2erv%2BZ%2Brrs5VHOiTT%2Fs8htyn7qbZ155SxFlMX4%2B5YUgfaqE1gqeQGsdxtGPRxsLAiRnnX9rZs%2FpDkcylAJ6xCnO77nbWoZVG2IRPky4HL5kRY67kNrzih5Se6YE0S%2BortKzfQDWBF5GV%2FKfqEhJv3ljJo79VVIpj6%2Fm3WOp5jYAREoNvtFCms3Pfg8FqzxJZqgqyth26ArRIZLXxHL%2Fowdnq7%2Fmfq67OVRzok0S5SJNLgIdS1XFCtZ5GETGHmu991BsHBmNiXgngtK1sMeHJ88VY4mMnKCkYveYaAfxjikq%2ByWESxoOnD%2Br%2BhLP4EWpsMiDK17vNY1xbgKYoSe6evly4Ot7DRdXmYcb1pl3BFDJPmINGVd22UpeKU8sgWRT2XNRmsN6llGMKS5rdQU5P8goBGRmrIzGO3qc5D5oz5F7nlRnzz5kAAOj7IJVg%2BkfjivMTIUJU7k1nTpCLcYAZ7E7xu7Je2l29HfQz56mEoul%2BCVEFfvHfiUYfcl6v1KDUB9EX4V%2BuCHIqLj5XbatBMvjvRWTKef0RbFvG0V95GUpQraCqest01YDzilRgwJ2gQd2seYE5kU%2F%2Bm1jeFoffDWgoGz3c22VSWg7om1fhH2Q8F%2F3Rpc2BXxMjji7MfWVZ6vRKi%2F5buFehsUiNw%3D&nvMid=82984368720&catId=50002615',\n",
       " 'https://cr.shopping.naver.com/adcr.nhn?x=ZATkp3%2FmCMDVJeG4xK20MP%2F%2F%2Fw%3D%3DslTTyckA76Gc3y3RLcCEJdW7SGpor0a9p203WR6fEpZBepO0mEj7kUFKLGh9WvseLBf%2BQK1YsAHjlvASAIa07Scv%2BjB2erv%2BZ%2Brrs5VHOiTT%2Fs8htyn7qbZ155SxFlMX4%2B5YUgfaqE1gqeQGsdxtGPRxsLAiRnnX9rZs%2FpDkcylAJ6xCnO77nbWoZVG2IRPky4HL5kRY67kNrzih5Se6YE0S%2BortKzfQDWBF5GV%2FKfqEhJv3ljJo79VVIpj6%2Fm3WOfGyz9XoVR0hIdSfll2KvRKzxJZqgqyth26ArRIZLXxHL%2Fowdnq7%2Fmfq67OVRzok0S5SJNLgIdS1XFCtZ5GETGHmu991BsHBmNiXgngtK1sNHT3FiRugYP6oa41HnQalvS0TpBqKDnNrSqERR7%2ByZ3sVAcuOReYNIy3j%2B7j7T8QOUOXcg5FZeROZ8CwLFrdKlzfNVo1KcSVSazeZg7M%2BAaUuE2tivoIhmWVN%2FtGU1YDXYGbiKSnmYuTki%2FRDOonYiusLzrFY%2BufIyi02tThK3mA3G1Et3KehJrnevflr35vA9iEKzOZNTcPj29lanVpnhR8p4cGKlMsStZPguXQY7YOD9HDmodQgsNSxldSUyo6uqOtMjas2tFsLe7xjlp2JzWV21snwu%2FsjpLl7JwL1yFm9TZjqEQTAbFzUBl8432wsZPQdlwDfle51IC5%2B3EtWg&nvMid=82350213056&catId=50002615',\n",
       " 'https://cr.shopping.naver.com/adcr.nhn?x=wWEKKShj8my9p33XsxjJR%2F%2F%2F%2Fw%3D%3DsOqN16YAgMIyiMPyZqZ%2Fjw4D53q0SYgUrVsC7TIl0aRQFZYKx9Gou275Xc%2BjCZHS%2F8FVhznze0YgX6DrJ9SkUcd9%2BKy%2Fm0d%2BgYWHtEf61Jo4hrX7i8ROREiNblWok2%2BM4oYeAqlreQxCn%2BOAbX6Xeh4bAVENK%2BFPgE%2BceEuRoIyzYp8WJRFHs29SbR36Di8MSH%2FTL4BWKrWRB6Z%2FuixYU38mscUZuB%2FB3GA4tAdwd4kJn0E%2B7lsL8Xc%2FJzL4VwihdToUVH9cmiVAlyah87%2FtnBU8%2FzrHmea%2BijwTq4TEcsXLffisv5tHfoGFh7RH%2BtSaOAFJNLWxG%2Fj2gEfGb7GroeJYon82LnxeOQ%2FLYJl5%2FRKK%2BgXl5hHUtLkMxn38nFLa6HPjPkj33VBImf3%2FtaWxTWFGqyJMprwuEieV8HiAfwN%2FdQoQY0xwyxBpZ6TTTeLmxKZVUZ1MhCHI9rVEVRRrAb%2BR3iFJM2NaLTuZbSvUd6bUYgow9bbTCM5sqJQnW8mDvuLHaTf4V5ZZnXDpVqRqSpLHXmaQri7K9C3nfaBRpr%2B9WlGC35LPqpabkjohbkwyvuour4DiadYI%2BdANTElnCgWeFdErmrrX2aDdnSAZQPDWpJpj9qjORrT%2BubIY4DokixNCxL0XxgPobwbydwqOzdzf9YHdJDA2pO6J13MJDJ21lOLgo5E6DBFktemgc3hrZ&nvMid=83467883398&catId=50002447',\n",
       " 'https://cr.shopping.naver.com/adcr.nhn?x=MkNcD1DA%2FBcZXKWTK0n6R%2F%2F%2F%2Fw%3D%3DszjVNvwc6q%2FLuQsnjrlTJRH49UmzKMxLY9vJQ%2FSTimU4Boke2cU%2FSDYySGRjvLT2xRfZrk%2BfOXUf614rf8wcz81Vd6Z%2BmZ5fvTALbBBPmfKLR71%2BG1mg7pxhejX%2BnHQgT%2F6PZoS2hO1IhfaDXboPaXa9cKRy250NmnWzpLnOWIwwoSy2IdmvdqCNEiI9AEnImfEI2JUoVBDJoE5s%2F%2BxH7%2F8VIhUTYq2J1wF4XcKD2AOWkOA3ZateG%2FY8eKxwX1E0Ng3KbVC97fSGcJQHTXBmKswesXa4I7qWLE7crrjoJ%2FyxVXemfpmeX70wC2wQT5nyi5pxiwDZPU40LYzhHX%2FcRv6GHgKpa3kMQp%2FjgG1%2Bl3ofpQRvEXbJxYbWk0v5TwvqAHS37MwTDV8ook%2FSa%2FuH19NMSUF5z3SMVr4GxZTIB9%2FuOgWXJO7VyoEYHMYI8kzEpRFadIoK8rzHqu58MsZGpJ9KndKTHHBOkDwC0GZjgj4FFLlikaiBg9%2Bysi1Ci3J%2Fs2aM6dphBMU9GhLoDpOd0RgGftOjnD%2FbIgLHU0MGHRZ3WB02tz6K89xjrzWPO7BbQl8JvZcX3QugmCDPb7sHuWbLV5fFg1Fikc61QDXzmoIgpqo1%2BR7tU4ITvoEnDAaWinnDNRmrPjwuod3RvuxX%2FacBGcBt%2FdnDv3Iv2CbZOo1FBhbkGvFWvrf8I3%2B%2ByUywqVNYfA56gU3j1JSds7RUPdbh16IUHdM%2BsLLSTzoAeDR2tPl4rzFj7wF16AoesU1S3pfCjQTTDsASjlKIoyTvnQA%3D%3D&nvMid=83263889961&catId=50002615',\n",
       " 'https://cr.shopping.naver.com/adcr.nhn?x=owH21uwp9HoZwxlguhbYzf%2F%2F%2Fw%3D%3DstiPKpVL%2F22NCCq6zMC3VOyQ%2FEffKDaOF83NPFMBD7vFROG4%2FMzqAgjNNS7Y0iitXx7nHhc1y0e7Olq%2BZfZWDB8v%2BjB2erv%2BZ%2Brrs5VHOiTT%2Fs8htyn7qbZ155SxFlMX4%2B5YUgfaqE1gqeQGsdxtGPRxsLAiRnnX9rZs%2FpDkcylAJ6xCnO77nbWoZVG2IRPky4HL5kRY67kNrzih5Se6YE0S%2BortKzfQDWBF5GV%2FKfqEhJv3ljJo79VVIpj6%2Fm3WOLIx6xz8EZqJPefZ3SAvSiqzxJZqgqyth26ArRIZLXxHL%2Fowdnq7%2Fmfq67OVRzok0S5SJNLgIdS1XFCtZ5GETGHmu991BsHBmNiXgngtK1sPr5PL6kpQvgQpdKGAz89PUHraNmtc0vErejWMmAtSLYBNpiTDPHzwYG%2F%2Fg7frAUJ%2BxocvFZqqemIjb7kyhBb473BFDJPmINGVd22UpeKU8sr1%2BQVxXKfQZsqm%2FG7bJ%2FxWmoI1P0MNjeXVIqqCfeTO5XdJsB7BXprZibgCN0QpNQvjIVeKIxSxcRzJax0YrEtNu5nkY3Pu1WISO3jnWF0yw3J%2FHtxDNmaxQ0XwzuNXEoyTLyp5ZIAXhMTYP2YBLigpWKIBIxBuu8bnfkVwJNFEH56IVa8zKVjbIIan%2FJRLByPtVnunWCb2wQoTxsduhlB0scp8G%2FCD2GK3DNtL4%2FUzzVNy4ysZzHVHREiXtSLoaxJ3zqcCV6aPn0%2BeioKWdPjqLw9ESEvmNZajSc6FeHZhA&nvMid=83603809380&catId=50002440',\n",
       " 'https://cr.shopping.naver.com/adcr.nhn?x=8%2FU2E6XfrX6uPNXajomK6%2F%2F%2F%2Fw%3D%3Ds76duyNOddxBPq1SWFbSllar8nMdsUd1kt0hZQm0WTWWbB3D68Dhr4nx6IAKDFjRaOgvcMdUHlQeCAgMTAnNFCMv%2BjB2erv%2BZ%2Brrs5VHOiTT%2Fs8htyn7qbZ155SxFlMX4%2B5YUgfaqE1gqeQGsdxtGPRxsLAiRnnX9rZs%2FpDkcylAJ6xCnO77nbWoZVG2IRPky4HL5kRY67kNrzih5Se6YE0S%2BortKzfQDWBF5GV%2FKfqEhJv3ljJo79VVIpj6%2Fm3WO%2FIYp3C78IOyuXWzeSiM8jqzxJZqgqyth26ArRIZLXxHL%2Fowdnq7%2Fmfq67OVRzok0S5SJNLgIdS1XFCtZ5GETGHmu991BsHBmNiXgngtK1sOvAZw21r5dX0VjAdsb5GnlF9ur6geNhvo0WapOpollCU8s%2FPk3u8nIoUL5%2FIWhkdrkDJ%2ByngJ3eyOUvytNiiyWeiudN4wUxYjvrJTsG8aODoIhSp15XAXb0uooi8PGmeb7xqEnDax7xUEUaRNZitsgBV41PIhiPys13Bf1ogPsAPHTcrAdNW%2BCpwBdaaQeyKo72WLV23HPyUTlzdup0U6koVgiEfNDudHecqKOFZ7%2BkDweUI0siHmAuznwmAwxoj6m5Tmr6x483D%2FZFFOmrc7UxdKXL8HnQ5XPxF7QdVolgC2SpQ4%2Bh3Amo8Ke%2BBcrEdu7u8rjPCLM5h7w%2BdtU0AYALtfazcYXVaXnLv7VHBbLAwVvUUz39lc3lEL%2BwfsIi6r0UbNk5di1V8jUMbmtHii%2FvFuWXCEHpZmcnjZto8CSmQ%3D%3D&nvMid=82714897007&catId=50007030',\n",
       " 'https://cr.shopping.naver.com/adcr.nhn?x=X1x6oVd%2B8deGOx%2B6pD2vfP%2F%2F%2Fw%3D%3DsSPS8Sv%2B7R075bfC7gwfwAFMyy%2F7jpLIhp%2FAneaSclClXMZia3cS4LxMi6JC405JZdKZt396S4K2bVylzzxtEa8v%2BjB2erv%2BZ%2Brrs5VHOiTT%2Fs8htyn7qbZ155SxFlMX4%2B5YUgfaqE1gqeQGsdxtGPRxsLAiRnnX9rZs%2FpDkcylAJ6xCnO77nbWoZVG2IRPky4HL5kRY67kNrzih5Se6YE0S%2BortKzfQDWBF5GV%2FKfqEhJv3ljJo79VVIpj6%2Fm3WONeEccc9%2FrkrsyhuMr%2BYoOazxJZqgqyth26ArRIZLXxHL%2Fowdnq7%2Fmfq67OVRzok0S5SJNLgIdS1XFCtZ5GETGHmu991BsHBmNiXgngtK1sPj03qV90XpRzRk%2FgPv22PByaLQoGIMU8WpvAopyHfjUoT4hE9niceAXj%2FWzGByAwMHsq7HSn7HltuHrlFFKEYszfNVo1KcSVSazeZg7M%2BAaeeRN4lN5M71PYAQxBkZ0lmcbpEQyhgMlljkfD1MN6LjqIyO%2BUf6q8C%2BsEYnoTFOXV8wUx22DF6xDvbcuGGNmQwDKYdw8X640EEPgVSvVAUbJYailtMdfbnijP92PUcG6bu7yuM8IszmHvD521TQBgDZ6a1PpLMJefgvzmEte8bUfUV4z83WXI0yuC0skpBsPfRRs2Tl2LVXyNQxua0eKL%2B8W5ZcIQelmZyeNm2jwJKZ&nvMid=82151157369&catId=50002445',\n",
       " 'https://cr.shopping.naver.com/adcr.nhn?x=XV%2BBT1FuKx623iAa%2BhAI%2Bv%2F%2F%2Fw%3D%3DsFKFaII3BMNOeMPlXz%2BlVmxrOunZK4xx5sNmpl0Icw5cKY5fyqnY%2B3iloTNj%2BdiXtlqtgSPj2%2Bw98DXBvQ6Ykfsv%2BjB2erv%2BZ%2Brrs5VHOiTT%2Fs8htyn7qbZ155SxFlMX4%2B5YUgfaqE1gqeQGsdxtGPRxsLAiRnnX9rZs%2FpDkcylAJ6xCnO77nbWoZVG2IRPky4HL5kRY67kNrzih5Se6YE0S%2BortKzfQDWBF5GV%2FKfqEhJv3ljJo79VVIpj6%2Fm3WO1EABZrjbHtboVpZ%2B1aTUIKzxJZqgqyth26ArRIZLXxHL%2Fowdnq7%2Fmfq67OVRzok0S5SJNLgIdS1XFCtZ5GETGHmu991BsHBmNiXgngtK1sM9z0Xm7tAIJ%2BNyOI9946sJ71y8Ls%2FqNTSK19hgUZ2VDHI4aXCFsLV4T5vFst%2Bs2Zjq8%2FKQZSyfXOu8ORNgXh5IzfNVo1KcSVSazeZg7M%2BAaedjaThJs9jcgMj9B32IhsslZDVmWOTbMLQfWkBSlSyPKQS45IzR3BVgqX0wcXhtdmlelM7jfTCm2TMPz97tEPO0VevFdmGrV7GJedWFdhwONwZFziXJKBzd6Z8DiAc4fePsx%2F%2B9QnoGPY11Z0YHOWG%2F8l2EihnSBYEXerfrYyHzwnEw1jJWKG8eLlbPPcBs29qXsxGjTN1neKFgNgmJtnEDX%2Bcmm5flMjT54zdL4tNLLZpwR2bqZ0umqjBbn%2ByEDg%3D%3D&nvMid=84255311471&catId=50002610',\n",
       " 'https://cr.shopping.naver.com/adcr.nhn?x=7Nhj2eB99WaFwQ6MxHyTDv%2F%2F%2Fw%3D%3DsskM1zll1fpjL5HsjfkSK9HE4QciQ3VdindBDOnADPh6HYCkw3k6xNTmvGonTA0QjlgoAQI1EB9TbcYTGQGIjNVVd6Z%2BmZ5fvTALbBBPmfKLR71%2BG1mg7pxhejX%2BnHQgT%2F6PZoS2hO1IhfaDXboPaXa9cKRy250NmnWzpLnOWIwwoSy2IdmvdqCNEiI9AEnImfEI2JUoVBDJoE5s%2F%2BxH7%2F8VIhUTYq2J1wF4XcKD2AOWkOA3ZateG%2FY8eKxwX1E0NuLnULbThicmyDPNs4Vd5LQesXa4I7qWLE7crrjoJ%2FyxVXemfpmeX70wC2wQT5nyi5pxiwDZPU40LYzhHX%2FcRv6GHgKpa3kMQp%2FjgG1%2Bl3ocDjxMEEogIl5zkctBMYQzeuyioaz0yU72n7RWgC6Uut7tt56MLa7b8NSPBdg52YNq%2FzWAKqLMHPlP7OdK2rGT1KZxuj9EJLbgrY0%2B0fONjXgtVJr6mUh92GEmWtzUukCMUQ91OqCbI1lCjv35PX4hdiZ142DG0GIroAgkeOQSdbZEOowH4ZrCu1%2B838K4J3dfs90lLOc9xe8mHwugLdrA5UdEBldwN%2F446WZU8CV7xdcuuepL3b1Vcztll0vVfjiRVIFs17dGrci3mcDMf0VIrtzlc9lzpXHRWy3%2FWyxIWmDkihqIRrOIU%2FgqC0MG2UsDkWzBhF4uMir8KlkQMtuFKC34e6NfqoaZHiNK7ki7xai2acEdm6mdLpqowW5%2FshA4%3D&nvMid=84284271161&catId=50007030',\n",
       " 'https://cr.shopping.naver.com/adcr.nhn?x=RfIAMZdkpEeT8aCIlSspaf%2F%2F%2Fw%3D%3Dsp26SyaWQZ2XAsbNyTPiTaSfofQYLvlV4HmWj7Y%2BQqd%2BmV5RPzSkI43Nc5L%2BfqEl7E7ETrQNsO1bO0YAmnaQlnlVd6Z%2BmZ5fvTALbBBPmfKLR71%2BG1mg7pxhejX%2BnHQgT%2F6PZoS2hO1IhfaDXboPaXa9cKRy250NmnWzpLnOWIwwoSy2IdmvdqCNEiI9AEnImfEI2JUoVBDJoE5s%2F%2BxH7%2F8VIhUTYq2J1wF4XcKD2AOWkOA3ZateG%2FY8eKxwX1E0N4D6FjJO6kWqqMth%2FbG8m7AesXa4I7qWLE7crrjoJ%2FyxVXemfpmeX70wC2wQT5nyi5pxiwDZPU40LYzhHX%2FcRv6GHgKpa3kMQp%2FjgG1%2Bl3ofXoitl5OCYHjcfkfT0QxIadOUdmw0QYErLuZiDG8P0XCG1SrsjOwAALBstLe8NDQX3IehGWAbx5R4GgXLNSgPfdjLutbeA2mDcxXgbK7%2BpOy95zewlPv%2BAx4kYAdRWfQtBsAVArrFMFQRARgnuhDSdfHUTgwK%2B36eiF9VgO8zOh5E4VurRy%2FuhIuC77fvxscHRDtRAJ2ynF4rwmgs209HN4q66d41c3NARPv2rT%2FzNhsXSly%2FB50OVz8Re0HVaJYB%2BlRB1AQAmL4pVFaKmr7dXu7vK4zwizOYe8PnbVNAGAH%2B9UppaVckM46QohVsOjAzJ0ifZieFJ2tKoNCDHoq7T9FGzZOXYtVfI1DG5rR4ov7xbllwhB6WZnJ42baPAkpk%3D&nvMid=84339159356&catId=50007030']"
      ]
     },
     "execution_count": 10,
     "metadata": {},
     "output_type": "execute_result"
    }
   ],
   "source": [
    "# 수집된 url들 확인\n",
    "url_list"
   ]
  },
  {
   "cell_type": "code",
   "execution_count": 11,
   "metadata": {
    "id": "Q491yek4-kvs",
    "outputId": "b8d88911-275c-4f8d-bd89-0c3831d666c7"
   },
   "outputs": [
    {
     "data": {
      "text/plain": [
       "['[네이버 전용]종근당건강 아이클리어 루테인 지아잔틴 10박스(10개월분) 눈영양제 식물성캡슐 차인표 루테인',\n",
       " '[3+1] 5:1비율 뉴트리코어 루테인지아잔틴',\n",
       " '뉴질랜드 라이프스팬 초록입홍합 오일추출 25000mg 120캡슐 푸른입홍합녹색그린',\n",
       " '뉴트리원 정우성 루테인 지아잔틴 164 3박스 3개월분',\n",
       " '닥터머콜라 퀘르세틴 케르세틴 프테로스틸벤 어드벤스 약들약 추천 60 180캡슐',\n",
       " '정우성 유기농 밀크씨슬 2박스 2개월분 실리마린 간영양제',\n",
       " '종근당건강 조인성 프로메가 알티지 오메가3듀얼 (3박스,3개월분)',\n",
       " '연세 루테인 플러스 연세대학교 연세생활건강 4개월분',\n",
       " '1+1 쏜리서치 SAT 60캡슐',\n",
       " '뉴트리모어 액티브 엽산 400 800 임산부영양제 활성 활성형엽산 450mg x 60정 2개월',\n",
       " '4개월분 4세대 활성형 활성엽산 리노브 액티폴릭 임산부 엽산 영양제',\n",
       " '모유유래 bnr17 유산균 락토바실러스가세리 비에날17 다이어트 갱년기 영양제 yt1 비에날씬 여성 질 lgg 프로바이오틱스',\n",
       " '뉴트리원 정우성 유산균 프로 프리 바이오틱스 3박스 3개월분',\n",
       " '베이비락 이산화규소없는 유아 아기 유산균 아연함유 2개월분 신바이오틱스 신생아 어린이',\n",
       " '유유제약 프리미엄 달맞이꽃종자유 감마리놀렌산 950mg 효능 효과 영양제 생리',\n",
       " '종근당건강 조인성 프로메가 알티지 오메가3 듀얼 1박스',\n",
       " '비타슈넬 식물성 캡슐 알티지 오메가3 2박스 2개월분',\n",
       " '덴마크 유산균 이야기 12개월분 프로바이오틱스',\n",
       " '피에이치365 킹 프로바이오틱스 베이비 아기유산균 신생아 모유 프롤린 영양제 돌',\n",
       " '캐나다 더리얼 알티지 오메가3 맥스1400 초임계 식물성 장용성 임산부 epa dha',\n",
       " '킹 프리미엄 생유산균 신바이오틱스포스트 모유 바이오틱스 프롤린lgg 키즈아기 여성질락토핏',\n",
       " '트루포뮬러 비아노스 (전립선 건강의 유지에 도움)',\n",
       " '닥터스베스트 MSM 식이유황 1500mg 120타블렛 옵티 Opti 엠에스엠 닥터베스트',\n",
       " '버블레스 렐리시 여성 아연 질 유래 유산균 프로바이오틱스 30포(1개월분)',\n",
       " '덴마크유산균이야기 4개월분 60캡슐 2박스 3세대 LGG유산균 시즌3',\n",
       " '종근당건강 락토핏 5X 생유산균 코어(6통,12개월)외 골드 로얄 맥스',\n",
       " '[공유 유산균] 덴마크 유산균이야기 3개월/(30캡슐X3BOX)',\n",
       " 'CG땡 프테로스틸벤 50mg 30 / 180베지캡슐',\n",
       " '유유제약 인사맥스 4개월 치아 형성 필요한 칼슘 보충용 영양제-품-옵션 잇몸 과학 치 약',\n",
       " '트루포뮬러 위톱 (위 점막 보호 위건강에 도움)',\n",
       " '쏜리서치 기초영양소 종합비타민 60캡슐',\n",
       " '담백하루 초임계 알티지 오메가3 1000 180캡슐 6개월 6박스 비타민D600IU 에센스',\n",
       " '[박스패키지]유한양행 유한백수오 골드 180정(3개월분) 여성 갱년기 영양제',\n",
       " '종근당건강 조인성 프로메가 알티지 오메가3 듀얼 1박스',\n",
       " '여성 유산균 자로우 펨 도피러스 60캡슐 프로바이오틱스 락토바실러스 [ 품 질 보 증 ]',\n",
       " '유한양행 유한 코엔자임Q10 4개월분 120캡슐',\n",
       " '캐나다 3세대 알티지오메가3 rtg오메가3 EPA DHA 1200 비타민D 초임계 식물성',\n",
       " '애터미 헤모힘 20mlx60포(당일발송) 효능 면역기능 개선 1개월 분',\n",
       " '[공유 유산균] 덴마크 유산균이야기 1개월/(30캡슐x1BOX)',\n",
       " '닥터 메르콜땡 퀘르세틴 프테로스틸벤 60정 180정 고약사 Dr Mercol땡',\n",
       " '닥터린 초임계 알티지오메가3 1박스 송중기 rTG 오메가3',\n",
       " '남진 쏘팔코사놀 1000 4개월 + 10일분',\n",
       " '에스더포뮬러 울트라 플로라 클래식,블루 60캡슐,여에스더 유산균 화이트 30캡슐',\n",
       " '진센큐 뇌 건강 기억력개선 치매영양제 4개월분',\n",
       " '초임계 루테인 아스타잔틴 눈에 좋은 영양제',\n",
       " '[프로바이오틱스] 덴마크 유산균이야기 8개월분',\n",
       " '유한 엘레나 여성 질유산균 2개월분 유한양행 질건강 기능성 UREX 소이현 유렉스유산균',\n",
       " '지성 관절엔 콘드로이친 1200 900mg x 60정 1박스',\n",
       " '헬스업 뉴질랜드 초록홍합 오일 그린머슬 15500 초록입 초록잎 홍합 180캡슐',\n",
       " '나우푸드 호팍사 피크노제놀 100mg 60정',\n",
       " '뉴트키즈철분 어린이 아기 키즈 유아 철분제 영양제 30포(1개월분)',\n",
       " '[이지드롭] 액상 바이오가이아 아기유산균 비타민D 10ml 2개',\n",
       " '덴마크 유산균 이야기 12개월분 시즌3 공유 LGG 유산균',\n",
       " '닥터프로그램 임산부건강설계 마더스케어 올인원 플러스',\n",
       " '히말라야 파티스마트 3박스 75캡슐 인도 partysmart 3box',\n",
       " '4세대 모유 포스트바이오틱스유산균 종근당 락토바실러스 lgg 유산균',\n",
       " '종근당건강 조인성 프로메가 알티지 오메가3 듀얼 60캡슐 초임계 오메가3',\n",
       " '쿠바산 레이델 폴리코사놀10 10mg 180정 6개월분',\n",
       " '브로세틴 고함량 퀘르세틴 브로멜라인 프로폴리스 아연 비타민p',\n",
       " '종근당건강 프로메가 알티지 오메가3 듀얼 12개월',\n",
       " '케어가든 콘드로이친 2박스 3개월분 효능',\n",
       " '여성 유산균 자로우 펨 도피러스 10억 50억 30/60 캡슐 [배 송 품 질 보 증]',\n",
       " '알티지 rTG 오메가3 메타 엔초비 EPA DHA 2박스 총 6개월 180캡슐',\n",
       " '진센큐 120정 은행잎추출물 나토키나제 기억력 뇌 혈액순환 개선 영양제',\n",
       " '[네이버 전용]종근당건강 아이클리어 루테인 지아잔틴 10박스(10개월분) 눈영양제 식물성캡슐 차인표 루테인',\n",
       " 'CG땡 캘리포니아골드 프테로스틸벤 50mg 180정 베지캡슐 2통 고약사',\n",
       " '종근당 프로메가 오메가3 듀얼 트리플 알티지 RTG',\n",
       " '사노핏 사과초모식초 애플사이다비니거 유기산 복합체 당독소 60정',\n",
       " '뉴트리코어 맥스 글루타치온 9.05g x 120매',\n",
       " '쏜리서치 1+1 기초영양소 60캡슐 종합비타민 투퍼데이',\n",
       " '슈퍼프리 생유산균 모유프롤린 lgg 신바이오틱스 포스트 낙산균 바이오틱스 락토핏키즈 아기',\n",
       " '쏘밍 네이쳐스그린웨이 호주 고함량 프로폴리스 스프레이 30ml',\n",
       " '드시모네 유산균 베이비 키즈 캡슐 어린이 성인 유산균 아기 신생아 유아 임산부',\n",
       " '[THORNE] 쏜리서치 글루타치온 60 캡슐 Glutathione-SR SA540',\n",
       " 'SR 스포츠리서치 오메가3 rTG알티지 1250mg 180젤 90젤 30젤 EPA DHA 트리플스트렝스 알래스카오메가3 피쉬 오일 오마비',\n",
       " '속편한에센셜 위건강 위에좋은영양제 헬리코박터균',\n",
       " '엘나스 긴장완화 영양제 알파파 테아닌 스트레스 건강기능식품 L테아닌',\n",
       " '히말라야 숙취해소제 함량 2배 모닝컴스 세트',\n",
       " '[4+4] 초임계 추출 알티지(rTG) 오메가3 닥터린 / 8박스',\n",
       " '린 LEAN / 체지방감량 다이어트보조제 가르시니아 카르니틴 카테킨 CLA /그린커피빈 /한달분 30일 분',\n",
       " '뉴트리모어 4세대 활성 활성형 액티브 플러스 엽산 400 800 임산부영양제 1개월분 Quatrefolic',\n",
       " '우리아이유산균드롭스플러스D 닥터바이오D 신생아 돌 아기 유아 어린이 액상 유산균 비타민디',\n",
       " '뉴트리코어 브라질 그린 프로폴리스 NCS SIF인증',\n",
       " '미국 쏘팔메토 전립선영양제 옥타코사놀 소변자주마려움 1300mg',\n",
       " '[정식수입] 바이오가이아 프로텍티스 이지 드롭 프로바이오틱스 +비타민D 10ml',\n",
       " '포베라 아이맘 프로바이오틱스 베이비 아기 신생아 유산균 비타민D 함유']"
      ]
     },
     "execution_count": 11,
     "metadata": {},
     "output_type": "execute_result"
    }
   ],
   "source": [
    "# 수집된 블로그 제목 확인\n",
    "title_list"
   ]
  },
  {
   "cell_type": "code",
   "execution_count": 12,
   "metadata": {
    "id": "MvgyX_pk-kvt",
    "outputId": "7749cfef-5aa7-45f6-db8a-e94b444998d8",
    "scrolled": false
   },
   "outputs": [
    {
     "data": {
      "text/html": [
       "<div>\n",
       "<style scoped>\n",
       "    .dataframe tbody tr th:only-of-type {\n",
       "        vertical-align: middle;\n",
       "    }\n",
       "\n",
       "    .dataframe tbody tr th {\n",
       "        vertical-align: top;\n",
       "    }\n",
       "\n",
       "    .dataframe thead th {\n",
       "        text-align: right;\n",
       "    }\n",
       "</style>\n",
       "<table border=\"1\" class=\"dataframe\">\n",
       "  <thead>\n",
       "    <tr style=\"text-align: right;\">\n",
       "      <th></th>\n",
       "      <th>url</th>\n",
       "      <th>title</th>\n",
       "    </tr>\n",
       "  </thead>\n",
       "  <tbody>\n",
       "    <tr>\n",
       "      <th>0</th>\n",
       "      <td>https://adcr.naver.com/adcr?x=3tItLbCrm2Z+wf8x...</td>\n",
       "      <td>[네이버 전용]종근당건강 아이클리어 루테인 지아잔틴 10박스(10개월분) 눈영양제 ...</td>\n",
       "    </tr>\n",
       "    <tr>\n",
       "      <th>1</th>\n",
       "      <td>https://adcr.naver.com/adcr?x=++KJ6bPuBk25jS+V...</td>\n",
       "      <td>[3+1] 5:1비율 뉴트리코어 루테인지아잔틴</td>\n",
       "    </tr>\n",
       "    <tr>\n",
       "      <th>2</th>\n",
       "      <td>https://adcr.naver.com/adcr?x=MaspD5RFxKY+b5xP...</td>\n",
       "      <td>뉴질랜드 라이프스팬 초록입홍합 오일추출 25000mg 120캡슐 푸른입홍합녹색그린</td>\n",
       "    </tr>\n",
       "    <tr>\n",
       "      <th>3</th>\n",
       "      <td>https://cr.shopping.naver.com/adcr.nhn?x=9102z...</td>\n",
       "      <td>뉴트리원 정우성 루테인 지아잔틴 164 3박스 3개월분</td>\n",
       "    </tr>\n",
       "    <tr>\n",
       "      <th>4</th>\n",
       "      <td>https://cr.shopping.naver.com/adcr.nhn?x=Q%2BZ...</td>\n",
       "      <td>닥터머콜라 퀘르세틴 케르세틴 프테로스틸벤 어드벤스 약들약 추천 60 180캡슐</td>\n",
       "    </tr>\n",
       "    <tr>\n",
       "      <th>...</th>\n",
       "      <td>...</td>\n",
       "      <td>...</td>\n",
       "    </tr>\n",
       "    <tr>\n",
       "      <th>81</th>\n",
       "      <td>https://cr.shopping.naver.com/adcr.nhn?x=8%2FU...</td>\n",
       "      <td>우리아이유산균드롭스플러스D 닥터바이오D 신생아 돌 아기 유아 어린이 액상 유산균 비타민디</td>\n",
       "    </tr>\n",
       "    <tr>\n",
       "      <th>82</th>\n",
       "      <td>https://cr.shopping.naver.com/adcr.nhn?x=X1x6o...</td>\n",
       "      <td>뉴트리코어 브라질 그린 프로폴리스 NCS SIF인증</td>\n",
       "    </tr>\n",
       "    <tr>\n",
       "      <th>83</th>\n",
       "      <td>https://cr.shopping.naver.com/adcr.nhn?x=XV%2B...</td>\n",
       "      <td>미국 쏘팔메토 전립선영양제 옥타코사놀 소변자주마려움 1300mg</td>\n",
       "    </tr>\n",
       "    <tr>\n",
       "      <th>84</th>\n",
       "      <td>https://cr.shopping.naver.com/adcr.nhn?x=7Nhj2...</td>\n",
       "      <td>[정식수입] 바이오가이아 프로텍티스 이지 드롭 프로바이오틱스 +비타민D 10ml</td>\n",
       "    </tr>\n",
       "    <tr>\n",
       "      <th>85</th>\n",
       "      <td>https://cr.shopping.naver.com/adcr.nhn?x=RfIAM...</td>\n",
       "      <td>포베라 아이맘 프로바이오틱스 베이비 아기 신생아 유산균 비타민D 함유</td>\n",
       "    </tr>\n",
       "  </tbody>\n",
       "</table>\n",
       "<p>86 rows × 2 columns</p>\n",
       "</div>"
      ],
      "text/plain": [
       "                                                  url  \\\n",
       "0   https://adcr.naver.com/adcr?x=3tItLbCrm2Z+wf8x...   \n",
       "1   https://adcr.naver.com/adcr?x=++KJ6bPuBk25jS+V...   \n",
       "2   https://adcr.naver.com/adcr?x=MaspD5RFxKY+b5xP...   \n",
       "3   https://cr.shopping.naver.com/adcr.nhn?x=9102z...   \n",
       "4   https://cr.shopping.naver.com/adcr.nhn?x=Q%2BZ...   \n",
       "..                                                ...   \n",
       "81  https://cr.shopping.naver.com/adcr.nhn?x=8%2FU...   \n",
       "82  https://cr.shopping.naver.com/adcr.nhn?x=X1x6o...   \n",
       "83  https://cr.shopping.naver.com/adcr.nhn?x=XV%2B...   \n",
       "84  https://cr.shopping.naver.com/adcr.nhn?x=7Nhj2...   \n",
       "85  https://cr.shopping.naver.com/adcr.nhn?x=RfIAM...   \n",
       "\n",
       "                                                title  \n",
       "0   [네이버 전용]종근당건강 아이클리어 루테인 지아잔틴 10박스(10개월분) 눈영양제 ...  \n",
       "1                           [3+1] 5:1비율 뉴트리코어 루테인지아잔틴  \n",
       "2       뉴질랜드 라이프스팬 초록입홍합 오일추출 25000mg 120캡슐 푸른입홍합녹색그린  \n",
       "3                      뉴트리원 정우성 루테인 지아잔틴 164 3박스 3개월분  \n",
       "4         닥터머콜라 퀘르세틴 케르세틴 프테로스틸벤 어드벤스 약들약 추천 60 180캡슐  \n",
       "..                                                ...  \n",
       "81  우리아이유산균드롭스플러스D 닥터바이오D 신생아 돌 아기 유아 어린이 액상 유산균 비타민디  \n",
       "82                       뉴트리코어 브라질 그린 프로폴리스 NCS SIF인증  \n",
       "83                미국 쏘팔메토 전립선영양제 옥타코사놀 소변자주마려움 1300mg  \n",
       "84       [정식수입] 바이오가이아 프로텍티스 이지 드롭 프로바이오틱스 +비타민D 10ml  \n",
       "85             포베라 아이맘 프로바이오틱스 베이비 아기 신생아 유산균 비타민D 함유  \n",
       "\n",
       "[86 rows x 2 columns]"
      ]
     },
     "execution_count": 12,
     "metadata": {},
     "output_type": "execute_result"
    }
   ],
   "source": [
    "# 수집된 url_list, title_list로 판다스 데이터프레임 만들기\n",
    "df = pd.DataFrame({'url':url_list, 'title':title_list})\n",
    "df"
   ]
  },
  {
   "cell_type": "code",
   "execution_count": 13,
   "metadata": {
    "id": "0gl5A-pW-kvt",
    "outputId": "a559e994-03d4-4012-87d8-13ff86500cd9"
   },
   "outputs": [
    {
     "data": {
      "text/plain": [
       "'/Users/krc/TIL/RS/crawling'"
      ]
     },
     "execution_count": 13,
     "metadata": {},
     "output_type": "execute_result"
    }
   ],
   "source": [
    "pwd"
   ]
  },
  {
   "cell_type": "code",
   "execution_count": 14,
   "metadata": {
    "id": "utM15Eos-kvt"
   },
   "outputs": [],
   "source": [
    "# 저장하기\n",
    "df.to_csv(\"blog_url.csv\", encoding='utf-8-sig')\n",
    "# df.to_csv(\"blog_url.csv\", encoding='utf-8-sig')"
   ]
  },
  {
   "cell_type": "markdown",
   "metadata": {
    "id": "hXNfrK-L-kvt"
   },
   "source": [
    "# 2. 블로그 내용 크롤링하기"
   ]
  },
  {
   "cell_type": "code",
   "execution_count": 15,
   "metadata": {
    "id": "wueBlU75-kvt"
   },
   "outputs": [],
   "source": [
    "import sys\n",
    "import os\n",
    "import pandas as pd\n",
    "import numpy as np"
   ]
  },
  {
   "cell_type": "code",
   "execution_count": 16,
   "metadata": {
    "id": "nRD3qDF5-kvt",
    "outputId": "9630a68d-e501-4865-eaa2-3112a51d78ab",
    "scrolled": true
   },
   "outputs": [
    {
     "name": "stdout",
     "output_type": "stream",
     "text": [
      "86\n"
     ]
    },
    {
     "data": {
      "text/html": [
       "<div>\n",
       "<style scoped>\n",
       "    .dataframe tbody tr th:only-of-type {\n",
       "        vertical-align: middle;\n",
       "    }\n",
       "\n",
       "    .dataframe tbody tr th {\n",
       "        vertical-align: top;\n",
       "    }\n",
       "\n",
       "    .dataframe thead th {\n",
       "        text-align: right;\n",
       "    }\n",
       "</style>\n",
       "<table border=\"1\" class=\"dataframe\">\n",
       "  <thead>\n",
       "    <tr style=\"text-align: right;\">\n",
       "      <th></th>\n",
       "      <th>url</th>\n",
       "      <th>title</th>\n",
       "    </tr>\n",
       "  </thead>\n",
       "  <tbody>\n",
       "    <tr>\n",
       "      <th>0</th>\n",
       "      <td>https://adcr.naver.com/adcr?x=3tItLbCrm2Z+wf8x...</td>\n",
       "      <td>[네이버 전용]종근당건강 아이클리어 루테인 지아잔틴 10박스(10개월분) 눈영양제 ...</td>\n",
       "    </tr>\n",
       "    <tr>\n",
       "      <th>1</th>\n",
       "      <td>https://adcr.naver.com/adcr?x=++KJ6bPuBk25jS+V...</td>\n",
       "      <td>[3+1] 5:1비율 뉴트리코어 루테인지아잔틴</td>\n",
       "    </tr>\n",
       "    <tr>\n",
       "      <th>2</th>\n",
       "      <td>https://adcr.naver.com/adcr?x=MaspD5RFxKY+b5xP...</td>\n",
       "      <td>뉴질랜드 라이프스팬 초록입홍합 오일추출 25000mg 120캡슐 푸른입홍합녹색그린</td>\n",
       "    </tr>\n",
       "    <tr>\n",
       "      <th>3</th>\n",
       "      <td>https://cr.shopping.naver.com/adcr.nhn?x=9102z...</td>\n",
       "      <td>뉴트리원 정우성 루테인 지아잔틴 164 3박스 3개월분</td>\n",
       "    </tr>\n",
       "    <tr>\n",
       "      <th>4</th>\n",
       "      <td>https://cr.shopping.naver.com/adcr.nhn?x=Q%2BZ...</td>\n",
       "      <td>닥터머콜라 퀘르세틴 케르세틴 프테로스틸벤 어드벤스 약들약 추천 60 180캡슐</td>\n",
       "    </tr>\n",
       "    <tr>\n",
       "      <th>...</th>\n",
       "      <td>...</td>\n",
       "      <td>...</td>\n",
       "    </tr>\n",
       "    <tr>\n",
       "      <th>81</th>\n",
       "      <td>https://cr.shopping.naver.com/adcr.nhn?x=8%2FU...</td>\n",
       "      <td>우리아이유산균드롭스플러스D 닥터바이오D 신생아 돌 아기 유아 어린이 액상 유산균 비타민디</td>\n",
       "    </tr>\n",
       "    <tr>\n",
       "      <th>82</th>\n",
       "      <td>https://cr.shopping.naver.com/adcr.nhn?x=X1x6o...</td>\n",
       "      <td>뉴트리코어 브라질 그린 프로폴리스 NCS SIF인증</td>\n",
       "    </tr>\n",
       "    <tr>\n",
       "      <th>83</th>\n",
       "      <td>https://cr.shopping.naver.com/adcr.nhn?x=XV%2B...</td>\n",
       "      <td>미국 쏘팔메토 전립선영양제 옥타코사놀 소변자주마려움 1300mg</td>\n",
       "    </tr>\n",
       "    <tr>\n",
       "      <th>84</th>\n",
       "      <td>https://cr.shopping.naver.com/adcr.nhn?x=7Nhj2...</td>\n",
       "      <td>[정식수입] 바이오가이아 프로텍티스 이지 드롭 프로바이오틱스 +비타민D 10ml</td>\n",
       "    </tr>\n",
       "    <tr>\n",
       "      <th>85</th>\n",
       "      <td>https://cr.shopping.naver.com/adcr.nhn?x=RfIAM...</td>\n",
       "      <td>포베라 아이맘 프로바이오틱스 베이비 아기 신생아 유산균 비타민D 함유</td>\n",
       "    </tr>\n",
       "  </tbody>\n",
       "</table>\n",
       "<p>86 rows × 2 columns</p>\n",
       "</div>"
      ],
      "text/plain": [
       "                                                  url  \\\n",
       "0   https://adcr.naver.com/adcr?x=3tItLbCrm2Z+wf8x...   \n",
       "1   https://adcr.naver.com/adcr?x=++KJ6bPuBk25jS+V...   \n",
       "2   https://adcr.naver.com/adcr?x=MaspD5RFxKY+b5xP...   \n",
       "3   https://cr.shopping.naver.com/adcr.nhn?x=9102z...   \n",
       "4   https://cr.shopping.naver.com/adcr.nhn?x=Q%2BZ...   \n",
       "..                                                ...   \n",
       "81  https://cr.shopping.naver.com/adcr.nhn?x=8%2FU...   \n",
       "82  https://cr.shopping.naver.com/adcr.nhn?x=X1x6o...   \n",
       "83  https://cr.shopping.naver.com/adcr.nhn?x=XV%2B...   \n",
       "84  https://cr.shopping.naver.com/adcr.nhn?x=7Nhj2...   \n",
       "85  https://cr.shopping.naver.com/adcr.nhn?x=RfIAM...   \n",
       "\n",
       "                                                title  \n",
       "0   [네이버 전용]종근당건강 아이클리어 루테인 지아잔틴 10박스(10개월분) 눈영양제 ...  \n",
       "1                           [3+1] 5:1비율 뉴트리코어 루테인지아잔틴  \n",
       "2       뉴질랜드 라이프스팬 초록입홍합 오일추출 25000mg 120캡슐 푸른입홍합녹색그린  \n",
       "3                      뉴트리원 정우성 루테인 지아잔틴 164 3박스 3개월분  \n",
       "4         닥터머콜라 퀘르세틴 케르세틴 프테로스틸벤 어드벤스 약들약 추천 60 180캡슐  \n",
       "..                                                ...  \n",
       "81  우리아이유산균드롭스플러스D 닥터바이오D 신생아 돌 아기 유아 어린이 액상 유산균 비타민디  \n",
       "82                       뉴트리코어 브라질 그린 프로폴리스 NCS SIF인증  \n",
       "83                미국 쏘팔메토 전립선영양제 옥타코사놀 소변자주마려움 1300mg  \n",
       "84       [정식수입] 바이오가이아 프로텍티스 이지 드롭 프로바이오틱스 +비타민D 10ml  \n",
       "85             포베라 아이맘 프로바이오틱스 베이비 아기 신생아 유산균 비타민D 함유  \n",
       "\n",
       "[86 rows x 2 columns]"
      ]
     },
     "execution_count": 16,
     "metadata": {},
     "output_type": "execute_result"
    }
   ],
   "source": [
    "# \"url_list.csv\" 불러오기\n",
    "url_load = pd.read_csv(\"blog_url.csv\")\n",
    "url_load = url_load.drop(\"Unnamed: 0\", axis=1)  # 불필요한 칼럼 삭제\n",
    "\n",
    "num_list = len(url_load)\n",
    "\n",
    "print(num_list)\n",
    "url_load"
   ]
  },
  {
   "cell_type": "code",
   "execution_count": 17,
   "metadata": {},
   "outputs": [
    {
     "data": {
      "text/plain": [
       "0     https://adcr.naver.com/adcr?x=3tItLbCrm2Z+wf8x...\n",
       "1     https://adcr.naver.com/adcr?x=++KJ6bPuBk25jS+V...\n",
       "2     https://adcr.naver.com/adcr?x=MaspD5RFxKY+b5xP...\n",
       "3     https://cr.shopping.naver.com/adcr.nhn?x=9102z...\n",
       "4     https://cr.shopping.naver.com/adcr.nhn?x=Q%2BZ...\n",
       "                            ...                        \n",
       "81    https://cr.shopping.naver.com/adcr.nhn?x=8%2FU...\n",
       "82    https://cr.shopping.naver.com/adcr.nhn?x=X1x6o...\n",
       "83    https://cr.shopping.naver.com/adcr.nhn?x=XV%2B...\n",
       "84    https://cr.shopping.naver.com/adcr.nhn?x=7Nhj2...\n",
       "85    https://cr.shopping.naver.com/adcr.nhn?x=RfIAM...\n",
       "Name: url, Length: 86, dtype: object"
      ]
     },
     "execution_count": 17,
     "metadata": {},
     "output_type": "execute_result"
    }
   ],
   "source": [
    "url_load['url']"
   ]
  },
  {
   "cell_type": "code",
   "execution_count": 18,
   "metadata": {},
   "outputs": [],
   "source": [
    "# 글 하나 띄우기\n",
    "i = 1\n",
    "url = url_load['url'][i]\n",
    "driver = webdriver.Chrome(chrome_path, options=options)\n",
    "driver.get(url)   # 글 띄우기"
   ]
  },
  {
   "cell_type": "code",
   "execution_count": 49,
   "metadata": {},
   "outputs": [],
   "source": [
    "# iframe 접근\n",
    "driver.switch_to.frame('mainFrame')"
   ]
  },
  {
   "cell_type": "code",
   "execution_count": 39,
   "metadata": {},
   "outputs": [],
   "source": [
    "dict = {}\n",
    "target_info = {}  # 개별 블로그 내용을 담을 딕셔너리 생성"
   ]
  },
  {
   "cell_type": "code",
   "execution_count": 34,
   "metadata": {},
   "outputs": [
    {
     "data": {
      "text/plain": [
       "'루테인 지아잔틴, 식물성 캡슐 뉴트리코어'"
      ]
     },
     "execution_count": 34,
     "metadata": {},
     "output_type": "execute_result"
    }
   ],
   "source": [
    "# 제목 크롤링 시작\n",
    "overlays = \"._3oDjSvLwq9._copyable\"                                 \n",
    "tit = driver.find_element_by_css_selector(overlays)          # title\n",
    "title = tit.text\n",
    "title"
   ]
  },
  {
   "cell_type": "code",
   "execution_count": 35,
   "metadata": {},
   "outputs": [
    {
     "data": {
      "text/plain": [
       "'190,000'"
      ]
     },
     "execution_count": 35,
     "metadata": {},
     "output_type": "execute_result"
    }
   ],
   "source": [
    "# 가격 크롤링 시작\n",
    "overlays = \"._1LY7DqCnwR\"                                 \n",
    "price = driver.find_element_by_css_selector(overlays)         # nickname\n",
    "price = price.text\n",
    "price"
   ]
  },
  {
   "cell_type": "code",
   "execution_count": 36,
   "metadata": {},
   "outputs": [
    {
     "data": {
      "text/plain": [
       "'상품번호 4683772291 상품상태 신상품\\n브랜드 뉴트리코어 원산지 상세설명에 표시'"
      ]
     },
     "execution_count": 36,
     "metadata": {},
     "output_type": "execute_result"
    }
   ],
   "source": [
    "# matrix 크롤링\n",
    "overlays = \"._1_UiXWHt__\"                                 \n",
    "matrix = driver.find_element_by_css_selector(overlays)         # datetime\n",
    "matrix = matrix.text\n",
    "matrix"
   ]
  },
  {
   "cell_type": "code",
   "execution_count": 37,
   "metadata": {},
   "outputs": [
    {
     "data": {
      "text/plain": [
       "'제품타입 캡슐 섭취방법 물과 함께\\n섭취대상 성인남녀 섭취횟수 하루 한 번\\n1일 총 섭취량 1정 제품용량 1개월분\\n주요 기능성(식약처인증) 눈건강 영양소 원료명(식약처고시) 비타민E, 베타카로틴, 비타민D, 엽산\\n루테인 16mg'"
      ]
     },
     "execution_count": 37,
     "metadata": {},
     "output_type": "execute_result"
    }
   ],
   "source": [
    "# matrix2 크롤링\n",
    "overlays = \".detail_attributes ._1_UiXWHt__\"                                 \n",
    "matrix2 = driver.find_element_by_css_selector(overlays)         # datetime\n",
    "matrix2 = matrix2.text\n",
    "matrix2"
   ]
  },
  {
   "cell_type": "code",
   "execution_count": 40,
   "metadata": {},
   "outputs": [
    {
     "data": {
      "text/plain": [
       "{'title': '루테인 지아잔틴, 식물성 캡슐 뉴트리코어',\n",
       " 'price': '190,000',\n",
       " 'matrix': '상품번호 4683772291 상품상태 신상품\\n브랜드 뉴트리코어 원산지 상세설명에 표시',\n",
       " 'matrix2': '제품타입 캡슐 섭취방법 물과 함께\\n섭취대상 성인남녀 섭취횟수 하루 한 번\\n1일 총 섭취량 1정 제품용량 1개월분\\n주요 기능성(식약처인증) 눈건강 영양소 원료명(식약처고시) 비타민E, 베타카로틴, 비타민D, 엽산\\n루테인 16mg'}"
      ]
     },
     "execution_count": 40,
     "metadata": {},
     "output_type": "execute_result"
    }
   ],
   "source": [
    "# 글 하나는 target_info라는 딕셔너리에 담기게 되고,\n",
    "target_info['title'] = title\n",
    "target_info['price'] = price\n",
    "target_info['matrix'] = matrix\n",
    "target_info['matrix2'] = matrix2\n",
    "\n",
    "target_info"
   ]
  },
  {
   "cell_type": "code",
   "execution_count": 41,
   "metadata": {},
   "outputs": [
    {
     "data": {
      "text/plain": [
       "{1: {'title': '루테인 지아잔틴, 식물성 캡슐 뉴트리코어',\n",
       "  'price': '190,000',\n",
       "  'matrix': '상품번호 4683772291 상품상태 신상품\\n브랜드 뉴트리코어 원산지 상세설명에 표시',\n",
       "  'matrix2': '제품타입 캡슐 섭취방법 물과 함께\\n섭취대상 성인남녀 섭취횟수 하루 한 번\\n1일 총 섭취량 1정 제품용량 1개월분\\n주요 기능성(식약처인증) 눈건강 영양소 원료명(식약처고시) 비타민E, 베타카로틴, 비타민D, 엽산\\n루테인 16mg'}}"
      ]
     },
     "execution_count": 41,
     "metadata": {},
     "output_type": "execute_result"
    }
   ],
   "source": [
    "dict[i] = target_info\n",
    "\n",
    "dict"
   ]
  },
  {
   "cell_type": "code",
   "execution_count": 59,
   "metadata": {},
   "outputs": [],
   "source": [
    "# 판다스로 만들기\n",
    "import pandas as pd\n",
    "result_df = pd.DataFrame.from_dict(dict, 'index')\n",
    "\n",
    "# 저장하기\n",
    "result_df.to_excel(\"blog_content.xlsx\", encoding='utf-8-sig')\n",
    "time.sleep(3)"
   ]
  },
  {
   "cell_type": "code",
   "execution_count": null,
   "metadata": {},
   "outputs": [],
   "source": []
  },
  {
   "cell_type": "code",
   "execution_count": null,
   "metadata": {},
   "outputs": [],
   "source": []
  },
  {
   "cell_type": "code",
   "execution_count": null,
   "metadata": {},
   "outputs": [],
   "source": []
  },
  {
   "cell_type": "code",
   "execution_count": 43,
   "metadata": {
    "colab": {
     "referenced_widgets": [
      "90fd656a8c42421bbe133fdcd0598bc6"
     ]
    },
    "id": "XFXmQgE8-kvu",
    "outputId": "132915b2-033b-43b1-997c-cc5609dbf776",
    "scrolled": true
   },
   "outputs": [
    {
     "data": {
      "application/vnd.jupyter.widget-view+json": {
       "model_id": "6d9a24f3d7ab4f62a2a856902f141242",
       "version_major": 2,
       "version_minor": 0
      },
      "text/plain": [
       "  0%|          | 0/10 [00:00<?, ?it/s]"
      ]
     },
     "metadata": {},
     "output_type": "display_data"
    },
    {
     "name": "stdout",
     "output_type": "stream",
     "text": [
      "0 [네이버 전용]종근당건강 아이클리어 루테인 지아잔틴 10박스(10개월분) 눈영양제 식물성캡슐 차인표 루테인\n",
      "1 루테인 지아잔틴, 식물성 캡슐 뉴트리코어\n",
      "2 뉴질랜드 라이프스팬 초록입홍합 오일추출 25000mg 120캡슐 푸른입홍합녹색그린\n",
      "3 뉴트리원 정우성 루테인 지아잔틴 164 3박스 3개월분\n",
      "4 닥터머콜라 퀘르세틴 케르세틴 프테로스틸벤 어드벤스 약들약 추천 60 180캡슐\n",
      "5 정우성 유기농 밀크씨슬 2박스 2개월분 실리마린 간영양제\n",
      "6 종근당건강 조인성 프로메가 알티지 오메가3듀얼 (3박스,3개월분)\n",
      "7 연세 루테인 플러스 연세대학교 연세생활건강 4개월분\n",
      "8 1+1 쏜리서치 SAT 60캡슐\n",
      "9 뉴트리모어 액티브 엽산 400 800 임산부영양제 활성 활성형엽산 450mg x 60정 2개월\n",
      "수집한 글 갯수:  10\n",
      "{0: {'title': '[네이버 전용]종근당건강 아이클리어 루테인 지아잔틴 10박스(10개월분) 눈영양제 식물성캡슐 차인표 루테인', 'price': '149,900', 'matrix': '상품번호 6606166860 상품상태 신상품\\n브랜드 종근당건강 사은품 7/25~31일간 최대 7%적립!\\n원산지 상세설명에 표시', 'matrix2': '제품타입 캡슐 섭취방법 물과 함께\\n섭취대상 성인남녀 섭취횟수 하루 한 번\\n1일 총 섭취량 1캡슐 제품용량 10개월분\\n주요 기능성(식약처인증) 눈건강 영양소 원료명(식약처고시) 비타민A, 비타민D, 비타민E, 비타민B1, 비타민B6, 비타민B2\\n루테인 18.2mg'}, 1: {'title': '루테인 지아잔틴, 식물성 캡슐 뉴트리코어', 'price': '190,000', 'matrix': '상품번호 4683772291 상품상태 신상품\\n브랜드 뉴트리코어 원산지 상세설명에 표시', 'matrix2': '제품타입 캡슐 섭취방법 물과 함께\\n섭취대상 성인남녀 섭취횟수 하루 한 번\\n1일 총 섭취량 1정 제품용량 1개월분\\n주요 기능성(식약처인증) 눈건강 영양소 원료명(식약처고시) 비타민E, 베타카로틴, 비타민D, 엽산\\n루테인 16mg'}, 2: {'title': '뉴질랜드 라이프스팬 초록입홍합 오일추출 25000mg 120캡슐 푸른입홍합녹색그린', 'price': '238,000', 'matrix': '상품번호 3472701150 상품상태 신상품\\n제조사 라이프스팬 브랜드 라이프스팬\\n모델명 라이프스팬 울트라플렉스 초록입홍합오일 25000mg 120캡슐 사은품 구매가격 10만원 이상시 액수따라 비누,치약,크림 등 사은품 증정\\n원산지 뉴질랜드산(뉴질랜드)', 'matrix2': '제품타입 캡슐 섭취방법 물과 함께\\n섭취대상 성인남녀 섭취횟수 하루 한 번\\n1일 총 섭취량 1정 제품용량 4개월분'}, 3: {'title': '뉴트리원 정우성 루테인 지아잔틴 164 3박스 3개월분', 'price': '135,000', 'matrix': '상품번호 3858391637 상품상태 신상품\\n제조사 노바렉스 브랜드 뉴트리원\\n모델명 루테인 지아잔틴 164 500mg x 30캡슐 원산지 상세설명에 표시', 'matrix2': '제품타입 캡슐 섭취방법 물과 함께\\n섭취대상 성인남녀 섭취횟수 하루 한 번\\n1일 총 섭취량 1캡슐 제품용량 3개월분\\n주요 기능성(식약처인증) 눈건강 영양소 원료명(식약처고시) 비타민A, 비타민B1, 비타민B2, 비타민E, 아연, 셀레늄(셀렌)\\n루테인 20mg'}, 4: {'title': '닥터머콜라 퀘르세틴 케르세틴 프테로스틸벤 어드벤스 약들약 추천 60 180캡슐', 'price': '140,000', 'matrix': '상품번호 6865593490 상품상태 신상품\\n제조사 닥터머콜라 브랜드 닥터머콜라\\n모델명 닥터머콜라 퀘르세틴 케르세틴 프테로스틸벤 어드벤스 약들약 추천 60 180캡슐 원산지 미국산(닥터머콜라)', 'matrix2': '제품타입 캡슐 섭취방법 물과 함께\\n섭취대상 성인남녀 섭취횟수 하루 두 번\\n1일 총 섭취량 2정 제품용량 1개월분'}, 5: {'title': '정우성 유기농 밀크씨슬 2박스 2개월분 실리마린 간영양제', 'price': '68,000', 'matrix': '상품번호 5536425514 상품상태 신상품\\n제조사 노바렉스 브랜드 뉴트리원\\n모델명 유기농 밀크씨슬 퓨어 원산지 상세설명에 표시', 'matrix2': '제품타입 정 섭취방법 물과 함께\\n섭취대상 성인남녀 섭취횟수 하루 한 번\\n1일 총 섭취량 1정 제품용량 2개월분\\n주요 기능성(식약처인증) 간건강 영양소 원료명(식약처고시) 해당 없음\\n실리마린 130mg'}, 6: {'title': '종근당건강 조인성 프로메가 알티지 오메가3듀얼 (3박스,3개월분)', 'price': '75,000', 'matrix': '상품번호 4923264887 상품상태 신상품\\n제조사 종근당건강 브랜드 종근당\\n모델명 프로메가 알티지 오메가3 520mg x 60캡슐 원산지 상세설명에 표시', 'matrix2': '제품타입 캡슐 섭취방법 물과 함께\\n섭취횟수 하루 한 번 1일 총 섭취량 2캡슐\\n주요 기능성(식약처인증) 혈행개선 영양소 원료명(식약처고시) 비타민E\\nDHA+EPA 600mg'}, 7: {'title': '연세 루테인 플러스 연세대학교 연세생활건강 4개월분', 'price': '89,900', 'matrix': '상품번호 6631161722 상품상태 신상품\\n제조사 연세생활건강 브랜드 연세\\n모델명 연세루테인플러스 세브란스케어 원산지 상세설명에 표시', 'matrix2': '제품타입 정 섭취방법 물과 함께\\n1일 총 섭취량 1정 제품용량 4개월분\\n주요 기능성(식약처인증) 눈건강 영양소 원료명(식약처고시) 비타민A, 비타민D, 비타민E, 비타민B1, 비타민B6, 비타민C\\n루테인 20mg'}, 8: {'title': '1+1 쏜리서치 SAT 60캡슐', 'price': '186,000', 'matrix': '상품번호 5276649124 상품상태 신상품\\n제조사 쏜리서치 브랜드 쏜리서치\\n사은품 미국 당일 발송 원산지 미국산(쏜리서치)', 'matrix2': '제품타입 캡슐 섭취방법 물과 함께\\n섭취대상 성인남녀 섭취횟수 하루 두 번\\n1일 총 섭취량 2정 제품용량 1개월분\\n영양소 원료명(식약처고시) 해당 없음'}, 9: {'title': '뉴트리모어 액티브 엽산 400 800 임산부영양제 활성 활성형엽산 450mg x 60정 2개월', 'price': '180,000', 'matrix': '상품번호 5643414858 상품상태 신상품\\n제조사 알피바이오 브랜드 뉴트리모어\\n모델명 액티브 엽산 400 이벤트 3+1 이벤트 진행 중! 첫 구매 10%할인 쿠폰 + 스토어찜 천원 할인\\n원산지 상세설명에 표시', 'matrix2': '제품타입 정 섭취방법 물과 함께\\n섭취대상 성인남녀 섭취횟수 하루 한 번\\n1일 총 섭취량 1정 제품용량 2개월분\\n주요 기능성(식약처인증) 영양보충 영양소 원료명(식약처고시) 엽산, 비타민B6, 비타민B12\\n엽산 400µg'}}\n"
     ]
    }
   ],
   "source": [
    "dict = {}    # 전체 크롤링 데이터를 담을 그릇\n",
    "\n",
    "# 수집할 글 갯수 정하기\n",
    "number = 10 \n",
    "\n",
    "# 수집한 url 돌면서 데이터 수집\n",
    "for i in tqdm_notebook(range(0, number)):\n",
    "    # 글 띄우기\n",
    "    url = url_load['url'][i]\n",
    "    driver = webdriver.Chrome(chrome_path, options=options)\n",
    "    driver.get(url)   # 글 띄우기\n",
    "    \n",
    "    # 크롤링\n",
    "    \n",
    "    try : \n",
    "\n",
    "        target_info = {}  # 개별 블로그 내용을 담을 딕셔너리 생성\n",
    "\n",
    "        # 제목 크롤링 시작\n",
    "        overlays = \"._3oDjSvLwq9._copyable\"                                 \n",
    "        tit = driver.find_element_by_css_selector(overlays)          # title\n",
    "        title = tit.text\n",
    "        title\n",
    "\n",
    "        # 가격 크롤링 시작\n",
    "        overlays = \"._1LY7DqCnwR\"                                 \n",
    "        price = driver.find_element_by_css_selector(overlays)         # nickname\n",
    "        price = price.text\n",
    "        price\n",
    "\n",
    "        # matrix 크롤링\n",
    "        overlays = \"._1_UiXWHt__\"                                 \n",
    "        matrix = driver.find_element_by_css_selector(overlays)         # datetime\n",
    "        matrix = matrix.text\n",
    "        matrix\n",
    "\n",
    "        # matrix2 크롤링\n",
    "        overlays = \".detail_attributes ._1_UiXWHt__\"                                 \n",
    "        matrix2 = driver.find_element_by_css_selector(overlays)         # datetime\n",
    "        matrix2 = matrix2.text\n",
    "        matrix2\n",
    "\n",
    "\n",
    "\n",
    "        # 글 하나는 target_info라는 딕셔너리에 담기게 되고,\n",
    "        target_info['title'] = title\n",
    "        target_info['price'] = price\n",
    "        target_info['matrix'] = matrix\n",
    "        target_info['matrix2'] = matrix2\n",
    "\n",
    "        # 각각의 글은 dict라는 딕셔너리에 담기게 됩니다.\n",
    "        dict[i] = target_info\n",
    "        time.sleep(1)\n",
    "        \n",
    "        # 크롤링이 성공하면 글 제목을 출력하게 되고,\n",
    "        print(i, title)\n",
    "\n",
    "        # 글 하나 크롤링 후 크롬 창을 닫습니다.\n",
    "        driver.close()       \n",
    "    \n",
    "    # 에러나면 현재 크롬창을 닫고 다음 글(i+1)로 이동합니다.\n",
    "    except:\n",
    "        driver.close()\n",
    "        time.sleep(1)\n",
    "        continue\n",
    "        \n",
    "    # 판다스로 만들기\n",
    "    import pandas as pd\n",
    "    result_df = pd.DataFrame.from_dict(dict, 'index')\n",
    "\n",
    "    # 저장하기\n",
    "    result_df.to_csv(\"blog_content.csv\", encoding='utf-8-sig')\n",
    "    time.sleep(3)\n",
    "\n",
    "print('수집한 글 갯수: ', len(dict))\n",
    "print(dict)"
   ]
  },
  {
   "cell_type": "code",
   "execution_count": 44,
   "metadata": {
    "id": "aw9T8hPW-kvu",
    "outputId": "afb45d8f-9a0d-442f-a02a-f848f1ce8e6f"
   },
   "outputs": [
    {
     "data": {
      "text/plain": [
       "{0: {'title': '[네이버 전용]종근당건강 아이클리어 루테인 지아잔틴 10박스(10개월분) 눈영양제 식물성캡슐 차인표 루테인',\n",
       "  'price': '149,900',\n",
       "  'matrix': '상품번호 6606166860 상품상태 신상품\\n브랜드 종근당건강 사은품 7/25~31일간 최대 7%적립!\\n원산지 상세설명에 표시',\n",
       "  'matrix2': '제품타입 캡슐 섭취방법 물과 함께\\n섭취대상 성인남녀 섭취횟수 하루 한 번\\n1일 총 섭취량 1캡슐 제품용량 10개월분\\n주요 기능성(식약처인증) 눈건강 영양소 원료명(식약처고시) 비타민A, 비타민D, 비타민E, 비타민B1, 비타민B6, 비타민B2\\n루테인 18.2mg'},\n",
       " 1: {'title': '루테인 지아잔틴, 식물성 캡슐 뉴트리코어',\n",
       "  'price': '190,000',\n",
       "  'matrix': '상품번호 4683772291 상품상태 신상품\\n브랜드 뉴트리코어 원산지 상세설명에 표시',\n",
       "  'matrix2': '제품타입 캡슐 섭취방법 물과 함께\\n섭취대상 성인남녀 섭취횟수 하루 한 번\\n1일 총 섭취량 1정 제품용량 1개월분\\n주요 기능성(식약처인증) 눈건강 영양소 원료명(식약처고시) 비타민E, 베타카로틴, 비타민D, 엽산\\n루테인 16mg'},\n",
       " 2: {'title': '뉴질랜드 라이프스팬 초록입홍합 오일추출 25000mg 120캡슐 푸른입홍합녹색그린',\n",
       "  'price': '238,000',\n",
       "  'matrix': '상품번호 3472701150 상품상태 신상품\\n제조사 라이프스팬 브랜드 라이프스팬\\n모델명 라이프스팬 울트라플렉스 초록입홍합오일 25000mg 120캡슐 사은품 구매가격 10만원 이상시 액수따라 비누,치약,크림 등 사은품 증정\\n원산지 뉴질랜드산(뉴질랜드)',\n",
       "  'matrix2': '제품타입 캡슐 섭취방법 물과 함께\\n섭취대상 성인남녀 섭취횟수 하루 한 번\\n1일 총 섭취량 1정 제품용량 4개월분'},\n",
       " 3: {'title': '뉴트리원 정우성 루테인 지아잔틴 164 3박스 3개월분',\n",
       "  'price': '135,000',\n",
       "  'matrix': '상품번호 3858391637 상품상태 신상품\\n제조사 노바렉스 브랜드 뉴트리원\\n모델명 루테인 지아잔틴 164 500mg x 30캡슐 원산지 상세설명에 표시',\n",
       "  'matrix2': '제품타입 캡슐 섭취방법 물과 함께\\n섭취대상 성인남녀 섭취횟수 하루 한 번\\n1일 총 섭취량 1캡슐 제품용량 3개월분\\n주요 기능성(식약처인증) 눈건강 영양소 원료명(식약처고시) 비타민A, 비타민B1, 비타민B2, 비타민E, 아연, 셀레늄(셀렌)\\n루테인 20mg'},\n",
       " 4: {'title': '닥터머콜라 퀘르세틴 케르세틴 프테로스틸벤 어드벤스 약들약 추천 60 180캡슐',\n",
       "  'price': '140,000',\n",
       "  'matrix': '상품번호 6865593490 상품상태 신상품\\n제조사 닥터머콜라 브랜드 닥터머콜라\\n모델명 닥터머콜라 퀘르세틴 케르세틴 프테로스틸벤 어드벤스 약들약 추천 60 180캡슐 원산지 미국산(닥터머콜라)',\n",
       "  'matrix2': '제품타입 캡슐 섭취방법 물과 함께\\n섭취대상 성인남녀 섭취횟수 하루 두 번\\n1일 총 섭취량 2정 제품용량 1개월분'},\n",
       " 5: {'title': '정우성 유기농 밀크씨슬 2박스 2개월분 실리마린 간영양제',\n",
       "  'price': '68,000',\n",
       "  'matrix': '상품번호 5536425514 상품상태 신상품\\n제조사 노바렉스 브랜드 뉴트리원\\n모델명 유기농 밀크씨슬 퓨어 원산지 상세설명에 표시',\n",
       "  'matrix2': '제품타입 정 섭취방법 물과 함께\\n섭취대상 성인남녀 섭취횟수 하루 한 번\\n1일 총 섭취량 1정 제품용량 2개월분\\n주요 기능성(식약처인증) 간건강 영양소 원료명(식약처고시) 해당 없음\\n실리마린 130mg'},\n",
       " 6: {'title': '종근당건강 조인성 프로메가 알티지 오메가3듀얼 (3박스,3개월분)',\n",
       "  'price': '75,000',\n",
       "  'matrix': '상품번호 4923264887 상품상태 신상품\\n제조사 종근당건강 브랜드 종근당\\n모델명 프로메가 알티지 오메가3 520mg x 60캡슐 원산지 상세설명에 표시',\n",
       "  'matrix2': '제품타입 캡슐 섭취방법 물과 함께\\n섭취횟수 하루 한 번 1일 총 섭취량 2캡슐\\n주요 기능성(식약처인증) 혈행개선 영양소 원료명(식약처고시) 비타민E\\nDHA+EPA 600mg'},\n",
       " 7: {'title': '연세 루테인 플러스 연세대학교 연세생활건강 4개월분',\n",
       "  'price': '89,900',\n",
       "  'matrix': '상품번호 6631161722 상품상태 신상품\\n제조사 연세생활건강 브랜드 연세\\n모델명 연세루테인플러스 세브란스케어 원산지 상세설명에 표시',\n",
       "  'matrix2': '제품타입 정 섭취방법 물과 함께\\n1일 총 섭취량 1정 제품용량 4개월분\\n주요 기능성(식약처인증) 눈건강 영양소 원료명(식약처고시) 비타민A, 비타민D, 비타민E, 비타민B1, 비타민B6, 비타민C\\n루테인 20mg'},\n",
       " 8: {'title': '1+1 쏜리서치 SAT 60캡슐',\n",
       "  'price': '186,000',\n",
       "  'matrix': '상품번호 5276649124 상품상태 신상품\\n제조사 쏜리서치 브랜드 쏜리서치\\n사은품 미국 당일 발송 원산지 미국산(쏜리서치)',\n",
       "  'matrix2': '제품타입 캡슐 섭취방법 물과 함께\\n섭취대상 성인남녀 섭취횟수 하루 두 번\\n1일 총 섭취량 2정 제품용량 1개월분\\n영양소 원료명(식약처고시) 해당 없음'},\n",
       " 9: {'title': '뉴트리모어 액티브 엽산 400 800 임산부영양제 활성 활성형엽산 450mg x 60정 2개월',\n",
       "  'price': '180,000',\n",
       "  'matrix': '상품번호 5643414858 상품상태 신상품\\n제조사 알피바이오 브랜드 뉴트리모어\\n모델명 액티브 엽산 400 이벤트 3+1 이벤트 진행 중! 첫 구매 10%할인 쿠폰 + 스토어찜 천원 할인\\n원산지 상세설명에 표시',\n",
       "  'matrix2': '제품타입 정 섭취방법 물과 함께\\n섭취대상 성인남녀 섭취횟수 하루 한 번\\n1일 총 섭취량 1정 제품용량 2개월분\\n주요 기능성(식약처인증) 영양보충 영양소 원료명(식약처고시) 엽산, 비타민B6, 비타민B12\\n엽산 400µg'}}"
      ]
     },
     "execution_count": 44,
     "metadata": {},
     "output_type": "execute_result"
    }
   ],
   "source": [
    "dict"
   ]
  },
  {
   "cell_type": "code",
   "execution_count": 40,
   "metadata": {
    "id": "MP_grQXm-kvv",
    "outputId": "94e65bb2-0e12-48ea-be55-fb1731c3ac1f",
    "scrolled": true
   },
   "outputs": [
    {
     "data": {
      "text/html": [
       "<div>\n",
       "<style scoped>\n",
       "    .dataframe tbody tr th:only-of-type {\n",
       "        vertical-align: middle;\n",
       "    }\n",
       "\n",
       "    .dataframe tbody tr th {\n",
       "        vertical-align: top;\n",
       "    }\n",
       "\n",
       "    .dataframe thead th {\n",
       "        text-align: right;\n",
       "    }\n",
       "</style>\n",
       "<table border=\"1\" class=\"dataframe\">\n",
       "  <thead>\n",
       "    <tr style=\"text-align: right;\">\n",
       "      <th></th>\n",
       "      <th>title</th>\n",
       "      <th>nickname</th>\n",
       "      <th>datetime</th>\n",
       "      <th>content</th>\n",
       "    </tr>\n",
       "  </thead>\n",
       "  <tbody>\n",
       "    <tr>\n",
       "      <th>1</th>\n",
       "      <td>합정 홍대 라멘맛집 오레노라멘 미쉐린2022 선정 (주차팁)</td>\n",
       "      <td>잇츠마인\\n(love_od)</td>\n",
       "      <td>2022. 6. 18. 16:00</td>\n",
       "      <td>홍대 라멘맛집이라고 검색이 더 많이되고있지만\\n실제로는 합정역에서 더 가까운 오레노...</td>\n",
       "    </tr>\n",
       "    <tr>\n",
       "      <th>2</th>\n",
       "      <td>홍대 합정 맛집 포36거리 월남쌈 쌀국수 세트 추천!</td>\n",
       "      <td>먹슬지</td>\n",
       "      <td>2022. 7. 14. 0:06</td>\n",
       "      <td>먹슬지입니다~~👋\\n오늘은 월남쌈이 먹고 싶어서 찾아갔던\\n홍대 합정 맛집 소개해...</td>\n",
       "    </tr>\n",
       "    <tr>\n",
       "      <th>3</th>\n",
       "      <td>홍대 씨부엉 통문어가 들어간 중화풍 즉석떡볶이 맛집</td>\n",
       "      <td>바카</td>\n",
       "      <td>2022. 7. 8. 7:00</td>\n",
       "      <td>홍대 미대 나온 염님을 보필하고 사는 노예 바카님이라\\n가끔씩 염님 추억팔이하러 홍...</td>\n",
       "    </tr>\n",
       "    <tr>\n",
       "      <th>4</th>\n",
       "      <td>홍대 고기집 합정 맛집 고기꾼김춘배 친절하고 맛있음</td>\n",
       "      <td>미니미엄빠</td>\n",
       "      <td>2022. 6. 30. 11:16</td>\n",
       "      <td>#홍대고기집 #합정맛집\\n고기꾼김춘배 홍대본점 홍대 거리에서 너무나도 유명한 고기집...</td>\n",
       "    </tr>\n",
       "    <tr>\n",
       "      <th>5</th>\n",
       "      <td>ㅣ홍대맛집ㅣ서교동맛집 '스테이크 슈퍼' (+어린이메뉴)</td>\n",
       "      <td>몽쉘미쉘\\n(xxchocoxx)</td>\n",
       "      <td>2022. 7. 8. 10:41</td>\n",
       "      <td>스테이크 슈퍼 http://instagram.com/steaksuper_offici...</td>\n",
       "    </tr>\n",
       "    <tr>\n",
       "      <th>6</th>\n",
       "      <td>[홍대 맛집] 홍대의 일본식 야끼카레 맛집, 비스트로 큐슈</td>\n",
       "      <td>템포</td>\n",
       "      <td>2022. 6. 19. 8:50</td>\n",
       "      <td>다양한 맛집이 많이 있는 홍대\\n매번 홍대에 갈 때마다\\n너무나도 많은 맛집들이 있...</td>\n",
       "    </tr>\n",
       "    <tr>\n",
       "      <th>7</th>\n",
       "      <td>홍대 맛집 '프리모바치오바치' 빠네 파스타 맛집 (+꿀팁)</td>\n",
       "      <td>싱깅\\n(tldrld93)</td>\n",
       "      <td>2022. 5. 13. 5:30</td>\n",
       "      <td>홍대 맛집, 홍대 파스타\\n프리모바치오바치 저번 주 금요일, 쟁의 청첩장 모임이 있...</td>\n",
       "    </tr>\n",
       "    <tr>\n",
       "      <th>8</th>\n",
       "      <td>[홍대맛집/키움초밥]맛과 가성비 다 잡은캐쥬얼초밥집.데이트 하고 식사하러 가셔도 좋을듯.</td>\n",
       "      <td>바블</td>\n",
       "      <td>2022. 7. 9. 7:00</td>\n",
       "      <td>아침부터 홍대에서 시작한\\n업무가 점심쯔음 서교동에서 마쳤어요\\n일 땜시 여동생을 ...</td>\n",
       "    </tr>\n",
       "    <tr>\n",
       "      <th>9</th>\n",
       "      <td>홍대입구텐동맛집 [고구텐 홍대점] 항상 사람들로 가득한 홍대 맛집</td>\n",
       "      <td>먹는데 진심인 오사장\\n(ops1200)</td>\n",
       "      <td>2022. 7. 1. 13:59</td>\n",
       "      <td>매장번호 0507-1331-5610\\n영업시간\\n11:30 - 21:00\\n15:0...</td>\n",
       "    </tr>\n",
       "  </tbody>\n",
       "</table>\n",
       "</div>"
      ],
      "text/plain": [
       "                                               title                nickname  \\\n",
       "1                  합정 홍대 라멘맛집 오레노라멘 미쉐린2022 선정 (주차팁)         잇츠마인\\n(love_od)   \n",
       "2                      홍대 합정 맛집 포36거리 월남쌈 쌀국수 세트 추천!                     먹슬지   \n",
       "3                       홍대 씨부엉 통문어가 들어간 중화풍 즉석떡볶이 맛집                      바카   \n",
       "4                       홍대 고기집 합정 맛집 고기꾼김춘배 친절하고 맛있음                   미니미엄빠   \n",
       "5                     ㅣ홍대맛집ㅣ서교동맛집 '스테이크 슈퍼' (+어린이메뉴)       몽쉘미쉘\\n(xxchocoxx)   \n",
       "6                   [홍대 맛집] 홍대의 일본식 야끼카레 맛집, 비스트로 큐슈                      템포   \n",
       "7                   홍대 맛집 '프리모바치오바치' 빠네 파스타 맛집 (+꿀팁)          싱깅\\n(tldrld93)   \n",
       "8  [홍대맛집/키움초밥]맛과 가성비 다 잡은캐쥬얼초밥집.데이트 하고 식사하러 가셔도 좋을듯.                      바블   \n",
       "9               홍대입구텐동맛집 [고구텐 홍대점] 항상 사람들로 가득한 홍대 맛집  먹는데 진심인 오사장\\n(ops1200)   \n",
       "\n",
       "             datetime                                            content  \n",
       "1  2022. 6. 18. 16:00  홍대 라멘맛집이라고 검색이 더 많이되고있지만\\n실제로는 합정역에서 더 가까운 오레노...  \n",
       "2   2022. 7. 14. 0:06   먹슬지입니다~~👋\\n오늘은 월남쌈이 먹고 싶어서 찾아갔던\\n홍대 합정 맛집 소개해...  \n",
       "3    2022. 7. 8. 7:00  홍대 미대 나온 염님을 보필하고 사는 노예 바카님이라\\n가끔씩 염님 추억팔이하러 홍...  \n",
       "4  2022. 6. 30. 11:16  #홍대고기집 #합정맛집\\n고기꾼김춘배 홍대본점 홍대 거리에서 너무나도 유명한 고기집...  \n",
       "5   2022. 7. 8. 10:41  스테이크 슈퍼 http://instagram.com/steaksuper_offici...  \n",
       "6   2022. 6. 19. 8:50  다양한 맛집이 많이 있는 홍대\\n매번 홍대에 갈 때마다\\n너무나도 많은 맛집들이 있...  \n",
       "7   2022. 5. 13. 5:30  홍대 맛집, 홍대 파스타\\n프리모바치오바치 저번 주 금요일, 쟁의 청첩장 모임이 있...  \n",
       "8    2022. 7. 9. 7:00  아침부터 홍대에서 시작한\\n업무가 점심쯔음 서교동에서 마쳤어요\\n일 땜시 여동생을 ...  \n",
       "9   2022. 7. 1. 13:59  매장번호 0507-1331-5610\\n영업시간\\n11:30 - 21:00\\n15:0...  "
      ]
     },
     "execution_count": 40,
     "metadata": {},
     "output_type": "execute_result"
    }
   ],
   "source": [
    "# 판다스로 만들기\n",
    "import pandas as pd\n",
    "result_df = pd.DataFrame.from_dict(dict, 'index')\n",
    "result_df"
   ]
  },
  {
   "cell_type": "code",
   "execution_count": 41,
   "metadata": {
    "id": "rxYCIxaE-kvv",
    "scrolled": true
   },
   "outputs": [],
   "source": [
    "# 엑셀로 저장하기\n",
    "result_df.to_csv(\"blog_content.csv\", encoding='utf-8-sig')"
   ]
  },
  {
   "cell_type": "code",
   "execution_count": 26,
   "metadata": {
    "id": "8tlfMsDm-kvv",
    "outputId": "4fa392b3-ae52-4762-ba70-cbc58cc0d074"
   },
   "outputs": [
    {
     "data": {
      "text/plain": [
       "'/Users/aiden/Dropbox/Mac/Desktop/크롤러'"
      ]
     },
     "execution_count": 26,
     "metadata": {},
     "output_type": "execute_result"
    }
   ],
   "source": [
    "pwd"
   ]
  },
  {
   "cell_type": "code",
   "execution_count": null,
   "metadata": {
    "id": "lDj94wBC-kvv"
   },
   "outputs": [],
   "source": []
  },
  {
   "cell_type": "code",
   "execution_count": null,
   "metadata": {
    "id": "G9C5ou9Q-kvv"
   },
   "outputs": [],
   "source": []
  }
 ],
 "metadata": {
  "colab": {
   "name": "네이버블로그(202105)_크롤러.ipynb",
   "provenance": []
  },
  "kernelspec": {
   "display_name": "Python 3 (ipykernel)",
   "language": "python",
   "name": "python3"
  },
  "language_info": {
   "codemirror_mode": {
    "name": "ipython",
    "version": 3
   },
   "file_extension": ".py",
   "mimetype": "text/x-python",
   "name": "python",
   "nbconvert_exporter": "python",
   "pygments_lexer": "ipython3",
   "version": "3.8.13"
  },
  "toc": {
   "base_numbering": 1,
   "nav_menu": {},
   "number_sections": false,
   "sideBar": true,
   "skip_h1_title": false,
   "title_cell": "Table of Contents",
   "title_sidebar": "Contents",
   "toc_cell": false,
   "toc_position": {},
   "toc_section_display": true,
   "toc_window_display": false
  },
  "varInspector": {
   "cols": {
    "lenName": 16,
    "lenType": 16,
    "lenVar": 40
   },
   "kernels_config": {
    "python": {
     "delete_cmd_postfix": "",
     "delete_cmd_prefix": "del ",
     "library": "var_list.py",
     "varRefreshCmd": "print(var_dic_list())"
    },
    "r": {
     "delete_cmd_postfix": ") ",
     "delete_cmd_prefix": "rm(",
     "library": "var_list.r",
     "varRefreshCmd": "cat(var_dic_list()) "
    }
   },
   "position": {
    "height": "600px",
    "left": "554.76px",
    "right": "20px",
    "top": "88px",
    "width": "424px"
   },
   "types_to_exclude": [
    "module",
    "function",
    "builtin_function_or_method",
    "instance",
    "_Feature"
   ],
   "window_display": false
  }
 },
 "nbformat": 4,
 "nbformat_minor": 1
}
