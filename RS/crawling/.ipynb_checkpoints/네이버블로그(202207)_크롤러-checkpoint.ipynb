{
 "cells": [
  {
   "cell_type": "code",
   "execution_count": 10,
   "metadata": {},
   "outputs": [],
   "source": [
    "# !pip install chromedriver-autoinstaller"
   ]
  },
  {
   "cell_type": "code",
   "execution_count": 1,
   "metadata": {},
   "outputs": [],
   "source": [
    "# !pip install selenium"
   ]
  },
  {
   "cell_type": "code",
   "execution_count": 2,
   "metadata": {
    "id": "855Mo76s-kvl"
   },
   "outputs": [],
   "source": [
    "# 네이버에서 검색어 입력받아 검색 한 후 블로그 메뉴를 선택하고\n",
    "# 오른쪽에 있는 검색옵션 버튼을 눌러서\n",
    "# 정렬 방식과 기간을 입력하기\n",
    "\n",
    "#Step 0. 필요한 모듈과 라이브러리를 로딩합니다.\n",
    "import sys # 시스템\n",
    "import os  # 시스템\n",
    "\n",
    "import pandas as pd  # 판다스 : 데이터분석 라이브러리\n",
    "import numpy as np   # 넘파이 : 숫자, 행렬 데이터 라이브러리\n",
    "\n",
    "import chromedriver_autoinstaller\n",
    "from bs4 import BeautifulSoup    # html 데이터를 전처리\n",
    "from selenium import webdriver   # 웹 브라우저 자동화\n",
    "import time    # 서버와 통신할 때 중간중간 시간 지연. 보통은 1초\n",
    "from tqdm import tqdm_notebook   # for문 돌릴 때 진행상황을 %게이지로 알려준다.\n",
    "\n",
    "# 워닝 무시\n",
    "import warnings\n",
    "warnings.filterwarnings('ignore')"
   ]
  },
  {
   "cell_type": "code",
   "execution_count": 3,
   "metadata": {
    "id": "n8Lxk6vh-kvn",
    "outputId": "69ae7a9d-8942-49d3-f943-63eb1f8e7569"
   },
   "outputs": [
    {
     "name": "stdout",
     "output_type": "stream",
     "text": [
      "Python 3.8.13\r\n"
     ]
    }
   ],
   "source": [
    "# python 버전 확인\n",
    "!python --version"
   ]
  },
  {
   "cell_type": "code",
   "execution_count": 4,
   "metadata": {
    "id": "Vn8wKGA8-kvo",
    "outputId": "da4b2b84-4fd6-4730-fc49-8b24a87623d4"
   },
   "outputs": [
    {
     "data": {
      "text/plain": [
       "'1.4.3'"
      ]
     },
     "execution_count": 4,
     "metadata": {},
     "output_type": "execute_result"
    }
   ],
   "source": [
    "# 판다스 버전 확인\n",
    "pd.__version__"
   ]
  },
  {
   "cell_type": "code",
   "execution_count": 5,
   "metadata": {},
   "outputs": [
    {
     "data": {
      "text/plain": [
       "'4.0.0'"
      ]
     },
     "execution_count": 5,
     "metadata": {},
     "output_type": "execute_result"
    }
   ],
   "source": [
    "webdriver.__version__"
   ]
  },
  {
   "cell_type": "markdown",
   "metadata": {},
   "source": [
    "크롤링\n",
    "\n",
    "셀레늄 : 무적 크롤러\n",
    " - 브라우저 자동화 도구\n",
    " \n",
    "request, bs4"
   ]
  },
  {
   "cell_type": "code",
   "execution_count": 8,
   "metadata": {
    "id": "CNdy9c7U-kvo",
    "outputId": "38d4d3b7-0b1a-46a4-b2fc-6a4e2d79a399"
   },
   "outputs": [
    {
     "name": "stdout",
     "output_type": "stream",
     "text": [
      "1.크롤링할 키워드는 무엇입니까?: 홍대 맛집\n"
     ]
    }
   ],
   "source": [
    "# 검색어, 검색 기간 정의\n",
    "query_txt = input('1.크롤링할 키워드는 무엇입니까?: ')"
   ]
  },
  {
   "cell_type": "code",
   "execution_count": 9,
   "metadata": {},
   "outputs": [
    {
     "data": {
      "text/plain": [
       "'홍대 맛집'"
      ]
     },
     "execution_count": 9,
     "metadata": {},
     "output_type": "execute_result"
    }
   ],
   "source": [
    "query_txt # = \"홍대 맛집\""
   ]
  },
  {
   "cell_type": "markdown",
   "metadata": {
    "id": "MniuiSeb-kvp"
   },
   "source": [
    "# 1. 크롤링할 블로그 url 수집하기"
   ]
  },
  {
   "cell_type": "code",
   "execution_count": 10,
   "metadata": {
    "id": "Bqoa7llc-kvp",
    "outputId": "f084e7cc-ac2e-40ff-a65e-bd6a42bc279e"
   },
   "outputs": [
    {
     "data": {
      "text/plain": [
       "'/Users/krc/TIL/RS/crawling'"
      ]
     },
     "execution_count": 10,
     "metadata": {},
     "output_type": "execute_result"
    }
   ],
   "source": [
    "pwd"
   ]
  },
  {
   "cell_type": "code",
   "execution_count": 11,
   "metadata": {
    "code_folding": [],
    "colab": {
     "base_uri": "https://localhost:8080/",
     "height": 239
    },
    "executionInfo": {
     "elapsed": 5,
     "status": "error",
     "timestamp": 1622793307717,
     "user": {
      "displayName": "Hyeok Lee",
      "photoUrl": "",
      "userId": "09184002132621914803"
     },
     "user_tz": -540
    },
    "id": "buplEXzx-kvq",
    "outputId": "11751daa-2f59-4a1d-d6a7-ca9282d20c33"
   },
   "outputs": [],
   "source": [
    "options = webdriver.ChromeOptions()\n",
    "chrome_path = chromedriver_autoinstaller.install()\n",
    "driver = webdriver.Chrome(chrome_path, options=options)\n",
    "\n",
    "# 사이트 주소는 네이버\n",
    "driver.get('http://www.naver.com')\n",
    "time.sleep(2)  # 2초간 정지"
   ]
  },
  {
   "cell_type": "code",
   "execution_count": 12,
   "metadata": {
    "code_folding": [],
    "id": "uiwhXvob-kvq"
   },
   "outputs": [],
   "source": [
    "# Step 2. 네이버 검색창에 \"검색어\" 검색\n",
    "element = driver.find_element_by_id(\"query\")\n",
    "element.send_keys(query_txt)  # query_txt는 위에서 입력한 키워드\n",
    "element.submit()\n",
    "time.sleep(1)"
   ]
  },
  {
   "cell_type": "code",
   "execution_count": 13,
   "metadata": {
    "code_folding": [],
    "id": "uiwhXvob-kvq"
   },
   "outputs": [],
   "source": [
    "# 'VIEW' 클릭\n",
    "driver.find_element_by_link_text(\"VIEW\").click( )\n",
    "time.sleep(1)"
   ]
  },
  {
   "cell_type": "code",
   "execution_count": 14,
   "metadata": {
    "code_folding": [],
    "id": "uiwhXvob-kvq"
   },
   "outputs": [],
   "source": [
    "# '블로그' 클릭\n",
    "driver.find_element_by_link_text(\"블로그\").click( )\n",
    "time.sleep(1)\n",
    "\n",
    "# '옵션' 클릭\n",
    "driver.find_element_by_link_text(\"옵션\").click( )\n",
    "time.sleep(1)"
   ]
  },
  {
   "cell_type": "code",
   "execution_count": 15,
   "metadata": {
    "code_folding": [],
    "id": "X537FPoE-kvq",
    "outputId": "2e7df665-1fd7-4fd0-dcc9-65b6a12c7a6d"
   },
   "outputs": [
    {
     "name": "stdout",
     "output_type": "stream",
     "text": [
      "전체\n",
      "블로그\n",
      "카페\n",
      "관련도순\n",
      "최신순\n",
      "전체\n",
      "1시간\n",
      "1일\n",
      "1주\n",
      "1개월\n",
      "3개월\n",
      "6개월\n",
      "1년\n",
      "직접입력옵션펼치기\n"
     ]
    }
   ],
   "source": [
    "# 검색옵션 확인\n",
    "item_li = driver.find_elements_by_css_selector('.option .txt')\n",
    "\n",
    "for i in range(0, len(item_li)):\n",
    "    print(item_li[i].text)"
   ]
  },
  {
   "cell_type": "code",
   "execution_count": 16,
   "metadata": {
    "id": "YNdHtrki-kvr",
    "outputId": "e7fde35f-3b2b-4cde-a4f6-006975ff383c",
    "scrolled": true
   },
   "outputs": [
    {
     "name": "stdout",
     "output_type": "stream",
     "text": [
      "3개월\n"
     ]
    }
   ],
   "source": [
    "# 검색기간 '3개월' 클릭\n",
    "print(item_li[10].text)\n",
    "\n",
    "item_li[10].click()"
   ]
  },
  {
   "cell_type": "code",
   "execution_count": 17,
   "metadata": {
    "id": "OyFhrsrA-kvr"
   },
   "outputs": [],
   "source": [
    "# 스크롤 다운\n",
    "# driver.execute_script(\"window.scrollTo(0, 500)\")\n",
    "# time.sleep(2)\n",
    "\n",
    "# 스크롤을 밑으로 내려주는 함수\n",
    "def scroll_down(driver):\n",
    "    driver.execute_script(\"window.scrollTo(0, 19431049)\")\n",
    "    time.sleep(1)\n",
    "\n",
    "# n: 스크롤할 횟수 설정\n",
    "n = 3\n",
    "i = 0\n",
    "while i < n: # 이 조건이 만족되는 동안 반복 실행\n",
    "    scroll_down(driver) # 스크롤 다운\n",
    "    i = i+1"
   ]
  },
  {
   "cell_type": "code",
   "execution_count": 18,
   "metadata": {
    "id": "35cdGv2g-kvr",
    "outputId": "b04e2570-7061-4bc9-fdaf-d0862d6d2e7e"
   },
   "outputs": [
    {
     "data": {
      "text/plain": [
       "<selenium.webdriver.remote.webelement.WebElement (session=\"b5e2618020c1434090cd64972253bd0e\", element=\"3ed6c75d-ce55-44d4-aa99-02d42abb1788\")>"
      ]
     },
     "execution_count": 18,
     "metadata": {},
     "output_type": "execute_result"
    }
   ],
   "source": [
    "# 블로그 글 url들 수집\n",
    "url_list = []\n",
    "title_list = []\n",
    "\n",
    "# URL_raw 크롤링 시작\n",
    "articles = \".api_txt_lines.total_tit\"\n",
    "article_raw = driver.find_elements_by_css_selector(articles)\n",
    "article_raw[0]"
   ]
  },
  {
   "cell_type": "code",
   "execution_count": 19,
   "metadata": {
    "id": "lS4BWdhY-kvr",
    "outputId": "325f828f-c25d-46e4-89d2-df3cdf39dc3d"
   },
   "outputs": [
    {
     "data": {
      "text/plain": [
       "'https://geniusjw.com/2625'"
      ]
     },
     "execution_count": 19,
     "metadata": {},
     "output_type": "execute_result"
    }
   ],
   "source": [
    "# 첫번째 글의 url 확인\n",
    "article_raw[0].get_attribute('href')"
   ]
  },
  {
   "cell_type": "code",
   "execution_count": 20,
   "metadata": {
    "id": "c4oJ0A0S-kvs",
    "outputId": "bd3015c2-0b1e-472e-f2a5-1df89f81cf67",
    "scrolled": true
   },
   "outputs": [
    {
     "name": "stdout",
     "output_type": "stream",
     "text": [
      "연남동 미쁘동 홍대 연어덮밥 맛집\n",
      "합정 홍대 라멘맛집 오레노라멘 미쉐린2022 선정 (주차팁)\n",
      "홍대 합정 맛집 포36거리 월남쌈 쌀국수 세트 추천!\n",
      "홍대 씨부엉 통문어가 들어간 중화풍 즉석떡볶이 맛집\n",
      "홍대 고기집 합정 맛집 고기꾼김춘배 친절하고 맛있음\n",
      "ㅣ홍대맛집ㅣ서교동맛집 '스테이크 슈퍼' (+어린이메뉴)\n",
      "[홍대 맛집] 홍대의 일본식 야끼카레 맛집, 비스트로 큐슈\n",
      "홍대 맛집 '프리모바치오바치' 빠네 파스타 맛집 (+꿀팁)\n",
      "[홍대맛집/키움초밥]맛과 가성비 다 잡은캐쥬얼초밥집.데이트...\n",
      "맛집 [고구텐 홍대점] 항상 사람들로 가득한 홍대 맛집\n",
      "홍대카페 밀크티 맛집 로스터리카페 리밀커피&밀리\n",
      "서울 홍대맛집 막걸리와 전이 가득한 산울림1992\n",
      "홍대 수제버거 맛집! 인생 버거! 식스티즈\n",
      "홍대 맛집 연남 고기집 고기꾼김춘배 소돼지 2인 세트\n",
      "홍대 맛집 더핏짜 본점 빅사이즈 조각 피자\n",
      "홍대 화덕피자 맛집 로쏘1924 서교동맛집 추천\n",
      "홍대 맛집 내돈내산 홍대 점심 소소하지만 특별해\n",
      "홍대 푸하하크림빵 동교동 크림가득 소금크림빵 맛집\n",
      "홍대 일식 맛집 가메스시, 코스 요리 가성비 좋아요.\n",
      "홍대입구역 맛집 추천 오이지 마시떵,,\n",
      "홍대 한우 홍대 소고기 맛집 일편등심\n",
      "홍대 스테이크 맛집 점심 메뉴 고르기 어렵다면 '남산호랭이'!\n",
      "홍대 맛집 할랄푸드 전문점 할랄가이즈 홍대점\n",
      "홍대 카레 맛집 [아비꼬 홍대EXIT점] 밥과 카레가 무한리필\n",
      "홍대 만동제과 꼭 가야할 연남동 빵 맛집\n",
      "홍대 합정 맛집 비스트로큐슈 | 스프카레 우동 맛집\n",
      "할랄가이즈 홍대 : 혼밥하기 좋은 홍대역 맛집\n",
      "홍대 양꼬치 맛집 천일양꼬치엔 맛없는 것이 없어요\n",
      "홍대 소고기 맛집 일편등심 홍대 점심 메뉴로도 나이스\n",
      "홍대맛집, 연남동초밥 김뿌라 연남본점\n",
      "홍대역 양갈비 맛집 천일양꼬치\n",
      "서울 홍대맛집 삼겹살이 맛있는 볼빨간꽃돼지\n",
      "[홍대맛집] 베트남 느낌의 홍대쌀국수 맛집 포옹남 홍대\n",
      "홍대맛집 [할랄가이즈] :: 뉴욕에서 건너온 할랄푸드 전문점\n",
      "홍대맛집 미도인 홍대점에서 마제소바와 곱창큐브덮밥 먹었다~\n",
      "[합정홍대맛집] 멕시코식당 feat. 치미창가 부리또보울\n",
      "홍대맛집 | 연하동 | 연남동에 위치한 일식 웨이팅맛집\n",
      "홍대 한식 오마카세 한식탁 : 홍대입구역 맛집 데이트\n",
      "[홍대입구 맛집] 토라슌 - 깔끔한 야끼니꾸 숯불 화로구이...\n",
      "홍대맛집 ‘소코아’ / 카이막을 맛볼 수 있는 곳...\n",
      "홍대/상수 즉석떡볶이 맛집, 분위기 좋은 심효진떡볶이\n",
      "홍대 맛집 베스트10 홍대 규카츠 맛집 카츠미\n",
      "홍대전골 맛집 [순만골] 신상 순대만두 전골집을 다녀왔습니다...\n",
      "홍대 분위기 맛집, 우아하게 떡갈비와 등심 정식 한상\n",
      "홍대중식당 홍대맛집 이가산시도삭면 우육면 샤오롱바오\n",
      "홍대맛집 탄탄면공방 생활의달인 집에서 저녁 맛있어~\n",
      "[맛집해체 343번째] 홍대입구 합정 마포 맛집 '더피자보이즈...\n",
      "홍대 맛집 합정 카페 리밀커피&밀리\n",
      "홍대 막창 맛집 하면 떠오르는 눈꽃막창 맛집 배때기 곱창...\n",
      "[홍대 맛집] 수제양갱전문점《금옥당》빙수빙수 팥빙수\n",
      "홍대 맛집 합정 고기집 고기꾼김춘배 단골각\n",
      "[홍대입구 맛집] 옛집 - 시골 할머니댁 놀러온 것 같은...\n",
      "서울 홍대 맛집 가성비 터지는 초밥 여우골 서교\n",
      "홍대 맛집 여러가지 피자를 한번에 즐기는 백스트리트피자\n",
      "한결같이 맛있는 홍대 중국집 맛집 진진가연\n",
      "홍대역맛집 [포옹남] 진짜 베트남 다녀온 느낌임 데이트하기...\n",
      "홍대 맛집 합정 고기집 찐맛집, 고기꾼김춘배 홍대본점\n",
      "합정맛집 홍대쌀국수 월남쌈을 파는 데이트 포토존 맛집...\n",
      "<맛집로드 468> 서울/홍대/서교동 - 윤서울\n",
      "홍대 맛집 육몽 갔다왔어요\n",
      "홍대 맛집 :: 고기꾼김춘배 홍대본점, 맛있는 소고기...\n",
      "[홍대 맛집] 키노키친 안가면 유죄, 근데 유명해지진마\n",
      "홍대 맛집 홍대 할랄푸드 할랄가이즈 홍대혼밥 추천\n",
      "[홍대 맛집] 진화쿵푸마라탕, N번차 방문 마라맛집\n",
      "홍대맛집 | 풀리너마이트 | 수제버거 푸짐하고 맛있게 잘 하는 곳\n",
      "홍대 밥집, 정갈한 한식 닭볶음탕 맛집 '수라간'\n",
      "홍대 파스타 맛집 합정역 홀로키친\n",
      "홍대 떡볶이 분식 맛집 우리할매떡볶이 연남점 옛날 그 맛\n",
      "홍대입구역 맛집, 홍대입구 우동집; 가미우동\n",
      "홍대 피자 맛집, 파스타도 맛있는 피맥하기 좋은 곳\n",
      "홍대 맛집 : 갓 구운 튀김맛집 홍대 삭\n",
      "연남동맛집 쌀국수 시키면 반세오 무료! 포가레 홍대 맛집 추천\n",
      "코만스 홍대맛집 티라미수 케이크 4종 선물세트\n",
      "오아시스 마켓, 치즈돈가스 홍대 맛집 부엉이돈가스\n",
      "[연남동맛집/홍입맛집] 쫄깃쫄깃한 면과 가심비 좋은 홍대...\n",
      "이색 맛집 홍대 맛집 할랄푸드 맛집 - 할랄가이즈 홍대점\n",
      "[홍대 맛집] 또보겠지떡볶이집, 맛있으니까 또 가야지\n",
      "연남동 맛집 백스트리트피자 홍대 피자\n",
      "홍대 맛집 :: 하이디라오 홍대점\n",
      "홍대/연남동, 술집추천 꼬치맛집 \"락희돈\"\n",
      "즐기고 싶다면, 연남동 돈까스 / 홍대 돈까스 맛집 '카츠만개'\n",
      "[홍대 맛집] 길거리 간식 깡패 포차 떡볶이 ❤️\n",
      "홍대 맛집 추천, 홍대 수제버거 맛집, 홍대 인생수제버거...\n",
      "[홍대 맛집] 이탈리안 그랜드마스터가 굽는 화덕피자\n",
      "홍대맛집 최애 또보겠지 떡볶이집 스마일보이점\n",
      "홍대입구맛집 '이가산시도삭면' 인생 첫 도삭면 후기\n",
      "홍대 맛집] 젤라또민구 / 한번에 4가지맛 먹기! 술도 있다고?!\n",
      "홍대맛집 제대로된 이태리 화덕피자 <로쏘1924>\n",
      "홍대데이트 장소 상수맛집 이응이응이응이응\n",
      "홍대 떡볶이 맛집 '또보겠지 붕붕허니비점' 즉떡+버갈\n",
      "홍대맛집 '커피탐이나' 합정카페 조용한 로스터리카페\n",
      "홍대 가성비 좋은 소고기 맛집. 황소랑\n",
      "** 홍대 초밥맛집 '여우골' 세트메뉴 괘안네...\n",
      "[홍대입구역] - 카츠동맛집, 홍대맛집 :: 히메시야 서교점\n",
      "홍대 맛집 찜닭 : 옹다래찜닭 순살 반마리 리뷰\n",
      "[홍대맛집/연남맛집] 온미동 연남\n",
      "연남동 맛집 홍대 피자, 백스트리트피자 연남점\n",
      "[홍대 맛집] 합정 맛집 홍대 고기집 고기꾼김춘배 홍대본점 후기\n",
      "[호랭맛집] 홍대룸술집 레트로감성 뿜뿜 이색룸술집 노래방....\n",
      "홍대데이트 추천, 스테이크 맛집 디마로네 와인바\n",
      "홍대 가볼만한곳 경의선책거리 돈까스 맛집 등\n",
      "홍대 맛집 연남물갈비 후기! (물갈비, 볶음밥)\n",
      "[홍대 맛집/술집] 낮술하기 좋은 브런치 맛집 겸 와인바, 루바브\n",
      "[망원동 딤섬 맛집] 홍대 합정 딤성 찐 맛집 발견 \"만두란\"\n",
      "[홍대맛집] 홍대삼겹살 맛집 볼빨간꽃돼지\n",
      "홍대타코 : 홍대맛집추천, 나성타코\n",
      "서울 홍대맛집, 연남동이자카야 우와 연남점\n",
      "홍대맛집 무쇠김치삼겹\n",
      "[서울/홍대 맛집] 비프웰링턴이 맛난 연남동 양식 맛집 '수부니흐'\n",
      "[홍대/맛집/커리] 인도음식이 맛있는 '아마 홍대점' 후기!\n",
      "홍대 피자집 [제임스 시카고피자 홍대본점] 시카고 피자맛집...\n",
      "홍대맛집 고기꾼김춘배 홍대 고기집\n",
      "홍대 족발 찐맛집 탐탐오향족발 진짜 입에서 녹는 부드러움...\n",
      "홍대 맛집 키움초밥 종류도 다양하고 맛도 훌륭!\n",
      "홍대 합정 맛집 카시와 : 분위기 좋은 오마카세 코스 ♥\n",
      "[ 합정연어 ] 홍대회무한리필 맛집!! 연어촌\n",
      "120 리코gr2(홍대 맛집 연남동 버거 니꾸킹버거)\n",
      "홍대 길거리 떡볶이 터줏대감 Feat. 홍대 떡볶이 / 홍대 맛집\n",
      "홍대 맛집, 혼밥 추천 & 이색적인 맛 \"할랄가이즈\"\n",
      "홍대도삭면 제대로 하는 홍대맛집 이가산시도삭면\n",
      "\n",
      "url갯수:  120\n",
      "title갯수:  120\n"
     ]
    }
   ],
   "source": [
    "# 크롤링한 셀레늄 덩어리(객체)인 article_raw에서 get_attribute 함수를 이용해서 \n",
    "# url 추출(href 속성값만 뽑아내기)하기\n",
    "for article in article_raw:\n",
    "    url = article.get_attribute('href')\n",
    "    url_list.append(url)\n",
    "time.sleep(1)\n",
    "\n",
    "# 제목 크롤링 시작\n",
    "for article in article_raw:\n",
    "    title = article.text\n",
    "    title_list.append(title)\n",
    "\n",
    "    print(title)\n",
    "\n",
    "print(\"\")\n",
    "print('url갯수: ', len(url_list))\n",
    "print('title갯수: ', len(title_list))"
   ]
  },
  {
   "cell_type": "code",
   "execution_count": 21,
   "metadata": {
    "id": "R2yjlm_5-kvs",
    "outputId": "efd2bab6-67e5-4d04-d826-4f878de28658"
   },
   "outputs": [
    {
     "data": {
      "text/plain": [
       "['https://geniusjw.com/2625',\n",
       " 'https://blog.naver.com/love_od/222778344582',\n",
       " 'https://blog.naver.com/won9vely2134/222810446362',\n",
       " 'https://blog.naver.com/gaogaiga2000/222804167323',\n",
       " 'https://blog.naver.com/sensenlebo/222794729462',\n",
       " 'https://blog.naver.com/xxchocoxx/222804307194',\n",
       " 'https://blog.naver.com/dlwodus92/222769193218',\n",
       " 'https://blog.naver.com/tldrld93/222727405277',\n",
       " 'https://blog.naver.com/mjinchul1/222804770911',\n",
       " 'https://blog.naver.com/ops1200/222796208714',\n",
       " 'https://blog.naver.com/wolfin/222805479061',\n",
       " 'https://blog.naver.com/seul_gei/222801836543',\n",
       " 'https://blog.naver.com/raccoon26/222807979518',\n",
       " 'https://blog.naver.com/angelhaniel/222810406666',\n",
       " 'https://blog.naver.com/dydals111/222760956843',\n",
       " 'https://blog.naver.com/ghdtnwl2003/222807883989',\n",
       " 'https://blog.naver.com/dlqlql1/222796656369',\n",
       " 'https://geniusjw.com/2622',\n",
       " 'https://blog.naver.com/pyuna2004/222788264845',\n",
       " 'https://blog.naver.com/insunoo/222766636471',\n",
       " 'https://blog.naver.com/ahs780324/222813138835',\n",
       " 'https://blog.naver.com/na_yull/222800931632',\n",
       " 'https://blog.naver.com/kagama007/222793234331',\n",
       " 'https://blog.naver.com/ops1200/222737730138',\n",
       " 'https://blog.naver.com/dldogml1/222792788415',\n",
       " 'https://blog.naver.com/o__onica/222722120528',\n",
       " 'https://blog.naver.com/jia706/222812484666',\n",
       " 'https://blog.naver.com/zephyr122059/222726607620',\n",
       " 'https://blog.naver.com/gene_k/222795332814',\n",
       " 'https://blog.naver.com/shasny/222814080676',\n",
       " 'https://blog.naver.com/cozy95/222726464686',\n",
       " 'https://blog.naver.com/seul_gei/222803064518',\n",
       " 'https://blog.naver.com/qls1021/222813646862',\n",
       " 'https://blog.naver.com/ha__nna/222728304196',\n",
       " 'https://blog.naver.com/didim_yeoul/222809691428',\n",
       " 'https://blog.naver.com/st0083/222755237929',\n",
       " 'https://blog.naver.com/likeday0819/222773121818',\n",
       " 'https://blog.naver.com/kmjhan91/222723234106',\n",
       " 'https://blog.naver.com/sielle83/222772608954',\n",
       " 'https://blog.naver.com/dnwjd109/222809217935',\n",
       " 'https://blog.naver.com/cchicer/222713933416',\n",
       " 'https://blog.naver.com/yeajin1479/222812754254',\n",
       " 'https://blog.naver.com/ops1200/222806255598',\n",
       " 'https://blog.naver.com/shasny/222724940847',\n",
       " 'https://blog.naver.com/jjubu0691/222799682732',\n",
       " 'https://blog.naver.com/attine/222783159525',\n",
       " 'https://blog.naver.com/sundaybloody/222771454488',\n",
       " 'https://blog.naver.com/sasabana/222769888781',\n",
       " 'https://blog.naver.com/kagama007/222798946286',\n",
       " 'https://blog.naver.com/magazines/222806964302',\n",
       " 'https://blog.naver.com/lyj0088/222807846041',\n",
       " 'https://blog.naver.com/sielle83/222745983889',\n",
       " 'https://blog.naver.com/pyuna2004/222774419152',\n",
       " 'https://blog.naver.com/jjy5290/222807666653',\n",
       " 'https://blog.naver.com/zephyr122059/222715875725',\n",
       " 'https://blog.naver.com/ops1200/222816108716',\n",
       " 'https://blog.naver.com/shasny/222780295424',\n",
       " 'https://blog.naver.com/smallwishy/222793481953',\n",
       " 'https://blog.naver.com/yuiwang3/222797906200',\n",
       " 'https://blog.naver.com/jelly_dear/222747688279',\n",
       " 'https://blog.naver.com/712gram/222810374825',\n",
       " 'https://blog.naver.com/dbswl8878/222758913994',\n",
       " 'https://blog.naver.com/kmy000403/222800628726',\n",
       " 'https://blog.naver.com/ekzmepqmf7/222755935981',\n",
       " 'https://blog.naver.com/likeday0819/222793847793',\n",
       " 'https://blog.naver.com/feel_good_j/222740260167',\n",
       " 'https://blog.naver.com/zephyr122059/222718811679',\n",
       " 'https://blog.naver.com/ckypyj/222807104393',\n",
       " 'https://blog.naver.com/sherinks/222809530721',\n",
       " 'https://blog.naver.com/laj7364/222800078456',\n",
       " 'https://blog.naver.com/heehyon911/222769862967',\n",
       " 'https://blog.naver.com/wkddbsk308/222811033378',\n",
       " 'https://blog.naver.com/jylhee0704/222806030561',\n",
       " 'https://blog.naver.com/mam0515/222717823611',\n",
       " 'https://blog.naver.com/ysh0835/222718235905',\n",
       " 'https://blog.naver.com/just0103/222779485503',\n",
       " 'https://blog.naver.com/ekzmepqmf7/222775130844',\n",
       " 'https://blog.naver.com/dlrhdmssla/222805869200',\n",
       " 'https://blog.naver.com/90_05_28/222801204562',\n",
       " 'https://blog.naver.com/tmakdlfcjs/222804933888',\n",
       " 'https://blog.naver.com/wjddk0124/222752940356',\n",
       " 'https://blog.naver.com/hyr0604/222813408559',\n",
       " 'https://blog.naver.com/just0103/222795302343',\n",
       " 'https://blog.naver.com/hyr0604/222810909790',\n",
       " 'https://blog.naver.com/psunhea1029/222785155511',\n",
       " 'https://blog.naver.com/feel_good_j/222744946736',\n",
       " 'https://blog.naver.com/sem0509/222813572485',\n",
       " 'https://blog.naver.com/hisbooks/222767097482',\n",
       " 'https://blog.naver.com/choicindy7/222770601864',\n",
       " 'https://blog.naver.com/tldrld93/222711953030',\n",
       " 'https://blog.naver.com/msunh/222792767256',\n",
       " 'https://blog.naver.com/homin622/222813111074',\n",
       " 'https://blog.naver.com/leekt1202/222726457829',\n",
       " 'https://blog.naver.com/jja0511/222812903860',\n",
       " 'https://blog.naver.com/sbsky1106/222809768359',\n",
       " 'https://blog.naver.com/yuinaru/222751335567',\n",
       " 'https://blog.naver.com/shasny/222778714387',\n",
       " 'https://blog.naver.com/wltjsk12/222785396301',\n",
       " 'https://blog.naver.com/holee250/222815248449',\n",
       " 'https://blog.naver.com/gftravel/222817183941',\n",
       " 'https://blog.naver.com/kyena200/222793433159',\n",
       " 'https://blog.naver.com/ehrqpdlql/222781747780',\n",
       " 'https://blog.naver.com/ljw5509/222797868497',\n",
       " 'https://blog.naver.com/toktok4336/222813811928',\n",
       " 'https://blog.naver.com/qls1021/222774012000',\n",
       " 'https://blog.naver.com/hi_angie/222808405698',\n",
       " 'https://blog.naver.com/wep17/222812673008',\n",
       " 'https://blog.naver.com/polishied/222702371951',\n",
       " 'https://blog.naver.com/dlsxo0921/222800859294',\n",
       " 'https://blog.naver.com/3gkwlsdl1/222785540927',\n",
       " 'https://blog.naver.com/ops1200/222799963190',\n",
       " 'https://blog.naver.com/dlrhdmssla/222802221015',\n",
       " 'https://blog.naver.com/sunghee3702/222757016974',\n",
       " 'https://blog.naver.com/sunjung0407/222767258228',\n",
       " 'https://blog.naver.com/fjqm2676/222803585258',\n",
       " 'https://blog.naver.com/jinjeee/222805759173',\n",
       " 'https://blog.naver.com/pique_niquer/222813668896',\n",
       " 'https://blog.naver.com/moreissuesthanvogue/222812261615',\n",
       " 'https://blog.naver.com/laj7364/222795366362',\n",
       " 'https://blog.naver.com/jejechu/222757283776']"
      ]
     },
     "execution_count": 21,
     "metadata": {},
     "output_type": "execute_result"
    }
   ],
   "source": [
    "# 수집된 url들 확인\n",
    "url_list"
   ]
  },
  {
   "cell_type": "code",
   "execution_count": 22,
   "metadata": {
    "id": "Q491yek4-kvs",
    "outputId": "b8d88911-275c-4f8d-bd89-0c3831d666c7"
   },
   "outputs": [
    {
     "data": {
      "text/plain": [
       "['연남동 미쁘동 홍대 연어덮밥 맛집',\n",
       " '합정 홍대 라멘맛집 오레노라멘 미쉐린2022 선정 (주차팁)',\n",
       " '홍대 합정 맛집 포36거리 월남쌈 쌀국수 세트 추천!',\n",
       " '홍대 씨부엉 통문어가 들어간 중화풍 즉석떡볶이 맛집',\n",
       " '홍대 고기집 합정 맛집 고기꾼김춘배 친절하고 맛있음',\n",
       " \"ㅣ홍대맛집ㅣ서교동맛집 '스테이크 슈퍼' (+어린이메뉴)\",\n",
       " '[홍대 맛집] 홍대의 일본식 야끼카레 맛집, 비스트로 큐슈',\n",
       " \"홍대 맛집 '프리모바치오바치' 빠네 파스타 맛집 (+꿀팁)\",\n",
       " '[홍대맛집/키움초밥]맛과 가성비 다 잡은캐쥬얼초밥집.데이트...',\n",
       " '맛집 [고구텐 홍대점] 항상 사람들로 가득한 홍대 맛집',\n",
       " '홍대카페 밀크티 맛집 로스터리카페 리밀커피&밀리',\n",
       " '서울 홍대맛집 막걸리와 전이 가득한 산울림1992',\n",
       " '홍대 수제버거 맛집! 인생 버거! 식스티즈',\n",
       " '홍대 맛집 연남 고기집 고기꾼김춘배 소돼지 2인 세트',\n",
       " '홍대 맛집 더핏짜 본점 빅사이즈 조각 피자',\n",
       " '홍대 화덕피자 맛집 로쏘1924 서교동맛집 추천',\n",
       " '홍대 맛집 내돈내산 홍대 점심 소소하지만 특별해',\n",
       " '홍대 푸하하크림빵 동교동 크림가득 소금크림빵 맛집',\n",
       " '홍대 일식 맛집 가메스시, 코스 요리 가성비 좋아요.',\n",
       " '홍대입구역 맛집 추천 오이지 마시떵,,',\n",
       " '홍대 한우 홍대 소고기 맛집 일편등심',\n",
       " \"홍대 스테이크 맛집 점심 메뉴 고르기 어렵다면 '남산호랭이'!\",\n",
       " '홍대 맛집 할랄푸드 전문점 할랄가이즈 홍대점',\n",
       " '홍대 카레 맛집 [아비꼬 홍대EXIT점] 밥과 카레가 무한리필',\n",
       " '홍대 만동제과 꼭 가야할 연남동 빵 맛집',\n",
       " '홍대 합정 맛집 비스트로큐슈 | 스프카레 우동 맛집',\n",
       " '할랄가이즈 홍대 : 혼밥하기 좋은 홍대역 맛집',\n",
       " '홍대 양꼬치 맛집 천일양꼬치엔 맛없는 것이 없어요',\n",
       " '홍대 소고기 맛집 일편등심 홍대 점심 메뉴로도 나이스',\n",
       " '홍대맛집, 연남동초밥 김뿌라 연남본점',\n",
       " '홍대역 양갈비 맛집 천일양꼬치',\n",
       " '서울 홍대맛집 삼겹살이 맛있는 볼빨간꽃돼지',\n",
       " '[홍대맛집] 베트남 느낌의 홍대쌀국수 맛집 포옹남 홍대',\n",
       " '홍대맛집 [할랄가이즈] :: 뉴욕에서 건너온 할랄푸드 전문점',\n",
       " '홍대맛집 미도인 홍대점에서 마제소바와 곱창큐브덮밥 먹었다~',\n",
       " '[합정홍대맛집] 멕시코식당 feat. 치미창가 부리또보울',\n",
       " '홍대맛집 | 연하동 | 연남동에 위치한 일식 웨이팅맛집',\n",
       " '홍대 한식 오마카세 한식탁 : 홍대입구역 맛집 데이트',\n",
       " '[홍대입구 맛집] 토라슌 - 깔끔한 야끼니꾸 숯불 화로구이...',\n",
       " '홍대맛집 ‘소코아’ / 카이막을 맛볼 수 있는 곳...',\n",
       " '홍대/상수 즉석떡볶이 맛집, 분위기 좋은 심효진떡볶이',\n",
       " '홍대 맛집 베스트10 홍대 규카츠 맛집 카츠미',\n",
       " '홍대전골 맛집 [순만골] 신상 순대만두 전골집을 다녀왔습니다...',\n",
       " '홍대 분위기 맛집, 우아하게 떡갈비와 등심 정식 한상',\n",
       " '홍대중식당 홍대맛집 이가산시도삭면 우육면 샤오롱바오',\n",
       " '홍대맛집 탄탄면공방 생활의달인 집에서 저녁 맛있어~',\n",
       " \"[맛집해체 343번째] 홍대입구 합정 마포 맛집 '더피자보이즈...\",\n",
       " '홍대 맛집 합정 카페 리밀커피&밀리',\n",
       " '홍대 막창 맛집 하면 떠오르는 눈꽃막창 맛집 배때기 곱창...',\n",
       " '[홍대 맛집] 수제양갱전문점《금옥당》빙수빙수 팥빙수',\n",
       " '홍대 맛집 합정 고기집 고기꾼김춘배 단골각',\n",
       " '[홍대입구 맛집] 옛집 - 시골 할머니댁 놀러온 것 같은...',\n",
       " '서울 홍대 맛집 가성비 터지는 초밥 여우골 서교',\n",
       " '홍대 맛집 여러가지 피자를 한번에 즐기는 백스트리트피자',\n",
       " '한결같이 맛있는 홍대 중국집 맛집 진진가연',\n",
       " '홍대역맛집 [포옹남] 진짜 베트남 다녀온 느낌임 데이트하기...',\n",
       " '홍대 맛집 합정 고기집 찐맛집, 고기꾼김춘배 홍대본점',\n",
       " '합정맛집 홍대쌀국수 월남쌈을 파는 데이트 포토존 맛집...',\n",
       " '<맛집로드 468> 서울/홍대/서교동 - 윤서울',\n",
       " '홍대 맛집 육몽 갔다왔어요',\n",
       " '홍대 맛집 :: 고기꾼김춘배 홍대본점, 맛있는 소고기...',\n",
       " '[홍대 맛집] 키노키친 안가면 유죄, 근데 유명해지진마',\n",
       " '홍대 맛집 홍대 할랄푸드 할랄가이즈 홍대혼밥 추천',\n",
       " '[홍대 맛집] 진화쿵푸마라탕, N번차 방문 마라맛집',\n",
       " '홍대맛집 | 풀리너마이트 | 수제버거 푸짐하고 맛있게 잘 하는 곳',\n",
       " \"홍대 밥집, 정갈한 한식 닭볶음탕 맛집 '수라간'\",\n",
       " '홍대 파스타 맛집 합정역 홀로키친',\n",
       " '홍대 떡볶이 분식 맛집 우리할매떡볶이 연남점 옛날 그 맛',\n",
       " '홍대입구역 맛집, 홍대입구 우동집; 가미우동',\n",
       " '홍대 피자 맛집, 파스타도 맛있는 피맥하기 좋은 곳',\n",
       " '홍대 맛집 : 갓 구운 튀김맛집 홍대 삭',\n",
       " '연남동맛집 쌀국수 시키면 반세오 무료! 포가레 홍대 맛집 추천',\n",
       " '코만스 홍대맛집 티라미수 케이크 4종 선물세트',\n",
       " '오아시스 마켓, 치즈돈가스 홍대 맛집 부엉이돈가스',\n",
       " '[연남동맛집/홍입맛집] 쫄깃쫄깃한 면과 가심비 좋은 홍대...',\n",
       " '이색 맛집 홍대 맛집 할랄푸드 맛집 - 할랄가이즈 홍대점',\n",
       " '[홍대 맛집] 또보겠지떡볶이집, 맛있으니까 또 가야지',\n",
       " '연남동 맛집 백스트리트피자 홍대 피자',\n",
       " '홍대 맛집 :: 하이디라오 홍대점',\n",
       " '홍대/연남동, 술집추천 꼬치맛집 \"락희돈\"',\n",
       " \"즐기고 싶다면, 연남동 돈까스 / 홍대 돈까스 맛집 '카츠만개'\",\n",
       " '[홍대 맛집] 길거리 간식 깡패 포차 떡볶이 ❤️',\n",
       " '홍대 맛집 추천, 홍대 수제버거 맛집, 홍대 인생수제버거...',\n",
       " '[홍대 맛집] 이탈리안 그랜드마스터가 굽는 화덕피자',\n",
       " '홍대맛집 최애 또보겠지 떡볶이집 스마일보이점',\n",
       " \"홍대입구맛집 '이가산시도삭면' 인생 첫 도삭면 후기\",\n",
       " '홍대 맛집] 젤라또민구 / 한번에 4가지맛 먹기! 술도 있다고?!',\n",
       " '홍대맛집 제대로된 이태리 화덕피자 <로쏘1924>',\n",
       " '홍대데이트 장소 상수맛집 이응이응이응이응',\n",
       " \"홍대 떡볶이 맛집 '또보겠지 붕붕허니비점' 즉떡+버갈\",\n",
       " \"홍대맛집 '커피탐이나' 합정카페 조용한 로스터리카페\",\n",
       " '홍대 가성비 좋은 소고기 맛집. 황소랑',\n",
       " \"** 홍대 초밥맛집 '여우골' 세트메뉴 괘안네...\",\n",
       " '[홍대입구역] - 카츠동맛집, 홍대맛집 :: 히메시야 서교점',\n",
       " '홍대 맛집 찜닭 : 옹다래찜닭 순살 반마리 리뷰',\n",
       " '[홍대맛집/연남맛집] 온미동 연남',\n",
       " '연남동 맛집 홍대 피자, 백스트리트피자 연남점',\n",
       " '[홍대 맛집] 합정 맛집 홍대 고기집 고기꾼김춘배 홍대본점 후기',\n",
       " '[호랭맛집] 홍대룸술집 레트로감성 뿜뿜 이색룸술집 노래방....',\n",
       " '홍대데이트 추천, 스테이크 맛집 디마로네 와인바',\n",
       " '홍대 가볼만한곳 경의선책거리 돈까스 맛집 등',\n",
       " '홍대 맛집 연남물갈비 후기! (물갈비, 볶음밥)',\n",
       " '[홍대 맛집/술집] 낮술하기 좋은 브런치 맛집 겸 와인바, 루바브',\n",
       " '[망원동 딤섬 맛집] 홍대 합정 딤성 찐 맛집 발견 \"만두란\"',\n",
       " '[홍대맛집] 홍대삼겹살 맛집 볼빨간꽃돼지',\n",
       " '홍대타코 : 홍대맛집추천, 나성타코',\n",
       " '서울 홍대맛집, 연남동이자카야 우와 연남점',\n",
       " '홍대맛집 무쇠김치삼겹',\n",
       " \"[서울/홍대 맛집] 비프웰링턴이 맛난 연남동 양식 맛집 '수부니흐'\",\n",
       " \"[홍대/맛집/커리] 인도음식이 맛있는 '아마 홍대점' 후기!\",\n",
       " '홍대 피자집 [제임스 시카고피자 홍대본점] 시카고 피자맛집...',\n",
       " '홍대맛집 고기꾼김춘배 홍대 고기집',\n",
       " '홍대 족발 찐맛집 탐탐오향족발 진짜 입에서 녹는 부드러움...',\n",
       " '홍대 맛집 키움초밥 종류도 다양하고 맛도 훌륭!',\n",
       " '홍대 합정 맛집 카시와 : 분위기 좋은 오마카세 코스 ♥',\n",
       " '[ 합정연어 ] 홍대회무한리필 맛집!! 연어촌',\n",
       " '120 리코gr2(홍대 맛집 연남동 버거 니꾸킹버거)',\n",
       " '홍대 길거리 떡볶이 터줏대감 Feat. 홍대 떡볶이 / 홍대 맛집',\n",
       " '홍대 맛집, 혼밥 추천 & 이색적인 맛 \"할랄가이즈\"',\n",
       " '홍대도삭면 제대로 하는 홍대맛집 이가산시도삭면']"
      ]
     },
     "execution_count": 22,
     "metadata": {},
     "output_type": "execute_result"
    }
   ],
   "source": [
    "# 수집된 블로그 제목 확인\n",
    "title_list"
   ]
  },
  {
   "cell_type": "code",
   "execution_count": 23,
   "metadata": {
    "id": "MvgyX_pk-kvt",
    "outputId": "7749cfef-5aa7-45f6-db8a-e94b444998d8",
    "scrolled": false
   },
   "outputs": [
    {
     "data": {
      "text/html": [
       "<div>\n",
       "<style scoped>\n",
       "    .dataframe tbody tr th:only-of-type {\n",
       "        vertical-align: middle;\n",
       "    }\n",
       "\n",
       "    .dataframe tbody tr th {\n",
       "        vertical-align: top;\n",
       "    }\n",
       "\n",
       "    .dataframe thead th {\n",
       "        text-align: right;\n",
       "    }\n",
       "</style>\n",
       "<table border=\"1\" class=\"dataframe\">\n",
       "  <thead>\n",
       "    <tr style=\"text-align: right;\">\n",
       "      <th></th>\n",
       "      <th>url</th>\n",
       "      <th>title</th>\n",
       "    </tr>\n",
       "  </thead>\n",
       "  <tbody>\n",
       "    <tr>\n",
       "      <th>0</th>\n",
       "      <td>https://geniusjw.com/2625</td>\n",
       "      <td>연남동 미쁘동 홍대 연어덮밥 맛집</td>\n",
       "    </tr>\n",
       "    <tr>\n",
       "      <th>1</th>\n",
       "      <td>https://blog.naver.com/love_od/222778344582</td>\n",
       "      <td>합정 홍대 라멘맛집 오레노라멘 미쉐린2022 선정 (주차팁)</td>\n",
       "    </tr>\n",
       "    <tr>\n",
       "      <th>2</th>\n",
       "      <td>https://blog.naver.com/won9vely2134/222810446362</td>\n",
       "      <td>홍대 합정 맛집 포36거리 월남쌈 쌀국수 세트 추천!</td>\n",
       "    </tr>\n",
       "    <tr>\n",
       "      <th>3</th>\n",
       "      <td>https://blog.naver.com/gaogaiga2000/222804167323</td>\n",
       "      <td>홍대 씨부엉 통문어가 들어간 중화풍 즉석떡볶이 맛집</td>\n",
       "    </tr>\n",
       "    <tr>\n",
       "      <th>4</th>\n",
       "      <td>https://blog.naver.com/sensenlebo/222794729462</td>\n",
       "      <td>홍대 고기집 합정 맛집 고기꾼김춘배 친절하고 맛있음</td>\n",
       "    </tr>\n",
       "    <tr>\n",
       "      <th>...</th>\n",
       "      <td>...</td>\n",
       "      <td>...</td>\n",
       "    </tr>\n",
       "    <tr>\n",
       "      <th>115</th>\n",
       "      <td>https://blog.naver.com/jinjeee/222805759173</td>\n",
       "      <td>[ 합정연어 ] 홍대회무한리필 맛집!! 연어촌</td>\n",
       "    </tr>\n",
       "    <tr>\n",
       "      <th>116</th>\n",
       "      <td>https://blog.naver.com/pique_niquer/222813668896</td>\n",
       "      <td>120 리코gr2(홍대 맛집 연남동 버거 니꾸킹버거)</td>\n",
       "    </tr>\n",
       "    <tr>\n",
       "      <th>117</th>\n",
       "      <td>https://blog.naver.com/moreissuesthanvogue/222...</td>\n",
       "      <td>홍대 길거리 떡볶이 터줏대감 Feat. 홍대 떡볶이 / 홍대 맛집</td>\n",
       "    </tr>\n",
       "    <tr>\n",
       "      <th>118</th>\n",
       "      <td>https://blog.naver.com/laj7364/222795366362</td>\n",
       "      <td>홍대 맛집, 혼밥 추천 &amp; 이색적인 맛 \"할랄가이즈\"</td>\n",
       "    </tr>\n",
       "    <tr>\n",
       "      <th>119</th>\n",
       "      <td>https://blog.naver.com/jejechu/222757283776</td>\n",
       "      <td>홍대도삭면 제대로 하는 홍대맛집 이가산시도삭면</td>\n",
       "    </tr>\n",
       "  </tbody>\n",
       "</table>\n",
       "<p>120 rows × 2 columns</p>\n",
       "</div>"
      ],
      "text/plain": [
       "                                                   url  \\\n",
       "0                            https://geniusjw.com/2625   \n",
       "1          https://blog.naver.com/love_od/222778344582   \n",
       "2     https://blog.naver.com/won9vely2134/222810446362   \n",
       "3     https://blog.naver.com/gaogaiga2000/222804167323   \n",
       "4       https://blog.naver.com/sensenlebo/222794729462   \n",
       "..                                                 ...   \n",
       "115        https://blog.naver.com/jinjeee/222805759173   \n",
       "116   https://blog.naver.com/pique_niquer/222813668896   \n",
       "117  https://blog.naver.com/moreissuesthanvogue/222...   \n",
       "118        https://blog.naver.com/laj7364/222795366362   \n",
       "119        https://blog.naver.com/jejechu/222757283776   \n",
       "\n",
       "                                    title  \n",
       "0                      연남동 미쁘동 홍대 연어덮밥 맛집  \n",
       "1       합정 홍대 라멘맛집 오레노라멘 미쉐린2022 선정 (주차팁)  \n",
       "2           홍대 합정 맛집 포36거리 월남쌈 쌀국수 세트 추천!  \n",
       "3            홍대 씨부엉 통문어가 들어간 중화풍 즉석떡볶이 맛집  \n",
       "4            홍대 고기집 합정 맛집 고기꾼김춘배 친절하고 맛있음  \n",
       "..                                    ...  \n",
       "115             [ 합정연어 ] 홍대회무한리필 맛집!! 연어촌  \n",
       "116         120 리코gr2(홍대 맛집 연남동 버거 니꾸킹버거)  \n",
       "117  홍대 길거리 떡볶이 터줏대감 Feat. 홍대 떡볶이 / 홍대 맛집  \n",
       "118         홍대 맛집, 혼밥 추천 & 이색적인 맛 \"할랄가이즈\"  \n",
       "119             홍대도삭면 제대로 하는 홍대맛집 이가산시도삭면  \n",
       "\n",
       "[120 rows x 2 columns]"
      ]
     },
     "execution_count": 23,
     "metadata": {},
     "output_type": "execute_result"
    }
   ],
   "source": [
    "# 수집된 url_list, title_list로 판다스 데이터프레임 만들기\n",
    "df = pd.DataFrame({'url':url_list, 'title':title_list})\n",
    "df"
   ]
  },
  {
   "cell_type": "code",
   "execution_count": 24,
   "metadata": {
    "id": "0gl5A-pW-kvt",
    "outputId": "a559e994-03d4-4012-87d8-13ff86500cd9"
   },
   "outputs": [
    {
     "data": {
      "text/plain": [
       "'/Users/krc/TIL/RS/crawling'"
      ]
     },
     "execution_count": 24,
     "metadata": {},
     "output_type": "execute_result"
    }
   ],
   "source": [
    "pwd"
   ]
  },
  {
   "cell_type": "code",
   "execution_count": 25,
   "metadata": {
    "id": "utM15Eos-kvt"
   },
   "outputs": [],
   "source": [
    "# 저장하기\n",
    "df.to_csv(\"blog_url.csv\", encoding='utf-8-sig')\n",
    "# df.to_csv(\"blog_url.csv\", encoding='utf-8-sig')"
   ]
  },
  {
   "cell_type": "markdown",
   "metadata": {
    "id": "hXNfrK-L-kvt"
   },
   "source": [
    "# 2. 블로그 내용 크롤링하기"
   ]
  },
  {
   "cell_type": "code",
   "execution_count": 26,
   "metadata": {
    "id": "wueBlU75-kvt"
   },
   "outputs": [],
   "source": [
    "import sys\n",
    "import os\n",
    "import pandas as pd\n",
    "import numpy as np"
   ]
  },
  {
   "cell_type": "code",
   "execution_count": 27,
   "metadata": {
    "id": "nRD3qDF5-kvt",
    "outputId": "9630a68d-e501-4865-eaa2-3112a51d78ab",
    "scrolled": true
   },
   "outputs": [
    {
     "name": "stdout",
     "output_type": "stream",
     "text": [
      "120\n"
     ]
    },
    {
     "data": {
      "text/html": [
       "<div>\n",
       "<style scoped>\n",
       "    .dataframe tbody tr th:only-of-type {\n",
       "        vertical-align: middle;\n",
       "    }\n",
       "\n",
       "    .dataframe tbody tr th {\n",
       "        vertical-align: top;\n",
       "    }\n",
       "\n",
       "    .dataframe thead th {\n",
       "        text-align: right;\n",
       "    }\n",
       "</style>\n",
       "<table border=\"1\" class=\"dataframe\">\n",
       "  <thead>\n",
       "    <tr style=\"text-align: right;\">\n",
       "      <th></th>\n",
       "      <th>url</th>\n",
       "      <th>title</th>\n",
       "    </tr>\n",
       "  </thead>\n",
       "  <tbody>\n",
       "    <tr>\n",
       "      <th>0</th>\n",
       "      <td>https://geniusjw.com/2625</td>\n",
       "      <td>연남동 미쁘동 홍대 연어덮밥 맛집</td>\n",
       "    </tr>\n",
       "    <tr>\n",
       "      <th>1</th>\n",
       "      <td>https://blog.naver.com/love_od/222778344582</td>\n",
       "      <td>합정 홍대 라멘맛집 오레노라멘 미쉐린2022 선정 (주차팁)</td>\n",
       "    </tr>\n",
       "    <tr>\n",
       "      <th>2</th>\n",
       "      <td>https://blog.naver.com/won9vely2134/222810446362</td>\n",
       "      <td>홍대 합정 맛집 포36거리 월남쌈 쌀국수 세트 추천!</td>\n",
       "    </tr>\n",
       "    <tr>\n",
       "      <th>3</th>\n",
       "      <td>https://blog.naver.com/gaogaiga2000/222804167323</td>\n",
       "      <td>홍대 씨부엉 통문어가 들어간 중화풍 즉석떡볶이 맛집</td>\n",
       "    </tr>\n",
       "    <tr>\n",
       "      <th>4</th>\n",
       "      <td>https://blog.naver.com/sensenlebo/222794729462</td>\n",
       "      <td>홍대 고기집 합정 맛집 고기꾼김춘배 친절하고 맛있음</td>\n",
       "    </tr>\n",
       "    <tr>\n",
       "      <th>...</th>\n",
       "      <td>...</td>\n",
       "      <td>...</td>\n",
       "    </tr>\n",
       "    <tr>\n",
       "      <th>115</th>\n",
       "      <td>https://blog.naver.com/jinjeee/222805759173</td>\n",
       "      <td>[ 합정연어 ] 홍대회무한리필 맛집!! 연어촌</td>\n",
       "    </tr>\n",
       "    <tr>\n",
       "      <th>116</th>\n",
       "      <td>https://blog.naver.com/pique_niquer/222813668896</td>\n",
       "      <td>120 리코gr2(홍대 맛집 연남동 버거 니꾸킹버거)</td>\n",
       "    </tr>\n",
       "    <tr>\n",
       "      <th>117</th>\n",
       "      <td>https://blog.naver.com/moreissuesthanvogue/222...</td>\n",
       "      <td>홍대 길거리 떡볶이 터줏대감 Feat. 홍대 떡볶이 / 홍대 맛집</td>\n",
       "    </tr>\n",
       "    <tr>\n",
       "      <th>118</th>\n",
       "      <td>https://blog.naver.com/laj7364/222795366362</td>\n",
       "      <td>홍대 맛집, 혼밥 추천 &amp; 이색적인 맛 \"할랄가이즈\"</td>\n",
       "    </tr>\n",
       "    <tr>\n",
       "      <th>119</th>\n",
       "      <td>https://blog.naver.com/jejechu/222757283776</td>\n",
       "      <td>홍대도삭면 제대로 하는 홍대맛집 이가산시도삭면</td>\n",
       "    </tr>\n",
       "  </tbody>\n",
       "</table>\n",
       "<p>120 rows × 2 columns</p>\n",
       "</div>"
      ],
      "text/plain": [
       "                                                   url  \\\n",
       "0                            https://geniusjw.com/2625   \n",
       "1          https://blog.naver.com/love_od/222778344582   \n",
       "2     https://blog.naver.com/won9vely2134/222810446362   \n",
       "3     https://blog.naver.com/gaogaiga2000/222804167323   \n",
       "4       https://blog.naver.com/sensenlebo/222794729462   \n",
       "..                                                 ...   \n",
       "115        https://blog.naver.com/jinjeee/222805759173   \n",
       "116   https://blog.naver.com/pique_niquer/222813668896   \n",
       "117  https://blog.naver.com/moreissuesthanvogue/222...   \n",
       "118        https://blog.naver.com/laj7364/222795366362   \n",
       "119        https://blog.naver.com/jejechu/222757283776   \n",
       "\n",
       "                                    title  \n",
       "0                      연남동 미쁘동 홍대 연어덮밥 맛집  \n",
       "1       합정 홍대 라멘맛집 오레노라멘 미쉐린2022 선정 (주차팁)  \n",
       "2           홍대 합정 맛집 포36거리 월남쌈 쌀국수 세트 추천!  \n",
       "3            홍대 씨부엉 통문어가 들어간 중화풍 즉석떡볶이 맛집  \n",
       "4            홍대 고기집 합정 맛집 고기꾼김춘배 친절하고 맛있음  \n",
       "..                                    ...  \n",
       "115             [ 합정연어 ] 홍대회무한리필 맛집!! 연어촌  \n",
       "116         120 리코gr2(홍대 맛집 연남동 버거 니꾸킹버거)  \n",
       "117  홍대 길거리 떡볶이 터줏대감 Feat. 홍대 떡볶이 / 홍대 맛집  \n",
       "118         홍대 맛집, 혼밥 추천 & 이색적인 맛 \"할랄가이즈\"  \n",
       "119             홍대도삭면 제대로 하는 홍대맛집 이가산시도삭면  \n",
       "\n",
       "[120 rows x 2 columns]"
      ]
     },
     "execution_count": 27,
     "metadata": {},
     "output_type": "execute_result"
    }
   ],
   "source": [
    "# \"url_list.csv\" 불러오기\n",
    "url_load = pd.read_csv(\"blog_url.csv\")\n",
    "url_load = url_load.drop(\"Unnamed: 0\", axis=1)  # 불필요한 칼럼 삭제\n",
    "\n",
    "num_list = len(url_load)\n",
    "\n",
    "print(num_list)\n",
    "url_load"
   ]
  },
  {
   "cell_type": "code",
   "execution_count": 28,
   "metadata": {},
   "outputs": [
    {
     "data": {
      "text/plain": [
       "0                              https://geniusjw.com/2625\n",
       "1            https://blog.naver.com/love_od/222778344582\n",
       "2       https://blog.naver.com/won9vely2134/222810446362\n",
       "3       https://blog.naver.com/gaogaiga2000/222804167323\n",
       "4         https://blog.naver.com/sensenlebo/222794729462\n",
       "                             ...                        \n",
       "115          https://blog.naver.com/jinjeee/222805759173\n",
       "116     https://blog.naver.com/pique_niquer/222813668896\n",
       "117    https://blog.naver.com/moreissuesthanvogue/222...\n",
       "118          https://blog.naver.com/laj7364/222795366362\n",
       "119          https://blog.naver.com/jejechu/222757283776\n",
       "Name: url, Length: 120, dtype: object"
      ]
     },
     "execution_count": 28,
     "metadata": {},
     "output_type": "execute_result"
    }
   ],
   "source": [
    "url_load['url']"
   ]
  },
  {
   "cell_type": "code",
   "execution_count": 29,
   "metadata": {},
   "outputs": [],
   "source": [
    "# 글 하나 띄우기\n",
    "i = 1\n",
    "url = url_load['url'][i]\n",
    "driver = webdriver.Chrome(chrome_path, options=options)\n",
    "driver.get(url)   # 글 띄우기"
   ]
  },
  {
   "cell_type": "code",
   "execution_count": 30,
   "metadata": {},
   "outputs": [],
   "source": [
    "# iframe 접근\n",
    "driver.switch_to.frame('mainFrame')"
   ]
  },
  {
   "cell_type": "code",
   "execution_count": 31,
   "metadata": {},
   "outputs": [],
   "source": [
    "dict = {}\n",
    "target_info = {}  # 개별 블로그 내용을 담을 딕셔너리 생성"
   ]
  },
  {
   "cell_type": "code",
   "execution_count": 32,
   "metadata": {},
   "outputs": [
    {
     "data": {
      "text/plain": [
       "'합정 홍대 라멘맛집 오레노라멘 미쉐린2022 선정 (주차팁)'"
      ]
     },
     "execution_count": 32,
     "metadata": {},
     "output_type": "execute_result"
    }
   ],
   "source": [
    "# 제목 크롤링 시작\n",
    "overlays = \".se-module.se-module-text.se-title-text\"                                 \n",
    "tit = driver.find_element_by_css_selector(overlays)          # title\n",
    "title = tit.text\n",
    "title"
   ]
  },
  {
   "cell_type": "code",
   "execution_count": 33,
   "metadata": {},
   "outputs": [
    {
     "data": {
      "text/plain": [
       "'잇츠마인\\n(love_od)'"
      ]
     },
     "execution_count": 33,
     "metadata": {},
     "output_type": "execute_result"
    }
   ],
   "source": [
    "# 글쓴이 크롤링 시작\n",
    "overlays = \".nick\"                                 \n",
    "nick = driver.find_element_by_css_selector(overlays)         # nickname\n",
    "nickname = nick.text\n",
    "nickname"
   ]
  },
  {
   "cell_type": "code",
   "execution_count": 34,
   "metadata": {},
   "outputs": [
    {
     "data": {
      "text/plain": [
       "'2022. 6. 18. 16:00'"
      ]
     },
     "execution_count": 34,
     "metadata": {},
     "output_type": "execute_result"
    }
   ],
   "source": [
    "# 날짜 크롤링\n",
    "overlays = \".se_publishDate.pcol2\"                                 \n",
    "date = driver.find_element_by_css_selector(overlays)         # datetime\n",
    "datetime = date.text\n",
    "datetime"
   ]
  },
  {
   "cell_type": "code",
   "execution_count": 35,
   "metadata": {
    "scrolled": true
   },
   "outputs": [
    {
     "data": {
      "text/plain": [
       "[<selenium.webdriver.remote.webelement.WebElement (session=\"bffc6d7a8eb6383f754055e5fcc7a11f\", element=\"90fd4300-fe38-4e28-b783-58bb65fa9536\")>,\n",
       " <selenium.webdriver.remote.webelement.WebElement (session=\"bffc6d7a8eb6383f754055e5fcc7a11f\", element=\"5e054273-3130-4b2e-a3f6-ef3c6a9b6b39\")>,\n",
       " <selenium.webdriver.remote.webelement.WebElement (session=\"bffc6d7a8eb6383f754055e5fcc7a11f\", element=\"edbf03e0-3f85-48fa-85c3-c5348d856b0f\")>,\n",
       " <selenium.webdriver.remote.webelement.WebElement (session=\"bffc6d7a8eb6383f754055e5fcc7a11f\", element=\"8994ec61-1d26-48e3-8210-f2b955aff4cd\")>,\n",
       " <selenium.webdriver.remote.webelement.WebElement (session=\"bffc6d7a8eb6383f754055e5fcc7a11f\", element=\"885daadd-6c80-4083-9173-e88df3cb1a20\")>,\n",
       " <selenium.webdriver.remote.webelement.WebElement (session=\"bffc6d7a8eb6383f754055e5fcc7a11f\", element=\"c24468b5-fee2-400e-b066-36dbae1e7022\")>,\n",
       " <selenium.webdriver.remote.webelement.WebElement (session=\"bffc6d7a8eb6383f754055e5fcc7a11f\", element=\"b836db4f-561b-4240-ae09-5e35c16a00e9\")>,\n",
       " <selenium.webdriver.remote.webelement.WebElement (session=\"bffc6d7a8eb6383f754055e5fcc7a11f\", element=\"3f6e24d1-aa75-43da-b5d2-a9f2684bb3ba\")>,\n",
       " <selenium.webdriver.remote.webelement.WebElement (session=\"bffc6d7a8eb6383f754055e5fcc7a11f\", element=\"a31a8192-69e1-4a05-b3e7-308ad98bdcf6\")>,\n",
       " <selenium.webdriver.remote.webelement.WebElement (session=\"bffc6d7a8eb6383f754055e5fcc7a11f\", element=\"4dbd62a9-a897-4cfa-a0ad-105554bd5c77\")>,\n",
       " <selenium.webdriver.remote.webelement.WebElement (session=\"bffc6d7a8eb6383f754055e5fcc7a11f\", element=\"a82711d6-bbc6-48b2-abf7-d5f4291d8637\")>,\n",
       " <selenium.webdriver.remote.webelement.WebElement (session=\"bffc6d7a8eb6383f754055e5fcc7a11f\", element=\"f2561e0d-4e7b-4546-8fb4-3bb90b7fed35\")>,\n",
       " <selenium.webdriver.remote.webelement.WebElement (session=\"bffc6d7a8eb6383f754055e5fcc7a11f\", element=\"cd4fb250-6432-43d5-aa49-37618f069d23\")>,\n",
       " <selenium.webdriver.remote.webelement.WebElement (session=\"bffc6d7a8eb6383f754055e5fcc7a11f\", element=\"38792b0d-845b-4f31-8b4d-6aff7e2805a9\")>,\n",
       " <selenium.webdriver.remote.webelement.WebElement (session=\"bffc6d7a8eb6383f754055e5fcc7a11f\", element=\"626e0df2-10e2-47c5-8882-76f32a73cf50\")>,\n",
       " <selenium.webdriver.remote.webelement.WebElement (session=\"bffc6d7a8eb6383f754055e5fcc7a11f\", element=\"ad2a2f81-a4a3-4f87-a4f5-b2572ac572fe\")>]"
      ]
     },
     "execution_count": 35,
     "metadata": {},
     "output_type": "execute_result"
    }
   ],
   "source": [
    "# 내용 크롤링\n",
    "overlays = \".se-component.se-text.se-l-default\"                                 \n",
    "contents = driver.find_elements_by_css_selector(overlays)    # contents\n",
    "contents"
   ]
  },
  {
   "cell_type": "code",
   "execution_count": 36,
   "metadata": {},
   "outputs": [
    {
     "data": {
      "text/plain": [
       "'홍대 라멘맛집이라고 검색이 더 많이되고있지만\\n실제로는 합정역에서 더 가까운 오레노라멘 본점,\\n구리구리한 날씨에도 오픈런한 손님들로\\n11시에 이미 만석이었던터라 놀랐다ㅋㅋ\\n원래 계획은 은평점으로 갈까하다가 도착시간\\n겨우 5분차이라 걍 이왕먹을꺼 본점으로\\n가보자해서 차타고 합정으로 달려옴ㅋㅋ'"
      ]
     },
     "execution_count": 36,
     "metadata": {},
     "output_type": "execute_result"
    }
   ],
   "source": [
    "# 첫번째 paragraph(문단) 확인\n",
    "# 블로그 글 contents는 여러 개의 문단이 모인 형태\n",
    "contents[0].text"
   ]
  },
  {
   "cell_type": "code",
   "execution_count": 37,
   "metadata": {},
   "outputs": [
    {
     "data": {
      "text/plain": [
       "'홍대 라멘맛집이라고 검색이 더 많이되고있지만\\n실제로는 합정역에서 더 가까운 오레노라멘 본점,\\n구리구리한 날씨에도 오픈런한 손님들로\\n11시에 이미 만석이었던터라 놀랐다ㅋㅋ\\n원래 계획은 은평점으로 갈까하다가 도착시간\\n겨우 5분차이라 걍 이왕먹을꺼 본점으로\\n가보자해서 차타고 합정으로 달려옴ㅋㅋ 노상공영주차장에 주차한 후 도보로\\n한 2분정도 걸어서왔고, 매장입구는 2층에\\n있어서 1층에선 대기의자에 사람들이\\n앉아서 번호가 호출되길 기다리고있었다!\\n(공영주차장 위치와 주차요금안내는\\n글 하단부에 기재해두었습니다) 처음 방문한다면 그저 대기의자에 앉아\\n기다리고만있을게아니라 바로 2층에 보이는\\n키오스크를 이용해 주문과 결제를 미리하고\\n영수증에 번호표가 같이 딸려오기때문에\\n버리지말고 본인 번호표를 확인한 후\\n직원이 번호를 호출하면 작은표를 주면된다\\n(아래 사진처럼 주문번호가 곧 본인의\\n대기번호이기때문에 이 번호로 호출됨) 홍대 라멘맛집이라는 합정 오레노라멘은\\n여기 본점외에 망원, 은평, 인사, 강남, 송파에도\\n분점을 갖고있고 모든 매장이 아래 메뉴판처럼\\n메인메뉴가 4개로만 간단하게 운영되고있다!\\n사이드메뉴로 뭐 가라아게라던지 교자만두\\n이런 튀김류는 없고, 라멘에 추가할수있는\\n삼겹차슈두장, 반숙계란추가, 병맥주,\\n콜라, 하이볼 등을 추가로 주문할수있다 처음 방문한 곳이다보니 뭘 먹어야할지\\n망설여진다면 키오스크 바로 왼편에 붙어있는\\n메뉴 이미지가 첨부된 메뉴판을 참고하면\\n주문하기 훨씬 수월하고, BEST라고\\n적혀있는 토리 빠이탄 라멘이 1순위로\\n제일 인기가 많고, 빠이탄의 매운버전인\\n카라 빠이탄 라멘, 토리쇼유라멘,\\n토리시오라멘 이렇게 라멘종류만 네가지다 사실 홍대 라멘맛집으로서만 유명한게 아니고\\n미쉐린 가이드 서울 2022에 선정됬을만큼\\n신동우 셰프의 노하우와 열정을 엿볼수있고\\n매력적인 진한 닭육수의 토리 빠이탄 라멘을\\n맛볼수있는 유일무이한곳이라 더욱 유명한듯하고,\\n일반적으로 진한 라멘육수라하면\\n돈코츠라멘을 떠올리기 쉬운데 이곳은 특별하게\\n닭육수를 사용해 오레노라멘을 만든다고하니\\n방문하기 전부터 무척이나 기대했던 곳이다 주문 후 아래 1층 대기의자에 앉아서\\n기다리다가 직원분께서 번호를 호출해주셔서\\n2층으로 올라갔더니, 매장 바로 앞에\\n놓여져있는 대기의자에 앉아 잠깐만\\n기다려달라고하셨다ㅋㅋ 오레노라멘 본점은\\n특히나 주말에는 대기가 헬이라고\\n익히 들었던터라 꽤 힘들겠구나했는데\\n생각보다 대기도 그렇게 오래걸리지않았고\\n대기할만한 장소가 1층에 잘 마련되어있어\\n그렇게 큰 불편함은 딱히 없었다 잠깐 기다린후 매장으로 들어갔고\\n매장입구에는 오픈키친형태로 라멘을\\n만드는 모습을 볼수있는 바형태의 테이블이\\n눈에 들어왔고 자리만 여유가 되었다면\\n저 자리에서 먹고싶었다 ㅋㅋ 우리가 안내받은\\n테이블은 아래사진에 보이는 홀이었고\\n2인뿐만아니라 4명 6명 이렇게까지\\n많이들 찾아오셔 드시는 모습에 놀람ㅋㅋ 시원한 통유리가 매력적인 홍대 라멘맛집\\n오레노라멘 본점에서 아까 오자마자 미리\\n선주문을 넣어둔터라 착석하고 5분도안되어\\n주문했던 토리 빠이탄 라멘이랑\\n카라 빠이탄 라멘 두그릇이 나왔고,\\n테이블마다 피클이 준비되어있어서 필요할때\\n부족할때마다 덜어 먹을수있어 편했다 아래사진의 윗쪽이 우윳빛의 진한 육수가\\n매력적인 빠이탄이고 아래 살짝\\n매운맛이 가미된게 카라빠이탄이다!\\n닭육수로 어떻게 진한맛을 낼수있을까,\\n돈코츠보단 밍밍하지않을까했는데 ㅋㅋ\\n어후 국물 첫술에 이미 게임오버다!\\n진하면서도 고소한 맛이 무척 매력적임 위 사진에 보이는 차슈는 우리가 추가로한거라\\n들어가있는거고 기본적으로는 차슈가\\n들어가지않고 닭가슴살만 토핑되어 나오는듯!\\n오빠는 반숙달걀을 하나 더 추가해서\\n두알이 들어가있고, 뻑살을 심하게\\n싫어하는 나로서는 닭가슴살이 퍽퍽하진\\n않을까했지만 수비드로 조리되었는지\\n무척이나 촉촉하고 보드라워서 정말 맛났다 합정역에서 더 가까운 홍대 라멘맛집인\\n오레노라멘 본점에서 맛보는 진하고\\n고소한 육수가 매력적인 빠이탄라멘 !\\n면이랑 밥은 원하는만큼 추가가되는데\\n워낙에 메인자체가 양도 푸짐하고 훌륭해\\n면추가는 무리였다ㅋㅋ 오빠는 육수가\\n맛나다고 밥까지 곁들여먹던데 맛있긴하나봄 카라 빠이탄 라멘은 뭐 심각하게\\n마라탕처럼 맵고 자극적이고 짜고 그런\\n인위적인 맛이 아니라 좋았고, 적당히 매콤하니\\n진한 닭육수의 맛이 죽지않고 느낄수있어\\n나름 맛있게 먹었다! 수비드 닭가슴살이\\n기본으로 토핑이되어 나오니 꽤 푸짐하게\\n넉넉하게 즐길수있고, 차슈추가하면 기본이\\n2장인데 만약 상대방이랑 나눠서\\n넣어달라하면 센스있게 그릇마다 한장씩\\n나눠 넣어주시니 사전에 미리 요청드리면된다 꾸리꾸리한 날씨였지만 오레노라멘 본점에서\\n너무 맛있는 식사를 하고나와 하루종일\\n기분이 좋았다ㅋㅋ 다음에도 재방문하고싶고\\n일단 노상공영주차장이있어서 주차스트레스가\\n없어 부담없이 언제든 방문할듯싶다!\\n홍대 라멘맛집을 알아보고있다면 수비드\\n닭가슴살이 토핑되어올라간 진한 닭육수가\\n매력적인 토리 빠이탄 라멘을 추천한다 :) ★ 합정 홍대 라멘 오레노라멘 본점 주차안내\\n주차장은 별도로 마련되어있지않습니다!\\n네비에 당인노상공영주차장을 검색한후\\n노상주차하시고 라멘집은 도보 2분거리에있어요\\n(노상주차장 비용/요금 : 5분당 300원) 서울 마포구 독막로6길 14 (합정동 361-1)\\n(합정역 7번출구에서 400m 거리에위치)\\n영업시간 11:00~21:00 (20:30 라스트오더)\\n연중무휴 운영중이며 휴무시 인스타 공지 예정\\nTEL 0507-1375-3539\\n#홍대라멘맛집 #합정라멘맛집 #오레노라멘본점\\n#합정오레노라멘 #홍대오레노라멘 #오레노라멘\\n#미쉐린2022 #합정맛집 #홍대맛집\\n#카라빠이탄라멘 #토리빠이탄라멘'"
      ]
     },
     "execution_count": 37,
     "metadata": {},
     "output_type": "execute_result"
    }
   ],
   "source": [
    "# 각각의 문단에 접근해서 내용을 리스트에 담고, \n",
    "# join 함수를 이용해서 하나의 문장으로 이어붙이기\n",
    "content_list = []\n",
    "for content in contents:\n",
    "    content_list.append(content.text)\n",
    "\n",
    "content_str = ' '.join(content_list)                         # content_str\n",
    "content_str"
   ]
  },
  {
   "cell_type": "code",
   "execution_count": 38,
   "metadata": {},
   "outputs": [
    {
     "data": {
      "text/plain": [
       "{'title': '합정 홍대 라멘맛집 오레노라멘 미쉐린2022 선정 (주차팁)',\n",
       " 'nickname': '잇츠마인\\n(love_od)',\n",
       " 'datetime': '2022. 6. 18. 16:00',\n",
       " 'content': '홍대 라멘맛집이라고 검색이 더 많이되고있지만\\n실제로는 합정역에서 더 가까운 오레노라멘 본점,\\n구리구리한 날씨에도 오픈런한 손님들로\\n11시에 이미 만석이었던터라 놀랐다ㅋㅋ\\n원래 계획은 은평점으로 갈까하다가 도착시간\\n겨우 5분차이라 걍 이왕먹을꺼 본점으로\\n가보자해서 차타고 합정으로 달려옴ㅋㅋ 노상공영주차장에 주차한 후 도보로\\n한 2분정도 걸어서왔고, 매장입구는 2층에\\n있어서 1층에선 대기의자에 사람들이\\n앉아서 번호가 호출되길 기다리고있었다!\\n(공영주차장 위치와 주차요금안내는\\n글 하단부에 기재해두었습니다) 처음 방문한다면 그저 대기의자에 앉아\\n기다리고만있을게아니라 바로 2층에 보이는\\n키오스크를 이용해 주문과 결제를 미리하고\\n영수증에 번호표가 같이 딸려오기때문에\\n버리지말고 본인 번호표를 확인한 후\\n직원이 번호를 호출하면 작은표를 주면된다\\n(아래 사진처럼 주문번호가 곧 본인의\\n대기번호이기때문에 이 번호로 호출됨) 홍대 라멘맛집이라는 합정 오레노라멘은\\n여기 본점외에 망원, 은평, 인사, 강남, 송파에도\\n분점을 갖고있고 모든 매장이 아래 메뉴판처럼\\n메인메뉴가 4개로만 간단하게 운영되고있다!\\n사이드메뉴로 뭐 가라아게라던지 교자만두\\n이런 튀김류는 없고, 라멘에 추가할수있는\\n삼겹차슈두장, 반숙계란추가, 병맥주,\\n콜라, 하이볼 등을 추가로 주문할수있다 처음 방문한 곳이다보니 뭘 먹어야할지\\n망설여진다면 키오스크 바로 왼편에 붙어있는\\n메뉴 이미지가 첨부된 메뉴판을 참고하면\\n주문하기 훨씬 수월하고, BEST라고\\n적혀있는 토리 빠이탄 라멘이 1순위로\\n제일 인기가 많고, 빠이탄의 매운버전인\\n카라 빠이탄 라멘, 토리쇼유라멘,\\n토리시오라멘 이렇게 라멘종류만 네가지다 사실 홍대 라멘맛집으로서만 유명한게 아니고\\n미쉐린 가이드 서울 2022에 선정됬을만큼\\n신동우 셰프의 노하우와 열정을 엿볼수있고\\n매력적인 진한 닭육수의 토리 빠이탄 라멘을\\n맛볼수있는 유일무이한곳이라 더욱 유명한듯하고,\\n일반적으로 진한 라멘육수라하면\\n돈코츠라멘을 떠올리기 쉬운데 이곳은 특별하게\\n닭육수를 사용해 오레노라멘을 만든다고하니\\n방문하기 전부터 무척이나 기대했던 곳이다 주문 후 아래 1층 대기의자에 앉아서\\n기다리다가 직원분께서 번호를 호출해주셔서\\n2층으로 올라갔더니, 매장 바로 앞에\\n놓여져있는 대기의자에 앉아 잠깐만\\n기다려달라고하셨다ㅋㅋ 오레노라멘 본점은\\n특히나 주말에는 대기가 헬이라고\\n익히 들었던터라 꽤 힘들겠구나했는데\\n생각보다 대기도 그렇게 오래걸리지않았고\\n대기할만한 장소가 1층에 잘 마련되어있어\\n그렇게 큰 불편함은 딱히 없었다 잠깐 기다린후 매장으로 들어갔고\\n매장입구에는 오픈키친형태로 라멘을\\n만드는 모습을 볼수있는 바형태의 테이블이\\n눈에 들어왔고 자리만 여유가 되었다면\\n저 자리에서 먹고싶었다 ㅋㅋ 우리가 안내받은\\n테이블은 아래사진에 보이는 홀이었고\\n2인뿐만아니라 4명 6명 이렇게까지\\n많이들 찾아오셔 드시는 모습에 놀람ㅋㅋ 시원한 통유리가 매력적인 홍대 라멘맛집\\n오레노라멘 본점에서 아까 오자마자 미리\\n선주문을 넣어둔터라 착석하고 5분도안되어\\n주문했던 토리 빠이탄 라멘이랑\\n카라 빠이탄 라멘 두그릇이 나왔고,\\n테이블마다 피클이 준비되어있어서 필요할때\\n부족할때마다 덜어 먹을수있어 편했다 아래사진의 윗쪽이 우윳빛의 진한 육수가\\n매력적인 빠이탄이고 아래 살짝\\n매운맛이 가미된게 카라빠이탄이다!\\n닭육수로 어떻게 진한맛을 낼수있을까,\\n돈코츠보단 밍밍하지않을까했는데 ㅋㅋ\\n어후 국물 첫술에 이미 게임오버다!\\n진하면서도 고소한 맛이 무척 매력적임 위 사진에 보이는 차슈는 우리가 추가로한거라\\n들어가있는거고 기본적으로는 차슈가\\n들어가지않고 닭가슴살만 토핑되어 나오는듯!\\n오빠는 반숙달걀을 하나 더 추가해서\\n두알이 들어가있고, 뻑살을 심하게\\n싫어하는 나로서는 닭가슴살이 퍽퍽하진\\n않을까했지만 수비드로 조리되었는지\\n무척이나 촉촉하고 보드라워서 정말 맛났다 합정역에서 더 가까운 홍대 라멘맛집인\\n오레노라멘 본점에서 맛보는 진하고\\n고소한 육수가 매력적인 빠이탄라멘 !\\n면이랑 밥은 원하는만큼 추가가되는데\\n워낙에 메인자체가 양도 푸짐하고 훌륭해\\n면추가는 무리였다ㅋㅋ 오빠는 육수가\\n맛나다고 밥까지 곁들여먹던데 맛있긴하나봄 카라 빠이탄 라멘은 뭐 심각하게\\n마라탕처럼 맵고 자극적이고 짜고 그런\\n인위적인 맛이 아니라 좋았고, 적당히 매콤하니\\n진한 닭육수의 맛이 죽지않고 느낄수있어\\n나름 맛있게 먹었다! 수비드 닭가슴살이\\n기본으로 토핑이되어 나오니 꽤 푸짐하게\\n넉넉하게 즐길수있고, 차슈추가하면 기본이\\n2장인데 만약 상대방이랑 나눠서\\n넣어달라하면 센스있게 그릇마다 한장씩\\n나눠 넣어주시니 사전에 미리 요청드리면된다 꾸리꾸리한 날씨였지만 오레노라멘 본점에서\\n너무 맛있는 식사를 하고나와 하루종일\\n기분이 좋았다ㅋㅋ 다음에도 재방문하고싶고\\n일단 노상공영주차장이있어서 주차스트레스가\\n없어 부담없이 언제든 방문할듯싶다!\\n홍대 라멘맛집을 알아보고있다면 수비드\\n닭가슴살이 토핑되어올라간 진한 닭육수가\\n매력적인 토리 빠이탄 라멘을 추천한다 :) ★ 합정 홍대 라멘 오레노라멘 본점 주차안내\\n주차장은 별도로 마련되어있지않습니다!\\n네비에 당인노상공영주차장을 검색한후\\n노상주차하시고 라멘집은 도보 2분거리에있어요\\n(노상주차장 비용/요금 : 5분당 300원) 서울 마포구 독막로6길 14 (합정동 361-1)\\n(합정역 7번출구에서 400m 거리에위치)\\n영업시간 11:00~21:00 (20:30 라스트오더)\\n연중무휴 운영중이며 휴무시 인스타 공지 예정\\nTEL 0507-1375-3539\\n#홍대라멘맛집 #합정라멘맛집 #오레노라멘본점\\n#합정오레노라멘 #홍대오레노라멘 #오레노라멘\\n#미쉐린2022 #합정맛집 #홍대맛집\\n#카라빠이탄라멘 #토리빠이탄라멘'}"
      ]
     },
     "execution_count": 38,
     "metadata": {},
     "output_type": "execute_result"
    }
   ],
   "source": [
    "# 글 하나는 target_info라는 딕셔너리에 담기게 되고,\n",
    "target_info['title'] = title\n",
    "target_info['nickname'] = nickname\n",
    "target_info['datetime'] = datetime\n",
    "target_info['content'] = content_str\n",
    "\n",
    "target_info"
   ]
  },
  {
   "cell_type": "code",
   "execution_count": 39,
   "metadata": {},
   "outputs": [
    {
     "data": {
      "text/plain": [
       "{1: {'title': '합정 홍대 라멘맛집 오레노라멘 미쉐린2022 선정 (주차팁)',\n",
       "  'nickname': '잇츠마인\\n(love_od)',\n",
       "  'datetime': '2022. 6. 18. 16:00',\n",
       "  'content': '홍대 라멘맛집이라고 검색이 더 많이되고있지만\\n실제로는 합정역에서 더 가까운 오레노라멘 본점,\\n구리구리한 날씨에도 오픈런한 손님들로\\n11시에 이미 만석이었던터라 놀랐다ㅋㅋ\\n원래 계획은 은평점으로 갈까하다가 도착시간\\n겨우 5분차이라 걍 이왕먹을꺼 본점으로\\n가보자해서 차타고 합정으로 달려옴ㅋㅋ 노상공영주차장에 주차한 후 도보로\\n한 2분정도 걸어서왔고, 매장입구는 2층에\\n있어서 1층에선 대기의자에 사람들이\\n앉아서 번호가 호출되길 기다리고있었다!\\n(공영주차장 위치와 주차요금안내는\\n글 하단부에 기재해두었습니다) 처음 방문한다면 그저 대기의자에 앉아\\n기다리고만있을게아니라 바로 2층에 보이는\\n키오스크를 이용해 주문과 결제를 미리하고\\n영수증에 번호표가 같이 딸려오기때문에\\n버리지말고 본인 번호표를 확인한 후\\n직원이 번호를 호출하면 작은표를 주면된다\\n(아래 사진처럼 주문번호가 곧 본인의\\n대기번호이기때문에 이 번호로 호출됨) 홍대 라멘맛집이라는 합정 오레노라멘은\\n여기 본점외에 망원, 은평, 인사, 강남, 송파에도\\n분점을 갖고있고 모든 매장이 아래 메뉴판처럼\\n메인메뉴가 4개로만 간단하게 운영되고있다!\\n사이드메뉴로 뭐 가라아게라던지 교자만두\\n이런 튀김류는 없고, 라멘에 추가할수있는\\n삼겹차슈두장, 반숙계란추가, 병맥주,\\n콜라, 하이볼 등을 추가로 주문할수있다 처음 방문한 곳이다보니 뭘 먹어야할지\\n망설여진다면 키오스크 바로 왼편에 붙어있는\\n메뉴 이미지가 첨부된 메뉴판을 참고하면\\n주문하기 훨씬 수월하고, BEST라고\\n적혀있는 토리 빠이탄 라멘이 1순위로\\n제일 인기가 많고, 빠이탄의 매운버전인\\n카라 빠이탄 라멘, 토리쇼유라멘,\\n토리시오라멘 이렇게 라멘종류만 네가지다 사실 홍대 라멘맛집으로서만 유명한게 아니고\\n미쉐린 가이드 서울 2022에 선정됬을만큼\\n신동우 셰프의 노하우와 열정을 엿볼수있고\\n매력적인 진한 닭육수의 토리 빠이탄 라멘을\\n맛볼수있는 유일무이한곳이라 더욱 유명한듯하고,\\n일반적으로 진한 라멘육수라하면\\n돈코츠라멘을 떠올리기 쉬운데 이곳은 특별하게\\n닭육수를 사용해 오레노라멘을 만든다고하니\\n방문하기 전부터 무척이나 기대했던 곳이다 주문 후 아래 1층 대기의자에 앉아서\\n기다리다가 직원분께서 번호를 호출해주셔서\\n2층으로 올라갔더니, 매장 바로 앞에\\n놓여져있는 대기의자에 앉아 잠깐만\\n기다려달라고하셨다ㅋㅋ 오레노라멘 본점은\\n특히나 주말에는 대기가 헬이라고\\n익히 들었던터라 꽤 힘들겠구나했는데\\n생각보다 대기도 그렇게 오래걸리지않았고\\n대기할만한 장소가 1층에 잘 마련되어있어\\n그렇게 큰 불편함은 딱히 없었다 잠깐 기다린후 매장으로 들어갔고\\n매장입구에는 오픈키친형태로 라멘을\\n만드는 모습을 볼수있는 바형태의 테이블이\\n눈에 들어왔고 자리만 여유가 되었다면\\n저 자리에서 먹고싶었다 ㅋㅋ 우리가 안내받은\\n테이블은 아래사진에 보이는 홀이었고\\n2인뿐만아니라 4명 6명 이렇게까지\\n많이들 찾아오셔 드시는 모습에 놀람ㅋㅋ 시원한 통유리가 매력적인 홍대 라멘맛집\\n오레노라멘 본점에서 아까 오자마자 미리\\n선주문을 넣어둔터라 착석하고 5분도안되어\\n주문했던 토리 빠이탄 라멘이랑\\n카라 빠이탄 라멘 두그릇이 나왔고,\\n테이블마다 피클이 준비되어있어서 필요할때\\n부족할때마다 덜어 먹을수있어 편했다 아래사진의 윗쪽이 우윳빛의 진한 육수가\\n매력적인 빠이탄이고 아래 살짝\\n매운맛이 가미된게 카라빠이탄이다!\\n닭육수로 어떻게 진한맛을 낼수있을까,\\n돈코츠보단 밍밍하지않을까했는데 ㅋㅋ\\n어후 국물 첫술에 이미 게임오버다!\\n진하면서도 고소한 맛이 무척 매력적임 위 사진에 보이는 차슈는 우리가 추가로한거라\\n들어가있는거고 기본적으로는 차슈가\\n들어가지않고 닭가슴살만 토핑되어 나오는듯!\\n오빠는 반숙달걀을 하나 더 추가해서\\n두알이 들어가있고, 뻑살을 심하게\\n싫어하는 나로서는 닭가슴살이 퍽퍽하진\\n않을까했지만 수비드로 조리되었는지\\n무척이나 촉촉하고 보드라워서 정말 맛났다 합정역에서 더 가까운 홍대 라멘맛집인\\n오레노라멘 본점에서 맛보는 진하고\\n고소한 육수가 매력적인 빠이탄라멘 !\\n면이랑 밥은 원하는만큼 추가가되는데\\n워낙에 메인자체가 양도 푸짐하고 훌륭해\\n면추가는 무리였다ㅋㅋ 오빠는 육수가\\n맛나다고 밥까지 곁들여먹던데 맛있긴하나봄 카라 빠이탄 라멘은 뭐 심각하게\\n마라탕처럼 맵고 자극적이고 짜고 그런\\n인위적인 맛이 아니라 좋았고, 적당히 매콤하니\\n진한 닭육수의 맛이 죽지않고 느낄수있어\\n나름 맛있게 먹었다! 수비드 닭가슴살이\\n기본으로 토핑이되어 나오니 꽤 푸짐하게\\n넉넉하게 즐길수있고, 차슈추가하면 기본이\\n2장인데 만약 상대방이랑 나눠서\\n넣어달라하면 센스있게 그릇마다 한장씩\\n나눠 넣어주시니 사전에 미리 요청드리면된다 꾸리꾸리한 날씨였지만 오레노라멘 본점에서\\n너무 맛있는 식사를 하고나와 하루종일\\n기분이 좋았다ㅋㅋ 다음에도 재방문하고싶고\\n일단 노상공영주차장이있어서 주차스트레스가\\n없어 부담없이 언제든 방문할듯싶다!\\n홍대 라멘맛집을 알아보고있다면 수비드\\n닭가슴살이 토핑되어올라간 진한 닭육수가\\n매력적인 토리 빠이탄 라멘을 추천한다 :) ★ 합정 홍대 라멘 오레노라멘 본점 주차안내\\n주차장은 별도로 마련되어있지않습니다!\\n네비에 당인노상공영주차장을 검색한후\\n노상주차하시고 라멘집은 도보 2분거리에있어요\\n(노상주차장 비용/요금 : 5분당 300원) 서울 마포구 독막로6길 14 (합정동 361-1)\\n(합정역 7번출구에서 400m 거리에위치)\\n영업시간 11:00~21:00 (20:30 라스트오더)\\n연중무휴 운영중이며 휴무시 인스타 공지 예정\\nTEL 0507-1375-3539\\n#홍대라멘맛집 #합정라멘맛집 #오레노라멘본점\\n#합정오레노라멘 #홍대오레노라멘 #오레노라멘\\n#미쉐린2022 #합정맛집 #홍대맛집\\n#카라빠이탄라멘 #토리빠이탄라멘'}}"
      ]
     },
     "execution_count": 39,
     "metadata": {},
     "output_type": "execute_result"
    }
   ],
   "source": [
    "dict[i] = target_info\n",
    "\n",
    "dict"
   ]
  },
  {
   "cell_type": "code",
   "execution_count": 40,
   "metadata": {},
   "outputs": [
    {
     "ename": "ModuleNotFoundError",
     "evalue": "No module named 'openpyxl'",
     "output_type": "error",
     "traceback": [
      "\u001b[0;31m---------------------------------------------------------------------------\u001b[0m",
      "\u001b[0;31mModuleNotFoundError\u001b[0m                       Traceback (most recent call last)",
      "Input \u001b[0;32mIn [40]\u001b[0m, in \u001b[0;36m<cell line: 6>\u001b[0;34m()\u001b[0m\n\u001b[1;32m      3\u001b[0m result_df \u001b[38;5;241m=\u001b[39m pd\u001b[38;5;241m.\u001b[39mDataFrame\u001b[38;5;241m.\u001b[39mfrom_dict(\u001b[38;5;28mdict\u001b[39m, \u001b[38;5;124m'\u001b[39m\u001b[38;5;124mindex\u001b[39m\u001b[38;5;124m'\u001b[39m)\n\u001b[1;32m      5\u001b[0m \u001b[38;5;66;03m# 저장하기\u001b[39;00m\n\u001b[0;32m----> 6\u001b[0m \u001b[43mresult_df\u001b[49m\u001b[38;5;241;43m.\u001b[39;49m\u001b[43mto_excel\u001b[49m\u001b[43m(\u001b[49m\u001b[38;5;124;43m\"\u001b[39;49m\u001b[38;5;124;43mblog_content.xlsx\u001b[39;49m\u001b[38;5;124;43m\"\u001b[39;49m\u001b[43m,\u001b[49m\u001b[43m \u001b[49m\u001b[43mencoding\u001b[49m\u001b[38;5;241;43m=\u001b[39;49m\u001b[38;5;124;43m'\u001b[39;49m\u001b[38;5;124;43mutf-8-sig\u001b[39;49m\u001b[38;5;124;43m'\u001b[39;49m\u001b[43m)\u001b[49m\n\u001b[1;32m      7\u001b[0m time\u001b[38;5;241m.\u001b[39msleep(\u001b[38;5;241m3\u001b[39m)\n",
      "File \u001b[0;32m~/miniforge3/envs/dl/lib/python3.8/site-packages/pandas/core/generic.py:2345\u001b[0m, in \u001b[0;36mNDFrame.to_excel\u001b[0;34m(self, excel_writer, sheet_name, na_rep, float_format, columns, header, index, index_label, startrow, startcol, engine, merge_cells, encoding, inf_rep, verbose, freeze_panes, storage_options)\u001b[0m\n\u001b[1;32m   2332\u001b[0m \u001b[38;5;28;01mfrom\u001b[39;00m \u001b[38;5;21;01mpandas\u001b[39;00m\u001b[38;5;21;01m.\u001b[39;00m\u001b[38;5;21;01mio\u001b[39;00m\u001b[38;5;21;01m.\u001b[39;00m\u001b[38;5;21;01mformats\u001b[39;00m\u001b[38;5;21;01m.\u001b[39;00m\u001b[38;5;21;01mexcel\u001b[39;00m \u001b[38;5;28;01mimport\u001b[39;00m ExcelFormatter\n\u001b[1;32m   2334\u001b[0m formatter \u001b[38;5;241m=\u001b[39m ExcelFormatter(\n\u001b[1;32m   2335\u001b[0m     df,\n\u001b[1;32m   2336\u001b[0m     na_rep\u001b[38;5;241m=\u001b[39mna_rep,\n\u001b[0;32m   (...)\u001b[0m\n\u001b[1;32m   2343\u001b[0m     inf_rep\u001b[38;5;241m=\u001b[39minf_rep,\n\u001b[1;32m   2344\u001b[0m )\n\u001b[0;32m-> 2345\u001b[0m \u001b[43mformatter\u001b[49m\u001b[38;5;241;43m.\u001b[39;49m\u001b[43mwrite\u001b[49m\u001b[43m(\u001b[49m\n\u001b[1;32m   2346\u001b[0m \u001b[43m    \u001b[49m\u001b[43mexcel_writer\u001b[49m\u001b[43m,\u001b[49m\n\u001b[1;32m   2347\u001b[0m \u001b[43m    \u001b[49m\u001b[43msheet_name\u001b[49m\u001b[38;5;241;43m=\u001b[39;49m\u001b[43msheet_name\u001b[49m\u001b[43m,\u001b[49m\n\u001b[1;32m   2348\u001b[0m \u001b[43m    \u001b[49m\u001b[43mstartrow\u001b[49m\u001b[38;5;241;43m=\u001b[39;49m\u001b[43mstartrow\u001b[49m\u001b[43m,\u001b[49m\n\u001b[1;32m   2349\u001b[0m \u001b[43m    \u001b[49m\u001b[43mstartcol\u001b[49m\u001b[38;5;241;43m=\u001b[39;49m\u001b[43mstartcol\u001b[49m\u001b[43m,\u001b[49m\n\u001b[1;32m   2350\u001b[0m \u001b[43m    \u001b[49m\u001b[43mfreeze_panes\u001b[49m\u001b[38;5;241;43m=\u001b[39;49m\u001b[43mfreeze_panes\u001b[49m\u001b[43m,\u001b[49m\n\u001b[1;32m   2351\u001b[0m \u001b[43m    \u001b[49m\u001b[43mengine\u001b[49m\u001b[38;5;241;43m=\u001b[39;49m\u001b[43mengine\u001b[49m\u001b[43m,\u001b[49m\n\u001b[1;32m   2352\u001b[0m \u001b[43m    \u001b[49m\u001b[43mstorage_options\u001b[49m\u001b[38;5;241;43m=\u001b[39;49m\u001b[43mstorage_options\u001b[49m\u001b[43m,\u001b[49m\n\u001b[1;32m   2353\u001b[0m \u001b[43m\u001b[49m\u001b[43m)\u001b[49m\n",
      "File \u001b[0;32m~/miniforge3/envs/dl/lib/python3.8/site-packages/pandas/io/formats/excel.py:888\u001b[0m, in \u001b[0;36mExcelFormatter.write\u001b[0;34m(self, writer, sheet_name, startrow, startcol, freeze_panes, engine, storage_options)\u001b[0m\n\u001b[1;32m    884\u001b[0m     need_save \u001b[38;5;241m=\u001b[39m \u001b[38;5;28;01mFalse\u001b[39;00m\n\u001b[1;32m    885\u001b[0m \u001b[38;5;28;01melse\u001b[39;00m:\n\u001b[1;32m    886\u001b[0m     \u001b[38;5;66;03m# error: Cannot instantiate abstract class 'ExcelWriter' with abstract\u001b[39;00m\n\u001b[1;32m    887\u001b[0m     \u001b[38;5;66;03m# attributes 'engine', 'save', 'supported_extensions' and 'write_cells'\u001b[39;00m\n\u001b[0;32m--> 888\u001b[0m     writer \u001b[38;5;241m=\u001b[39m \u001b[43mExcelWriter\u001b[49m\u001b[43m(\u001b[49m\u001b[43m  \u001b[49m\u001b[38;5;66;43;03m# type: ignore[abstract]\u001b[39;49;00m\n\u001b[1;32m    889\u001b[0m \u001b[43m        \u001b[49m\u001b[43mwriter\u001b[49m\u001b[43m,\u001b[49m\u001b[43m \u001b[49m\u001b[43mengine\u001b[49m\u001b[38;5;241;43m=\u001b[39;49m\u001b[43mengine\u001b[49m\u001b[43m,\u001b[49m\u001b[43m \u001b[49m\u001b[43mstorage_options\u001b[49m\u001b[38;5;241;43m=\u001b[39;49m\u001b[43mstorage_options\u001b[49m\n\u001b[1;32m    890\u001b[0m \u001b[43m    \u001b[49m\u001b[43m)\u001b[49m\n\u001b[1;32m    891\u001b[0m     need_save \u001b[38;5;241m=\u001b[39m \u001b[38;5;28;01mTrue\u001b[39;00m\n\u001b[1;32m    893\u001b[0m \u001b[38;5;28;01mtry\u001b[39;00m:\n",
      "File \u001b[0;32m~/miniforge3/envs/dl/lib/python3.8/site-packages/pandas/io/excel/_openpyxl.py:49\u001b[0m, in \u001b[0;36mOpenpyxlWriter.__init__\u001b[0;34m(self, path, engine, date_format, datetime_format, mode, storage_options, if_sheet_exists, engine_kwargs, **kwargs)\u001b[0m\n\u001b[1;32m     36\u001b[0m \u001b[38;5;28;01mdef\u001b[39;00m \u001b[38;5;21m__init__\u001b[39m(\n\u001b[1;32m     37\u001b[0m     \u001b[38;5;28mself\u001b[39m,\n\u001b[1;32m     38\u001b[0m     path,\n\u001b[0;32m   (...)\u001b[0m\n\u001b[1;32m     47\u001b[0m ):\n\u001b[1;32m     48\u001b[0m     \u001b[38;5;66;03m# Use the openpyxl module as the Excel writer.\u001b[39;00m\n\u001b[0;32m---> 49\u001b[0m     \u001b[38;5;28;01mfrom\u001b[39;00m \u001b[38;5;21;01mopenpyxl\u001b[39;00m\u001b[38;5;21;01m.\u001b[39;00m\u001b[38;5;21;01mworkbook\u001b[39;00m \u001b[38;5;28;01mimport\u001b[39;00m Workbook\n\u001b[1;32m     51\u001b[0m     engine_kwargs \u001b[38;5;241m=\u001b[39m combine_kwargs(engine_kwargs, kwargs)\n\u001b[1;32m     53\u001b[0m     \u001b[38;5;28msuper\u001b[39m()\u001b[38;5;241m.\u001b[39m\u001b[38;5;21m__init__\u001b[39m(\n\u001b[1;32m     54\u001b[0m         path,\n\u001b[1;32m     55\u001b[0m         mode\u001b[38;5;241m=\u001b[39mmode,\n\u001b[0;32m   (...)\u001b[0m\n\u001b[1;32m     58\u001b[0m         engine_kwargs\u001b[38;5;241m=\u001b[39mengine_kwargs,\n\u001b[1;32m     59\u001b[0m     )\n",
      "\u001b[0;31mModuleNotFoundError\u001b[0m: No module named 'openpyxl'"
     ]
    }
   ],
   "source": [
    "# 판다스로 만들기\n",
    "import pandas as pd\n",
    "result_df = pd.DataFrame.from_dict(dict, 'index')\n",
    "\n",
    "# 저장하기\n",
    "result_df.to_excel(\"blog_content.xlsx\", encoding='utf-8-sig')\n",
    "time.sleep(3)"
   ]
  },
  {
   "cell_type": "code",
   "execution_count": null,
   "metadata": {},
   "outputs": [],
   "source": []
  },
  {
   "cell_type": "code",
   "execution_count": null,
   "metadata": {},
   "outputs": [],
   "source": []
  },
  {
   "cell_type": "code",
   "execution_count": null,
   "metadata": {},
   "outputs": [],
   "source": []
  },
  {
   "cell_type": "code",
   "execution_count": 41,
   "metadata": {
    "colab": {
     "referenced_widgets": [
      "90fd656a8c42421bbe133fdcd0598bc6"
     ]
    },
    "id": "XFXmQgE8-kvu",
    "outputId": "132915b2-033b-43b1-997c-cc5609dbf776",
    "scrolled": true
   },
   "outputs": [
    {
     "data": {
      "application/vnd.jupyter.widget-view+json": {
       "model_id": "4c874e790d0f49a99def446e7a6a30f9",
       "version_major": 2,
       "version_minor": 0
      },
      "text/plain": [
       "  0%|          | 0/10 [00:00<?, ?it/s]"
      ]
     },
     "metadata": {},
     "output_type": "display_data"
    },
    {
     "name": "stdout",
     "output_type": "stream",
     "text": [
      "1 합정 홍대 라멘맛집 오레노라멘 미쉐린2022 선정 (주차팁)\n",
      "2 홍대 합정 맛집 포36거리 월남쌈 쌀국수 세트 추천!\n",
      "3 홍대 씨부엉 통문어가 들어간 중화풍 즉석떡볶이 맛집\n",
      "4 홍대 고기집 합정 맛집 고기꾼김춘배 친절하고 맛있음\n",
      "5 ㅣ홍대맛집ㅣ서교동맛집 '스테이크 슈퍼' (+어린이메뉴)\n",
      "6 [홍대 맛집] 홍대의 일본식 야끼카레 맛집, 비스트로 큐슈\n",
      "7 홍대 맛집 '프리모바치오바치' 빠네 파스타 맛집 (+꿀팁)\n",
      "8 [홍대맛집/키움초밥]맛과 가성비 다 잡은캐쥬얼초밥집.데이트 하고 식사하러 가셔도 좋을듯.\n",
      "9 홍대입구텐동맛집 [고구텐 홍대점] 항상 사람들로 가득한 홍대 맛집\n",
      "수집한 글 갯수:  9\n",
      "{1: {'title': '합정 홍대 라멘맛집 오레노라멘 미쉐린2022 선정 (주차팁)', 'nickname': '잇츠마인\\n(love_od)', 'datetime': '2022. 6. 18. 16:00', 'content': '홍대 라멘맛집이라고 검색이 더 많이되고있지만\\n실제로는 합정역에서 더 가까운 오레노라멘 본점,\\n구리구리한 날씨에도 오픈런한 손님들로\\n11시에 이미 만석이었던터라 놀랐다ㅋㅋ\\n원래 계획은 은평점으로 갈까하다가 도착시간\\n겨우 5분차이라 걍 이왕먹을꺼 본점으로\\n가보자해서 차타고 합정으로 달려옴ㅋㅋ 노상공영주차장에 주차한 후 도보로\\n한 2분정도 걸어서왔고, 매장입구는 2층에\\n있어서 1층에선 대기의자에 사람들이\\n앉아서 번호가 호출되길 기다리고있었다!\\n(공영주차장 위치와 주차요금안내는\\n글 하단부에 기재해두었습니다) 처음 방문한다면 그저 대기의자에 앉아\\n기다리고만있을게아니라 바로 2층에 보이는\\n키오스크를 이용해 주문과 결제를 미리하고\\n영수증에 번호표가 같이 딸려오기때문에\\n버리지말고 본인 번호표를 확인한 후\\n직원이 번호를 호출하면 작은표를 주면된다\\n(아래 사진처럼 주문번호가 곧 본인의\\n대기번호이기때문에 이 번호로 호출됨) 홍대 라멘맛집이라는 합정 오레노라멘은\\n여기 본점외에 망원, 은평, 인사, 강남, 송파에도\\n분점을 갖고있고 모든 매장이 아래 메뉴판처럼\\n메인메뉴가 4개로만 간단하게 운영되고있다!\\n사이드메뉴로 뭐 가라아게라던지 교자만두\\n이런 튀김류는 없고, 라멘에 추가할수있는\\n삼겹차슈두장, 반숙계란추가, 병맥주,\\n콜라, 하이볼 등을 추가로 주문할수있다 처음 방문한 곳이다보니 뭘 먹어야할지\\n망설여진다면 키오스크 바로 왼편에 붙어있는\\n메뉴 이미지가 첨부된 메뉴판을 참고하면\\n주문하기 훨씬 수월하고, BEST라고\\n적혀있는 토리 빠이탄 라멘이 1순위로\\n제일 인기가 많고, 빠이탄의 매운버전인\\n카라 빠이탄 라멘, 토리쇼유라멘,\\n토리시오라멘 이렇게 라멘종류만 네가지다 사실 홍대 라멘맛집으로서만 유명한게 아니고\\n미쉐린 가이드 서울 2022에 선정됬을만큼\\n신동우 셰프의 노하우와 열정을 엿볼수있고\\n매력적인 진한 닭육수의 토리 빠이탄 라멘을\\n맛볼수있는 유일무이한곳이라 더욱 유명한듯하고,\\n일반적으로 진한 라멘육수라하면\\n돈코츠라멘을 떠올리기 쉬운데 이곳은 특별하게\\n닭육수를 사용해 오레노라멘을 만든다고하니\\n방문하기 전부터 무척이나 기대했던 곳이다 주문 후 아래 1층 대기의자에 앉아서\\n기다리다가 직원분께서 번호를 호출해주셔서\\n2층으로 올라갔더니, 매장 바로 앞에\\n놓여져있는 대기의자에 앉아 잠깐만\\n기다려달라고하셨다ㅋㅋ 오레노라멘 본점은\\n특히나 주말에는 대기가 헬이라고\\n익히 들었던터라 꽤 힘들겠구나했는데\\n생각보다 대기도 그렇게 오래걸리지않았고\\n대기할만한 장소가 1층에 잘 마련되어있어\\n그렇게 큰 불편함은 딱히 없었다 잠깐 기다린후 매장으로 들어갔고\\n매장입구에는 오픈키친형태로 라멘을\\n만드는 모습을 볼수있는 바형태의 테이블이\\n눈에 들어왔고 자리만 여유가 되었다면\\n저 자리에서 먹고싶었다 ㅋㅋ 우리가 안내받은\\n테이블은 아래사진에 보이는 홀이었고\\n2인뿐만아니라 4명 6명 이렇게까지\\n많이들 찾아오셔 드시는 모습에 놀람ㅋㅋ 시원한 통유리가 매력적인 홍대 라멘맛집\\n오레노라멘 본점에서 아까 오자마자 미리\\n선주문을 넣어둔터라 착석하고 5분도안되어\\n주문했던 토리 빠이탄 라멘이랑\\n카라 빠이탄 라멘 두그릇이 나왔고,\\n테이블마다 피클이 준비되어있어서 필요할때\\n부족할때마다 덜어 먹을수있어 편했다 아래사진의 윗쪽이 우윳빛의 진한 육수가\\n매력적인 빠이탄이고 아래 살짝\\n매운맛이 가미된게 카라빠이탄이다!\\n닭육수로 어떻게 진한맛을 낼수있을까,\\n돈코츠보단 밍밍하지않을까했는데 ㅋㅋ\\n어후 국물 첫술에 이미 게임오버다!\\n진하면서도 고소한 맛이 무척 매력적임 위 사진에 보이는 차슈는 우리가 추가로한거라\\n들어가있는거고 기본적으로는 차슈가\\n들어가지않고 닭가슴살만 토핑되어 나오는듯!\\n오빠는 반숙달걀을 하나 더 추가해서\\n두알이 들어가있고, 뻑살을 심하게\\n싫어하는 나로서는 닭가슴살이 퍽퍽하진\\n않을까했지만 수비드로 조리되었는지\\n무척이나 촉촉하고 보드라워서 정말 맛났다 합정역에서 더 가까운 홍대 라멘맛집인\\n오레노라멘 본점에서 맛보는 진하고\\n고소한 육수가 매력적인 빠이탄라멘 !\\n면이랑 밥은 원하는만큼 추가가되는데\\n워낙에 메인자체가 양도 푸짐하고 훌륭해\\n면추가는 무리였다ㅋㅋ 오빠는 육수가\\n맛나다고 밥까지 곁들여먹던데 맛있긴하나봄 카라 빠이탄 라멘은 뭐 심각하게\\n마라탕처럼 맵고 자극적이고 짜고 그런\\n인위적인 맛이 아니라 좋았고, 적당히 매콤하니\\n진한 닭육수의 맛이 죽지않고 느낄수있어\\n나름 맛있게 먹었다! 수비드 닭가슴살이\\n기본으로 토핑이되어 나오니 꽤 푸짐하게\\n넉넉하게 즐길수있고, 차슈추가하면 기본이\\n2장인데 만약 상대방이랑 나눠서\\n넣어달라하면 센스있게 그릇마다 한장씩\\n나눠 넣어주시니 사전에 미리 요청드리면된다 꾸리꾸리한 날씨였지만 오레노라멘 본점에서\\n너무 맛있는 식사를 하고나와 하루종일\\n기분이 좋았다ㅋㅋ 다음에도 재방문하고싶고\\n일단 노상공영주차장이있어서 주차스트레스가\\n없어 부담없이 언제든 방문할듯싶다!\\n홍대 라멘맛집을 알아보고있다면 수비드\\n닭가슴살이 토핑되어올라간 진한 닭육수가\\n매력적인 토리 빠이탄 라멘을 추천한다 :) ★ 합정 홍대 라멘 오레노라멘 본점 주차안내\\n주차장은 별도로 마련되어있지않습니다!\\n네비에 당인노상공영주차장을 검색한후\\n노상주차하시고 라멘집은 도보 2분거리에있어요\\n(노상주차장 비용/요금 : 5분당 300원) 서울 마포구 독막로6길 14 (합정동 361-1)\\n(합정역 7번출구에서 400m 거리에위치)\\n영업시간 11:00~21:00 (20:30 라스트오더)\\n연중무휴 운영중이며 휴무시 인스타 공지 예정\\nTEL 0507-1375-3539\\n#홍대라멘맛집 #합정라멘맛집 #오레노라멘본점\\n#합정오레노라멘 #홍대오레노라멘 #오레노라멘\\n#미쉐린2022 #합정맛집 #홍대맛집\\n#카라빠이탄라멘 #토리빠이탄라멘'}, 2: {'title': '홍대 합정 맛집 포36거리 월남쌈 쌀국수 세트 추천!', 'nickname': '먹슬지', 'datetime': '2022. 7. 14. 0:06', 'content': ' 먹슬지입니다~~👋\\n오늘은 월남쌈이 먹고 싶어서 찾아갔던\\n홍대 합정 맛집 소개해볼까합니다 :)\\n재방문 의사 만 퍼센트라 주변에 알려주고 싶은\\n베트남 요리 전문점이에요!\\nPho36street\\n포36거리 홍대점\\n홍대 합정 맛집 / 합정 쌀국수 / 합정 월남쌈  📍서울 마포구 독막로3길 29 화이트하우스 1층\\n⏰ 매일 11시 30분 ~ 22시\\n✔️ 브레이크 타임 없음\\n☎️ 02-323-4036 합정역 5번 출구로 나와서 홍대 핫플인 솔내길 근처에서\\n한번만 꺽어주면 큰 길가에 있어서 금방 찾을 수 있는 식당이에요 포36거리는 사이드 쪽으로\\n예쁘게 꾸며진 테라스도 있더라구요\\n테이블이 따로 있지는 않았고\\n등불 장식이 화려해서 사진 찍기 좋은 포토존 느낌이었어요!\\n그리고 쭉 들어가면 의자가 있는걸로 봐서\\n내부에 자리가 없을 땐 웨이팅하는 공간인듯해요~ 사람이 무진장 많았던 합정 쌀국수 맛집👍\\n왼쪽 라인은 쭉 연결된 단체석이었는데요\\n팀으로 다같이 방문하신 손님분들이 식사하고 계셨어요 안쪽에 아늑한 공간이 따로 있었는데\\n여기는 2인 테이블이라서\\n혼밥하시는 분이랑 커플 이렇게 두팀 있었습니당 베트남 여행갔을 때\\n잘 꾸며진 현지 식당들도 이런 느낌이었는데\\n여행 향수를 불러일으키는 인테리어였어요!\\n노랑노랑한 색감 때문에 호이안 생각이 나더라는~ 메뉴판이에요\\n쌀국수 종류 외에 덮밥 메뉴도 있더라구요!\\n저는 월남쌈을 판다는 점도 맘에 들었어요 :) 참고로 미니 덮밥이 있어서\\n쌀국수를 메인으로 맛보기처럼 곁들일 수도 있구요\\n사리 추가가 무료라 면은 맘껏 먹을 수 있는 곳이랍니다\\n근데 기본으로 나오는 쌀국수 양이\\n이미 푸짐해서 저는 면추가 안해도 든든했어요\\n지이인짜 잘 드시는 분들이라면 리필 도전해보시길! 테이블 기본 세팅이구요\\n필요한 것들은 이미 다 올려져 있으니까\\n자리에 앉아서 주문만 하면 되더라구요 그리고 포36거리에서는\\n물 대신 따뜻하고 향긋한 자스민차가 나왔어요~ 월남쌈 + 쌀국수 2인 세트 35000원 2인 세트로 시켰는데\\n막상 받고보니 양이 넘넘 푸짐해서\\n세명이서 먹어도 되겠더라구요?\\n가성비까지 최고였던 홍대 합정 맛집이에요! 칠리랑 해선장은 테이블 위에 올려져 있어서\\n추가로 더 리필해서 먹을 수 있구요\\n땅콩 소스 같은 것들은 요청하면 더 주셔요 엄청난 비주얼로 등장!\\n고기도 넉넉하고 채소도 다채로워서 맛있게 잘 만들어 먹었어요 새콤한 과일류랑 토마토도 있어요~\\n조금씩 같이 넣어주니 새콤하게 맛을 돋워줘서 좋았어요 먹다보니까 채소 아래에 면도 있는 거예요?!\\n중안에 면에 뿌려 먹으라고 소스를 가져다 주셔서 알았어요 ㅋㅋ\\n월남쌈 적당히 만들어 먹다가 볶음 국수처럼 비벼서 먹었습니당 월남쌈 맛집..👍👍\\n야채 좀 먹어야겠다 싶을 때면 종종 가야겠어요\\n이렇게 만들어 먹으니까 채소 술술 들어가요\\n이렇게 집에서 재료 다 준비하려면 번거로우니 와서 먹기로! 살면서 먹어본 쌀국수 중에서\\n가장 입에 잘 맞고 맛있었던 곳 ☺️ 현지에서 먹었던 것보다 향신료가 강하지 않아서 좋았고\\n소고기 베이스 육수라 친근한 맛도 있어서 입에 잘 맞았어요\\n고기랑 숙주랑 면도 그릇에 꽉꽉 담아주셔서\\n혜자스러운 양에 감탄.. 다 먹고 국물까지 드링킹..육수가 정말 깊어요\\n이런게 바로 진국이죠 양이 많아서 조금 남기기는 했지만 ㅠㅠ\\n맛있는거 먹고 올라오는 기분 좋은 포만감 굳 👍\\n원래 베트남 요리를 그렇게 좋아하는 편은 아니라서\\n그냥 월남쌈 먹을 생각으로 방문했던건데\\n쌀국수까지 너무 맛있어서 찐으로 감동했어요 ㅋㅋ 쌀국수에 월남쌈도 시켜 먹을 수 있는 베트남 식당!\\n홍대 합정 맛집 포36거리 한번 가보세요~~~ #홍대합정맛집 #합정맛집 #합정쌀국수 #합정월남쌈 '}, 3: {'title': '홍대 씨부엉 통문어가 들어간 중화풍 즉석떡볶이 맛집', 'nickname': '바카', 'datetime': '2022. 7. 8. 7:00', 'content': '홍대 미대 나온 염님을 보필하고 사는 노예 바카님이라\\n가끔씩 염님 추억팔이하러 홍대 나들이를 간다.\\n요즘 탄수화물 줄이고 사람답게 살고자 노력하는 우리 부부가\\n해산물이 들어갔으니까 괜찮겠지? 하고\\n전부터 궁금했던 즉석떡볶이 홍대 맛집 씨부엉에 방문\\n통문어와 가리비, 홍합 등이 불향 솔솔 중화풍 매운 소스가 매력적인 즉떡집이라\\n소주 생각나서 힘들었던... 홍대 골목에 숨은 작은 업장이라 주차장은 당연히 없다.\\n홍대의 비싼 유료주차장들이 가득한데\\n그래도 어디 주차장 추천하냐하면 홍대3,4 공영주차장이 제일 낫다.\\n1,2 공영주차장은 현재 없어졌으니 나처럼 갔다가 헛탕치지 않기를... T맵에는 있는 홍대1공영 2공영주차장은 현재 이렇게 공터로 그냥 덩그라니 변신해있다.\\n코로나가 어느정도 지나가서인지 사람들 꽤 있더라. 홍대 씨부엉 등장, 카미야 2층에 위치해 있다. 왜 씨부엉이냐? 열받고 속상한 일이 있을때 매콤한 떡볶이가 대신 \"씨부엉~!\" 육해줘서\\n유쾌한 위로를 받았으면 좋겠다는 바람으로 만들어진 떡볶이 주점이라고 한다.\\n다음엔 저녁에 술이랑 콸콸해서 씨부엉! 외치며 취해봐야지 작은 업장이다. 가운데에 악기들과 소품샵이 넓게 차지하고 있어서 갸우뚱? 했는데 홍대 젊은이들의 열정을 응원하는 젊은 사장님이 본인의 이익은 1도 없이 무료로 장소 제공하여\\n홍대 학생들이 직접 만든 소품들의 플리마켓과 버스킹 악기를 무료로 대여하는 활동을 하시는 홍대 맛집\\n그리 크지 않은 업장, 테이블 늘리려서 손님 더 받으려는 것이 아니라 이 지역에서 요식업을 하시면서\\n일부분은 홍대라는 공간을 유지하는 젊은이들에게 다시 돌려주는 이런 센스있는 움직임 너무 멋있어서 박수 짝짝짝 떡볶이 맛있게 먹는 방법은 위와 같다. 서버분이 친절하게 즉석떡볶이 가져다 주시면서\\n구두로 안내해주시기도 한다. 씨부엉 메뉴 및 가격을 살펴보면 해산물과 중화풍 불향의 매콤한 씨볶이가 시그니쳐 메뉴라고 해서 주문\\n기본 즉석떡볶이 자체에 튀김, 쫄면, 문어 등 해산물이 푸짐해서 토핑은 추가하지 않았으나\\n치킨귀신 염님은 가라아게를 주문, 미트로제떡볶이는 신메뉴인가보다.\\n로제를 우리부부 둘다 좋아하긴하나 지금은 시그니쳐 먹고 다음에 먹어보기로 얼을 동동 떠있는 엄청 차가운 생수와 얇게 슬라이스 된 단무지 맛살튀김 2개, 야끼만두 2개, 김말이 2개\\n통문어 반마리, 홍합, 가리비, 떡, 오뎅, 쫄면 등장 매운맛을 선택가능한데 보통-매운맛-아주매운맛 3단계인데 그 중 가장 덜매운 보통맛으로 주문\\n신라면 정도의 맵기인데 딱 좋았다. 보통과 매운맛 사이정도도 가능하다하니 참고하자 큼직한 문어가 살짝 익혀져서 나온다.\\n홍대 맛집 씨부엉 사장님이 튀김류를 넣고 끓이면 국물이 텁텁해지니\\n따로 꺼내놓고, 떡볶이가 다 끓으면 찍먹을 추천해주셨다. 말 잘듣는 우리, 그리고 통문어는 육수에 살짝 잠기도록 하여 해산물과 함께 한소큼 끓여야\\n그 맛이 우러나서 즉떡의 맛이 더 살아난다고 한다. 치킨 가라아게까지 나오고, 씨볶이도 다 끓었으니 먹자! 제품이 아니라 간장 숙성하여 주문시 직접 바로 튀겨낸다는데 진짜 겉바속촉의 정석으로\\n닭다리살인지 속살이 엄청 부드럽고 간도 딱 좋다. 생맥주 땡겼으나... 꾹 꾹 참았다...\\n밑간 잘된 맛깔난 닭튀김 빙술은 칵테일술인데 당분간 금주였던 날이라 논알콜 되신다고 하여\\n기분내기위해 탄산음료 대신 주문, 가게 한켠에서 솜사탕 기계를 돌리고 있는 직원분이 계셔서\\n부업으로 솜사탕도 만들어파시나했더니 홍대 맛집 씨부엉의 빙술 위에 솜사탕이 들어가는 것이였다. 시트러스한 맛, 블루레몬에이드 느낌의 탄산탄산하고 살얼음낀게 여름이랑 딱 맞고\\n불향의 중화풍 즉석떡볶이랑도 잘 어울리는데 논알콜로 먹어서 감흥이 줄었다. 꼭 술을 세게 타달라고 요청하자! 게맛살은 튀김 그 자체가 맛있어서 끓을 동안 먼저 먹으면 좋고\\n야끼만두나 김말이는 자작한 씨볶이 소스에 찍어먹기를 추천 개인적으로 라면, 우동보다 쫄면이나 당면사리를 사랑하는데\\n기본이 졸면이라 너무 좋았다. 해산물과 문어가 소스에 배어서인지 더 입에 쩍쩍 붙는 느낌 중화풍의 불맛이 올라와서 볶음짬뽕느낌도 난다. 역시나 문어가 주인공으로서 쫄깃하고 맛깔나기에\\n떡, 오뎅, 홍합 등 홍대 맛집 씨부엉의 시그니쳐 씨볶이의 중심을 잡아준다.\\n떡볶이보다는 해물짬뽕탕 묵직하게 잘하는 집 온 느낌도 난다. 아까 빼놓았던 바삭바삭함이 살아있는 김말이, 야끼만두는 이 진해진 엑기스 소스에 찍먹하면된다.\\n이 튀김도 찍먹파와 담가놓고 먹는 부먹(?)파가 있는데 취향에 따라 도전하자 씨부엉이 홍대 맛집으로 우리 부부에게 인정받으려면(사장님이 인정을 원하신지는 미지수다.) 마지막 관문 볶음밥을 통과해야한다. 치즈사리는 추가해서 도전도전 처음에 이게 모야? 했던 치즈사리가 진짜였다. 진짜다. 제대로다. 요즘 떡볶이집, 닭갈비집들이 기본 소스가 가진 맛보다 그냥 김치볶음밥 느낌으로 따로 볶아주시는 느낌인데\\n씨부엉은 레알 남긴 소스를 100% 활용해서 김가루와 참기름 정도만 더한 느낌이라 진짜 내가 먹던 떡볶이의 소스엑기스가 중요한 대목이다. 너무 맛있다. 안돼는데 안돼는데 탄수화물 안돼는데 하면서 둘이 싹싹 긁어먹었던 기억 탄수화물 참다가 오랜만에 염님 추억의 동네 돌아다니며 오락실도 가고, 까이막도 사먹고,\\n젊은이들 잘가는 화려한 통문어 비쥬얼의 해물 떡볶이, 씨부엉\\'s 씨볶이도 즐겼던 이야기\\n맛있게 먹는 방법과 메뉴 하나에 고민이 들어간 튀김, 해물, 쫄면, 떡, 오뎅의 조화 디테일이\\n맛살튀김먹고, 쫄면먹고, 해산물과 떡볶이 먹고, 튀김 소스에 찍어먹고, 볶음밥까지 물흐르듯이 흘러가는 것이\\n작은 업장이지만 철학이 있고, 홍대 자유로운 영혼들을 위한 플리마켓과 버스킹 악기 무료대여까지\\n여러모로 응원하고 싶은 업장이라 기분좋게 후기 및 영수증리뷰까지 마무리, 로제떡볶이 먹으러 또 갈께요! 홍대씨부엉 씨볶이 치킨가라아게 빙술\\n주소 : 서울 마포구 와우산로21길 28-6(서교동 358-39)\\n전화번호 : 0507-1378-5253\\n영업시간 : 오전11시~자정(밤12시)\\n주차 : 불가능, 홍대3,4 공영주차장에 주차했음 #홍대씨부엉 #씨부엉 #바카블로그 #홍대즉석떡볶이 #홍대맛집 #홍대술집 #홍대즉떡'}, 4: {'title': '홍대 고기집 합정 맛집 고기꾼김춘배 친절하고 맛있음', 'nickname': '미니미엄빠', 'datetime': '2022. 6. 30. 11:16', 'content': \"#홍대고기집 #합정맛집\\n고기꾼김춘배 홍대본점 홍대 거리에서 너무나도 유명한 고기집 고기꾼김춘배에 다녀왔어요. 직원분들이 매우 친절하고 고기까지 맛있어서 평이 굉장히 좋은 합정 맛집인데 역시 평이 좋은데는 다 이유가 있더라고요. :)  홍대 고기집 고기꾼김춘배 홍대본점은 지하철 홍대입구역 9번 출구와 합정역 3번 출구 중간에 위치해있어 어느 역에서 가던 도보 10분 이내면 도착할 수 있어서 접근성이 좋았어요. 건물 구조가 꽤나 특이했는데 계단을 통해 3층으로 올라가니 홍대 고기집으로 통하는 비밀 통로 같은 느낌 물씬 나는 입구가 나타났답니다. 예전에 우리나라에 화로구이 고기집이 처음 막 생겼을 때의 그 느낌을 그대로 간직해서 더욱 반가웠던 홍대 합정 고기집 고기꾼김춘배. 일요일 낮이었는데 맛있는 고기에 낮술 즐기러 오신 분들이 생각보다 훨씬 많았어요. 테이블 간 칸막이가 설치되어 있어서 주변 테이블 신경을 덜 쓸 수 있게 해놓아서 좋았고, 직원분들이 바쁜 와중에도 친절하게 응대해 주시고 열심히 정리 정돈하셔서 그런지 천장이 낮은 편인 고기집이었지만 답답함이나 끈적임 등 없이 쾌적했네요.  홍대 고기집 고기꾼김춘배 밑반찬은 명이나물과 백김치, 양파절임으로 종류는 단출했지만 세 가지 모두 고기와 잘 어울려서 계속해서 손이 갔어요. 반찬 종류가 다양하고 푸짐한 고기집도 물론 좋지만 가성비 좋은 가격대에 고기에 집중하고 반찬은 이렇게 꼭 필요한 것들 위주로 내어주는 고기집도 참 좋은 것 같아요. 홍대 합정 맛집 고기꾼김춘배에서 고기 찍어 먹을 소스는 소금, 쌈장, 갈치속젓(?), 마늘소스 이렇게 4가지가 나왔는데요~ 저는 고기가 맛있으면 거의 기본 소금에만 찍어 먹기 때문에 다른 소스들은 맛보지 않았어요. 이 말인즉슨 여기 고기집 고기가 맛있었다는 뜻이 되겠죠?!ㅎㅎ 남편은 다른 두 가지 소스가 맛있다고 많이 찍어 먹더라고요. 점심시간이 약간 지난 시간에 방문했던지라 배가 너무 고팠던 관계로 메뉴판 사진은 패스했는데 합정 맛집 고기꾼김춘배에서는 돼지고기와 소고기 다양한 부위를 판매하고 있어서 고르는데 은근 고민이 됐어요. 우선 돼지고기 맛집으로 유명한 홍대 고기집인만큼 오겹살, 목살, 갈비살로 구성된 '돼지 한주먹'을 먼저 주문했어요. 두툼하고 큼지막하게 썰려 나온 홍대 합정 맛집 고기꾼김춘배의 돼지 한주먹이에요. 딱 봐도 신선하다고 느껴질 만큼 고기 질이 좋았고 살코기와 지방 양의 밸런스도 좋아서 구웠을 때 굉장히 고소했답니다. 잘 피워진 숯불 화로에 가장 먼저 돼지 갈비살을 굽고 서빙할 때 알려주신대로 목살과 오겹살을 차례대로 구웠어요. 한가한 시간에는 직원분이 고기도 구워주신다고 들었는데 이때는 손님이 많아서 저희가 구워 먹었어요. 돼지갈비는 대부분 뼈가 붙은 상태로 구워서 먹는데 홍대 합정 맛집에서는 뼈와 분리된 갈비살을 판매하고 있어서 신기했어요. 갈비살이 생각보다 탱탱하면서도 쫄깃한 식감이라 의외였고 먹으면 먹을수록 매력 있는 부위더라고요. 목살은 갈비살보다 부드러운 식감이 돋보였고 안에 육즙을 가득 머금고 있어 돼지고기의 고소한 풍미가 아주 좋았어요. 예전에는 목살은 퍽퍽하다는 선입견이 있어서 삼겹살이나 오겹살을 더 좋아했었는데 요즘은 목살도 너무 맛있더라고요. 고기집에서 돼지고기를 셀프로 구워야 할 때는 두툼하게 썰려 나온 고기를 통째로 앞뒤로 뒤집고 겉이 바삭하게 익었을 때 고기를 잘라줘야 육즙 손실이 최소화되어서 겉바속촉하게 구워지니 미리 너무 잘게 자르지 않는 게 맛있게 굽는 꿀팁! :) 고소하고 쫄깃했던 홍대 합정 맛집 고기집김춘배 오겹살까지 넘넘 맛있었어요. 숯불 화로에서 맛있게 고기 구워지는 모습은 영상으로도 보여드릴게요. ▼클릭 ▼  먼저 주문한 돼지 한주먹 고기 중량이 500g이어서 배가 슬슬 불렀지만 가성비 좋은 미국산 소고기도 판매 중이어서 1인분만 추가해서 먹어보기로 했어요. 돼지고기랑 소고기 같이 파는 고기집 가면 왠지 어느 게 더 맛있을지 궁금하잖아요.ㅎㅎ 이미 돼지고기를 꽤나 먹은 상태라 소고기는 기름기가 적은 부위인 갈비살을 주문했는데 단백하고 부드러워서 부담없이 먹기 좋았어요. 그래도 역시 합정 홍대 맛집 고기꾼김춘배는 국내산 生 돼지고기가 최고인 것 같아요. :D 고기 먹을 때 곁들이면 좋은 뜨끈뜨끈한 계란찜은 굉장히 부드러워서 아주 맛있었고요~ 특이하게 반반씩 나오는 반반냉면이 있어서 주문해봤어요. 고기집에서 비냉 먹을까 물냉 먹을까는 항상 어려운 고민인데 한방에 해결해줬던 홍대 고기집! 맛과 친절함으로 홍대에서 오랫동안 사랑받고 있는 홍대 고기집 고기꾼김춘배. 기대했던대로 맛있었고 친절함 덕분에 더욱 기분좋은 식사할 수 있어서 좋았어요. 다음에 홍대 가면 또 찾고 싶은 합정 맛집이었네요.  \"}, 5: {'title': \"ㅣ홍대맛집ㅣ서교동맛집 '스테이크 슈퍼' (+어린이메뉴)\", 'nickname': '몽쉘미쉘\\n(xxchocoxx)', 'datetime': '2022. 7. 8. 10:41', 'content': \"스테이크 슈퍼 http://instagram.com/steaksuper_official 안녕하세요 :-)\\n미쉘입니다 ~ >_<\\n수요일 외식데이를 맞이하여\\n이번주에 방문한 곳은\\n상상마당 근처에 위치한\\n스테이크 슈퍼랍니다 ! 홍대입구역에서 도보 8~9분정도 거리,\\n합정역에서 6분 정도 거리에 위치해있구요 ~\\n뚜벅이인 전 마포 마을버스 08번을\\n타고 갔답니다 ㅎㅎ 식당 외부에 간단하게\\n메뉴판이 있어서 무얼 먹을까\\n한번 훑어보고 외관을 보았어요. 한 눈에 봐도 넓어보이는\\n서교동맛집 스테이크슈퍼 ♥  힙한 느낌의 외부 인테리어 '-' 요즘 사진만 찍으려고 하면\\n본인도 같이 찍겠다고 불쑥\\n튀어나와서 .. 배경에 같이 찍힌 코미..  STEAK SUPER 서울 스테이크 슈퍼 1층은\\n미국에 있는 어느 식당같은\\n느낌의 인테리어였어요. 언제든 자유로이 가져다 마실 수 있는\\n식수도 마련되어 있었구요 ~! 매장 내부가 테이블 간격도 넓고\\n공간들이 널찍해서 좋았어요.   스테이크 슈퍼는\\n1층은 쇼룸\\n2층은 헤드 오피스와 디자인 룸\\n3층은 루프탑으로\\n이루어져있었는데요 ~ 저희는 2층으로 안내받아\\n올라갔어요. 2층은 파티해도 될 정도로 더 넓은 공간에\\n통창으로 뷰도 탁 트여서 좋더라구요 ~!\\n저희가 방문한 날 어린이들 파티가 실제로\\n있기도 해서 단체모임 하기에도 좋고\\n아이들 파티해 줄 공간으로 사용해도 좋을듯했어요. 저희가 안내받은 자리인데요 ~\\n3명이서 거의 6인용 식탁에 앉다보니\\n넓게 사용할 수 있어서 좋았어요.  스테이크 슈퍼 2층의 숨어있는 공간들 '-'\\n커튼을 치게 되면 프라이빗한 공간으로\\n식사를 할 수 있어서\\n프라이버시 중요한 사람들이나\\n긴밀한 얘기를 하며\\n식사를 해야하는 사람들에게\\n딱 좋을 것 같았어요.  스테이크 슈퍼라는 이름답게\\n스테이크도 여러 종류가 있어서\\n고민이 됐었지만,\\n신랑이 워낙 허니 갈릭을 좋아하고,\\n인기메뉴라고 적혀있어서\\n허니갈릭 스테이크와\\n코미를 위한 어린이메뉴 !\\n어린이볶음밥,\\n감자튀김을 주문하였어요. 한 번에 깔끔하게 플레이팅 된\\n한 상 차림 ★ 감자튀김 말모말모\\n(말해모해말해모해)\\nㅋㅋㅋㅋㅋㅋ\\n햄버거 가게의 얇고 짠\\n감튀가 아니라 조금 통통한 감튀라서\\n감자맛도 느껴지고 맛있었어요. 코미가 먹을 어린이볶음밥 !\\n어린이메뉴인 이 어린이볶음밥은\\n계란볶음밥이었는데요 ~\\n어린이를 위한 메뉴다보니 짜지않고\\n아이가 먹기에 딱 괜찮았어요. 허니갈릭 숙성스테이크는 이름답게\\n스테이크 위에 허니갈릭이\\n마구마구 얹어져있었고,\\n한국인이다보니 그냥 일반적인\\n스테이크만 먹는게 아니라\\n허니갈릭을 같이\\n먹어보니 넘 맛있더라구요 ~~\\n거기다 스테이크 소스 /\\n홀그래인 머스타드 소스 / 홀스래디쉬 소스\\n총 3가지의 소스가 있다보니\\n종류별로 돌아가면서\\n찍어먹는 재미도 있었어요. 보통 스테이크라 하면\\n거의 손가락 수준으로 나오는데\\n스테이크 슈퍼의 허니갈릭 스테이크는\\n주먹 수준의 크기로 나와서\\n잘 먹는 신랑과 제가\\n흡족해하며 배부르게 먹었답니다. 크.. 감자와 허니갈릭을 얹은\\n스테이크 한 점 ★ 정말 티끌도 남기지 않고\\n깨끗하게 싹쓸이했답니다 '-'\\n만족스러웠던 식사 !!   아기 식기류도 따로 챙겨주시고,\\n아기 의자도 구비되어 있고,\\n거기다 어린이메뉴인 어린이볶음밥까지\\n있으니 아이와 함께\\n외식하기에 좋은 곳이었어요.\\n+ 사장님의 스윗한 친절함까지 더해져서\\n알차고 행복했던 저녁 한 끼였답니다. 홍대입구역, 합정역, 서교동,\\n상상마당 근처에서\\n스테이크 or 파스타가 땡길 땐\\n스테이크 슈퍼를 재방문해야겠어요 !~!  #홍대맛집 #홍대스테이크 #홍대스테이크맛집\\n#홍대상상마당맛집\\n#홍대파스타맛집 #합정역맛집 #합정파스타\\n#합정역파스타 #서교동맛집\"}, 6: {'title': '[홍대 맛집] 홍대의 일본식 야끼카레 맛집, 비스트로 큐슈', 'nickname': '템포', 'datetime': '2022. 6. 19. 8:50', 'content': '다양한 맛집이 많이 있는 홍대\\n매번 홍대에 갈 때마다\\n너무나도 많은 맛집들이 있어서\\n무엇을 먹어야 할지 고민에 빠지고는 하는데요\\n이번에는 홍대 맛집 중에서\\n홍대 중심에서는 조금 떨어져 있는 곳\\n홍대입구와 서강대역 사이에 위치한\\n일본식 카레 맛집을 소개해 드려보고자 합니다.\\n이번 포스팅\\n홍대의 일본식 야끼카레 맛집\\n비스트로 큐슈\\n입니다. 홍대 거리에서 서강대역 쪽으로 가다 보면 중간쯤에 위치한 비스트로큐슈\\n위치가 위치인지라\\n그동안 가본 적이 없는 곳이었는데\\n조금 더 위치를 쉽게 말하자면\\n와우산 아래\\n홍대의 유명 빵집 아오이토리 길 건너편 쪽 골목에 위치해있었습니다.\\n식당 자체는 크지 않았지만\\n생각보다 인기가 있는지\\n제가 갔을 때는 대기가 있었고\\n제 뒤로도 많지는 않지만\\n꾸준하게 1~2팀 정도씩 대기가 있는 모습을 볼 수 있었습니다. 입구 앞에 있던 입간판에는\\n크게 대표적인 메뉴 몇 가지가 적혀있었습니다. 대기하는 동안 가져다주신 메뉴판\\n대기하는 동안에 이 메뉴판을 보고 메뉴를 먼저 주문을 할 수 있었습니다.\\n메뉴는 크게 야끼카레 종류와 카레, 시금치 카레\\n그리고 토핑으로 구성되어 있었습니다. 뒤 페이지에는 주류와 음료 메뉴가 있었습니다.\\n저는 여기서 한눈에 끌린 타코야끼카레와\\n훈제 삼겹야끼카레 이 두 가지를 주문했습니다. 조금 기다리다가 자리가 나서 들어간 비스트로큐슈\\n매장은 밖에서 봤던 대로 매우 작았습니다.\\n테이블도 5개 정도밖에 되지 않아서\\n조금만 사람이 몰려도 대기가 생길 수밖에 없는 구조였습니다. 기본 밑반찬은 김치와 무피클\\n이렇게 두 가지가 준비되었습니다. 대기하는 동안 주문을 해서인지\\n그렇게 오래 기다리지 않고서 주문한 메뉴가 준비되었습니다.\\n문어가 들어간 타코야끼카레\\n타코야끼라고 하면 흔히 둥그런 문어빵을 생각하는 게 일반적이라서 그런지\\n처음에 주문 전에는 타코야끼가 들어간 카레라고 생각하고 주문했는데\\n메뉴가 나오고 나서는 처음 했던 생각이 착각이었음을 곧바로 알아차릴 수 있었습니다.\\n흔히 생각하는 타코야끼가 들어간 게 아닌\\n구운 문어가 들어간 타코야끼카레\\n받고 나서 생각을 해보니\\n타코야끼라는 단어 자체가\\n문어를 구운 것이라는 의미였기에\\n단어 자체는 틀린 게 전혀 없었던\\n그러면서도 둥근 타코야끼가 나올 거라고 생각했던 것과는 조금 달랐던 메뉴였습니다.\\n어찌 되었든 생각했던 것과 다를 뿐이지\\n메뉴 자체에 잘못된 부분은 없기에\\n그대로 먹어보았습니다.\\n맵기는 신라면 정도의 맵기라는 기본으로 해서 먹어보았습니다.\\n생각보다 매콤했던 타코야끼카레\\n치즈와 문어가 가득한 카레는\\n처음에 강황의 향이 생각보다 강하게 느껴졌습니다.\\n거기에 쫄깃한 문어의 맛과 짭짤한 맛\\n그리고 불 맛도 있는 게\\n꽤나 맛있었습니다.\\n문어를 좋아한다면 충분히 좋아할 만했던\\n타코야끼카레\\n저처럼 다른 타코야끼를 생각해서 주문을 하실 생각이라면\\n다시 한번 생각해 보시고\\n문어를 좋아한다면 드셔보시기를 추천드리는 맛이었습니다. 또 다른 메뉴 훈제 삼겹야끼카레\\n구운 훈제 삼겹살이 카레 위에 잔뜩 올라간 모습은\\n나온 순간부터 너무나도 먹음직스러워 보였습니다. 마치 두툼한 베이컨 같은 훈제 삼겹살의 맛은\\n훈제 삼겹살 특유의 맛과 식감이 가득했습니다.\\n타코야끼처럼 쫀득한 맛보다는\\n부드러운 맛이 좋았던 훈제 삼겹야끼카레\\n카레 자체는 비슷했지만\\n주 재료에서 오는 차이가 확실히 있었습니다.\\n타코야끼카레가 해산물, 특히 문어를 좋아하는 사람들에게 인기가 있을법하다면\\n이 훈제 삼겹야끼카레는\\n호불호가 크게 안 갈리고\\n누구나 좋아할 만한 맛의 카레였습니다.\\n개인적인 입맛으로도 타코야끼카레보다는 더 맛있게 느껴졌던 메뉴이기도 했습니다.\\n홍대에 있는 일본식 야끼카레 맛집 비스트로큐슈\\n여러 종류의 카레 중에서\\n두 개의 야끼카레를 먹어보았는데\\n둘 다 서로 다른 매력으로 맛있었습니다.\\n신라면 정도라고 했던 기본 맵기가 생각 이상으로 맵기는 했지만\\n그래도 재료 본연의 맛을 잘 드러내고 있던 야끼카레\\n홍대에 다른 맛집들도 많이 있고\\n카레 맛집도 분명 있지만\\n야끼카레가 끌린다면\\n한번 와볼만한 맛집이었습니다.\\n식당이 좁은 만큼 식사시간에 찾아오게 된다면\\n웨이팅을 해야 할 가능성이 높지만\\n너무 오래 기다리는 게 아니라면\\n조금 정도는 충분히 기다릴만한 맛이기에\\n한번 찾아와보는 것도 괜찮을 듯합니다.\\n지금까지\\n홍대의 일본식 야끼카레 맛집\\n비스트로 큐슈\\n이었습니다. '}, 7: {'title': \"홍대 맛집 '프리모바치오바치' 빠네 파스타 맛집 (+꿀팁)\", 'nickname': '싱깅\\n(tldrld93)', 'datetime': '2022. 5. 13. 5:30', 'content': '홍대 맛집, 홍대 파스타\\n프리모바치오바치 저번 주 금요일, 쟁의 청첩장 모임이 있던 날😀\\n쟁이 줄리아에게 가고 싶은 곳이 있냐 물었고\\n줄리아와 저는 가게부터 메뉴까지 정해서 통보해줬어요ㅋㅋ 02-323-0098\\n서울 마포구 와우산로23길 44\\n월-일 11:00 - 23:00 홍대 프리모바치오바치는 첫방문이었는데\\n꽤 유명한 곳이더라고요!\\n대학로와 강남에도 있는데 홍대가 본점이에요. 원래는 7시 모임이었지만 웨이팅이 있을 수 있다고 들어서\\n일찍 갔더니 6시 20분에 도착!\\n자리는 널널한 편이었지만 일행이 늦게 와서 6시 40분에 예약을 걸어뒀어요.\\n만약 6시 40분에 대기가 생긴다면 저를 1순위로 들여보내준다고 하더라고요. 6시 40분에 왔을 땐 대기 없이 자리가 널널했어요.\\n2층, 3층을 사용하고 있어서 꽤 넓더라고요.\\n대신 저희가 먹고 나갈 때쯤인 8시에는 대기가 좀 있었어요. 홍대 파스타 맛집 프리모바치오바치 메뉴판입니다💛\\n저희가 고른 메뉴는 삐깐떼 감베로니 피자, 빠네 파스타, 마리나라 리조또 입니다.\\n에이드도 2잔에 8,000원이길래 탄산 2개 시키는 거랑 가격이 비슷해\\n샤인머스켓, 살구망고에이드 2잔으로 골랐어요! 여기서 꿀팁 대방출합니다!!\\n프리모바치오바치를 좋아하는 줄리아가 알려준 건데요~ 이게 따로 메뉴판에 적혀있지 않아서\\n첫 방문하는 저는 모르고 지나갈 수 있었을 것 같아요.\\n너무 당연한 꿀팁이라면 ㅈㅅ~ 식기는 깔끔하네요! 먼저 식전빵이 나왔어요.\\n그냥 빵이겠거니 하고 먹었는데 은은한 마늘맛에\\n엄청 부드러워서 넘 맛있더라고요!!!\\n결국 식전빵 리필해서 또 먹었어요ㅋㅋㅋ\\n이상하게 메인 메뉴 별로 먹은 것 같지 않은데 배가 불렀는데\\n식전빵을 넘 많이 먹었나...? 샤인머스켓에이드와 살구망고에이드가 나왔습니다!\\n에이드맛은 쏘쏘했던 느낌?\\n개인적으로 샤인머스켓 에이드가 더 맛있었어요~ 빠네파스타 14,000원\\n홍대 프리모바치오바치의 대표메뉴라 할 수 있는 빠네파스타!!\\n역시나 맛있어요ㅎㅎㅎㅎ\\n크림도 부드럽고 느끼하지 않아서\\n왜 인기메뉴인지 알 것 같은ㅋㅋㅋ\\n주변을 돌아보니 다들 1테이블 1빠네 하더라고요. 마리나라 리조또 13,000원\\n토마토소스에 해산물이 들어간 리조또예요.\\n맛있긴 했는데 리조또 뜰 때 해산물도 같이 퍼지니 불편하긴 했어요!\\n다같이 먹는 거라 더 그런 느낌?\\n안엔 오징어, 조개, 게가 들어있더라고요~ 블로그를 하는 줄리아가 사진 찍을 때\\n나도 옆에서 따라 찍기ㅋㅋㅋㅋ 삐깐떼 감베로니 15,000원\\n모짜렐라 치즈를 곁들인 매콤한 새우 피자입니다! 치즈 한 조각을 딱 들었는데 어머어머\\n이거는 당장 찍어야해!!\\n줄리아한테도 빨리 찍으라 했어요ㅋㅋㅋ\\n매콤한 피자지만 거의 매운맛은 없는?\\n딱 기본에 충실한 피자였던 것 같아요❣ 빠네 나올 때 소스 좀 더 달라고 했는데 조금 늦게 나왔어요!\\n빠네 소스 부어주면 더욱 풍부한 맛으로 즐길 수 있습니다~\\n빵 찍어먹기에도 넉넉해요! 졍이가 일 때문에 늦게 합류했는데\\n오자마자 빠네 빵을 왜 안먹었냐며 꾸짖었어요.\\n자리에 앉자마자 빵 찢는 졍이\\n빠네에 진심인 편... 에이드는 탄산으로 리필이 가능해서\\n저흰 제로콜라로 한 번 리필해 먹었어요! 이제 다 먹고 가려했는데 줄리아가 여기 샤베트도 나온다며 붙잡았어요.\\n직원에게 샤베트 갖다달라고 했더니 망고맛/딸기맛 여쭤보시더라고요!\\n저는 망고맛을 먹었는데 줄리아의 딸기맛 샤베트 한 입 먹어보니\\n딸기맛이 딸기씨도 씹혀서 더욱 생과일 샤베트같은 맛이 났어요~\\n전 망고맛 보단 딸기맛이 더 맛있었네요ㅎㅎ 가성비도 좋아서 청첩장 모임 주인공 쟁도 얼마 안 나왔다며 흡족(?)해했어요.\\n왜 유명한 맛집인지 알 것 같아요!\\n홍대에 가성비 좋은 파스타 맛집이라 대학생들도 많이 찾을 것 같네요.\\n(홍대에 젊은이들이 가득해서 쭈굴...)\\n이상 홍대 이탈리안 레스토랑 프리모바치오바치 후기였습니다💙 #홍대프리모바치오바치 #프리모바치오바치 #홍대맛집 #홍대입구역맛집 #홍대데이트맛집 #홍대파스타 #홍대파스타맛집 #홍대이탈리안레스토랑 #홍대모임하기좋은곳 #홍대청첩장모임 #프리모바치오바치홍대본점'}, 8: {'title': '[홍대맛집/키움초밥]맛과 가성비 다 잡은캐쥬얼초밥집.데이트 하고 식사하러 가셔도 좋을듯.', 'nickname': '바블', 'datetime': '2022. 7. 9. 7:00', 'content': '아침부터 홍대에서 시작한\\n업무가 점심쯔음 서교동에서 마쳤어요\\n일 땜시 여동생을 불러서 도움을 받았는데\\n맛난 점심은 대접 해야겠고\\n어디로 가야 하나.....\\n뭐 좋아해?\\n회 종류나 초밥요\\nㅋㅋㅋㅋ\\n역시 요즘 MZ 세대는 망설임이 없구나 ㅎㅎㅎ\\n이날 함께한 동생이 찜콩한\\n#키움초밥 입니다.\\n업무 중간쯤 식당을 검색하라고 했더니\\n겁나 검색검색.\\n헐...\\n그냥 가성비좋은 캐쥬얼스시집인줄 알았는데\\n나름 인지도가 있는\\n홍대초밥맛집이었어요\\n인스타 맛집이랍니다\\nㅋㅋㅋㅋ 테이블석은 만석\\n주방 바로 앞 다찌 좌석만 남아 있었어요\\n은근 혼자오신 남자손님 많으셨어요\\n연령대로는\\n절대 초밥집에 혼자 오실 나이대가\\n아니었는데 신기했어요\\nㅋㅋㅋ 주방에 4-5분정도의 쉐프들이\\n쉴새없이 음식 만들고 있었구요 #키움초밥메뉴\\n초밥부터 사시미종류까지\\n다양하게 식사부터 술 한잔 안주류 까지.\\n요즘 같은 고물가 속에\\n초밥이나 사시미 가격은 착한거 같아요\\n그래서인지\\n젊은분들부터 근처 직장인들까지\\n다양한 손님들을 볼수 있었어요 기꼬망 간장에 생와사비\\n요거 보고 기분 좋아짐\\n개인적으로 사시미나 스시집에\\n니비시나 기꼬망 사용하면 믿음갑니다 오늘의 메뉴 선택은\\n동생에게 맡겼더니\\n바로 세트메뉴 픽\\n세트라는것만 들었는데\\n뭔가 계속나옴\\n점심인데 과하지 않나? 생각은 속으로만 했어요\\n여기서\\n입밖으로 내면 꼰대 인걸\\n이제는 압니다\\nㅋㅋㅋ 메뉴구성상 소주 한잔 안할수가\\nㅎㅎㅎ\\n쨘~\\n한잔 올려 봅니다. 폭염속이라 시원한 모밀국수는\\n그냥 사랑이죠\\n살얼음 낀 모밀은 바로 원샷 각. 알밥\\n슥슥 비벼서 사진도 한컷. 후토마끼\\n튀김,연어 유부등등 재료 가득 들었는데\\n너무 크지 않아 전 좋았습니다\\n입 크게 한입 들어갈 사이즈라\\n굿~~\\n요즘 너무 큰건 먹기에 너무 불편해요 젊은 분들 딱 좋아할만한\\n홍게그라탕.\\n치즈의 찐득함과 달짝함\\n동생이 30대초의 여자라 그런지\\n아주 환장하고 좋아하시네\\nㅎㅎㅎ\\n넘 잘 드시니깐 내가 다 흐뭇,\\n아빠미소 절로 나더이다. 대게 다리튀김\\n이건\\n다 알만한 맛. 간장새우장도 나왔는데\\n전 갑각류알러지 있어 손을 못댔어요\\n동생도 마찬가지로 못먹던데\\n진작 알았슴 돌려 보냈을텐데\\nㅠㅠ 오늘의 메인인 초밥과 사시미까지 나와서\\n완전체가 되었어요\\n아...\\n사실 난 사시미까지 나오는줄은 몰랐어요\\n초밥 나오기에 이제 먹자!!!\\n그랬더니\\n바로 사시미가 따라 나옴\\n헉...\\n얘가 완전 뽕을 뽑는구나.\\n제법 가격 나오겠는데 생각했는데\\n제가 생각한 거 보단 훨씬 저렴했습니다.\\n요런데서 식사한끼 한턱 내기에 딱 좋을듯. 오늘의 메인격인\\n사시미랑 초밥은 한번 더 찍어주고. 초밥은 1인 8개씩\\n참치부터 소고기타다끼 까지... 타코와사비부터 방어뱃살 연어 광어,단새우까지.\\n이 정도 구성에 이 가격이라면\\n진짜 혜자각.\\n어디가면 요정도 내어주고 3-4만원 받을텐데 말이죠 역시 난 고기파\\n초밥을 먹어도 먼저 고기부터\\n눈길이 가는 나란남자\\nㅎㅎㅎㅎ\\n달짝하면서 불향나던 소고기초밥 긴꼬리 초밥처럼\\n샤리는 엄지손톱정도 네타는 큼직만하게\\n딱\\n여성분들 취향저격\\n맛도 맛이지만 초밥이 이쁘게 나오니깐\\n동생은 인스타 올릴거라며\\n겁나 찍어대네요\\nㅎㅎㅎ\\n오랜만에 호적수 만났슴요 방어뱃살과 엔가와\\n생각과 기대 보다 사시미 퀄리티는\\n상당히 갠춘했어요\\n이게 단품으로는 얼마지?\\n근처면 요거 하나 시키고 소주한잔 하기에도\\n딱이겠다 싶었어요\\n사시미 칭찬합니다\\nㅎㅎ\\n가성비 좋고 맛도 준수했던\\n키움초밥\\n동생덕분에 우연히 방문했는데\\n생각보다 아주 맛나게 먹고 나왔어요\\n홍대근처에서 캐쥬얼초밥집 찾으신다면\\n방문해보셔도 좋을듯해요\\n[저의 시간과 돈을 소비하여 작성한 글 입니다]'}, 9: {'title': '홍대입구텐동맛집 [고구텐 홍대점] 항상 사람들로 가득한 홍대 맛집', 'nickname': '먹는데 진심인 오사장\\n(ops1200)', 'datetime': '2022. 7. 1. 13:59', 'content': '매장번호 0507-1331-5610\\n영업시간\\n11:30 - 21:00\\n15:00 - 17:00 브레이크타임\\n14:30, 20:30 라스트오더 제가 개인적으로 정말 자주가는 텐동집을 다녀왔습니다\\n홍대에 위치한 고쿠텐입니다\\n지점이 여러군데 있긴하지만\\n여기만큼 벨런스 잘잡힌 텐동집을 찾기 힘듭니다 영업시간은 다음과 같습니다\\n옛날에 제 식당 영업시간과 같네요 이날 평일 점심 첫타임이었고\\n날도 엄청 더웠는데\\n제가 들어가고나서 바로 만석...\\n홍대 고쿠텐의 인기를 실감했습니다 메뉴판입니다\\n여기 메뉴 전부 먹어봤습니다\\n새우가 제일 좋고\\n한치도 맛있고\\n기본은 당연히 훌륭하고\\n카레가 생각보다 괜찮으니\\n취향껏 고르시면 됩니다 내부는 주방이 보이는 닷지형태가 전부입니다\\n안쪽에 작게 웨이팅할수있는 공간도 마련되어있습니다 선주문후 자리에 앉으면 되는 시스템입니다 밥과 장국은 무한리필\\n와사비랑 생강은 필요시 말하면 됩니다\\n바로 부탁드렸습니다 튀겜에 간장계란밥인데\\n왜이렇게 텐동이 맛있는지 저도 잘모르겠습니다ㅋㅋㅋ\\n진짜 입맛없을때 텐동이 생각나니 원 테이블에는 고추장아찌와 단무지가 준비되어있습니다 바로 따뜻한 장국부터 나옵니다 왼쪽이 새우가 4마리 올라간 새우텐동\\n오른쪽이 기본텐동입니다 기본에는 가지,꽈리고추,새우2마리,느타리,김,계란,단호박\\n이렇게 들어가있습니다\\n채소도 좋아한다면 골고루 들어간 기본은 좋은 선택입니다 하지만\\n저같이 새우를 좋아하는 사람은 무조건\\n새우텐동 추천 겉은 바삭하고 속은 진짜 부드럽고 촉촉하게 잘튀겨진 새우가\\n4마리가 올라갑니다 나머지 튀김들은 그냥 거들뿐\\n메인은 새우 계란은 잘 터트려서 밥이랑 섞어줍니다 간이 싱거우면 테이블에 텐동간장이 준비되어있으니\\n뿌리면 됩니다 와사비를 조금씩 올려먹는게\\n가장 맛있습니다\\n진짜 여러 텐동집들을 다녀봤지만\\n소스간,밥,튀김 다만족하는곳은\\n고쿠텐이었습니다 오늘도 완식\\n누군가한테 텐동을 소개시켜줘야한다면\\n여기가 가장 실패가 없을꺼라고\\n생각합니다\\n대중적이면서도\\n텐동이 가지고있어야할 장점들은 모두 가지고 있는집입니다\\n오늘도 맛있게 잘먹었습니다\\n#홍대입구텐동맛집 #홍대텐동맛집 #홍대입구역맛집 #홍대맛집 #연남맛집 #연남동맛집 '}}\n"
     ]
    }
   ],
   "source": [
    "dict = {}    # 전체 크롤링 데이터를 담을 그릇\n",
    "\n",
    "# 수집할 글 갯수 정하기\n",
    "number = 10 \n",
    "\n",
    "# 수집한 url 돌면서 데이터 수집\n",
    "for i in tqdm_notebook(range(0, number)):\n",
    "    # 글 띄우기\n",
    "    url = url_load['url'][i]\n",
    "    driver = webdriver.Chrome(chrome_path, options=options)\n",
    "    driver.get(url)   # 글 띄우기\n",
    "    \n",
    "    # 크롤링\n",
    "    \n",
    "    try : \n",
    "        # iframe 접근\n",
    "        driver.switch_to.frame('mainFrame')\n",
    "\n",
    "        target_info = {}  # 개별 블로그 내용을 담을 딕셔너리 생성\n",
    "\n",
    "        # 제목 크롤링 시작\n",
    "        overlays = \".se-module.se-module-text.se-title-text\"                                 \n",
    "        tit = driver.find_element_by_css_selector(overlays)          # title\n",
    "        title = tit.text\n",
    "\n",
    "        # 글쓴이 크롤링 시작\n",
    "        overlays = \".nick\"                                 \n",
    "        nick = driver.find_element_by_css_selector(overlays)         # nickname\n",
    "        nickname = nick.text\n",
    "\n",
    "        # 날짜 크롤링\n",
    "        overlays = \".se_publishDate.pcol2\"                                 \n",
    "        date = driver.find_element_by_css_selector(overlays)         # datetime\n",
    "        datetime = date.text\n",
    "\n",
    "        # 내용 크롤링\n",
    "        overlays = \".se-component.se-text.se-l-default\"                                 \n",
    "        contents = driver.find_elements_by_css_selector(overlays)    # contents\n",
    "\n",
    "        content_list = []\n",
    "        for content in contents:\n",
    "            content_list.append(content.text)\n",
    " \n",
    "        content_str = ' '.join(content_list)                         # content_str\n",
    "\n",
    "        # 글 하나는 target_info라는 딕셔너리에 담기게 되고,\n",
    "        target_info['title'] = title\n",
    "        target_info['nickname'] = nickname\n",
    "        target_info['datetime'] = datetime\n",
    "        target_info['content'] = content_str\n",
    "\n",
    "        # 각각의 글은 dict라는 딕셔너리에 담기게 됩니다.\n",
    "        dict[i] = target_info\n",
    "        time.sleep(1)\n",
    "        \n",
    "        # 크롤링이 성공하면 글 제목을 출력하게 되고,\n",
    "        print(i, title)\n",
    "\n",
    "        # 글 하나 크롤링 후 크롬 창을 닫습니다.\n",
    "        driver.close()       \n",
    "    \n",
    "    # 에러나면 현재 크롬창을 닫고 다음 글(i+1)로 이동합니다.\n",
    "    except:\n",
    "        driver.close()\n",
    "        time.sleep(1)\n",
    "        continue\n",
    "        \n",
    "    # 판다스로 만들기\n",
    "    import pandas as pd\n",
    "    result_df = pd.DataFrame.from_dict(dict, 'index')\n",
    "\n",
    "    # 저장하기\n",
    "    result_df.to_csv(\"blog_content.csv\", encoding='utf-8-sig')\n",
    "    time.sleep(3)\n",
    "\n",
    "print('수집한 글 갯수: ', len(dict))\n",
    "print(dict)"
   ]
  },
  {
   "cell_type": "code",
   "execution_count": 42,
   "metadata": {
    "id": "aw9T8hPW-kvu",
    "outputId": "afb45d8f-9a0d-442f-a02a-f848f1ce8e6f"
   },
   "outputs": [
    {
     "data": {
      "text/plain": [
       "{1: {'title': '합정 홍대 라멘맛집 오레노라멘 미쉐린2022 선정 (주차팁)',\n",
       "  'nickname': '잇츠마인\\n(love_od)',\n",
       "  'datetime': '2022. 6. 18. 16:00',\n",
       "  'content': '홍대 라멘맛집이라고 검색이 더 많이되고있지만\\n실제로는 합정역에서 더 가까운 오레노라멘 본점,\\n구리구리한 날씨에도 오픈런한 손님들로\\n11시에 이미 만석이었던터라 놀랐다ㅋㅋ\\n원래 계획은 은평점으로 갈까하다가 도착시간\\n겨우 5분차이라 걍 이왕먹을꺼 본점으로\\n가보자해서 차타고 합정으로 달려옴ㅋㅋ 노상공영주차장에 주차한 후 도보로\\n한 2분정도 걸어서왔고, 매장입구는 2층에\\n있어서 1층에선 대기의자에 사람들이\\n앉아서 번호가 호출되길 기다리고있었다!\\n(공영주차장 위치와 주차요금안내는\\n글 하단부에 기재해두었습니다) 처음 방문한다면 그저 대기의자에 앉아\\n기다리고만있을게아니라 바로 2층에 보이는\\n키오스크를 이용해 주문과 결제를 미리하고\\n영수증에 번호표가 같이 딸려오기때문에\\n버리지말고 본인 번호표를 확인한 후\\n직원이 번호를 호출하면 작은표를 주면된다\\n(아래 사진처럼 주문번호가 곧 본인의\\n대기번호이기때문에 이 번호로 호출됨) 홍대 라멘맛집이라는 합정 오레노라멘은\\n여기 본점외에 망원, 은평, 인사, 강남, 송파에도\\n분점을 갖고있고 모든 매장이 아래 메뉴판처럼\\n메인메뉴가 4개로만 간단하게 운영되고있다!\\n사이드메뉴로 뭐 가라아게라던지 교자만두\\n이런 튀김류는 없고, 라멘에 추가할수있는\\n삼겹차슈두장, 반숙계란추가, 병맥주,\\n콜라, 하이볼 등을 추가로 주문할수있다 처음 방문한 곳이다보니 뭘 먹어야할지\\n망설여진다면 키오스크 바로 왼편에 붙어있는\\n메뉴 이미지가 첨부된 메뉴판을 참고하면\\n주문하기 훨씬 수월하고, BEST라고\\n적혀있는 토리 빠이탄 라멘이 1순위로\\n제일 인기가 많고, 빠이탄의 매운버전인\\n카라 빠이탄 라멘, 토리쇼유라멘,\\n토리시오라멘 이렇게 라멘종류만 네가지다 사실 홍대 라멘맛집으로서만 유명한게 아니고\\n미쉐린 가이드 서울 2022에 선정됬을만큼\\n신동우 셰프의 노하우와 열정을 엿볼수있고\\n매력적인 진한 닭육수의 토리 빠이탄 라멘을\\n맛볼수있는 유일무이한곳이라 더욱 유명한듯하고,\\n일반적으로 진한 라멘육수라하면\\n돈코츠라멘을 떠올리기 쉬운데 이곳은 특별하게\\n닭육수를 사용해 오레노라멘을 만든다고하니\\n방문하기 전부터 무척이나 기대했던 곳이다 주문 후 아래 1층 대기의자에 앉아서\\n기다리다가 직원분께서 번호를 호출해주셔서\\n2층으로 올라갔더니, 매장 바로 앞에\\n놓여져있는 대기의자에 앉아 잠깐만\\n기다려달라고하셨다ㅋㅋ 오레노라멘 본점은\\n특히나 주말에는 대기가 헬이라고\\n익히 들었던터라 꽤 힘들겠구나했는데\\n생각보다 대기도 그렇게 오래걸리지않았고\\n대기할만한 장소가 1층에 잘 마련되어있어\\n그렇게 큰 불편함은 딱히 없었다 잠깐 기다린후 매장으로 들어갔고\\n매장입구에는 오픈키친형태로 라멘을\\n만드는 모습을 볼수있는 바형태의 테이블이\\n눈에 들어왔고 자리만 여유가 되었다면\\n저 자리에서 먹고싶었다 ㅋㅋ 우리가 안내받은\\n테이블은 아래사진에 보이는 홀이었고\\n2인뿐만아니라 4명 6명 이렇게까지\\n많이들 찾아오셔 드시는 모습에 놀람ㅋㅋ 시원한 통유리가 매력적인 홍대 라멘맛집\\n오레노라멘 본점에서 아까 오자마자 미리\\n선주문을 넣어둔터라 착석하고 5분도안되어\\n주문했던 토리 빠이탄 라멘이랑\\n카라 빠이탄 라멘 두그릇이 나왔고,\\n테이블마다 피클이 준비되어있어서 필요할때\\n부족할때마다 덜어 먹을수있어 편했다 아래사진의 윗쪽이 우윳빛의 진한 육수가\\n매력적인 빠이탄이고 아래 살짝\\n매운맛이 가미된게 카라빠이탄이다!\\n닭육수로 어떻게 진한맛을 낼수있을까,\\n돈코츠보단 밍밍하지않을까했는데 ㅋㅋ\\n어후 국물 첫술에 이미 게임오버다!\\n진하면서도 고소한 맛이 무척 매력적임 위 사진에 보이는 차슈는 우리가 추가로한거라\\n들어가있는거고 기본적으로는 차슈가\\n들어가지않고 닭가슴살만 토핑되어 나오는듯!\\n오빠는 반숙달걀을 하나 더 추가해서\\n두알이 들어가있고, 뻑살을 심하게\\n싫어하는 나로서는 닭가슴살이 퍽퍽하진\\n않을까했지만 수비드로 조리되었는지\\n무척이나 촉촉하고 보드라워서 정말 맛났다 합정역에서 더 가까운 홍대 라멘맛집인\\n오레노라멘 본점에서 맛보는 진하고\\n고소한 육수가 매력적인 빠이탄라멘 !\\n면이랑 밥은 원하는만큼 추가가되는데\\n워낙에 메인자체가 양도 푸짐하고 훌륭해\\n면추가는 무리였다ㅋㅋ 오빠는 육수가\\n맛나다고 밥까지 곁들여먹던데 맛있긴하나봄 카라 빠이탄 라멘은 뭐 심각하게\\n마라탕처럼 맵고 자극적이고 짜고 그런\\n인위적인 맛이 아니라 좋았고, 적당히 매콤하니\\n진한 닭육수의 맛이 죽지않고 느낄수있어\\n나름 맛있게 먹었다! 수비드 닭가슴살이\\n기본으로 토핑이되어 나오니 꽤 푸짐하게\\n넉넉하게 즐길수있고, 차슈추가하면 기본이\\n2장인데 만약 상대방이랑 나눠서\\n넣어달라하면 센스있게 그릇마다 한장씩\\n나눠 넣어주시니 사전에 미리 요청드리면된다 꾸리꾸리한 날씨였지만 오레노라멘 본점에서\\n너무 맛있는 식사를 하고나와 하루종일\\n기분이 좋았다ㅋㅋ 다음에도 재방문하고싶고\\n일단 노상공영주차장이있어서 주차스트레스가\\n없어 부담없이 언제든 방문할듯싶다!\\n홍대 라멘맛집을 알아보고있다면 수비드\\n닭가슴살이 토핑되어올라간 진한 닭육수가\\n매력적인 토리 빠이탄 라멘을 추천한다 :) ★ 합정 홍대 라멘 오레노라멘 본점 주차안내\\n주차장은 별도로 마련되어있지않습니다!\\n네비에 당인노상공영주차장을 검색한후\\n노상주차하시고 라멘집은 도보 2분거리에있어요\\n(노상주차장 비용/요금 : 5분당 300원) 서울 마포구 독막로6길 14 (합정동 361-1)\\n(합정역 7번출구에서 400m 거리에위치)\\n영업시간 11:00~21:00 (20:30 라스트오더)\\n연중무휴 운영중이며 휴무시 인스타 공지 예정\\nTEL 0507-1375-3539\\n#홍대라멘맛집 #합정라멘맛집 #오레노라멘본점\\n#합정오레노라멘 #홍대오레노라멘 #오레노라멘\\n#미쉐린2022 #합정맛집 #홍대맛집\\n#카라빠이탄라멘 #토리빠이탄라멘'},\n",
       " 2: {'title': '홍대 합정 맛집 포36거리 월남쌈 쌀국수 세트 추천!',\n",
       "  'nickname': '먹슬지',\n",
       "  'datetime': '2022. 7. 14. 0:06',\n",
       "  'content': ' 먹슬지입니다~~👋\\n오늘은 월남쌈이 먹고 싶어서 찾아갔던\\n홍대 합정 맛집 소개해볼까합니다 :)\\n재방문 의사 만 퍼센트라 주변에 알려주고 싶은\\n베트남 요리 전문점이에요!\\nPho36street\\n포36거리 홍대점\\n홍대 합정 맛집 / 합정 쌀국수 / 합정 월남쌈  📍서울 마포구 독막로3길 29 화이트하우스 1층\\n⏰ 매일 11시 30분 ~ 22시\\n✔️ 브레이크 타임 없음\\n☎️ 02-323-4036 합정역 5번 출구로 나와서 홍대 핫플인 솔내길 근처에서\\n한번만 꺽어주면 큰 길가에 있어서 금방 찾을 수 있는 식당이에요 포36거리는 사이드 쪽으로\\n예쁘게 꾸며진 테라스도 있더라구요\\n테이블이 따로 있지는 않았고\\n등불 장식이 화려해서 사진 찍기 좋은 포토존 느낌이었어요!\\n그리고 쭉 들어가면 의자가 있는걸로 봐서\\n내부에 자리가 없을 땐 웨이팅하는 공간인듯해요~ 사람이 무진장 많았던 합정 쌀국수 맛집👍\\n왼쪽 라인은 쭉 연결된 단체석이었는데요\\n팀으로 다같이 방문하신 손님분들이 식사하고 계셨어요 안쪽에 아늑한 공간이 따로 있었는데\\n여기는 2인 테이블이라서\\n혼밥하시는 분이랑 커플 이렇게 두팀 있었습니당 베트남 여행갔을 때\\n잘 꾸며진 현지 식당들도 이런 느낌이었는데\\n여행 향수를 불러일으키는 인테리어였어요!\\n노랑노랑한 색감 때문에 호이안 생각이 나더라는~ 메뉴판이에요\\n쌀국수 종류 외에 덮밥 메뉴도 있더라구요!\\n저는 월남쌈을 판다는 점도 맘에 들었어요 :) 참고로 미니 덮밥이 있어서\\n쌀국수를 메인으로 맛보기처럼 곁들일 수도 있구요\\n사리 추가가 무료라 면은 맘껏 먹을 수 있는 곳이랍니다\\n근데 기본으로 나오는 쌀국수 양이\\n이미 푸짐해서 저는 면추가 안해도 든든했어요\\n지이인짜 잘 드시는 분들이라면 리필 도전해보시길! 테이블 기본 세팅이구요\\n필요한 것들은 이미 다 올려져 있으니까\\n자리에 앉아서 주문만 하면 되더라구요 그리고 포36거리에서는\\n물 대신 따뜻하고 향긋한 자스민차가 나왔어요~ 월남쌈 + 쌀국수 2인 세트 35000원 2인 세트로 시켰는데\\n막상 받고보니 양이 넘넘 푸짐해서\\n세명이서 먹어도 되겠더라구요?\\n가성비까지 최고였던 홍대 합정 맛집이에요! 칠리랑 해선장은 테이블 위에 올려져 있어서\\n추가로 더 리필해서 먹을 수 있구요\\n땅콩 소스 같은 것들은 요청하면 더 주셔요 엄청난 비주얼로 등장!\\n고기도 넉넉하고 채소도 다채로워서 맛있게 잘 만들어 먹었어요 새콤한 과일류랑 토마토도 있어요~\\n조금씩 같이 넣어주니 새콤하게 맛을 돋워줘서 좋았어요 먹다보니까 채소 아래에 면도 있는 거예요?!\\n중안에 면에 뿌려 먹으라고 소스를 가져다 주셔서 알았어요 ㅋㅋ\\n월남쌈 적당히 만들어 먹다가 볶음 국수처럼 비벼서 먹었습니당 월남쌈 맛집..👍👍\\n야채 좀 먹어야겠다 싶을 때면 종종 가야겠어요\\n이렇게 만들어 먹으니까 채소 술술 들어가요\\n이렇게 집에서 재료 다 준비하려면 번거로우니 와서 먹기로! 살면서 먹어본 쌀국수 중에서\\n가장 입에 잘 맞고 맛있었던 곳 ☺️ 현지에서 먹었던 것보다 향신료가 강하지 않아서 좋았고\\n소고기 베이스 육수라 친근한 맛도 있어서 입에 잘 맞았어요\\n고기랑 숙주랑 면도 그릇에 꽉꽉 담아주셔서\\n혜자스러운 양에 감탄.. 다 먹고 국물까지 드링킹..육수가 정말 깊어요\\n이런게 바로 진국이죠 양이 많아서 조금 남기기는 했지만 ㅠㅠ\\n맛있는거 먹고 올라오는 기분 좋은 포만감 굳 👍\\n원래 베트남 요리를 그렇게 좋아하는 편은 아니라서\\n그냥 월남쌈 먹을 생각으로 방문했던건데\\n쌀국수까지 너무 맛있어서 찐으로 감동했어요 ㅋㅋ 쌀국수에 월남쌈도 시켜 먹을 수 있는 베트남 식당!\\n홍대 합정 맛집 포36거리 한번 가보세요~~~ #홍대합정맛집 #합정맛집 #합정쌀국수 #합정월남쌈 '},\n",
       " 3: {'title': '홍대 씨부엉 통문어가 들어간 중화풍 즉석떡볶이 맛집',\n",
       "  'nickname': '바카',\n",
       "  'datetime': '2022. 7. 8. 7:00',\n",
       "  'content': '홍대 미대 나온 염님을 보필하고 사는 노예 바카님이라\\n가끔씩 염님 추억팔이하러 홍대 나들이를 간다.\\n요즘 탄수화물 줄이고 사람답게 살고자 노력하는 우리 부부가\\n해산물이 들어갔으니까 괜찮겠지? 하고\\n전부터 궁금했던 즉석떡볶이 홍대 맛집 씨부엉에 방문\\n통문어와 가리비, 홍합 등이 불향 솔솔 중화풍 매운 소스가 매력적인 즉떡집이라\\n소주 생각나서 힘들었던... 홍대 골목에 숨은 작은 업장이라 주차장은 당연히 없다.\\n홍대의 비싼 유료주차장들이 가득한데\\n그래도 어디 주차장 추천하냐하면 홍대3,4 공영주차장이 제일 낫다.\\n1,2 공영주차장은 현재 없어졌으니 나처럼 갔다가 헛탕치지 않기를... T맵에는 있는 홍대1공영 2공영주차장은 현재 이렇게 공터로 그냥 덩그라니 변신해있다.\\n코로나가 어느정도 지나가서인지 사람들 꽤 있더라. 홍대 씨부엉 등장, 카미야 2층에 위치해 있다. 왜 씨부엉이냐? 열받고 속상한 일이 있을때 매콤한 떡볶이가 대신 \"씨부엉~!\" 육해줘서\\n유쾌한 위로를 받았으면 좋겠다는 바람으로 만들어진 떡볶이 주점이라고 한다.\\n다음엔 저녁에 술이랑 콸콸해서 씨부엉! 외치며 취해봐야지 작은 업장이다. 가운데에 악기들과 소품샵이 넓게 차지하고 있어서 갸우뚱? 했는데 홍대 젊은이들의 열정을 응원하는 젊은 사장님이 본인의 이익은 1도 없이 무료로 장소 제공하여\\n홍대 학생들이 직접 만든 소품들의 플리마켓과 버스킹 악기를 무료로 대여하는 활동을 하시는 홍대 맛집\\n그리 크지 않은 업장, 테이블 늘리려서 손님 더 받으려는 것이 아니라 이 지역에서 요식업을 하시면서\\n일부분은 홍대라는 공간을 유지하는 젊은이들에게 다시 돌려주는 이런 센스있는 움직임 너무 멋있어서 박수 짝짝짝 떡볶이 맛있게 먹는 방법은 위와 같다. 서버분이 친절하게 즉석떡볶이 가져다 주시면서\\n구두로 안내해주시기도 한다. 씨부엉 메뉴 및 가격을 살펴보면 해산물과 중화풍 불향의 매콤한 씨볶이가 시그니쳐 메뉴라고 해서 주문\\n기본 즉석떡볶이 자체에 튀김, 쫄면, 문어 등 해산물이 푸짐해서 토핑은 추가하지 않았으나\\n치킨귀신 염님은 가라아게를 주문, 미트로제떡볶이는 신메뉴인가보다.\\n로제를 우리부부 둘다 좋아하긴하나 지금은 시그니쳐 먹고 다음에 먹어보기로 얼을 동동 떠있는 엄청 차가운 생수와 얇게 슬라이스 된 단무지 맛살튀김 2개, 야끼만두 2개, 김말이 2개\\n통문어 반마리, 홍합, 가리비, 떡, 오뎅, 쫄면 등장 매운맛을 선택가능한데 보통-매운맛-아주매운맛 3단계인데 그 중 가장 덜매운 보통맛으로 주문\\n신라면 정도의 맵기인데 딱 좋았다. 보통과 매운맛 사이정도도 가능하다하니 참고하자 큼직한 문어가 살짝 익혀져서 나온다.\\n홍대 맛집 씨부엉 사장님이 튀김류를 넣고 끓이면 국물이 텁텁해지니\\n따로 꺼내놓고, 떡볶이가 다 끓으면 찍먹을 추천해주셨다. 말 잘듣는 우리, 그리고 통문어는 육수에 살짝 잠기도록 하여 해산물과 함께 한소큼 끓여야\\n그 맛이 우러나서 즉떡의 맛이 더 살아난다고 한다. 치킨 가라아게까지 나오고, 씨볶이도 다 끓었으니 먹자! 제품이 아니라 간장 숙성하여 주문시 직접 바로 튀겨낸다는데 진짜 겉바속촉의 정석으로\\n닭다리살인지 속살이 엄청 부드럽고 간도 딱 좋다. 생맥주 땡겼으나... 꾹 꾹 참았다...\\n밑간 잘된 맛깔난 닭튀김 빙술은 칵테일술인데 당분간 금주였던 날이라 논알콜 되신다고 하여\\n기분내기위해 탄산음료 대신 주문, 가게 한켠에서 솜사탕 기계를 돌리고 있는 직원분이 계셔서\\n부업으로 솜사탕도 만들어파시나했더니 홍대 맛집 씨부엉의 빙술 위에 솜사탕이 들어가는 것이였다. 시트러스한 맛, 블루레몬에이드 느낌의 탄산탄산하고 살얼음낀게 여름이랑 딱 맞고\\n불향의 중화풍 즉석떡볶이랑도 잘 어울리는데 논알콜로 먹어서 감흥이 줄었다. 꼭 술을 세게 타달라고 요청하자! 게맛살은 튀김 그 자체가 맛있어서 끓을 동안 먼저 먹으면 좋고\\n야끼만두나 김말이는 자작한 씨볶이 소스에 찍어먹기를 추천 개인적으로 라면, 우동보다 쫄면이나 당면사리를 사랑하는데\\n기본이 졸면이라 너무 좋았다. 해산물과 문어가 소스에 배어서인지 더 입에 쩍쩍 붙는 느낌 중화풍의 불맛이 올라와서 볶음짬뽕느낌도 난다. 역시나 문어가 주인공으로서 쫄깃하고 맛깔나기에\\n떡, 오뎅, 홍합 등 홍대 맛집 씨부엉의 시그니쳐 씨볶이의 중심을 잡아준다.\\n떡볶이보다는 해물짬뽕탕 묵직하게 잘하는 집 온 느낌도 난다. 아까 빼놓았던 바삭바삭함이 살아있는 김말이, 야끼만두는 이 진해진 엑기스 소스에 찍먹하면된다.\\n이 튀김도 찍먹파와 담가놓고 먹는 부먹(?)파가 있는데 취향에 따라 도전하자 씨부엉이 홍대 맛집으로 우리 부부에게 인정받으려면(사장님이 인정을 원하신지는 미지수다.) 마지막 관문 볶음밥을 통과해야한다. 치즈사리는 추가해서 도전도전 처음에 이게 모야? 했던 치즈사리가 진짜였다. 진짜다. 제대로다. 요즘 떡볶이집, 닭갈비집들이 기본 소스가 가진 맛보다 그냥 김치볶음밥 느낌으로 따로 볶아주시는 느낌인데\\n씨부엉은 레알 남긴 소스를 100% 활용해서 김가루와 참기름 정도만 더한 느낌이라 진짜 내가 먹던 떡볶이의 소스엑기스가 중요한 대목이다. 너무 맛있다. 안돼는데 안돼는데 탄수화물 안돼는데 하면서 둘이 싹싹 긁어먹었던 기억 탄수화물 참다가 오랜만에 염님 추억의 동네 돌아다니며 오락실도 가고, 까이막도 사먹고,\\n젊은이들 잘가는 화려한 통문어 비쥬얼의 해물 떡볶이, 씨부엉\\'s 씨볶이도 즐겼던 이야기\\n맛있게 먹는 방법과 메뉴 하나에 고민이 들어간 튀김, 해물, 쫄면, 떡, 오뎅의 조화 디테일이\\n맛살튀김먹고, 쫄면먹고, 해산물과 떡볶이 먹고, 튀김 소스에 찍어먹고, 볶음밥까지 물흐르듯이 흘러가는 것이\\n작은 업장이지만 철학이 있고, 홍대 자유로운 영혼들을 위한 플리마켓과 버스킹 악기 무료대여까지\\n여러모로 응원하고 싶은 업장이라 기분좋게 후기 및 영수증리뷰까지 마무리, 로제떡볶이 먹으러 또 갈께요! 홍대씨부엉 씨볶이 치킨가라아게 빙술\\n주소 : 서울 마포구 와우산로21길 28-6(서교동 358-39)\\n전화번호 : 0507-1378-5253\\n영업시간 : 오전11시~자정(밤12시)\\n주차 : 불가능, 홍대3,4 공영주차장에 주차했음 #홍대씨부엉 #씨부엉 #바카블로그 #홍대즉석떡볶이 #홍대맛집 #홍대술집 #홍대즉떡'},\n",
       " 4: {'title': '홍대 고기집 합정 맛집 고기꾼김춘배 친절하고 맛있음',\n",
       "  'nickname': '미니미엄빠',\n",
       "  'datetime': '2022. 6. 30. 11:16',\n",
       "  'content': \"#홍대고기집 #합정맛집\\n고기꾼김춘배 홍대본점 홍대 거리에서 너무나도 유명한 고기집 고기꾼김춘배에 다녀왔어요. 직원분들이 매우 친절하고 고기까지 맛있어서 평이 굉장히 좋은 합정 맛집인데 역시 평이 좋은데는 다 이유가 있더라고요. :)  홍대 고기집 고기꾼김춘배 홍대본점은 지하철 홍대입구역 9번 출구와 합정역 3번 출구 중간에 위치해있어 어느 역에서 가던 도보 10분 이내면 도착할 수 있어서 접근성이 좋았어요. 건물 구조가 꽤나 특이했는데 계단을 통해 3층으로 올라가니 홍대 고기집으로 통하는 비밀 통로 같은 느낌 물씬 나는 입구가 나타났답니다. 예전에 우리나라에 화로구이 고기집이 처음 막 생겼을 때의 그 느낌을 그대로 간직해서 더욱 반가웠던 홍대 합정 고기집 고기꾼김춘배. 일요일 낮이었는데 맛있는 고기에 낮술 즐기러 오신 분들이 생각보다 훨씬 많았어요. 테이블 간 칸막이가 설치되어 있어서 주변 테이블 신경을 덜 쓸 수 있게 해놓아서 좋았고, 직원분들이 바쁜 와중에도 친절하게 응대해 주시고 열심히 정리 정돈하셔서 그런지 천장이 낮은 편인 고기집이었지만 답답함이나 끈적임 등 없이 쾌적했네요.  홍대 고기집 고기꾼김춘배 밑반찬은 명이나물과 백김치, 양파절임으로 종류는 단출했지만 세 가지 모두 고기와 잘 어울려서 계속해서 손이 갔어요. 반찬 종류가 다양하고 푸짐한 고기집도 물론 좋지만 가성비 좋은 가격대에 고기에 집중하고 반찬은 이렇게 꼭 필요한 것들 위주로 내어주는 고기집도 참 좋은 것 같아요. 홍대 합정 맛집 고기꾼김춘배에서 고기 찍어 먹을 소스는 소금, 쌈장, 갈치속젓(?), 마늘소스 이렇게 4가지가 나왔는데요~ 저는 고기가 맛있으면 거의 기본 소금에만 찍어 먹기 때문에 다른 소스들은 맛보지 않았어요. 이 말인즉슨 여기 고기집 고기가 맛있었다는 뜻이 되겠죠?!ㅎㅎ 남편은 다른 두 가지 소스가 맛있다고 많이 찍어 먹더라고요. 점심시간이 약간 지난 시간에 방문했던지라 배가 너무 고팠던 관계로 메뉴판 사진은 패스했는데 합정 맛집 고기꾼김춘배에서는 돼지고기와 소고기 다양한 부위를 판매하고 있어서 고르는데 은근 고민이 됐어요. 우선 돼지고기 맛집으로 유명한 홍대 고기집인만큼 오겹살, 목살, 갈비살로 구성된 '돼지 한주먹'을 먼저 주문했어요. 두툼하고 큼지막하게 썰려 나온 홍대 합정 맛집 고기꾼김춘배의 돼지 한주먹이에요. 딱 봐도 신선하다고 느껴질 만큼 고기 질이 좋았고 살코기와 지방 양의 밸런스도 좋아서 구웠을 때 굉장히 고소했답니다. 잘 피워진 숯불 화로에 가장 먼저 돼지 갈비살을 굽고 서빙할 때 알려주신대로 목살과 오겹살을 차례대로 구웠어요. 한가한 시간에는 직원분이 고기도 구워주신다고 들었는데 이때는 손님이 많아서 저희가 구워 먹었어요. 돼지갈비는 대부분 뼈가 붙은 상태로 구워서 먹는데 홍대 합정 맛집에서는 뼈와 분리된 갈비살을 판매하고 있어서 신기했어요. 갈비살이 생각보다 탱탱하면서도 쫄깃한 식감이라 의외였고 먹으면 먹을수록 매력 있는 부위더라고요. 목살은 갈비살보다 부드러운 식감이 돋보였고 안에 육즙을 가득 머금고 있어 돼지고기의 고소한 풍미가 아주 좋았어요. 예전에는 목살은 퍽퍽하다는 선입견이 있어서 삼겹살이나 오겹살을 더 좋아했었는데 요즘은 목살도 너무 맛있더라고요. 고기집에서 돼지고기를 셀프로 구워야 할 때는 두툼하게 썰려 나온 고기를 통째로 앞뒤로 뒤집고 겉이 바삭하게 익었을 때 고기를 잘라줘야 육즙 손실이 최소화되어서 겉바속촉하게 구워지니 미리 너무 잘게 자르지 않는 게 맛있게 굽는 꿀팁! :) 고소하고 쫄깃했던 홍대 합정 맛집 고기집김춘배 오겹살까지 넘넘 맛있었어요. 숯불 화로에서 맛있게 고기 구워지는 모습은 영상으로도 보여드릴게요. ▼클릭 ▼  먼저 주문한 돼지 한주먹 고기 중량이 500g이어서 배가 슬슬 불렀지만 가성비 좋은 미국산 소고기도 판매 중이어서 1인분만 추가해서 먹어보기로 했어요. 돼지고기랑 소고기 같이 파는 고기집 가면 왠지 어느 게 더 맛있을지 궁금하잖아요.ㅎㅎ 이미 돼지고기를 꽤나 먹은 상태라 소고기는 기름기가 적은 부위인 갈비살을 주문했는데 단백하고 부드러워서 부담없이 먹기 좋았어요. 그래도 역시 합정 홍대 맛집 고기꾼김춘배는 국내산 生 돼지고기가 최고인 것 같아요. :D 고기 먹을 때 곁들이면 좋은 뜨끈뜨끈한 계란찜은 굉장히 부드러워서 아주 맛있었고요~ 특이하게 반반씩 나오는 반반냉면이 있어서 주문해봤어요. 고기집에서 비냉 먹을까 물냉 먹을까는 항상 어려운 고민인데 한방에 해결해줬던 홍대 고기집! 맛과 친절함으로 홍대에서 오랫동안 사랑받고 있는 홍대 고기집 고기꾼김춘배. 기대했던대로 맛있었고 친절함 덕분에 더욱 기분좋은 식사할 수 있어서 좋았어요. 다음에 홍대 가면 또 찾고 싶은 합정 맛집이었네요.  \"},\n",
       " 5: {'title': \"ㅣ홍대맛집ㅣ서교동맛집 '스테이크 슈퍼' (+어린이메뉴)\",\n",
       "  'nickname': '몽쉘미쉘\\n(xxchocoxx)',\n",
       "  'datetime': '2022. 7. 8. 10:41',\n",
       "  'content': \"스테이크 슈퍼 http://instagram.com/steaksuper_official 안녕하세요 :-)\\n미쉘입니다 ~ >_<\\n수요일 외식데이를 맞이하여\\n이번주에 방문한 곳은\\n상상마당 근처에 위치한\\n스테이크 슈퍼랍니다 ! 홍대입구역에서 도보 8~9분정도 거리,\\n합정역에서 6분 정도 거리에 위치해있구요 ~\\n뚜벅이인 전 마포 마을버스 08번을\\n타고 갔답니다 ㅎㅎ 식당 외부에 간단하게\\n메뉴판이 있어서 무얼 먹을까\\n한번 훑어보고 외관을 보았어요. 한 눈에 봐도 넓어보이는\\n서교동맛집 스테이크슈퍼 ♥  힙한 느낌의 외부 인테리어 '-' 요즘 사진만 찍으려고 하면\\n본인도 같이 찍겠다고 불쑥\\n튀어나와서 .. 배경에 같이 찍힌 코미..  STEAK SUPER 서울 스테이크 슈퍼 1층은\\n미국에 있는 어느 식당같은\\n느낌의 인테리어였어요. 언제든 자유로이 가져다 마실 수 있는\\n식수도 마련되어 있었구요 ~! 매장 내부가 테이블 간격도 넓고\\n공간들이 널찍해서 좋았어요.   스테이크 슈퍼는\\n1층은 쇼룸\\n2층은 헤드 오피스와 디자인 룸\\n3층은 루프탑으로\\n이루어져있었는데요 ~ 저희는 2층으로 안내받아\\n올라갔어요. 2층은 파티해도 될 정도로 더 넓은 공간에\\n통창으로 뷰도 탁 트여서 좋더라구요 ~!\\n저희가 방문한 날 어린이들 파티가 실제로\\n있기도 해서 단체모임 하기에도 좋고\\n아이들 파티해 줄 공간으로 사용해도 좋을듯했어요. 저희가 안내받은 자리인데요 ~\\n3명이서 거의 6인용 식탁에 앉다보니\\n넓게 사용할 수 있어서 좋았어요.  스테이크 슈퍼 2층의 숨어있는 공간들 '-'\\n커튼을 치게 되면 프라이빗한 공간으로\\n식사를 할 수 있어서\\n프라이버시 중요한 사람들이나\\n긴밀한 얘기를 하며\\n식사를 해야하는 사람들에게\\n딱 좋을 것 같았어요.  스테이크 슈퍼라는 이름답게\\n스테이크도 여러 종류가 있어서\\n고민이 됐었지만,\\n신랑이 워낙 허니 갈릭을 좋아하고,\\n인기메뉴라고 적혀있어서\\n허니갈릭 스테이크와\\n코미를 위한 어린이메뉴 !\\n어린이볶음밥,\\n감자튀김을 주문하였어요. 한 번에 깔끔하게 플레이팅 된\\n한 상 차림 ★ 감자튀김 말모말모\\n(말해모해말해모해)\\nㅋㅋㅋㅋㅋㅋ\\n햄버거 가게의 얇고 짠\\n감튀가 아니라 조금 통통한 감튀라서\\n감자맛도 느껴지고 맛있었어요. 코미가 먹을 어린이볶음밥 !\\n어린이메뉴인 이 어린이볶음밥은\\n계란볶음밥이었는데요 ~\\n어린이를 위한 메뉴다보니 짜지않고\\n아이가 먹기에 딱 괜찮았어요. 허니갈릭 숙성스테이크는 이름답게\\n스테이크 위에 허니갈릭이\\n마구마구 얹어져있었고,\\n한국인이다보니 그냥 일반적인\\n스테이크만 먹는게 아니라\\n허니갈릭을 같이\\n먹어보니 넘 맛있더라구요 ~~\\n거기다 스테이크 소스 /\\n홀그래인 머스타드 소스 / 홀스래디쉬 소스\\n총 3가지의 소스가 있다보니\\n종류별로 돌아가면서\\n찍어먹는 재미도 있었어요. 보통 스테이크라 하면\\n거의 손가락 수준으로 나오는데\\n스테이크 슈퍼의 허니갈릭 스테이크는\\n주먹 수준의 크기로 나와서\\n잘 먹는 신랑과 제가\\n흡족해하며 배부르게 먹었답니다. 크.. 감자와 허니갈릭을 얹은\\n스테이크 한 점 ★ 정말 티끌도 남기지 않고\\n깨끗하게 싹쓸이했답니다 '-'\\n만족스러웠던 식사 !!   아기 식기류도 따로 챙겨주시고,\\n아기 의자도 구비되어 있고,\\n거기다 어린이메뉴인 어린이볶음밥까지\\n있으니 아이와 함께\\n외식하기에 좋은 곳이었어요.\\n+ 사장님의 스윗한 친절함까지 더해져서\\n알차고 행복했던 저녁 한 끼였답니다. 홍대입구역, 합정역, 서교동,\\n상상마당 근처에서\\n스테이크 or 파스타가 땡길 땐\\n스테이크 슈퍼를 재방문해야겠어요 !~!  #홍대맛집 #홍대스테이크 #홍대스테이크맛집\\n#홍대상상마당맛집\\n#홍대파스타맛집 #합정역맛집 #합정파스타\\n#합정역파스타 #서교동맛집\"},\n",
       " 6: {'title': '[홍대 맛집] 홍대의 일본식 야끼카레 맛집, 비스트로 큐슈',\n",
       "  'nickname': '템포',\n",
       "  'datetime': '2022. 6. 19. 8:50',\n",
       "  'content': '다양한 맛집이 많이 있는 홍대\\n매번 홍대에 갈 때마다\\n너무나도 많은 맛집들이 있어서\\n무엇을 먹어야 할지 고민에 빠지고는 하는데요\\n이번에는 홍대 맛집 중에서\\n홍대 중심에서는 조금 떨어져 있는 곳\\n홍대입구와 서강대역 사이에 위치한\\n일본식 카레 맛집을 소개해 드려보고자 합니다.\\n이번 포스팅\\n홍대의 일본식 야끼카레 맛집\\n비스트로 큐슈\\n입니다. 홍대 거리에서 서강대역 쪽으로 가다 보면 중간쯤에 위치한 비스트로큐슈\\n위치가 위치인지라\\n그동안 가본 적이 없는 곳이었는데\\n조금 더 위치를 쉽게 말하자면\\n와우산 아래\\n홍대의 유명 빵집 아오이토리 길 건너편 쪽 골목에 위치해있었습니다.\\n식당 자체는 크지 않았지만\\n생각보다 인기가 있는지\\n제가 갔을 때는 대기가 있었고\\n제 뒤로도 많지는 않지만\\n꾸준하게 1~2팀 정도씩 대기가 있는 모습을 볼 수 있었습니다. 입구 앞에 있던 입간판에는\\n크게 대표적인 메뉴 몇 가지가 적혀있었습니다. 대기하는 동안 가져다주신 메뉴판\\n대기하는 동안에 이 메뉴판을 보고 메뉴를 먼저 주문을 할 수 있었습니다.\\n메뉴는 크게 야끼카레 종류와 카레, 시금치 카레\\n그리고 토핑으로 구성되어 있었습니다. 뒤 페이지에는 주류와 음료 메뉴가 있었습니다.\\n저는 여기서 한눈에 끌린 타코야끼카레와\\n훈제 삼겹야끼카레 이 두 가지를 주문했습니다. 조금 기다리다가 자리가 나서 들어간 비스트로큐슈\\n매장은 밖에서 봤던 대로 매우 작았습니다.\\n테이블도 5개 정도밖에 되지 않아서\\n조금만 사람이 몰려도 대기가 생길 수밖에 없는 구조였습니다. 기본 밑반찬은 김치와 무피클\\n이렇게 두 가지가 준비되었습니다. 대기하는 동안 주문을 해서인지\\n그렇게 오래 기다리지 않고서 주문한 메뉴가 준비되었습니다.\\n문어가 들어간 타코야끼카레\\n타코야끼라고 하면 흔히 둥그런 문어빵을 생각하는 게 일반적이라서 그런지\\n처음에 주문 전에는 타코야끼가 들어간 카레라고 생각하고 주문했는데\\n메뉴가 나오고 나서는 처음 했던 생각이 착각이었음을 곧바로 알아차릴 수 있었습니다.\\n흔히 생각하는 타코야끼가 들어간 게 아닌\\n구운 문어가 들어간 타코야끼카레\\n받고 나서 생각을 해보니\\n타코야끼라는 단어 자체가\\n문어를 구운 것이라는 의미였기에\\n단어 자체는 틀린 게 전혀 없었던\\n그러면서도 둥근 타코야끼가 나올 거라고 생각했던 것과는 조금 달랐던 메뉴였습니다.\\n어찌 되었든 생각했던 것과 다를 뿐이지\\n메뉴 자체에 잘못된 부분은 없기에\\n그대로 먹어보았습니다.\\n맵기는 신라면 정도의 맵기라는 기본으로 해서 먹어보았습니다.\\n생각보다 매콤했던 타코야끼카레\\n치즈와 문어가 가득한 카레는\\n처음에 강황의 향이 생각보다 강하게 느껴졌습니다.\\n거기에 쫄깃한 문어의 맛과 짭짤한 맛\\n그리고 불 맛도 있는 게\\n꽤나 맛있었습니다.\\n문어를 좋아한다면 충분히 좋아할 만했던\\n타코야끼카레\\n저처럼 다른 타코야끼를 생각해서 주문을 하실 생각이라면\\n다시 한번 생각해 보시고\\n문어를 좋아한다면 드셔보시기를 추천드리는 맛이었습니다. 또 다른 메뉴 훈제 삼겹야끼카레\\n구운 훈제 삼겹살이 카레 위에 잔뜩 올라간 모습은\\n나온 순간부터 너무나도 먹음직스러워 보였습니다. 마치 두툼한 베이컨 같은 훈제 삼겹살의 맛은\\n훈제 삼겹살 특유의 맛과 식감이 가득했습니다.\\n타코야끼처럼 쫀득한 맛보다는\\n부드러운 맛이 좋았던 훈제 삼겹야끼카레\\n카레 자체는 비슷했지만\\n주 재료에서 오는 차이가 확실히 있었습니다.\\n타코야끼카레가 해산물, 특히 문어를 좋아하는 사람들에게 인기가 있을법하다면\\n이 훈제 삼겹야끼카레는\\n호불호가 크게 안 갈리고\\n누구나 좋아할 만한 맛의 카레였습니다.\\n개인적인 입맛으로도 타코야끼카레보다는 더 맛있게 느껴졌던 메뉴이기도 했습니다.\\n홍대에 있는 일본식 야끼카레 맛집 비스트로큐슈\\n여러 종류의 카레 중에서\\n두 개의 야끼카레를 먹어보았는데\\n둘 다 서로 다른 매력으로 맛있었습니다.\\n신라면 정도라고 했던 기본 맵기가 생각 이상으로 맵기는 했지만\\n그래도 재료 본연의 맛을 잘 드러내고 있던 야끼카레\\n홍대에 다른 맛집들도 많이 있고\\n카레 맛집도 분명 있지만\\n야끼카레가 끌린다면\\n한번 와볼만한 맛집이었습니다.\\n식당이 좁은 만큼 식사시간에 찾아오게 된다면\\n웨이팅을 해야 할 가능성이 높지만\\n너무 오래 기다리는 게 아니라면\\n조금 정도는 충분히 기다릴만한 맛이기에\\n한번 찾아와보는 것도 괜찮을 듯합니다.\\n지금까지\\n홍대의 일본식 야끼카레 맛집\\n비스트로 큐슈\\n이었습니다. '},\n",
       " 7: {'title': \"홍대 맛집 '프리모바치오바치' 빠네 파스타 맛집 (+꿀팁)\",\n",
       "  'nickname': '싱깅\\n(tldrld93)',\n",
       "  'datetime': '2022. 5. 13. 5:30',\n",
       "  'content': '홍대 맛집, 홍대 파스타\\n프리모바치오바치 저번 주 금요일, 쟁의 청첩장 모임이 있던 날😀\\n쟁이 줄리아에게 가고 싶은 곳이 있냐 물었고\\n줄리아와 저는 가게부터 메뉴까지 정해서 통보해줬어요ㅋㅋ 02-323-0098\\n서울 마포구 와우산로23길 44\\n월-일 11:00 - 23:00 홍대 프리모바치오바치는 첫방문이었는데\\n꽤 유명한 곳이더라고요!\\n대학로와 강남에도 있는데 홍대가 본점이에요. 원래는 7시 모임이었지만 웨이팅이 있을 수 있다고 들어서\\n일찍 갔더니 6시 20분에 도착!\\n자리는 널널한 편이었지만 일행이 늦게 와서 6시 40분에 예약을 걸어뒀어요.\\n만약 6시 40분에 대기가 생긴다면 저를 1순위로 들여보내준다고 하더라고요. 6시 40분에 왔을 땐 대기 없이 자리가 널널했어요.\\n2층, 3층을 사용하고 있어서 꽤 넓더라고요.\\n대신 저희가 먹고 나갈 때쯤인 8시에는 대기가 좀 있었어요. 홍대 파스타 맛집 프리모바치오바치 메뉴판입니다💛\\n저희가 고른 메뉴는 삐깐떼 감베로니 피자, 빠네 파스타, 마리나라 리조또 입니다.\\n에이드도 2잔에 8,000원이길래 탄산 2개 시키는 거랑 가격이 비슷해\\n샤인머스켓, 살구망고에이드 2잔으로 골랐어요! 여기서 꿀팁 대방출합니다!!\\n프리모바치오바치를 좋아하는 줄리아가 알려준 건데요~ 이게 따로 메뉴판에 적혀있지 않아서\\n첫 방문하는 저는 모르고 지나갈 수 있었을 것 같아요.\\n너무 당연한 꿀팁이라면 ㅈㅅ~ 식기는 깔끔하네요! 먼저 식전빵이 나왔어요.\\n그냥 빵이겠거니 하고 먹었는데 은은한 마늘맛에\\n엄청 부드러워서 넘 맛있더라고요!!!\\n결국 식전빵 리필해서 또 먹었어요ㅋㅋㅋ\\n이상하게 메인 메뉴 별로 먹은 것 같지 않은데 배가 불렀는데\\n식전빵을 넘 많이 먹었나...? 샤인머스켓에이드와 살구망고에이드가 나왔습니다!\\n에이드맛은 쏘쏘했던 느낌?\\n개인적으로 샤인머스켓 에이드가 더 맛있었어요~ 빠네파스타 14,000원\\n홍대 프리모바치오바치의 대표메뉴라 할 수 있는 빠네파스타!!\\n역시나 맛있어요ㅎㅎㅎㅎ\\n크림도 부드럽고 느끼하지 않아서\\n왜 인기메뉴인지 알 것 같은ㅋㅋㅋ\\n주변을 돌아보니 다들 1테이블 1빠네 하더라고요. 마리나라 리조또 13,000원\\n토마토소스에 해산물이 들어간 리조또예요.\\n맛있긴 했는데 리조또 뜰 때 해산물도 같이 퍼지니 불편하긴 했어요!\\n다같이 먹는 거라 더 그런 느낌?\\n안엔 오징어, 조개, 게가 들어있더라고요~ 블로그를 하는 줄리아가 사진 찍을 때\\n나도 옆에서 따라 찍기ㅋㅋㅋㅋ 삐깐떼 감베로니 15,000원\\n모짜렐라 치즈를 곁들인 매콤한 새우 피자입니다! 치즈 한 조각을 딱 들었는데 어머어머\\n이거는 당장 찍어야해!!\\n줄리아한테도 빨리 찍으라 했어요ㅋㅋㅋ\\n매콤한 피자지만 거의 매운맛은 없는?\\n딱 기본에 충실한 피자였던 것 같아요❣ 빠네 나올 때 소스 좀 더 달라고 했는데 조금 늦게 나왔어요!\\n빠네 소스 부어주면 더욱 풍부한 맛으로 즐길 수 있습니다~\\n빵 찍어먹기에도 넉넉해요! 졍이가 일 때문에 늦게 합류했는데\\n오자마자 빠네 빵을 왜 안먹었냐며 꾸짖었어요.\\n자리에 앉자마자 빵 찢는 졍이\\n빠네에 진심인 편... 에이드는 탄산으로 리필이 가능해서\\n저흰 제로콜라로 한 번 리필해 먹었어요! 이제 다 먹고 가려했는데 줄리아가 여기 샤베트도 나온다며 붙잡았어요.\\n직원에게 샤베트 갖다달라고 했더니 망고맛/딸기맛 여쭤보시더라고요!\\n저는 망고맛을 먹었는데 줄리아의 딸기맛 샤베트 한 입 먹어보니\\n딸기맛이 딸기씨도 씹혀서 더욱 생과일 샤베트같은 맛이 났어요~\\n전 망고맛 보단 딸기맛이 더 맛있었네요ㅎㅎ 가성비도 좋아서 청첩장 모임 주인공 쟁도 얼마 안 나왔다며 흡족(?)해했어요.\\n왜 유명한 맛집인지 알 것 같아요!\\n홍대에 가성비 좋은 파스타 맛집이라 대학생들도 많이 찾을 것 같네요.\\n(홍대에 젊은이들이 가득해서 쭈굴...)\\n이상 홍대 이탈리안 레스토랑 프리모바치오바치 후기였습니다💙 #홍대프리모바치오바치 #프리모바치오바치 #홍대맛집 #홍대입구역맛집 #홍대데이트맛집 #홍대파스타 #홍대파스타맛집 #홍대이탈리안레스토랑 #홍대모임하기좋은곳 #홍대청첩장모임 #프리모바치오바치홍대본점'},\n",
       " 8: {'title': '[홍대맛집/키움초밥]맛과 가성비 다 잡은캐쥬얼초밥집.데이트 하고 식사하러 가셔도 좋을듯.',\n",
       "  'nickname': '바블',\n",
       "  'datetime': '2022. 7. 9. 7:00',\n",
       "  'content': '아침부터 홍대에서 시작한\\n업무가 점심쯔음 서교동에서 마쳤어요\\n일 땜시 여동생을 불러서 도움을 받았는데\\n맛난 점심은 대접 해야겠고\\n어디로 가야 하나.....\\n뭐 좋아해?\\n회 종류나 초밥요\\nㅋㅋㅋㅋ\\n역시 요즘 MZ 세대는 망설임이 없구나 ㅎㅎㅎ\\n이날 함께한 동생이 찜콩한\\n#키움초밥 입니다.\\n업무 중간쯤 식당을 검색하라고 했더니\\n겁나 검색검색.\\n헐...\\n그냥 가성비좋은 캐쥬얼스시집인줄 알았는데\\n나름 인지도가 있는\\n홍대초밥맛집이었어요\\n인스타 맛집이랍니다\\nㅋㅋㅋㅋ 테이블석은 만석\\n주방 바로 앞 다찌 좌석만 남아 있었어요\\n은근 혼자오신 남자손님 많으셨어요\\n연령대로는\\n절대 초밥집에 혼자 오실 나이대가\\n아니었는데 신기했어요\\nㅋㅋㅋ 주방에 4-5분정도의 쉐프들이\\n쉴새없이 음식 만들고 있었구요 #키움초밥메뉴\\n초밥부터 사시미종류까지\\n다양하게 식사부터 술 한잔 안주류 까지.\\n요즘 같은 고물가 속에\\n초밥이나 사시미 가격은 착한거 같아요\\n그래서인지\\n젊은분들부터 근처 직장인들까지\\n다양한 손님들을 볼수 있었어요 기꼬망 간장에 생와사비\\n요거 보고 기분 좋아짐\\n개인적으로 사시미나 스시집에\\n니비시나 기꼬망 사용하면 믿음갑니다 오늘의 메뉴 선택은\\n동생에게 맡겼더니\\n바로 세트메뉴 픽\\n세트라는것만 들었는데\\n뭔가 계속나옴\\n점심인데 과하지 않나? 생각은 속으로만 했어요\\n여기서\\n입밖으로 내면 꼰대 인걸\\n이제는 압니다\\nㅋㅋㅋ 메뉴구성상 소주 한잔 안할수가\\nㅎㅎㅎ\\n쨘~\\n한잔 올려 봅니다. 폭염속이라 시원한 모밀국수는\\n그냥 사랑이죠\\n살얼음 낀 모밀은 바로 원샷 각. 알밥\\n슥슥 비벼서 사진도 한컷. 후토마끼\\n튀김,연어 유부등등 재료 가득 들었는데\\n너무 크지 않아 전 좋았습니다\\n입 크게 한입 들어갈 사이즈라\\n굿~~\\n요즘 너무 큰건 먹기에 너무 불편해요 젊은 분들 딱 좋아할만한\\n홍게그라탕.\\n치즈의 찐득함과 달짝함\\n동생이 30대초의 여자라 그런지\\n아주 환장하고 좋아하시네\\nㅎㅎㅎ\\n넘 잘 드시니깐 내가 다 흐뭇,\\n아빠미소 절로 나더이다. 대게 다리튀김\\n이건\\n다 알만한 맛. 간장새우장도 나왔는데\\n전 갑각류알러지 있어 손을 못댔어요\\n동생도 마찬가지로 못먹던데\\n진작 알았슴 돌려 보냈을텐데\\nㅠㅠ 오늘의 메인인 초밥과 사시미까지 나와서\\n완전체가 되었어요\\n아...\\n사실 난 사시미까지 나오는줄은 몰랐어요\\n초밥 나오기에 이제 먹자!!!\\n그랬더니\\n바로 사시미가 따라 나옴\\n헉...\\n얘가 완전 뽕을 뽑는구나.\\n제법 가격 나오겠는데 생각했는데\\n제가 생각한 거 보단 훨씬 저렴했습니다.\\n요런데서 식사한끼 한턱 내기에 딱 좋을듯. 오늘의 메인격인\\n사시미랑 초밥은 한번 더 찍어주고. 초밥은 1인 8개씩\\n참치부터 소고기타다끼 까지... 타코와사비부터 방어뱃살 연어 광어,단새우까지.\\n이 정도 구성에 이 가격이라면\\n진짜 혜자각.\\n어디가면 요정도 내어주고 3-4만원 받을텐데 말이죠 역시 난 고기파\\n초밥을 먹어도 먼저 고기부터\\n눈길이 가는 나란남자\\nㅎㅎㅎㅎ\\n달짝하면서 불향나던 소고기초밥 긴꼬리 초밥처럼\\n샤리는 엄지손톱정도 네타는 큼직만하게\\n딱\\n여성분들 취향저격\\n맛도 맛이지만 초밥이 이쁘게 나오니깐\\n동생은 인스타 올릴거라며\\n겁나 찍어대네요\\nㅎㅎㅎ\\n오랜만에 호적수 만났슴요 방어뱃살과 엔가와\\n생각과 기대 보다 사시미 퀄리티는\\n상당히 갠춘했어요\\n이게 단품으로는 얼마지?\\n근처면 요거 하나 시키고 소주한잔 하기에도\\n딱이겠다 싶었어요\\n사시미 칭찬합니다\\nㅎㅎ\\n가성비 좋고 맛도 준수했던\\n키움초밥\\n동생덕분에 우연히 방문했는데\\n생각보다 아주 맛나게 먹고 나왔어요\\n홍대근처에서 캐쥬얼초밥집 찾으신다면\\n방문해보셔도 좋을듯해요\\n[저의 시간과 돈을 소비하여 작성한 글 입니다]'},\n",
       " 9: {'title': '홍대입구텐동맛집 [고구텐 홍대점] 항상 사람들로 가득한 홍대 맛집',\n",
       "  'nickname': '먹는데 진심인 오사장\\n(ops1200)',\n",
       "  'datetime': '2022. 7. 1. 13:59',\n",
       "  'content': '매장번호 0507-1331-5610\\n영업시간\\n11:30 - 21:00\\n15:00 - 17:00 브레이크타임\\n14:30, 20:30 라스트오더 제가 개인적으로 정말 자주가는 텐동집을 다녀왔습니다\\n홍대에 위치한 고쿠텐입니다\\n지점이 여러군데 있긴하지만\\n여기만큼 벨런스 잘잡힌 텐동집을 찾기 힘듭니다 영업시간은 다음과 같습니다\\n옛날에 제 식당 영업시간과 같네요 이날 평일 점심 첫타임이었고\\n날도 엄청 더웠는데\\n제가 들어가고나서 바로 만석...\\n홍대 고쿠텐의 인기를 실감했습니다 메뉴판입니다\\n여기 메뉴 전부 먹어봤습니다\\n새우가 제일 좋고\\n한치도 맛있고\\n기본은 당연히 훌륭하고\\n카레가 생각보다 괜찮으니\\n취향껏 고르시면 됩니다 내부는 주방이 보이는 닷지형태가 전부입니다\\n안쪽에 작게 웨이팅할수있는 공간도 마련되어있습니다 선주문후 자리에 앉으면 되는 시스템입니다 밥과 장국은 무한리필\\n와사비랑 생강은 필요시 말하면 됩니다\\n바로 부탁드렸습니다 튀겜에 간장계란밥인데\\n왜이렇게 텐동이 맛있는지 저도 잘모르겠습니다ㅋㅋㅋ\\n진짜 입맛없을때 텐동이 생각나니 원 테이블에는 고추장아찌와 단무지가 준비되어있습니다 바로 따뜻한 장국부터 나옵니다 왼쪽이 새우가 4마리 올라간 새우텐동\\n오른쪽이 기본텐동입니다 기본에는 가지,꽈리고추,새우2마리,느타리,김,계란,단호박\\n이렇게 들어가있습니다\\n채소도 좋아한다면 골고루 들어간 기본은 좋은 선택입니다 하지만\\n저같이 새우를 좋아하는 사람은 무조건\\n새우텐동 추천 겉은 바삭하고 속은 진짜 부드럽고 촉촉하게 잘튀겨진 새우가\\n4마리가 올라갑니다 나머지 튀김들은 그냥 거들뿐\\n메인은 새우 계란은 잘 터트려서 밥이랑 섞어줍니다 간이 싱거우면 테이블에 텐동간장이 준비되어있으니\\n뿌리면 됩니다 와사비를 조금씩 올려먹는게\\n가장 맛있습니다\\n진짜 여러 텐동집들을 다녀봤지만\\n소스간,밥,튀김 다만족하는곳은\\n고쿠텐이었습니다 오늘도 완식\\n누군가한테 텐동을 소개시켜줘야한다면\\n여기가 가장 실패가 없을꺼라고\\n생각합니다\\n대중적이면서도\\n텐동이 가지고있어야할 장점들은 모두 가지고 있는집입니다\\n오늘도 맛있게 잘먹었습니다\\n#홍대입구텐동맛집 #홍대텐동맛집 #홍대입구역맛집 #홍대맛집 #연남맛집 #연남동맛집 '}}"
      ]
     },
     "execution_count": 42,
     "metadata": {},
     "output_type": "execute_result"
    }
   ],
   "source": [
    "dict"
   ]
  },
  {
   "cell_type": "code",
   "execution_count": 43,
   "metadata": {
    "id": "MP_grQXm-kvv",
    "outputId": "94e65bb2-0e12-48ea-be55-fb1731c3ac1f",
    "scrolled": true
   },
   "outputs": [
    {
     "data": {
      "text/html": [
       "<div>\n",
       "<style scoped>\n",
       "    .dataframe tbody tr th:only-of-type {\n",
       "        vertical-align: middle;\n",
       "    }\n",
       "\n",
       "    .dataframe tbody tr th {\n",
       "        vertical-align: top;\n",
       "    }\n",
       "\n",
       "    .dataframe thead th {\n",
       "        text-align: right;\n",
       "    }\n",
       "</style>\n",
       "<table border=\"1\" class=\"dataframe\">\n",
       "  <thead>\n",
       "    <tr style=\"text-align: right;\">\n",
       "      <th></th>\n",
       "      <th>title</th>\n",
       "      <th>nickname</th>\n",
       "      <th>datetime</th>\n",
       "      <th>content</th>\n",
       "    </tr>\n",
       "  </thead>\n",
       "  <tbody>\n",
       "    <tr>\n",
       "      <th>1</th>\n",
       "      <td>합정 홍대 라멘맛집 오레노라멘 미쉐린2022 선정 (주차팁)</td>\n",
       "      <td>잇츠마인\\n(love_od)</td>\n",
       "      <td>2022. 6. 18. 16:00</td>\n",
       "      <td>홍대 라멘맛집이라고 검색이 더 많이되고있지만\\n실제로는 합정역에서 더 가까운 오레노...</td>\n",
       "    </tr>\n",
       "    <tr>\n",
       "      <th>2</th>\n",
       "      <td>홍대 합정 맛집 포36거리 월남쌈 쌀국수 세트 추천!</td>\n",
       "      <td>먹슬지</td>\n",
       "      <td>2022. 7. 14. 0:06</td>\n",
       "      <td>먹슬지입니다~~👋\\n오늘은 월남쌈이 먹고 싶어서 찾아갔던\\n홍대 합정 맛집 소개해...</td>\n",
       "    </tr>\n",
       "    <tr>\n",
       "      <th>3</th>\n",
       "      <td>홍대 씨부엉 통문어가 들어간 중화풍 즉석떡볶이 맛집</td>\n",
       "      <td>바카</td>\n",
       "      <td>2022. 7. 8. 7:00</td>\n",
       "      <td>홍대 미대 나온 염님을 보필하고 사는 노예 바카님이라\\n가끔씩 염님 추억팔이하러 홍...</td>\n",
       "    </tr>\n",
       "    <tr>\n",
       "      <th>4</th>\n",
       "      <td>홍대 고기집 합정 맛집 고기꾼김춘배 친절하고 맛있음</td>\n",
       "      <td>미니미엄빠</td>\n",
       "      <td>2022. 6. 30. 11:16</td>\n",
       "      <td>#홍대고기집 #합정맛집\\n고기꾼김춘배 홍대본점 홍대 거리에서 너무나도 유명한 고기집...</td>\n",
       "    </tr>\n",
       "    <tr>\n",
       "      <th>5</th>\n",
       "      <td>ㅣ홍대맛집ㅣ서교동맛집 '스테이크 슈퍼' (+어린이메뉴)</td>\n",
       "      <td>몽쉘미쉘\\n(xxchocoxx)</td>\n",
       "      <td>2022. 7. 8. 10:41</td>\n",
       "      <td>스테이크 슈퍼 http://instagram.com/steaksuper_offici...</td>\n",
       "    </tr>\n",
       "    <tr>\n",
       "      <th>6</th>\n",
       "      <td>[홍대 맛집] 홍대의 일본식 야끼카레 맛집, 비스트로 큐슈</td>\n",
       "      <td>템포</td>\n",
       "      <td>2022. 6. 19. 8:50</td>\n",
       "      <td>다양한 맛집이 많이 있는 홍대\\n매번 홍대에 갈 때마다\\n너무나도 많은 맛집들이 있...</td>\n",
       "    </tr>\n",
       "    <tr>\n",
       "      <th>7</th>\n",
       "      <td>홍대 맛집 '프리모바치오바치' 빠네 파스타 맛집 (+꿀팁)</td>\n",
       "      <td>싱깅\\n(tldrld93)</td>\n",
       "      <td>2022. 5. 13. 5:30</td>\n",
       "      <td>홍대 맛집, 홍대 파스타\\n프리모바치오바치 저번 주 금요일, 쟁의 청첩장 모임이 있...</td>\n",
       "    </tr>\n",
       "    <tr>\n",
       "      <th>8</th>\n",
       "      <td>[홍대맛집/키움초밥]맛과 가성비 다 잡은캐쥬얼초밥집.데이트 하고 식사하러 가셔도 좋을듯.</td>\n",
       "      <td>바블</td>\n",
       "      <td>2022. 7. 9. 7:00</td>\n",
       "      <td>아침부터 홍대에서 시작한\\n업무가 점심쯔음 서교동에서 마쳤어요\\n일 땜시 여동생을 ...</td>\n",
       "    </tr>\n",
       "    <tr>\n",
       "      <th>9</th>\n",
       "      <td>홍대입구텐동맛집 [고구텐 홍대점] 항상 사람들로 가득한 홍대 맛집</td>\n",
       "      <td>먹는데 진심인 오사장\\n(ops1200)</td>\n",
       "      <td>2022. 7. 1. 13:59</td>\n",
       "      <td>매장번호 0507-1331-5610\\n영업시간\\n11:30 - 21:00\\n15:0...</td>\n",
       "    </tr>\n",
       "  </tbody>\n",
       "</table>\n",
       "</div>"
      ],
      "text/plain": [
       "                                               title                nickname  \\\n",
       "1                  합정 홍대 라멘맛집 오레노라멘 미쉐린2022 선정 (주차팁)         잇츠마인\\n(love_od)   \n",
       "2                      홍대 합정 맛집 포36거리 월남쌈 쌀국수 세트 추천!                     먹슬지   \n",
       "3                       홍대 씨부엉 통문어가 들어간 중화풍 즉석떡볶이 맛집                      바카   \n",
       "4                       홍대 고기집 합정 맛집 고기꾼김춘배 친절하고 맛있음                   미니미엄빠   \n",
       "5                     ㅣ홍대맛집ㅣ서교동맛집 '스테이크 슈퍼' (+어린이메뉴)       몽쉘미쉘\\n(xxchocoxx)   \n",
       "6                   [홍대 맛집] 홍대의 일본식 야끼카레 맛집, 비스트로 큐슈                      템포   \n",
       "7                   홍대 맛집 '프리모바치오바치' 빠네 파스타 맛집 (+꿀팁)          싱깅\\n(tldrld93)   \n",
       "8  [홍대맛집/키움초밥]맛과 가성비 다 잡은캐쥬얼초밥집.데이트 하고 식사하러 가셔도 좋을듯.                      바블   \n",
       "9               홍대입구텐동맛집 [고구텐 홍대점] 항상 사람들로 가득한 홍대 맛집  먹는데 진심인 오사장\\n(ops1200)   \n",
       "\n",
       "             datetime                                            content  \n",
       "1  2022. 6. 18. 16:00  홍대 라멘맛집이라고 검색이 더 많이되고있지만\\n실제로는 합정역에서 더 가까운 오레노...  \n",
       "2   2022. 7. 14. 0:06   먹슬지입니다~~👋\\n오늘은 월남쌈이 먹고 싶어서 찾아갔던\\n홍대 합정 맛집 소개해...  \n",
       "3    2022. 7. 8. 7:00  홍대 미대 나온 염님을 보필하고 사는 노예 바카님이라\\n가끔씩 염님 추억팔이하러 홍...  \n",
       "4  2022. 6. 30. 11:16  #홍대고기집 #합정맛집\\n고기꾼김춘배 홍대본점 홍대 거리에서 너무나도 유명한 고기집...  \n",
       "5   2022. 7. 8. 10:41  스테이크 슈퍼 http://instagram.com/steaksuper_offici...  \n",
       "6   2022. 6. 19. 8:50  다양한 맛집이 많이 있는 홍대\\n매번 홍대에 갈 때마다\\n너무나도 많은 맛집들이 있...  \n",
       "7   2022. 5. 13. 5:30  홍대 맛집, 홍대 파스타\\n프리모바치오바치 저번 주 금요일, 쟁의 청첩장 모임이 있...  \n",
       "8    2022. 7. 9. 7:00  아침부터 홍대에서 시작한\\n업무가 점심쯔음 서교동에서 마쳤어요\\n일 땜시 여동생을 ...  \n",
       "9   2022. 7. 1. 13:59  매장번호 0507-1331-5610\\n영업시간\\n11:30 - 21:00\\n15:0...  "
      ]
     },
     "execution_count": 43,
     "metadata": {},
     "output_type": "execute_result"
    }
   ],
   "source": [
    "# 판다스로 만들기\n",
    "import pandas as pd\n",
    "result_df = pd.DataFrame.from_dict(dict, 'index')\n",
    "result_df"
   ]
  },
  {
   "cell_type": "code",
   "execution_count": 44,
   "metadata": {
    "id": "rxYCIxaE-kvv",
    "scrolled": true
   },
   "outputs": [],
   "source": [
    "# 엑셀로 저장하기\n",
    "result_df.to_csv(\"blog_content.csv\", encoding='utf-8-sig')"
   ]
  },
  {
   "cell_type": "code",
   "execution_count": 45,
   "metadata": {
    "id": "8tlfMsDm-kvv",
    "outputId": "4fa392b3-ae52-4762-ba70-cbc58cc0d074"
   },
   "outputs": [
    {
     "data": {
      "text/plain": [
       "'/Users/krc/TIL/RS/crawling'"
      ]
     },
     "execution_count": 45,
     "metadata": {},
     "output_type": "execute_result"
    }
   ],
   "source": [
    "pwd"
   ]
  },
  {
   "cell_type": "code",
   "execution_count": null,
   "metadata": {
    "id": "lDj94wBC-kvv"
   },
   "outputs": [],
   "source": []
  },
  {
   "cell_type": "code",
   "execution_count": null,
   "metadata": {
    "id": "G9C5ou9Q-kvv"
   },
   "outputs": [],
   "source": []
  }
 ],
 "metadata": {
  "colab": {
   "name": "네이버블로그(202105)_크롤러.ipynb",
   "provenance": []
  },
  "kernelspec": {
   "display_name": "Python 3 (ipykernel)",
   "language": "python",
   "name": "python3"
  },
  "language_info": {
   "codemirror_mode": {
    "name": "ipython",
    "version": 3
   },
   "file_extension": ".py",
   "mimetype": "text/x-python",
   "name": "python",
   "nbconvert_exporter": "python",
   "pygments_lexer": "ipython3",
   "version": "3.8.13"
  },
  "toc": {
   "base_numbering": 1,
   "nav_menu": {},
   "number_sections": false,
   "sideBar": true,
   "skip_h1_title": false,
   "title_cell": "Table of Contents",
   "title_sidebar": "Contents",
   "toc_cell": false,
   "toc_position": {},
   "toc_section_display": true,
   "toc_window_display": false
  },
  "varInspector": {
   "cols": {
    "lenName": 16,
    "lenType": 16,
    "lenVar": 40
   },
   "kernels_config": {
    "python": {
     "delete_cmd_postfix": "",
     "delete_cmd_prefix": "del ",
     "library": "var_list.py",
     "varRefreshCmd": "print(var_dic_list())"
    },
    "r": {
     "delete_cmd_postfix": ") ",
     "delete_cmd_prefix": "rm(",
     "library": "var_list.r",
     "varRefreshCmd": "cat(var_dic_list()) "
    }
   },
   "position": {
    "height": "600px",
    "left": "554.76px",
    "right": "20px",
    "top": "88px",
    "width": "424px"
   },
   "types_to_exclude": [
    "module",
    "function",
    "builtin_function_or_method",
    "instance",
    "_Feature"
   ],
   "window_display": false
  }
 },
 "nbformat": 4,
 "nbformat_minor": 1
}
