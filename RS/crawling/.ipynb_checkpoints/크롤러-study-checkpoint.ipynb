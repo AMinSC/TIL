{
 "cells": [
  {
   "cell_type": "code",
   "execution_count": 10,
   "metadata": {},
   "outputs": [],
   "source": [
    "# !pip install chromedriver-autoinstaller"
   ]
  },
  {
   "cell_type": "code",
   "execution_count": 1,
   "metadata": {},
   "outputs": [],
   "source": [
    "# !pip install selenium"
   ]
  },
  {
   "cell_type": "code",
   "execution_count": 1,
   "metadata": {
    "id": "855Mo76s-kvl"
   },
   "outputs": [],
   "source": [
    "# 네이버에서 검색어 입력받아 검색 한 후 블로그 메뉴를 선택하고\n",
    "# 오른쪽에 있는 검색옵션 버튼을 눌러서\n",
    "# 정렬 방식과 기간을 입력하기\n",
    "\n",
    "#Step 0. 필요한 모듈과 라이브러리를 로딩합니다.\n",
    "import sys # 시스템\n",
    "import os  # 시스템\n",
    "\n",
    "import pandas as pd  # 판다스 : 데이터분석 라이브러리\n",
    "import numpy as np   # 넘파이 : 숫자, 행렬 데이터 라이브러리\n",
    "\n",
    "import chromedriver_autoinstaller\n",
    "from bs4 import BeautifulSoup    # html 데이터를 전처리\n",
    "from selenium import webdriver   # 웹 브라우저 자동화\n",
    "import time    # 서버와 통신할 때 중간중간 시간 지연. 보통은 1초\n",
    "from tqdm import tqdm_notebook   # for문 돌릴 때 진행상황을 %게이지로 알려준다.\n",
    "\n",
    "# 워닝 무시\n",
    "import warnings\n",
    "warnings.filterwarnings('ignore')"
   ]
  },
  {
   "cell_type": "code",
   "execution_count": 2,
   "metadata": {
    "id": "n8Lxk6vh-kvn",
    "outputId": "69ae7a9d-8942-49d3-f943-63eb1f8e7569"
   },
   "outputs": [
    {
     "name": "stdout",
     "output_type": "stream",
     "text": [
      "Python 3.8.13\r\n"
     ]
    }
   ],
   "source": [
    "# python 버전 확인\n",
    "!python --version"
   ]
  },
  {
   "cell_type": "code",
   "execution_count": 3,
   "metadata": {
    "id": "Vn8wKGA8-kvo",
    "outputId": "da4b2b84-4fd6-4730-fc49-8b24a87623d4"
   },
   "outputs": [
    {
     "data": {
      "text/plain": [
       "'1.4.3'"
      ]
     },
     "execution_count": 3,
     "metadata": {},
     "output_type": "execute_result"
    }
   ],
   "source": [
    "# 판다스 버전 확인\n",
    "pd.__version__"
   ]
  },
  {
   "cell_type": "code",
   "execution_count": 4,
   "metadata": {},
   "outputs": [
    {
     "data": {
      "text/plain": [
       "'4.0.0'"
      ]
     },
     "execution_count": 4,
     "metadata": {},
     "output_type": "execute_result"
    }
   ],
   "source": [
    "webdriver.__version__"
   ]
  },
  {
   "cell_type": "markdown",
   "metadata": {},
   "source": [
    "크롤링\n",
    "\n",
    "셀레늄 : 무적 크롤러\n",
    " - 브라우저 자동화 도구\n",
    " \n",
    "request, bs4"
   ]
  },
  {
   "cell_type": "code",
   "execution_count": 5,
   "metadata": {
    "id": "CNdy9c7U-kvo",
    "outputId": "38d4d3b7-0b1a-46a4-b2fc-6a4e2d79a399"
   },
   "outputs": [
    {
     "name": "stdout",
     "output_type": "stream",
     "text": [
      "1.크롤링할 키워드는 무엇입니까?: 해외축구 이적시장\n"
     ]
    }
   ],
   "source": [
    "# 검색어, 검색 기간 정의\n",
    "query_txt = input('1.크롤링할 키워드는 무엇입니까?: ')"
   ]
  },
  {
   "cell_type": "code",
   "execution_count": 6,
   "metadata": {},
   "outputs": [
    {
     "data": {
      "text/plain": [
       "'해외축구 이적시장'"
      ]
     },
     "execution_count": 6,
     "metadata": {},
     "output_type": "execute_result"
    }
   ],
   "source": [
    "query_txt # = \"홍대 맛집\""
   ]
  },
  {
   "cell_type": "markdown",
   "metadata": {
    "id": "MniuiSeb-kvp"
   },
   "source": [
    "# 1. 크롤링할 블로그 url 수집하기"
   ]
  },
  {
   "cell_type": "code",
   "execution_count": 7,
   "metadata": {
    "id": "Bqoa7llc-kvp",
    "outputId": "f084e7cc-ac2e-40ff-a65e-bd6a42bc279e"
   },
   "outputs": [
    {
     "data": {
      "text/plain": [
       "'/Users/krc/TIL/RS/crawling'"
      ]
     },
     "execution_count": 7,
     "metadata": {},
     "output_type": "execute_result"
    }
   ],
   "source": [
    "pwd"
   ]
  },
  {
   "cell_type": "code",
   "execution_count": 8,
   "metadata": {
    "code_folding": [],
    "colab": {
     "base_uri": "https://localhost:8080/",
     "height": 239
    },
    "executionInfo": {
     "elapsed": 5,
     "status": "error",
     "timestamp": 1622793307717,
     "user": {
      "displayName": "Hyeok Lee",
      "photoUrl": "",
      "userId": "09184002132621914803"
     },
     "user_tz": -540
    },
    "id": "buplEXzx-kvq",
    "outputId": "11751daa-2f59-4a1d-d6a7-ca9282d20c33"
   },
   "outputs": [],
   "source": [
    "options = webdriver.ChromeOptions()\n",
    "chrome_path = chromedriver_autoinstaller.install()\n",
    "driver = webdriver.Chrome(chrome_path, options=options)\n",
    "\n",
    "# 사이트 주소는 네이버\n",
    "driver.get('http://www.naver.com')\n",
    "time.sleep(2)  # 2초간 정지"
   ]
  },
  {
   "cell_type": "code",
   "execution_count": 9,
   "metadata": {
    "code_folding": [],
    "id": "uiwhXvob-kvq"
   },
   "outputs": [],
   "source": [
    "# Step 2. 네이버 검색창에 \"검색어\" 검색\n",
    "element = driver.find_element_by_id(\"query\")\n",
    "element.send_keys(query_txt)  # query_txt는 위에서 입력한 키워드\n",
    "element.submit()\n",
    "time.sleep(1)"
   ]
  },
  {
   "cell_type": "code",
   "execution_count": 10,
   "metadata": {
    "code_folding": [],
    "id": "uiwhXvob-kvq"
   },
   "outputs": [],
   "source": [
    "# 'VIEW' 클릭\n",
    "driver.find_element_by_link_text(\"VIEW\").click( )\n",
    "time.sleep(1)"
   ]
  },
  {
   "cell_type": "code",
   "execution_count": 11,
   "metadata": {
    "code_folding": [],
    "id": "uiwhXvob-kvq"
   },
   "outputs": [],
   "source": [
    "# '블로그' 클릭\n",
    "driver.find_element_by_link_text(\"블로그\").click( )\n",
    "time.sleep(1)\n",
    "\n",
    "# '옵션' 클릭\n",
    "driver.find_element_by_link_text(\"옵션\").click( )\n",
    "time.sleep(1)"
   ]
  },
  {
   "cell_type": "code",
   "execution_count": 12,
   "metadata": {
    "code_folding": [],
    "id": "X537FPoE-kvq",
    "outputId": "2e7df665-1fd7-4fd0-dcc9-65b6a12c7a6d"
   },
   "outputs": [
    {
     "name": "stdout",
     "output_type": "stream",
     "text": [
      "전체\n",
      "블로그\n",
      "카페\n",
      "관련도순\n",
      "최신순\n",
      "전체\n",
      "1시간\n",
      "1일\n",
      "1주\n",
      "1개월\n",
      "3개월\n",
      "6개월\n",
      "1년\n",
      "직접입력옵션펼치기\n"
     ]
    }
   ],
   "source": [
    "# 검색옵션 확인\n",
    "item_li = driver.find_elements_by_css_selector('.option .txt')\n",
    "\n",
    "for i in range(0, len(item_li)):\n",
    "    print(item_li[i].text)"
   ]
  },
  {
   "cell_type": "code",
   "execution_count": 13,
   "metadata": {
    "id": "YNdHtrki-kvr",
    "outputId": "e7fde35f-3b2b-4cde-a4f6-006975ff383c",
    "scrolled": true
   },
   "outputs": [
    {
     "name": "stdout",
     "output_type": "stream",
     "text": [
      "1개월\n"
     ]
    }
   ],
   "source": [
    "# 검색기간 '3개월' 클릭\n",
    "print(item_li[9].text)\n",
    "\n",
    "item_li[9].click()"
   ]
  },
  {
   "cell_type": "code",
   "execution_count": 14,
   "metadata": {
    "id": "OyFhrsrA-kvr"
   },
   "outputs": [],
   "source": [
    "# 스크롤 다운\n",
    "# driver.execute_script(\"window.scrollTo(0, 500)\")\n",
    "# time.sleep(2)\n",
    "\n",
    "# 스크롤을 밑으로 내려주는 함수\n",
    "def scroll_down(driver):\n",
    "    driver.execute_script(\"window.scrollTo(0, 19431049)\")\n",
    "    time.sleep(1)\n",
    "\n",
    "# n: 스크롤할 횟수 설정\n",
    "n = 3\n",
    "i = 0\n",
    "while i < n: # 이 조건이 만족되는 동안 반복 실행\n",
    "    scroll_down(driver) # 스크롤 다운\n",
    "    i = i+1"
   ]
  },
  {
   "cell_type": "code",
   "execution_count": 15,
   "metadata": {
    "id": "35cdGv2g-kvr",
    "outputId": "b04e2570-7061-4bc9-fdaf-d0862d6d2e7e"
   },
   "outputs": [
    {
     "data": {
      "text/plain": [
       "<selenium.webdriver.remote.webelement.WebElement (session=\"a1da13e4cc11b1b18d737c4458958db5\", element=\"bfebdb03-2a2f-47ff-ae3f-ae586d790b99\")>"
      ]
     },
     "execution_count": 15,
     "metadata": {},
     "output_type": "execute_result"
    }
   ],
   "source": [
    "# 블로그 글 url들 수집\n",
    "url_list = []\n",
    "title_list = []\n",
    "\n",
    "# URL_raw 크롤링 시작\n",
    "articles = \".api_txt_lines.total_tit\"\n",
    "article_raw = driver.find_elements_by_css_selector(articles)\n",
    "article_raw[0]"
   ]
  },
  {
   "cell_type": "code",
   "execution_count": 16,
   "metadata": {
    "id": "lS4BWdhY-kvr",
    "outputId": "325f828f-c25d-46e4-89d2-df3cdf39dc3d"
   },
   "outputs": [
    {
     "data": {
      "text/plain": [
       "'https://blog.naver.com/7ulyee/222813310047'"
      ]
     },
     "execution_count": 16,
     "metadata": {},
     "output_type": "execute_result"
    }
   ],
   "source": [
    "# 첫번째 글의 url 확인\n",
    "article_raw[0].get_attribute('href')"
   ]
  },
  {
   "cell_type": "code",
   "execution_count": 17,
   "metadata": {
    "id": "c4oJ0A0S-kvs",
    "outputId": "bd3015c2-0b1e-472e-f2a5-1df89f81cf67",
    "scrolled": true
   },
   "outputs": [
    {
     "name": "stdout",
     "output_type": "stream",
     "text": [
      "해외축구 이적시장 최신업데이트 EPL,프리메라리그,세리에A...\n",
      "[블챌] 바쁘게 돌아가는 해외축구 이적시장\n",
      "해외축구 이적시장 상황\n",
      "해외축구 이적시장 소식 프랭키 데 용 영입을 위해...\n",
      "7/8 해외축구 여름이적시장 요약\n",
      "2022 유럽 해외축구 이적시장 루머 금일자 정리 Ⅱ.txt\n",
      "2022년 해외축구 여름이적시장 중간현황(2022년6월30일까지...\n",
      "[6/22] 해외축구 이적시장 루머 정리\n",
      "해외축구 여름 이적시장 오피셜 및 루머 총정리 (토트넘, 첼시...\n",
      "축구 팬들은 기다려지는 해외축구이적\n",
      "해외축구 이적시장 - 히샬리송 토트넘 이적설? 앤서니 고든도?...\n",
      "해외축구 이적시장 및 사건사고 업데이트 (토마스파티?) epl 등...\n",
      "[해외축구 이슈] EPL 이적시장 눈여겨볼 영입\n",
      "해외축구 이적시장 상황\n",
      "[해외축구 소식] 포그바... + 이적시장의 여포, 맨시티!! ⛴\n",
      "프리미어리그 빅6 이적 영입 상황 (해외축구 이적시장)\n",
      "2022 유럽 해외축구 이적시장 루머 금일자 정리.txt\n",
      "[해외축구] 이적시장 가십 소식 전달!\n",
      "[가쉽] 220704 해외축구 이적시장 정리(디발라, 베르나르도...\n",
      "22/23 해외축구 여름 이적시장 - 아스날 영입 오피셜 모음\n",
      "[해외축구] 호날두 UCL 출전의지,, 맨유에 이적 통보...\n",
      "해외축구 여름 이적시장 22.07.04 현재상황정리(프리미어리그...\n",
      "[해외축구 이슈] 라리가 이적시장 눈여겨볼 영입\n",
      "[해외축구 이적시장] 오늘의 오피셜!\n",
      "[스포츠] 대한민국 축구 선수들의 이적. 황의조! 황인범! 김민재!...\n",
      "[해외축구 소식] 파란색의... + 미궁으로 빠지는 데 용 이적사...\n",
      "7/15 해외축구 여름이적시장 요약\n",
      "90min 해외축구 이적뉴스(첼시 데리흐트 방출조항 102m 내야할...\n",
      "[The Athletic] 미국 축구... 임대 이적으로 클럽을 떠날 것으로...\n",
      "[가쉽] 220624 해외축구 이적시장 정리(레반도프스키, 네이마르...\n",
      "22/23 해외축구 여름 이적시장 - 토트넘 영입 오피셜 모음\n",
      "해외축구 프리미어리그 이적시장 현재상황 EPL 토트넘...\n",
      "2022/23시즌 여름 이적시장을 알아보자\n",
      "해외축구 이적시장 상황\n",
      "해외축구 이적시장 epl, 세리에a, 프리메라리가, 분데스리가...\n",
      "해외축구 이적시장 상황\n",
      "22/23 해외축구 여름 이적시장 - 보루시아 도르트문트 영입...\n",
      "해외축구 이적시장\n",
      "6/22 해외축구 여름이적시장 요약\n",
      "해외축구 여름 이적시장 새로운 소식 epl, 세리에a...\n",
      "해외축구 이적시장 상황 정리\n",
      "해외축구 이적시장 상황\n",
      "해외축구 이적시장\n",
      "7/5 해외축구 여름이적시장 요약\n",
      "[6/23~25] 해외축구 이적시장 상황 정리\n",
      "해외축구 이적시장 상황\n",
      "[해외축구 이적시장] 오늘의 오피셜!\n",
      "해외축구 이적시장\n",
      "6/30 해외축구 여름이적시장 요약\n",
      "6/27 해외축구 여름이적시장 요약\n",
      "[코마노] 6/24 해외축구 여름이적시장 요약\n",
      "7/11 해외축구 여름이적시장 요약\n",
      "6/21 해외축구 여름이적시장 요약\n",
      "7/7 해외축구 여름이적시장 요약\n",
      "6/26 해외축구 여름이적시장 요약\n",
      "6/17 해외축구 여름이적시장 요약\n",
      "7.3 해외축구 여름이적시장 요약\n",
      "6/23 해외축구 여름이적시장 요약\n",
      "해외 축구 이적시장이 재미있는 이유\n",
      "[7월 16일] BBC 이적시장 루머 가십 정리 - 호날두, 실바, 진첸코...\n",
      "2022 여름 이적시장 중간점검 ③\n",
      "선수들의 의식 변화, 여름이적시장 상위리그 10명 입단의 결과로!\n",
      "나폴리 이적시장 \" 김민재 영입 근접 \" 정말 나폴리로 가나..?\n",
      "7월18일 해외축구중계사이트 여기서\n",
      "[7월 8일] BBC 이적시장 루머 가십 정리 - 마르티네즈, 호날두...\n",
      "22시즌 여름 이적시장을 마치며\n",
      "2022 여름 이적시장 중간점검 ②\n",
      "5대 리그 여름 이적시장 종료일\n",
      "[해외축구 소식] 하피냐 to 바르셀로나 + 첼시, 두 개의 빅 영입!...\n",
      "[데이비드 온스테인] 지금까지 이적시장 정리 영상 요약\n",
      "[7월 2일] BBC 이적시장 루머 가십 정리 - 안토니, 호날두...\n",
      "[해외축구 소식] 썩던 이가 빠진 첼시, 영입고조! + 히샬리송...\n",
      "2022 여름 이적시장 중간점검 ①\n",
      "2022 해외축구 구단가치 순위 TOP5를 알아보자\n",
      "[EU] 해외 축구팬 \"K리그 선수들 수준이 높네. 양현준 정말...\n",
      "[축구] 22/23 시즌 해외축구 개막 일정, 중계 / epl...\n",
      "[6월 25일] BBC 이적시장 루머 가십 정리 - 더리흐트, 호날두, 더...\n",
      "해외축구 유럽역대최고의 공격듀오는? 공격듀오 합작골...\n",
      "[해외축구 소식] 디 마리아, 유벤투스 행! + 로마노, 김민재...\n",
      "해외축구중계사이트 기대되는 올 시즌\n",
      "라이벌 레전드도 엄지 척, \"토트넘, 이적 시장 참 잘 했어요!\"\n",
      "맨시티 스털링, 곧 첼시로 이적 개인 합의는 이미 마무리\n",
      "07.14 해외축구 소식 요약\n",
      "[오피셜] 칼리두 쿨리발리, 첼시 이적 2026년까지 계약\n",
      "디 마리아 유벤투스로 HERE WE GO 유벤투스로 이적 임박\n",
      "해외축구, 토트넘의 미~친 영업소식 정리\n",
      "맨체스터 시티의 베스트11 더블 스쿼드, 이적시장 중간 정리\n",
      "셰필드 아넬 아메드호지치 이적 계약 예정(FM2021...\n",
      "쿨리발리의 첼시이적유력과 김민재선수의 거취\n",
      "7. 10. 일요일의 해외축구 가십 - 포든, 캉테, 에릭센, 디발라\n",
      "22-23 시즌 토트넘 이적 시장 정리 ④ - <크리스티안 에릭센...\n",
      "[해외축구 소식] 베일 to LA + 움직이기 시작하는 뉴캐슬...\n",
      "epl 이적료 연봉 주급 브라질 축구국가대표선수 나이 프로필...\n",
      "2022 해외축구 구단가치 순위 TOP10에 대해 알아보자\n",
      "22-23 시즌 토트넘 이적 시장 정리 ① - <프레이저 포스터...\n",
      "22-23 시즌 토트넘 이적 시장 정리 ② - <알렉산드로 바스토니...\n",
      "22-23 시즌 토트넘 이적 시장 정리 ③ - <히샬리송, 하피냐>\n",
      "토트넘 세비야 볼수있는곳 쿠팡플레이 가입 스포츠 K리그...\n",
      "07.12 해외축구 소식 요약\n",
      "2022년 7월 11일 해외축구 가십[해리 케인, 로베르트...\n",
      "이적 총괄' 그라놉스카야 사임... 이적 시장 종료 후 결별 예정!\n",
      "2022년 7월 10일 해외축구 가십[필 포든, 은골로 캉테...\n",
      "[해외축구 소식] 제주스, 아스날 here we go! + 토트넘, 랑글레...\n",
      "[오피셜] 가레스 베일, 로스 앤젤레스 FC 이적 완료!\n",
      "[손변의 스法] 14화. 국내외 메디컬 체크 분쟁. 삼성 vs...\n",
      "첼시, 호날두 영입 위해 맨유에 공식 제안... 이적 사가 본격 시작!\n",
      "호날두는 텐 하흐를 좋아하지만 이번 이적시장에서 '야망'을...\n",
      "금요일의 해외축구 가십 - 레반도프스키, 호날두, 네이마르...\n",
      "[해외축구 소식] 빅 6 런던 구단들 이적설 특집! (아스날, 첼시...\n",
      "수 없다고 전한 맨체스터 유나이티드 + 추가 이적시장 소식\n",
      "일요일의 해외축구 가십 - 데 리흐트, 호날두, 데 용...\n",
      "올시즌은 울산현대가 우승할수 있을까?(이적한 선수들)\n",
      "' 더 리흐트→바이에른... 5년 계약+이적료 1,066억 이상!\n",
      "토트넘 이적시장 이브 비수마 토트넘에 합류해서 감격 토트넘...\n",
      "바르셀로나, 곧바로 5호 영입 정조준... 타깃은 카니 추쿠에메카!\n",
      "[오피셜] 맨유, 리산드로 마르티네스 영입!\n",
      "해축갤의 해축팬이라면 축구팀과 기업의 스폰서 계약과...\n",
      "한국에 온다. 쿠팡플레이 티켓 예매 세비야 K리그 축구 일정\n",
      "\"불행 하면 떠날 수 밖에\" 제주스→스털링 이적에 '쿨'한 펩!\n",
      "바르셀로나 레반도프스키 영입 발표 크리스텐센 하피냐 케시에...\n",
      "\n",
      "url갯수:  120\n",
      "title갯수:  120\n"
     ]
    }
   ],
   "source": [
    "# 크롤링한 셀레늄 덩어리(객체)인 article_raw에서 get_attribute 함수를 이용해서 \n",
    "# url 추출(href 속성값만 뽑아내기)하기\n",
    "for article in article_raw:\n",
    "    url = article.get_attribute('href')\n",
    "    url_list.append(url)\n",
    "time.sleep(1)\n",
    "\n",
    "# 제목 크롤링 시작\n",
    "for article in article_raw:\n",
    "    title = article.text\n",
    "    title_list.append(title)\n",
    "\n",
    "    print(title)\n",
    "\n",
    "print(\"\")\n",
    "print('url갯수: ', len(url_list))\n",
    "print('title갯수: ', len(title_list))"
   ]
  },
  {
   "cell_type": "code",
   "execution_count": 18,
   "metadata": {
    "id": "R2yjlm_5-kvs",
    "outputId": "efd2bab6-67e5-4d04-d826-4f878de28658"
   },
   "outputs": [
    {
     "data": {
      "text/plain": [
       "['https://blog.naver.com/7ulyee/222813310047',\n",
       " 'https://blog.naver.com/masterofrichpark/222805798078',\n",
       " 'https://blog.naver.com/tts0732/222798413460',\n",
       " 'https://blog.naver.com/z2inny/222808892639',\n",
       " 'https://blog.naver.com/whis4676/222804382640',\n",
       " 'https://blog.naver.com/clefboy/222806484362',\n",
       " 'https://blog.naver.com/hdyking/222796037576',\n",
       " 'https://blog.naver.com/lcs11011/222783711804',\n",
       " 'https://blog.naver.com/travelflan/222783795216',\n",
       " 'https://blog.naver.com/siroikitty/222781240520',\n",
       " 'https://blog.naver.com/changhj0711/222793271848',\n",
       " 'https://blog.naver.com/7ulyee/222802304826',\n",
       " 'https://blog.naver.com/wpalstjd0419/222800199609',\n",
       " 'https://blog.naver.com/tts0732/222804338397',\n",
       " 'https://blog.naver.com/truble97/222789375532',\n",
       " 'https://blog.naver.com/z2inny/222812548777',\n",
       " 'https://blog.naver.com/clefboy/222788633935',\n",
       " 'https://blog.naver.com/crossbook/222787101145',\n",
       " 'https://blog.naver.com/jinny9415/222800063753',\n",
       " 'https://blog.naver.com/footballtransfernews/222807908869',\n",
       " 'https://blog.naver.com/gimmmy/222798792480',\n",
       " 'https://blog.naver.com/7ulyee/222800256714',\n",
       " 'https://blog.naver.com/wpalstjd0419/222801487534',\n",
       " 'https://blog.naver.com/tts0732/222797405653',\n",
       " 'https://blog.naver.com/hanil-rubber/222816853914',\n",
       " 'https://blog.naver.com/truble97/222805350849',\n",
       " 'https://blog.naver.com/whis4676/222812545313',\n",
       " 'https://sopfa20.tistory.com/332',\n",
       " 'https://blog.naver.com/citizen215/222798608210',\n",
       " 'https://blog.naver.com/jinny9415/222787421032',\n",
       " 'https://blog.naver.com/footballtransfernews/222810488670',\n",
       " 'https://blog.naver.com/7ulyee/222797908602',\n",
       " 'https://rogo.tistory.com/entry/202223%EC%8B%9C%EC%A6%8C-%EC%97%AC%EB%A6%84-%EC%9D%B4%EC%A0%81%EC%8B%9C%EC%9E%A5%EC%9D%84-%EC%95%8C%EC%95%84%EB%B3%B4%EC%9E%90',\n",
       " 'https://blog.naver.com/tts0732/222784718431',\n",
       " 'https://blog.naver.com/7ulyee/222805642911',\n",
       " 'https://blog.naver.com/tts0732/222801667128',\n",
       " 'https://blog.naver.com/footballtransfernews/222806625313',\n",
       " 'https://blog.naver.com/tts0732/222791797494',\n",
       " 'https://blog.naver.com/whis4676/222785732609',\n",
       " 'https://blog.naver.com/7ulyee/222817240323',\n",
       " 'https://blog.naver.com/tts0732/222796159008',\n",
       " 'https://blog.naver.com/tts0732/222782192951',\n",
       " 'https://blog.naver.com/tts0732/222794316448',\n",
       " 'https://blog.naver.com/whis4676/222800861520',\n",
       " 'https://blog.naver.com/tts0732/222788214734',\n",
       " 'https://blog.naver.com/tts0732/222812516666',\n",
       " 'https://blog.naver.com/tts0732/222800015030',\n",
       " 'https://blog.naver.com/tts0732/222779850889',\n",
       " 'https://blog.naver.com/whis4676/222795032614',\n",
       " 'https://blog.naver.com/whis4676/222792045571',\n",
       " 'https://blog.naver.com/whis4676/222788587480',\n",
       " 'https://blog.naver.com/whis4676/222807331645',\n",
       " 'https://blog.naver.com/whis4676/222784181391',\n",
       " 'https://blog.naver.com/whis4676/222803262259',\n",
       " 'https://blog.naver.com/whis4676/222790709807',\n",
       " 'https://blog.naver.com/whis4676/222777943466',\n",
       " 'https://blog.naver.com/whis4676/222798964226',\n",
       " 'https://blog.naver.com/whis4676/222787043682',\n",
       " 'https://blog.naver.com/whis4676/222792205415',\n",
       " 'https://blog.naver.com/jsw336699/222815362872',\n",
       " 'https://blog.naver.com/dlsah0585/222813826982',\n",
       " 'https://blog.naver.com/ktrhoya/222816141281',\n",
       " 'https://blog.naver.com/marzi9339/222817204667',\n",
       " 'https://blog.naver.com/fgg7529j/222816895554',\n",
       " 'https://blog.naver.com/jsw336699/222805357245',\n",
       " 'https://blog.naver.com/fruitworm/222816046633',\n",
       " 'https://blog.naver.com/dlsah0585/222802075611',\n",
       " 'https://blog.naver.com/kannbin/222784794087',\n",
       " 'https://blog.naver.com/truble97/222811506026',\n",
       " 'https://blog.naver.com/whis4676/222790798737',\n",
       " 'https://blog.naver.com/jsw336699/222798251952',\n",
       " 'https://blog.naver.com/truble97/222797388697',\n",
       " 'https://blog.naver.com/dlsah0585/222787756305',\n",
       " 'https://blog.naver.com/a852258a/222807190887',\n",
       " 'https://blog.naver.com/tigrmetal2/222811321385',\n",
       " 'https://blog.naver.com/loop-ing20/222812463229',\n",
       " 'https://blog.naver.com/jsw336699/222789413047',\n",
       " 'https://blog.naver.com/7ulyee/222808928226',\n",
       " 'https://blog.naver.com/truble97/222808815263',\n",
       " 'https://blog.naver.com/rebeccajohnsona/222807357329',\n",
       " 'https://blog.naver.com/tmzkdl7856/222804313076',\n",
       " 'https://blog.naver.com/hoden_0604/222804246331',\n",
       " 'https://blog.naver.com/minjiyun17/222811013487',\n",
       " 'https://blog.naver.com/baengyun/222813753127',\n",
       " 'https://blog.naver.com/hoden_0604/222803437431',\n",
       " 'https://blog.naver.com/iddyd93/222798852130',\n",
       " 'https://uisei.tistory.com/385',\n",
       " 'https://blog.naver.com/whis4676/222802594300',\n",
       " 'https://blog.naver.com/drunkingbk/222811159639',\n",
       " 'https://blog.daum.net/b11825/4894285',\n",
       " 'https://blog.naver.com/cresports/222794759103',\n",
       " 'https://blog.naver.com/truble97/222792382120',\n",
       " 'https://blog.naver.com/chsh0115/222793220657',\n",
       " 'https://blog.naver.com/q36485/222794972972',\n",
       " 'https://blog.naver.com/cresports/222785523893',\n",
       " 'https://blog.naver.com/cresports/222788350921',\n",
       " 'https://blog.naver.com/cresports/222792145886',\n",
       " 'https://blog.naver.com/okjoa012/222813276481',\n",
       " 'https://blog.naver.com/minjiyun17/222808299343',\n",
       " 'https://blog.naver.com/dudtjr625/222807737083',\n",
       " 'https://blog.naver.com/tmzkdl7856/222784460098',\n",
       " 'https://blog.naver.com/dudtjr625/222806168865',\n",
       " 'https://blog.naver.com/truble97/222801332872',\n",
       " 'https://blog.naver.com/tmzkdl7856/222789150988',\n",
       " 'https://blog.naver.com/sonsooho/222815919415',\n",
       " 'https://blog.naver.com/tmzkdl7856/222803742239',\n",
       " 'https://blog.naver.com/footballtransfernews/222791455418',\n",
       " 'https://blog.daum.net/b11825/4894269',\n",
       " 'https://blog.naver.com/truble97/222789465505',\n",
       " 'https://blog.naver.com/greatchois/222789735388',\n",
       " 'https://blog.daum.net/b11825/4894271',\n",
       " 'https://blog.naver.com/dakahara80/222802813089',\n",
       " 'https://blog.naver.com/tmzkdl7856/222816712199',\n",
       " 'https://blog.naver.com/samjoun/222779014569',\n",
       " 'https://blog.naver.com/tmzkdl7856/222815418209',\n",
       " 'https://blog.naver.com/tmzkdl7856/222816269787',\n",
       " 'https://blog.naver.com/capitalism8282/222806122983',\n",
       " 'https://blog.naver.com/happyh5577/222799514267',\n",
       " 'https://blog.naver.com/tmzkdl7856/222794629799',\n",
       " 'https://blog.naver.com/zhzkzhffkrha-/222816825966']"
      ]
     },
     "execution_count": 18,
     "metadata": {},
     "output_type": "execute_result"
    }
   ],
   "source": [
    "# 수집된 url들 확인\n",
    "url_list"
   ]
  },
  {
   "cell_type": "code",
   "execution_count": 19,
   "metadata": {
    "id": "Q491yek4-kvs",
    "outputId": "b8d88911-275c-4f8d-bd89-0c3831d666c7"
   },
   "outputs": [
    {
     "data": {
      "text/plain": [
       "['해외축구 이적시장 최신업데이트 EPL,프리메라리그,세리에A...',\n",
       " '[블챌] 바쁘게 돌아가는 해외축구 이적시장',\n",
       " '해외축구 이적시장 상황',\n",
       " '해외축구 이적시장 소식 프랭키 데 용 영입을 위해...',\n",
       " '7/8 해외축구 여름이적시장 요약',\n",
       " '2022 유럽 해외축구 이적시장 루머 금일자 정리 Ⅱ.txt',\n",
       " '2022년 해외축구 여름이적시장 중간현황(2022년6월30일까지...',\n",
       " '[6/22] 해외축구 이적시장 루머 정리',\n",
       " '해외축구 여름 이적시장 오피셜 및 루머 총정리 (토트넘, 첼시...',\n",
       " '축구 팬들은 기다려지는 해외축구이적',\n",
       " '해외축구 이적시장 - 히샬리송 토트넘 이적설? 앤서니 고든도?...',\n",
       " '해외축구 이적시장 및 사건사고 업데이트 (토마스파티?) epl 등...',\n",
       " '[해외축구 이슈] EPL 이적시장 눈여겨볼 영입',\n",
       " '해외축구 이적시장 상황',\n",
       " '[해외축구 소식] 포그바... + 이적시장의 여포, 맨시티!! ⛴',\n",
       " '프리미어리그 빅6 이적 영입 상황 (해외축구 이적시장)',\n",
       " '2022 유럽 해외축구 이적시장 루머 금일자 정리.txt',\n",
       " '[해외축구] 이적시장 가십 소식 전달!',\n",
       " '[가쉽] 220704 해외축구 이적시장 정리(디발라, 베르나르도...',\n",
       " '22/23 해외축구 여름 이적시장 - 아스날 영입 오피셜 모음',\n",
       " '[해외축구] 호날두 UCL 출전의지,, 맨유에 이적 통보...',\n",
       " '해외축구 여름 이적시장 22.07.04 현재상황정리(프리미어리그...',\n",
       " '[해외축구 이슈] 라리가 이적시장 눈여겨볼 영입',\n",
       " '[해외축구 이적시장] 오늘의 오피셜!',\n",
       " '[스포츠] 대한민국 축구 선수들의 이적. 황의조! 황인범! 김민재!...',\n",
       " '[해외축구 소식] 파란색의... + 미궁으로 빠지는 데 용 이적사...',\n",
       " '7/15 해외축구 여름이적시장 요약',\n",
       " '90min 해외축구 이적뉴스(첼시 데리흐트 방출조항 102m 내야할...',\n",
       " '[The Athletic] 미국 축구... 임대 이적으로 클럽을 떠날 것으로...',\n",
       " '[가쉽] 220624 해외축구 이적시장 정리(레반도프스키, 네이마르...',\n",
       " '22/23 해외축구 여름 이적시장 - 토트넘 영입 오피셜 모음',\n",
       " '해외축구 프리미어리그 이적시장 현재상황 EPL 토트넘...',\n",
       " '2022/23시즌 여름 이적시장을 알아보자',\n",
       " '해외축구 이적시장 상황',\n",
       " '해외축구 이적시장 epl, 세리에a, 프리메라리가, 분데스리가...',\n",
       " '해외축구 이적시장 상황',\n",
       " '22/23 해외축구 여름 이적시장 - 보루시아 도르트문트 영입...',\n",
       " '해외축구 이적시장',\n",
       " '6/22 해외축구 여름이적시장 요약',\n",
       " '해외축구 여름 이적시장 새로운 소식 epl, 세리에a...',\n",
       " '해외축구 이적시장 상황 정리',\n",
       " '해외축구 이적시장 상황',\n",
       " '해외축구 이적시장',\n",
       " '7/5 해외축구 여름이적시장 요약',\n",
       " '[6/23~25] 해외축구 이적시장 상황 정리',\n",
       " '해외축구 이적시장 상황',\n",
       " '[해외축구 이적시장] 오늘의 오피셜!',\n",
       " '해외축구 이적시장',\n",
       " '6/30 해외축구 여름이적시장 요약',\n",
       " '6/27 해외축구 여름이적시장 요약',\n",
       " '[코마노] 6/24 해외축구 여름이적시장 요약',\n",
       " '7/11 해외축구 여름이적시장 요약',\n",
       " '6/21 해외축구 여름이적시장 요약',\n",
       " '7/7 해외축구 여름이적시장 요약',\n",
       " '6/26 해외축구 여름이적시장 요약',\n",
       " '6/17 해외축구 여름이적시장 요약',\n",
       " '7.3 해외축구 여름이적시장 요약',\n",
       " '6/23 해외축구 여름이적시장 요약',\n",
       " '해외 축구 이적시장이 재미있는 이유',\n",
       " '[7월 16일] BBC 이적시장 루머 가십 정리 - 호날두, 실바, 진첸코...',\n",
       " '2022 여름 이적시장 중간점검 ③',\n",
       " '선수들의 의식 변화, 여름이적시장 상위리그 10명 입단의 결과로!',\n",
       " '나폴리 이적시장 \" 김민재 영입 근접 \" 정말 나폴리로 가나..?',\n",
       " '7월18일 해외축구중계사이트 여기서',\n",
       " '[7월 8일] BBC 이적시장 루머 가십 정리 - 마르티네즈, 호날두...',\n",
       " '22시즌 여름 이적시장을 마치며',\n",
       " '2022 여름 이적시장 중간점검 ②',\n",
       " '5대 리그 여름 이적시장 종료일',\n",
       " '[해외축구 소식] 하피냐 to 바르셀로나 + 첼시, 두 개의 빅 영입!...',\n",
       " '[데이비드 온스테인] 지금까지 이적시장 정리 영상 요약',\n",
       " '[7월 2일] BBC 이적시장 루머 가십 정리 - 안토니, 호날두...',\n",
       " '[해외축구 소식] 썩던 이가 빠진 첼시, 영입고조! + 히샬리송...',\n",
       " '2022 여름 이적시장 중간점검 ①',\n",
       " '2022 해외축구 구단가치 순위 TOP5를 알아보자',\n",
       " '[EU] 해외 축구팬 \"K리그 선수들 수준이 높네. 양현준 정말...',\n",
       " '[축구] 22/23 시즌 해외축구 개막 일정, 중계 / epl...',\n",
       " '[6월 25일] BBC 이적시장 루머 가십 정리 - 더리흐트, 호날두, 더...',\n",
       " '해외축구 유럽역대최고의 공격듀오는? 공격듀오 합작골...',\n",
       " '[해외축구 소식] 디 마리아, 유벤투스 행! + 로마노, 김민재...',\n",
       " '해외축구중계사이트 기대되는 올 시즌',\n",
       " '라이벌 레전드도 엄지 척, \"토트넘, 이적 시장 참 잘 했어요!\"',\n",
       " '맨시티 스털링, 곧 첼시로 이적 개인 합의는 이미 마무리',\n",
       " '07.14 해외축구 소식 요약',\n",
       " '[오피셜] 칼리두 쿨리발리, 첼시 이적 2026년까지 계약',\n",
       " '디 마리아 유벤투스로 HERE WE GO 유벤투스로 이적 임박',\n",
       " '해외축구, 토트넘의 미~친 영업소식 정리',\n",
       " '맨체스터 시티의 베스트11 더블 스쿼드, 이적시장 중간 정리',\n",
       " '셰필드 아넬 아메드호지치 이적 계약 예정(FM2021...',\n",
       " '쿨리발리의 첼시이적유력과 김민재선수의 거취',\n",
       " '7. 10. 일요일의 해외축구 가십 - 포든, 캉테, 에릭센, 디발라',\n",
       " '22-23 시즌 토트넘 이적 시장 정리 ④ - <크리스티안 에릭센...',\n",
       " '[해외축구 소식] 베일 to LA + 움직이기 시작하는 뉴캐슬...',\n",
       " 'epl 이적료 연봉 주급 브라질 축구국가대표선수 나이 프로필...',\n",
       " '2022 해외축구 구단가치 순위 TOP10에 대해 알아보자',\n",
       " '22-23 시즌 토트넘 이적 시장 정리 ① - <프레이저 포스터...',\n",
       " '22-23 시즌 토트넘 이적 시장 정리 ② - <알렉산드로 바스토니...',\n",
       " '22-23 시즌 토트넘 이적 시장 정리 ③ - <히샬리송, 하피냐>',\n",
       " '토트넘 세비야 볼수있는곳 쿠팡플레이 가입 스포츠 K리그...',\n",
       " '07.12 해외축구 소식 요약',\n",
       " '2022년 7월 11일 해외축구 가십[해리 케인, 로베르트...',\n",
       " \"이적 총괄' 그라놉스카야 사임... 이적 시장 종료 후 결별 예정!\",\n",
       " '2022년 7월 10일 해외축구 가십[필 포든, 은골로 캉테...',\n",
       " '[해외축구 소식] 제주스, 아스날 here we go! + 토트넘, 랑글레...',\n",
       " '[오피셜] 가레스 베일, 로스 앤젤레스 FC 이적 완료!',\n",
       " '[손변의 스法] 14화. 국내외 메디컬 체크 분쟁. 삼성 vs...',\n",
       " '첼시, 호날두 영입 위해 맨유에 공식 제안... 이적 사가 본격 시작!',\n",
       " \"호날두는 텐 하흐를 좋아하지만 이번 이적시장에서 '야망'을...\",\n",
       " '금요일의 해외축구 가십 - 레반도프스키, 호날두, 네이마르...',\n",
       " '[해외축구 소식] 빅 6 런던 구단들 이적설 특집! (아스날, 첼시...',\n",
       " '수 없다고 전한 맨체스터 유나이티드 + 추가 이적시장 소식',\n",
       " '일요일의 해외축구 가십 - 데 리흐트, 호날두, 데 용...',\n",
       " '올시즌은 울산현대가 우승할수 있을까?(이적한 선수들)',\n",
       " \"' 더 리흐트→바이에른... 5년 계약+이적료 1,066억 이상!\",\n",
       " '토트넘 이적시장 이브 비수마 토트넘에 합류해서 감격 토트넘...',\n",
       " '바르셀로나, 곧바로 5호 영입 정조준... 타깃은 카니 추쿠에메카!',\n",
       " '[오피셜] 맨유, 리산드로 마르티네스 영입!',\n",
       " '해축갤의 해축팬이라면 축구팀과 기업의 스폰서 계약과...',\n",
       " '한국에 온다. 쿠팡플레이 티켓 예매 세비야 K리그 축구 일정',\n",
       " '\"불행 하면 떠날 수 밖에\" 제주스→스털링 이적에 \\'쿨\\'한 펩!',\n",
       " '바르셀로나 레반도프스키 영입 발표 크리스텐센 하피냐 케시에...']"
      ]
     },
     "execution_count": 19,
     "metadata": {},
     "output_type": "execute_result"
    }
   ],
   "source": [
    "# 수집된 블로그 제목 확인\n",
    "title_list"
   ]
  },
  {
   "cell_type": "code",
   "execution_count": 20,
   "metadata": {
    "id": "MvgyX_pk-kvt",
    "outputId": "7749cfef-5aa7-45f6-db8a-e94b444998d8",
    "scrolled": false
   },
   "outputs": [
    {
     "data": {
      "text/html": [
       "<div>\n",
       "<style scoped>\n",
       "    .dataframe tbody tr th:only-of-type {\n",
       "        vertical-align: middle;\n",
       "    }\n",
       "\n",
       "    .dataframe tbody tr th {\n",
       "        vertical-align: top;\n",
       "    }\n",
       "\n",
       "    .dataframe thead th {\n",
       "        text-align: right;\n",
       "    }\n",
       "</style>\n",
       "<table border=\"1\" class=\"dataframe\">\n",
       "  <thead>\n",
       "    <tr style=\"text-align: right;\">\n",
       "      <th></th>\n",
       "      <th>url</th>\n",
       "      <th>title</th>\n",
       "    </tr>\n",
       "  </thead>\n",
       "  <tbody>\n",
       "    <tr>\n",
       "      <th>0</th>\n",
       "      <td>https://blog.naver.com/7ulyee/222813310047</td>\n",
       "      <td>해외축구 이적시장 최신업데이트 EPL,프리메라리그,세리에A...</td>\n",
       "    </tr>\n",
       "    <tr>\n",
       "      <th>1</th>\n",
       "      <td>https://blog.naver.com/masterofrichpark/222805...</td>\n",
       "      <td>[블챌] 바쁘게 돌아가는 해외축구 이적시장</td>\n",
       "    </tr>\n",
       "    <tr>\n",
       "      <th>2</th>\n",
       "      <td>https://blog.naver.com/tts0732/222798413460</td>\n",
       "      <td>해외축구 이적시장 상황</td>\n",
       "    </tr>\n",
       "    <tr>\n",
       "      <th>3</th>\n",
       "      <td>https://blog.naver.com/z2inny/222808892639</td>\n",
       "      <td>해외축구 이적시장 소식 프랭키 데 용 영입을 위해...</td>\n",
       "    </tr>\n",
       "    <tr>\n",
       "      <th>4</th>\n",
       "      <td>https://blog.naver.com/whis4676/222804382640</td>\n",
       "      <td>7/8 해외축구 여름이적시장 요약</td>\n",
       "    </tr>\n",
       "    <tr>\n",
       "      <th>...</th>\n",
       "      <td>...</td>\n",
       "      <td>...</td>\n",
       "    </tr>\n",
       "    <tr>\n",
       "      <th>115</th>\n",
       "      <td>https://blog.naver.com/tmzkdl7856/222816269787</td>\n",
       "      <td>[오피셜] 맨유, 리산드로 마르티네스 영입!</td>\n",
       "    </tr>\n",
       "    <tr>\n",
       "      <th>116</th>\n",
       "      <td>https://blog.naver.com/capitalism8282/22280612...</td>\n",
       "      <td>해축갤의 해축팬이라면 축구팀과 기업의 스폰서 계약과...</td>\n",
       "    </tr>\n",
       "    <tr>\n",
       "      <th>117</th>\n",
       "      <td>https://blog.naver.com/happyh5577/222799514267</td>\n",
       "      <td>한국에 온다. 쿠팡플레이 티켓 예매 세비야 K리그 축구 일정</td>\n",
       "    </tr>\n",
       "    <tr>\n",
       "      <th>118</th>\n",
       "      <td>https://blog.naver.com/tmzkdl7856/222794629799</td>\n",
       "      <td>\"불행 하면 떠날 수 밖에\" 제주스→스털링 이적에 '쿨'한 펩!</td>\n",
       "    </tr>\n",
       "    <tr>\n",
       "      <th>119</th>\n",
       "      <td>https://blog.naver.com/zhzkzhffkrha-/222816825966</td>\n",
       "      <td>바르셀로나 레반도프스키 영입 발표 크리스텐센 하피냐 케시에...</td>\n",
       "    </tr>\n",
       "  </tbody>\n",
       "</table>\n",
       "<p>120 rows × 2 columns</p>\n",
       "</div>"
      ],
      "text/plain": [
       "                                                   url  \\\n",
       "0           https://blog.naver.com/7ulyee/222813310047   \n",
       "1    https://blog.naver.com/masterofrichpark/222805...   \n",
       "2          https://blog.naver.com/tts0732/222798413460   \n",
       "3           https://blog.naver.com/z2inny/222808892639   \n",
       "4         https://blog.naver.com/whis4676/222804382640   \n",
       "..                                                 ...   \n",
       "115     https://blog.naver.com/tmzkdl7856/222816269787   \n",
       "116  https://blog.naver.com/capitalism8282/22280612...   \n",
       "117     https://blog.naver.com/happyh5577/222799514267   \n",
       "118     https://blog.naver.com/tmzkdl7856/222794629799   \n",
       "119  https://blog.naver.com/zhzkzhffkrha-/222816825966   \n",
       "\n",
       "                                   title  \n",
       "0    해외축구 이적시장 최신업데이트 EPL,프리메라리그,세리에A...  \n",
       "1                [블챌] 바쁘게 돌아가는 해외축구 이적시장  \n",
       "2                           해외축구 이적시장 상황  \n",
       "3         해외축구 이적시장 소식 프랭키 데 용 영입을 위해...  \n",
       "4                     7/8 해외축구 여름이적시장 요약  \n",
       "..                                   ...  \n",
       "115             [오피셜] 맨유, 리산드로 마르티네스 영입!  \n",
       "116      해축갤의 해축팬이라면 축구팀과 기업의 스폰서 계약과...  \n",
       "117    한국에 온다. 쿠팡플레이 티켓 예매 세비야 K리그 축구 일정  \n",
       "118  \"불행 하면 떠날 수 밖에\" 제주스→스털링 이적에 '쿨'한 펩!  \n",
       "119  바르셀로나 레반도프스키 영입 발표 크리스텐센 하피냐 케시에...  \n",
       "\n",
       "[120 rows x 2 columns]"
      ]
     },
     "execution_count": 20,
     "metadata": {},
     "output_type": "execute_result"
    }
   ],
   "source": [
    "# 수집된 url_list, title_list로 판다스 데이터프레임 만들기\n",
    "df = pd.DataFrame({'url':url_list, 'title':title_list})\n",
    "df"
   ]
  },
  {
   "cell_type": "code",
   "execution_count": 21,
   "metadata": {
    "id": "0gl5A-pW-kvt",
    "outputId": "a559e994-03d4-4012-87d8-13ff86500cd9"
   },
   "outputs": [
    {
     "data": {
      "text/plain": [
       "'/Users/krc/TIL/RS/crawling'"
      ]
     },
     "execution_count": 21,
     "metadata": {},
     "output_type": "execute_result"
    }
   ],
   "source": [
    "pwd"
   ]
  },
  {
   "cell_type": "code",
   "execution_count": 22,
   "metadata": {
    "id": "utM15Eos-kvt"
   },
   "outputs": [],
   "source": [
    "# 저장하기\n",
    "df.to_csv(\"blog_url.csv\", encoding='utf-8-sig')\n",
    "# df.to_csv(\"blog_url.csv\", encoding='utf-8-sig')"
   ]
  },
  {
   "cell_type": "markdown",
   "metadata": {
    "id": "hXNfrK-L-kvt"
   },
   "source": [
    "# 2. 블로그 내용 크롤링하기"
   ]
  },
  {
   "cell_type": "code",
   "execution_count": 23,
   "metadata": {
    "id": "wueBlU75-kvt"
   },
   "outputs": [],
   "source": [
    "import sys\n",
    "import os\n",
    "import pandas as pd\n",
    "import numpy as np"
   ]
  },
  {
   "cell_type": "code",
   "execution_count": 24,
   "metadata": {
    "id": "nRD3qDF5-kvt",
    "outputId": "9630a68d-e501-4865-eaa2-3112a51d78ab",
    "scrolled": true
   },
   "outputs": [
    {
     "name": "stdout",
     "output_type": "stream",
     "text": [
      "120\n"
     ]
    },
    {
     "data": {
      "text/html": [
       "<div>\n",
       "<style scoped>\n",
       "    .dataframe tbody tr th:only-of-type {\n",
       "        vertical-align: middle;\n",
       "    }\n",
       "\n",
       "    .dataframe tbody tr th {\n",
       "        vertical-align: top;\n",
       "    }\n",
       "\n",
       "    .dataframe thead th {\n",
       "        text-align: right;\n",
       "    }\n",
       "</style>\n",
       "<table border=\"1\" class=\"dataframe\">\n",
       "  <thead>\n",
       "    <tr style=\"text-align: right;\">\n",
       "      <th></th>\n",
       "      <th>url</th>\n",
       "      <th>title</th>\n",
       "    </tr>\n",
       "  </thead>\n",
       "  <tbody>\n",
       "    <tr>\n",
       "      <th>0</th>\n",
       "      <td>https://blog.naver.com/7ulyee/222813310047</td>\n",
       "      <td>해외축구 이적시장 최신업데이트 EPL,프리메라리그,세리에A...</td>\n",
       "    </tr>\n",
       "    <tr>\n",
       "      <th>1</th>\n",
       "      <td>https://blog.naver.com/masterofrichpark/222805...</td>\n",
       "      <td>[블챌] 바쁘게 돌아가는 해외축구 이적시장</td>\n",
       "    </tr>\n",
       "    <tr>\n",
       "      <th>2</th>\n",
       "      <td>https://blog.naver.com/tts0732/222798413460</td>\n",
       "      <td>해외축구 이적시장 상황</td>\n",
       "    </tr>\n",
       "    <tr>\n",
       "      <th>3</th>\n",
       "      <td>https://blog.naver.com/z2inny/222808892639</td>\n",
       "      <td>해외축구 이적시장 소식 프랭키 데 용 영입을 위해...</td>\n",
       "    </tr>\n",
       "    <tr>\n",
       "      <th>4</th>\n",
       "      <td>https://blog.naver.com/whis4676/222804382640</td>\n",
       "      <td>7/8 해외축구 여름이적시장 요약</td>\n",
       "    </tr>\n",
       "    <tr>\n",
       "      <th>...</th>\n",
       "      <td>...</td>\n",
       "      <td>...</td>\n",
       "    </tr>\n",
       "    <tr>\n",
       "      <th>115</th>\n",
       "      <td>https://blog.naver.com/tmzkdl7856/222816269787</td>\n",
       "      <td>[오피셜] 맨유, 리산드로 마르티네스 영입!</td>\n",
       "    </tr>\n",
       "    <tr>\n",
       "      <th>116</th>\n",
       "      <td>https://blog.naver.com/capitalism8282/22280612...</td>\n",
       "      <td>해축갤의 해축팬이라면 축구팀과 기업의 스폰서 계약과...</td>\n",
       "    </tr>\n",
       "    <tr>\n",
       "      <th>117</th>\n",
       "      <td>https://blog.naver.com/happyh5577/222799514267</td>\n",
       "      <td>한국에 온다. 쿠팡플레이 티켓 예매 세비야 K리그 축구 일정</td>\n",
       "    </tr>\n",
       "    <tr>\n",
       "      <th>118</th>\n",
       "      <td>https://blog.naver.com/tmzkdl7856/222794629799</td>\n",
       "      <td>\"불행 하면 떠날 수 밖에\" 제주스→스털링 이적에 '쿨'한 펩!</td>\n",
       "    </tr>\n",
       "    <tr>\n",
       "      <th>119</th>\n",
       "      <td>https://blog.naver.com/zhzkzhffkrha-/222816825966</td>\n",
       "      <td>바르셀로나 레반도프스키 영입 발표 크리스텐센 하피냐 케시에...</td>\n",
       "    </tr>\n",
       "  </tbody>\n",
       "</table>\n",
       "<p>120 rows × 2 columns</p>\n",
       "</div>"
      ],
      "text/plain": [
       "                                                   url  \\\n",
       "0           https://blog.naver.com/7ulyee/222813310047   \n",
       "1    https://blog.naver.com/masterofrichpark/222805...   \n",
       "2          https://blog.naver.com/tts0732/222798413460   \n",
       "3           https://blog.naver.com/z2inny/222808892639   \n",
       "4         https://blog.naver.com/whis4676/222804382640   \n",
       "..                                                 ...   \n",
       "115     https://blog.naver.com/tmzkdl7856/222816269787   \n",
       "116  https://blog.naver.com/capitalism8282/22280612...   \n",
       "117     https://blog.naver.com/happyh5577/222799514267   \n",
       "118     https://blog.naver.com/tmzkdl7856/222794629799   \n",
       "119  https://blog.naver.com/zhzkzhffkrha-/222816825966   \n",
       "\n",
       "                                   title  \n",
       "0    해외축구 이적시장 최신업데이트 EPL,프리메라리그,세리에A...  \n",
       "1                [블챌] 바쁘게 돌아가는 해외축구 이적시장  \n",
       "2                           해외축구 이적시장 상황  \n",
       "3         해외축구 이적시장 소식 프랭키 데 용 영입을 위해...  \n",
       "4                     7/8 해외축구 여름이적시장 요약  \n",
       "..                                   ...  \n",
       "115             [오피셜] 맨유, 리산드로 마르티네스 영입!  \n",
       "116      해축갤의 해축팬이라면 축구팀과 기업의 스폰서 계약과...  \n",
       "117    한국에 온다. 쿠팡플레이 티켓 예매 세비야 K리그 축구 일정  \n",
       "118  \"불행 하면 떠날 수 밖에\" 제주스→스털링 이적에 '쿨'한 펩!  \n",
       "119  바르셀로나 레반도프스키 영입 발표 크리스텐센 하피냐 케시에...  \n",
       "\n",
       "[120 rows x 2 columns]"
      ]
     },
     "execution_count": 24,
     "metadata": {},
     "output_type": "execute_result"
    }
   ],
   "source": [
    "# \"url_list.csv\" 불러오기\n",
    "url_load = pd.read_csv(\"blog_url.csv\")\n",
    "url_load = url_load.drop(\"Unnamed: 0\", axis=1)  # 불필요한 칼럼 삭제\n",
    "\n",
    "num_list = len(url_load)\n",
    "\n",
    "print(num_list)\n",
    "url_load"
   ]
  },
  {
   "cell_type": "code",
   "execution_count": 25,
   "metadata": {},
   "outputs": [
    {
     "data": {
      "text/plain": [
       "0             https://blog.naver.com/7ulyee/222813310047\n",
       "1      https://blog.naver.com/masterofrichpark/222805...\n",
       "2            https://blog.naver.com/tts0732/222798413460\n",
       "3             https://blog.naver.com/z2inny/222808892639\n",
       "4           https://blog.naver.com/whis4676/222804382640\n",
       "                             ...                        \n",
       "115       https://blog.naver.com/tmzkdl7856/222816269787\n",
       "116    https://blog.naver.com/capitalism8282/22280612...\n",
       "117       https://blog.naver.com/happyh5577/222799514267\n",
       "118       https://blog.naver.com/tmzkdl7856/222794629799\n",
       "119    https://blog.naver.com/zhzkzhffkrha-/222816825966\n",
       "Name: url, Length: 120, dtype: object"
      ]
     },
     "execution_count": 25,
     "metadata": {},
     "output_type": "execute_result"
    }
   ],
   "source": [
    "url_load['url']"
   ]
  },
  {
   "cell_type": "code",
   "execution_count": 26,
   "metadata": {},
   "outputs": [],
   "source": [
    "# 글 하나 띄우기\n",
    "i = 1\n",
    "url = url_load['url'][i]\n",
    "driver = webdriver.Chrome(chrome_path, options=options)\n",
    "driver.get(url)   # 글 띄우기"
   ]
  },
  {
   "cell_type": "code",
   "execution_count": 27,
   "metadata": {},
   "outputs": [],
   "source": [
    "# iframe 접근\n",
    "driver.switch_to.frame('mainFrame')"
   ]
  },
  {
   "cell_type": "code",
   "execution_count": 28,
   "metadata": {},
   "outputs": [],
   "source": [
    "dict = {}\n",
    "target_info = {}  # 개별 블로그 내용을 담을 딕셔너리 생성"
   ]
  },
  {
   "cell_type": "code",
   "execution_count": 29,
   "metadata": {},
   "outputs": [
    {
     "data": {
      "text/plain": [
       "'[블챌] 바쁘게 돌아가는 해외축구 이적시장'"
      ]
     },
     "execution_count": 29,
     "metadata": {},
     "output_type": "execute_result"
    }
   ],
   "source": [
    "# 제목 크롤링 시작\n",
    "overlays = \".se-module.se-module-text.se-title-text\"                                 \n",
    "tit = driver.find_element_by_css_selector(overlays)          # title\n",
    "title = tit.text\n",
    "title"
   ]
  },
  {
   "cell_type": "code",
   "execution_count": 30,
   "metadata": {},
   "outputs": [
    {
     "data": {
      "text/plain": [
       "'Insightmaster'"
      ]
     },
     "execution_count": 30,
     "metadata": {},
     "output_type": "execute_result"
    }
   ],
   "source": [
    "# 글쓴이 크롤링 시작\n",
    "overlays = \".nick\"                                 \n",
    "nick = driver.find_element_by_css_selector(overlays)         # nickname\n",
    "nickname = nick.text\n",
    "nickname"
   ]
  },
  {
   "cell_type": "code",
   "execution_count": 31,
   "metadata": {},
   "outputs": [
    {
     "data": {
      "text/plain": [
       "'2022. 7. 9. 23:48'"
      ]
     },
     "execution_count": 31,
     "metadata": {},
     "output_type": "execute_result"
    }
   ],
   "source": [
    "# 날짜 크롤링\n",
    "overlays = \".se_publishDate.pcol2\"                                 \n",
    "date = driver.find_element_by_css_selector(overlays)         # datetime\n",
    "datetime = date.text\n",
    "datetime"
   ]
  },
  {
   "cell_type": "code",
   "execution_count": 32,
   "metadata": {
    "scrolled": true
   },
   "outputs": [
    {
     "data": {
      "text/plain": [
       "[<selenium.webdriver.remote.webelement.WebElement (session=\"11a091b9346fbf0ccbe9543f76e73a09\", element=\"a396609b-4a04-4093-997a-6b183d6e5a66\")>]"
      ]
     },
     "execution_count": 32,
     "metadata": {},
     "output_type": "execute_result"
    }
   ],
   "source": [
    "# 내용 크롤링\n",
    "overlays = \".se-component.se-text.se-l-default\"                                 \n",
    "contents = driver.find_elements_by_css_selector(overlays)    # contents\n",
    "contents"
   ]
  },
  {
   "cell_type": "code",
   "execution_count": 33,
   "metadata": {},
   "outputs": [
    {
     "data": {
      "text/plain": [
       "'해외축구 이적시장이 바쁘게 돌아가고 있다. 유럽축구는 6~8월까지 여름 이적시장이 열린다. 이 기간 동안 각 팀들은 다음 시즌 경쟁을 위한 선수 영입에 나선다. 각 구단마다 순위, 명성, 구단의 재정 등을 고려하여 포지션별로 팀에 필요한 선수들을 찾는다.\\n팀보다 위대한 선수는 없다고 하지만 결국 경기장에서 승리를 쟁취하는 주인공은 선수다. 골을 넣는 것도 패스를 하는 것도 골을 막아내는 것도 선수들이 한다. 감독은 상대의 전술을 파악하고 상대를 공략할 방법과 각자의 역할을 부여할 뿐 결국 수행은 선수들이 한다. 아무리 명장이 지시를 내린다 한들 선수가 차이를 만들어내지 못하면 승리할 수 없다.\\n팬들의 주요 관심은 빅리그의 상위권 팀의 선수 이적이다. 특히 국내 팬들은 EPL 구단들의 이적에 관심이 많다. 손흥민 선수가 소속된 리그이기도 하다. 박지성 선수가 오랫동안 활약했던 리그이기도 하다. 가장 관심이 많은 구단은 역시 손흥민의 토트넘 선수영입이다. 토트넘은 지금까지 5명의 선수를 영입했다. 윙어 이반 페리시치, 골키퍼 프레이저 포스터, 미드필더 이브 비수마, 공격수 히샬리송, 수비수 랑글레다. 전 포지션에 골고루 영입했다.\\n토트넘은 22-23시즌 챔피언스리그에 나선다. 경기 수가 많아진다. 선수층이 두터워야 한다. 지난 시즌 토트넘의 콘테는 새로운 선수 영입에 대해 지속적으로 구단에 어필해왔다. 돈을 쓰지 않기로 유명한 토트넘의 레비 회장이 콘테의 요청에 지갑을 열었다. 이번 시즌엔 제대로 지원해서 팀을 제대로 키워볼 생각인 듯 하다.\\n하지만 선수 영입이 100% 팀 전력 상승을 가져오는 것은 아니다. 영입한 선수 중 좋은 활약을 펼치는 선수도 있지만 그렇지 않은 선수도 있다. 다른 팀에서 엄청난 활약을 펼치는 것을 보고 거액을 들여 영입했지만 이름값을 못하는 선수들도 많다. 때문에 실제 시즌이 시작되어봐야 선수 영입의 효과를 알 수 있다.\\n지난 시즌 맨유로 컴백한 호날두 이적을 놓고 말이 많은 이유도 마찬가지다. 이적 초반 맨유 감독인 솔샤르와 함께 맨유의 재부흥을 이끌 것이라 예상했지만 솔샤르는 시즌 도중 감독직에서 물러났다. 득점력은 여전히 최고였지만 팀을 살리지 못했다는 평가가 많다. 여전히 맨유의 제1 공격 옵션이지만 타 팀 이적을 원한다는 소식도 들린다. 메시와 함께 세계 최고의 선수로 평가받았고 여전히 나이에 비해 엄청난 활약을 보여주고 있는 호날두다. 그러나 축구 실력을 다 담지 못하는 인성의 그릇은 많이 아쉽다.\\n축구 팬들과 전문가들은 바쁘게 돌아가는 이적 시장을 살피며 다음 시즌 각 팀의 모습을 상상해본다. 축구팬인 나역시 이적시장 소식을 보는 재미를 한껏 즐기고 있는 요즘이다.\\n#유럽축구이적시장 #해외축구이적시장 #블챌 #주간일기'"
      ]
     },
     "execution_count": 33,
     "metadata": {},
     "output_type": "execute_result"
    }
   ],
   "source": [
    "# 첫번째 paragraph(문단) 확인\n",
    "# 블로그 글 contents는 여러 개의 문단이 모인 형태\n",
    "contents[0].text"
   ]
  },
  {
   "cell_type": "code",
   "execution_count": 34,
   "metadata": {},
   "outputs": [
    {
     "data": {
      "text/plain": [
       "'해외축구 이적시장이 바쁘게 돌아가고 있다. 유럽축구는 6~8월까지 여름 이적시장이 열린다. 이 기간 동안 각 팀들은 다음 시즌 경쟁을 위한 선수 영입에 나선다. 각 구단마다 순위, 명성, 구단의 재정 등을 고려하여 포지션별로 팀에 필요한 선수들을 찾는다.\\n팀보다 위대한 선수는 없다고 하지만 결국 경기장에서 승리를 쟁취하는 주인공은 선수다. 골을 넣는 것도 패스를 하는 것도 골을 막아내는 것도 선수들이 한다. 감독은 상대의 전술을 파악하고 상대를 공략할 방법과 각자의 역할을 부여할 뿐 결국 수행은 선수들이 한다. 아무리 명장이 지시를 내린다 한들 선수가 차이를 만들어내지 못하면 승리할 수 없다.\\n팬들의 주요 관심은 빅리그의 상위권 팀의 선수 이적이다. 특히 국내 팬들은 EPL 구단들의 이적에 관심이 많다. 손흥민 선수가 소속된 리그이기도 하다. 박지성 선수가 오랫동안 활약했던 리그이기도 하다. 가장 관심이 많은 구단은 역시 손흥민의 토트넘 선수영입이다. 토트넘은 지금까지 5명의 선수를 영입했다. 윙어 이반 페리시치, 골키퍼 프레이저 포스터, 미드필더 이브 비수마, 공격수 히샬리송, 수비수 랑글레다. 전 포지션에 골고루 영입했다.\\n토트넘은 22-23시즌 챔피언스리그에 나선다. 경기 수가 많아진다. 선수층이 두터워야 한다. 지난 시즌 토트넘의 콘테는 새로운 선수 영입에 대해 지속적으로 구단에 어필해왔다. 돈을 쓰지 않기로 유명한 토트넘의 레비 회장이 콘테의 요청에 지갑을 열었다. 이번 시즌엔 제대로 지원해서 팀을 제대로 키워볼 생각인 듯 하다.\\n하지만 선수 영입이 100% 팀 전력 상승을 가져오는 것은 아니다. 영입한 선수 중 좋은 활약을 펼치는 선수도 있지만 그렇지 않은 선수도 있다. 다른 팀에서 엄청난 활약을 펼치는 것을 보고 거액을 들여 영입했지만 이름값을 못하는 선수들도 많다. 때문에 실제 시즌이 시작되어봐야 선수 영입의 효과를 알 수 있다.\\n지난 시즌 맨유로 컴백한 호날두 이적을 놓고 말이 많은 이유도 마찬가지다. 이적 초반 맨유 감독인 솔샤르와 함께 맨유의 재부흥을 이끌 것이라 예상했지만 솔샤르는 시즌 도중 감독직에서 물러났다. 득점력은 여전히 최고였지만 팀을 살리지 못했다는 평가가 많다. 여전히 맨유의 제1 공격 옵션이지만 타 팀 이적을 원한다는 소식도 들린다. 메시와 함께 세계 최고의 선수로 평가받았고 여전히 나이에 비해 엄청난 활약을 보여주고 있는 호날두다. 그러나 축구 실력을 다 담지 못하는 인성의 그릇은 많이 아쉽다.\\n축구 팬들과 전문가들은 바쁘게 돌아가는 이적 시장을 살피며 다음 시즌 각 팀의 모습을 상상해본다. 축구팬인 나역시 이적시장 소식을 보는 재미를 한껏 즐기고 있는 요즘이다.\\n#유럽축구이적시장 #해외축구이적시장 #블챌 #주간일기'"
      ]
     },
     "execution_count": 34,
     "metadata": {},
     "output_type": "execute_result"
    }
   ],
   "source": [
    "# 각각의 문단에 접근해서 내용을 리스트에 담고, \n",
    "# join 함수를 이용해서 하나의 문장으로 이어붙이기\n",
    "content_list = []\n",
    "for content in contents:\n",
    "    content_list.append(content.text)\n",
    "\n",
    "content_str = ' '.join(content_list)                         # content_str\n",
    "content_str"
   ]
  },
  {
   "cell_type": "code",
   "execution_count": 35,
   "metadata": {},
   "outputs": [
    {
     "data": {
      "text/plain": [
       "{'title': '[블챌] 바쁘게 돌아가는 해외축구 이적시장',\n",
       " 'nickname': 'Insightmaster',\n",
       " 'datetime': '2022. 7. 9. 23:48',\n",
       " 'content': '해외축구 이적시장이 바쁘게 돌아가고 있다. 유럽축구는 6~8월까지 여름 이적시장이 열린다. 이 기간 동안 각 팀들은 다음 시즌 경쟁을 위한 선수 영입에 나선다. 각 구단마다 순위, 명성, 구단의 재정 등을 고려하여 포지션별로 팀에 필요한 선수들을 찾는다.\\n팀보다 위대한 선수는 없다고 하지만 결국 경기장에서 승리를 쟁취하는 주인공은 선수다. 골을 넣는 것도 패스를 하는 것도 골을 막아내는 것도 선수들이 한다. 감독은 상대의 전술을 파악하고 상대를 공략할 방법과 각자의 역할을 부여할 뿐 결국 수행은 선수들이 한다. 아무리 명장이 지시를 내린다 한들 선수가 차이를 만들어내지 못하면 승리할 수 없다.\\n팬들의 주요 관심은 빅리그의 상위권 팀의 선수 이적이다. 특히 국내 팬들은 EPL 구단들의 이적에 관심이 많다. 손흥민 선수가 소속된 리그이기도 하다. 박지성 선수가 오랫동안 활약했던 리그이기도 하다. 가장 관심이 많은 구단은 역시 손흥민의 토트넘 선수영입이다. 토트넘은 지금까지 5명의 선수를 영입했다. 윙어 이반 페리시치, 골키퍼 프레이저 포스터, 미드필더 이브 비수마, 공격수 히샬리송, 수비수 랑글레다. 전 포지션에 골고루 영입했다.\\n토트넘은 22-23시즌 챔피언스리그에 나선다. 경기 수가 많아진다. 선수층이 두터워야 한다. 지난 시즌 토트넘의 콘테는 새로운 선수 영입에 대해 지속적으로 구단에 어필해왔다. 돈을 쓰지 않기로 유명한 토트넘의 레비 회장이 콘테의 요청에 지갑을 열었다. 이번 시즌엔 제대로 지원해서 팀을 제대로 키워볼 생각인 듯 하다.\\n하지만 선수 영입이 100% 팀 전력 상승을 가져오는 것은 아니다. 영입한 선수 중 좋은 활약을 펼치는 선수도 있지만 그렇지 않은 선수도 있다. 다른 팀에서 엄청난 활약을 펼치는 것을 보고 거액을 들여 영입했지만 이름값을 못하는 선수들도 많다. 때문에 실제 시즌이 시작되어봐야 선수 영입의 효과를 알 수 있다.\\n지난 시즌 맨유로 컴백한 호날두 이적을 놓고 말이 많은 이유도 마찬가지다. 이적 초반 맨유 감독인 솔샤르와 함께 맨유의 재부흥을 이끌 것이라 예상했지만 솔샤르는 시즌 도중 감독직에서 물러났다. 득점력은 여전히 최고였지만 팀을 살리지 못했다는 평가가 많다. 여전히 맨유의 제1 공격 옵션이지만 타 팀 이적을 원한다는 소식도 들린다. 메시와 함께 세계 최고의 선수로 평가받았고 여전히 나이에 비해 엄청난 활약을 보여주고 있는 호날두다. 그러나 축구 실력을 다 담지 못하는 인성의 그릇은 많이 아쉽다.\\n축구 팬들과 전문가들은 바쁘게 돌아가는 이적 시장을 살피며 다음 시즌 각 팀의 모습을 상상해본다. 축구팬인 나역시 이적시장 소식을 보는 재미를 한껏 즐기고 있는 요즘이다.\\n#유럽축구이적시장 #해외축구이적시장 #블챌 #주간일기'}"
      ]
     },
     "execution_count": 35,
     "metadata": {},
     "output_type": "execute_result"
    }
   ],
   "source": [
    "# 글 하나는 target_info라는 딕셔너리에 담기게 되고,\n",
    "target_info['title'] = title\n",
    "target_info['nickname'] = nickname\n",
    "target_info['datetime'] = datetime\n",
    "target_info['content'] = content_str\n",
    "\n",
    "target_info"
   ]
  },
  {
   "cell_type": "code",
   "execution_count": 36,
   "metadata": {},
   "outputs": [
    {
     "data": {
      "text/plain": [
       "{1: {'title': '[블챌] 바쁘게 돌아가는 해외축구 이적시장',\n",
       "  'nickname': 'Insightmaster',\n",
       "  'datetime': '2022. 7. 9. 23:48',\n",
       "  'content': '해외축구 이적시장이 바쁘게 돌아가고 있다. 유럽축구는 6~8월까지 여름 이적시장이 열린다. 이 기간 동안 각 팀들은 다음 시즌 경쟁을 위한 선수 영입에 나선다. 각 구단마다 순위, 명성, 구단의 재정 등을 고려하여 포지션별로 팀에 필요한 선수들을 찾는다.\\n팀보다 위대한 선수는 없다고 하지만 결국 경기장에서 승리를 쟁취하는 주인공은 선수다. 골을 넣는 것도 패스를 하는 것도 골을 막아내는 것도 선수들이 한다. 감독은 상대의 전술을 파악하고 상대를 공략할 방법과 각자의 역할을 부여할 뿐 결국 수행은 선수들이 한다. 아무리 명장이 지시를 내린다 한들 선수가 차이를 만들어내지 못하면 승리할 수 없다.\\n팬들의 주요 관심은 빅리그의 상위권 팀의 선수 이적이다. 특히 국내 팬들은 EPL 구단들의 이적에 관심이 많다. 손흥민 선수가 소속된 리그이기도 하다. 박지성 선수가 오랫동안 활약했던 리그이기도 하다. 가장 관심이 많은 구단은 역시 손흥민의 토트넘 선수영입이다. 토트넘은 지금까지 5명의 선수를 영입했다. 윙어 이반 페리시치, 골키퍼 프레이저 포스터, 미드필더 이브 비수마, 공격수 히샬리송, 수비수 랑글레다. 전 포지션에 골고루 영입했다.\\n토트넘은 22-23시즌 챔피언스리그에 나선다. 경기 수가 많아진다. 선수층이 두터워야 한다. 지난 시즌 토트넘의 콘테는 새로운 선수 영입에 대해 지속적으로 구단에 어필해왔다. 돈을 쓰지 않기로 유명한 토트넘의 레비 회장이 콘테의 요청에 지갑을 열었다. 이번 시즌엔 제대로 지원해서 팀을 제대로 키워볼 생각인 듯 하다.\\n하지만 선수 영입이 100% 팀 전력 상승을 가져오는 것은 아니다. 영입한 선수 중 좋은 활약을 펼치는 선수도 있지만 그렇지 않은 선수도 있다. 다른 팀에서 엄청난 활약을 펼치는 것을 보고 거액을 들여 영입했지만 이름값을 못하는 선수들도 많다. 때문에 실제 시즌이 시작되어봐야 선수 영입의 효과를 알 수 있다.\\n지난 시즌 맨유로 컴백한 호날두 이적을 놓고 말이 많은 이유도 마찬가지다. 이적 초반 맨유 감독인 솔샤르와 함께 맨유의 재부흥을 이끌 것이라 예상했지만 솔샤르는 시즌 도중 감독직에서 물러났다. 득점력은 여전히 최고였지만 팀을 살리지 못했다는 평가가 많다. 여전히 맨유의 제1 공격 옵션이지만 타 팀 이적을 원한다는 소식도 들린다. 메시와 함께 세계 최고의 선수로 평가받았고 여전히 나이에 비해 엄청난 활약을 보여주고 있는 호날두다. 그러나 축구 실력을 다 담지 못하는 인성의 그릇은 많이 아쉽다.\\n축구 팬들과 전문가들은 바쁘게 돌아가는 이적 시장을 살피며 다음 시즌 각 팀의 모습을 상상해본다. 축구팬인 나역시 이적시장 소식을 보는 재미를 한껏 즐기고 있는 요즘이다.\\n#유럽축구이적시장 #해외축구이적시장 #블챌 #주간일기'}}"
      ]
     },
     "execution_count": 36,
     "metadata": {},
     "output_type": "execute_result"
    }
   ],
   "source": [
    "dict[i] = target_info\n",
    "\n",
    "dict"
   ]
  },
  {
   "cell_type": "code",
   "execution_count": 39,
   "metadata": {},
   "outputs": [
    {
     "ename": "ModuleNotFoundError",
     "evalue": "No module named 'openpyxl'",
     "output_type": "error",
     "traceback": [
      "\u001b[0;31m---------------------------------------------------------------------------\u001b[0m",
      "\u001b[0;31mModuleNotFoundError\u001b[0m                       Traceback (most recent call last)",
      "Input \u001b[0;32mIn [39]\u001b[0m, in \u001b[0;36m<cell line: 6>\u001b[0;34m()\u001b[0m\n\u001b[1;32m      3\u001b[0m result_df \u001b[38;5;241m=\u001b[39m pd\u001b[38;5;241m.\u001b[39mDataFrame\u001b[38;5;241m.\u001b[39mfrom_dict(\u001b[38;5;28mdict\u001b[39m, \u001b[38;5;124m'\u001b[39m\u001b[38;5;124mindex\u001b[39m\u001b[38;5;124m'\u001b[39m)\n\u001b[1;32m      5\u001b[0m \u001b[38;5;66;03m# 저장하기\u001b[39;00m\n\u001b[0;32m----> 6\u001b[0m \u001b[43mresult_df\u001b[49m\u001b[38;5;241;43m.\u001b[39;49m\u001b[43mto_excel\u001b[49m\u001b[43m(\u001b[49m\u001b[38;5;124;43m\"\u001b[39;49m\u001b[38;5;124;43mblog_content.xlsx\u001b[39;49m\u001b[38;5;124;43m\"\u001b[39;49m\u001b[43m,\u001b[49m\u001b[43m \u001b[49m\u001b[43mencoding\u001b[49m\u001b[38;5;241;43m=\u001b[39;49m\u001b[38;5;124;43m'\u001b[39;49m\u001b[38;5;124;43mutf-8-sig\u001b[39;49m\u001b[38;5;124;43m'\u001b[39;49m\u001b[43m)\u001b[49m\n\u001b[1;32m      7\u001b[0m time\u001b[38;5;241m.\u001b[39msleep(\u001b[38;5;241m3\u001b[39m)\n",
      "File \u001b[0;32m~/miniforge3/envs/dl/lib/python3.8/site-packages/pandas/core/generic.py:2345\u001b[0m, in \u001b[0;36mNDFrame.to_excel\u001b[0;34m(self, excel_writer, sheet_name, na_rep, float_format, columns, header, index, index_label, startrow, startcol, engine, merge_cells, encoding, inf_rep, verbose, freeze_panes, storage_options)\u001b[0m\n\u001b[1;32m   2332\u001b[0m \u001b[38;5;28;01mfrom\u001b[39;00m \u001b[38;5;21;01mpandas\u001b[39;00m\u001b[38;5;21;01m.\u001b[39;00m\u001b[38;5;21;01mio\u001b[39;00m\u001b[38;5;21;01m.\u001b[39;00m\u001b[38;5;21;01mformats\u001b[39;00m\u001b[38;5;21;01m.\u001b[39;00m\u001b[38;5;21;01mexcel\u001b[39;00m \u001b[38;5;28;01mimport\u001b[39;00m ExcelFormatter\n\u001b[1;32m   2334\u001b[0m formatter \u001b[38;5;241m=\u001b[39m ExcelFormatter(\n\u001b[1;32m   2335\u001b[0m     df,\n\u001b[1;32m   2336\u001b[0m     na_rep\u001b[38;5;241m=\u001b[39mna_rep,\n\u001b[0;32m   (...)\u001b[0m\n\u001b[1;32m   2343\u001b[0m     inf_rep\u001b[38;5;241m=\u001b[39minf_rep,\n\u001b[1;32m   2344\u001b[0m )\n\u001b[0;32m-> 2345\u001b[0m \u001b[43mformatter\u001b[49m\u001b[38;5;241;43m.\u001b[39;49m\u001b[43mwrite\u001b[49m\u001b[43m(\u001b[49m\n\u001b[1;32m   2346\u001b[0m \u001b[43m    \u001b[49m\u001b[43mexcel_writer\u001b[49m\u001b[43m,\u001b[49m\n\u001b[1;32m   2347\u001b[0m \u001b[43m    \u001b[49m\u001b[43msheet_name\u001b[49m\u001b[38;5;241;43m=\u001b[39;49m\u001b[43msheet_name\u001b[49m\u001b[43m,\u001b[49m\n\u001b[1;32m   2348\u001b[0m \u001b[43m    \u001b[49m\u001b[43mstartrow\u001b[49m\u001b[38;5;241;43m=\u001b[39;49m\u001b[43mstartrow\u001b[49m\u001b[43m,\u001b[49m\n\u001b[1;32m   2349\u001b[0m \u001b[43m    \u001b[49m\u001b[43mstartcol\u001b[49m\u001b[38;5;241;43m=\u001b[39;49m\u001b[43mstartcol\u001b[49m\u001b[43m,\u001b[49m\n\u001b[1;32m   2350\u001b[0m \u001b[43m    \u001b[49m\u001b[43mfreeze_panes\u001b[49m\u001b[38;5;241;43m=\u001b[39;49m\u001b[43mfreeze_panes\u001b[49m\u001b[43m,\u001b[49m\n\u001b[1;32m   2351\u001b[0m \u001b[43m    \u001b[49m\u001b[43mengine\u001b[49m\u001b[38;5;241;43m=\u001b[39;49m\u001b[43mengine\u001b[49m\u001b[43m,\u001b[49m\n\u001b[1;32m   2352\u001b[0m \u001b[43m    \u001b[49m\u001b[43mstorage_options\u001b[49m\u001b[38;5;241;43m=\u001b[39;49m\u001b[43mstorage_options\u001b[49m\u001b[43m,\u001b[49m\n\u001b[1;32m   2353\u001b[0m \u001b[43m\u001b[49m\u001b[43m)\u001b[49m\n",
      "File \u001b[0;32m~/miniforge3/envs/dl/lib/python3.8/site-packages/pandas/io/formats/excel.py:888\u001b[0m, in \u001b[0;36mExcelFormatter.write\u001b[0;34m(self, writer, sheet_name, startrow, startcol, freeze_panes, engine, storage_options)\u001b[0m\n\u001b[1;32m    884\u001b[0m     need_save \u001b[38;5;241m=\u001b[39m \u001b[38;5;28;01mFalse\u001b[39;00m\n\u001b[1;32m    885\u001b[0m \u001b[38;5;28;01melse\u001b[39;00m:\n\u001b[1;32m    886\u001b[0m     \u001b[38;5;66;03m# error: Cannot instantiate abstract class 'ExcelWriter' with abstract\u001b[39;00m\n\u001b[1;32m    887\u001b[0m     \u001b[38;5;66;03m# attributes 'engine', 'save', 'supported_extensions' and 'write_cells'\u001b[39;00m\n\u001b[0;32m--> 888\u001b[0m     writer \u001b[38;5;241m=\u001b[39m \u001b[43mExcelWriter\u001b[49m\u001b[43m(\u001b[49m\u001b[43m  \u001b[49m\u001b[38;5;66;43;03m# type: ignore[abstract]\u001b[39;49;00m\n\u001b[1;32m    889\u001b[0m \u001b[43m        \u001b[49m\u001b[43mwriter\u001b[49m\u001b[43m,\u001b[49m\u001b[43m \u001b[49m\u001b[43mengine\u001b[49m\u001b[38;5;241;43m=\u001b[39;49m\u001b[43mengine\u001b[49m\u001b[43m,\u001b[49m\u001b[43m \u001b[49m\u001b[43mstorage_options\u001b[49m\u001b[38;5;241;43m=\u001b[39;49m\u001b[43mstorage_options\u001b[49m\n\u001b[1;32m    890\u001b[0m \u001b[43m    \u001b[49m\u001b[43m)\u001b[49m\n\u001b[1;32m    891\u001b[0m     need_save \u001b[38;5;241m=\u001b[39m \u001b[38;5;28;01mTrue\u001b[39;00m\n\u001b[1;32m    893\u001b[0m \u001b[38;5;28;01mtry\u001b[39;00m:\n",
      "File \u001b[0;32m~/miniforge3/envs/dl/lib/python3.8/site-packages/pandas/io/excel/_openpyxl.py:49\u001b[0m, in \u001b[0;36mOpenpyxlWriter.__init__\u001b[0;34m(self, path, engine, date_format, datetime_format, mode, storage_options, if_sheet_exists, engine_kwargs, **kwargs)\u001b[0m\n\u001b[1;32m     36\u001b[0m \u001b[38;5;28;01mdef\u001b[39;00m \u001b[38;5;21m__init__\u001b[39m(\n\u001b[1;32m     37\u001b[0m     \u001b[38;5;28mself\u001b[39m,\n\u001b[1;32m     38\u001b[0m     path,\n\u001b[0;32m   (...)\u001b[0m\n\u001b[1;32m     47\u001b[0m ):\n\u001b[1;32m     48\u001b[0m     \u001b[38;5;66;03m# Use the openpyxl module as the Excel writer.\u001b[39;00m\n\u001b[0;32m---> 49\u001b[0m     \u001b[38;5;28;01mfrom\u001b[39;00m \u001b[38;5;21;01mopenpyxl\u001b[39;00m\u001b[38;5;21;01m.\u001b[39;00m\u001b[38;5;21;01mworkbook\u001b[39;00m \u001b[38;5;28;01mimport\u001b[39;00m Workbook\n\u001b[1;32m     51\u001b[0m     engine_kwargs \u001b[38;5;241m=\u001b[39m combine_kwargs(engine_kwargs, kwargs)\n\u001b[1;32m     53\u001b[0m     \u001b[38;5;28msuper\u001b[39m()\u001b[38;5;241m.\u001b[39m\u001b[38;5;21m__init__\u001b[39m(\n\u001b[1;32m     54\u001b[0m         path,\n\u001b[1;32m     55\u001b[0m         mode\u001b[38;5;241m=\u001b[39mmode,\n\u001b[0;32m   (...)\u001b[0m\n\u001b[1;32m     58\u001b[0m         engine_kwargs\u001b[38;5;241m=\u001b[39mengine_kwargs,\n\u001b[1;32m     59\u001b[0m     )\n",
      "\u001b[0;31mModuleNotFoundError\u001b[0m: No module named 'openpyxl'"
     ]
    }
   ],
   "source": [
    "# 판다스로 만들기\n",
    "import pandas as pd\n",
    "result_df = pd.DataFrame.from_dict(dict, 'index')\n",
    "\n",
    "# 저장하기\n",
    "result_df.to_excel(\"blog_content.xlsx\", encoding='utf-8-sig')\n",
    "time.sleep(3)"
   ]
  },
  {
   "cell_type": "code",
   "execution_count": null,
   "metadata": {},
   "outputs": [],
   "source": []
  },
  {
   "cell_type": "code",
   "execution_count": null,
   "metadata": {},
   "outputs": [],
   "source": []
  },
  {
   "cell_type": "code",
   "execution_count": null,
   "metadata": {},
   "outputs": [],
   "source": []
  },
  {
   "cell_type": "code",
   "execution_count": 40,
   "metadata": {
    "colab": {
     "referenced_widgets": [
      "90fd656a8c42421bbe133fdcd0598bc6"
     ]
    },
    "id": "XFXmQgE8-kvu",
    "outputId": "132915b2-033b-43b1-997c-cc5609dbf776",
    "scrolled": true
   },
   "outputs": [
    {
     "data": {
      "application/vnd.jupyter.widget-view+json": {
       "model_id": "4a209bf1529349dea63e384a6585b919",
       "version_major": 2,
       "version_minor": 0
      },
      "text/plain": [
       "  0%|          | 0/10 [00:00<?, ?it/s]"
      ]
     },
     "metadata": {},
     "output_type": "display_data"
    },
    {
     "name": "stdout",
     "output_type": "stream",
     "text": [
      "0 해외축구 이적시장 최신업데이트 EPL,프리메라리그,세리에A,분데스리가 등\n",
      "1 [블챌] 바쁘게 돌아가는 해외축구 이적시장\n",
      "2 해외축구 이적시장 상황\n",
      "3 해외축구 이적시장 소식 프랭키 데 용 영입을 위해 바르셀로나로 날아간 맨유 임원진\n",
      "4 7/8 해외축구 여름이적시장 요약\n",
      "5 2022 유럽 해외축구 이적시장 루머 금일자 정리 Ⅱ.txt\n",
      "6 2022년 해외축구 여름이적시장 중간현황(2022년6월30일까지 오피셜 기준)\n",
      "7 [6/22] 해외축구 이적시장 루머 정리\n",
      "8 해외축구 여름 이적시장 오피셜 및 루머 총정리 (토트넘, 첼시, 맨시티, 리버풀, 맨유, 아스날)\n",
      "9 축구 팬들은 기다려지는 해외축구이적\n",
      "수집한 글 갯수:  10\n",
      "{0: {'title': '해외축구 이적시장 최신업데이트 EPL,프리메라리그,세리에A,분데스리가 등', 'nickname': '장군대디빅스타', 'datetime': '2022. 7. 16. 0:21', 'content': '안녕하세요 #홈바디블로거 #장군대디빅스타 입니다.\\n매년 이맘즈음에는 많은 해축팬분들이 해외축구 이적시장에 대해 관심을 갖고 스포츠 뉴스를 봅니다.\\n오늘은 어떤 새로운 뉴스가 나왔는지 어떤 계약이 확정됐는지, 보는것만으로도 재미가 있죠.\\n사실 예전에는 네이버스포츠 뉴스의 댓글란에 실시간으로 소식이 올라오면서 막판까지 댓글보는 재미가 있었는데,\\n팬들의 과몰입으로 인해 악플이 난무하다보니까 없어졌죠~~뭐든 적당히 하는게 좋습니다. 다시 이적시장에 대해 얘기해보자면 새로운 시즌을 맞아 각 팀들이 재정비를 하는 시간인만큼 누가 얼마나 돈을 잘 써서 새로운 선수를 영입하고, 기존의 선수들과 조화를 이뤄 새 시즌에 성과를 낼지가 관건입니다. 영입할때는 엄청난 기대를 품고 계약하지만, 막상 기대에 비해 활약이 저조할 수도 있고, 유망주를 영입하거나 백업 선수를 영입했는데 기대 이상의 포텐이 터져서, 구단에 엄청난 기여를 하는 경우도 있어서 새로운 시즌이 되고 적응할 수 있는 시간이 지나봐야 그 계약의 성공여부를 판단할 수 있습니다. 이번 이적시장의 승자는 지금까지는 EPL의 토트넘이라고 할 수 있고, 또 한 팀을 꼽자면 저는 프리메라리가의 바르셀로나를 뽑겠습니다.\\n토트넘은 현재 5호 영입까지 확정지었고, 스펜스 영입을 앞두고 있습니다. 바르셀로나는 케시에, 크리스텐센을 자유영입으로 데려왔고, 하피냐도 이적이 확정되었습니다. 거기에 레반도프스키 이적도 최종단계라고 합니다.\\n사실 시간 문제라서 거의 성공했다고 봅니다.\\n두팀이 현재는 영입시장에서 가장 앞서가고 있습니다.\\n일단 새로운 선수들 영입현황 업데이트하고 루머에 대해서 정리해 보겠습니다.  #계약기간 - 2027년까지\\n#이적료 - 773억원\\n#포지션 - 오른쪽 윙어 하피냐는 1996년생의 젊은 브라질 공격수입니다.\\n2020년 리즈유나이티드로 이적하며 활약하기 시작했고, 65경기에서 17골 12도움을 기록했습니다. 브라질 선수 특유의 장점인 스피드가 좋고 발재간이 화려합니다.\\n뎀벨레와 양쪽에서 수비를 흔들어대고, 레반도프스키가 최전방에서 버틴다면 바르셀로나의 전성기가 다시 도래할 수도 있습니다. 매우 훌륭한 선수이고, 바르셀로나에서 활약할 가능성이 높다고 보기에 좋은 영입이라고 봅니다. 첼시와 아스널도 노렸는데 아쉽게 됐습니다. 아직 바르샤는 죽지 않았습니다 ㅎㅎ 제가 궁금한것은 바르셀로나는 이번 시즌 돈없다고 징징대는데도 돈이 어디서 나서 하는지 몰라도 영입은 잘도 합니다. 판 선수도 딱히 없는데 어떻게 된걸까요?? 물론 자유계약으로 엄청 데려와서 돈을 아꼈지만 하피냐에게 거액을 투자한걸 보면 돈을 안쓸 생각도 아닙니다. 바르셀로나는 팀의 재정상황이 최악이라서 팀에 충성심이 가득하고, 어리고 세계 최고의 재능인 중원의 핵심 프랭키 데용을 울며겨자먹기로 팔아야 한다고 하는데, 본인은 죽어도 절대 가기 싫다는데\\n맨유로 보내려 합니다.\\n맨체스터유나이티드와 팀끼리 합의를 했는데\\n선수가 끝까지 거부했죠.\\n그정도로 가기 싫어할 줄은 몰랐습니다.;;\\n그런데 데용을 팔려고 하면서까지 영입한 하피냐의 포지션은 필수 보강 포지션이 아니거든요~~ 당연히 오면 전력이 업그레이드 되지만, 오바메양이도 윙으로 활약 가능하고, 파티, 뎀벨레 등 충분히 자원은 많은데 상당히 큰 금액으로 영입했죠. 데용의 이적료가 1100억 정도고 하피냐가 총 800억 정도이니 대체라고 봐도 무방한데요.\\n바르셀로나의 큰그림이 어떤건지 저로써는 아직은 잘 모르겠습니다. 진짜로 데용과 여러 선수들을 팔아서 돈을 마련하려고 하니까요. 그런데 어쩌면, 어찌저찌 버티고 버티면서 드림팀을 만들어지는게 아닐까 하는 합리적인 의심도 하게 됩니다. 물론 안팔면 선수등록을 못할정도라고 하니까 팔려고 하겠지만, 혹시 다른선수들을 팔고, 그걸로 어느정도 메꿔져서 데용이 안나가게 된다고 가정해봅시다. 만약 그렇게만 된다면 엄청난 팀이 다시 탄생합니다. 바르샤의 중원에는 젊고 재능있는 선수들이 정말 많으니까요!! 페드리, 가비, 부스케츠, 데용, 케시에 포화상태의 중원입니다. 황금시대가 다시 열릴수도 있습니다. 결국 데용 드라마는 끝까지 지켜봐야 결론이 날 것 같습니다. #계약기간- 2024년 6월까지\\n#포지션 - 왼쪽 윙어\\n바르셀로나의 미운백조새끼(??)가 2년 더 있기로 했습니다. 바르셀로나 입장에서 뎀벨레는 밉기는 미운데 백조는 백조입니다. 2017년에 1800억에 가까운 어마어마한 이적료로 바르샤에 입성한 뎀벨레는 그동안 엄청난 오리새끼였죠~~ 유리몸에, 지각에, 정말 바르셀로나 팬들에게는 증오의 대상이었습니다. 총 150경기동안 32골, 34도움을 올렸습니다. 기대한만큼은 당연히 아닙니다.\\n그런데 이 오리가 작년에 갑자기 백조로 변신합니다. 작년 11월까지는 똑같았는데, 사비감독이 부임하고 겨우 리그21경기만에 13도움을 올리며 시즌 도움왕에 등극하죠. 이렇게 되면서 갑자기 상황은 급변합니다. 당연히 잡을 생각이 없었던 바르셀로나는 나중에 팔더라도 이대로 보낼 수는 없게 된거죠. 재계약이 난항을 겪을 수 있다는 보도가 나왔으나 무사히 재계약에 성공했습니다. 하피냐와 양쪽날개 테크니션 콤비를 볼 수 있게 되었습니다. 다가오는 시즌의 엘클라시코를 기대해 보겠습니다. #계약기간 - 3년\\n#포지션 - 중앙미드필더 / MF\\n워낙에 제 포스팅에서 많이 다룬 선수라 짧게 하고 넘어가겠습니다. 토트넘에서 정상급선수로 활약하다가 인터밀란에 가서 조금 힘든 시간을 겪었고, 결국 본인의 능력으로 극복해서 주전으로 도약하며 활약하던 찰나에 국대 경기에서 심장이 정지되는 사고를 겪었습니다. 제세동기를 달고 뛸 수 없는 세리에a에서 나와 프리미어리그의 브렌트포드로 왔고 여전히 경쟁력 있는 모습을 보여주면서 맨유와 계약했습니다.\\nhttps://blog.naver.com/7ulyee/222800256714 더 자세한 내용은 위 포스팅 참고하세요~ 포지션 - 스트라이커 / ST\\n죽어도 안됩니다. 절대로 못팝니다. 제발 마음을 바꿔 주세요ㅠㅠ\\n아마 뮌헨 팬들의 마음일 겁니다. 그렇지만 이미 레반도프스키의 마음은 떠났고,이적이 점점 가시화 되고 있습니다.\\n이적시장에서 굉장히 공신력을 갖고 있는 로마노 기자가 레반도프스키 이적이 최종단계에 이르렀다고 언급했습니다. 레반도프스키는 분데스리가 역사상 전무후무한 스트라이커죠. 득점왕만 6번 했고, 383경기게서 312골 (사람맞나요???) 을 기록했죠. 20-21시즌에는 41골을 넣으며 개인 최다 리그골 신기록을 달성했습니다. 코로나 때문에 제작년에 발롱도르를 못탔지만 누가봐도 그 트로피는 레반도프스키의 것이었죠. 누가 봐도 레반도프스키가 버티고 있는 뮌헨은 언제든지 챔스 우승을 노릴 거라고 생각했습니다.\\n하지만 생각보다 뮌헨이 유럽무대에서 고전하고 있고, 가시적인 성과가 나오지 않죠. 레반도프스키는 동기부여가 부족한 상황이었고, 나이도 나이인만큼 마지막 도전을 하려 하는듯 합니다. 세계최고의 명문중 하나인 바르셀로나에서 다시한번 역사를 쓰려고 합니다. 위에서 말씀드렸지만 이미 바르셀로나의 전력은 굉장히 탄탄해졌죠. 이상한짓만 조금 덜한다면 트래블 시절의 영광을 찾는것도 아예 무리는 아닙니다. 메시가 없는 바르셀로나에 레반도프스키가 온다. 꾸레들은 정말 신날 것 같습니다. 오피셜 뜨면 바로 업데이트하겠습니다. 포지션 - 왼쪽 수비수 / LB\\n아스널이 맨체스터시티의 수비멀티자원을 탐냅니다. #진첸코 는 사실 #맨시티 에서 확실한 주전을 차지하지 못해서 그렇지 어느팀을 가도 주전을 차지할만한 실력입니다. #아스널 은 #티어니 로 한시즌을 버티다 보니 티어니가 다치면 답이 없었죠. 누누 타바레스는 아직 보여준게 없기 때문에 전력 강화를 위해 진첸코를 영입하려고 애를 쓰고 있습니다.\\n현재 맨시티는 브라이튼의 핵심 수비수인 쿠쿠렐라를 노리고 있습니다. 쿠쿠렐라가 영입되면 자연스럽게 진첸코 이적도 급물살을 타겠죠. 현재 상황에서는 크게 이적이 틀어질 이유가 없습니다 . 아스널도 원하고 있고, 맨시티도 그렇게까지 지키려고 노력하지 않으니까요. 아마 곧 오피셜이 뜰 것으로 예상합니다. 포지션 - 오른쪽 수비수 / RB\\n아마 정말 곧 일주일내로 오피셜이 뜰 것으로 보입니다. 앞에서 워낙 많이 언급해서 오피셜 뜨면 다시 정리해드릴게요. 예상 이적료는 200억 정도로 예상합니다. 토트넘에서는 백업 수비수 역할을 맡을 것 같습니다.\\n앞에서 다뤘던 루머와 오피셜은 제외했습니다.\\n새로운 소식들만 업데이트했으니 정보가 더 필요하신 분들은 앞의 포스팅 참고하세요!\\n오늘은 해외축구 이적시장 최신소식에 대해 알아보았습니다.\\n감사합니다. 그럼이만ㅃ2염 '}, 1: {'title': '[블챌] 바쁘게 돌아가는 해외축구 이적시장', 'nickname': 'Insightmaster', 'datetime': '2022. 7. 9. 23:48', 'content': '해외축구 이적시장이 바쁘게 돌아가고 있다. 유럽축구는 6~8월까지 여름 이적시장이 열린다. 이 기간 동안 각 팀들은 다음 시즌 경쟁을 위한 선수 영입에 나선다. 각 구단마다 순위, 명성, 구단의 재정 등을 고려하여 포지션별로 팀에 필요한 선수들을 찾는다.\\n팀보다 위대한 선수는 없다고 하지만 결국 경기장에서 승리를 쟁취하는 주인공은 선수다. 골을 넣는 것도 패스를 하는 것도 골을 막아내는 것도 선수들이 한다. 감독은 상대의 전술을 파악하고 상대를 공략할 방법과 각자의 역할을 부여할 뿐 결국 수행은 선수들이 한다. 아무리 명장이 지시를 내린다 한들 선수가 차이를 만들어내지 못하면 승리할 수 없다.\\n팬들의 주요 관심은 빅리그의 상위권 팀의 선수 이적이다. 특히 국내 팬들은 EPL 구단들의 이적에 관심이 많다. 손흥민 선수가 소속된 리그이기도 하다. 박지성 선수가 오랫동안 활약했던 리그이기도 하다. 가장 관심이 많은 구단은 역시 손흥민의 토트넘 선수영입이다. 토트넘은 지금까지 5명의 선수를 영입했다. 윙어 이반 페리시치, 골키퍼 프레이저 포스터, 미드필더 이브 비수마, 공격수 히샬리송, 수비수 랑글레다. 전 포지션에 골고루 영입했다.\\n토트넘은 22-23시즌 챔피언스리그에 나선다. 경기 수가 많아진다. 선수층이 두터워야 한다. 지난 시즌 토트넘의 콘테는 새로운 선수 영입에 대해 지속적으로 구단에 어필해왔다. 돈을 쓰지 않기로 유명한 토트넘의 레비 회장이 콘테의 요청에 지갑을 열었다. 이번 시즌엔 제대로 지원해서 팀을 제대로 키워볼 생각인 듯 하다.\\n하지만 선수 영입이 100% 팀 전력 상승을 가져오는 것은 아니다. 영입한 선수 중 좋은 활약을 펼치는 선수도 있지만 그렇지 않은 선수도 있다. 다른 팀에서 엄청난 활약을 펼치는 것을 보고 거액을 들여 영입했지만 이름값을 못하는 선수들도 많다. 때문에 실제 시즌이 시작되어봐야 선수 영입의 효과를 알 수 있다.\\n지난 시즌 맨유로 컴백한 호날두 이적을 놓고 말이 많은 이유도 마찬가지다. 이적 초반 맨유 감독인 솔샤르와 함께 맨유의 재부흥을 이끌 것이라 예상했지만 솔샤르는 시즌 도중 감독직에서 물러났다. 득점력은 여전히 최고였지만 팀을 살리지 못했다는 평가가 많다. 여전히 맨유의 제1 공격 옵션이지만 타 팀 이적을 원한다는 소식도 들린다. 메시와 함께 세계 최고의 선수로 평가받았고 여전히 나이에 비해 엄청난 활약을 보여주고 있는 호날두다. 그러나 축구 실력을 다 담지 못하는 인성의 그릇은 많이 아쉽다.\\n축구 팬들과 전문가들은 바쁘게 돌아가는 이적 시장을 살피며 다음 시즌 각 팀의 모습을 상상해본다. 축구팬인 나역시 이적시장 소식을 보는 재미를 한껏 즐기고 있는 요즘이다.\\n#유럽축구이적시장 #해외축구이적시장 #블챌 #주간일기'}, 2: {'title': '해외축구 이적시장 상황', 'nickname': 'football mania', 'datetime': '2022. 7. 3. 14:57', 'content': '안녕하세요!\\nFootball Mania, FM입니다.\\n어제 좀 쇼킹한 기사를 보고 잤는데..\\n호날두가 챔스를 위해 맨유를 떠나고 싶어 한다는\\n기사 내용을 봤습니다.\\n오늘 이적설 함께 알아봅시다. 맨유의 레전드 호날두가\\n챔스 출전을 위해 맨유를 떠나고 싶다는 기사가\\n어제 보도되었습니다.\\n스카이스포츠는\\n\"호날두는 맨유 측에 만족스러운 오퍼가 올 경우 떠날 수 있도록 요청을 했다. 그는 커리어 막바지에 챔스 출전을 원한다.\"라고 전했습니다.\\n여기에 로마노 기자까지\\n호날두의 상황을 전하며 호날두의 이적설에 더욱더 불을 지폈습니다. 알려진 바에 따르며\\n호날두가 현재 맨유의 이적시장 행보에 대해 좌절했다고 합니다.\\n맨유는 현재 많은 선수들과 연결되어 있지만\\n영입을 못하고 있으며\\n심지어 누녜스까지 라이벌 팀인 리버풀에 빼앗기고 말았습니다.\\n토트넘, 아스널, 맨시티, 리버풀과 비교를 했을 때\\n맨유가 이적시장에서 보여주고 있는 상황은\\n많이 뒤떨어지는 것은 사실입니다.\\n많은 선수들을 떠나보낸 맨유지만\\n막상 영입은 없다 보니\\n호날두도 이 상황에 대해 만족스럽지 못하고 있는 것 같습니다. 맨유는 호날두를 절대 팔 의향이 없다고 합니다.\\n하지만, 이러한 상황이 지속된다면\\n호날두도 떠나려고 할 것 같습니다.\\n현재 호날두와 연결되어 있는 구단은\\n첼시, 바이에른 뮌헨, 나폴리가 있다고 합니다.\\n호날두의 에이전트, 멘데스가\\n첼시 측과 만남을 가졌다는 소문도 제기되고 있습니다.\\n맨유는 호날두를 지키기 위해서라도\\n데 용과 에릭센 등 스타급 선수들을 영입해서\\n야망이라도 보여줘야 합니다.\\n과연, 호날두가 맨유를 떠날지\\n아니면 잔류할지 많은 관심이 쏠립니다. 라포르타 회장이\\n현 이적시장에 상황에 대해 입을 열었습니다.\\n그는 하피냐와 레반도프스키, 줄스 쿤데 등\\n많은 선수들을 언급했습니다.\\n특히, 그는 프랭키 데 용의 상황에 대해 언급을 하며\\n맨유와 맨유 팬들에게 좌절감을 안겨 주었습니다. 라포르타 회장은\\n\"그에게 맨유만이 아니라 많은 팀들이 관심을 갖고 있다.\\n하지만, 우리는 프랭키 데 용을 팔 의향이 전혀 없다. 그는 남기를 원한다.\"\\n라고 입장을 밝혔습니다.\\n또한, 그는\\n\"우리는 프랭키 데 용을 지키기 위해 모든 것을 다 할 것이다.\\n하지만, 급여 문제가 걸려 있으며 조정할 필요가 있다.\"라고 전했습니다.\\n즉, 프랭키 데 용을 지키기 위해서 모든 것을 다 할 것이며\\n그게 급여 문제이고 우리는 그것을 조정할 것이다.\\n이 말인 것 같습니다. 프랭키 데 용은 다음 시즌에 급여가 더 올라간다고 합니다.\\n그래서 바르셀로나가 그를 매각하려는 이유라고 전해진 바 있습니다.\\n과연 바르셀로나가 프랭키 데 용을 지킬 것인지\\n아니면 언론 플레이를 통한 수작인지 지켜봐야 할 것 같습니다. 라포르타 회장인\\n새로운 영입에 대해서도 입을 열었습니다.\\n그는\\n\"우리는 새로운 선수를 영입했다.\\n케시에는 수요일에 발표할 것이며 크리스텐센은 목요일에 발표할 것이다.\"\\n라고 전했습니다. 이번 주 수요일과 목요일에 각각\\n케시에와 크리스텐센을 발표한다고 합니다.\\n그렇다면...\\n수요일 전에 바르셀로나의 한 선수가\\n팀을 떠나는 것을 볼 수도 있을 것 같습니다. PSG가 새로운 센터백 영입을 위해\\n킴펨베와 케러를 매각한다고 합니다.\\n로마노 기자는\\n\"PSG는 올여름 킴펨베를 떠나보낼 수 있다. 그의 미래는\\n다른 팀들의 제안에 달려있다. 그래서 재계약 협의가 지연되고 있다.\"\\n라고 전했습니다.\\n킴펨베는 현재 첼시의 관심을 받고 있는 것으로 알려져 있습니다. 한편, 케러는 겨울 이적시장에서부터\\nPSG의 방출 리스트에 올라간 것으로 알려져 있습니다.\\n심지어 이번에는\\n슈크리니아르 영입을 위해 케러를 내준다고 했지만\\n인테르가 이를 거절했다고 합니다.\\n즉, PSG는 인테르 측에\\n현금 + 케러를 제시한 것입니다. 킴펨베는 PSG가 키운 선수 중\\n몇 안 되는 PSG에서 뛰고 있는 선수인데..\\n이렇게 매각을 하게 된다면\\nPSG는 도대체 홈 그로운 규정을 어떻게 채운다는 것일까요? 맨유를 떠나 자유계약 신분이 된\\n제시 린가드.\\n현재 잉글랜드 구단들에게 많은 관심을 받고 있습니다.\\n얼마 전에 스카이스포츠는\\n웨스트햄이 린가드에게 공식적으로 제안을 했다고\\n보도하기도 했습니다.\\n린가드에게 관심 있는 구단이\\n웨스트햄만이 아니었습니다. 현재 해외 매체들에 따르면\\n에버튼이 린가드 영입을 위해 공식 비드를 했으며\\n토트넘 또한 홈 그로운 규정을 지키기 위해 린가드를 원하고 있다고\\n전해지고 있습니다.\\n레스터 또한 린가드를 원한다는 소문이 돌고 있습니다.\\n린가드가 역시 프리미어리그 구단들에게는\\n매력적인 매물 카드인 것 같네요.\\n린가드는 원하는 팀을\\n골라서 가면 될 것 같습니다.\\n린가드가 요구하는 연봉을 맞춰줄 수 있는 팀으로요. 아약스의 센터백\\n리산드로 마르티네즈가\\n프리미어리그 입성을 원하고 있다고 합니다.\\n그게 아스널이든 맨유든\\n상관없이 프리미어리그를 원한다고 직접 아약스 측에\\n전달했다고 합니다. 현재 맨유와 아스널이 영입 경쟁을 하고 있으며\\n두 구단 다 아약스 측에 공식적인 비드를 한 상태입니다.\\n하지만, 로마노 기자에 따르면\\n\"맨유가 아스널 보다 더 좋은 조건을 제시했다. 하지만, 충분하지 않았다.\"라고 전했습니다.\\n아약스는 더 높은 금액을 원하고 있는 것으로 보입니다.\\n마르티네즈가 어디로 향할지\\n관심이 쏠립니다. 이탈리아 구단, AC 몬차가 승격에 힘입어\\n이카르디와 밍게사를 노린다고 합니다.\\n로마노 기자는\\n\"AC 몬차가 이카르디를 원하고 있다. 이 계약은 복잡해 보이지만\\n몬차의 CEO는 완다와 접촉했다.\"라고 전했습니다. 또한 몬차는\\n바르셀로나의 센터백 밍게사까지 노리고 있습니다.\\n바르셀로나는 그를 놓아줄 계획이며\\n선수에게 달려있다고 합니다. AC 몬차는 2016년에 파산하여\\n2018년 베를루스코니라는 전 AC 밀란 회장이 인수하였고\\n갑부 구단주와 함께 몬차를 이끌어 나가며\\n세리에 C에서 세리에 A 승격까지 일궈냈습니다.\\n한편 AC 몬차는 이카르디와 밍구에사 이외에도\\nFA 신분인 벨로티까지 노리고 있다고 합니다. 플라멩구가 아르투르 비달과\\n사인하는데 근접했다고 로마노 기자가 전했습니다.\\n계약 기간은 18개월입니다. 비달은 앞서 알렉시스 산체스와 함께\\n인테르를 떠난다고 전해진 바 있습니다.\\n두 선수 다 상화 합의하에 계약 해지?를 한 것 같습니다. 프리미어리그 승격팀\\n노팅엄 포레스트가 골키퍼 보강에 성공했습니다.\\n구단은\\n\"우리는 맨유 출신이자 잉글랜드 골키퍼 딘 헨더슨을 임대 영입했다.\"라고\\n영입 사실을 알렸습니다. 딘 헨더슨은 좋은 실력을 지녔음에도 불구하고\\n데 헤아에게 밀려 저번 시즌 리그에서 단 한 경기도 출전하기 못했습니다.\\n딘 헨더슨은 월드컵을 꿈꾸고 있으며\\n그러기 위해서는 출전을 꾸준히 할 수 있는 팀으로 가기를 원했습니다.\\n그래서 선택한 팀이 노팅엄 포레스트입니다.\\n정말 현명한 선택을 한 딘 헨더슨입니다. 자유계약 신분이었던\\nAT 마드리드 우측 풀백 시메 브르살리코.\\n그가 올림피아코스와 계약을 체결했습니다.\\n계약 기간은 3년이라고 합니다. 에버튼이 센터백 보강에 성공했습니다.\\n주인공은 번리의 센터백\\n제임스 타코우스키!\\nFA 계약이며 계약 기간은 4년이라고 합니다. 루 크 데용이 바르셀로나를 떠나\\nPSV로 컴백합니다.\\n아니.. 따지고 보면 세비야를 떠나 자유계약 신분으로\\nPSV로 컴백합니다. PSV는 반니스텔루이가 새롭게 지휘봉을 잡았으며\\n루 크 데용이 네덜란드 전설 공격수 밑에서\\n지도를 받게 되겠네요. 샬케 04의 승격의 주역이었던\\n이타쿠라 고.\\n그가 맨시티를 떠나 묀헨글라드바흐로 합류합니다.\\n계약 기간은 4년이며 등번호는 3번을 입는다고 합니다. 이타쿠라 고는\\n전술적인 이해도가 정말 뛰어난 선수입니다.\\n엄청난 멀티플레이어 자원이며\\n볼도 정말 잘 차는 선수입니다.\\n그가 묀헨글라드바흐에서 3번을 입는다는 것은\\n역시나 핵심 선수가 될 가능성이 높을 것 같습니다.'}, 3: {'title': '해외축구 이적시장 소식 프랭키 데 용 영입을 위해 바르셀로나로 날아간 맨유 임원진', 'nickname': '데느님', 'datetime': '2022. 7. 12. 18:43', 'content': '이번 여름 해외축구 이적시장에서 가장 뜨거운 감자는 단연 바르셀로나의 미드필더 프랭키 데 용일 것입니다.\\n이적이 거의 완료된 것으로 보이는 상황에서 마무리가 안되고 있는 프랭키 데 용의 영입을 위해 맨유의 리차드 아놀드와 존 머터프가 바르셀로나로 날아간 것으로 확인되었습니다.\\n25살의 미드필더 프랭키 데 용은 이번 시즌 맨유의 감독으로 부임한 뒤 여름 이적시장에서 프랭키 데 용의 영입을 가장 최우선으로 삼고 있습니다. 하지만 어떤 가능성 있는 계약도 바르셀로나와 프랭키 데 용의 계약 문제로 방해받고 있는 상황입니다.\\n현재 가장 큰 문제는 팬데믹 기간 동안 데 용이 바르셀로나로부터 받지 못한 주급과 관련되어 있는 것으로 보입니다.\\n데 용은 재정적으로 문제가 생신 바르셀로나를 위해 주급 수령을 미루었고 그 금액은 곧 발효될 새로운 4년 재계약에 과정에서 돌려받을 것으로 알려졌습니다.\\n현재 받아야 할 돈이 남아 있는 상황에서 데 용은 바르셀로나를 떠나는 것을 꺼려 하는 것으로 보입니다. 팬데믹 기간 데 용이 받지 못한 급여는 총 2,400만 파운드로 바르셀로나는 이 금액을 맨유가 해결해 주기를 바라는 분위기 입니다.\\n맨유는 전 아약스의 미드필더 프랭키 데 용의 영입 시도가 실패로 돌아갔을 경우 대안이 있음을 지속적으로 강조해왔지만 사장과 풋볼 디렉터가 직접 바르셀로나로 날아가며 데 용과 계약하고 싶은 강한 욕망을 숨기지 않았습니다.\\n정상적인 상황이었다면 아마도 리차드 아놀드와 존 머터프 중 한 명은 맨유가 리버풀을 상대하는 프리시즌 경기를 앞두고 태국에 있었을 것입니다.  '}, 4: {'title': '7/8 해외축구 여름이적시장 요약', 'nickname': 'Here we go', 'datetime': '2022. 7. 8. 12:01', 'content': '*오피셜\\n:구단공홈오피셜 / 구단 합의와 개인합의, 메디컬 테스트가 완료되어 계약서에 선수가 서명한 상태\\n*거피셜(BBC=거의 확정=비피셜=Here we go, 던딜, EXCL, ~THEN)\\n:구단합의 / 개인합의 / 이적료합의가 모두 끝난 후 메디컬 전후의 가 계약단계\\n*루머(공신력 \\'상\\')\\n:0티어~1티어 공신력에서 나왔지만, 아직 진행 상황이 되지 않거나 거피셜이 발표되지 않은 상태(단순관심, 제의만 한 상태 포함) / 대부분 구단 출입기자, 담당기자 소식 발췌\\n*루머(공신력 \\'중,하\\')\\n:공신력 \\'상\\' 루머와 크로스 체크 / 주관적인 판단 필요 <오피셜>\\n1. 크리스텐센, 첼시>바르셀로나\\n2. 알레산드로 포수엘로, 토론토>인터마이애미(MLS)\\n3. 리버풀, 조 고메즈 2027년까지 계약 연장 완료\\n4. 시니스테라, 페예노르트>리즈 2,500만유로(셀온조항포함) <거피셜>\\n1. [히얼위고] 랑글레, 바르샤>토트넘 임대계약 완료\\n1-1. 구매 옵션 조항 없음, 콜 옵션(임대기간 중 복귀)없음.\\n1-2. 2023년 6월 까지 임대, 내일 오피셜 서명예정.\\n1-3. 급여의 일부를 토트넘이 부담\\n(앞서 언급드렸듯이, 랑글레 주급은 20만파운드.\\n11.5파운드 또는 최대 85%까지 지불 될 수 있음.)\\n1-4. 콘테는 한국투어에 랑글레가 합류하길 원함. 2. [던딜] 케난 일디즈, 뮌헨>유벤투스 거래완료(FA)\\n3. [던딜] 네마냐 라돈지치, 마르세유>토리노 구매 옵션이 포함된 임대계약\\n4. [던딜, 뮌헨1티어] 오마르 리차즈 계약 100% 성사됨. 900~1,000만유로 <루머:공신력 \\'상\\'>\\n1. 맨유는 호날두 NFS(낫포세일, 팔지않겠다.)\\n2. [디마르지오] 요비치는 메디컬을 위해 피오렌티나 도착\\n3. [디애슬레틱] 리버풀, 네코 윌리엄스 1,700만파운드\\n노팅엄 판매 합의\\n3-1. [Peter Rutzler-풀럼기자] \"네코는 지난시즌 풀럼에서 잘했다, 해리 윌슨과 연계도 좋다. 하지만 1,700만파운드는 비쌈.\"\\n4. 루이스 수아레즈는 리버플레이트 합류 안할 것이다.\\n\"유럽에서 뛰고 싶었고 많은 유혹이 있었다\"\\n(수아레즈 현재 FA)\\n5. [리얄 토마스] \"토트넘은 24시간 내 랑글레의 메디컬을 완료하고 한국 투어에 합류하기를 원한다.\"\\n6. 오마르 리처즈, 뮌헨>노팅엄 이적 가까워지고 있음.\\n1,000만 유로\\n7. 라포르타 \"레반도프스키에게 제안했고, 기다리는 중\"\\n8. 샤흐타르 풀백 도도, to 피오렌티나 1,450만유로+350만유로\\n9. 히샬리송 이적사가 뒷이야기\\n\"히샬리송 이적으로 토트넘 레비회장이 4천만 파운드를 제시하면서 일부러 떠봤다. 그래서 에버튼이 분노했었고, 레비의 협상 방식으로 두 클럽 관계가 손상되었다.\\n추후 앤서니 고든과 조단 픽포드 움직임에 영향 미칠 것\"\\n10. [왓포드 1티어 Adam Leventhal]\\n\"레이 마나즈, 바르샤>왓포드 이적 가능성있다.\"\\n11. [Relevo] \"첼시는 데용 영입에 집중하고 있고 마르코스 알론소와 아스필리쿠에타가 바르샤가 노리는 영입목표이다.\"\\n11-1. [페르난도폴로-바르샤1티어] \"아스필리쿠에타와 바르샤는 가능한 빨리 첼시를 떠날 수 있도록 노력중\"\\n11-2. [로마노] \"이번 주 구단 협상, 바르샤는 가능한 빨리 2년 계약에 추가옵션 논의 될 예정이고, 알론소도 논의될 예정\"\\n12. 아틀란타, 워렌 본도 FA 영입 협상 중(이전 소속팀:낸시) 많은 클럽들이 그에게 관심이 있는 중\\n13. [Relevo] \"PSG단장 루이스 캄포스는 3개의 계약 건을 동시에 진행중이다.\"\\n13-1. 줄렌 로베테(Julen Lobete)\\n13-2. 오스카 로드리게스(Óscar Rodríguez)\\n13-3. 네투 무라라(Neto Murara)\\n14. [뮌헨1티어] \"요슈아 바그노만 이적완료, 함부르크>슈투트가르트 2026년까지, 370만유로, 셀온10%\\n15. 알메리아, 마르코 마레지 밀로바노비치 영입예정\\n(350만유로+150만유로 추가, 셀온10%,2028년 6월)\\n16. [크팰 기자 맷 우스남] \"크팰 제임스 맥아더 프리시즌 훈련도중 부상(사타구니). 시즌 초반 아웃될 가능성 있음.\"\\n17. 파비우 실바, 울브스>안데레흐트 임대영입 예정 / 2023년 6월 급여의 100%(파비우 실바는 기다리고 있는중.)\\n18. 맨시티, 리야드 마레즈 재계약 준비 완료\\n(다음주 열릴예정, 로드리, 포든도 포함)\\n19. [나단기싱] 투헬은 킴펨베를 원함.\\n현재 투헬이 원하는 센터백 순위는 더 리흐트>킴펨베>아케 순이다.\\n20. 토트넘 센터백 토비 오몰레는 크롤리 이적예정, 2024년 6월까지\\n21. 요비치 내일 피오렌티나 이적마무리 예정\\n21-1. 이적료는 없는 대신 주급 전체를 피오렌티나가 부담.\\n21-2. 레알마드리드 셀온 조항 50%\\n21-3. 계약 2024년 6월까지, 2년 연장 가능옵션 포함.(현재 요비치↔레알 잔여계약기간:2025년 여름까지 3년남음) 사실상 계약 끝날때까지 안 쓰겠다는 말임..ㅋㅋ\\n22. 맨유, 리산드로 마르티네스 재영입 계획(보너스를 포함한 5천만 유로 제안)\\n23. AC밀란, 지예흐&샤를 드 케텔라레르 이적 모두 진행 중\\n24. 리즈 제시마쉬 감독 \"해결책을 결국 내야하는 절박함이 있는 상태다. 며칠 후면 알게 될 거다.\"\\n24-1. [필 헤이-리즈 기자] \"이번 프리시즌 호주투어에 하피냐가 참가할지는 불확실하다.\"\\n24-2. [로마노] \"하피냐는 오늘 훈련에 복귀, 호주 투어에는 가지 않을 것이고, 며칠 안에 빠르게 움직일 것이다.\"\\n25. [디마르지오] 인테르, 브레메르 이적 건 공식 제의 / 토리노는 4,000만 유로 요구\\n25-1. [로마노] 브레메르는 인터밀란의 주요 타겟. 오랫동안 개인합의를 봐왔고, 토리노 4천만 유로 요구\\n26. 에스파뇰, 비니시우스 소자(브라질 미드필더) 이적 계약할 예정 <루머:공신력 \\'중,하\\'>\\n1. 토론토FC, 페데리코 베르나르데스키 협상 중(FA)\\n2. 랑글레 임대는 다음 여름이적 시장에서 토트넘이 바스토니를 영입할 기회임을 높여준다.\\n3. 풀햄과 노팅엄, 릴 소속 터키국대 유수프 야지치 관심\\n4. 라치오와 나폴리는 그라나다 골키퍼 루이스 막시미아노에게 관심\\n5. 푸마스는 다니 알베스에게 1년 영입제안\\n(*푸마스는 멕시코에 있는 푸마스 국립대학교 축구팀이다. 프로축구팀이 아님.)\\n6. 마르코스 알론소는 바르샤 이적을 원함.\\n7. 아르투로 비달은 플라멩고와 연봉협상을 하지 않을 것이다.(급여가 얼마든 뛰는 것이 중요하다는 이야기.)\\n8. 니스는 안드레아 벨로티를 FA로 이적하려한다.\\n9. 웨스트햄, 풀럼 센터백 이사 디오프 영입 고려중\\n10. 머페티에 \"맨유는 마르티네스 근접 아약스 5천만유로 원함 / 안토니는 맨유가 원했지만 멀어지고 있다. 6천만 유로 가치로 보고있다.\"(안토니는 공식제의 안했음)\\n11. 뮌헨은 더 리흐트를 위해 엄청난 제의를 준비 중(9,000만 유로 / 7,500만유로 선불 지급 후 1,500만 유로 추가 지불예정)\\n12. 뉴캐슬은 마르코 아센시오에게 2,000만 유로 오퍼를 준비중이다.\\n13. PSG는 레나토 산체스를 붙잡지 못할 것에 대비해서 은돔벨레를 주시 중이다.\\n(찌라시라도... 너무 기분 좋습니다!!!!!마구마구 나와랏)\\n**블로그 검색창에 필요한 선수나 정보를 검색해보세요!**\\n#해외축구이적시장 #해축축구갤러리 #해외축구이적 #해외축구오피셜 #해외축구뉴스 #이적시장 #여름이적시장 #토트넘이적시장 #EPL이적시장 #맨유이적시장 #프리미어리그이적시장 #첼시이적시장 #리버풀이적시장 #이적시장오피셜정리 #이적시장정리 #이적시장요약 #축구이적시장 #축구이적시장요약 #EPL여름이적시장 #축구여름이적시장 #토트넘이적설 #토트넘이적생'}, 5: {'title': '2022 유럽 해외축구 이적시장 루머 금일자 정리 Ⅱ.txt', 'nickname': '정꾸레\\n(clefboy)', 'datetime': '2022. 7. 11. 9:00', 'content': \" 정꾸렙니다.\\n그 어느 때보다 활발한 이적시장 루머들이 속속히 나오고 있는 중입니다. 아직까지 여러 구단들 속에서 오피셜 영입은 밋밋한 수준이지만 루머만으로 이미 한가득 나오고 있는 중인데 그 중심에 정꾸레 최애팀 FC 바르셀로나는\\n빚더미에 있는 상태인데도 불구하고 이적시장 관련 루머가 상당히 많이 나오고 있고 모든 핫한 타구단의 선수들이 이적을 결심했다고 공개된 이후 언제나 연결고리고 바르셀로나가 주목 받고 있는 중입니다. 프리미어리그 소속의 첼시는 맨체스터 시티의 윙어였던 라힘 스털링의 영입에 임박했습니다. 이 잉글랜드 국가대표는 개인조건에 동의한 상태로 두 클럽간의 계약은 ￡4,500만 파운드에 합의된 것으로 나타납니다.\\nThe Blues는 또한 네덜란드 수비수인 나단 아케와 계약이 거의 확정된 상태 속에서 The Citizen과 이적료에 대해서 아직 합의가 되지 않은 상태로 만 27세는 ￡4,000만 파운드의 비용이 들 수 있습니다. 하피냐와 로베르트 레반도프스키를 가지려고 하는 것을 우선시하고 있는 Blaugrana이고 이것은 첼시의 또다른 주요 타겟이자 바르사 합류를 원하고 있는 스페인 라리가 무대의 세비야 소속 센터백 쥘 쿤데를 영입하는 것이\\n실패할 수 있는데 현재 하피냐 측에서는 인내심이 한계에 다다르는 중으로 바르사 측에게 48시간을 주었습니다. 이때까지 첼시는 하피냐 경쟁에 다시 뛰어들 것입니다.\\n그리고 바르셀로나는 프랭키 더 용에 대해 다른 곳에 보낼 수 없음에 대한 이유를 10가지 목록을 작성했습니다. 프리미어리그 소속 맨체스터 유나이티드의 에릭 텐 하그는 그의 前 아약스의 제자 중 한 명인 공격수 브라이언 브로비에게 관심을 갖고 있습니다.\\n만 20세의 선수는 현재 라이프치히에서 오른쪽 풀백으로 활약하고 있지만 작년에 네덜란드 암스테르담에 복귀하였습니다.\\n그리고 추가로 맨유는 독일 분데스리가 바이에른 뮌헨의 윙어인 세르주 그나브리를 주시하고 있습니다. 장기 계약 연장 제안을 거절한 이후 알리안츠 아레나에서의 독일인의 미래는 불확실한 상태입니다.\\n그리고 프랭키 더 용과의 여름 이적시장 상황 속에 맨유는 이적하는 것에 대해 배제한 상태입니다. 수비수 영입도 고려 중인 맨체스터는 아약스 소속의 리산드로 마르티네즈에게 €4,300만 유로로 늘렸습니다. 유벤투스의 관심 속에 프랑스 풀백인 페를랑 멘디의 이적을 승인할 준비가 되어 있는 레알 마드리드입니다. 현재 Los Blancos에서 제안한 이적료는 €4,500만 유로인데 이 정도 이적료는 산티아고 베르나베우를 떠날 수 있는 이적료입니다.\\n그리고 마드리드는 루카 요비치를 내보내고 추가적으로 다니 세바요스 + 마리아노 디아즈 + 마르코 아센시오 세 명의 선수까지 모두 정리하려고 합니다. 위르겐 클롭은 구단이 레알 마드리드 윙어인 마르코 아센시오를 영입하기를 원하고 있으며 이탈리아 세리에A 소속의 유벤투스는 마티아스 더 리흐트를 좋은 이적료 제안이 오는 팀이게 건네줄 의향이 있으며 현재 이 선수를 영입하고자 경쟁에 뛰어든 리버풀과 첼시가 있습니다. 현재 두터운 스쿼드 속에 생존 기미가 보이지 않는 마르코 아센시오를 두고 뉴캐슬 유나이티드도 군침을 흘리고 있는 중입니다. 경쟁에 참여를 할 수 있는 자금이 있지만 그들의 현재 주 타겟은 바이얼 레버쿠젠의 무사 디아비입니다. 이탈리아 세리에A 사수올로 소속의 잔루카 스카마카를 눈독 들이고 있는 파리 생제르맹인데 영입에 박차를 가하기 위해 이탈리아로 떠나 조율을 하고 있지만 구단 측에서는 이적 합의를 원치 않고 있습니다. 수비 보강을 위해 몰색하던 중 입지가 불안한 토트넘 핫스퍼의 자펫 탕강가 이적에 대한 관심을 측정하기 위해 토트넘 관계자와 대화를 나누었던 밀란의 관계자입니다. 최근 몇 년 동안 셀허스트 파크에서 수많은 이적과 관련이 있었던 크리스탈 팰리스의 윙어 윌프레드 자하의 영입을 고려하고 있는 로마입니다. 현재 프랑스 리그앙에서 활약 중인 올랭피크 리옹 소속의 루카스 파케타를 데려오려고 노력 중이며 추가적으로 이탈리아 세리에A에서 활약 중인 AC밀란 소속의 이스마엘 베나세르까지 영입을 노리고 있는 The Gunners입니다.\\n그리고 추가로 프리시즌 미국투어를 위해 The Blues의 스쿼드에서 배제되었던 은골로 캉테의 거취를 분명하기 위해 아스널은 영입에 매우 집중하고 있는 중입니다. 인테르 합류가 기정사실되었던 파울로 디발라의 거취가 불투명해지고 있는 중입니다. 이유는 로멜로 쿠카쿠의 공짜 합류와 디발라의 고주급이 문제가 될 수 있다는 점에서 현재 거취가 불투명해진 상태에서 그를 데려갈 구단을\\n몰색하고 있는 Bianconeri는 현재 맨체스터 유나이티드가 예전부터 원했던 선수인 만큼 맨유로부터 역제안을 하고자 합니다. '디펜딩 챔피언' 맨시티의 마크 쿠쿠레야의 관심은 레이저 쏘듯 보이는 중이고 놓치고 싶지 않은 The Seagulls는 잔류 하는 것에 대해 적극적으로 조율 중입니다.\\n만에 하나 맨시티로부터 빼앗길 경우를 대비해 현재 벤피카 소속의 알렉스 그리말도를 주시하고 있는 브라이턴인데 여기에는 아스널까지 경쟁 중에 있습니다. 드리스 메르텐스의 헌신은 이제 마무리 짓기를 원하는 나폴리 측에서 계약연장에 대한 논의를 했으나 선수와 구단 모두 함께 하기를 원하지 않게 되었습니다. 비야레알의 핵심 공격수인 아르나우트 단주마는 The Hammers에 합류할 기회를 거부해 합류 가능성이 사라졌습니다. 다음 시즌까지 함께 라리가 무대를 할 것을 동의한 상태입니다. \"}, 6: {'title': '2022년 해외축구 여름이적시장 중간현황(2022년6월30일까지 오피셜 기준)', 'nickname': '영에이치 YoungH', 'datetime': '2022. 7. 1. 11:27', 'content': '안녕하세요. 축구를 좋아하는 영에이치입니다.\\n2022년 해외축구 여름 이적시장이 활발히 진행되고 있는데요~\\n각 구단들의 협상과 눈치싸움이 치열하게 진행되고 있습니다^^ 누가 어디로 이적한다는 찌라시들이 난무하고 있는 상황에서\\n현재(2022년6월30일)까지 발표된\\n오피셜들만 정리해 보았습니다^^\\n(이름만 들어도 알만 한 선수들로 조사해 보았습니다^^)\\n1. 페르난지뉴(37세) 맨체스터 시티 > 아틀레치쿠 파라나엔세\\n이적료: 자유계약\\n시장가치: 150만 유로\\n나이가 있어 커리어의 황혼기를 고향에서 보내려는 것 같아요~\\n그래도 맨시티에서 오래 버텼네요^^\\n2. 프레이져 포스터(34세) 사우스햄튼 > 토트넘 핫스퍼\\n이적료: 자유계약\\n시장가치: 200만 유로\\n요리스 백업으로 영입한 것 같은데\\n요리스가 잘하고 있고 부상도 없어서\\n얼마나 출전할 수 있을지 모르겠네요^^\\n3. 가레스 베일(32세) 레알 마드리드 > LAFC\\n이적료: 자유계약\\n시장가치: 300만 유로\\n축구생활은 베일처럼!!!\\n토트넘시절 반짝 잘하고 레알가서 돈 많이 벌고\\n대표팀에서는 아직도 잘 하는것 같은데\\n재능이 아까웠던 선수...ㅋ\\n4. 네마냐 마티치(33세) 맨유 > AS로마\\n이적료: 자유계약\\n시장가치: 500만 유로\\n맨유에서 그냥 어중간했던 선수\\n뭐 맨유 자체가 어중간하니...ㅋ\\n5. 카메론 카터 빅터스(24세) 토트넘 핫스퍼 > 셀틱\\n이적료: 700만 유로\\n시장가치: 700만 유로\\n토트넘 경기를 그렇게 봤는데\\n이런 선수가 토트넘에 있었나요?ㅎㅎㅎ\\n6. 이반 페리시치(33세) 인터밀란 > 토트넘 핫스퍼\\n이적료: 자유계약\\n시장가치: 1000만 유로\\n눈에 띄게 잘 하는 것이 보이는 스타일은 아니지마\\n꾸준히 잘 해주는 선수이니\\n토트넘에서도 쏘니와 함께 제 몫을 해 주길^^\\n7. 마리오 괴체(30세) PSV > 에인라흐트 프랑크푸르트\\n이적료: 400만 유로\\n시장가치: 1000만 유로\\n어릴 때 잘 하다가 기량을 만개하지 못한듯...ㅋ\\n8. 미나미노 타쿠미(27세) 리버풀 > AS모나코\\n이적료: 1500만 유로\\n시장가치: 1200만 유로\\n아시아인이 어중간한 실력으로 빅클럽에 가면\\n성공할 수 없다는 것을 보여준 사례\\n9. 알렉상드르 라카제트 (31세) 아스날 > 올랭피크 리옹\\n이적료: 자유계약\\n시장가치: 1500만 유로\\n아스날에서 활약이 괜찮았는데\\n팀 성적이 워낙 안좋으니 어쩔...ㅋ\\n10. 닉 포프 (30세) 번리 > 뉴캐슬 유나이티드\\n이적료: 1150만 유로\\n시장가치: 1500만 유로\\n사우디 자본의 이적사례\\n주전급은 되지 않을까 예상~ㅎ\\n11. 이브스 비수마 (25세) 브라이튼 > 토트넘 핫스퍼\\n이적료: 2920만 유로\\n시장가치: 3500만 유로\\n잘 모르는 선수인데...\\n이선수 잘 하나요??ㅎㅎㅎ\\n베르바인이나 은돔벨레처럼 먹튀 아닐지 걱정이네요^^\\n12. 안토니오 뤼디거 (29세) 첼시 > 레알 마드리드\\n이적료: 자유계약\\n시장가치: 4000만 유로\\n역시 잘하니까 레알이 채 가네요^^\\n13. 페데리코 키에사 (24세) 피오렌티나 > 유벤투스\\n이적료: 4000만 유로\\n시장가치: 6500만 유로\\n실력으로 빅클럽 이적에 성공한 선수^^\\n14. 로멜로루카쿠 (29세) 첼시 > 인터밀란\\n이적료: 임대 (임대료: 800만 유로)\\n시장가치: 7000만 유로\\n기량만큼은 확실하게 인증된 선수\\n팀도 빅클럽만 이적하고 있긴 한데\\n얘는 이적을 왤케 많이 하는건지...ㅋ\\n15. 사디오마네 (30세) 리버풀 > 바이에른 뮌헨\\n이적료: 3200만 유로\\n시장가치: 7000만 유로\\n어딜 가서든 잘할 것 같은 선수^^\\n16. 엘링 홀란드 (21세) 보루시아 도르트문트 > 맨체스터 시티\\n이적료: 6000만 유로\\n시장가치: 1억 5000만 유로\\n이번 여름이적시장 최대어~\\n아직 어린 나이에도 실력이 검증된 선수\\n신체능력이 워낙 뛰어나\\n맨시티에서도 잘할 것이라는 믿음이 가죠~\\n22~23시즌 이적생들의 활약을 기대해 봅니다^^'}, 7: {'title': '[6/22] 해외축구 이적시장 루머 정리', 'nickname': '디네로\\n(lcs11011)', 'datetime': '2022. 6. 22. 10:06', 'content': \"폴란드의 공격수 로베르트 레반도프스키가 바이에른 뮌헨을 떠나고 싶어 한다. 독일 클럽 스포츠 디렉터인 하산 살리하미지치가 33세의 바이에른 뮌헨을 직접 만나 그의 생각을 바꾸려 하고 있지만 말이다. (스카이독일) 레알 마드리드는 최근 몇 주 동안 잉글랜드 공격수 라힘 스털링에 대한 관심을 높였고 바르셀로나와 첼시는 맨체스터 시티에서 27세의 불확실한 미래에 대한 상황을 주시하고 있다. (미러)\\n레알 마드리드, 바이에른 뮌헨, 파리 생제르맹이 랭스에서 프랑스 공격수 우고 에키티케(20)의 영입을 위해 라이벌 뉴캐슬 유나이티드와 맞설 예정이다. (프랑스어: L'Equipe)\\n그러나 에키티케는 휴가에서 일찍 돌아와 £26.5M의 뉴캐슬 이적을 완료할 예정이다. (코르니클)\\n바르셀로나는 프랑스 수비수 쥘 쿤데와 계약하고 싶지만 세비야의 6000만 유로(5150만 파운드)를 23세의 몸값으로 주고 싶지 않다. (마르카) 브렌트포드는 지난 시즌 말 떠나기에 앞서 지난 1월 임대로 합류한 덴마크의 플레이메이커 크리스티안 에릭센과 계약할 희망을 버리지 않고 있다. 맨체스터 유나이티드도 30세 선수에게 관심이 많다. (90min) 아스널과 뉴캐슬은 2023년 나폴리와의 계약이 만료되는 26세의 스페인 미드필더 파비안 루이스에 촉각을 곤두세우고 있다. (코리에 델로 스포르트, 데일리 메일)\\n첼시는 랑스의 29세 프랑스 국가대표 풀백 조너선 클라우스에 관심이 많다. (골닷컴)\\n토트넘은 미들즈브러에서 잉글랜드 U-21 대표팀 오른쪽 수비수인 제드 스펜스와 계약하기 위해 추가 회담을 가질 예정이다. 이 21살의 선수는 지난 시즌을 노팅엄 포레스트에서 임대로 보냈고 그들이 프리미어 리그로 승격하는 것을 도왔다. (스카이스포츠)\\n21세 노르웨이 공격수 엘링 홀란드를 맨체스터 시티에 매각한 보루시아 도르트문트가 코트디부아르 공격수 세바스티앙 할러를 아약스에서 3600만 유로(£31M)에 영입할 예정이다. (ESPN)\\n울브스는 플라멩구의 25세 브라질 공격수 가브리엘 바르보사와 리버 플레이트의 아르헨티나 미드필더 엔조 페르난데스(21)와 계약하는 것에 대해 논의할 예정이다. (90min)\\n레인저스는 콜롬비아 공격수 알프레도 모렐로스를 2023년 여름에 계약이 만료되는 26세의 선수와 새로운 계약에 합의할 수 없을 경우 매각할 수 있다. (90min)\\n맨체스터 유나이티드는 26세의 나이에 대한 관심이 부족하기 때문에 프랑스 포워드 앤서니 마르티알이 다음 시즌에 이 클럽에 있을 것으로 예상하고 있다. (맨체스터 이브닝 뉴스)\\n맨체스터 유나이티드는 27세의 왓포드, 31세의 스페인 국가대표 다비드 데 헤아의 백업 선수로 오스트리아의 골키퍼 다니엘 바흐만을 고려하고 있으며, 잉글랜드의 딘 헨더슨(25)이 노팅엄 포레스트로 임대 이적할 것으로 보인다.\"}, 8: {'title': '해외축구 여름 이적시장 오피셜 및 루머 총정리 (토트넘, 첼시, 맨시티, 리버풀, 맨유, 아스날)', 'nickname': '아라 ARA', 'datetime': '2022. 6. 22. 15:00', 'content': '해외축구 시즌이 종료된지 벌써\\n한달이 지나갔는데요,\\n아쉬워할 틈도 없이 바로\\nA매치 기간이 진행되면서\\n시즌 종료를 아쉬워하던 축구팬들의\\n마음에 불을 지폈습니다.\\n이제 A매치 기간도 끝났으니\\n구단들은 각자 재정비 시간을\\n가지게 될 예정인데요,\\n선수 영입과 방출 등\\n다음 시즌을 위한 전력 강화에\\n모든 노력들을 쏟아붓고 있습니다.\\n이번 여름에 어떤 선수를\\n영입하느냐에 따라 다음 시즌\\n성적이 결정되는 만큼\\n구단들은 누구보다 신중하고\\n집요하게 원하는 선수들을 설득하고\\n영입해나가고 있습니다.\\n그래서 오늘 트래블플랜에서는\\n해외축구 여름 이적시장\\n오피셜 및 루머 총정리를 한번\\n진행해보도록 하겠습니다! 토트넘의 여름 이적 시장 첫 영입은\\n바로 요리스의 백업 골키퍼로 활약할\\n노련한 골키퍼 프레이저 포스터입니다.\\n토트넘은 포스터를 이적료 없이 자유계약으로\\n2024년까지 계약하며 영입의 스타트를 알렸습니다.\\n프레이저 포스터 같은 경우 34살의 선수치고는\\n많은 편에 속하지만 EPL 무대에서 쭉 뛴만큼\\n노하우와 경험이 풍부한 선수로써\\n요리스와 함께 토트넘의 수문장 역할을\\n함께 할 예정입니다. 토트넘의 두번째 영입으로는 인터밀란에서\\n활약한 이반 페리시치 선수를 이적료 없이\\n자유 계약으로 영입하였는데요,\\n계약기간은 2024년 7월까지로\\n바이에른 뮌헨, 도르트문트, 인터밀란에서\\n리그 우승과 챔피언스리그 우승을 경험한 선수로\\n토트넘의 위닝 멘털리티를 심어줄 선수입니다.\\n이반 페리시치 선수는 콘테 감독의 애제자로써\\n윙백과 윙어를 모두 소화가 가능한 멀티자원인데요,\\n저번시즌 왼쪽 측면에서 약점을 보였던 토트넘인만큼\\n페리시치의 합류로 더욱 강해진 모습이 기대가 됩니다. 토트넘의 폭풍영입 세번째 주인공은 바로\\n브라이튼에서 중원 사령관 역할을 하던\\n이브스 비수마 선수입니다.\\n현지 보도에 따르면 이적료는 400억원 수준으로\\n계약 기간은 2026년까지 인데요,\\n선수층이 얇던 토트넘의 중원에\\n한줄기 빛처럼 여겨지는 선수입니다.\\n비수마 선수는 태클 머신이라는\\n별명이 있을 정도로 전투적인 선수인데요,\\n주 포지션인 수비형 미드필더 뿐만 아니라\\n중앙 미드필더, 공격형 미드필더, 심지어는\\n윙백까지 소화가 가능한 아주 멀티자원입니다. 현재 토트넘과 강력하게 뜨고 있는\\n루머가 바로 에릭센의 토트넘 복귀썰인데요,\\n토트넘에서 무려 7년이나 뛰었던 에릭센 선수로써\\n친정팀 복귀는 언제나 팬들에게 환영을 받을 만한\\n선택이기도 한데요, 다만 현재 맨유 역시\\n에릭센에게 파격적인 제안을 제시하며\\n이적을 설득하고 있습니다.\\n그럼에도 불구하고 여론은 현재\\n에릭센의 토트넘 복귀를 예상하고 있는데요,\\n콘테 감독이 열렬히 원한다는 점과\\n토트넘이 챔피언스리그 진출에 성공했기에\\n더욱 에릭센에게는 플러스 요인이\\n되지 않나 생각하고 있습니다. 아스날은 아직까진 이렇다할 빅사이닝은\\n없는 상태이지만 미래를 위한 투자 개념으로\\n브라질의 유망주인 마르퀴뇨스를 영입했는데요,\\n이적료는 47억원으로 4+1년 계약을 맺었습니다.\\n마르퀴뇨스는 아직 19살 밖에 되지 않은\\n유망주 윙어인데요, 양쪽 윙어를 모두 소화할 수 있는\\n선수로 주전보다는 백업자원으로 사용될 예정입니다.\\n워낙 어린 선수라 아직까지는\\n자료들이 그리 많지가 않은 상태이지만\\n16살에 프로 계약을 하고\\n21년도 브라질 상파울로 성인팀에\\n데뷔하여 전체 리그 경기\\n39경기 4골 3도움이라는 19살의 나이로는\\n꽤나 좋은 활약을 펼친 선수입니다. 빅사이닝이 없는 아스날로써 현재\\n가장 큰 루머는 맨시티의 스트라이커\\n가브리엘 제수스의 아스날 합류인데요,\\n라카제트가 다시 리옹으로 돌아간 상태기에\\n스트라이커 자리를 채워줄 자원으로써는\\n딱 적합한 선수입니다.\\n사실 제수스의 이적은 루머라기보다는\\n기정 사실으로 공식발표까지는 그저\\n시간문제에 불과한데요,\\n저번 시즌 멋진 활약을 보여준 제수스이기에\\n아스날 역시 간만에 이뤄지는\\n대박 사이닝이기도합니다. 두번째 영입 루머는 바로 포르투의 2000년생\\n플레이메이커인 파비우 비에이라의 영입설인데요,\\n사실 이 선수 역시 루머보다는 기정 사실로\\n공신력 최상인 영국 BBC에서 이적료 540억원에\\n합의가 완료되었다고 보도된 상태입니다.\\n파비우는 창의적인 공격형 미드필더로\\n패스능력이 아주 뛰어난 선수이기에\\n볼란치나 왼쪽 메짤라 롤도 가능한 선수인데요,\\n이미 포르투칼에서는 제2의 베르나르두 실바라는\\n평이 상당히 지배적인 상태입니다. 노르웨이의 괴물이자 현 시대 가장 강력한\\n공격수 엘링 홀란드가 맨시티에 합류하게 되었는데요,\\n이적료는 의외로 802억원 정도\\n들어간 것으로 확인되지만\\n추가적인 보너스까지 고려한다면\\n1300억원 수준입니다.\\n레알 마드리드와도 강력하게 연결된 홀란드 선수이지만\\n그가 선택한 곳은 바로\\n본인의 아버지가 뛰었던 맨시티입니다.\\n홀란드 선수는 이미 입증된 공격수이기도 한데요,\\n지난 21/22 시즌만 봐도 30경기 29골 8도움이라는\\n경이적인 기록을 세우기도 했습니다.\\n비록 속도와 피지컬, 그리고 결정력이 파괴적인 선수이지만\\n많은 팬들이 걱정하는 것이 바로 부상인데요,\\n강한 피지컬임에도 불구하고 잦은 부상을 겪었던 선수라\\n태클과 반칙이 난무하는 험한 EPL에서 과연\\n살아남을 수 있을까하는 걱정이 앞섭니다. 홀란드를 영입했지만 맨시티의 행보는\\n여기서 끝나지 않았는데요,\\n맨시티의 약점이었던 왼쪽 풀백으로는\\n브라이튼에서 미친 활약을 보여준\\n쿠쿠렐라(사진 속 왼쪽)를 노리고 있으며\\n페르난지뉴의 대체자로는\\n리즈의 칼빈 필립스(사진 속 오른쪽)을\\n노리고 있습니다.\\n맨시티가 만약 이들까지 영입한다면\\n사실상 EPL 최강 스쿼드라고 해도\\n과언이 아닐 정도로 막강한 자본력과\\n선수단을 가진 팀이 될것으로 보입니다. EPL TOP6 구단들 중에서\\n맨유만 아직 영입된 선수가 없는 상태인데요,\\n새로운 감독인 텐 하흐 감독이 부임하면서\\n영입 보다는 불필요한 자원들을 판매하면서\\n구단 정리에 들어간 것으로 보입니다만,\\n현재 바르셀로나의 프렝키 데용 선수와\\n강하게 링크가 뜨고 있습니다.\\n해외축구 이적시장 전문가\\n파브리지오 로마노에 따르면\\n맨유는 1차로 814억원을 제안했지만\\n재정 상황이 좋지않은 바르셀로나는 거절하였고\\n맨유는 2차로 더욱 높은 금액을 제안할\\n예정이라고 합니다. 저번시즌 구단주 교체 등 격동의 시즌을\\n보냈던 첼시 역시 아직까지는 영입 소식이\\n전혀 들려오지 않고 있는데요,\\n1000억 넘게 들여 사온 루카쿠가\\n다시 인터밀란으로 돌아가고 싶다며\\n칭얼대는 와중 스털링 영입설이 들려오고있습니다.\\n특히 첼시의 투헬 감독이 스털링을 상당히\\n원하고 있다는 보도가 흘러나왔는데요,\\n루카쿠의 빈자리는 물론 윙어 포지션까지\\n뛸 수 있는 스털링은 첼시 입장에서는\\n꽤나 매력적인 옵션이 될것으로 보입니다. 리버풀 역시 알찬 보강을 진행했는데요,\\n바로 우루과이 스트라이커 다윈 누네스를\\n벤피카로부터 1012억원이라는 거액을 들이고\\n2028년까지 장기계약을 맺었습니다.\\n많은 빅클럽들이 노리는 선수였으나\\n결국 수아레즈의 후배가 되기로 했습니다.\\n누네즈 같은 경우 전형적인 스트라이커인데요,\\n머리와 양발 모두 좋은 요즘같은 시대에서\\n찾기 어려운 육각형 스트라이커 중 한명입니다.\\n아직 22살 밖에 안된 어린 선수라\\n과연 EPL에서 어떤 모습을 보일지 기대가 됩니다. 리버풀은 공격뿐만 아니라 수비까지\\n보강에 나섰는데요,\\n바로 스코틀랜드 21세 이하 대표팀에서\\n활약하는 캘빈 램지를 영입했습니다.\\n18살의 어린 나이로 즉시 전력감보다는\\n아놀드의 교체 자원이 될 예정입니다.\\n켈빈 램지는 스코틀랜드에서 기대하는\\n유망주중 한명인데요,\\n21-22 시즌 스코틀랜드 축구기자 협회\\n선정 올해의 영플레이어로 뽑혔으며\\n자국 올해의 영플레이어상을 수상한\\n아주 잠재력이 높은 선수 중 한명입니다. 본선 티켓은 지금 즉시 준비하세요!\\n카타르 월드컵 본선 티켓 확정 구매 링크▼ 호스피탈리티 패키지 구매 관련 포스팅▼ '}, 9: {'title': '축구 팬들은 기다려지는 해외축구이적', 'nickname': 'FS스포츠\\n(siroikitty)', 'datetime': '2022. 6. 20. 18:30', 'content': '안녕하세요! FS스포츠입니다.\\n한 주의 시작 월요일, 활기차게 시작하셨나요?\\n요즘 더워지는 날씨로 힘들고 바쁘지만\\n웃으면서 하루를 마무리 해봅시다!\\n웃으면 복이 온다고 하잖아요~\\n이번 주도 즐거운 일만 가득하기를 바랍니다^^\\n많은 사람들이 기다리고 있는\\n해외축구이적에 대하여 알볼까 합니다!\\n해외축구하면 기다려지는 기간은 여름과 겨울 단 2번 열리는 이적시장이\\n해외축구 팬들에게 또 하나의 재미를 선사합니다.\\n이적시장이란 말 그대로 구단이 선수를 팔 수 있는 기간을 말합니다!\\n1년 내내 열리는 것이 아니기에 구단이나 선수나 신중하게 선수를\\n사고 팔거나 신중하게 팀을 선택해야 합니다. 축구 이적시장에는 임대, 임대 후 완전이적이라는 제도가 있습니다. 임대는 선수를 영입하는 것이 아닌, 일정기간 동안 빌려주거나\\n빌려오는 것을 의미를 합니다. 보통 어린 선수들에게 경험을 쌓을 수 있는 기회를 주려고 선수를 사온 후 임대를 다시 보내는 경우가 많습니다. 임대 후 완전 이적은 선수를 빌려줌과 동시에 선수의 이적료를 책정합니다. 선수를 빌린 구단은 임대한 선수가 경기력도 괜찮고 침에 도움이 되면 책정된 이적료를 지불하고 팀에 완전히 이적시킵니다. 스왑 딜은 구단끼리 서로 이적료 대신 선수를 교환하는 것을 의미합니다. 서로 구단끼리 원하는 선수를 보유하고 있거나 선수를 영입하고 싶은데 자본이 딸릴 때 선수와 이적료, 선수와 선수 등 스왑 딜을 진행하는 경우가 있습니다. 그리고 많은 구단들이 FA선수들을 노릴 때가 있습니다.\\nFA란?…계약기간이 끝난 선수들이 나오는데, 이적료가 발생하지 않고 선수와 구단끼리 연봉만 맞으면 이적을 성사 시킬 수 있고, FA상태인데 오퍼가 오지 않은 선수는 무직 상태로 봐야할 것 같습니다. 이적을 했다고 하더라도 바이백이란 조항을 넣으면 일정 금액을 지불하고 다시 그 선수를 원래의 구단에서 데려올 수 있습니다.\\n언제든지 원한다면 일정 금액을 지불하고 다시 복귀할 수 있습니다. 최근 가장 뜨거운 관심사는 이버풀의 사디오 마네입니다. 바이에른 뮌헨이 레반도포스키 대체장사로 사디오마네를 원한다는 소식이\\n전해지면서 많은 사람들이 과연 EPL에서 우승과 챔스 우승까지 경험한 마네가 리버풀과 재계약 난항을 겪고 있는 상태에서\\n독일 최고의 팀인 뭰헨의 제안을 받아들일지 궁금합니다.\\n이번 21-22시즌을 끝으로 폴 포그바 선수도 맨유과 계약이 끝나 FA신분이 되었습니다. 연재 친정 팀인 유벤투스 및 바르셀로나,\\n파리 생제르맹 등이 포그바 영입에 관심이 있는 것으로 확인되었습니다. 과연 FA신분으로 다시 유벤투스로 돌아가 옛날 기량을 회복 할\\n것인지 아니면 다은 리그로 떠나 다시 한번 도전을 할지 어떤 선택을 해도 옛날 기량을 다시 회복하여 즐거운 플레이를 하면 좋겠습니다.\\n이렇게 오늘은 해외축구 이적시장 용어 및 제일 관심을 받고 있는 몇몇 선수들에 대해 알아 봤습니다.\\n이적시장은 해외축구를 좋아하는 팬들이라면 어떤 선수가 어떤 구단으로 이적을 했고 어떤 선수를 팔고\\n흥미가 있는 시간이기에 많은 사람들이 관심을 가지고 있습니다. 아직 이적 시장이 시작을 하지 않아 오피셜이\\n뜬 선수들은 없지만 오피셜이 뜰 때까지 모르는게 이적시장이기에 이번 이적시장도 기대가 많이 되는 부분입니다. '}}\n"
     ]
    }
   ],
   "source": [
    "dict = {}    # 전체 크롤링 데이터를 담을 그릇\n",
    "\n",
    "# 수집할 글 갯수 정하기\n",
    "number = 10 \n",
    "\n",
    "# 수집한 url 돌면서 데이터 수집\n",
    "for i in tqdm_notebook(range(0, number)):\n",
    "    # 글 띄우기\n",
    "    url = url_load['url'][i]\n",
    "    driver = webdriver.Chrome(chrome_path, options=options)\n",
    "    driver.get(url)   # 글 띄우기\n",
    "    \n",
    "    # 크롤링\n",
    "    \n",
    "    try : \n",
    "        # iframe 접근\n",
    "        driver.switch_to.frame('mainFrame')\n",
    "\n",
    "        target_info = {}  # 개별 블로그 내용을 담을 딕셔너리 생성\n",
    "\n",
    "        # 제목 크롤링 시작\n",
    "        overlays = \".se-module.se-module-text.se-title-text\"                                 \n",
    "        tit = driver.find_element_by_css_selector(overlays)          # title\n",
    "        title = tit.text\n",
    "\n",
    "        # 글쓴이 크롤링 시작\n",
    "        overlays = \".nick\"                                 \n",
    "        nick = driver.find_element_by_css_selector(overlays)         # nickname\n",
    "        nickname = nick.text\n",
    "\n",
    "        # 날짜 크롤링\n",
    "        overlays = \".se_publishDate.pcol2\"                                 \n",
    "        date = driver.find_element_by_css_selector(overlays)         # datetime\n",
    "        datetime = date.text\n",
    "\n",
    "        # 내용 크롤링\n",
    "        overlays = \".se-component.se-text.se-l-default\"                                 \n",
    "        contents = driver.find_elements_by_css_selector(overlays)    # contents\n",
    "\n",
    "        content_list = []\n",
    "        for content in contents:\n",
    "            content_list.append(content.text)\n",
    " \n",
    "        content_str = ' '.join(content_list)                         # content_str\n",
    "\n",
    "        # 글 하나는 target_info라는 딕셔너리에 담기게 되고,\n",
    "        target_info['title'] = title\n",
    "        target_info['nickname'] = nickname\n",
    "        target_info['datetime'] = datetime\n",
    "        target_info['content'] = content_str\n",
    "\n",
    "        # 각각의 글은 dict라는 딕셔너리에 담기게 됩니다.\n",
    "        dict[i] = target_info\n",
    "        time.sleep(1)\n",
    "        \n",
    "        # 크롤링이 성공하면 글 제목을 출력하게 되고,\n",
    "        print(i, title)\n",
    "\n",
    "        # 글 하나 크롤링 후 크롬 창을 닫습니다.\n",
    "        driver.close()       \n",
    "    \n",
    "    # 에러나면 현재 크롬창을 닫고 다음 글(i+1)로 이동합니다.\n",
    "    except:\n",
    "        driver.close()\n",
    "        time.sleep(1)\n",
    "        continue\n",
    "        \n",
    "    # 판다스로 만들기\n",
    "    import pandas as pd\n",
    "    result_df = pd.DataFrame.from_dict(dict, 'index')\n",
    "\n",
    "    # 저장하기\n",
    "    result_df.to_csv(\"blog_content.csv\", encoding='utf-8-sig')\n",
    "    time.sleep(3)\n",
    "\n",
    "print('수집한 글 갯수: ', len(dict))\n",
    "print(dict)"
   ]
  },
  {
   "cell_type": "code",
   "execution_count": 41,
   "metadata": {
    "id": "aw9T8hPW-kvu",
    "outputId": "afb45d8f-9a0d-442f-a02a-f848f1ce8e6f"
   },
   "outputs": [
    {
     "data": {
      "text/plain": [
       "{0: {'title': '해외축구 이적시장 최신업데이트 EPL,프리메라리그,세리에A,분데스리가 등',\n",
       "  'nickname': '장군대디빅스타',\n",
       "  'datetime': '2022. 7. 16. 0:21',\n",
       "  'content': '안녕하세요 #홈바디블로거 #장군대디빅스타 입니다.\\n매년 이맘즈음에는 많은 해축팬분들이 해외축구 이적시장에 대해 관심을 갖고 스포츠 뉴스를 봅니다.\\n오늘은 어떤 새로운 뉴스가 나왔는지 어떤 계약이 확정됐는지, 보는것만으로도 재미가 있죠.\\n사실 예전에는 네이버스포츠 뉴스의 댓글란에 실시간으로 소식이 올라오면서 막판까지 댓글보는 재미가 있었는데,\\n팬들의 과몰입으로 인해 악플이 난무하다보니까 없어졌죠~~뭐든 적당히 하는게 좋습니다. 다시 이적시장에 대해 얘기해보자면 새로운 시즌을 맞아 각 팀들이 재정비를 하는 시간인만큼 누가 얼마나 돈을 잘 써서 새로운 선수를 영입하고, 기존의 선수들과 조화를 이뤄 새 시즌에 성과를 낼지가 관건입니다. 영입할때는 엄청난 기대를 품고 계약하지만, 막상 기대에 비해 활약이 저조할 수도 있고, 유망주를 영입하거나 백업 선수를 영입했는데 기대 이상의 포텐이 터져서, 구단에 엄청난 기여를 하는 경우도 있어서 새로운 시즌이 되고 적응할 수 있는 시간이 지나봐야 그 계약의 성공여부를 판단할 수 있습니다. 이번 이적시장의 승자는 지금까지는 EPL의 토트넘이라고 할 수 있고, 또 한 팀을 꼽자면 저는 프리메라리가의 바르셀로나를 뽑겠습니다.\\n토트넘은 현재 5호 영입까지 확정지었고, 스펜스 영입을 앞두고 있습니다. 바르셀로나는 케시에, 크리스텐센을 자유영입으로 데려왔고, 하피냐도 이적이 확정되었습니다. 거기에 레반도프스키 이적도 최종단계라고 합니다.\\n사실 시간 문제라서 거의 성공했다고 봅니다.\\n두팀이 현재는 영입시장에서 가장 앞서가고 있습니다.\\n일단 새로운 선수들 영입현황 업데이트하고 루머에 대해서 정리해 보겠습니다.  #계약기간 - 2027년까지\\n#이적료 - 773억원\\n#포지션 - 오른쪽 윙어 하피냐는 1996년생의 젊은 브라질 공격수입니다.\\n2020년 리즈유나이티드로 이적하며 활약하기 시작했고, 65경기에서 17골 12도움을 기록했습니다. 브라질 선수 특유의 장점인 스피드가 좋고 발재간이 화려합니다.\\n뎀벨레와 양쪽에서 수비를 흔들어대고, 레반도프스키가 최전방에서 버틴다면 바르셀로나의 전성기가 다시 도래할 수도 있습니다. 매우 훌륭한 선수이고, 바르셀로나에서 활약할 가능성이 높다고 보기에 좋은 영입이라고 봅니다. 첼시와 아스널도 노렸는데 아쉽게 됐습니다. 아직 바르샤는 죽지 않았습니다 ㅎㅎ 제가 궁금한것은 바르셀로나는 이번 시즌 돈없다고 징징대는데도 돈이 어디서 나서 하는지 몰라도 영입은 잘도 합니다. 판 선수도 딱히 없는데 어떻게 된걸까요?? 물론 자유계약으로 엄청 데려와서 돈을 아꼈지만 하피냐에게 거액을 투자한걸 보면 돈을 안쓸 생각도 아닙니다. 바르셀로나는 팀의 재정상황이 최악이라서 팀에 충성심이 가득하고, 어리고 세계 최고의 재능인 중원의 핵심 프랭키 데용을 울며겨자먹기로 팔아야 한다고 하는데, 본인은 죽어도 절대 가기 싫다는데\\n맨유로 보내려 합니다.\\n맨체스터유나이티드와 팀끼리 합의를 했는데\\n선수가 끝까지 거부했죠.\\n그정도로 가기 싫어할 줄은 몰랐습니다.;;\\n그런데 데용을 팔려고 하면서까지 영입한 하피냐의 포지션은 필수 보강 포지션이 아니거든요~~ 당연히 오면 전력이 업그레이드 되지만, 오바메양이도 윙으로 활약 가능하고, 파티, 뎀벨레 등 충분히 자원은 많은데 상당히 큰 금액으로 영입했죠. 데용의 이적료가 1100억 정도고 하피냐가 총 800억 정도이니 대체라고 봐도 무방한데요.\\n바르셀로나의 큰그림이 어떤건지 저로써는 아직은 잘 모르겠습니다. 진짜로 데용과 여러 선수들을 팔아서 돈을 마련하려고 하니까요. 그런데 어쩌면, 어찌저찌 버티고 버티면서 드림팀을 만들어지는게 아닐까 하는 합리적인 의심도 하게 됩니다. 물론 안팔면 선수등록을 못할정도라고 하니까 팔려고 하겠지만, 혹시 다른선수들을 팔고, 그걸로 어느정도 메꿔져서 데용이 안나가게 된다고 가정해봅시다. 만약 그렇게만 된다면 엄청난 팀이 다시 탄생합니다. 바르샤의 중원에는 젊고 재능있는 선수들이 정말 많으니까요!! 페드리, 가비, 부스케츠, 데용, 케시에 포화상태의 중원입니다. 황금시대가 다시 열릴수도 있습니다. 결국 데용 드라마는 끝까지 지켜봐야 결론이 날 것 같습니다. #계약기간- 2024년 6월까지\\n#포지션 - 왼쪽 윙어\\n바르셀로나의 미운백조새끼(??)가 2년 더 있기로 했습니다. 바르셀로나 입장에서 뎀벨레는 밉기는 미운데 백조는 백조입니다. 2017년에 1800억에 가까운 어마어마한 이적료로 바르샤에 입성한 뎀벨레는 그동안 엄청난 오리새끼였죠~~ 유리몸에, 지각에, 정말 바르셀로나 팬들에게는 증오의 대상이었습니다. 총 150경기동안 32골, 34도움을 올렸습니다. 기대한만큼은 당연히 아닙니다.\\n그런데 이 오리가 작년에 갑자기 백조로 변신합니다. 작년 11월까지는 똑같았는데, 사비감독이 부임하고 겨우 리그21경기만에 13도움을 올리며 시즌 도움왕에 등극하죠. 이렇게 되면서 갑자기 상황은 급변합니다. 당연히 잡을 생각이 없었던 바르셀로나는 나중에 팔더라도 이대로 보낼 수는 없게 된거죠. 재계약이 난항을 겪을 수 있다는 보도가 나왔으나 무사히 재계약에 성공했습니다. 하피냐와 양쪽날개 테크니션 콤비를 볼 수 있게 되었습니다. 다가오는 시즌의 엘클라시코를 기대해 보겠습니다. #계약기간 - 3년\\n#포지션 - 중앙미드필더 / MF\\n워낙에 제 포스팅에서 많이 다룬 선수라 짧게 하고 넘어가겠습니다. 토트넘에서 정상급선수로 활약하다가 인터밀란에 가서 조금 힘든 시간을 겪었고, 결국 본인의 능력으로 극복해서 주전으로 도약하며 활약하던 찰나에 국대 경기에서 심장이 정지되는 사고를 겪었습니다. 제세동기를 달고 뛸 수 없는 세리에a에서 나와 프리미어리그의 브렌트포드로 왔고 여전히 경쟁력 있는 모습을 보여주면서 맨유와 계약했습니다.\\nhttps://blog.naver.com/7ulyee/222800256714 더 자세한 내용은 위 포스팅 참고하세요~ 포지션 - 스트라이커 / ST\\n죽어도 안됩니다. 절대로 못팝니다. 제발 마음을 바꿔 주세요ㅠㅠ\\n아마 뮌헨 팬들의 마음일 겁니다. 그렇지만 이미 레반도프스키의 마음은 떠났고,이적이 점점 가시화 되고 있습니다.\\n이적시장에서 굉장히 공신력을 갖고 있는 로마노 기자가 레반도프스키 이적이 최종단계에 이르렀다고 언급했습니다. 레반도프스키는 분데스리가 역사상 전무후무한 스트라이커죠. 득점왕만 6번 했고, 383경기게서 312골 (사람맞나요???) 을 기록했죠. 20-21시즌에는 41골을 넣으며 개인 최다 리그골 신기록을 달성했습니다. 코로나 때문에 제작년에 발롱도르를 못탔지만 누가봐도 그 트로피는 레반도프스키의 것이었죠. 누가 봐도 레반도프스키가 버티고 있는 뮌헨은 언제든지 챔스 우승을 노릴 거라고 생각했습니다.\\n하지만 생각보다 뮌헨이 유럽무대에서 고전하고 있고, 가시적인 성과가 나오지 않죠. 레반도프스키는 동기부여가 부족한 상황이었고, 나이도 나이인만큼 마지막 도전을 하려 하는듯 합니다. 세계최고의 명문중 하나인 바르셀로나에서 다시한번 역사를 쓰려고 합니다. 위에서 말씀드렸지만 이미 바르셀로나의 전력은 굉장히 탄탄해졌죠. 이상한짓만 조금 덜한다면 트래블 시절의 영광을 찾는것도 아예 무리는 아닙니다. 메시가 없는 바르셀로나에 레반도프스키가 온다. 꾸레들은 정말 신날 것 같습니다. 오피셜 뜨면 바로 업데이트하겠습니다. 포지션 - 왼쪽 수비수 / LB\\n아스널이 맨체스터시티의 수비멀티자원을 탐냅니다. #진첸코 는 사실 #맨시티 에서 확실한 주전을 차지하지 못해서 그렇지 어느팀을 가도 주전을 차지할만한 실력입니다. #아스널 은 #티어니 로 한시즌을 버티다 보니 티어니가 다치면 답이 없었죠. 누누 타바레스는 아직 보여준게 없기 때문에 전력 강화를 위해 진첸코를 영입하려고 애를 쓰고 있습니다.\\n현재 맨시티는 브라이튼의 핵심 수비수인 쿠쿠렐라를 노리고 있습니다. 쿠쿠렐라가 영입되면 자연스럽게 진첸코 이적도 급물살을 타겠죠. 현재 상황에서는 크게 이적이 틀어질 이유가 없습니다 . 아스널도 원하고 있고, 맨시티도 그렇게까지 지키려고 노력하지 않으니까요. 아마 곧 오피셜이 뜰 것으로 예상합니다. 포지션 - 오른쪽 수비수 / RB\\n아마 정말 곧 일주일내로 오피셜이 뜰 것으로 보입니다. 앞에서 워낙 많이 언급해서 오피셜 뜨면 다시 정리해드릴게요. 예상 이적료는 200억 정도로 예상합니다. 토트넘에서는 백업 수비수 역할을 맡을 것 같습니다.\\n앞에서 다뤘던 루머와 오피셜은 제외했습니다.\\n새로운 소식들만 업데이트했으니 정보가 더 필요하신 분들은 앞의 포스팅 참고하세요!\\n오늘은 해외축구 이적시장 최신소식에 대해 알아보았습니다.\\n감사합니다. 그럼이만ㅃ2염 '},\n",
       " 1: {'title': '[블챌] 바쁘게 돌아가는 해외축구 이적시장',\n",
       "  'nickname': 'Insightmaster',\n",
       "  'datetime': '2022. 7. 9. 23:48',\n",
       "  'content': '해외축구 이적시장이 바쁘게 돌아가고 있다. 유럽축구는 6~8월까지 여름 이적시장이 열린다. 이 기간 동안 각 팀들은 다음 시즌 경쟁을 위한 선수 영입에 나선다. 각 구단마다 순위, 명성, 구단의 재정 등을 고려하여 포지션별로 팀에 필요한 선수들을 찾는다.\\n팀보다 위대한 선수는 없다고 하지만 결국 경기장에서 승리를 쟁취하는 주인공은 선수다. 골을 넣는 것도 패스를 하는 것도 골을 막아내는 것도 선수들이 한다. 감독은 상대의 전술을 파악하고 상대를 공략할 방법과 각자의 역할을 부여할 뿐 결국 수행은 선수들이 한다. 아무리 명장이 지시를 내린다 한들 선수가 차이를 만들어내지 못하면 승리할 수 없다.\\n팬들의 주요 관심은 빅리그의 상위권 팀의 선수 이적이다. 특히 국내 팬들은 EPL 구단들의 이적에 관심이 많다. 손흥민 선수가 소속된 리그이기도 하다. 박지성 선수가 오랫동안 활약했던 리그이기도 하다. 가장 관심이 많은 구단은 역시 손흥민의 토트넘 선수영입이다. 토트넘은 지금까지 5명의 선수를 영입했다. 윙어 이반 페리시치, 골키퍼 프레이저 포스터, 미드필더 이브 비수마, 공격수 히샬리송, 수비수 랑글레다. 전 포지션에 골고루 영입했다.\\n토트넘은 22-23시즌 챔피언스리그에 나선다. 경기 수가 많아진다. 선수층이 두터워야 한다. 지난 시즌 토트넘의 콘테는 새로운 선수 영입에 대해 지속적으로 구단에 어필해왔다. 돈을 쓰지 않기로 유명한 토트넘의 레비 회장이 콘테의 요청에 지갑을 열었다. 이번 시즌엔 제대로 지원해서 팀을 제대로 키워볼 생각인 듯 하다.\\n하지만 선수 영입이 100% 팀 전력 상승을 가져오는 것은 아니다. 영입한 선수 중 좋은 활약을 펼치는 선수도 있지만 그렇지 않은 선수도 있다. 다른 팀에서 엄청난 활약을 펼치는 것을 보고 거액을 들여 영입했지만 이름값을 못하는 선수들도 많다. 때문에 실제 시즌이 시작되어봐야 선수 영입의 효과를 알 수 있다.\\n지난 시즌 맨유로 컴백한 호날두 이적을 놓고 말이 많은 이유도 마찬가지다. 이적 초반 맨유 감독인 솔샤르와 함께 맨유의 재부흥을 이끌 것이라 예상했지만 솔샤르는 시즌 도중 감독직에서 물러났다. 득점력은 여전히 최고였지만 팀을 살리지 못했다는 평가가 많다. 여전히 맨유의 제1 공격 옵션이지만 타 팀 이적을 원한다는 소식도 들린다. 메시와 함께 세계 최고의 선수로 평가받았고 여전히 나이에 비해 엄청난 활약을 보여주고 있는 호날두다. 그러나 축구 실력을 다 담지 못하는 인성의 그릇은 많이 아쉽다.\\n축구 팬들과 전문가들은 바쁘게 돌아가는 이적 시장을 살피며 다음 시즌 각 팀의 모습을 상상해본다. 축구팬인 나역시 이적시장 소식을 보는 재미를 한껏 즐기고 있는 요즘이다.\\n#유럽축구이적시장 #해외축구이적시장 #블챌 #주간일기'},\n",
       " 2: {'title': '해외축구 이적시장 상황',\n",
       "  'nickname': 'football mania',\n",
       "  'datetime': '2022. 7. 3. 14:57',\n",
       "  'content': '안녕하세요!\\nFootball Mania, FM입니다.\\n어제 좀 쇼킹한 기사를 보고 잤는데..\\n호날두가 챔스를 위해 맨유를 떠나고 싶어 한다는\\n기사 내용을 봤습니다.\\n오늘 이적설 함께 알아봅시다. 맨유의 레전드 호날두가\\n챔스 출전을 위해 맨유를 떠나고 싶다는 기사가\\n어제 보도되었습니다.\\n스카이스포츠는\\n\"호날두는 맨유 측에 만족스러운 오퍼가 올 경우 떠날 수 있도록 요청을 했다. 그는 커리어 막바지에 챔스 출전을 원한다.\"라고 전했습니다.\\n여기에 로마노 기자까지\\n호날두의 상황을 전하며 호날두의 이적설에 더욱더 불을 지폈습니다. 알려진 바에 따르며\\n호날두가 현재 맨유의 이적시장 행보에 대해 좌절했다고 합니다.\\n맨유는 현재 많은 선수들과 연결되어 있지만\\n영입을 못하고 있으며\\n심지어 누녜스까지 라이벌 팀인 리버풀에 빼앗기고 말았습니다.\\n토트넘, 아스널, 맨시티, 리버풀과 비교를 했을 때\\n맨유가 이적시장에서 보여주고 있는 상황은\\n많이 뒤떨어지는 것은 사실입니다.\\n많은 선수들을 떠나보낸 맨유지만\\n막상 영입은 없다 보니\\n호날두도 이 상황에 대해 만족스럽지 못하고 있는 것 같습니다. 맨유는 호날두를 절대 팔 의향이 없다고 합니다.\\n하지만, 이러한 상황이 지속된다면\\n호날두도 떠나려고 할 것 같습니다.\\n현재 호날두와 연결되어 있는 구단은\\n첼시, 바이에른 뮌헨, 나폴리가 있다고 합니다.\\n호날두의 에이전트, 멘데스가\\n첼시 측과 만남을 가졌다는 소문도 제기되고 있습니다.\\n맨유는 호날두를 지키기 위해서라도\\n데 용과 에릭센 등 스타급 선수들을 영입해서\\n야망이라도 보여줘야 합니다.\\n과연, 호날두가 맨유를 떠날지\\n아니면 잔류할지 많은 관심이 쏠립니다. 라포르타 회장이\\n현 이적시장에 상황에 대해 입을 열었습니다.\\n그는 하피냐와 레반도프스키, 줄스 쿤데 등\\n많은 선수들을 언급했습니다.\\n특히, 그는 프랭키 데 용의 상황에 대해 언급을 하며\\n맨유와 맨유 팬들에게 좌절감을 안겨 주었습니다. 라포르타 회장은\\n\"그에게 맨유만이 아니라 많은 팀들이 관심을 갖고 있다.\\n하지만, 우리는 프랭키 데 용을 팔 의향이 전혀 없다. 그는 남기를 원한다.\"\\n라고 입장을 밝혔습니다.\\n또한, 그는\\n\"우리는 프랭키 데 용을 지키기 위해 모든 것을 다 할 것이다.\\n하지만, 급여 문제가 걸려 있으며 조정할 필요가 있다.\"라고 전했습니다.\\n즉, 프랭키 데 용을 지키기 위해서 모든 것을 다 할 것이며\\n그게 급여 문제이고 우리는 그것을 조정할 것이다.\\n이 말인 것 같습니다. 프랭키 데 용은 다음 시즌에 급여가 더 올라간다고 합니다.\\n그래서 바르셀로나가 그를 매각하려는 이유라고 전해진 바 있습니다.\\n과연 바르셀로나가 프랭키 데 용을 지킬 것인지\\n아니면 언론 플레이를 통한 수작인지 지켜봐야 할 것 같습니다. 라포르타 회장인\\n새로운 영입에 대해서도 입을 열었습니다.\\n그는\\n\"우리는 새로운 선수를 영입했다.\\n케시에는 수요일에 발표할 것이며 크리스텐센은 목요일에 발표할 것이다.\"\\n라고 전했습니다. 이번 주 수요일과 목요일에 각각\\n케시에와 크리스텐센을 발표한다고 합니다.\\n그렇다면...\\n수요일 전에 바르셀로나의 한 선수가\\n팀을 떠나는 것을 볼 수도 있을 것 같습니다. PSG가 새로운 센터백 영입을 위해\\n킴펨베와 케러를 매각한다고 합니다.\\n로마노 기자는\\n\"PSG는 올여름 킴펨베를 떠나보낼 수 있다. 그의 미래는\\n다른 팀들의 제안에 달려있다. 그래서 재계약 협의가 지연되고 있다.\"\\n라고 전했습니다.\\n킴펨베는 현재 첼시의 관심을 받고 있는 것으로 알려져 있습니다. 한편, 케러는 겨울 이적시장에서부터\\nPSG의 방출 리스트에 올라간 것으로 알려져 있습니다.\\n심지어 이번에는\\n슈크리니아르 영입을 위해 케러를 내준다고 했지만\\n인테르가 이를 거절했다고 합니다.\\n즉, PSG는 인테르 측에\\n현금 + 케러를 제시한 것입니다. 킴펨베는 PSG가 키운 선수 중\\n몇 안 되는 PSG에서 뛰고 있는 선수인데..\\n이렇게 매각을 하게 된다면\\nPSG는 도대체 홈 그로운 규정을 어떻게 채운다는 것일까요? 맨유를 떠나 자유계약 신분이 된\\n제시 린가드.\\n현재 잉글랜드 구단들에게 많은 관심을 받고 있습니다.\\n얼마 전에 스카이스포츠는\\n웨스트햄이 린가드에게 공식적으로 제안을 했다고\\n보도하기도 했습니다.\\n린가드에게 관심 있는 구단이\\n웨스트햄만이 아니었습니다. 현재 해외 매체들에 따르면\\n에버튼이 린가드 영입을 위해 공식 비드를 했으며\\n토트넘 또한 홈 그로운 규정을 지키기 위해 린가드를 원하고 있다고\\n전해지고 있습니다.\\n레스터 또한 린가드를 원한다는 소문이 돌고 있습니다.\\n린가드가 역시 프리미어리그 구단들에게는\\n매력적인 매물 카드인 것 같네요.\\n린가드는 원하는 팀을\\n골라서 가면 될 것 같습니다.\\n린가드가 요구하는 연봉을 맞춰줄 수 있는 팀으로요. 아약스의 센터백\\n리산드로 마르티네즈가\\n프리미어리그 입성을 원하고 있다고 합니다.\\n그게 아스널이든 맨유든\\n상관없이 프리미어리그를 원한다고 직접 아약스 측에\\n전달했다고 합니다. 현재 맨유와 아스널이 영입 경쟁을 하고 있으며\\n두 구단 다 아약스 측에 공식적인 비드를 한 상태입니다.\\n하지만, 로마노 기자에 따르면\\n\"맨유가 아스널 보다 더 좋은 조건을 제시했다. 하지만, 충분하지 않았다.\"라고 전했습니다.\\n아약스는 더 높은 금액을 원하고 있는 것으로 보입니다.\\n마르티네즈가 어디로 향할지\\n관심이 쏠립니다. 이탈리아 구단, AC 몬차가 승격에 힘입어\\n이카르디와 밍게사를 노린다고 합니다.\\n로마노 기자는\\n\"AC 몬차가 이카르디를 원하고 있다. 이 계약은 복잡해 보이지만\\n몬차의 CEO는 완다와 접촉했다.\"라고 전했습니다. 또한 몬차는\\n바르셀로나의 센터백 밍게사까지 노리고 있습니다.\\n바르셀로나는 그를 놓아줄 계획이며\\n선수에게 달려있다고 합니다. AC 몬차는 2016년에 파산하여\\n2018년 베를루스코니라는 전 AC 밀란 회장이 인수하였고\\n갑부 구단주와 함께 몬차를 이끌어 나가며\\n세리에 C에서 세리에 A 승격까지 일궈냈습니다.\\n한편 AC 몬차는 이카르디와 밍구에사 이외에도\\nFA 신분인 벨로티까지 노리고 있다고 합니다. 플라멩구가 아르투르 비달과\\n사인하는데 근접했다고 로마노 기자가 전했습니다.\\n계약 기간은 18개월입니다. 비달은 앞서 알렉시스 산체스와 함께\\n인테르를 떠난다고 전해진 바 있습니다.\\n두 선수 다 상화 합의하에 계약 해지?를 한 것 같습니다. 프리미어리그 승격팀\\n노팅엄 포레스트가 골키퍼 보강에 성공했습니다.\\n구단은\\n\"우리는 맨유 출신이자 잉글랜드 골키퍼 딘 헨더슨을 임대 영입했다.\"라고\\n영입 사실을 알렸습니다. 딘 헨더슨은 좋은 실력을 지녔음에도 불구하고\\n데 헤아에게 밀려 저번 시즌 리그에서 단 한 경기도 출전하기 못했습니다.\\n딘 헨더슨은 월드컵을 꿈꾸고 있으며\\n그러기 위해서는 출전을 꾸준히 할 수 있는 팀으로 가기를 원했습니다.\\n그래서 선택한 팀이 노팅엄 포레스트입니다.\\n정말 현명한 선택을 한 딘 헨더슨입니다. 자유계약 신분이었던\\nAT 마드리드 우측 풀백 시메 브르살리코.\\n그가 올림피아코스와 계약을 체결했습니다.\\n계약 기간은 3년이라고 합니다. 에버튼이 센터백 보강에 성공했습니다.\\n주인공은 번리의 센터백\\n제임스 타코우스키!\\nFA 계약이며 계약 기간은 4년이라고 합니다. 루 크 데용이 바르셀로나를 떠나\\nPSV로 컴백합니다.\\n아니.. 따지고 보면 세비야를 떠나 자유계약 신분으로\\nPSV로 컴백합니다. PSV는 반니스텔루이가 새롭게 지휘봉을 잡았으며\\n루 크 데용이 네덜란드 전설 공격수 밑에서\\n지도를 받게 되겠네요. 샬케 04의 승격의 주역이었던\\n이타쿠라 고.\\n그가 맨시티를 떠나 묀헨글라드바흐로 합류합니다.\\n계약 기간은 4년이며 등번호는 3번을 입는다고 합니다. 이타쿠라 고는\\n전술적인 이해도가 정말 뛰어난 선수입니다.\\n엄청난 멀티플레이어 자원이며\\n볼도 정말 잘 차는 선수입니다.\\n그가 묀헨글라드바흐에서 3번을 입는다는 것은\\n역시나 핵심 선수가 될 가능성이 높을 것 같습니다.'},\n",
       " 3: {'title': '해외축구 이적시장 소식 프랭키 데 용 영입을 위해 바르셀로나로 날아간 맨유 임원진',\n",
       "  'nickname': '데느님',\n",
       "  'datetime': '2022. 7. 12. 18:43',\n",
       "  'content': '이번 여름 해외축구 이적시장에서 가장 뜨거운 감자는 단연 바르셀로나의 미드필더 프랭키 데 용일 것입니다.\\n이적이 거의 완료된 것으로 보이는 상황에서 마무리가 안되고 있는 프랭키 데 용의 영입을 위해 맨유의 리차드 아놀드와 존 머터프가 바르셀로나로 날아간 것으로 확인되었습니다.\\n25살의 미드필더 프랭키 데 용은 이번 시즌 맨유의 감독으로 부임한 뒤 여름 이적시장에서 프랭키 데 용의 영입을 가장 최우선으로 삼고 있습니다. 하지만 어떤 가능성 있는 계약도 바르셀로나와 프랭키 데 용의 계약 문제로 방해받고 있는 상황입니다.\\n현재 가장 큰 문제는 팬데믹 기간 동안 데 용이 바르셀로나로부터 받지 못한 주급과 관련되어 있는 것으로 보입니다.\\n데 용은 재정적으로 문제가 생신 바르셀로나를 위해 주급 수령을 미루었고 그 금액은 곧 발효될 새로운 4년 재계약에 과정에서 돌려받을 것으로 알려졌습니다.\\n현재 받아야 할 돈이 남아 있는 상황에서 데 용은 바르셀로나를 떠나는 것을 꺼려 하는 것으로 보입니다. 팬데믹 기간 데 용이 받지 못한 급여는 총 2,400만 파운드로 바르셀로나는 이 금액을 맨유가 해결해 주기를 바라는 분위기 입니다.\\n맨유는 전 아약스의 미드필더 프랭키 데 용의 영입 시도가 실패로 돌아갔을 경우 대안이 있음을 지속적으로 강조해왔지만 사장과 풋볼 디렉터가 직접 바르셀로나로 날아가며 데 용과 계약하고 싶은 강한 욕망을 숨기지 않았습니다.\\n정상적인 상황이었다면 아마도 리차드 아놀드와 존 머터프 중 한 명은 맨유가 리버풀을 상대하는 프리시즌 경기를 앞두고 태국에 있었을 것입니다.  '},\n",
       " 4: {'title': '7/8 해외축구 여름이적시장 요약',\n",
       "  'nickname': 'Here we go',\n",
       "  'datetime': '2022. 7. 8. 12:01',\n",
       "  'content': '*오피셜\\n:구단공홈오피셜 / 구단 합의와 개인합의, 메디컬 테스트가 완료되어 계약서에 선수가 서명한 상태\\n*거피셜(BBC=거의 확정=비피셜=Here we go, 던딜, EXCL, ~THEN)\\n:구단합의 / 개인합의 / 이적료합의가 모두 끝난 후 메디컬 전후의 가 계약단계\\n*루머(공신력 \\'상\\')\\n:0티어~1티어 공신력에서 나왔지만, 아직 진행 상황이 되지 않거나 거피셜이 발표되지 않은 상태(단순관심, 제의만 한 상태 포함) / 대부분 구단 출입기자, 담당기자 소식 발췌\\n*루머(공신력 \\'중,하\\')\\n:공신력 \\'상\\' 루머와 크로스 체크 / 주관적인 판단 필요 <오피셜>\\n1. 크리스텐센, 첼시>바르셀로나\\n2. 알레산드로 포수엘로, 토론토>인터마이애미(MLS)\\n3. 리버풀, 조 고메즈 2027년까지 계약 연장 완료\\n4. 시니스테라, 페예노르트>리즈 2,500만유로(셀온조항포함) <거피셜>\\n1. [히얼위고] 랑글레, 바르샤>토트넘 임대계약 완료\\n1-1. 구매 옵션 조항 없음, 콜 옵션(임대기간 중 복귀)없음.\\n1-2. 2023년 6월 까지 임대, 내일 오피셜 서명예정.\\n1-3. 급여의 일부를 토트넘이 부담\\n(앞서 언급드렸듯이, 랑글레 주급은 20만파운드.\\n11.5파운드 또는 최대 85%까지 지불 될 수 있음.)\\n1-4. 콘테는 한국투어에 랑글레가 합류하길 원함. 2. [던딜] 케난 일디즈, 뮌헨>유벤투스 거래완료(FA)\\n3. [던딜] 네마냐 라돈지치, 마르세유>토리노 구매 옵션이 포함된 임대계약\\n4. [던딜, 뮌헨1티어] 오마르 리차즈 계약 100% 성사됨. 900~1,000만유로 <루머:공신력 \\'상\\'>\\n1. 맨유는 호날두 NFS(낫포세일, 팔지않겠다.)\\n2. [디마르지오] 요비치는 메디컬을 위해 피오렌티나 도착\\n3. [디애슬레틱] 리버풀, 네코 윌리엄스 1,700만파운드\\n노팅엄 판매 합의\\n3-1. [Peter Rutzler-풀럼기자] \"네코는 지난시즌 풀럼에서 잘했다, 해리 윌슨과 연계도 좋다. 하지만 1,700만파운드는 비쌈.\"\\n4. 루이스 수아레즈는 리버플레이트 합류 안할 것이다.\\n\"유럽에서 뛰고 싶었고 많은 유혹이 있었다\"\\n(수아레즈 현재 FA)\\n5. [리얄 토마스] \"토트넘은 24시간 내 랑글레의 메디컬을 완료하고 한국 투어에 합류하기를 원한다.\"\\n6. 오마르 리처즈, 뮌헨>노팅엄 이적 가까워지고 있음.\\n1,000만 유로\\n7. 라포르타 \"레반도프스키에게 제안했고, 기다리는 중\"\\n8. 샤흐타르 풀백 도도, to 피오렌티나 1,450만유로+350만유로\\n9. 히샬리송 이적사가 뒷이야기\\n\"히샬리송 이적으로 토트넘 레비회장이 4천만 파운드를 제시하면서 일부러 떠봤다. 그래서 에버튼이 분노했었고, 레비의 협상 방식으로 두 클럽 관계가 손상되었다.\\n추후 앤서니 고든과 조단 픽포드 움직임에 영향 미칠 것\"\\n10. [왓포드 1티어 Adam Leventhal]\\n\"레이 마나즈, 바르샤>왓포드 이적 가능성있다.\"\\n11. [Relevo] \"첼시는 데용 영입에 집중하고 있고 마르코스 알론소와 아스필리쿠에타가 바르샤가 노리는 영입목표이다.\"\\n11-1. [페르난도폴로-바르샤1티어] \"아스필리쿠에타와 바르샤는 가능한 빨리 첼시를 떠날 수 있도록 노력중\"\\n11-2. [로마노] \"이번 주 구단 협상, 바르샤는 가능한 빨리 2년 계약에 추가옵션 논의 될 예정이고, 알론소도 논의될 예정\"\\n12. 아틀란타, 워렌 본도 FA 영입 협상 중(이전 소속팀:낸시) 많은 클럽들이 그에게 관심이 있는 중\\n13. [Relevo] \"PSG단장 루이스 캄포스는 3개의 계약 건을 동시에 진행중이다.\"\\n13-1. 줄렌 로베테(Julen Lobete)\\n13-2. 오스카 로드리게스(Óscar Rodríguez)\\n13-3. 네투 무라라(Neto Murara)\\n14. [뮌헨1티어] \"요슈아 바그노만 이적완료, 함부르크>슈투트가르트 2026년까지, 370만유로, 셀온10%\\n15. 알메리아, 마르코 마레지 밀로바노비치 영입예정\\n(350만유로+150만유로 추가, 셀온10%,2028년 6월)\\n16. [크팰 기자 맷 우스남] \"크팰 제임스 맥아더 프리시즌 훈련도중 부상(사타구니). 시즌 초반 아웃될 가능성 있음.\"\\n17. 파비우 실바, 울브스>안데레흐트 임대영입 예정 / 2023년 6월 급여의 100%(파비우 실바는 기다리고 있는중.)\\n18. 맨시티, 리야드 마레즈 재계약 준비 완료\\n(다음주 열릴예정, 로드리, 포든도 포함)\\n19. [나단기싱] 투헬은 킴펨베를 원함.\\n현재 투헬이 원하는 센터백 순위는 더 리흐트>킴펨베>아케 순이다.\\n20. 토트넘 센터백 토비 오몰레는 크롤리 이적예정, 2024년 6월까지\\n21. 요비치 내일 피오렌티나 이적마무리 예정\\n21-1. 이적료는 없는 대신 주급 전체를 피오렌티나가 부담.\\n21-2. 레알마드리드 셀온 조항 50%\\n21-3. 계약 2024년 6월까지, 2년 연장 가능옵션 포함.(현재 요비치↔레알 잔여계약기간:2025년 여름까지 3년남음) 사실상 계약 끝날때까지 안 쓰겠다는 말임..ㅋㅋ\\n22. 맨유, 리산드로 마르티네스 재영입 계획(보너스를 포함한 5천만 유로 제안)\\n23. AC밀란, 지예흐&샤를 드 케텔라레르 이적 모두 진행 중\\n24. 리즈 제시마쉬 감독 \"해결책을 결국 내야하는 절박함이 있는 상태다. 며칠 후면 알게 될 거다.\"\\n24-1. [필 헤이-리즈 기자] \"이번 프리시즌 호주투어에 하피냐가 참가할지는 불확실하다.\"\\n24-2. [로마노] \"하피냐는 오늘 훈련에 복귀, 호주 투어에는 가지 않을 것이고, 며칠 안에 빠르게 움직일 것이다.\"\\n25. [디마르지오] 인테르, 브레메르 이적 건 공식 제의 / 토리노는 4,000만 유로 요구\\n25-1. [로마노] 브레메르는 인터밀란의 주요 타겟. 오랫동안 개인합의를 봐왔고, 토리노 4천만 유로 요구\\n26. 에스파뇰, 비니시우스 소자(브라질 미드필더) 이적 계약할 예정 <루머:공신력 \\'중,하\\'>\\n1. 토론토FC, 페데리코 베르나르데스키 협상 중(FA)\\n2. 랑글레 임대는 다음 여름이적 시장에서 토트넘이 바스토니를 영입할 기회임을 높여준다.\\n3. 풀햄과 노팅엄, 릴 소속 터키국대 유수프 야지치 관심\\n4. 라치오와 나폴리는 그라나다 골키퍼 루이스 막시미아노에게 관심\\n5. 푸마스는 다니 알베스에게 1년 영입제안\\n(*푸마스는 멕시코에 있는 푸마스 국립대학교 축구팀이다. 프로축구팀이 아님.)\\n6. 마르코스 알론소는 바르샤 이적을 원함.\\n7. 아르투로 비달은 플라멩고와 연봉협상을 하지 않을 것이다.(급여가 얼마든 뛰는 것이 중요하다는 이야기.)\\n8. 니스는 안드레아 벨로티를 FA로 이적하려한다.\\n9. 웨스트햄, 풀럼 센터백 이사 디오프 영입 고려중\\n10. 머페티에 \"맨유는 마르티네스 근접 아약스 5천만유로 원함 / 안토니는 맨유가 원했지만 멀어지고 있다. 6천만 유로 가치로 보고있다.\"(안토니는 공식제의 안했음)\\n11. 뮌헨은 더 리흐트를 위해 엄청난 제의를 준비 중(9,000만 유로 / 7,500만유로 선불 지급 후 1,500만 유로 추가 지불예정)\\n12. 뉴캐슬은 마르코 아센시오에게 2,000만 유로 오퍼를 준비중이다.\\n13. PSG는 레나토 산체스를 붙잡지 못할 것에 대비해서 은돔벨레를 주시 중이다.\\n(찌라시라도... 너무 기분 좋습니다!!!!!마구마구 나와랏)\\n**블로그 검색창에 필요한 선수나 정보를 검색해보세요!**\\n#해외축구이적시장 #해축축구갤러리 #해외축구이적 #해외축구오피셜 #해외축구뉴스 #이적시장 #여름이적시장 #토트넘이적시장 #EPL이적시장 #맨유이적시장 #프리미어리그이적시장 #첼시이적시장 #리버풀이적시장 #이적시장오피셜정리 #이적시장정리 #이적시장요약 #축구이적시장 #축구이적시장요약 #EPL여름이적시장 #축구여름이적시장 #토트넘이적설 #토트넘이적생'},\n",
       " 5: {'title': '2022 유럽 해외축구 이적시장 루머 금일자 정리 Ⅱ.txt',\n",
       "  'nickname': '정꾸레\\n(clefboy)',\n",
       "  'datetime': '2022. 7. 11. 9:00',\n",
       "  'content': \" 정꾸렙니다.\\n그 어느 때보다 활발한 이적시장 루머들이 속속히 나오고 있는 중입니다. 아직까지 여러 구단들 속에서 오피셜 영입은 밋밋한 수준이지만 루머만으로 이미 한가득 나오고 있는 중인데 그 중심에 정꾸레 최애팀 FC 바르셀로나는\\n빚더미에 있는 상태인데도 불구하고 이적시장 관련 루머가 상당히 많이 나오고 있고 모든 핫한 타구단의 선수들이 이적을 결심했다고 공개된 이후 언제나 연결고리고 바르셀로나가 주목 받고 있는 중입니다. 프리미어리그 소속의 첼시는 맨체스터 시티의 윙어였던 라힘 스털링의 영입에 임박했습니다. 이 잉글랜드 국가대표는 개인조건에 동의한 상태로 두 클럽간의 계약은 ￡4,500만 파운드에 합의된 것으로 나타납니다.\\nThe Blues는 또한 네덜란드 수비수인 나단 아케와 계약이 거의 확정된 상태 속에서 The Citizen과 이적료에 대해서 아직 합의가 되지 않은 상태로 만 27세는 ￡4,000만 파운드의 비용이 들 수 있습니다. 하피냐와 로베르트 레반도프스키를 가지려고 하는 것을 우선시하고 있는 Blaugrana이고 이것은 첼시의 또다른 주요 타겟이자 바르사 합류를 원하고 있는 스페인 라리가 무대의 세비야 소속 센터백 쥘 쿤데를 영입하는 것이\\n실패할 수 있는데 현재 하피냐 측에서는 인내심이 한계에 다다르는 중으로 바르사 측에게 48시간을 주었습니다. 이때까지 첼시는 하피냐 경쟁에 다시 뛰어들 것입니다.\\n그리고 바르셀로나는 프랭키 더 용에 대해 다른 곳에 보낼 수 없음에 대한 이유를 10가지 목록을 작성했습니다. 프리미어리그 소속 맨체스터 유나이티드의 에릭 텐 하그는 그의 前 아약스의 제자 중 한 명인 공격수 브라이언 브로비에게 관심을 갖고 있습니다.\\n만 20세의 선수는 현재 라이프치히에서 오른쪽 풀백으로 활약하고 있지만 작년에 네덜란드 암스테르담에 복귀하였습니다.\\n그리고 추가로 맨유는 독일 분데스리가 바이에른 뮌헨의 윙어인 세르주 그나브리를 주시하고 있습니다. 장기 계약 연장 제안을 거절한 이후 알리안츠 아레나에서의 독일인의 미래는 불확실한 상태입니다.\\n그리고 프랭키 더 용과의 여름 이적시장 상황 속에 맨유는 이적하는 것에 대해 배제한 상태입니다. 수비수 영입도 고려 중인 맨체스터는 아약스 소속의 리산드로 마르티네즈에게 €4,300만 유로로 늘렸습니다. 유벤투스의 관심 속에 프랑스 풀백인 페를랑 멘디의 이적을 승인할 준비가 되어 있는 레알 마드리드입니다. 현재 Los Blancos에서 제안한 이적료는 €4,500만 유로인데 이 정도 이적료는 산티아고 베르나베우를 떠날 수 있는 이적료입니다.\\n그리고 마드리드는 루카 요비치를 내보내고 추가적으로 다니 세바요스 + 마리아노 디아즈 + 마르코 아센시오 세 명의 선수까지 모두 정리하려고 합니다. 위르겐 클롭은 구단이 레알 마드리드 윙어인 마르코 아센시오를 영입하기를 원하고 있으며 이탈리아 세리에A 소속의 유벤투스는 마티아스 더 리흐트를 좋은 이적료 제안이 오는 팀이게 건네줄 의향이 있으며 현재 이 선수를 영입하고자 경쟁에 뛰어든 리버풀과 첼시가 있습니다. 현재 두터운 스쿼드 속에 생존 기미가 보이지 않는 마르코 아센시오를 두고 뉴캐슬 유나이티드도 군침을 흘리고 있는 중입니다. 경쟁에 참여를 할 수 있는 자금이 있지만 그들의 현재 주 타겟은 바이얼 레버쿠젠의 무사 디아비입니다. 이탈리아 세리에A 사수올로 소속의 잔루카 스카마카를 눈독 들이고 있는 파리 생제르맹인데 영입에 박차를 가하기 위해 이탈리아로 떠나 조율을 하고 있지만 구단 측에서는 이적 합의를 원치 않고 있습니다. 수비 보강을 위해 몰색하던 중 입지가 불안한 토트넘 핫스퍼의 자펫 탕강가 이적에 대한 관심을 측정하기 위해 토트넘 관계자와 대화를 나누었던 밀란의 관계자입니다. 최근 몇 년 동안 셀허스트 파크에서 수많은 이적과 관련이 있었던 크리스탈 팰리스의 윙어 윌프레드 자하의 영입을 고려하고 있는 로마입니다. 현재 프랑스 리그앙에서 활약 중인 올랭피크 리옹 소속의 루카스 파케타를 데려오려고 노력 중이며 추가적으로 이탈리아 세리에A에서 활약 중인 AC밀란 소속의 이스마엘 베나세르까지 영입을 노리고 있는 The Gunners입니다.\\n그리고 추가로 프리시즌 미국투어를 위해 The Blues의 스쿼드에서 배제되었던 은골로 캉테의 거취를 분명하기 위해 아스널은 영입에 매우 집중하고 있는 중입니다. 인테르 합류가 기정사실되었던 파울로 디발라의 거취가 불투명해지고 있는 중입니다. 이유는 로멜로 쿠카쿠의 공짜 합류와 디발라의 고주급이 문제가 될 수 있다는 점에서 현재 거취가 불투명해진 상태에서 그를 데려갈 구단을\\n몰색하고 있는 Bianconeri는 현재 맨체스터 유나이티드가 예전부터 원했던 선수인 만큼 맨유로부터 역제안을 하고자 합니다. '디펜딩 챔피언' 맨시티의 마크 쿠쿠레야의 관심은 레이저 쏘듯 보이는 중이고 놓치고 싶지 않은 The Seagulls는 잔류 하는 것에 대해 적극적으로 조율 중입니다.\\n만에 하나 맨시티로부터 빼앗길 경우를 대비해 현재 벤피카 소속의 알렉스 그리말도를 주시하고 있는 브라이턴인데 여기에는 아스널까지 경쟁 중에 있습니다. 드리스 메르텐스의 헌신은 이제 마무리 짓기를 원하는 나폴리 측에서 계약연장에 대한 논의를 했으나 선수와 구단 모두 함께 하기를 원하지 않게 되었습니다. 비야레알의 핵심 공격수인 아르나우트 단주마는 The Hammers에 합류할 기회를 거부해 합류 가능성이 사라졌습니다. 다음 시즌까지 함께 라리가 무대를 할 것을 동의한 상태입니다. \"},\n",
       " 6: {'title': '2022년 해외축구 여름이적시장 중간현황(2022년6월30일까지 오피셜 기준)',\n",
       "  'nickname': '영에이치 YoungH',\n",
       "  'datetime': '2022. 7. 1. 11:27',\n",
       "  'content': '안녕하세요. 축구를 좋아하는 영에이치입니다.\\n2022년 해외축구 여름 이적시장이 활발히 진행되고 있는데요~\\n각 구단들의 협상과 눈치싸움이 치열하게 진행되고 있습니다^^ 누가 어디로 이적한다는 찌라시들이 난무하고 있는 상황에서\\n현재(2022년6월30일)까지 발표된\\n오피셜들만 정리해 보았습니다^^\\n(이름만 들어도 알만 한 선수들로 조사해 보았습니다^^)\\n1. 페르난지뉴(37세) 맨체스터 시티 > 아틀레치쿠 파라나엔세\\n이적료: 자유계약\\n시장가치: 150만 유로\\n나이가 있어 커리어의 황혼기를 고향에서 보내려는 것 같아요~\\n그래도 맨시티에서 오래 버텼네요^^\\n2. 프레이져 포스터(34세) 사우스햄튼 > 토트넘 핫스퍼\\n이적료: 자유계약\\n시장가치: 200만 유로\\n요리스 백업으로 영입한 것 같은데\\n요리스가 잘하고 있고 부상도 없어서\\n얼마나 출전할 수 있을지 모르겠네요^^\\n3. 가레스 베일(32세) 레알 마드리드 > LAFC\\n이적료: 자유계약\\n시장가치: 300만 유로\\n축구생활은 베일처럼!!!\\n토트넘시절 반짝 잘하고 레알가서 돈 많이 벌고\\n대표팀에서는 아직도 잘 하는것 같은데\\n재능이 아까웠던 선수...ㅋ\\n4. 네마냐 마티치(33세) 맨유 > AS로마\\n이적료: 자유계약\\n시장가치: 500만 유로\\n맨유에서 그냥 어중간했던 선수\\n뭐 맨유 자체가 어중간하니...ㅋ\\n5. 카메론 카터 빅터스(24세) 토트넘 핫스퍼 > 셀틱\\n이적료: 700만 유로\\n시장가치: 700만 유로\\n토트넘 경기를 그렇게 봤는데\\n이런 선수가 토트넘에 있었나요?ㅎㅎㅎ\\n6. 이반 페리시치(33세) 인터밀란 > 토트넘 핫스퍼\\n이적료: 자유계약\\n시장가치: 1000만 유로\\n눈에 띄게 잘 하는 것이 보이는 스타일은 아니지마\\n꾸준히 잘 해주는 선수이니\\n토트넘에서도 쏘니와 함께 제 몫을 해 주길^^\\n7. 마리오 괴체(30세) PSV > 에인라흐트 프랑크푸르트\\n이적료: 400만 유로\\n시장가치: 1000만 유로\\n어릴 때 잘 하다가 기량을 만개하지 못한듯...ㅋ\\n8. 미나미노 타쿠미(27세) 리버풀 > AS모나코\\n이적료: 1500만 유로\\n시장가치: 1200만 유로\\n아시아인이 어중간한 실력으로 빅클럽에 가면\\n성공할 수 없다는 것을 보여준 사례\\n9. 알렉상드르 라카제트 (31세) 아스날 > 올랭피크 리옹\\n이적료: 자유계약\\n시장가치: 1500만 유로\\n아스날에서 활약이 괜찮았는데\\n팀 성적이 워낙 안좋으니 어쩔...ㅋ\\n10. 닉 포프 (30세) 번리 > 뉴캐슬 유나이티드\\n이적료: 1150만 유로\\n시장가치: 1500만 유로\\n사우디 자본의 이적사례\\n주전급은 되지 않을까 예상~ㅎ\\n11. 이브스 비수마 (25세) 브라이튼 > 토트넘 핫스퍼\\n이적료: 2920만 유로\\n시장가치: 3500만 유로\\n잘 모르는 선수인데...\\n이선수 잘 하나요??ㅎㅎㅎ\\n베르바인이나 은돔벨레처럼 먹튀 아닐지 걱정이네요^^\\n12. 안토니오 뤼디거 (29세) 첼시 > 레알 마드리드\\n이적료: 자유계약\\n시장가치: 4000만 유로\\n역시 잘하니까 레알이 채 가네요^^\\n13. 페데리코 키에사 (24세) 피오렌티나 > 유벤투스\\n이적료: 4000만 유로\\n시장가치: 6500만 유로\\n실력으로 빅클럽 이적에 성공한 선수^^\\n14. 로멜로루카쿠 (29세) 첼시 > 인터밀란\\n이적료: 임대 (임대료: 800만 유로)\\n시장가치: 7000만 유로\\n기량만큼은 확실하게 인증된 선수\\n팀도 빅클럽만 이적하고 있긴 한데\\n얘는 이적을 왤케 많이 하는건지...ㅋ\\n15. 사디오마네 (30세) 리버풀 > 바이에른 뮌헨\\n이적료: 3200만 유로\\n시장가치: 7000만 유로\\n어딜 가서든 잘할 것 같은 선수^^\\n16. 엘링 홀란드 (21세) 보루시아 도르트문트 > 맨체스터 시티\\n이적료: 6000만 유로\\n시장가치: 1억 5000만 유로\\n이번 여름이적시장 최대어~\\n아직 어린 나이에도 실력이 검증된 선수\\n신체능력이 워낙 뛰어나\\n맨시티에서도 잘할 것이라는 믿음이 가죠~\\n22~23시즌 이적생들의 활약을 기대해 봅니다^^'},\n",
       " 7: {'title': '[6/22] 해외축구 이적시장 루머 정리',\n",
       "  'nickname': '디네로\\n(lcs11011)',\n",
       "  'datetime': '2022. 6. 22. 10:06',\n",
       "  'content': \"폴란드의 공격수 로베르트 레반도프스키가 바이에른 뮌헨을 떠나고 싶어 한다. 독일 클럽 스포츠 디렉터인 하산 살리하미지치가 33세의 바이에른 뮌헨을 직접 만나 그의 생각을 바꾸려 하고 있지만 말이다. (스카이독일) 레알 마드리드는 최근 몇 주 동안 잉글랜드 공격수 라힘 스털링에 대한 관심을 높였고 바르셀로나와 첼시는 맨체스터 시티에서 27세의 불확실한 미래에 대한 상황을 주시하고 있다. (미러)\\n레알 마드리드, 바이에른 뮌헨, 파리 생제르맹이 랭스에서 프랑스 공격수 우고 에키티케(20)의 영입을 위해 라이벌 뉴캐슬 유나이티드와 맞설 예정이다. (프랑스어: L'Equipe)\\n그러나 에키티케는 휴가에서 일찍 돌아와 £26.5M의 뉴캐슬 이적을 완료할 예정이다. (코르니클)\\n바르셀로나는 프랑스 수비수 쥘 쿤데와 계약하고 싶지만 세비야의 6000만 유로(5150만 파운드)를 23세의 몸값으로 주고 싶지 않다. (마르카) 브렌트포드는 지난 시즌 말 떠나기에 앞서 지난 1월 임대로 합류한 덴마크의 플레이메이커 크리스티안 에릭센과 계약할 희망을 버리지 않고 있다. 맨체스터 유나이티드도 30세 선수에게 관심이 많다. (90min) 아스널과 뉴캐슬은 2023년 나폴리와의 계약이 만료되는 26세의 스페인 미드필더 파비안 루이스에 촉각을 곤두세우고 있다. (코리에 델로 스포르트, 데일리 메일)\\n첼시는 랑스의 29세 프랑스 국가대표 풀백 조너선 클라우스에 관심이 많다. (골닷컴)\\n토트넘은 미들즈브러에서 잉글랜드 U-21 대표팀 오른쪽 수비수인 제드 스펜스와 계약하기 위해 추가 회담을 가질 예정이다. 이 21살의 선수는 지난 시즌을 노팅엄 포레스트에서 임대로 보냈고 그들이 프리미어 리그로 승격하는 것을 도왔다. (스카이스포츠)\\n21세 노르웨이 공격수 엘링 홀란드를 맨체스터 시티에 매각한 보루시아 도르트문트가 코트디부아르 공격수 세바스티앙 할러를 아약스에서 3600만 유로(£31M)에 영입할 예정이다. (ESPN)\\n울브스는 플라멩구의 25세 브라질 공격수 가브리엘 바르보사와 리버 플레이트의 아르헨티나 미드필더 엔조 페르난데스(21)와 계약하는 것에 대해 논의할 예정이다. (90min)\\n레인저스는 콜롬비아 공격수 알프레도 모렐로스를 2023년 여름에 계약이 만료되는 26세의 선수와 새로운 계약에 합의할 수 없을 경우 매각할 수 있다. (90min)\\n맨체스터 유나이티드는 26세의 나이에 대한 관심이 부족하기 때문에 프랑스 포워드 앤서니 마르티알이 다음 시즌에 이 클럽에 있을 것으로 예상하고 있다. (맨체스터 이브닝 뉴스)\\n맨체스터 유나이티드는 27세의 왓포드, 31세의 스페인 국가대표 다비드 데 헤아의 백업 선수로 오스트리아의 골키퍼 다니엘 바흐만을 고려하고 있으며, 잉글랜드의 딘 헨더슨(25)이 노팅엄 포레스트로 임대 이적할 것으로 보인다.\"},\n",
       " 8: {'title': '해외축구 여름 이적시장 오피셜 및 루머 총정리 (토트넘, 첼시, 맨시티, 리버풀, 맨유, 아스날)',\n",
       "  'nickname': '아라 ARA',\n",
       "  'datetime': '2022. 6. 22. 15:00',\n",
       "  'content': '해외축구 시즌이 종료된지 벌써\\n한달이 지나갔는데요,\\n아쉬워할 틈도 없이 바로\\nA매치 기간이 진행되면서\\n시즌 종료를 아쉬워하던 축구팬들의\\n마음에 불을 지폈습니다.\\n이제 A매치 기간도 끝났으니\\n구단들은 각자 재정비 시간을\\n가지게 될 예정인데요,\\n선수 영입과 방출 등\\n다음 시즌을 위한 전력 강화에\\n모든 노력들을 쏟아붓고 있습니다.\\n이번 여름에 어떤 선수를\\n영입하느냐에 따라 다음 시즌\\n성적이 결정되는 만큼\\n구단들은 누구보다 신중하고\\n집요하게 원하는 선수들을 설득하고\\n영입해나가고 있습니다.\\n그래서 오늘 트래블플랜에서는\\n해외축구 여름 이적시장\\n오피셜 및 루머 총정리를 한번\\n진행해보도록 하겠습니다! 토트넘의 여름 이적 시장 첫 영입은\\n바로 요리스의 백업 골키퍼로 활약할\\n노련한 골키퍼 프레이저 포스터입니다.\\n토트넘은 포스터를 이적료 없이 자유계약으로\\n2024년까지 계약하며 영입의 스타트를 알렸습니다.\\n프레이저 포스터 같은 경우 34살의 선수치고는\\n많은 편에 속하지만 EPL 무대에서 쭉 뛴만큼\\n노하우와 경험이 풍부한 선수로써\\n요리스와 함께 토트넘의 수문장 역할을\\n함께 할 예정입니다. 토트넘의 두번째 영입으로는 인터밀란에서\\n활약한 이반 페리시치 선수를 이적료 없이\\n자유 계약으로 영입하였는데요,\\n계약기간은 2024년 7월까지로\\n바이에른 뮌헨, 도르트문트, 인터밀란에서\\n리그 우승과 챔피언스리그 우승을 경험한 선수로\\n토트넘의 위닝 멘털리티를 심어줄 선수입니다.\\n이반 페리시치 선수는 콘테 감독의 애제자로써\\n윙백과 윙어를 모두 소화가 가능한 멀티자원인데요,\\n저번시즌 왼쪽 측면에서 약점을 보였던 토트넘인만큼\\n페리시치의 합류로 더욱 강해진 모습이 기대가 됩니다. 토트넘의 폭풍영입 세번째 주인공은 바로\\n브라이튼에서 중원 사령관 역할을 하던\\n이브스 비수마 선수입니다.\\n현지 보도에 따르면 이적료는 400억원 수준으로\\n계약 기간은 2026년까지 인데요,\\n선수층이 얇던 토트넘의 중원에\\n한줄기 빛처럼 여겨지는 선수입니다.\\n비수마 선수는 태클 머신이라는\\n별명이 있을 정도로 전투적인 선수인데요,\\n주 포지션인 수비형 미드필더 뿐만 아니라\\n중앙 미드필더, 공격형 미드필더, 심지어는\\n윙백까지 소화가 가능한 아주 멀티자원입니다. 현재 토트넘과 강력하게 뜨고 있는\\n루머가 바로 에릭센의 토트넘 복귀썰인데요,\\n토트넘에서 무려 7년이나 뛰었던 에릭센 선수로써\\n친정팀 복귀는 언제나 팬들에게 환영을 받을 만한\\n선택이기도 한데요, 다만 현재 맨유 역시\\n에릭센에게 파격적인 제안을 제시하며\\n이적을 설득하고 있습니다.\\n그럼에도 불구하고 여론은 현재\\n에릭센의 토트넘 복귀를 예상하고 있는데요,\\n콘테 감독이 열렬히 원한다는 점과\\n토트넘이 챔피언스리그 진출에 성공했기에\\n더욱 에릭센에게는 플러스 요인이\\n되지 않나 생각하고 있습니다. 아스날은 아직까진 이렇다할 빅사이닝은\\n없는 상태이지만 미래를 위한 투자 개념으로\\n브라질의 유망주인 마르퀴뇨스를 영입했는데요,\\n이적료는 47억원으로 4+1년 계약을 맺었습니다.\\n마르퀴뇨스는 아직 19살 밖에 되지 않은\\n유망주 윙어인데요, 양쪽 윙어를 모두 소화할 수 있는\\n선수로 주전보다는 백업자원으로 사용될 예정입니다.\\n워낙 어린 선수라 아직까지는\\n자료들이 그리 많지가 않은 상태이지만\\n16살에 프로 계약을 하고\\n21년도 브라질 상파울로 성인팀에\\n데뷔하여 전체 리그 경기\\n39경기 4골 3도움이라는 19살의 나이로는\\n꽤나 좋은 활약을 펼친 선수입니다. 빅사이닝이 없는 아스날로써 현재\\n가장 큰 루머는 맨시티의 스트라이커\\n가브리엘 제수스의 아스날 합류인데요,\\n라카제트가 다시 리옹으로 돌아간 상태기에\\n스트라이커 자리를 채워줄 자원으로써는\\n딱 적합한 선수입니다.\\n사실 제수스의 이적은 루머라기보다는\\n기정 사실으로 공식발표까지는 그저\\n시간문제에 불과한데요,\\n저번 시즌 멋진 활약을 보여준 제수스이기에\\n아스날 역시 간만에 이뤄지는\\n대박 사이닝이기도합니다. 두번째 영입 루머는 바로 포르투의 2000년생\\n플레이메이커인 파비우 비에이라의 영입설인데요,\\n사실 이 선수 역시 루머보다는 기정 사실로\\n공신력 최상인 영국 BBC에서 이적료 540억원에\\n합의가 완료되었다고 보도된 상태입니다.\\n파비우는 창의적인 공격형 미드필더로\\n패스능력이 아주 뛰어난 선수이기에\\n볼란치나 왼쪽 메짤라 롤도 가능한 선수인데요,\\n이미 포르투칼에서는 제2의 베르나르두 실바라는\\n평이 상당히 지배적인 상태입니다. 노르웨이의 괴물이자 현 시대 가장 강력한\\n공격수 엘링 홀란드가 맨시티에 합류하게 되었는데요,\\n이적료는 의외로 802억원 정도\\n들어간 것으로 확인되지만\\n추가적인 보너스까지 고려한다면\\n1300억원 수준입니다.\\n레알 마드리드와도 강력하게 연결된 홀란드 선수이지만\\n그가 선택한 곳은 바로\\n본인의 아버지가 뛰었던 맨시티입니다.\\n홀란드 선수는 이미 입증된 공격수이기도 한데요,\\n지난 21/22 시즌만 봐도 30경기 29골 8도움이라는\\n경이적인 기록을 세우기도 했습니다.\\n비록 속도와 피지컬, 그리고 결정력이 파괴적인 선수이지만\\n많은 팬들이 걱정하는 것이 바로 부상인데요,\\n강한 피지컬임에도 불구하고 잦은 부상을 겪었던 선수라\\n태클과 반칙이 난무하는 험한 EPL에서 과연\\n살아남을 수 있을까하는 걱정이 앞섭니다. 홀란드를 영입했지만 맨시티의 행보는\\n여기서 끝나지 않았는데요,\\n맨시티의 약점이었던 왼쪽 풀백으로는\\n브라이튼에서 미친 활약을 보여준\\n쿠쿠렐라(사진 속 왼쪽)를 노리고 있으며\\n페르난지뉴의 대체자로는\\n리즈의 칼빈 필립스(사진 속 오른쪽)을\\n노리고 있습니다.\\n맨시티가 만약 이들까지 영입한다면\\n사실상 EPL 최강 스쿼드라고 해도\\n과언이 아닐 정도로 막강한 자본력과\\n선수단을 가진 팀이 될것으로 보입니다. EPL TOP6 구단들 중에서\\n맨유만 아직 영입된 선수가 없는 상태인데요,\\n새로운 감독인 텐 하흐 감독이 부임하면서\\n영입 보다는 불필요한 자원들을 판매하면서\\n구단 정리에 들어간 것으로 보입니다만,\\n현재 바르셀로나의 프렝키 데용 선수와\\n강하게 링크가 뜨고 있습니다.\\n해외축구 이적시장 전문가\\n파브리지오 로마노에 따르면\\n맨유는 1차로 814억원을 제안했지만\\n재정 상황이 좋지않은 바르셀로나는 거절하였고\\n맨유는 2차로 더욱 높은 금액을 제안할\\n예정이라고 합니다. 저번시즌 구단주 교체 등 격동의 시즌을\\n보냈던 첼시 역시 아직까지는 영입 소식이\\n전혀 들려오지 않고 있는데요,\\n1000억 넘게 들여 사온 루카쿠가\\n다시 인터밀란으로 돌아가고 싶다며\\n칭얼대는 와중 스털링 영입설이 들려오고있습니다.\\n특히 첼시의 투헬 감독이 스털링을 상당히\\n원하고 있다는 보도가 흘러나왔는데요,\\n루카쿠의 빈자리는 물론 윙어 포지션까지\\n뛸 수 있는 스털링은 첼시 입장에서는\\n꽤나 매력적인 옵션이 될것으로 보입니다. 리버풀 역시 알찬 보강을 진행했는데요,\\n바로 우루과이 스트라이커 다윈 누네스를\\n벤피카로부터 1012억원이라는 거액을 들이고\\n2028년까지 장기계약을 맺었습니다.\\n많은 빅클럽들이 노리는 선수였으나\\n결국 수아레즈의 후배가 되기로 했습니다.\\n누네즈 같은 경우 전형적인 스트라이커인데요,\\n머리와 양발 모두 좋은 요즘같은 시대에서\\n찾기 어려운 육각형 스트라이커 중 한명입니다.\\n아직 22살 밖에 안된 어린 선수라\\n과연 EPL에서 어떤 모습을 보일지 기대가 됩니다. 리버풀은 공격뿐만 아니라 수비까지\\n보강에 나섰는데요,\\n바로 스코틀랜드 21세 이하 대표팀에서\\n활약하는 캘빈 램지를 영입했습니다.\\n18살의 어린 나이로 즉시 전력감보다는\\n아놀드의 교체 자원이 될 예정입니다.\\n켈빈 램지는 스코틀랜드에서 기대하는\\n유망주중 한명인데요,\\n21-22 시즌 스코틀랜드 축구기자 협회\\n선정 올해의 영플레이어로 뽑혔으며\\n자국 올해의 영플레이어상을 수상한\\n아주 잠재력이 높은 선수 중 한명입니다. 본선 티켓은 지금 즉시 준비하세요!\\n카타르 월드컵 본선 티켓 확정 구매 링크▼ 호스피탈리티 패키지 구매 관련 포스팅▼ '},\n",
       " 9: {'title': '축구 팬들은 기다려지는 해외축구이적',\n",
       "  'nickname': 'FS스포츠\\n(siroikitty)',\n",
       "  'datetime': '2022. 6. 20. 18:30',\n",
       "  'content': '안녕하세요! FS스포츠입니다.\\n한 주의 시작 월요일, 활기차게 시작하셨나요?\\n요즘 더워지는 날씨로 힘들고 바쁘지만\\n웃으면서 하루를 마무리 해봅시다!\\n웃으면 복이 온다고 하잖아요~\\n이번 주도 즐거운 일만 가득하기를 바랍니다^^\\n많은 사람들이 기다리고 있는\\n해외축구이적에 대하여 알볼까 합니다!\\n해외축구하면 기다려지는 기간은 여름과 겨울 단 2번 열리는 이적시장이\\n해외축구 팬들에게 또 하나의 재미를 선사합니다.\\n이적시장이란 말 그대로 구단이 선수를 팔 수 있는 기간을 말합니다!\\n1년 내내 열리는 것이 아니기에 구단이나 선수나 신중하게 선수를\\n사고 팔거나 신중하게 팀을 선택해야 합니다. 축구 이적시장에는 임대, 임대 후 완전이적이라는 제도가 있습니다. 임대는 선수를 영입하는 것이 아닌, 일정기간 동안 빌려주거나\\n빌려오는 것을 의미를 합니다. 보통 어린 선수들에게 경험을 쌓을 수 있는 기회를 주려고 선수를 사온 후 임대를 다시 보내는 경우가 많습니다. 임대 후 완전 이적은 선수를 빌려줌과 동시에 선수의 이적료를 책정합니다. 선수를 빌린 구단은 임대한 선수가 경기력도 괜찮고 침에 도움이 되면 책정된 이적료를 지불하고 팀에 완전히 이적시킵니다. 스왑 딜은 구단끼리 서로 이적료 대신 선수를 교환하는 것을 의미합니다. 서로 구단끼리 원하는 선수를 보유하고 있거나 선수를 영입하고 싶은데 자본이 딸릴 때 선수와 이적료, 선수와 선수 등 스왑 딜을 진행하는 경우가 있습니다. 그리고 많은 구단들이 FA선수들을 노릴 때가 있습니다.\\nFA란?…계약기간이 끝난 선수들이 나오는데, 이적료가 발생하지 않고 선수와 구단끼리 연봉만 맞으면 이적을 성사 시킬 수 있고, FA상태인데 오퍼가 오지 않은 선수는 무직 상태로 봐야할 것 같습니다. 이적을 했다고 하더라도 바이백이란 조항을 넣으면 일정 금액을 지불하고 다시 그 선수를 원래의 구단에서 데려올 수 있습니다.\\n언제든지 원한다면 일정 금액을 지불하고 다시 복귀할 수 있습니다. 최근 가장 뜨거운 관심사는 이버풀의 사디오 마네입니다. 바이에른 뮌헨이 레반도포스키 대체장사로 사디오마네를 원한다는 소식이\\n전해지면서 많은 사람들이 과연 EPL에서 우승과 챔스 우승까지 경험한 마네가 리버풀과 재계약 난항을 겪고 있는 상태에서\\n독일 최고의 팀인 뭰헨의 제안을 받아들일지 궁금합니다.\\n이번 21-22시즌을 끝으로 폴 포그바 선수도 맨유과 계약이 끝나 FA신분이 되었습니다. 연재 친정 팀인 유벤투스 및 바르셀로나,\\n파리 생제르맹 등이 포그바 영입에 관심이 있는 것으로 확인되었습니다. 과연 FA신분으로 다시 유벤투스로 돌아가 옛날 기량을 회복 할\\n것인지 아니면 다은 리그로 떠나 다시 한번 도전을 할지 어떤 선택을 해도 옛날 기량을 다시 회복하여 즐거운 플레이를 하면 좋겠습니다.\\n이렇게 오늘은 해외축구 이적시장 용어 및 제일 관심을 받고 있는 몇몇 선수들에 대해 알아 봤습니다.\\n이적시장은 해외축구를 좋아하는 팬들이라면 어떤 선수가 어떤 구단으로 이적을 했고 어떤 선수를 팔고\\n흥미가 있는 시간이기에 많은 사람들이 관심을 가지고 있습니다. 아직 이적 시장이 시작을 하지 않아 오피셜이\\n뜬 선수들은 없지만 오피셜이 뜰 때까지 모르는게 이적시장이기에 이번 이적시장도 기대가 많이 되는 부분입니다. '}}"
      ]
     },
     "execution_count": 41,
     "metadata": {},
     "output_type": "execute_result"
    }
   ],
   "source": [
    "dict"
   ]
  },
  {
   "cell_type": "code",
   "execution_count": 42,
   "metadata": {
    "id": "MP_grQXm-kvv",
    "outputId": "94e65bb2-0e12-48ea-be55-fb1731c3ac1f",
    "scrolled": true
   },
   "outputs": [
    {
     "data": {
      "text/html": [
       "<div>\n",
       "<style scoped>\n",
       "    .dataframe tbody tr th:only-of-type {\n",
       "        vertical-align: middle;\n",
       "    }\n",
       "\n",
       "    .dataframe tbody tr th {\n",
       "        vertical-align: top;\n",
       "    }\n",
       "\n",
       "    .dataframe thead th {\n",
       "        text-align: right;\n",
       "    }\n",
       "</style>\n",
       "<table border=\"1\" class=\"dataframe\">\n",
       "  <thead>\n",
       "    <tr style=\"text-align: right;\">\n",
       "      <th></th>\n",
       "      <th>title</th>\n",
       "      <th>nickname</th>\n",
       "      <th>datetime</th>\n",
       "      <th>content</th>\n",
       "    </tr>\n",
       "  </thead>\n",
       "  <tbody>\n",
       "    <tr>\n",
       "      <th>0</th>\n",
       "      <td>해외축구 이적시장 최신업데이트 EPL,프리메라리그,세리에A,분데스리가 등</td>\n",
       "      <td>장군대디빅스타</td>\n",
       "      <td>2022. 7. 16. 0:21</td>\n",
       "      <td>안녕하세요 #홈바디블로거 #장군대디빅스타 입니다.\\n매년 이맘즈음에는 많은 해축팬분...</td>\n",
       "    </tr>\n",
       "    <tr>\n",
       "      <th>1</th>\n",
       "      <td>[블챌] 바쁘게 돌아가는 해외축구 이적시장</td>\n",
       "      <td>Insightmaster</td>\n",
       "      <td>2022. 7. 9. 23:48</td>\n",
       "      <td>해외축구 이적시장이 바쁘게 돌아가고 있다. 유럽축구는 6~8월까지 여름 이적시장이 ...</td>\n",
       "    </tr>\n",
       "    <tr>\n",
       "      <th>2</th>\n",
       "      <td>해외축구 이적시장 상황</td>\n",
       "      <td>football mania</td>\n",
       "      <td>2022. 7. 3. 14:57</td>\n",
       "      <td>안녕하세요!\\nFootball Mania, FM입니다.\\n어제 좀 쇼킹한 기사를 보...</td>\n",
       "    </tr>\n",
       "    <tr>\n",
       "      <th>3</th>\n",
       "      <td>해외축구 이적시장 소식 프랭키 데 용 영입을 위해 바르셀로나로 날아간 맨유 임원진</td>\n",
       "      <td>데느님</td>\n",
       "      <td>2022. 7. 12. 18:43</td>\n",
       "      <td>이번 여름 해외축구 이적시장에서 가장 뜨거운 감자는 단연 바르셀로나의 미드필더 프랭...</td>\n",
       "    </tr>\n",
       "    <tr>\n",
       "      <th>4</th>\n",
       "      <td>7/8 해외축구 여름이적시장 요약</td>\n",
       "      <td>Here we go</td>\n",
       "      <td>2022. 7. 8. 12:01</td>\n",
       "      <td>*오피셜\\n:구단공홈오피셜 / 구단 합의와 개인합의, 메디컬 테스트가 완료되어 계약...</td>\n",
       "    </tr>\n",
       "    <tr>\n",
       "      <th>5</th>\n",
       "      <td>2022 유럽 해외축구 이적시장 루머 금일자 정리 Ⅱ.txt</td>\n",
       "      <td>정꾸레\\n(clefboy)</td>\n",
       "      <td>2022. 7. 11. 9:00</td>\n",
       "      <td>정꾸렙니다.\\n그 어느 때보다 활발한 이적시장 루머들이 속속히 나오고 있는 중입니...</td>\n",
       "    </tr>\n",
       "    <tr>\n",
       "      <th>6</th>\n",
       "      <td>2022년 해외축구 여름이적시장 중간현황(2022년6월30일까지 오피셜 기준)</td>\n",
       "      <td>영에이치 YoungH</td>\n",
       "      <td>2022. 7. 1. 11:27</td>\n",
       "      <td>안녕하세요. 축구를 좋아하는 영에이치입니다.\\n2022년 해외축구 여름 이적시장이 ...</td>\n",
       "    </tr>\n",
       "    <tr>\n",
       "      <th>7</th>\n",
       "      <td>[6/22] 해외축구 이적시장 루머 정리</td>\n",
       "      <td>디네로\\n(lcs11011)</td>\n",
       "      <td>2022. 6. 22. 10:06</td>\n",
       "      <td>폴란드의 공격수 로베르트 레반도프스키가 바이에른 뮌헨을 떠나고 싶어 한다. 독일 클...</td>\n",
       "    </tr>\n",
       "    <tr>\n",
       "      <th>8</th>\n",
       "      <td>해외축구 여름 이적시장 오피셜 및 루머 총정리 (토트넘, 첼시, 맨시티, 리버풀, ...</td>\n",
       "      <td>아라 ARA</td>\n",
       "      <td>2022. 6. 22. 15:00</td>\n",
       "      <td>해외축구 시즌이 종료된지 벌써\\n한달이 지나갔는데요,\\n아쉬워할 틈도 없이 바로\\n...</td>\n",
       "    </tr>\n",
       "    <tr>\n",
       "      <th>9</th>\n",
       "      <td>축구 팬들은 기다려지는 해외축구이적</td>\n",
       "      <td>FS스포츠\\n(siroikitty)</td>\n",
       "      <td>2022. 6. 20. 18:30</td>\n",
       "      <td>안녕하세요! FS스포츠입니다.\\n한 주의 시작 월요일, 활기차게 시작하셨나요?\\n요...</td>\n",
       "    </tr>\n",
       "  </tbody>\n",
       "</table>\n",
       "</div>"
      ],
      "text/plain": [
       "                                               title             nickname  \\\n",
       "0           해외축구 이적시장 최신업데이트 EPL,프리메라리그,세리에A,분데스리가 등              장군대디빅스타   \n",
       "1                            [블챌] 바쁘게 돌아가는 해외축구 이적시장        Insightmaster   \n",
       "2                                       해외축구 이적시장 상황       football mania   \n",
       "3      해외축구 이적시장 소식 프랭키 데 용 영입을 위해 바르셀로나로 날아간 맨유 임원진                  데느님   \n",
       "4                                 7/8 해외축구 여름이적시장 요약           Here we go   \n",
       "5                  2022 유럽 해외축구 이적시장 루머 금일자 정리 Ⅱ.txt       정꾸레\\n(clefboy)   \n",
       "6        2022년 해외축구 여름이적시장 중간현황(2022년6월30일까지 오피셜 기준)          영에이치 YoungH   \n",
       "7                             [6/22] 해외축구 이적시장 루머 정리      디네로\\n(lcs11011)   \n",
       "8  해외축구 여름 이적시장 오피셜 및 루머 총정리 (토트넘, 첼시, 맨시티, 리버풀, ...               아라 ARA   \n",
       "9                                축구 팬들은 기다려지는 해외축구이적  FS스포츠\\n(siroikitty)   \n",
       "\n",
       "             datetime                                            content  \n",
       "0   2022. 7. 16. 0:21  안녕하세요 #홈바디블로거 #장군대디빅스타 입니다.\\n매년 이맘즈음에는 많은 해축팬분...  \n",
       "1   2022. 7. 9. 23:48  해외축구 이적시장이 바쁘게 돌아가고 있다. 유럽축구는 6~8월까지 여름 이적시장이 ...  \n",
       "2   2022. 7. 3. 14:57  안녕하세요!\\nFootball Mania, FM입니다.\\n어제 좀 쇼킹한 기사를 보...  \n",
       "3  2022. 7. 12. 18:43  이번 여름 해외축구 이적시장에서 가장 뜨거운 감자는 단연 바르셀로나의 미드필더 프랭...  \n",
       "4   2022. 7. 8. 12:01  *오피셜\\n:구단공홈오피셜 / 구단 합의와 개인합의, 메디컬 테스트가 완료되어 계약...  \n",
       "5   2022. 7. 11. 9:00   정꾸렙니다.\\n그 어느 때보다 활발한 이적시장 루머들이 속속히 나오고 있는 중입니...  \n",
       "6   2022. 7. 1. 11:27  안녕하세요. 축구를 좋아하는 영에이치입니다.\\n2022년 해외축구 여름 이적시장이 ...  \n",
       "7  2022. 6. 22. 10:06  폴란드의 공격수 로베르트 레반도프스키가 바이에른 뮌헨을 떠나고 싶어 한다. 독일 클...  \n",
       "8  2022. 6. 22. 15:00  해외축구 시즌이 종료된지 벌써\\n한달이 지나갔는데요,\\n아쉬워할 틈도 없이 바로\\n...  \n",
       "9  2022. 6. 20. 18:30  안녕하세요! FS스포츠입니다.\\n한 주의 시작 월요일, 활기차게 시작하셨나요?\\n요...  "
      ]
     },
     "execution_count": 42,
     "metadata": {},
     "output_type": "execute_result"
    }
   ],
   "source": [
    "# 판다스로 만들기\n",
    "import pandas as pd\n",
    "result_df = pd.DataFrame.from_dict(dict, 'index')\n",
    "result_df"
   ]
  },
  {
   "cell_type": "code",
   "execution_count": 43,
   "metadata": {
    "id": "rxYCIxaE-kvv",
    "scrolled": true
   },
   "outputs": [],
   "source": [
    "# 엑셀로 저장하기\n",
    "result_df.to_csv(\"blog_content.csv\", encoding='utf-8-sig')"
   ]
  },
  {
   "cell_type": "code",
   "execution_count": 44,
   "metadata": {
    "id": "8tlfMsDm-kvv",
    "outputId": "4fa392b3-ae52-4762-ba70-cbc58cc0d074"
   },
   "outputs": [
    {
     "data": {
      "text/plain": [
       "'/Users/krc/TIL/RS/crawling'"
      ]
     },
     "execution_count": 44,
     "metadata": {},
     "output_type": "execute_result"
    }
   ],
   "source": [
    "pwd"
   ]
  },
  {
   "cell_type": "code",
   "execution_count": 45,
   "metadata": {
    "id": "lDj94wBC-kvv"
   },
   "outputs": [
    {
     "data": {
      "text/html": [
       "<div>\n",
       "<style scoped>\n",
       "    .dataframe tbody tr th:only-of-type {\n",
       "        vertical-align: middle;\n",
       "    }\n",
       "\n",
       "    .dataframe tbody tr th {\n",
       "        vertical-align: top;\n",
       "    }\n",
       "\n",
       "    .dataframe thead th {\n",
       "        text-align: right;\n",
       "    }\n",
       "</style>\n",
       "<table border=\"1\" class=\"dataframe\">\n",
       "  <thead>\n",
       "    <tr style=\"text-align: right;\">\n",
       "      <th></th>\n",
       "      <th>Unnamed: 0</th>\n",
       "      <th>title</th>\n",
       "      <th>nickname</th>\n",
       "      <th>datetime</th>\n",
       "      <th>content</th>\n",
       "    </tr>\n",
       "  </thead>\n",
       "  <tbody>\n",
       "    <tr>\n",
       "      <th>0</th>\n",
       "      <td>0</td>\n",
       "      <td>해외축구 이적시장 최신업데이트 EPL,프리메라리그,세리에A,분데스리가 등</td>\n",
       "      <td>장군대디빅스타</td>\n",
       "      <td>2022. 7. 16. 0:21</td>\n",
       "      <td>안녕하세요 #홈바디블로거 #장군대디빅스타 입니다.\\n매년 이맘즈음에는 많은 해축팬분...</td>\n",
       "    </tr>\n",
       "    <tr>\n",
       "      <th>1</th>\n",
       "      <td>1</td>\n",
       "      <td>[블챌] 바쁘게 돌아가는 해외축구 이적시장</td>\n",
       "      <td>Insightmaster</td>\n",
       "      <td>2022. 7. 9. 23:48</td>\n",
       "      <td>해외축구 이적시장이 바쁘게 돌아가고 있다. 유럽축구는 6~8월까지 여름 이적시장이 ...</td>\n",
       "    </tr>\n",
       "    <tr>\n",
       "      <th>2</th>\n",
       "      <td>2</td>\n",
       "      <td>해외축구 이적시장 상황</td>\n",
       "      <td>football mania</td>\n",
       "      <td>2022. 7. 3. 14:57</td>\n",
       "      <td>안녕하세요!\\nFootball Mania, FM입니다.\\n어제 좀 쇼킹한 기사를 보...</td>\n",
       "    </tr>\n",
       "    <tr>\n",
       "      <th>3</th>\n",
       "      <td>3</td>\n",
       "      <td>해외축구 이적시장 소식 프랭키 데 용 영입을 위해 바르셀로나로 날아간 맨유 임원진</td>\n",
       "      <td>데느님</td>\n",
       "      <td>2022. 7. 12. 18:43</td>\n",
       "      <td>이번 여름 해외축구 이적시장에서 가장 뜨거운 감자는 단연 바르셀로나의 미드필더 프랭...</td>\n",
       "    </tr>\n",
       "    <tr>\n",
       "      <th>4</th>\n",
       "      <td>4</td>\n",
       "      <td>7/8 해외축구 여름이적시장 요약</td>\n",
       "      <td>Here we go</td>\n",
       "      <td>2022. 7. 8. 12:01</td>\n",
       "      <td>*오피셜\\n:구단공홈오피셜 / 구단 합의와 개인합의, 메디컬 테스트가 완료되어 계약...</td>\n",
       "    </tr>\n",
       "  </tbody>\n",
       "</table>\n",
       "</div>"
      ],
      "text/plain": [
       "   Unnamed: 0                                          title        nickname  \\\n",
       "0           0       해외축구 이적시장 최신업데이트 EPL,프리메라리그,세리에A,분데스리가 등         장군대디빅스타   \n",
       "1           1                        [블챌] 바쁘게 돌아가는 해외축구 이적시장   Insightmaster   \n",
       "2           2                                   해외축구 이적시장 상황  football mania   \n",
       "3           3  해외축구 이적시장 소식 프랭키 데 용 영입을 위해 바르셀로나로 날아간 맨유 임원진             데느님   \n",
       "4           4                             7/8 해외축구 여름이적시장 요약      Here we go   \n",
       "\n",
       "             datetime                                            content  \n",
       "0   2022. 7. 16. 0:21  안녕하세요 #홈바디블로거 #장군대디빅스타 입니다.\\n매년 이맘즈음에는 많은 해축팬분...  \n",
       "1   2022. 7. 9. 23:48  해외축구 이적시장이 바쁘게 돌아가고 있다. 유럽축구는 6~8월까지 여름 이적시장이 ...  \n",
       "2   2022. 7. 3. 14:57  안녕하세요!\\nFootball Mania, FM입니다.\\n어제 좀 쇼킹한 기사를 보...  \n",
       "3  2022. 7. 12. 18:43  이번 여름 해외축구 이적시장에서 가장 뜨거운 감자는 단연 바르셀로나의 미드필더 프랭...  \n",
       "4   2022. 7. 8. 12:01  *오피셜\\n:구단공홈오피셜 / 구단 합의와 개인합의, 메디컬 테스트가 완료되어 계약...  "
      ]
     },
     "execution_count": 45,
     "metadata": {},
     "output_type": "execute_result"
    }
   ],
   "source": [
    "data = pd.read_csv(\"blog_content.csv\")\n",
    "data.head()"
   ]
  },
  {
   "cell_type": "code",
   "execution_count": null,
   "metadata": {
    "id": "G9C5ou9Q-kvv"
   },
   "outputs": [],
   "source": []
  }
 ],
 "metadata": {
  "colab": {
   "name": "네이버블로그(202105)_크롤러.ipynb",
   "provenance": []
  },
  "kernelspec": {
   "display_name": "Python 3 (ipykernel)",
   "language": "python",
   "name": "python3"
  },
  "language_info": {
   "codemirror_mode": {
    "name": "ipython",
    "version": 3
   },
   "file_extension": ".py",
   "mimetype": "text/x-python",
   "name": "python",
   "nbconvert_exporter": "python",
   "pygments_lexer": "ipython3",
   "version": "3.8.13"
  },
  "toc": {
   "base_numbering": 1,
   "nav_menu": {},
   "number_sections": false,
   "sideBar": true,
   "skip_h1_title": false,
   "title_cell": "Table of Contents",
   "title_sidebar": "Contents",
   "toc_cell": false,
   "toc_position": {},
   "toc_section_display": true,
   "toc_window_display": false
  },
  "varInspector": {
   "cols": {
    "lenName": 16,
    "lenType": 16,
    "lenVar": 40
   },
   "kernels_config": {
    "python": {
     "delete_cmd_postfix": "",
     "delete_cmd_prefix": "del ",
     "library": "var_list.py",
     "varRefreshCmd": "print(var_dic_list())"
    },
    "r": {
     "delete_cmd_postfix": ") ",
     "delete_cmd_prefix": "rm(",
     "library": "var_list.r",
     "varRefreshCmd": "cat(var_dic_list()) "
    }
   },
   "position": {
    "height": "600px",
    "left": "554.76px",
    "right": "20px",
    "top": "88px",
    "width": "424px"
   },
   "types_to_exclude": [
    "module",
    "function",
    "builtin_function_or_method",
    "instance",
    "_Feature"
   ],
   "window_display": false
  }
 },
 "nbformat": 4,
 "nbformat_minor": 1
}
