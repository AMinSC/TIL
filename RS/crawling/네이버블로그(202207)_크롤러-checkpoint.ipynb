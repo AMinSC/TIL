{
 "cells": [
  {
   "cell_type": "code",
   "execution_count": 1,
   "id": "21261902",
   "metadata": {},
   "outputs": [],
   "source": [
    "# !pip install chromedriver-autoinstaller"
   ]
  },
  {
   "cell_type": "code",
   "execution_count": 2,
   "id": "93dc2e0b",
   "metadata": {},
   "outputs": [],
   "source": [
    "# !pip install selenium"
   ]
  },
  {
   "cell_type": "code",
   "execution_count": 3,
   "id": "592a559d",
   "metadata": {},
   "outputs": [],
   "source": [
    "# 네이버에서 검색어 입력받아 검색 한 후 블로그 메뉴를 선택하고\n",
    "# 오른쪽에 있는 검색옵션 버튼을 눌러서\n",
    "# 정렬 방식과 기간을 입력하기\n",
    "\n",
    "#Step 0. 필요한 모듈과 라이브러리를 로딩합니다.\n",
    "import sys # 시스템\n",
    "import os  # 시스템\n",
    "\n",
    "import pandas as pd  # 판다스 : 데이터분석 라이브러리\n",
    "import numpy as np   # 넘파이 : 숫자, 행렬 데이터 라이브러리\n",
    "\n",
    "import chromedriver_autoinstaller\n",
    "from bs4 import BeautifulSoup    # html 데이터를 전처리\n",
    "from selenium import webdriver   # 웹 브라우저 자동화\n",
    "import time    # 서버와 통신할 때 중간중간 시간 지연. 보통은 1초\n",
    "from tqdm import tqdm_notebook   # for문 돌릴 때 진행상황을 %게이지로 알려준다.\n",
    "\n",
    "# 워닝 무시\n",
    "import warnings\n",
    "warnings.filterwarnings('ignore')"
   ]
  },
  {
   "cell_type": "code",
   "execution_count": 4,
   "id": "90cf8175",
   "metadata": {},
   "outputs": [
    {
     "name": "stdout",
     "output_type": "stream",
     "text": [
      "Python 3.8.13\r\n"
     ]
    }
   ],
   "source": [
    "# python 버전 확인\n",
    "!python --version"
   ]
  },
  {
   "cell_type": "code",
   "execution_count": 5,
   "id": "79e2de77",
   "metadata": {},
   "outputs": [
    {
     "data": {
      "text/plain": [
       "'1.4.3'"
      ]
     },
     "execution_count": 5,
     "metadata": {},
     "output_type": "execute_result"
    }
   ],
   "source": [
    "# 판다스 버전 확인\n",
    "pd.__version__\n"
   ]
  },
  {
   "cell_type": "code",
   "execution_count": 6,
   "id": "0a261cce",
   "metadata": {},
   "outputs": [
    {
     "data": {
      "text/plain": [
       "'4.0.0'"
      ]
     },
     "execution_count": 6,
     "metadata": {},
     "output_type": "execute_result"
    }
   ],
   "source": [
    "webdriver.__version__"
   ]
  },
  {
   "cell_type": "code",
   "execution_count": 7,
   "id": "0998a3e8",
   "metadata": {},
   "outputs": [
    {
     "name": "stdout",
     "output_type": "stream",
     "text": [
      "1.크롤링할 키워드는 무엇입니까?: 해외축구 이적시장\n"
     ]
    }
   ],
   "source": [
    "# 검색어, 검색 기간 정의\n",
    "query_txt = input('1.크롤링할 키워드는 무엇입니까?: ')"
   ]
  },
  {
   "cell_type": "code",
   "execution_count": 8,
   "id": "c55057c7",
   "metadata": {},
   "outputs": [
    {
     "data": {
      "text/plain": [
       "'해외축구 이적시장'"
      ]
     },
     "execution_count": 8,
     "metadata": {},
     "output_type": "execute_result"
    }
   ],
   "source": [
    "query_txt # = \"홍대 맛집\""
   ]
  },
  {
   "cell_type": "markdown",
   "id": "df44249d",
   "metadata": {},
   "source": [
    "# 1. 크롤링할 블로그 url 수집하기"
   ]
  },
  {
   "cell_type": "code",
   "execution_count": 9,
   "id": "a0615503",
   "metadata": {},
   "outputs": [
    {
     "data": {
      "text/plain": [
       "'/Users/krc/TIL/RS/crawling'"
      ]
     },
     "execution_count": 9,
     "metadata": {},
     "output_type": "execute_result"
    }
   ],
   "source": [
    "pwd"
   ]
  },
  {
   "cell_type": "code",
   "execution_count": 10,
   "id": "ecd6ee2e",
   "metadata": {},
   "outputs": [],
   "source": [
    "options = webdriver.ChromeOptions()\n",
    "chrome_path = chromedriver_autoinstaller.install()\n",
    "driver = webdriver.Chrome(chrome_path, options=options)\n",
    "\n",
    "# 사이트 주소는 네이버\n",
    "driver.get('http://www.naver.com')\n",
    "time.sleep(2)  # 2초간 정지"
   ]
  },
  {
   "cell_type": "code",
   "execution_count": 11,
   "id": "1140b114",
   "metadata": {},
   "outputs": [],
   "source": [
    "# Step 2. 네이버 검색창에 \"검색어\" 검색\n",
    "element = driver.find_element_by_id(\"query\")\n",
    "element.send_keys(query_txt)  # query_txt는 위에서 입력한 키워드\n",
    "element.submit()\n",
    "time.sleep(1)"
   ]
  },
  {
   "cell_type": "code",
   "execution_count": 12,
   "id": "dbfc43a3",
   "metadata": {},
   "outputs": [],
   "source": [
    "# 'VIEW' 클릭\n",
    "driver.find_element_by_link_text(\"VIEW\").click( )\n",
    "time.sleep(1)"
   ]
  },
  {
   "cell_type": "code",
   "execution_count": 13,
   "id": "3475f233",
   "metadata": {},
   "outputs": [],
   "source": [
    "# '블로그' 클릭\n",
    "driver.find_element_by_link_text(\"블로그\").click( )\n",
    "time.sleep(1)\n",
    "\n",
    "# '옵션' 클릭\n",
    "driver.find_element_by_link_text(\"옵션\").click( )\n",
    "time.sleep(1)"
   ]
  },
  {
   "cell_type": "code",
   "execution_count": 14,
   "id": "007a2f22",
   "metadata": {},
   "outputs": [
    {
     "name": "stdout",
     "output_type": "stream",
     "text": [
      "전체\n",
      "블로그\n",
      "카페\n",
      "관련도순\n",
      "최신순\n",
      "전체\n",
      "1시간\n",
      "1일\n",
      "1주\n",
      "1개월\n",
      "3개월\n",
      "6개월\n",
      "1년\n",
      "직접입력옵션펼치기\n"
     ]
    }
   ],
   "source": [
    "# 검색옵션 확인\n",
    "item_li = driver.find_elements_by_css_selector('.option .txt')\n",
    "\n",
    "for i in range(0, len(item_li)):\n",
    "    print(item_li[i].text)"
   ]
  },
  {
   "cell_type": "code",
   "execution_count": 15,
   "id": "7c1b0fd4",
   "metadata": {},
   "outputs": [
    {
     "name": "stdout",
     "output_type": "stream",
     "text": [
      "1개월\n"
     ]
    }
   ],
   "source": [
    "# 검색기간 '1개월' 클릭\n",
    "print(item_li[9].text)\n",
    "\n",
    "item_li[9].click()"
   ]
  },
  {
   "cell_type": "code",
   "execution_count": 16,
   "id": "eda612b2",
   "metadata": {},
   "outputs": [],
   "source": [
    "# 스크롤 다운\n",
    "# driver.execute_script(\"window.scrollTo(0, 500)\")\n",
    "# time.sleep(2)\n",
    "\n",
    "# 스크롤을 밑으로 내려주는 함수\n",
    "def scroll_down(driver):\n",
    "    driver.execute_script(\"window.scrollTo(0, 19431049)\")\n",
    "    time.sleep(1)\n",
    "\n",
    "# n: 스크롤할 횟수 설정\n",
    "n = 3\n",
    "i = 0\n",
    "while i < n: # 이 조건이 만족되는 동안 반복 실행\n",
    "    scroll_down(driver) # 스크롤 다운\n",
    "    i = i+1"
   ]
  },
  {
   "cell_type": "code",
   "execution_count": 24,
   "id": "961c8045",
   "metadata": {},
   "outputs": [
    {
     "data": {
      "text/plain": [
       "'해외축구 이적시장 최신업데이트 EPL,프리메라리그,세리에A...'"
      ]
     },
     "execution_count": 24,
     "metadata": {},
     "output_type": "execute_result"
    }
   ],
   "source": [
    "# 블로그 글 url들 수집\n",
    "url_list = []\n",
    "title_list = []\n",
    "\n",
    "# URL_raw 크롤링 시작\n",
    "articles = \".api_txt_lines.total_tit\"\n",
    "article_raw = driver.find_elements_by_css_selector(articles)\n",
    "article_raw[0].text"
   ]
  },
  {
   "cell_type": "code",
   "execution_count": 18,
   "id": "76eb2394",
   "metadata": {},
   "outputs": [
    {
     "data": {
      "text/plain": [
       "'https://blog.naver.com/7ulyee/222813310047'"
      ]
     },
     "execution_count": 18,
     "metadata": {},
     "output_type": "execute_result"
    }
   ],
   "source": [
    "# 첫번째 글의 url 확인\n",
    "article_raw[0].get_attribute('href')"
   ]
  },
  {
   "cell_type": "code",
   "execution_count": 19,
   "id": "d2b8bd60",
   "metadata": {},
   "outputs": [
    {
     "name": "stdout",
     "output_type": "stream",
     "text": [
      "해외축구 이적시장 최신업데이트 EPL,프리메라리그,세리에A...\n",
      "해외축구 이적시장 상황 정리\n",
      "[블챌] 바쁘게 돌아가는 해외축구 이적시장\n",
      "해외축구 이적시장 소식 프랭키 데 용 영입을 위해...\n",
      "7/18 해외축구 여름이적시장 요약\n",
      "2022 유럽 해외축구 이적시장 루머 금일자 정리 Ⅱ.txt\n",
      "2022년 해외축구 여름이적시장 중간현황(2022년6월30일까지...\n",
      "[6/22] 해외축구 이적시장 루머 정리\n",
      "이니에스타 이니에스타 해외축구 등 이적시장 체임벌린...\n",
      "해외축구 여름 이적시장 오피셜 및 루머 총정리 (토트넘, 첼시...\n",
      "축구 팬들은 기다려지는 해외축구이적\n",
      "해외축구 여름 이적시장 새로운 소식 epl, 세리에a...\n",
      "해외축구 이적시장 - 히샬리송 토트넘 이적설? 앤서니 고든도?...\n",
      "해외축구 이적시장 상황\n",
      "[해외축구 이슈] EPL 이적시장 눈여겨볼 영입\n",
      "프리미어리그 빅6 이적 영입 상황 (해외축구 이적시장)\n",
      "7/19 해외축구 여름이적시장 요약\n",
      "2022 유럽 해외축구 이적시장 루머 금일자 정리.txt\n",
      "[해외축구 소식] 포그바... + 이적시장의 여포, 맨시티!! ⛴\n",
      "[해외축구] 이적시장 가십 소식 전달!\n",
      "해외축구 이적시장 소식 로즈 등 베일 대니 아자르 아자르\n",
      "[해외축구 주요 빅클럽 이적 시장 행보 알아보기 - 맨시티 편]\n",
      "해외축구 이적시장 및 사건사고 업데이트 (토마스파티?) epl 등...\n",
      "[가쉽] 220704 해외축구 이적시장 정리(디발라, 베르나르도...\n",
      "해외축구 이적시장 상황\n",
      "22/23 해외축구 여름 이적시장 - 아스날 영입 오피셜 모음\n",
      "[해외축구 이슈] 라리가 이적시장 눈여겨볼 영입\n",
      "해외축구 여름이적시장 주요 이적 다시보기\n",
      "[해외축구] 호날두 UCL 출전의지,, 맨유에 이적 통보...\n",
      "[스포츠] 대한민국 축구 선수들의 이적. 황의조! 황인범! 김민재!...\n",
      "[해외축구 소식] 파란색의... + 미궁으로 빠지는 데 용 이적사...\n",
      "유럽축구 1 오늘의 이적시장 최대현 체흐\n",
      "해외축구 여름 이적시장 22.07.04 현재상황정리(프리미어리그...\n",
      "90min 해외축구 이적뉴스(첼시 데리흐트 방출조항 102m 내야할...\n",
      "[가쉽] 220624 해외축구 이적시장 정리(레반도프스키, 네이마르...\n",
      "[해외축구 이적시장] 오늘의 오피셜!\n",
      "22/23 해외축구 여름 이적시장 - 토트넘 영입 오피셜 모음\n",
      "7/8 해외축구 여름이적시장 요약\n",
      "[The Athletic] 미국 축구... 임대 이적으로 클럽을 떠날 것으로...\n",
      "체흐 2018 여름이적시장 최대현 2 유럽축구 2019 오늘의\n",
      "해외축구 프리미어리그 이적시장 현재상황 EPL 토트넘...\n",
      "해외축구 이적시장 상황\n",
      "해외축구 이적시장 오피셜 중간 정리(2) 리버풀 : 다윈 누네즈...\n",
      "해외축구 이적시장 epl, 세리에a, 프리메라리가, 분데스리가...\n",
      "해외축구 이적시장 상황\n",
      "해외축구 이적시장\n",
      "7/15 해외축구 여름이적시장 요약\n",
      "해외축구 이적시장 상황 정리\n",
      "22/23 해외축구 여름 이적시장 - 보루시아 도르트문트 영입...\n",
      "해외축구 이적시장 상황\n",
      "해외축구 이적시장\n",
      "[6/23~25] 해외축구 이적시장 상황 정리\n",
      "[해외축구 이적시장] 오늘의 오피셜!\n",
      "해외축구 이적시장 오피셜 중간 정리(2) 맨시티 : 엘링 홀란드...\n",
      "해외축구 이적시장 상황\n",
      "6/22 해외축구 여름이적시장 요약\n",
      "6/30 해외축구 여름이적시장 요약\n",
      "6/27 해외축구 여름이적시장 요약\n",
      "[코마노] 6/24 해외축구 여름이적시장 요약\n",
      "6/21 해외축구 여름이적시장 요약\n",
      "7/11 해외축구 여름이적시장 요약\n",
      "7/7 해외축구 여름이적시장 요약\n",
      "6/26 해외축구 여름이적시장 요약\n",
      "6/23 해외축구 여름이적시장 요약\n",
      "해외 축구 이적시장이 재미있는 이유\n",
      "김민재 이적 페네르바체 해외반응 + 이적은 나폴리? 렌?...\n",
      "프리미어리그 토트넘 여름 이적 시장 정보 토트넘 손흥민...\n",
      "2022 여름 이적시장 중간점검 ③\n",
      "[7월 16일] BBC 이적시장 루머 가십 정리 - 호날두, 실바, 진첸코...\n",
      "7월20일 해외축구경기일정 여기서\n",
      "선수들의 의식 변화, 여름이적시장 상위리그 10명 입단의 결과로!\n",
      "여름 이적시장(일류첸코, 히키, 로마뇰리, 로이스-포터, 트린캉...\n",
      "[7월 8일] BBC 이적시장 루머 가십 정리 - 마르티네즈, 호날두...\n",
      "2022 여름 이적시장 중간점검 ②\n",
      "나폴리 이적시장 \" 김민재 영입 근접 \" 정말 나폴리로 가나..?\n",
      "[해외축구 소식] 진첸코-아스날 던딜, 데리흐트 to 뮌헨!...\n",
      "5대 리그 여름 이적시장 종료일\n",
      "[데이비드 온스테인] 지금까지 이적시장 정리 영상 요약\n",
      "[7월 2일] BBC 이적시장 루머 가십 정리 - 안토니, 호날두...\n",
      "22시즌 여름 이적시장을 마치며\n",
      "90min 해외축구 이적뉴스(맨유 호날두 재계약 암시/진첸코...\n",
      "[해외축구 소식] 썩던 이가 빠진 첼시, 영입고조! + 히샬리송...\n",
      "7월18일 해외축구중계사이트 여기서\n",
      "[해외축구 소식] 하피냐 to 바르셀로나 + 첼시, 두 개의 빅 영입!...\n",
      "체흐 첼시 해외축구 잉글랜드의 EPL 푸른사자 FC\n",
      "2022 여름 이적시장 중간점검 ①\n",
      "[해외축구 이슈] 세리에 A 눈여겨볼 영입들\n",
      "[6월 25일] BBC 이적시장 루머 가십 정리 - 더리흐트, 호날두, 더...\n",
      "2022/23시즌 여름 이적시장을 알아보자\n",
      "2022 해외축구 구단가치 순위 TOP5를 알아보자\n",
      "[축구] 22/23 시즌 해외축구 개막 일정, 중계 / epl...\n",
      "[EU] 해외 축구팬 \"K리그 선수들 수준이 높네. 양현준 정말...\n",
      "디나모 키예프 : 페네르바체 <2차 본선 플레이오프> 축구 분석...\n",
      "해외축구 유럽역대최고의 공격듀오는? 공격듀오 합작골...\n",
      "해외축구중계사이트 기대되는 올 시즌\n",
      "[해외축구 소식] 디 마리아, 유벤투스 행! + 로마노, 김민재...\n",
      "라이벌 레전드도 엄지 척, \"토트넘, 이적 시장 참 잘 했어요!\"\n",
      "맨체스터 시티의 베스트11 더블 스쿼드, 이적시장 중간 정리\n",
      "맨시티 스털링, 곧 첼시로 이적 개인 합의는 이미 마무리\n",
      "디 마리아 유벤투스로 HERE WE GO 유벤투스로 이적 임박\n",
      "07.14 해외축구 소식 요약\n",
      "[오피셜] 칼리두 쿨리발리, 첼시 이적 2026년까지 계약\n",
      "해외축구, 토트넘의 미~친 영업소식 정리\n",
      "셰필드 아넬 아메드호지치 이적 계약 예정(FM2021...\n",
      "22-23 시즌 토트넘 이적 시장 정리 ④ - <크리스티안 에릭센...\n",
      "[해외축구 소식] 베일 to LA + 움직이기 시작하는 뉴캐슬...\n",
      "epl 이적료 연봉 주급 브라질 축구국가대표선수 나이 프로필...\n",
      "7. 10. 일요일의 해외축구 가십 - 포든, 캉테, 에릭센, 디발라\n",
      "쿨리발리의 첼시이적유력과 김민재선수의 거취\n",
      "2022 해외축구 구단가치 순위 TOP10에 대해 알아보자\n",
      "22-23 시즌 토트넘 이적 시장 정리 ① - <프레이저 포스터...\n",
      "22-23 시즌 토트넘 이적 시장 정리 ② - <알렉산드로 바스토니...\n",
      "첼시, 쿤데에 새 제안... 세비야가 거절한 지 하루 만에 넣었다!\n",
      "22-23 시즌 토트넘 이적 시장 정리 ③ - <히샬리송, 하피냐>\n",
      "더운 여름에도 놓칠 수 없는 해외스포츠중계\n",
      "이적 총괄' 그라놉스카야 사임... 이적 시장 종료 후 결별 예정!\n",
      "07.12 해외축구 소식 요약\n",
      "[해외축구 소식] 제주스, 아스날 here we go! + 토트넘, 랑글레...\n",
      "2022년 7월 11일 해외축구 가십[해리 케인, 로베르트...\n",
      "[오피셜] 가레스 베일, 로스 앤젤레스 FC 이적 완료!\n",
      "\n",
      "url갯수:  120\n",
      "title갯수:  120\n"
     ]
    }
   ],
   "source": [
    "# 크롤링한 셀레늄 덩어리(객체)인 article_raw에서 get_attribute 함수를 이용해서 \n",
    "# url 추출(href 속성값만 뽑아내기)하기\n",
    "for article in article_raw:\n",
    "    url = article.get_attribute('href')\n",
    "    url_list.append(url)\n",
    "time.sleep(1)\n",
    "\n",
    "# 제목 크롤링 시작\n",
    "for article in article_raw:\n",
    "    title = article.text\n",
    "    title_list.append(title)\n",
    "\n",
    "    print(title)\n",
    "\n",
    "print(\"\")\n",
    "print('url갯수: ', len(url_list))\n",
    "print('title갯수: ', len(title_list))"
   ]
  },
  {
   "cell_type": "code",
   "execution_count": 20,
   "id": "47053d2b",
   "metadata": {},
   "outputs": [
    {
     "data": {
      "text/plain": [
       "['https://blog.naver.com/7ulyee/222813310047',\n",
       " 'https://blog.naver.com/tts0732/222820574388',\n",
       " 'https://blog.naver.com/masterofrichpark/222805798078',\n",
       " 'https://blog.naver.com/z2inny/222808892639',\n",
       " 'https://blog.naver.com/whis4676/222817185659',\n",
       " 'https://blog.naver.com/clefboy/222806484362',\n",
       " 'https://blog.naver.com/hdyking/222796037576',\n",
       " 'https://blog.naver.com/lcs11011/222783711804',\n",
       " 'https://blog.naver.com/jwc9488/222819504628',\n",
       " 'https://blog.naver.com/travelflan/222783795216',\n",
       " 'https://blog.naver.com/siroikitty/222781240520',\n",
       " 'https://blog.naver.com/7ulyee/222817240323',\n",
       " 'https://blog.naver.com/changhj0711/222793271848',\n",
       " 'https://blog.naver.com/tts0732/222798413460',\n",
       " 'https://blog.naver.com/wpalstjd0419/222800199609',\n",
       " 'https://blog.naver.com/z2inny/222812548777',\n",
       " 'https://blog.naver.com/whis4676/222818740342',\n",
       " 'https://blog.naver.com/clefboy/222788633935',\n",
       " 'https://blog.naver.com/truble97/222789375532',\n",
       " 'https://blog.naver.com/crossbook/222787101145',\n",
       " 'https://blog.naver.com/jwc9488/222819544202',\n",
       " 'https://blog.naver.com/lcs11011/222818931550',\n",
       " 'https://blog.naver.com/7ulyee/222802304826',\n",
       " 'https://blog.naver.com/jinny9415/222800063753',\n",
       " 'https://blog.naver.com/tts0732/222804338397',\n",
       " 'https://blog.naver.com/footballtransfernews/222807908869',\n",
       " 'https://blog.naver.com/wpalstjd0419/222801487534',\n",
       " 'https://blog.naver.com/whis4676/222818780610',\n",
       " 'https://blog.naver.com/gimmmy/222798792480',\n",
       " 'https://blog.naver.com/hanil-rubber/222816853914',\n",
       " 'https://blog.naver.com/truble97/222805350849',\n",
       " 'https://blog.naver.com/jwc9488/222819481895',\n",
       " 'https://blog.naver.com/7ulyee/222800256714',\n",
       " 'https://sopfa20.tistory.com/332',\n",
       " 'https://blog.naver.com/jinny9415/222787421032',\n",
       " 'https://blog.naver.com/tts0732/222797405653',\n",
       " 'https://blog.naver.com/footballtransfernews/222810488670',\n",
       " 'https://blog.naver.com/whis4676/222804382640',\n",
       " 'https://blog.naver.com/citizen215/222798608210',\n",
       " 'https://blog.naver.com/jwc9488/222819495508',\n",
       " 'https://blog.naver.com/7ulyee/222797908602',\n",
       " 'https://blog.naver.com/tts0732/222784718431',\n",
       " 'https://blog.naver.com/footballtransfernews/222819701543',\n",
       " 'https://blog.naver.com/7ulyee/222805642911',\n",
       " 'https://blog.naver.com/tts0732/222801667128',\n",
       " 'https://blog.naver.com/tts0732/222791797494',\n",
       " 'https://blog.naver.com/whis4676/222812545313',\n",
       " 'https://blog.naver.com/tts0732/222796159008',\n",
       " 'https://blog.naver.com/footballtransfernews/222806625313',\n",
       " 'https://blog.naver.com/tts0732/222782192951',\n",
       " 'https://blog.naver.com/tts0732/222794316448',\n",
       " 'https://blog.naver.com/tts0732/222788214734',\n",
       " 'https://blog.naver.com/tts0732/222800015030',\n",
       " 'https://blog.naver.com/footballtransfernews/222819686771',\n",
       " 'https://blog.naver.com/tts0732/222812516666',\n",
       " 'https://blog.naver.com/whis4676/222785732609',\n",
       " 'https://blog.naver.com/whis4676/222795032614',\n",
       " 'https://blog.naver.com/whis4676/222792045571',\n",
       " 'https://blog.naver.com/whis4676/222788587480',\n",
       " 'https://blog.naver.com/whis4676/222784181391',\n",
       " 'https://blog.naver.com/whis4676/222807331645',\n",
       " 'https://blog.naver.com/whis4676/222803262259',\n",
       " 'https://blog.naver.com/whis4676/222790709807',\n",
       " 'https://blog.naver.com/whis4676/222787043682',\n",
       " 'https://blog.naver.com/whis4676/222792205415',\n",
       " 'https://blog.naver.com/youngheemom/222819514522',\n",
       " 'https://blog.naver.com/movikiller/222820587649',\n",
       " 'https://blog.naver.com/dlsah0585/222813826982',\n",
       " 'https://blog.naver.com/jsw336699/222815362872',\n",
       " 'https://blog.naver.com/xek42u01/222820600323',\n",
       " 'https://blog.naver.com/ktrhoya/222816141281',\n",
       " 'https://blog.naver.com/adjmp6077/222819563042',\n",
       " 'https://blog.naver.com/jsw336699/222805357245',\n",
       " 'https://blog.naver.com/dlsah0585/222802075611',\n",
       " 'https://blog.naver.com/marzi9339/222817204667',\n",
       " 'https://blog.naver.com/truble97/222820699915',\n",
       " 'https://blog.naver.com/kannbin/222784794087',\n",
       " 'https://blog.naver.com/whis4676/222790798737',\n",
       " 'https://blog.naver.com/jsw336699/222798251952',\n",
       " 'https://blog.naver.com/fruitworm/222816046633',\n",
       " 'https://sopfa20.tistory.com/347',\n",
       " 'https://blog.naver.com/truble97/222797388697',\n",
       " 'https://blog.naver.com/fgg7529j/222816895554',\n",
       " 'https://blog.naver.com/truble97/222811506026',\n",
       " 'https://blog.naver.com/jwc9488/222819566386',\n",
       " 'https://blog.naver.com/dlsah0585/222787756305',\n",
       " 'https://blog.naver.com/wpalstjd0419/222817645363',\n",
       " 'https://blog.naver.com/jsw336699/222789413047',\n",
       " 'https://rogo.tistory.com/entry/202223%EC%8B%9C%EC%A6%8C-%EC%97%AC%EB%A6%84-%EC%9D%B4%EC%A0%81%EC%8B%9C%EC%9E%A5%EC%9D%84-%EC%95%8C%EC%95%84%EB%B3%B4%EC%9E%90',\n",
       " 'https://blog.naver.com/a852258a/222807190887',\n",
       " 'https://blog.naver.com/loop-ing20/222812463229',\n",
       " 'https://blog.naver.com/tigrmetal2/222811321385',\n",
       " 'https://blog.naver.com/clefboy/222817298198',\n",
       " 'https://blog.naver.com/7ulyee/222808928226',\n",
       " 'https://blog.naver.com/rebeccajohnsona/222807357329',\n",
       " 'https://blog.naver.com/truble97/222808815263',\n",
       " 'https://blog.naver.com/tmzkdl7856/222804313076',\n",
       " 'https://uisei.tistory.com/385',\n",
       " 'https://blog.naver.com/hoden_0604/222804246331',\n",
       " 'https://blog.naver.com/hoden_0604/222803437431',\n",
       " 'https://blog.naver.com/minjiyun17/222811013487',\n",
       " 'https://blog.naver.com/baengyun/222813753127',\n",
       " 'https://blog.naver.com/iddyd93/222798852130',\n",
       " 'https://blog.naver.com/whis4676/222802594300',\n",
       " 'https://blog.naver.com/cresports/222794759103',\n",
       " 'https://blog.naver.com/truble97/222792382120',\n",
       " 'https://blog.naver.com/chsh0115/222793220657',\n",
       " 'https://blog.daum.net/b11825/4894285',\n",
       " 'https://blog.naver.com/drunkingbk/222811159639',\n",
       " 'https://blog.naver.com/q36485/222794972972',\n",
       " 'https://blog.naver.com/cresports/222785523893',\n",
       " 'https://blog.naver.com/cresports/222788350921',\n",
       " 'https://blog.naver.com/tmzkdl7856/222820466364',\n",
       " 'https://blog.naver.com/cresports/222792145886',\n",
       " 'https://blog.naver.com/boil_7743/222818905790',\n",
       " 'https://blog.naver.com/tmzkdl7856/222784460098',\n",
       " 'https://blog.naver.com/minjiyun17/222808299343',\n",
       " 'https://blog.naver.com/truble97/222801332872',\n",
       " 'https://blog.naver.com/dudtjr625/222807737083',\n",
       " 'https://blog.naver.com/tmzkdl7856/222789150988']"
      ]
     },
     "execution_count": 20,
     "metadata": {},
     "output_type": "execute_result"
    }
   ],
   "source": [
    "# 수집된 url들 확인\n",
    "url_list"
   ]
  },
  {
   "cell_type": "code",
   "execution_count": 21,
   "id": "4f9e818b",
   "metadata": {},
   "outputs": [
    {
     "data": {
      "text/plain": [
       "['해외축구 이적시장 최신업데이트 EPL,프리메라리그,세리에A...',\n",
       " '해외축구 이적시장 상황 정리',\n",
       " '[블챌] 바쁘게 돌아가는 해외축구 이적시장',\n",
       " '해외축구 이적시장 소식 프랭키 데 용 영입을 위해...',\n",
       " '7/18 해외축구 여름이적시장 요약',\n",
       " '2022 유럽 해외축구 이적시장 루머 금일자 정리 Ⅱ.txt',\n",
       " '2022년 해외축구 여름이적시장 중간현황(2022년6월30일까지...',\n",
       " '[6/22] 해외축구 이적시장 루머 정리',\n",
       " '이니에스타 이니에스타 해외축구 등 이적시장 체임벌린...',\n",
       " '해외축구 여름 이적시장 오피셜 및 루머 총정리 (토트넘, 첼시...',\n",
       " '축구 팬들은 기다려지는 해외축구이적',\n",
       " '해외축구 여름 이적시장 새로운 소식 epl, 세리에a...',\n",
       " '해외축구 이적시장 - 히샬리송 토트넘 이적설? 앤서니 고든도?...',\n",
       " '해외축구 이적시장 상황',\n",
       " '[해외축구 이슈] EPL 이적시장 눈여겨볼 영입',\n",
       " '프리미어리그 빅6 이적 영입 상황 (해외축구 이적시장)',\n",
       " '7/19 해외축구 여름이적시장 요약',\n",
       " '2022 유럽 해외축구 이적시장 루머 금일자 정리.txt',\n",
       " '[해외축구 소식] 포그바... + 이적시장의 여포, 맨시티!! ⛴',\n",
       " '[해외축구] 이적시장 가십 소식 전달!',\n",
       " '해외축구 이적시장 소식 로즈 등 베일 대니 아자르 아자르',\n",
       " '[해외축구 주요 빅클럽 이적 시장 행보 알아보기 - 맨시티 편]',\n",
       " '해외축구 이적시장 및 사건사고 업데이트 (토마스파티?) epl 등...',\n",
       " '[가쉽] 220704 해외축구 이적시장 정리(디발라, 베르나르도...',\n",
       " '해외축구 이적시장 상황',\n",
       " '22/23 해외축구 여름 이적시장 - 아스날 영입 오피셜 모음',\n",
       " '[해외축구 이슈] 라리가 이적시장 눈여겨볼 영입',\n",
       " '해외축구 여름이적시장 주요 이적 다시보기',\n",
       " '[해외축구] 호날두 UCL 출전의지,, 맨유에 이적 통보...',\n",
       " '[스포츠] 대한민국 축구 선수들의 이적. 황의조! 황인범! 김민재!...',\n",
       " '[해외축구 소식] 파란색의... + 미궁으로 빠지는 데 용 이적사...',\n",
       " '유럽축구 1 오늘의 이적시장 최대현 체흐',\n",
       " '해외축구 여름 이적시장 22.07.04 현재상황정리(프리미어리그...',\n",
       " '90min 해외축구 이적뉴스(첼시 데리흐트 방출조항 102m 내야할...',\n",
       " '[가쉽] 220624 해외축구 이적시장 정리(레반도프스키, 네이마르...',\n",
       " '[해외축구 이적시장] 오늘의 오피셜!',\n",
       " '22/23 해외축구 여름 이적시장 - 토트넘 영입 오피셜 모음',\n",
       " '7/8 해외축구 여름이적시장 요약',\n",
       " '[The Athletic] 미국 축구... 임대 이적으로 클럽을 떠날 것으로...',\n",
       " '체흐 2018 여름이적시장 최대현 2 유럽축구 2019 오늘의',\n",
       " '해외축구 프리미어리그 이적시장 현재상황 EPL 토트넘...',\n",
       " '해외축구 이적시장 상황',\n",
       " '해외축구 이적시장 오피셜 중간 정리(2) 리버풀 : 다윈 누네즈...',\n",
       " '해외축구 이적시장 epl, 세리에a, 프리메라리가, 분데스리가...',\n",
       " '해외축구 이적시장 상황',\n",
       " '해외축구 이적시장',\n",
       " '7/15 해외축구 여름이적시장 요약',\n",
       " '해외축구 이적시장 상황 정리',\n",
       " '22/23 해외축구 여름 이적시장 - 보루시아 도르트문트 영입...',\n",
       " '해외축구 이적시장 상황',\n",
       " '해외축구 이적시장',\n",
       " '[6/23~25] 해외축구 이적시장 상황 정리',\n",
       " '[해외축구 이적시장] 오늘의 오피셜!',\n",
       " '해외축구 이적시장 오피셜 중간 정리(2) 맨시티 : 엘링 홀란드...',\n",
       " '해외축구 이적시장 상황',\n",
       " '6/22 해외축구 여름이적시장 요약',\n",
       " '6/30 해외축구 여름이적시장 요약',\n",
       " '6/27 해외축구 여름이적시장 요약',\n",
       " '[코마노] 6/24 해외축구 여름이적시장 요약',\n",
       " '6/21 해외축구 여름이적시장 요약',\n",
       " '7/11 해외축구 여름이적시장 요약',\n",
       " '7/7 해외축구 여름이적시장 요약',\n",
       " '6/26 해외축구 여름이적시장 요약',\n",
       " '6/23 해외축구 여름이적시장 요약',\n",
       " '해외 축구 이적시장이 재미있는 이유',\n",
       " '김민재 이적 페네르바체 해외반응 + 이적은 나폴리? 렌?...',\n",
       " '프리미어리그 토트넘 여름 이적 시장 정보 토트넘 손흥민...',\n",
       " '2022 여름 이적시장 중간점검 ③',\n",
       " '[7월 16일] BBC 이적시장 루머 가십 정리 - 호날두, 실바, 진첸코...',\n",
       " '7월20일 해외축구경기일정 여기서',\n",
       " '선수들의 의식 변화, 여름이적시장 상위리그 10명 입단의 결과로!',\n",
       " '여름 이적시장(일류첸코, 히키, 로마뇰리, 로이스-포터, 트린캉...',\n",
       " '[7월 8일] BBC 이적시장 루머 가십 정리 - 마르티네즈, 호날두...',\n",
       " '2022 여름 이적시장 중간점검 ②',\n",
       " '나폴리 이적시장 \" 김민재 영입 근접 \" 정말 나폴리로 가나..?',\n",
       " '[해외축구 소식] 진첸코-아스날 던딜, 데리흐트 to 뮌헨!...',\n",
       " '5대 리그 여름 이적시장 종료일',\n",
       " '[데이비드 온스테인] 지금까지 이적시장 정리 영상 요약',\n",
       " '[7월 2일] BBC 이적시장 루머 가십 정리 - 안토니, 호날두...',\n",
       " '22시즌 여름 이적시장을 마치며',\n",
       " '90min 해외축구 이적뉴스(맨유 호날두 재계약 암시/진첸코...',\n",
       " '[해외축구 소식] 썩던 이가 빠진 첼시, 영입고조! + 히샬리송...',\n",
       " '7월18일 해외축구중계사이트 여기서',\n",
       " '[해외축구 소식] 하피냐 to 바르셀로나 + 첼시, 두 개의 빅 영입!...',\n",
       " '체흐 첼시 해외축구 잉글랜드의 EPL 푸른사자 FC',\n",
       " '2022 여름 이적시장 중간점검 ①',\n",
       " '[해외축구 이슈] 세리에 A 눈여겨볼 영입들',\n",
       " '[6월 25일] BBC 이적시장 루머 가십 정리 - 더리흐트, 호날두, 더...',\n",
       " '2022/23시즌 여름 이적시장을 알아보자',\n",
       " '2022 해외축구 구단가치 순위 TOP5를 알아보자',\n",
       " '[축구] 22/23 시즌 해외축구 개막 일정, 중계 / epl...',\n",
       " '[EU] 해외 축구팬 \"K리그 선수들 수준이 높네. 양현준 정말...',\n",
       " '디나모 키예프 : 페네르바체 <2차 본선 플레이오프> 축구 분석...',\n",
       " '해외축구 유럽역대최고의 공격듀오는? 공격듀오 합작골...',\n",
       " '해외축구중계사이트 기대되는 올 시즌',\n",
       " '[해외축구 소식] 디 마리아, 유벤투스 행! + 로마노, 김민재...',\n",
       " '라이벌 레전드도 엄지 척, \"토트넘, 이적 시장 참 잘 했어요!\"',\n",
       " '맨체스터 시티의 베스트11 더블 스쿼드, 이적시장 중간 정리',\n",
       " '맨시티 스털링, 곧 첼시로 이적 개인 합의는 이미 마무리',\n",
       " '디 마리아 유벤투스로 HERE WE GO 유벤투스로 이적 임박',\n",
       " '07.14 해외축구 소식 요약',\n",
       " '[오피셜] 칼리두 쿨리발리, 첼시 이적 2026년까지 계약',\n",
       " '해외축구, 토트넘의 미~친 영업소식 정리',\n",
       " '셰필드 아넬 아메드호지치 이적 계약 예정(FM2021...',\n",
       " '22-23 시즌 토트넘 이적 시장 정리 ④ - <크리스티안 에릭센...',\n",
       " '[해외축구 소식] 베일 to LA + 움직이기 시작하는 뉴캐슬...',\n",
       " 'epl 이적료 연봉 주급 브라질 축구국가대표선수 나이 프로필...',\n",
       " '7. 10. 일요일의 해외축구 가십 - 포든, 캉테, 에릭센, 디발라',\n",
       " '쿨리발리의 첼시이적유력과 김민재선수의 거취',\n",
       " '2022 해외축구 구단가치 순위 TOP10에 대해 알아보자',\n",
       " '22-23 시즌 토트넘 이적 시장 정리 ① - <프레이저 포스터...',\n",
       " '22-23 시즌 토트넘 이적 시장 정리 ② - <알렉산드로 바스토니...',\n",
       " '첼시, 쿤데에 새 제안... 세비야가 거절한 지 하루 만에 넣었다!',\n",
       " '22-23 시즌 토트넘 이적 시장 정리 ③ - <히샬리송, 하피냐>',\n",
       " '더운 여름에도 놓칠 수 없는 해외스포츠중계',\n",
       " \"이적 총괄' 그라놉스카야 사임... 이적 시장 종료 후 결별 예정!\",\n",
       " '07.12 해외축구 소식 요약',\n",
       " '[해외축구 소식] 제주스, 아스날 here we go! + 토트넘, 랑글레...',\n",
       " '2022년 7월 11일 해외축구 가십[해리 케인, 로베르트...',\n",
       " '[오피셜] 가레스 베일, 로스 앤젤레스 FC 이적 완료!']"
      ]
     },
     "execution_count": 21,
     "metadata": {},
     "output_type": "execute_result"
    }
   ],
   "source": [
    "# 수집된 블로그 제목 확인\n",
    "title_list"
   ]
  },
  {
   "cell_type": "code",
   "execution_count": 22,
   "id": "b9ef9eff",
   "metadata": {},
   "outputs": [
    {
     "data": {
      "text/html": [
       "<div>\n",
       "<style scoped>\n",
       "    .dataframe tbody tr th:only-of-type {\n",
       "        vertical-align: middle;\n",
       "    }\n",
       "\n",
       "    .dataframe tbody tr th {\n",
       "        vertical-align: top;\n",
       "    }\n",
       "\n",
       "    .dataframe thead th {\n",
       "        text-align: right;\n",
       "    }\n",
       "</style>\n",
       "<table border=\"1\" class=\"dataframe\">\n",
       "  <thead>\n",
       "    <tr style=\"text-align: right;\">\n",
       "      <th></th>\n",
       "      <th>url</th>\n",
       "      <th>title</th>\n",
       "    </tr>\n",
       "  </thead>\n",
       "  <tbody>\n",
       "    <tr>\n",
       "      <th>0</th>\n",
       "      <td>https://blog.naver.com/7ulyee/222813310047</td>\n",
       "      <td>해외축구 이적시장 최신업데이트 EPL,프리메라리그,세리에A...</td>\n",
       "    </tr>\n",
       "    <tr>\n",
       "      <th>1</th>\n",
       "      <td>https://blog.naver.com/tts0732/222820574388</td>\n",
       "      <td>해외축구 이적시장 상황 정리</td>\n",
       "    </tr>\n",
       "    <tr>\n",
       "      <th>2</th>\n",
       "      <td>https://blog.naver.com/masterofrichpark/222805...</td>\n",
       "      <td>[블챌] 바쁘게 돌아가는 해외축구 이적시장</td>\n",
       "    </tr>\n",
       "    <tr>\n",
       "      <th>3</th>\n",
       "      <td>https://blog.naver.com/z2inny/222808892639</td>\n",
       "      <td>해외축구 이적시장 소식 프랭키 데 용 영입을 위해...</td>\n",
       "    </tr>\n",
       "    <tr>\n",
       "      <th>4</th>\n",
       "      <td>https://blog.naver.com/whis4676/222817185659</td>\n",
       "      <td>7/18 해외축구 여름이적시장 요약</td>\n",
       "    </tr>\n",
       "    <tr>\n",
       "      <th>...</th>\n",
       "      <td>...</td>\n",
       "      <td>...</td>\n",
       "    </tr>\n",
       "    <tr>\n",
       "      <th>115</th>\n",
       "      <td>https://blog.naver.com/tmzkdl7856/222784460098</td>\n",
       "      <td>이적 총괄' 그라놉스카야 사임... 이적 시장 종료 후 결별 예정!</td>\n",
       "    </tr>\n",
       "    <tr>\n",
       "      <th>116</th>\n",
       "      <td>https://blog.naver.com/minjiyun17/222808299343</td>\n",
       "      <td>07.12 해외축구 소식 요약</td>\n",
       "    </tr>\n",
       "    <tr>\n",
       "      <th>117</th>\n",
       "      <td>https://blog.naver.com/truble97/222801332872</td>\n",
       "      <td>[해외축구 소식] 제주스, 아스날 here we go! + 토트넘, 랑글레...</td>\n",
       "    </tr>\n",
       "    <tr>\n",
       "      <th>118</th>\n",
       "      <td>https://blog.naver.com/dudtjr625/222807737083</td>\n",
       "      <td>2022년 7월 11일 해외축구 가십[해리 케인, 로베르트...</td>\n",
       "    </tr>\n",
       "    <tr>\n",
       "      <th>119</th>\n",
       "      <td>https://blog.naver.com/tmzkdl7856/222789150988</td>\n",
       "      <td>[오피셜] 가레스 베일, 로스 앤젤레스 FC 이적 완료!</td>\n",
       "    </tr>\n",
       "  </tbody>\n",
       "</table>\n",
       "<p>120 rows × 2 columns</p>\n",
       "</div>"
      ],
      "text/plain": [
       "                                                   url  \\\n",
       "0           https://blog.naver.com/7ulyee/222813310047   \n",
       "1          https://blog.naver.com/tts0732/222820574388   \n",
       "2    https://blog.naver.com/masterofrichpark/222805...   \n",
       "3           https://blog.naver.com/z2inny/222808892639   \n",
       "4         https://blog.naver.com/whis4676/222817185659   \n",
       "..                                                 ...   \n",
       "115     https://blog.naver.com/tmzkdl7856/222784460098   \n",
       "116     https://blog.naver.com/minjiyun17/222808299343   \n",
       "117       https://blog.naver.com/truble97/222801332872   \n",
       "118      https://blog.naver.com/dudtjr625/222807737083   \n",
       "119     https://blog.naver.com/tmzkdl7856/222789150988   \n",
       "\n",
       "                                            title  \n",
       "0             해외축구 이적시장 최신업데이트 EPL,프리메라리그,세리에A...  \n",
       "1                                 해외축구 이적시장 상황 정리  \n",
       "2                         [블챌] 바쁘게 돌아가는 해외축구 이적시장  \n",
       "3                  해외축구 이적시장 소식 프랭키 데 용 영입을 위해...  \n",
       "4                             7/18 해외축구 여름이적시장 요약  \n",
       "..                                            ...  \n",
       "115         이적 총괄' 그라놉스카야 사임... 이적 시장 종료 후 결별 예정!  \n",
       "116                              07.12 해외축구 소식 요약  \n",
       "117  [해외축구 소식] 제주스, 아스날 here we go! + 토트넘, 랑글레...  \n",
       "118           2022년 7월 11일 해외축구 가십[해리 케인, 로베르트...  \n",
       "119               [오피셜] 가레스 베일, 로스 앤젤레스 FC 이적 완료!  \n",
       "\n",
       "[120 rows x 2 columns]"
      ]
     },
     "execution_count": 22,
     "metadata": {},
     "output_type": "execute_result"
    }
   ],
   "source": [
    "# 수집된 url_list, title_list로 판다스 데이터프레임 만들기\n",
    "df = pd.DataFrame({'url':url_list, 'title':title_list})\n",
    "df"
   ]
  },
  {
   "cell_type": "code",
   "execution_count": 23,
   "id": "b5a7a9e7",
   "metadata": {},
   "outputs": [
    {
     "data": {
      "text/plain": [
       "'/Users/krc/TIL/RS/crawling'"
      ]
     },
     "execution_count": 23,
     "metadata": {},
     "output_type": "execute_result"
    }
   ],
   "source": [
    "pwd"
   ]
  },
  {
   "cell_type": "markdown",
   "id": "d5b9e70f",
   "metadata": {},
   "source": [
    "# 2. 블로그 내용 크롤링하기"
   ]
  },
  {
   "cell_type": "code",
   "execution_count": 25,
   "id": "6f0e7e09",
   "metadata": {},
   "outputs": [],
   "source": [
    "import sys\n",
    "import os\n",
    "import pandas as pd\n",
    "import numpy as np"
   ]
  },
  {
   "cell_type": "code",
   "execution_count": 26,
   "id": "0d3a9121",
   "metadata": {},
   "outputs": [
    {
     "name": "stdout",
     "output_type": "stream",
     "text": [
      "120\n"
     ]
    },
    {
     "data": {
      "text/html": [
       "<div>\n",
       "<style scoped>\n",
       "    .dataframe tbody tr th:only-of-type {\n",
       "        vertical-align: middle;\n",
       "    }\n",
       "\n",
       "    .dataframe tbody tr th {\n",
       "        vertical-align: top;\n",
       "    }\n",
       "\n",
       "    .dataframe thead th {\n",
       "        text-align: right;\n",
       "    }\n",
       "</style>\n",
       "<table border=\"1\" class=\"dataframe\">\n",
       "  <thead>\n",
       "    <tr style=\"text-align: right;\">\n",
       "      <th></th>\n",
       "      <th>url</th>\n",
       "      <th>title</th>\n",
       "    </tr>\n",
       "  </thead>\n",
       "  <tbody>\n",
       "    <tr>\n",
       "      <th>0</th>\n",
       "      <td>https://blog.naver.com/7ulyee/222813310047</td>\n",
       "      <td>해외축구 이적시장 최신업데이트 EPL,프리메라리그,세리에A...</td>\n",
       "    </tr>\n",
       "    <tr>\n",
       "      <th>1</th>\n",
       "      <td>https://blog.naver.com/masterofrichpark/222805...</td>\n",
       "      <td>[블챌] 바쁘게 돌아가는 해외축구 이적시장</td>\n",
       "    </tr>\n",
       "    <tr>\n",
       "      <th>2</th>\n",
       "      <td>https://blog.naver.com/tts0732/222798413460</td>\n",
       "      <td>해외축구 이적시장 상황</td>\n",
       "    </tr>\n",
       "    <tr>\n",
       "      <th>3</th>\n",
       "      <td>https://blog.naver.com/z2inny/222808892639</td>\n",
       "      <td>해외축구 이적시장 소식 프랭키 데 용 영입을 위해...</td>\n",
       "    </tr>\n",
       "    <tr>\n",
       "      <th>4</th>\n",
       "      <td>https://blog.naver.com/whis4676/222804382640</td>\n",
       "      <td>7/8 해외축구 여름이적시장 요약</td>\n",
       "    </tr>\n",
       "    <tr>\n",
       "      <th>...</th>\n",
       "      <td>...</td>\n",
       "      <td>...</td>\n",
       "    </tr>\n",
       "    <tr>\n",
       "      <th>115</th>\n",
       "      <td>https://blog.naver.com/tmzkdl7856/222816269787</td>\n",
       "      <td>[오피셜] 맨유, 리산드로 마르티네스 영입!</td>\n",
       "    </tr>\n",
       "    <tr>\n",
       "      <th>116</th>\n",
       "      <td>https://blog.naver.com/capitalism8282/22280612...</td>\n",
       "      <td>해축갤의 해축팬이라면 축구팀과 기업의 스폰서 계약과...</td>\n",
       "    </tr>\n",
       "    <tr>\n",
       "      <th>117</th>\n",
       "      <td>https://blog.naver.com/happyh5577/222799514267</td>\n",
       "      <td>한국에 온다. 쿠팡플레이 티켓 예매 세비야 K리그 축구 일정</td>\n",
       "    </tr>\n",
       "    <tr>\n",
       "      <th>118</th>\n",
       "      <td>https://blog.naver.com/tmzkdl7856/222794629799</td>\n",
       "      <td>\"불행 하면 떠날 수 밖에\" 제주스→스털링 이적에 '쿨'한 펩!</td>\n",
       "    </tr>\n",
       "    <tr>\n",
       "      <th>119</th>\n",
       "      <td>https://blog.naver.com/zhzkzhffkrha-/222816825966</td>\n",
       "      <td>바르셀로나 레반도프스키 영입 발표 크리스텐센 하피냐 케시에...</td>\n",
       "    </tr>\n",
       "  </tbody>\n",
       "</table>\n",
       "<p>120 rows × 2 columns</p>\n",
       "</div>"
      ],
      "text/plain": [
       "                                                   url  \\\n",
       "0           https://blog.naver.com/7ulyee/222813310047   \n",
       "1    https://blog.naver.com/masterofrichpark/222805...   \n",
       "2          https://blog.naver.com/tts0732/222798413460   \n",
       "3           https://blog.naver.com/z2inny/222808892639   \n",
       "4         https://blog.naver.com/whis4676/222804382640   \n",
       "..                                                 ...   \n",
       "115     https://blog.naver.com/tmzkdl7856/222816269787   \n",
       "116  https://blog.naver.com/capitalism8282/22280612...   \n",
       "117     https://blog.naver.com/happyh5577/222799514267   \n",
       "118     https://blog.naver.com/tmzkdl7856/222794629799   \n",
       "119  https://blog.naver.com/zhzkzhffkrha-/222816825966   \n",
       "\n",
       "                                   title  \n",
       "0    해외축구 이적시장 최신업데이트 EPL,프리메라리그,세리에A...  \n",
       "1                [블챌] 바쁘게 돌아가는 해외축구 이적시장  \n",
       "2                           해외축구 이적시장 상황  \n",
       "3         해외축구 이적시장 소식 프랭키 데 용 영입을 위해...  \n",
       "4                     7/8 해외축구 여름이적시장 요약  \n",
       "..                                   ...  \n",
       "115             [오피셜] 맨유, 리산드로 마르티네스 영입!  \n",
       "116      해축갤의 해축팬이라면 축구팀과 기업의 스폰서 계약과...  \n",
       "117    한국에 온다. 쿠팡플레이 티켓 예매 세비야 K리그 축구 일정  \n",
       "118  \"불행 하면 떠날 수 밖에\" 제주스→스털링 이적에 '쿨'한 펩!  \n",
       "119  바르셀로나 레반도프스키 영입 발표 크리스텐센 하피냐 케시에...  \n",
       "\n",
       "[120 rows x 2 columns]"
      ]
     },
     "execution_count": 26,
     "metadata": {},
     "output_type": "execute_result"
    }
   ],
   "source": [
    "# \"url_list.csv\" 불러오기\n",
    "url_load = pd.read_csv(\"blog_url.csv\")\n",
    "url_load = url_load.drop(\"Unnamed: 0\", axis=1)  # 불필요한 칼럼 삭제\n",
    "\n",
    "num_list = len(url_load)\n",
    "\n",
    "print(num_list)\n",
    "url_load"
   ]
  },
  {
   "cell_type": "code",
   "execution_count": 27,
   "id": "637bb95e",
   "metadata": {},
   "outputs": [
    {
     "data": {
      "text/plain": [
       "0             https://blog.naver.com/7ulyee/222813310047\n",
       "1      https://blog.naver.com/masterofrichpark/222805...\n",
       "2            https://blog.naver.com/tts0732/222798413460\n",
       "3             https://blog.naver.com/z2inny/222808892639\n",
       "4           https://blog.naver.com/whis4676/222804382640\n",
       "                             ...                        \n",
       "115       https://blog.naver.com/tmzkdl7856/222816269787\n",
       "116    https://blog.naver.com/capitalism8282/22280612...\n",
       "117       https://blog.naver.com/happyh5577/222799514267\n",
       "118       https://blog.naver.com/tmzkdl7856/222794629799\n",
       "119    https://blog.naver.com/zhzkzhffkrha-/222816825966\n",
       "Name: url, Length: 120, dtype: object"
      ]
     },
     "execution_count": 27,
     "metadata": {},
     "output_type": "execute_result"
    }
   ],
   "source": [
    "url_load['url']"
   ]
  },
  {
   "cell_type": "code",
   "execution_count": 53,
   "id": "f08762ee",
   "metadata": {},
   "outputs": [],
   "source": [
    "# 글 하나 띄우기\n",
    "i = 1\n",
    "url = 'https://movie.naver.com/movie/point/af/list.naver?&page=1'\n",
    "driver = webdriver.Chrome(chrome_path, options=options)\n",
    "driver.get(url)   # 글 띄우기"
   ]
  },
  {
   "cell_type": "code",
   "execution_count": 55,
   "id": "422f6226",
   "metadata": {
    "scrolled": true
   },
   "outputs": [
    {
     "ename": "NoSuchFrameException",
     "evalue": "Message: mainFrame\n",
     "output_type": "error",
     "traceback": [
      "\u001b[0;31m---------------------------------------------------------------------------\u001b[0m",
      "\u001b[0;31mNoSuchElementException\u001b[0m                    Traceback (most recent call last)",
      "File \u001b[0;32m~/miniforge3/envs/dl/lib/python3.8/site-packages/selenium/webdriver/remote/switch_to.py:87\u001b[0m, in \u001b[0;36mSwitchTo.frame\u001b[0;34m(self, frame_reference)\u001b[0m\n\u001b[1;32m     86\u001b[0m \u001b[38;5;28;01mtry\u001b[39;00m:\n\u001b[0;32m---> 87\u001b[0m     frame_reference \u001b[38;5;241m=\u001b[39m \u001b[38;5;28;43mself\u001b[39;49m\u001b[38;5;241;43m.\u001b[39;49m\u001b[43m_driver\u001b[49m\u001b[38;5;241;43m.\u001b[39;49m\u001b[43mfind_element\u001b[49m\u001b[43m(\u001b[49m\u001b[43mBy\u001b[49m\u001b[38;5;241;43m.\u001b[39;49m\u001b[43mID\u001b[49m\u001b[43m,\u001b[49m\u001b[43m \u001b[49m\u001b[43mframe_reference\u001b[49m\u001b[43m)\u001b[49m\n\u001b[1;32m     88\u001b[0m \u001b[38;5;28;01mexcept\u001b[39;00m NoSuchElementException:\n",
      "File \u001b[0;32m~/miniforge3/envs/dl/lib/python3.8/site-packages/selenium/webdriver/remote/webdriver.py:1238\u001b[0m, in \u001b[0;36mWebDriver.find_element\u001b[0;34m(self, by, value)\u001b[0m\n\u001b[1;32m   1236\u001b[0m     value \u001b[38;5;241m=\u001b[39m \u001b[38;5;124m'\u001b[39m\u001b[38;5;124m[name=\u001b[39m\u001b[38;5;124m\"\u001b[39m\u001b[38;5;132;01m%s\u001b[39;00m\u001b[38;5;124m\"\u001b[39m\u001b[38;5;124m]\u001b[39m\u001b[38;5;124m'\u001b[39m \u001b[38;5;241m%\u001b[39m value\n\u001b[0;32m-> 1238\u001b[0m \u001b[38;5;28;01mreturn\u001b[39;00m \u001b[38;5;28;43mself\u001b[39;49m\u001b[38;5;241;43m.\u001b[39;49m\u001b[43mexecute\u001b[49m\u001b[43m(\u001b[49m\u001b[43mCommand\u001b[49m\u001b[38;5;241;43m.\u001b[39;49m\u001b[43mFIND_ELEMENT\u001b[49m\u001b[43m,\u001b[49m\u001b[43m \u001b[49m\u001b[43m{\u001b[49m\n\u001b[1;32m   1239\u001b[0m \u001b[43m    \u001b[49m\u001b[38;5;124;43m'\u001b[39;49m\u001b[38;5;124;43musing\u001b[39;49m\u001b[38;5;124;43m'\u001b[39;49m\u001b[43m:\u001b[49m\u001b[43m \u001b[49m\u001b[43mby\u001b[49m\u001b[43m,\u001b[49m\n\u001b[1;32m   1240\u001b[0m \u001b[43m    \u001b[49m\u001b[38;5;124;43m'\u001b[39;49m\u001b[38;5;124;43mvalue\u001b[39;49m\u001b[38;5;124;43m'\u001b[39;49m\u001b[43m:\u001b[49m\u001b[43m \u001b[49m\u001b[43mvalue\u001b[49m\u001b[43m}\u001b[49m\u001b[43m)\u001b[49m[\u001b[38;5;124m'\u001b[39m\u001b[38;5;124mvalue\u001b[39m\u001b[38;5;124m'\u001b[39m]\n",
      "File \u001b[0;32m~/miniforge3/envs/dl/lib/python3.8/site-packages/selenium/webdriver/remote/webdriver.py:418\u001b[0m, in \u001b[0;36mWebDriver.execute\u001b[0;34m(self, driver_command, params)\u001b[0m\n\u001b[1;32m    417\u001b[0m \u001b[38;5;28;01mif\u001b[39;00m response:\n\u001b[0;32m--> 418\u001b[0m     \u001b[38;5;28;43mself\u001b[39;49m\u001b[38;5;241;43m.\u001b[39;49m\u001b[43merror_handler\u001b[49m\u001b[38;5;241;43m.\u001b[39;49m\u001b[43mcheck_response\u001b[49m\u001b[43m(\u001b[49m\u001b[43mresponse\u001b[49m\u001b[43m)\u001b[49m\n\u001b[1;32m    419\u001b[0m     response[\u001b[38;5;124m'\u001b[39m\u001b[38;5;124mvalue\u001b[39m\u001b[38;5;124m'\u001b[39m] \u001b[38;5;241m=\u001b[39m \u001b[38;5;28mself\u001b[39m\u001b[38;5;241m.\u001b[39m_unwrap_value(\n\u001b[1;32m    420\u001b[0m         response\u001b[38;5;241m.\u001b[39mget(\u001b[38;5;124m'\u001b[39m\u001b[38;5;124mvalue\u001b[39m\u001b[38;5;124m'\u001b[39m, \u001b[38;5;28;01mNone\u001b[39;00m))\n",
      "File \u001b[0;32m~/miniforge3/envs/dl/lib/python3.8/site-packages/selenium/webdriver/remote/errorhandler.py:243\u001b[0m, in \u001b[0;36mErrorHandler.check_response\u001b[0;34m(self, response)\u001b[0m\n\u001b[1;32m    242\u001b[0m     \u001b[38;5;28;01mraise\u001b[39;00m exception_class(message, screen, stacktrace, alert_text)  \u001b[38;5;66;03m# type: ignore[call-arg]  # mypy is not smart enough here\u001b[39;00m\n\u001b[0;32m--> 243\u001b[0m \u001b[38;5;28;01mraise\u001b[39;00m exception_class(message, screen, stacktrace)\n",
      "\u001b[0;31mNoSuchElementException\u001b[0m: Message: no such element: Unable to locate element: {\"method\":\"css selector\",\"selector\":\"[id=\"mainFrame\"]\"}\n  (Session info: chrome=103.0.5060.114)\nStacktrace:\n0   chromedriver                        0x000000010104f0f9 chromedriver + 4448505\n1   chromedriver                        0x0000000100fdaf73 chromedriver + 3972979\n2   chromedriver                        0x0000000100c75268 chromedriver + 410216\n3   chromedriver                        0x0000000100cab52d chromedriver + 632109\n4   chromedriver                        0x0000000100cab7b1 chromedriver + 632753\n5   chromedriver                        0x0000000100cdd784 chromedriver + 837508\n6   chromedriver                        0x0000000100cc8a3d chromedriver + 752189\n7   chromedriver                        0x0000000100cdb4a1 chromedriver + 828577\n8   chromedriver                        0x0000000100cc8903 chromedriver + 751875\n9   chromedriver                        0x0000000100c9ec55 chromedriver + 580693\n10  chromedriver                        0x0000000100c9fca5 chromedriver + 584869\n11  chromedriver                        0x000000010102045d chromedriver + 4256861\n12  chromedriver                        0x00000001010253dd chromedriver + 4277213\n13  chromedriver                        0x000000010102a35f chromedriver + 4297567\n14  chromedriver                        0x000000010102603a chromedriver + 4280378\n15  chromedriver                        0x0000000100fff86f chromedriver + 4122735\n16  chromedriver                        0x0000000101040448 chromedriver + 4387912\n17  chromedriver                        0x00000001010405cf chromedriver + 4388303\n18  chromedriver                        0x0000000101056545 chromedriver + 4478277\n19  libsystem_pthread.dylib             0x00007ff8108394e1 _pthread_start + 125\n20  libsystem_pthread.dylib             0x00007ff810834f6b thread_start + 15\n",
      "\nDuring handling of the above exception, another exception occurred:\n",
      "\u001b[0;31mNoSuchElementException\u001b[0m                    Traceback (most recent call last)",
      "File \u001b[0;32m~/miniforge3/envs/dl/lib/python3.8/site-packages/selenium/webdriver/remote/switch_to.py:90\u001b[0m, in \u001b[0;36mSwitchTo.frame\u001b[0;34m(self, frame_reference)\u001b[0m\n\u001b[1;32m     89\u001b[0m \u001b[38;5;28;01mtry\u001b[39;00m:\n\u001b[0;32m---> 90\u001b[0m     frame_reference \u001b[38;5;241m=\u001b[39m \u001b[38;5;28;43mself\u001b[39;49m\u001b[38;5;241;43m.\u001b[39;49m\u001b[43m_driver\u001b[49m\u001b[38;5;241;43m.\u001b[39;49m\u001b[43mfind_element\u001b[49m\u001b[43m(\u001b[49m\u001b[43mBy\u001b[49m\u001b[38;5;241;43m.\u001b[39;49m\u001b[43mNAME\u001b[49m\u001b[43m,\u001b[49m\u001b[43m \u001b[49m\u001b[43mframe_reference\u001b[49m\u001b[43m)\u001b[49m\n\u001b[1;32m     91\u001b[0m \u001b[38;5;28;01mexcept\u001b[39;00m NoSuchElementException:\n",
      "File \u001b[0;32m~/miniforge3/envs/dl/lib/python3.8/site-packages/selenium/webdriver/remote/webdriver.py:1238\u001b[0m, in \u001b[0;36mWebDriver.find_element\u001b[0;34m(self, by, value)\u001b[0m\n\u001b[1;32m   1236\u001b[0m     value \u001b[38;5;241m=\u001b[39m \u001b[38;5;124m'\u001b[39m\u001b[38;5;124m[name=\u001b[39m\u001b[38;5;124m\"\u001b[39m\u001b[38;5;132;01m%s\u001b[39;00m\u001b[38;5;124m\"\u001b[39m\u001b[38;5;124m]\u001b[39m\u001b[38;5;124m'\u001b[39m \u001b[38;5;241m%\u001b[39m value\n\u001b[0;32m-> 1238\u001b[0m \u001b[38;5;28;01mreturn\u001b[39;00m \u001b[38;5;28;43mself\u001b[39;49m\u001b[38;5;241;43m.\u001b[39;49m\u001b[43mexecute\u001b[49m\u001b[43m(\u001b[49m\u001b[43mCommand\u001b[49m\u001b[38;5;241;43m.\u001b[39;49m\u001b[43mFIND_ELEMENT\u001b[49m\u001b[43m,\u001b[49m\u001b[43m \u001b[49m\u001b[43m{\u001b[49m\n\u001b[1;32m   1239\u001b[0m \u001b[43m    \u001b[49m\u001b[38;5;124;43m'\u001b[39;49m\u001b[38;5;124;43musing\u001b[39;49m\u001b[38;5;124;43m'\u001b[39;49m\u001b[43m:\u001b[49m\u001b[43m \u001b[49m\u001b[43mby\u001b[49m\u001b[43m,\u001b[49m\n\u001b[1;32m   1240\u001b[0m \u001b[43m    \u001b[49m\u001b[38;5;124;43m'\u001b[39;49m\u001b[38;5;124;43mvalue\u001b[39;49m\u001b[38;5;124;43m'\u001b[39;49m\u001b[43m:\u001b[49m\u001b[43m \u001b[49m\u001b[43mvalue\u001b[49m\u001b[43m}\u001b[49m\u001b[43m)\u001b[49m[\u001b[38;5;124m'\u001b[39m\u001b[38;5;124mvalue\u001b[39m\u001b[38;5;124m'\u001b[39m]\n",
      "File \u001b[0;32m~/miniforge3/envs/dl/lib/python3.8/site-packages/selenium/webdriver/remote/webdriver.py:418\u001b[0m, in \u001b[0;36mWebDriver.execute\u001b[0;34m(self, driver_command, params)\u001b[0m\n\u001b[1;32m    417\u001b[0m \u001b[38;5;28;01mif\u001b[39;00m response:\n\u001b[0;32m--> 418\u001b[0m     \u001b[38;5;28;43mself\u001b[39;49m\u001b[38;5;241;43m.\u001b[39;49m\u001b[43merror_handler\u001b[49m\u001b[38;5;241;43m.\u001b[39;49m\u001b[43mcheck_response\u001b[49m\u001b[43m(\u001b[49m\u001b[43mresponse\u001b[49m\u001b[43m)\u001b[49m\n\u001b[1;32m    419\u001b[0m     response[\u001b[38;5;124m'\u001b[39m\u001b[38;5;124mvalue\u001b[39m\u001b[38;5;124m'\u001b[39m] \u001b[38;5;241m=\u001b[39m \u001b[38;5;28mself\u001b[39m\u001b[38;5;241m.\u001b[39m_unwrap_value(\n\u001b[1;32m    420\u001b[0m         response\u001b[38;5;241m.\u001b[39mget(\u001b[38;5;124m'\u001b[39m\u001b[38;5;124mvalue\u001b[39m\u001b[38;5;124m'\u001b[39m, \u001b[38;5;28;01mNone\u001b[39;00m))\n",
      "File \u001b[0;32m~/miniforge3/envs/dl/lib/python3.8/site-packages/selenium/webdriver/remote/errorhandler.py:243\u001b[0m, in \u001b[0;36mErrorHandler.check_response\u001b[0;34m(self, response)\u001b[0m\n\u001b[1;32m    242\u001b[0m     \u001b[38;5;28;01mraise\u001b[39;00m exception_class(message, screen, stacktrace, alert_text)  \u001b[38;5;66;03m# type: ignore[call-arg]  # mypy is not smart enough here\u001b[39;00m\n\u001b[0;32m--> 243\u001b[0m \u001b[38;5;28;01mraise\u001b[39;00m exception_class(message, screen, stacktrace)\n",
      "\u001b[0;31mNoSuchElementException\u001b[0m: Message: no such element: Unable to locate element: {\"method\":\"css selector\",\"selector\":\"[name=\"mainFrame\"]\"}\n  (Session info: chrome=103.0.5060.114)\nStacktrace:\n0   chromedriver                        0x000000010104f0f9 chromedriver + 4448505\n1   chromedriver                        0x0000000100fdaf73 chromedriver + 3972979\n2   chromedriver                        0x0000000100c75268 chromedriver + 410216\n3   chromedriver                        0x0000000100cab52d chromedriver + 632109\n4   chromedriver                        0x0000000100cab7b1 chromedriver + 632753\n5   chromedriver                        0x0000000100cdd784 chromedriver + 837508\n6   chromedriver                        0x0000000100cc8a3d chromedriver + 752189\n7   chromedriver                        0x0000000100cdb4a1 chromedriver + 828577\n8   chromedriver                        0x0000000100cc8903 chromedriver + 751875\n9   chromedriver                        0x0000000100c9ec55 chromedriver + 580693\n10  chromedriver                        0x0000000100c9fca5 chromedriver + 584869\n11  chromedriver                        0x000000010102045d chromedriver + 4256861\n12  chromedriver                        0x00000001010253dd chromedriver + 4277213\n13  chromedriver                        0x000000010102a35f chromedriver + 4297567\n14  chromedriver                        0x000000010102603a chromedriver + 4280378\n15  chromedriver                        0x0000000100fff86f chromedriver + 4122735\n16  chromedriver                        0x0000000101040448 chromedriver + 4387912\n17  chromedriver                        0x00000001010405cf chromedriver + 4388303\n18  chromedriver                        0x0000000101056545 chromedriver + 4478277\n19  libsystem_pthread.dylib             0x00007ff8108394e1 _pthread_start + 125\n20  libsystem_pthread.dylib             0x00007ff810834f6b thread_start + 15\n",
      "\nDuring handling of the above exception, another exception occurred:\n",
      "\u001b[0;31mNoSuchFrameException\u001b[0m                      Traceback (most recent call last)",
      "Input \u001b[0;32mIn [55]\u001b[0m, in \u001b[0;36m<cell line: 2>\u001b[0;34m()\u001b[0m\n\u001b[1;32m      1\u001b[0m \u001b[38;5;66;03m# iframe 접근\u001b[39;00m\n\u001b[0;32m----> 2\u001b[0m \u001b[43mdriver\u001b[49m\u001b[38;5;241;43m.\u001b[39;49m\u001b[43mswitch_to\u001b[49m\u001b[38;5;241;43m.\u001b[39;49m\u001b[43mframe\u001b[49m\u001b[43m(\u001b[49m\u001b[38;5;124;43m'\u001b[39;49m\u001b[38;5;124;43mmainFrame\u001b[39;49m\u001b[38;5;124;43m'\u001b[39;49m\u001b[43m)\u001b[49m\n",
      "File \u001b[0;32m~/miniforge3/envs/dl/lib/python3.8/site-packages/selenium/webdriver/remote/switch_to.py:92\u001b[0m, in \u001b[0;36mSwitchTo.frame\u001b[0;34m(self, frame_reference)\u001b[0m\n\u001b[1;32m     90\u001b[0m             frame_reference \u001b[38;5;241m=\u001b[39m \u001b[38;5;28mself\u001b[39m\u001b[38;5;241m.\u001b[39m_driver\u001b[38;5;241m.\u001b[39mfind_element(By\u001b[38;5;241m.\u001b[39mNAME, frame_reference)\n\u001b[1;32m     91\u001b[0m         \u001b[38;5;28;01mexcept\u001b[39;00m NoSuchElementException:\n\u001b[0;32m---> 92\u001b[0m             \u001b[38;5;28;01mraise\u001b[39;00m NoSuchFrameException(frame_reference)\n\u001b[1;32m     94\u001b[0m \u001b[38;5;28mself\u001b[39m\u001b[38;5;241m.\u001b[39m_driver\u001b[38;5;241m.\u001b[39mexecute(Command\u001b[38;5;241m.\u001b[39mSWITCH_TO_FRAME, {\u001b[38;5;124m'\u001b[39m\u001b[38;5;124mid\u001b[39m\u001b[38;5;124m'\u001b[39m: frame_reference})\n",
      "\u001b[0;31mNoSuchFrameException\u001b[0m: Message: mainFrame\n"
     ]
    }
   ],
   "source": [
    "# iframe 접근\n",
    "driver.switch_to.frame('mainFrame')"
   ]
  },
  {
   "cell_type": "code",
   "execution_count": 56,
   "id": "d4a17762",
   "metadata": {},
   "outputs": [],
   "source": [
    "dict = {}\n",
    "target_info = {}  # 개별 블로그 내용을 담을 딕셔너리 생성"
   ]
  },
  {
   "cell_type": "code",
   "execution_count": 57,
   "id": "d74e2c51",
   "metadata": {},
   "outputs": [
    {
     "data": {
      "text/plain": [
       "'외계+인 1부'"
      ]
     },
     "execution_count": 57,
     "metadata": {},
     "output_type": "execute_result"
    }
   ],
   "source": [
    "# 영화 제목 크롤링 시작\n",
    "overlays = \".movie.color_b\"                                 \n",
    "tit = driver.find_element_by_css_selector(overlays)          # title\n",
    "title = tit.text\n",
    "title"
   ]
  },
  {
   "cell_type": "code",
   "execution_count": 90,
   "id": "e59a1356",
   "metadata": {},
   "outputs": [
    {
     "data": {
      "text/plain": [
       "'지금까지봤던 한국영화중 제일 세련된 sf!!!연기좋고, 볼거리 많았음.내용은 보다보면 이해됨 신고'"
      ]
     },
     "execution_count": 90,
     "metadata": {},
     "output_type": "execute_result"
    }
   ],
   "source": [
    "# 리뷰 크롤링\n",
    "overlays = \".title\"                                 \n",
    "review = driver.find_elements_by_css_selector(overlays)    # contents\n",
    "review = review[0].text[24:]\n",
    "review"
   ]
  },
  {
   "cell_type": "code",
   "execution_count": 88,
   "id": "3d07d7b2",
   "metadata": {},
   "outputs": [
    {
     "data": {
      "text/plain": [
       "'10'"
      ]
     },
     "execution_count": 88,
     "metadata": {},
     "output_type": "execute_result"
    }
   ],
   "source": [
    "# 별점 크롤링\n",
    "overlays = \".list_netizen_score\"                                 \n",
    "score = driver.find_elements_by_css_selector(overlays)    # contents\n",
    "score = score[0].text[13:]\n",
    "score"
   ]
  },
  {
   "cell_type": "code",
   "execution_count": 85,
   "id": "7cb46dac",
   "metadata": {},
   "outputs": [
    {
     "data": {
      "text/plain": [
       "'gock****'"
      ]
     },
     "execution_count": 85,
     "metadata": {},
     "output_type": "execute_result"
    }
   ],
   "source": [
    "# 글쓴이 크롤링 시작\n",
    "overlays = \".num .author\"                                 \n",
    "nick = driver.find_element_by_css_selector(overlays)         # nickname\n",
    "nickname = nick.text\n",
    "nickname"
   ]
  },
  {
   "cell_type": "code",
   "execution_count": null,
   "id": "898de263",
   "metadata": {},
   "outputs": [],
   "source": [
    "# 첫번째 paragraph(문단) 확인\n",
    "# 블로그 글 contents는 여러 개의 문단이 모인 형태\n",
    "contents[0].text"
   ]
  },
  {
   "cell_type": "code",
   "execution_count": null,
   "id": "1781dfec",
   "metadata": {},
   "outputs": [],
   "source": [
    "# 각각의 문단에 접근해서 내용을 리스트에 담고, \n",
    "# join 함수를 이용해서 하나의 문장으로 이어붙이기\n",
    "content_list = []\n",
    "for content in contents:\n",
    "    content_list.append(content.text)\n",
    "\n",
    "content_str = ' '.join(content_list)                         # content_str\n",
    "content_str"
   ]
  },
  {
   "cell_type": "code",
   "execution_count": 91,
   "id": "f919dcba",
   "metadata": {},
   "outputs": [
    {
     "data": {
      "text/plain": [
       "{'title': '외계+인 1부',\n",
       " 'score': '10',\n",
       " 'review': '지금까지봤던 한국영화중 제일 세련된 sf!!!연기좋고, 볼거리 많았음.내용은 보다보면 이해됨 신고',\n",
       " 'nickname': 'gock****'}"
      ]
     },
     "execution_count": 91,
     "metadata": {},
     "output_type": "execute_result"
    }
   ],
   "source": [
    "# 글 하나는 target_info라는 딕셔너리에 담기게 되고,\n",
    "target_info['title'] = title\n",
    "target_info['score'] = score\n",
    "target_info['review'] = review\n",
    "target_info['nickname'] = nickname\n",
    "\n",
    "target_info"
   ]
  },
  {
   "cell_type": "code",
   "execution_count": 92,
   "id": "adc73103",
   "metadata": {},
   "outputs": [
    {
     "data": {
      "text/plain": [
       "{1: {'title': '외계+인 1부',\n",
       "  'score': '10',\n",
       "  'review': '지금까지봤던 한국영화중 제일 세련된 sf!!!연기좋고, 볼거리 많았음.내용은 보다보면 이해됨 신고',\n",
       "  'nickname': 'gock****'}}"
      ]
     },
     "execution_count": 92,
     "metadata": {},
     "output_type": "execute_result"
    }
   ],
   "source": [
    "dict[i] = target_info\n",
    "\n",
    "dict"
   ]
  },
  {
   "cell_type": "code",
   "execution_count": null,
   "id": "7cf24a20",
   "metadata": {},
   "outputs": [],
   "source": [
    "# 판다스로 만들기\n",
    "import pandas as pd\n",
    "result_df = pd.DataFrame.from_dict(dict, 'index')\n",
    "\n",
    "# 저장하기\n",
    "result_df.to_excel(\"blog_content.xlsx\", encoding='utf-8-sig')\n",
    "time.sleep(3)"
   ]
  },
  {
   "cell_type": "code",
   "execution_count": null,
   "id": "112ac2d4",
   "metadata": {},
   "outputs": [],
   "source": [
    "dict = {}    # 전체 크롤링 데이터를 담을 그릇\n",
    "\n",
    "# 수집할 글 갯수 정하기\n",
    "number = 10 \n",
    "\n",
    "# 수집한 url 돌면서 데이터 수집\n",
    "for i in tqdm_notebook(range(0, number)):\n",
    "    # 글 띄우기\n",
    "    url = url_load['url'][i]\n",
    "    driver = webdriver.Chrome(chrome_path, options=options)\n",
    "    driver.get(url)   # 글 띄우기\n",
    "    \n",
    "    # 크롤링\n",
    "    \n",
    "    try : \n",
    "        # iframe 접근\n",
    "        driver.switch_to.frame('mainFrame')\n",
    "\n",
    "        target_info = {}  # 개별 블로그 내용을 담을 딕셔너리 생성\n",
    "\n",
    "        # 제목 크롤링 시작\n",
    "        overlays = \".se-module.se-module-text.se-title-text\"                                 \n",
    "        tit = driver.find_element_by_css_selector(overlays)          # title\n",
    "        title = tit.text\n",
    "\n",
    "        # 글쓴이 크롤링 시작\n",
    "        overlays = \".nick\"                                 \n",
    "        nick = driver.find_element_by_css_selector(overlays)         # nickname\n",
    "        nickname = nick.text\n",
    "\n",
    "        # 날짜 크롤링\n",
    "        overlays = \".se_publishDate.pcol2\"                                 \n",
    "        date = driver.find_element_by_css_selector(overlays)         # datetime\n",
    "        datetime = date.text\n",
    "\n",
    "        # 내용 크롤링\n",
    "        overlays = \".se-component.se-text.se-l-default\"                                 \n",
    "        contents = driver.find_elements_by_css_selector(overlays)    # contents\n",
    "\n",
    "        content_list = []\n",
    "        for content in contents:\n",
    "            content_list.append(content.text)\n",
    " \n",
    "        content_str = ' '.join(content_list)                         # content_str\n",
    "\n",
    "        # 글 하나는 target_info라는 딕셔너리에 담기게 되고,\n",
    "        target_info['title'] = title\n",
    "        target_info['nickname'] = nickname\n",
    "        target_info['datetime'] = datetime\n",
    "        target_info['content'] = content_str\n",
    "\n",
    "        # 각각의 글은 dict라는 딕셔너리에 담기게 됩니다.\n",
    "        dict[i] = target_info\n",
    "        time.sleep(1)\n",
    "        \n",
    "        # 크롤링이 성공하면 글 제목을 출력하게 되고,\n",
    "        print(i, title)\n",
    "\n",
    "        # 글 하나 크롤링 후 크롬 창을 닫습니다.\n",
    "        driver.close()       \n",
    "    \n",
    "    # 에러나면 현재 크롬창을 닫고 다음 글(i+1)로 이동합니다.\n",
    "    except:\n",
    "        driver.close()\n",
    "        time.sleep(1)\n",
    "        continue\n",
    "        \n",
    "    # 판다스로 만들기\n",
    "    import pandas as pd\n",
    "    result_df = pd.DataFrame.from_dict(dict, 'index')\n",
    "\n",
    "    # 저장하기\n",
    "    result_df.to_csv(\"blog_content.csv\", encoding='utf-8-sig')\n",
    "    time.sleep(3)\n",
    "\n",
    "print('수집한 글 갯수: ', len(dict))\n",
    "print(dict)"
   ]
  },
  {
   "cell_type": "code",
   "execution_count": null,
   "id": "c6ae86a1",
   "metadata": {},
   "outputs": [],
   "source": [
    "# 판다스로 만들기\n",
    "import pandas as pd\n",
    "result_df = pd.DataFrame.from_dict(dict, 'index')\n",
    "result_df"
   ]
  },
  {
   "cell_type": "code",
   "execution_count": null,
   "id": "1b9913fe",
   "metadata": {},
   "outputs": [],
   "source": [
    "# 엑셀로 저장하기\n",
    "result_df.to_csv(\"blog_content.csv\", encoding='utf-8-sig')"
   ]
  },
  {
   "cell_type": "code",
   "execution_count": null,
   "id": "402459af",
   "metadata": {},
   "outputs": [],
   "source": [
    "pwd"
   ]
  }
 ],
 "metadata": {
  "kernelspec": {
   "display_name": "Python 3 (ipykernel)",
   "language": "python",
   "name": "python3"
  },
  "language_info": {
   "codemirror_mode": {
    "name": "ipython",
    "version": 3
   },
   "file_extension": ".py",
   "mimetype": "text/x-python",
   "name": "python",
   "nbconvert_exporter": "python",
   "pygments_lexer": "ipython3",
   "version": "3.8.13"
  }
 },
 "nbformat": 4,
 "nbformat_minor": 5
}
