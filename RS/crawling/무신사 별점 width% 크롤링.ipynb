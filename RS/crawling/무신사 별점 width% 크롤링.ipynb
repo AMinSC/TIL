{
 "cells": [
  {
   "cell_type": "code",
   "execution_count": 1,
   "id": "4198bad4",
   "metadata": {},
   "outputs": [],
   "source": [
    "# 네이버에서 검색어 입력받아 검색 한 후 블로그 메뉴를 선택하고\n",
    "# 오른쪽에 있는 검색옵션 버튼을 눌러서\n",
    "# 정렬 방식과 기간을 입력하기\n",
    "\n",
    "#Step 0. 필요한 모듈과 라이브러리를 로딩합니다.\n",
    "import sys # 시스템\n",
    "import os  # 시스템\n",
    "import re  # 정규표현식\n",
    "\n",
    "import pandas as pd  # 판다스 : 데이터분석 라이브러리\n",
    "import numpy as np   # 넘파이 : 숫자, 행렬 데이터 라이브러리\n",
    "\n",
    "from bs4 import BeautifulSoup    # html 데이터를 전처리\n",
    "from selenium import webdriver   # 웹 브라우저 자동화\n",
    "from selenium.webdriver.common.keys import Keys\n",
    "import chromedriver_autoinstaller\n",
    "\n",
    "import time    # 서버와 통신할 때 중간중간 시간 지연. 보통은 1초\n",
    "from tqdm import tqdm_notebook   # for문 돌릴 때 진행상황을 %게이지로 알려준다.\n",
    "\n",
    "# 워닝 무시\n",
    "import warnings\n",
    "warnings.filterwarnings('ignore')"
   ]
  },
  {
   "cell_type": "code",
   "execution_count": 2,
   "id": "eed53ba6",
   "metadata": {},
   "outputs": [],
   "source": [
    "# Step 1. 크롬 웹브라우저 실행\n",
    "# pip install chromedriver_autoinstaller\n",
    "import chromedriver_autoinstaller\n",
    "chrome_path = chromedriver_autoinstaller.install()\n",
    "driver = webdriver.Chrome(chrome_path)\n",
    "\n",
    "# 무신사 접속\n",
    "driver.get('https://movie.naver.com/movie/point/af/list.naver')\n",
    "time.sleep(2)  # 2초간 정지"
   ]
  },
  {
   "cell_type": "code",
   "execution_count": null,
   "id": "939899d1",
   "metadata": {},
   "outputs": [],
   "source": [
    "# 리뷰 별점(별 width %로 표시) 수집\n",
    "element = driver.find_elements_by_css_selector('.review-list__rating__active')\n",
    "\n",
    "# 리뷰 별점 width로 수집 후, 5점 만점 숫자로 변환하기\n",
    "for i in range(len(element)):\n",
    "    width = element[i].get_attribute('style')\n",
    "#     print(width)\n",
    "    # 숫자에 따라 별점으로 변환하기\n",
    "    percent_star = int(re.findall('\\d+', width)[0])\n",
    "    percent_star = percent_star*0.05\n",
    "    print(percent_star)"
   ]
  },
  {
   "cell_type": "code",
   "execution_count": null,
   "id": "09bcc313",
   "metadata": {},
   "outputs": [],
   "source": [
    "# 다음\n",
    "# driver.find_element_by_css_selector(\".paging-btn.btn\").click()\n",
    "\n",
    "for i in range(4, 14):\n",
    "    if i > 8:\n",
    "        i -= 5\n",
    "        print(i)\n",
    "        driver.find_element_by_xpath(f'//*[@id=\"reviewListFragment\"]/div[11]/div[2]/div/a[{i}]').click()\n",
    "        time.sleep(2)\n",
    "    else:\n",
    "        driver.find_element_by_xpath(f'//*[@id=\"reviewListFragment\"]/div[11]/div[2]/div/a[{i}]').click()\n",
    "        time.sleep(2)\n",
    "    \n",
    "    \n",
    "# //*[@id=\"reviewListFragment\"]/div[11]/div[2]/div/a[4]\n",
    "# //*[@id=\"reviewListFragment\"]/div[11]/div[2]/div/a[5]\n",
    "# //*[@id=\"reviewListFragment\"]/div[11]/div[2]/div/a[6]\n",
    "# //*[@id=\"reviewListFragment\"]/div[11]/div[2]/div/a[7]\n",
    "# //*[@id=\"reviewListFragment\"]/div[11]/div[2]/div/a[8]\n",
    "# //*[@id=\"reviewListFragment\"]/div[11]/div[2]/div/a[4]"
   ]
  }
 ],
 "metadata": {
  "kernelspec": {
   "display_name": "Python 3 (ipykernel)",
   "language": "python",
   "name": "python3"
  },
  "language_info": {
   "codemirror_mode": {
    "name": "ipython",
    "version": 3
   },
   "file_extension": ".py",
   "mimetype": "text/x-python",
   "name": "python",
   "nbconvert_exporter": "python",
   "pygments_lexer": "ipython3",
   "version": "3.8.13"
  }
 },
 "nbformat": 4,
 "nbformat_minor": 5
}
