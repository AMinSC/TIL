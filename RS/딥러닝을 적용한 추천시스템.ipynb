{
 "cells": [
  {
   "cell_type": "code",
   "execution_count": 1,
   "id": "6d72a64c",
   "metadata": {},
   "outputs": [],
   "source": [
    "import pandas as pd\n",
    "import numpy as np\n",
    "import matplotlib.pyplot as plt\n",
    "\n",
    "from sklearn.model_selection import train_test_split\n",
    "\n",
    "import tensorflow as tf\n",
    "from tensorflow.keras import layers\n",
    "from tensorflow.keras.models import Model\n",
    "from tensorflow.keras.layers import Input, Embedding, Dot, Add, Flatten\n",
    "\n",
    "# 딥러닝 layer 관련\n",
    "from tensorflow.keras.layers import Dense, Concatenate, Activation\n",
    "from tensorflow.keras.regularizers import l2\n",
    "from tensorflow.keras.optimizers import SGD, Adamax"
   ]
  },
  {
   "cell_type": "code",
   "execution_count": 2,
   "id": "a7191957",
   "metadata": {},
   "outputs": [
    {
     "name": "stdout",
     "output_type": "stream",
     "text": [
      "(100000, 4)\n"
     ]
    },
    {
     "data": {
      "text/html": [
       "<div>\n",
       "<style scoped>\n",
       "    .dataframe tbody tr th:only-of-type {\n",
       "        vertical-align: middle;\n",
       "    }\n",
       "\n",
       "    .dataframe tbody tr th {\n",
       "        vertical-align: top;\n",
       "    }\n",
       "\n",
       "    .dataframe thead th {\n",
       "        text-align: right;\n",
       "    }\n",
       "</style>\n",
       "<table border=\"1\" class=\"dataframe\">\n",
       "  <thead>\n",
       "    <tr style=\"text-align: right;\">\n",
       "      <th></th>\n",
       "      <th>user_id</th>\n",
       "      <th>movie_id</th>\n",
       "      <th>rating</th>\n",
       "      <th>timestamp</th>\n",
       "    </tr>\n",
       "  </thead>\n",
       "  <tbody>\n",
       "    <tr>\n",
       "      <th>0</th>\n",
       "      <td>196</td>\n",
       "      <td>242</td>\n",
       "      <td>3</td>\n",
       "      <td>881250949</td>\n",
       "    </tr>\n",
       "    <tr>\n",
       "      <th>1</th>\n",
       "      <td>186</td>\n",
       "      <td>302</td>\n",
       "      <td>3</td>\n",
       "      <td>891717742</td>\n",
       "    </tr>\n",
       "    <tr>\n",
       "      <th>2</th>\n",
       "      <td>22</td>\n",
       "      <td>377</td>\n",
       "      <td>1</td>\n",
       "      <td>878887116</td>\n",
       "    </tr>\n",
       "    <tr>\n",
       "      <th>3</th>\n",
       "      <td>244</td>\n",
       "      <td>51</td>\n",
       "      <td>2</td>\n",
       "      <td>880606923</td>\n",
       "    </tr>\n",
       "    <tr>\n",
       "      <th>4</th>\n",
       "      <td>166</td>\n",
       "      <td>346</td>\n",
       "      <td>1</td>\n",
       "      <td>886397596</td>\n",
       "    </tr>\n",
       "  </tbody>\n",
       "</table>\n",
       "</div>"
      ],
      "text/plain": [
       "   user_id  movie_id  rating  timestamp\n",
       "0      196       242       3  881250949\n",
       "1      186       302       3  891717742\n",
       "2       22       377       1  878887116\n",
       "3      244        51       2  880606923\n",
       "4      166       346       1  886397596"
      ]
     },
     "execution_count": 2,
     "metadata": {},
     "output_type": "execute_result"
    }
   ],
   "source": [
    "# DataFrame 형태로 데이터를 읽어온다.\n",
    "r_cols = ['user_id', 'movie_id', 'rating', 'timestamp']\n",
    "\n",
    "# 유저-영화 평점 데이터 \"u.data\"\n",
    "ratings = pd.read_csv('./u.data', \n",
    "                     names=r_cols,\n",
    "                      sep='\\t',\n",
    "                      encoding='latin-1'\n",
    "                     )\n",
    "print(ratings.shape)\n",
    "ratings.head()"
   ]
  },
  {
   "cell_type": "code",
   "execution_count": 3,
   "id": "f3c65680",
   "metadata": {},
   "outputs": [],
   "source": [
    "# 학습,테스트 구분하기\n",
    "ratings_train, ratings_test = train_test_split(ratings,\n",
    "                                              test_size=0.2,\n",
    "                                              shuffle=True,\n",
    "                                              random_state=2022)"
   ]
  },
  {
   "cell_type": "code",
   "execution_count": 4,
   "id": "68f8d43b",
   "metadata": {},
   "outputs": [],
   "source": [
    "# RMSE 함수 (keras에는 RMSE 메소드 없어서 만들어줘야 함)\n",
    "def RMSE(y_true, y_pred):\n",
    "    return tf.sqrt(tf.reduce_mean(tf.square(y_true - y_pred)))"
   ]
  },
  {
   "cell_type": "code",
   "execution_count": 5,
   "id": "cd4888e9",
   "metadata": {},
   "outputs": [],
   "source": [
    "# 잠재 요인의 수 \n",
    "K=200\n",
    "\n",
    "# 전체 평점 평균\n",
    "mu = ratings_train.rating.mean()\n",
    "\n",
    "# 사용자id, 영화id의 최대값을 구한다.\n",
    "# bias term의 크기 1을 고려하여 +1을 해준다.\n",
    "M = ratings.user_id.max() + 1\n",
    "N = ratings.movie_id.max() + 1"
   ]
  },
  {
   "cell_type": "code",
   "execution_count": 6,
   "id": "e157b05c",
   "metadata": {},
   "outputs": [
    {
     "name": "stdout",
     "output_type": "stream",
     "text": [
      "사용자 개수 max값: 944\n",
      "아이템 개수 max값: 1683\n"
     ]
    }
   ],
   "source": [
    "print('사용자 개수 max값:', M)\n",
    "print('아이템 개수 max값:', N)"
   ]
  },
  {
   "cell_type": "markdown",
   "id": "f9a81234",
   "metadata": {},
   "source": [
    "# 케라스 모델 생성"
   ]
  },
  {
   "cell_type": "code",
   "execution_count": 7,
   "id": "02fefc87",
   "metadata": {},
   "outputs": [],
   "source": [
    "user = Input(shape=(1, ))\n",
    "item = Input(shape=(1, ))\n",
    "\n",
    "# 행렬 P,Q 임베딩\n",
    "P_embedding = Embedding(M, K, embeddings_regularizer=l2())(user)\n",
    "Q_embedding = Embedding(N, K, embeddings_regularizer=l2())(item)\n",
    "\n",
    "# 사용자, 아이템 평가 경향도 임베딩\n",
    "user_bias = Embedding(M, 1, embeddings_regularizer=l2())(user)\n",
    "item_bias = Embedding(N, 1, embeddings_regularizer=l2())(item)"
   ]
  },
  {
   "cell_type": "code",
   "execution_count": 8,
   "id": "26481564",
   "metadata": {},
   "outputs": [],
   "source": [
    "# concatenate를 위해서는 1차원으로 Flatten해야 한다.\n",
    "P_embedding = Flatten()(P_embedding)\n",
    "Q_embedding = Flatten()(Q_embedding)\n",
    "\n",
    "user_bias = Flatten()(user_bias)\n",
    "item_bias = Flatten()(item_bias)\n",
    "\n",
    "R = Concatenate()([P_embedding, Q_embedding, user_bias, item_bias])"
   ]
  },
  {
   "cell_type": "code",
   "execution_count": 9,
   "id": "9add4fb0",
   "metadata": {},
   "outputs": [],
   "source": [
    "# layer 쌓기\n",
    "\n",
    "# 노드가 2048개인 layer 생성.\n",
    "# 활성화 함수는 'linear'\n",
    "R = Dense(2048)(R)\n",
    "R = Activation('linear')(R)\n",
    "\n",
    "# 노드가 256개인 layer 추가\n",
    "R = Dense(256)(R)\n",
    "R = Activation('linear')(R)\n",
    "\n",
    "# 노드가 1개인 dense layer(출력층) 한 개 추가\n",
    "R = Dense(1)(R)"
   ]
  },
  {
   "cell_type": "code",
   "execution_count": 10,
   "id": "2ccf9da2",
   "metadata": {
    "scrolled": false
   },
   "outputs": [
    {
     "name": "stdout",
     "output_type": "stream",
     "text": [
      "Model: \"model\"\n",
      "__________________________________________________________________________________________________\n",
      " Layer (type)                   Output Shape         Param #     Connected to                     \n",
      "==================================================================================================\n",
      " input_1 (InputLayer)           [(None, 1)]          0           []                               \n",
      "                                                                                                  \n",
      " input_2 (InputLayer)           [(None, 1)]          0           []                               \n",
      "                                                                                                  \n",
      " embedding (Embedding)          (None, 1, 200)       188800      ['input_1[0][0]']                \n",
      "                                                                                                  \n",
      " embedding_1 (Embedding)        (None, 1, 200)       336600      ['input_2[0][0]']                \n",
      "                                                                                                  \n",
      " embedding_2 (Embedding)        (None, 1, 1)         944         ['input_1[0][0]']                \n",
      "                                                                                                  \n",
      " embedding_3 (Embedding)        (None, 1, 1)         1683        ['input_2[0][0]']                \n",
      "                                                                                                  \n",
      " flatten (Flatten)              (None, 200)          0           ['embedding[0][0]']              \n",
      "                                                                                                  \n",
      " flatten_1 (Flatten)            (None, 200)          0           ['embedding_1[0][0]']            \n",
      "                                                                                                  \n",
      " flatten_2 (Flatten)            (None, 1)            0           ['embedding_2[0][0]']            \n",
      "                                                                                                  \n",
      " flatten_3 (Flatten)            (None, 1)            0           ['embedding_3[0][0]']            \n",
      "                                                                                                  \n",
      " concatenate (Concatenate)      (None, 402)          0           ['flatten[0][0]',                \n",
      "                                                                  'flatten_1[0][0]',              \n",
      "                                                                  'flatten_2[0][0]',              \n",
      "                                                                  'flatten_3[0][0]']              \n",
      "                                                                                                  \n",
      " dense (Dense)                  (None, 2048)         825344      ['concatenate[0][0]']            \n",
      "                                                                                                  \n",
      " activation (Activation)        (None, 2048)         0           ['dense[0][0]']                  \n",
      "                                                                                                  \n",
      " dense_1 (Dense)                (None, 256)          524544      ['activation[0][0]']             \n",
      "                                                                                                  \n",
      " activation_1 (Activation)      (None, 256)          0           ['dense_1[0][0]']                \n",
      "                                                                                                  \n",
      " dense_2 (Dense)                (None, 1)            257         ['activation_1[0][0]']           \n",
      "                                                                                                  \n",
      "==================================================================================================\n",
      "Total params: 1,878,172\n",
      "Trainable params: 1,878,172\n",
      "Non-trainable params: 0\n",
      "__________________________________________________________________________________________________\n"
     ]
    }
   ],
   "source": [
    "model = Model(inputs=[user, item], outputs=R)\n",
    "\n",
    "model.compile(\n",
    "    loss = RMSE,\n",
    "    optimizer = SGD(),  # adam, adamax\n",
    "    metrics= [RMSE]\n",
    ")\n",
    "\n",
    "model.summary()\n",
    "# 사용자 수가 944, 잠재요인 수가 200 -> 944x200 = 188800\n",
    "# concatenate를 위해 flatten"
   ]
  },
  {
   "cell_type": "code",
   "execution_count": 11,
   "id": "5e8adbc0",
   "metadata": {},
   "outputs": [],
   "source": [
    "# 학습 데이터 정의\n",
    "train_user_ids = ratings_train.user_id.values, \n",
    "train_movie_ids = ratings_train.movie_id.values\n",
    "train_ratings = ratings_train.rating.values\n",
    "\n",
    "# 테스트 데이터 정의\n",
    "test_user_ids = ratings_test.user_id.values, \n",
    "test_movie_ids = ratings_test.movie_id.values\n",
    "test_ratings = ratings_test.rating.values"
   ]
  },
  {
   "cell_type": "code",
   "execution_count": 12,
   "id": "04bab380",
   "metadata": {
    "scrolled": false
   },
   "outputs": [
    {
     "name": "stdout",
     "output_type": "stream",
     "text": [
      "Epoch 1/65\n"
     ]
    },
    {
     "name": "stderr",
     "output_type": "stream",
     "text": [
      "2022-07-20 17:29:04.867130: W tensorflow/core/platform/profile_utils/cpu_utils.cc:128] Failed to get CPU frequency: 0 Hz\n"
     ]
    },
    {
     "name": "stdout",
     "output_type": "stream",
     "text": [
      "157/157 [==============================] - 4s 22ms/step - loss: 5.3816 - RMSE: 1.1246 - val_loss: 5.2449 - val_RMSE: 1.1189\n",
      "Epoch 2/65\n",
      "157/157 [==============================] - 4s 23ms/step - loss: 5.1207 - RMSE: 1.1231 - val_loss: 4.9924 - val_RMSE: 1.1174\n",
      "Epoch 3/65\n",
      "157/157 [==============================] - 4s 23ms/step - loss: 4.8760 - RMSE: 1.1216 - val_loss: 4.7552 - val_RMSE: 1.1157\n",
      "Epoch 4/65\n",
      "157/157 [==============================] - 4s 23ms/step - loss: 4.6459 - RMSE: 1.1198 - val_loss: 4.5322 - val_RMSE: 1.1141\n",
      "Epoch 5/65\n",
      "157/157 [==============================] - 4s 24ms/step - loss: 4.4298 - RMSE: 1.1182 - val_loss: 4.3229 - val_RMSE: 1.1124\n",
      "Epoch 6/65\n",
      "157/157 [==============================] - 4s 23ms/step - loss: 4.2269 - RMSE: 1.1169 - val_loss: 4.1260 - val_RMSE: 1.1105\n",
      "Epoch 7/65\n",
      "157/157 [==============================] - 4s 23ms/step - loss: 4.0360 - RMSE: 1.1145 - val_loss: 3.9412 - val_RMSE: 1.1089\n",
      "Epoch 8/65\n",
      "157/157 [==============================] - 4s 23ms/step - loss: 3.8564 - RMSE: 1.1123 - val_loss: 3.7672 - val_RMSE: 1.1068\n",
      "Epoch 9/65\n",
      "157/157 [==============================] - 4s 23ms/step - loss: 3.6875 - RMSE: 1.1103 - val_loss: 3.6034 - val_RMSE: 1.1044\n",
      "Epoch 10/65\n",
      "157/157 [==============================] - 4s 23ms/step - loss: 3.5286 - RMSE: 1.1081 - val_loss: 3.4493 - val_RMSE: 1.1017\n",
      "Epoch 11/65\n",
      "157/157 [==============================] - 4s 23ms/step - loss: 3.3786 - RMSE: 1.1050 - val_loss: 3.3041 - val_RMSE: 1.0988\n",
      "Epoch 12/65\n",
      "157/157 [==============================] - 4s 23ms/step - loss: 3.2375 - RMSE: 1.1012 - val_loss: 3.1673 - val_RMSE: 1.0956\n",
      "Epoch 13/65\n",
      "157/157 [==============================] - 4s 23ms/step - loss: 3.1041 - RMSE: 1.0975 - val_loss: 3.0381 - val_RMSE: 1.0917\n",
      "Epoch 14/65\n",
      "157/157 [==============================] - 4s 23ms/step - loss: 2.9782 - RMSE: 1.0926 - val_loss: 2.9155 - val_RMSE: 1.0865\n",
      "Epoch 15/65\n",
      "157/157 [==============================] - 4s 24ms/step - loss: 2.8590 - RMSE: 1.0876 - val_loss: 2.8003 - val_RMSE: 1.0818\n",
      "Epoch 16/65\n",
      "157/157 [==============================] - 4s 24ms/step - loss: 2.7458 - RMSE: 1.0813 - val_loss: 2.6902 - val_RMSE: 1.0750\n",
      "Epoch 17/65\n",
      "157/157 [==============================] - 4s 24ms/step - loss: 2.6385 - RMSE: 1.0739 - val_loss: 2.5861 - val_RMSE: 1.0680\n",
      "Epoch 18/65\n",
      "157/157 [==============================] - 4s 23ms/step - loss: 2.5366 - RMSE: 1.0656 - val_loss: 2.4871 - val_RMSE: 1.0600\n",
      "Epoch 19/65\n",
      "157/157 [==============================] - 4s 23ms/step - loss: 2.4396 - RMSE: 1.0568 - val_loss: 2.3934 - val_RMSE: 1.0517\n",
      "Epoch 20/65\n",
      "157/157 [==============================] - 4s 24ms/step - loss: 2.3473 - RMSE: 1.0476 - val_loss: 2.3044 - val_RMSE: 1.0428\n",
      "Epoch 21/65\n",
      "157/157 [==============================] - 4s 24ms/step - loss: 2.2599 - RMSE: 1.0366 - val_loss: 2.2196 - val_RMSE: 1.0331\n",
      "Epoch 22/65\n",
      "157/157 [==============================] - 4s 24ms/step - loss: 2.1771 - RMSE: 1.0264 - val_loss: 2.1399 - val_RMSE: 1.0240\n",
      "Epoch 23/65\n",
      "157/157 [==============================] - 4s 24ms/step - loss: 2.0988 - RMSE: 1.0164 - val_loss: 2.0647 - val_RMSE: 1.0151\n",
      "Epoch 24/65\n",
      "157/157 [==============================] - 4s 26ms/step - loss: 2.0250 - RMSE: 1.0062 - val_loss: 1.9941 - val_RMSE: 1.0067\n",
      "Epoch 25/65\n",
      "157/157 [==============================] - 4s 26ms/step - loss: 1.9556 - RMSE: 0.9972 - val_loss: 1.9285 - val_RMSE: 0.9995\n",
      "Epoch 26/65\n",
      "157/157 [==============================] - 4s 24ms/step - loss: 1.8909 - RMSE: 0.9898 - val_loss: 1.8675 - val_RMSE: 0.9936\n",
      "Epoch 27/65\n",
      "157/157 [==============================] - 4s 25ms/step - loss: 1.8302 - RMSE: 0.9817 - val_loss: 1.8093 - val_RMSE: 0.9871\n",
      "Epoch 28/65\n",
      "157/157 [==============================] - 4s 25ms/step - loss: 1.7733 - RMSE: 0.9746 - val_loss: 1.7540 - val_RMSE: 0.9804\n",
      "Epoch 29/65\n",
      "157/157 [==============================] - 4s 25ms/step - loss: 1.7203 - RMSE: 0.9686 - val_loss: 1.7042 - val_RMSE: 0.9764\n",
      "Epoch 30/65\n",
      "157/157 [==============================] - 4s 25ms/step - loss: 1.6708 - RMSE: 0.9631 - val_loss: 1.6581 - val_RMSE: 0.9733\n",
      "Epoch 31/65\n",
      "157/157 [==============================] - 4s 23ms/step - loss: 1.6244 - RMSE: 0.9588 - val_loss: 1.6126 - val_RMSE: 0.9682\n",
      "Epoch 32/65\n",
      "157/157 [==============================] - 4s 23ms/step - loss: 1.5809 - RMSE: 0.9538 - val_loss: 1.5716 - val_RMSE: 0.9650\n",
      "Epoch 33/65\n",
      "157/157 [==============================] - 4s 24ms/step - loss: 1.5405 - RMSE: 0.9504 - val_loss: 1.5329 - val_RMSE: 0.9622\n",
      "Epoch 34/65\n",
      "157/157 [==============================] - 4s 25ms/step - loss: 1.5024 - RMSE: 0.9473 - val_loss: 1.4963 - val_RMSE: 0.9592\n",
      "Epoch 35/65\n",
      "157/157 [==============================] - 4s 25ms/step - loss: 1.4671 - RMSE: 0.9445 - val_loss: 1.4631 - val_RMSE: 0.9575\n",
      "Epoch 36/65\n",
      "157/157 [==============================] - 4s 25ms/step - loss: 1.4337 - RMSE: 0.9420 - val_loss: 1.4339 - val_RMSE: 0.9581\n",
      "Epoch 37/65\n",
      "157/157 [==============================] - 4s 24ms/step - loss: 1.4024 - RMSE: 0.9390 - val_loss: 1.4013 - val_RMSE: 0.9534\n",
      "Epoch 38/65\n",
      "157/157 [==============================] - 4s 24ms/step - loss: 1.3732 - RMSE: 0.9366 - val_loss: 1.3740 - val_RMSE: 0.9522\n",
      "Epoch 39/65\n",
      "157/157 [==============================] - 4s 24ms/step - loss: 1.3459 - RMSE: 0.9351 - val_loss: 1.3476 - val_RMSE: 0.9506\n",
      "Epoch 40/65\n",
      "157/157 [==============================] - 4s 24ms/step - loss: 1.3203 - RMSE: 0.9330 - val_loss: 1.3236 - val_RMSE: 0.9499\n",
      "Epoch 41/65\n",
      "157/157 [==============================] - 4s 25ms/step - loss: 1.2962 - RMSE: 0.9317 - val_loss: 1.3016 - val_RMSE: 0.9497\n",
      "Epoch 42/65\n",
      "157/157 [==============================] - 4s 24ms/step - loss: 1.2737 - RMSE: 0.9301 - val_loss: 1.2786 - val_RMSE: 0.9471\n",
      "Epoch 43/65\n",
      "157/157 [==============================] - 4s 24ms/step - loss: 1.2528 - RMSE: 0.9290 - val_loss: 1.2607 - val_RMSE: 0.9484\n",
      "Epoch 44/65\n",
      "157/157 [==============================] - 4s 24ms/step - loss: 1.2330 - RMSE: 0.9277 - val_loss: 1.2398 - val_RMSE: 0.9458\n",
      "Epoch 45/65\n",
      "157/157 [==============================] - 4s 23ms/step - loss: 1.2144 - RMSE: 0.9270 - val_loss: 1.2228 - val_RMSE: 0.9456\n",
      "Epoch 46/65\n",
      "157/157 [==============================] - 4s 24ms/step - loss: 1.1973 - RMSE: 0.9265 - val_loss: 1.2059 - val_RMSE: 0.9448\n",
      "Epoch 47/65\n",
      "157/157 [==============================] - 4s 24ms/step - loss: 1.1808 - RMSE: 0.9256 - val_loss: 1.1941 - val_RMSE: 0.9482\n",
      "Epoch 48/65\n",
      "157/157 [==============================] - 4s 24ms/step - loss: 1.1658 - RMSE: 0.9246 - val_loss: 1.1762 - val_RMSE: 0.9442\n",
      "Epoch 49/65\n",
      "157/157 [==============================] - 4s 24ms/step - loss: 1.1512 - RMSE: 0.9236 - val_loss: 1.1614 - val_RMSE: 0.9427\n",
      "Epoch 50/65\n",
      "157/157 [==============================] - 4s 24ms/step - loss: 1.1378 - RMSE: 0.9235 - val_loss: 1.1498 - val_RMSE: 0.9436\n",
      "Epoch 51/65\n",
      "157/157 [==============================] - 4s 23ms/step - loss: 1.1254 - RMSE: 0.9228 - val_loss: 1.1385 - val_RMSE: 0.9440\n",
      "Epoch 52/65\n",
      "157/157 [==============================] - 4s 24ms/step - loss: 1.1134 - RMSE: 0.9225 - val_loss: 1.1277 - val_RMSE: 0.9443\n",
      "Epoch 53/65\n",
      "157/157 [==============================] - 4s 24ms/step - loss: 1.1023 - RMSE: 0.9223 - val_loss: 1.1193 - val_RMSE: 0.9465\n",
      "Epoch 54/65\n",
      "157/157 [==============================] - 4s 24ms/step - loss: 1.0920 - RMSE: 0.9222 - val_loss: 1.1065 - val_RMSE: 0.9433\n",
      "Epoch 55/65\n",
      "157/157 [==============================] - 4s 24ms/step - loss: 1.0822 - RMSE: 0.9216 - val_loss: 1.0994 - val_RMSE: 0.9456\n",
      "Epoch 56/65\n",
      "157/157 [==============================] - 4s 24ms/step - loss: 1.0731 - RMSE: 0.9215 - val_loss: 1.0905 - val_RMSE: 0.9451\n",
      "Epoch 57/65\n",
      "157/157 [==============================] - 4s 24ms/step - loss: 1.0645 - RMSE: 0.9208 - val_loss: 1.0804 - val_RMSE: 0.9433\n",
      "Epoch 58/65\n",
      "157/157 [==============================] - 4s 24ms/step - loss: 1.0562 - RMSE: 0.9211 - val_loss: 1.0729 - val_RMSE: 0.9435\n",
      "Epoch 59/65\n",
      "157/157 [==============================] - 4s 23ms/step - loss: 1.0489 - RMSE: 0.9214 - val_loss: 1.0637 - val_RMSE: 0.9415\n",
      "Epoch 60/65\n",
      "157/157 [==============================] - 4s 23ms/step - loss: 1.0416 - RMSE: 0.9205 - val_loss: 1.0659 - val_RMSE: 0.9502\n",
      "Epoch 61/65\n"
     ]
    },
    {
     "name": "stdout",
     "output_type": "stream",
     "text": [
      "157/157 [==============================] - 4s 23ms/step - loss: 1.0350 - RMSE: 0.9209 - val_loss: 1.0507 - val_RMSE: 0.9413\n",
      "Epoch 62/65\n",
      "157/157 [==============================] - 4s 24ms/step - loss: 1.0289 - RMSE: 0.9205 - val_loss: 1.0463 - val_RMSE: 0.9431\n",
      "Epoch 63/65\n",
      "157/157 [==============================] - 4s 24ms/step - loss: 1.0227 - RMSE: 0.9200 - val_loss: 1.0389 - val_RMSE: 0.9411\n",
      "Epoch 64/65\n",
      "157/157 [==============================] - 4s 23ms/step - loss: 1.0174 - RMSE: 0.9204 - val_loss: 1.0336 - val_RMSE: 0.9412\n",
      "Epoch 65/65\n",
      "157/157 [==============================] - 4s 23ms/step - loss: 1.0121 - RMSE: 0.9201 - val_loss: 1.0287 - val_RMSE: 0.9413\n"
     ]
    }
   ],
   "source": [
    "result = model.fit(\n",
    "    x = [train_user_ids, train_movie_ids], \n",
    "    y = train_ratings - mu,\n",
    "    epochs = 65,\n",
    "    batch_size = 512,\n",
    "    validation_data = (\n",
    "        [test_user_ids, test_movie_ids], \n",
    "        test_ratings - mu\n",
    "    )\n",
    ")"
   ]
  },
  {
   "cell_type": "code",
   "execution_count": 13,
   "id": "592a3fd4",
   "metadata": {},
   "outputs": [
    {
     "data": {
      "image/png": "[encoded data removed]",
      "text/plain": [
       "<Figure size 720x720 with 1 Axes>"
      ]
     },
     "metadata": {
      "needs_background": "light"
     },
     "output_type": "display_data"
    }
   ],
   "source": [
    "# 학습 과정 시각화\n",
    "plt.figure(figsize=(10, 10))\n",
    "plt.plot(result.history['RMSE'], label=\"Train RMSE\")\n",
    "plt.plot(result.history['val_RMSE'], label=\"Test RMSE\")\n",
    "plt.legend()\n",
    "plt.show()"
   ]
  },
  {
   "cell_type": "raw",
   "id": "a0ba6609",
   "metadata": {},
   "source": [
    "결론 : \n",
    "MF에 신경망을 적용하였더니 RMSE가 향상되었다.\n",
    "RMSE를 더 향상시키려면 다양한 layer와 학습 하이퍼 파라미터들을 조정해봐야 함.\n",
    "\n",
    "MF : 데이터가 연속적인 경우 성능 좋은 경향.\n",
    "신경망 : 데이터가 binary하거나 sparse한 경우 성능 좋은 경향."
   ]
  },
  {
   "cell_type": "code",
   "execution_count": null,
   "id": "1d8df869",
   "metadata": {},
   "outputs": [],
   "source": []
  },
  {
   "cell_type": "code",
   "execution_count": null,
   "id": "2fa198d6",
   "metadata": {},
   "outputs": [],
   "source": []
  },
  {
   "cell_type": "code",
   "execution_count": null,
   "id": "5d72b6e6",
   "metadata": {},
   "outputs": [],
   "source": []
  }
 ],
 "metadata": {
  "kernelspec": {
   "display_name": "Python 3 (ipykernel)",
   "language": "python",
   "name": "python3"
  },
  "language_info": {
   "codemirror_mode": {
    "name": "ipython",
    "version": 3
   },
   "file_extension": ".py",
   "mimetype": "text/x-python",
   "name": "python",
   "nbconvert_exporter": "python",
   "pygments_lexer": "ipython3",
   "version": "3.8.13"
  },
  "varInspector": {
   "cols": {
    "lenName": 16,
    "lenType": 16,
    "lenVar": 40
   },
   "kernels_config": {
    "python": {
     "delete_cmd_postfix": "",
     "delete_cmd_prefix": "del ",
     "library": "var_list.py",
     "varRefreshCmd": "print(var_dic_list())"
    },
    "r": {
     "delete_cmd_postfix": ") ",
     "delete_cmd_prefix": "rm(",
     "library": "var_list.r",
     "varRefreshCmd": "cat(var_dic_list()) "
    }
   },
   "types_to_exclude": [
    "module",
    "function",
    "builtin_function_or_method",
    "instance",
    "_Feature"
   ],
   "window_display": false
  }
 },
 "nbformat": 4,
 "nbformat_minor": 5
}
