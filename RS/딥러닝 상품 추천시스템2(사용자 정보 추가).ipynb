{
 "cells": [
  {
   "cell_type": "code",
   "execution_count": 1,
   "id": "f874f56f",
   "metadata": {
    "scrolled": true
   },
   "outputs": [],
   "source": [
    "import pandas as pd\n",
    "import numpy as np\n",
    "import matplotlib.pyplot as plt\n",
    "\n",
    "from sklearn.model_selection import train_test_split\n",
    "\n",
    "import tensorflow as tf\n",
    "from tensorflow.keras import layers\n",
    "from tensorflow.keras.models import Model\n",
    "from tensorflow.keras.layers import Input, Embedding, Dot, Add, Flatten\n",
    "\n",
    "# 딥러닝 layer 관련\n",
    "from tensorflow.keras.layers import Dense, Concatenate, Activation\n",
    "from tensorflow.keras.regularizers import l2\n",
    "from tensorflow.keras.optimizers import SGD, Adamax"
   ]
  },
  {
   "cell_type": "code",
   "execution_count": 2,
   "id": "e39573fe",
   "metadata": {},
   "outputs": [],
   "source": [
    "# RMSE 함수 (keras에는 RMSE 메소드 없어서 만들어줘야 함)\n",
    "def RMSE(y_true, y_pred):\n",
    "    return tf.sqrt(tf.reduce_mean(tf.square(y_true - y_pred)))"
   ]
  },
  {
   "cell_type": "code",
   "execution_count": 3,
   "id": "7fe7c16c",
   "metadata": {},
   "outputs": [
    {
     "name": "stdout",
     "output_type": "stream",
     "text": [
      "(100000, 4)\n"
     ]
    },
    {
     "data": {
      "text/html": [
       "<div>\n",
       "<style scoped>\n",
       "    .dataframe tbody tr th:only-of-type {\n",
       "        vertical-align: middle;\n",
       "    }\n",
       "\n",
       "    .dataframe tbody tr th {\n",
       "        vertical-align: top;\n",
       "    }\n",
       "\n",
       "    .dataframe thead th {\n",
       "        text-align: right;\n",
       "    }\n",
       "</style>\n",
       "<table border=\"1\" class=\"dataframe\">\n",
       "  <thead>\n",
       "    <tr style=\"text-align: right;\">\n",
       "      <th></th>\n",
       "      <th>user_id</th>\n",
       "      <th>movie_id</th>\n",
       "      <th>rating</th>\n",
       "      <th>timestamp</th>\n",
       "    </tr>\n",
       "  </thead>\n",
       "  <tbody>\n",
       "    <tr>\n",
       "      <th>0</th>\n",
       "      <td>196</td>\n",
       "      <td>242</td>\n",
       "      <td>3</td>\n",
       "      <td>881250949</td>\n",
       "    </tr>\n",
       "    <tr>\n",
       "      <th>1</th>\n",
       "      <td>186</td>\n",
       "      <td>302</td>\n",
       "      <td>3</td>\n",
       "      <td>891717742</td>\n",
       "    </tr>\n",
       "    <tr>\n",
       "      <th>2</th>\n",
       "      <td>22</td>\n",
       "      <td>377</td>\n",
       "      <td>1</td>\n",
       "      <td>878887116</td>\n",
       "    </tr>\n",
       "    <tr>\n",
       "      <th>3</th>\n",
       "      <td>244</td>\n",
       "      <td>51</td>\n",
       "      <td>2</td>\n",
       "      <td>880606923</td>\n",
       "    </tr>\n",
       "    <tr>\n",
       "      <th>4</th>\n",
       "      <td>166</td>\n",
       "      <td>346</td>\n",
       "      <td>1</td>\n",
       "      <td>886397596</td>\n",
       "    </tr>\n",
       "  </tbody>\n",
       "</table>\n",
       "</div>"
      ],
      "text/plain": [
       "   user_id  movie_id  rating  timestamp\n",
       "0      196       242       3  881250949\n",
       "1      186       302       3  891717742\n",
       "2       22       377       1  878887116\n",
       "3      244        51       2  880606923\n",
       "4      166       346       1  886397596"
      ]
     },
     "execution_count": 3,
     "metadata": {},
     "output_type": "execute_result"
    }
   ],
   "source": [
    "# DataFrame 형태로 데이터를 읽어온다.\n",
    "r_cols = ['user_id', 'movie_id', 'rating', 'timestamp']\n",
    "\n",
    "# 평점 데이터 \"u.data\" 가져오기\n",
    "ratings = pd.read_csv('./u.data', \n",
    "                     names=r_cols,\n",
    "                      sep='\\t',\n",
    "                      encoding='latin-1'\n",
    "                     )\n",
    "print(ratings.shape)\n",
    "ratings.head()"
   ]
  },
  {
   "cell_type": "code",
   "execution_count": 4,
   "id": "6e57de68",
   "metadata": {},
   "outputs": [],
   "source": [
    "# 학습, 테스트 구분하기\n",
    "ratings_train, ratings_test = train_test_split(ratings, \n",
    "                                              test_size = 0.2, \n",
    "                                              shuffle = True, \n",
    "                                              random_state = 2021)"
   ]
  },
  {
   "cell_type": "code",
   "execution_count": 5,
   "id": "95f8dca9",
   "metadata": {},
   "outputs": [
    {
     "name": "stdout",
     "output_type": "stream",
     "text": [
      "(943, 5)\n"
     ]
    },
    {
     "data": {
      "text/html": [
       "<div>\n",
       "<style scoped>\n",
       "    .dataframe tbody tr th:only-of-type {\n",
       "        vertical-align: middle;\n",
       "    }\n",
       "\n",
       "    .dataframe tbody tr th {\n",
       "        vertical-align: top;\n",
       "    }\n",
       "\n",
       "    .dataframe thead th {\n",
       "        text-align: right;\n",
       "    }\n",
       "</style>\n",
       "<table border=\"1\" class=\"dataframe\">\n",
       "  <thead>\n",
       "    <tr style=\"text-align: right;\">\n",
       "      <th></th>\n",
       "      <th>user_id</th>\n",
       "      <th>age</th>\n",
       "      <th>sex</th>\n",
       "      <th>occupation</th>\n",
       "      <th>zip_code</th>\n",
       "    </tr>\n",
       "  </thead>\n",
       "  <tbody>\n",
       "    <tr>\n",
       "      <th>0</th>\n",
       "      <td>1</td>\n",
       "      <td>24</td>\n",
       "      <td>M</td>\n",
       "      <td>technician</td>\n",
       "      <td>85711</td>\n",
       "    </tr>\n",
       "    <tr>\n",
       "      <th>1</th>\n",
       "      <td>2</td>\n",
       "      <td>53</td>\n",
       "      <td>F</td>\n",
       "      <td>other</td>\n",
       "      <td>94043</td>\n",
       "    </tr>\n",
       "    <tr>\n",
       "      <th>2</th>\n",
       "      <td>3</td>\n",
       "      <td>23</td>\n",
       "      <td>M</td>\n",
       "      <td>writer</td>\n",
       "      <td>32067</td>\n",
       "    </tr>\n",
       "    <tr>\n",
       "      <th>3</th>\n",
       "      <td>4</td>\n",
       "      <td>24</td>\n",
       "      <td>M</td>\n",
       "      <td>technician</td>\n",
       "      <td>43537</td>\n",
       "    </tr>\n",
       "    <tr>\n",
       "      <th>4</th>\n",
       "      <td>5</td>\n",
       "      <td>33</td>\n",
       "      <td>F</td>\n",
       "      <td>other</td>\n",
       "      <td>15213</td>\n",
       "    </tr>\n",
       "  </tbody>\n",
       "</table>\n",
       "</div>"
      ],
      "text/plain": [
       "   user_id  age sex  occupation zip_code\n",
       "0        1   24   M  technician    85711\n",
       "1        2   53   F       other    94043\n",
       "2        3   23   M      writer    32067\n",
       "3        4   24   M  technician    43537\n",
       "4        5   33   F       other    15213"
      ]
     },
     "execution_count": 5,
     "metadata": {},
     "output_type": "execute_result"
    }
   ],
   "source": [
    "r_cols = ['user_id', 'age', 'sex', 'occupation', 'zip_code']\n",
    "\n",
    "# 유저 데이터 \"u.user\" 가져오기\n",
    "users = pd.read_csv('./u.user', \n",
    "                     names=r_cols,\n",
    "                      sep='|',\n",
    "                      encoding='latin-1'\n",
    "                     )\n",
    "print(users.shape)\n",
    "users.head()"
   ]
  },
  {
   "cell_type": "code",
   "execution_count": 6,
   "id": "5f9e9ff1",
   "metadata": {},
   "outputs": [
    {
     "data": {
      "text/html": [
       "<div>\n",
       "<style scoped>\n",
       "    .dataframe tbody tr th:only-of-type {\n",
       "        vertical-align: middle;\n",
       "    }\n",
       "\n",
       "    .dataframe tbody tr th {\n",
       "        vertical-align: top;\n",
       "    }\n",
       "\n",
       "    .dataframe thead th {\n",
       "        text-align: right;\n",
       "    }\n",
       "</style>\n",
       "<table border=\"1\" class=\"dataframe\">\n",
       "  <thead>\n",
       "    <tr style=\"text-align: right;\">\n",
       "      <th></th>\n",
       "      <th>user_id</th>\n",
       "      <th>occupation</th>\n",
       "    </tr>\n",
       "  </thead>\n",
       "  <tbody>\n",
       "    <tr>\n",
       "      <th>0</th>\n",
       "      <td>1</td>\n",
       "      <td>technician</td>\n",
       "    </tr>\n",
       "    <tr>\n",
       "      <th>1</th>\n",
       "      <td>2</td>\n",
       "      <td>other</td>\n",
       "    </tr>\n",
       "    <tr>\n",
       "      <th>2</th>\n",
       "      <td>3</td>\n",
       "      <td>writer</td>\n",
       "    </tr>\n",
       "    <tr>\n",
       "      <th>3</th>\n",
       "      <td>4</td>\n",
       "      <td>technician</td>\n",
       "    </tr>\n",
       "    <tr>\n",
       "      <th>4</th>\n",
       "      <td>5</td>\n",
       "      <td>other</td>\n",
       "    </tr>\n",
       "  </tbody>\n",
       "</table>\n",
       "</div>"
      ],
      "text/plain": [
       "   user_id  occupation\n",
       "0        1  technician\n",
       "1        2       other\n",
       "2        3      writer\n",
       "3        4  technician\n",
       "4        5       other"
      ]
     },
     "execution_count": 6,
     "metadata": {},
     "output_type": "execute_result"
    }
   ],
   "source": [
    "# 사용자 ID(user_id)와 직업(occupation)만 남긴다.\n",
    "users = users[['user_id', 'occupation']]\n",
    "users.head()"
   ]
  },
  {
   "cell_type": "code",
   "execution_count": 7,
   "id": "4496d26f",
   "metadata": {},
   "outputs": [],
   "source": [
    "# 직업 to index\n",
    "occupation = {}\n",
    "\n",
    "def convert_occ(x):\n",
    "    if x in occupation:\n",
    "        return occupation[x]\n",
    "    else:\n",
    "        occupation[x] = len(occupation)\n",
    "        return occupation[x]\n",
    "        \n",
    "users['occupation'] = users['occupation'].apply(convert_occ)"
   ]
  },
  {
   "cell_type": "code",
   "execution_count": 8,
   "id": "f372782e",
   "metadata": {},
   "outputs": [
    {
     "data": {
      "text/html": [
       "<div>\n",
       "<style scoped>\n",
       "    .dataframe tbody tr th:only-of-type {\n",
       "        vertical-align: middle;\n",
       "    }\n",
       "\n",
       "    .dataframe tbody tr th {\n",
       "        vertical-align: top;\n",
       "    }\n",
       "\n",
       "    .dataframe thead th {\n",
       "        text-align: right;\n",
       "    }\n",
       "</style>\n",
       "<table border=\"1\" class=\"dataframe\">\n",
       "  <thead>\n",
       "    <tr style=\"text-align: right;\">\n",
       "      <th></th>\n",
       "      <th>user_id</th>\n",
       "      <th>occupation</th>\n",
       "    </tr>\n",
       "  </thead>\n",
       "  <tbody>\n",
       "    <tr>\n",
       "      <th>0</th>\n",
       "      <td>1</td>\n",
       "      <td>0</td>\n",
       "    </tr>\n",
       "    <tr>\n",
       "      <th>1</th>\n",
       "      <td>2</td>\n",
       "      <td>1</td>\n",
       "    </tr>\n",
       "    <tr>\n",
       "      <th>2</th>\n",
       "      <td>3</td>\n",
       "      <td>2</td>\n",
       "    </tr>\n",
       "    <tr>\n",
       "      <th>3</th>\n",
       "      <td>4</td>\n",
       "      <td>0</td>\n",
       "    </tr>\n",
       "    <tr>\n",
       "      <th>4</th>\n",
       "      <td>5</td>\n",
       "      <td>1</td>\n",
       "    </tr>\n",
       "    <tr>\n",
       "      <th>...</th>\n",
       "      <td>...</td>\n",
       "      <td>...</td>\n",
       "    </tr>\n",
       "    <tr>\n",
       "      <th>938</th>\n",
       "      <td>939</td>\n",
       "      <td>5</td>\n",
       "    </tr>\n",
       "    <tr>\n",
       "      <th>939</th>\n",
       "      <td>940</td>\n",
       "      <td>4</td>\n",
       "    </tr>\n",
       "    <tr>\n",
       "      <th>940</th>\n",
       "      <td>941</td>\n",
       "      <td>5</td>\n",
       "    </tr>\n",
       "    <tr>\n",
       "      <th>941</th>\n",
       "      <td>942</td>\n",
       "      <td>11</td>\n",
       "    </tr>\n",
       "    <tr>\n",
       "      <th>942</th>\n",
       "      <td>943</td>\n",
       "      <td>5</td>\n",
       "    </tr>\n",
       "  </tbody>\n",
       "</table>\n",
       "<p>943 rows × 2 columns</p>\n",
       "</div>"
      ],
      "text/plain": [
       "     user_id  occupation\n",
       "0          1           0\n",
       "1          2           1\n",
       "2          3           2\n",
       "3          4           0\n",
       "4          5           1\n",
       "..       ...         ...\n",
       "938      939           5\n",
       "939      940           4\n",
       "940      941           5\n",
       "941      942          11\n",
       "942      943           5\n",
       "\n",
       "[943 rows x 2 columns]"
      ]
     },
     "execution_count": 8,
     "metadata": {},
     "output_type": "execute_result"
    }
   ],
   "source": [
    "users"
   ]
  },
  {
   "cell_type": "code",
   "execution_count": 9,
   "id": "c9c05c02",
   "metadata": {},
   "outputs": [],
   "source": [
    "L = len(occupation)\n",
    "\n",
    "train_occ = pd.merge(ratings_train, users, on='user_id')['occupation']\n",
    "test_occ = pd.merge(ratings_test, users, on='user_id')['occupation']"
   ]
  },
  {
   "cell_type": "code",
   "execution_count": 23,
   "id": "71081691",
   "metadata": {},
   "outputs": [
    {
     "name": "stdout",
     "output_type": "stream",
     "text": [
      "사용자 개수 max값: 944\n",
      "아이템 개수 max값: 1683\n"
     ]
    }
   ],
   "source": [
    "# 잠재 요인의 수 \n",
    "K = 1000\n",
    "\n",
    "# 전체 평점 평균\n",
    "mu = ratings_train.rating.mean()\n",
    "\n",
    "# 사용자id, 영화id의 최대값을 구한다.\n",
    "# bias term의 크기 1을 고려하여 +1을 해준다.\n",
    "M = ratings.user_id.max() + 1\n",
    "N = ratings.movie_id.max() + 1\n",
    "\n",
    "print('사용자 개수 max값:', M)\n",
    "print('아이템 개수 max값:', N)"
   ]
  },
  {
   "cell_type": "markdown",
   "id": "9f654722",
   "metadata": {},
   "source": [
    "# 케라스 모델 생성"
   ]
  },
  {
   "cell_type": "code",
   "execution_count": 24,
   "id": "02179767",
   "metadata": {},
   "outputs": [],
   "source": [
    "user = Input(shape=(1, ))\n",
    "item = Input(shape=(1, ))\n",
    "\n",
    "# 행렬 P,Q 임베딩\n",
    "P_embedding = Embedding(M, K, embeddings_regularizer=l2())(user)\n",
    "Q_embedding = Embedding(N, K, embeddings_regularizer=l2())(item)\n",
    "\n",
    "# 사용자, 아이템 평가 경향도 임베딩\n",
    "user_bias = Embedding(M, 1, embeddings_regularizer=l2())(user)\n",
    "item_bias = Embedding(N, 1, embeddings_regularizer=l2())(item)"
   ]
  },
  {
   "cell_type": "code",
   "execution_count": 25,
   "id": "db062814",
   "metadata": {},
   "outputs": [],
   "source": [
    "# concatenate를 위해서는 1차원으로 Flatten해야 한다.\n",
    "P_embedding = Flatten()(P_embedding)\n",
    "Q_embedding = Flatten()(Q_embedding)\n",
    "\n",
    "user_bias = Flatten()(user_bias)\n",
    "item_bias = Flatten()(item_bias)\n"
   ]
  },
  {
   "cell_type": "code",
   "execution_count": 26,
   "id": "7d651aa1",
   "metadata": {},
   "outputs": [],
   "source": [
    "occ = Input(shape=(1, ))\n",
    "occ_embedding = Embedding(L, 3, embeddings_regularizer=l2())(occ)\n",
    "occ_layer = Flatten()(occ_embedding)\n",
    "\n",
    "R = Concatenate()([P_embedding, Q_embedding, user_bias, item_bias, occ_layer])"
   ]
  },
  {
   "cell_type": "code",
   "execution_count": 27,
   "id": "7747d1ed",
   "metadata": {},
   "outputs": [],
   "source": [
    "# layer 쌓기\n",
    "# 활성화 함수는 'linear'\n",
    "R = Dense(2048)(R)\n",
    "R = Activation('linear')(R)\n",
    "\n",
    "# 노드가 256개인 layer 추가\n",
    "R = Dense(256)(R)\n",
    "R = Activation('linear')(R)\n",
    "\n",
    "# 노드가 1개인 dense layer(출력층) 한 개 추가\n",
    "R = Dense(1)(R)"
   ]
  },
  {
   "cell_type": "code",
   "execution_count": 28,
   "id": "74359f59",
   "metadata": {},
   "outputs": [
    {
     "name": "stdout",
     "output_type": "stream",
     "text": [
      "Model: \"model_1\"\n",
      "__________________________________________________________________________________________________\n",
      " Layer (type)                   Output Shape         Param #     Connected to                     \n",
      "==================================================================================================\n",
      " input_4 (InputLayer)           [(None, 1)]          0           []                               \n",
      "                                                                                                  \n",
      " input_5 (InputLayer)           [(None, 1)]          0           []                               \n",
      "                                                                                                  \n",
      " input_6 (InputLayer)           [(None, 1)]          0           []                               \n",
      "                                                                                                  \n",
      " embedding_5 (Embedding)        (None, 1, 1000)      944000      ['input_4[0][0]']                \n",
      "                                                                                                  \n",
      " embedding_6 (Embedding)        (None, 1, 1000)      1683000     ['input_5[0][0]']                \n",
      "                                                                                                  \n",
      " embedding_7 (Embedding)        (None, 1, 1)         944         ['input_4[0][0]']                \n",
      "                                                                                                  \n",
      " embedding_8 (Embedding)        (None, 1, 1)         1683        ['input_5[0][0]']                \n",
      "                                                                                                  \n",
      " embedding_9 (Embedding)        (None, 1, 3)         63          ['input_6[0][0]']                \n",
      "                                                                                                  \n",
      " flatten_5 (Flatten)            (None, 1000)         0           ['embedding_5[0][0]']            \n",
      "                                                                                                  \n",
      " flatten_6 (Flatten)            (None, 1000)         0           ['embedding_6[0][0]']            \n",
      "                                                                                                  \n",
      " flatten_7 (Flatten)            (None, 1)            0           ['embedding_7[0][0]']            \n",
      "                                                                                                  \n",
      " flatten_8 (Flatten)            (None, 1)            0           ['embedding_8[0][0]']            \n",
      "                                                                                                  \n",
      " flatten_9 (Flatten)            (None, 3)            0           ['embedding_9[0][0]']            \n",
      "                                                                                                  \n",
      " concatenate_1 (Concatenate)    (None, 2005)         0           ['flatten_5[0][0]',              \n",
      "                                                                  'flatten_6[0][0]',              \n",
      "                                                                  'flatten_7[0][0]',              \n",
      "                                                                  'flatten_8[0][0]',              \n",
      "                                                                  'flatten_9[0][0]']              \n",
      "                                                                                                  \n",
      " dense_3 (Dense)                (None, 2048)         4108288     ['concatenate_1[0][0]']          \n",
      "                                                                                                  \n",
      " activation_2 (Activation)      (None, 2048)         0           ['dense_3[0][0]']                \n",
      "                                                                                                  \n",
      " dense_4 (Dense)                (None, 256)          524544      ['activation_2[0][0]']           \n",
      "                                                                                                  \n",
      " activation_3 (Activation)      (None, 256)          0           ['dense_4[0][0]']                \n",
      "                                                                                                  \n",
      " dense_5 (Dense)                (None, 1)            257         ['activation_3[0][0]']           \n",
      "                                                                                                  \n",
      "==================================================================================================\n",
      "Total params: 7,262,779\n",
      "Trainable params: 7,262,779\n",
      "Non-trainable params: 0\n",
      "__________________________________________________________________________________________________\n"
     ]
    }
   ],
   "source": [
    "# input에 occ(직업) 데이터가 추가됨.\n",
    "model = Model(inputs=[user, item, occ], outputs=R)\n",
    "\n",
    "model.compile(\n",
    "    loss = RMSE,\n",
    "    optimizer = SGD(),  # adam, adamax\n",
    "    metrics= [RMSE]\n",
    ")\n",
    "\n",
    "model.summary()\n",
    "# 사용자 수가 944, 잠재요인 수가 200 -> 944x200 = 188800\n",
    "# concatenate를 위해 flatten"
   ]
  },
  {
   "cell_type": "code",
   "execution_count": 29,
   "id": "4fd0bc10",
   "metadata": {},
   "outputs": [],
   "source": [
    "# 학습 데이터 정의\n",
    "train_user_ids = ratings_train.user_id.values, \n",
    "train_movie_ids = ratings_train.movie_id.values\n",
    "train_ratings = ratings_train.rating.values\n",
    "train_occs = train_occ.values   # occ(직업) 데이터 추가\n",
    "\n",
    "# 테스트 데이터 정의\n",
    "test_user_ids = ratings_test.user_id.values, \n",
    "test_movie_ids = ratings_test.movie_id.values\n",
    "test_ratings = ratings_test.rating.values\n",
    "test_occs = test_occ.values   # occ(직업) 데이터 추가"
   ]
  },
  {
   "cell_type": "code",
   "execution_count": 30,
   "id": "ff10f28a",
   "metadata": {},
   "outputs": [
    {
     "name": "stdout",
     "output_type": "stream",
     "text": [
      "Epoch 1/65\n",
      "157/157 [==============================] - 11s 66ms/step - loss: 22.3739 - RMSE: 1.1244 - val_loss: 21.6957 - val_RMSE: 1.1138\n",
      "Epoch 2/65\n",
      "157/157 [==============================] - 10s 65ms/step - loss: 21.0741 - RMSE: 1.1186 - val_loss: 20.4372 - val_RMSE: 1.1078\n",
      "Epoch 3/65\n",
      "157/157 [==============================] - 10s 65ms/step - loss: 19.8534 - RMSE: 1.1117 - val_loss: 19.2554 - val_RMSE: 1.1022\n",
      "Epoch 4/65\n",
      "157/157 [==============================] - 10s 67ms/step - loss: 18.7071 - RMSE: 1.1056 - val_loss: 18.1452 - val_RMSE: 1.0964\n",
      "Epoch 5/65\n",
      "157/157 [==============================] - 10s 66ms/step - loss: 17.6303 - RMSE: 1.0999 - val_loss: 17.1022 - val_RMSE: 1.0904\n",
      "Epoch 6/65\n",
      "157/157 [==============================] - 11s 67ms/step - loss: 16.6184 - RMSE: 1.0934 - val_loss: 16.1222 - val_RMSE: 1.0841\n",
      "Epoch 7/65\n",
      "157/157 [==============================] - 11s 68ms/step - loss: 15.6674 - RMSE: 1.0864 - val_loss: 15.2010 - val_RMSE: 1.0771\n",
      "Epoch 8/65\n",
      "157/157 [==============================] - 10s 66ms/step - loss: 14.7733 - RMSE: 1.0789 - val_loss: 14.3350 - val_RMSE: 1.0695\n",
      "Epoch 9/65\n",
      "157/157 [==============================] - 11s 68ms/step - loss: 13.9327 - RMSE: 1.0706 - val_loss: 13.5208 - val_RMSE: 1.0612\n",
      "Epoch 10/65\n",
      "157/157 [==============================] - 10s 66ms/step - loss: 13.1424 - RMSE: 1.0617 - val_loss: 12.7556 - val_RMSE: 1.0528\n",
      "Epoch 11/65\n",
      "157/157 [==============================] - 10s 66ms/step - loss: 12.3990 - RMSE: 1.0525 - val_loss: 12.0354 - val_RMSE: 1.0430\n",
      "Epoch 12/65\n",
      "157/157 [==============================] - 11s 71ms/step - loss: 11.6999 - RMSE: 1.0424 - val_loss: 11.3584 - val_RMSE: 1.0332\n",
      "Epoch 13/65\n",
      "157/157 [==============================] - 11s 68ms/step - loss: 11.0429 - RMSE: 1.0317 - val_loss: 10.7221 - val_RMSE: 1.0234\n",
      "Epoch 14/65\n",
      "157/157 [==============================] - 10s 65ms/step - loss: 10.4251 - RMSE: 1.0219 - val_loss: 10.1242 - val_RMSE: 1.0137\n",
      "Epoch 15/65\n",
      "157/157 [==============================] - 10s 66ms/step - loss: 9.8448 - RMSE: 1.0119 - val_loss: 9.5627 - val_RMSE: 1.0048\n",
      "Epoch 16/65\n",
      "157/157 [==============================] - 10s 64ms/step - loss: 9.2998 - RMSE: 1.0028 - val_loss: 9.0352 - val_RMSE: 0.9963\n",
      "Epoch 17/65\n",
      "157/157 [==============================] - 10s 64ms/step - loss: 8.7880 - RMSE: 0.9940 - val_loss: 8.5402 - val_RMSE: 0.9888\n",
      "Epoch 18/65\n",
      "157/157 [==============================] - 10s 65ms/step - loss: 8.3078 - RMSE: 0.9871 - val_loss: 8.0756 - val_RMSE: 0.9821\n",
      "Epoch 19/65\n",
      "157/157 [==============================] - 10s 63ms/step - loss: 7.8569 - RMSE: 0.9801 - val_loss: 7.6397 - val_RMSE: 0.9763\n",
      "Epoch 20/65\n",
      "157/157 [==============================] - 10s 65ms/step - loss: 7.4337 - RMSE: 0.9736 - val_loss: 7.2303 - val_RMSE: 0.9710\n",
      "Epoch 21/65\n",
      "157/157 [==============================] - 10s 65ms/step - loss: 7.0365 - RMSE: 0.9680 - val_loss: 6.8462 - val_RMSE: 0.9664\n",
      "Epoch 22/65\n",
      "157/157 [==============================] - 10s 64ms/step - loss: 6.6637 - RMSE: 0.9635 - val_loss: 6.4853 - val_RMSE: 0.9620\n",
      "Epoch 23/65\n",
      "157/157 [==============================] - 10s 64ms/step - loss: 6.3138 - RMSE: 0.9589 - val_loss: 6.1477 - val_RMSE: 0.9592\n",
      "Epoch 24/65\n",
      "157/157 [==============================] - 10s 64ms/step - loss: 5.9854 - RMSE: 0.9548 - val_loss: 5.8290 - val_RMSE: 0.9549\n",
      "Epoch 25/65\n",
      "157/157 [==============================] - 10s 65ms/step - loss: 5.6769 - RMSE: 0.9516 - val_loss: 5.5307 - val_RMSE: 0.9520\n",
      "Epoch 26/65\n",
      "157/157 [==============================] - 10s 65ms/step - loss: 5.3874 - RMSE: 0.9488 - val_loss: 5.2515 - val_RMSE: 0.9502\n",
      "Epoch 27/65\n",
      "157/157 [==============================] - 11s 69ms/step - loss: 5.1156 - RMSE: 0.9455 - val_loss: 4.9881 - val_RMSE: 0.9474\n",
      "Epoch 28/65\n",
      "157/157 [==============================] - 10s 65ms/step - loss: 4.8606 - RMSE: 0.9432 - val_loss: 4.7410 - val_RMSE: 0.9450\n",
      "Epoch 29/65\n",
      "157/157 [==============================] - 10s 64ms/step - loss: 4.6209 - RMSE: 0.9401 - val_loss: 4.5093 - val_RMSE: 0.9431\n",
      "Epoch 30/65\n",
      "157/157 [==============================] - 10s 64ms/step - loss: 4.3961 - RMSE: 0.9389 - val_loss: 4.2920 - val_RMSE: 0.9416\n",
      "Epoch 31/65\n",
      "157/157 [==============================] - 10s 63ms/step - loss: 4.1850 - RMSE: 0.9369 - val_loss: 4.0876 - val_RMSE: 0.9400\n",
      "Epoch 32/65\n",
      "157/157 [==============================] - 10s 64ms/step - loss: 3.9866 - RMSE: 0.9352 - val_loss: 3.8959 - val_RMSE: 0.9386\n",
      "Epoch 33/65\n",
      "157/157 [==============================] - 10s 64ms/step - loss: 3.8006 - RMSE: 0.9341 - val_loss: 3.7195 - val_RMSE: 0.9412\n",
      "Epoch 34/65\n",
      "157/157 [==============================] - 10s 65ms/step - loss: 3.6258 - RMSE: 0.9324 - val_loss: 3.5488 - val_RMSE: 0.9383\n",
      "Epoch 35/65\n",
      "157/157 [==============================] - 10s 65ms/step - loss: 3.4616 - RMSE: 0.9310 - val_loss: 3.3891 - val_RMSE: 0.9363\n",
      "Epoch 36/65\n",
      "157/157 [==============================] - 10s 64ms/step - loss: 3.3076 - RMSE: 0.9301 - val_loss: 3.2398 - val_RMSE: 0.9352\n",
      "Epoch 37/65\n",
      "157/157 [==============================] - 10s 64ms/step - loss: 3.1630 - RMSE: 0.9288 - val_loss: 3.0991 - val_RMSE: 0.9337\n",
      "Epoch 38/65\n",
      "157/157 [==============================] - 10s 64ms/step - loss: 3.0273 - RMSE: 0.9282 - val_loss: 2.9676 - val_RMSE: 0.9330\n",
      "Epoch 39/65\n",
      "157/157 [==============================] - 10s 65ms/step - loss: 2.8997 - RMSE: 0.9276 - val_loss: 2.8448 - val_RMSE: 0.9329\n",
      "Epoch 40/65\n",
      "157/157 [==============================] - 10s 65ms/step - loss: 2.7800 - RMSE: 0.9263 - val_loss: 2.7295 - val_RMSE: 0.9330\n",
      "Epoch 41/65\n",
      "157/157 [==============================] - 10s 64ms/step - loss: 2.6675 - RMSE: 0.9262 - val_loss: 2.6217 - val_RMSE: 0.9336\n",
      "Epoch 42/65\n",
      "157/157 [==============================] - 10s 66ms/step - loss: 2.5620 - RMSE: 0.9264 - val_loss: 2.5278 - val_RMSE: 0.9416\n",
      "Epoch 43/65\n",
      "157/157 [==============================] - 10s 66ms/step - loss: 2.4630 - RMSE: 0.9257 - val_loss: 2.4218 - val_RMSE: 0.9308\n",
      "Epoch 44/65\n",
      "157/157 [==============================] - 10s 66ms/step - loss: 2.3698 - RMSE: 0.9254 - val_loss: 2.3316 - val_RMSE: 0.9304\n",
      "Epoch 45/65\n",
      "157/157 [==============================] - 10s 65ms/step - loss: 2.2823 - RMSE: 0.9251 - val_loss: 2.2485 - val_RMSE: 0.9314\n",
      "Epoch 46/65\n",
      "157/157 [==============================] - 10s 66ms/step - loss: 2.2001 - RMSE: 0.9248 - val_loss: 2.1683 - val_RMSE: 0.9306\n",
      "Epoch 47/65\n",
      "157/157 [==============================] - 10s 65ms/step - loss: 2.1234 - RMSE: 0.9244 - val_loss: 2.0929 - val_RMSE: 0.9297\n",
      "Epoch 48/65\n",
      "157/157 [==============================] - 10s 66ms/step - loss: 2.0508 - RMSE: 0.9237 - val_loss: 2.0228 - val_RMSE: 0.9295\n",
      "Epoch 49/65\n",
      "157/157 [==============================] - 10s 65ms/step - loss: 1.9829 - RMSE: 0.9241 - val_loss: 1.9657 - val_RMSE: 0.9382\n",
      "Epoch 50/65\n",
      "157/157 [==============================] - 10s 65ms/step - loss: 1.9191 - RMSE: 0.9238 - val_loss: 1.9016 - val_RMSE: 0.9356\n",
      "Epoch 51/65\n",
      "157/157 [==============================] - 10s 65ms/step - loss: 1.8593 - RMSE: 0.9233 - val_loss: 1.8367 - val_RMSE: 0.9285\n",
      "Epoch 52/65\n",
      "157/157 [==============================] - 10s 65ms/step - loss: 1.8026 - RMSE: 0.9227 - val_loss: 1.7823 - val_RMSE: 0.9283\n",
      "Epoch 53/65\n",
      "157/157 [==============================] - 10s 65ms/step - loss: 1.7500 - RMSE: 0.9231 - val_loss: 1.7337 - val_RMSE: 0.9306\n",
      "Epoch 54/65\n",
      "157/157 [==============================] - 10s 65ms/step - loss: 1.7003 - RMSE: 0.9232 - val_loss: 1.6839 - val_RMSE: 0.9290\n",
      "Epoch 55/65\n",
      "157/157 [==============================] - 10s 65ms/step - loss: 1.6537 - RMSE: 0.9232 - val_loss: 1.6381 - val_RMSE: 0.9282\n",
      "Epoch 56/65\n",
      "157/157 [==============================] - 10s 66ms/step - loss: 1.6100 - RMSE: 0.9233 - val_loss: 1.5971 - val_RMSE: 0.9298\n",
      "Epoch 57/65\n",
      "157/157 [==============================] - 10s 66ms/step - loss: 1.5688 - RMSE: 0.9223 - val_loss: 1.5557 - val_RMSE: 0.9280\n",
      "Epoch 58/65\n",
      "157/157 [==============================] - 10s 66ms/step - loss: 1.5299 - RMSE: 0.9223 - val_loss: 1.5189 - val_RMSE: 0.9286\n",
      "Epoch 59/65\n",
      "157/157 [==============================] - 10s 66ms/step - loss: 1.4937 - RMSE: 0.9223 - val_loss: 1.4829 - val_RMSE: 0.9276\n",
      "Epoch 60/65\n"
     ]
    },
    {
     "name": "stdout",
     "output_type": "stream",
     "text": [
      "157/157 [==============================] - 10s 65ms/step - loss: 1.4601 - RMSE: 0.9223 - val_loss: 1.4574 - val_RMSE: 0.9347\n",
      "Epoch 61/65\n",
      "157/157 [==============================] - 10s 65ms/step - loss: 1.4277 - RMSE: 0.9226 - val_loss: 1.4186 - val_RMSE: 0.9272\n",
      "Epoch 62/65\n",
      "157/157 [==============================] - 10s 65ms/step - loss: 1.3979 - RMSE: 0.9228 - val_loss: 1.3943 - val_RMSE: 0.9319\n",
      "Epoch 63/65\n",
      "157/157 [==============================] - 10s 66ms/step - loss: 1.3695 - RMSE: 0.9227 - val_loss: 1.3634 - val_RMSE: 0.9284\n",
      "Epoch 64/65\n",
      "157/157 [==============================] - 10s 64ms/step - loss: 1.3433 - RMSE: 0.9229 - val_loss: 1.3381 - val_RMSE: 0.9289\n",
      "Epoch 65/65\n",
      "157/157 [==============================] - 10s 64ms/step - loss: 1.3182 - RMSE: 0.9221 - val_loss: 1.3202 - val_RMSE: 0.9353\n",
      "CPU times: user 57min 16s, sys: 4min 31s, total: 1h 1min 47s\n",
      "Wall time: 11min 6s\n"
     ]
    }
   ],
   "source": [
    "%%time\n",
    "# 학습시간 약 5분\n",
    "result = model.fit(\n",
    "    x = [train_user_ids, train_movie_ids, train_occs], \n",
    "    y = train_ratings - mu,\n",
    "    epochs = 65,\n",
    "    batch_size = 512,\n",
    "    validation_data = (\n",
    "        [test_user_ids, test_movie_ids, test_occs],\n",
    "        test_ratings - mu\n",
    "    )\n",
    ")"
   ]
  },
  {
   "cell_type": "markdown",
   "id": "979a812f",
   "metadata": {},
   "source": [
    "* 1 epoch : 전체 데이터(80000)를 한 번 학습하는 것 -> 65번\n",
    "* batch_size(512) : 전체 데이터를 몇 개씩 학습할것인가\n",
    "* 1 iteration : 1 batch_size만큼 학습하는 것\n",
    " -> 80000/512"
   ]
  },
  {
   "cell_type": "code",
   "execution_count": 18,
   "id": "04af0a5e",
   "metadata": {
    "scrolled": false
   },
   "outputs": [
    {
     "data": {
      "image/png": "[encoded data removed]",
      "text/plain": [
       "<Figure size 720x720 with 1 Axes>"
      ]
     },
     "metadata": {
      "needs_background": "light"
     },
     "output_type": "display_data"
    }
   ],
   "source": [
    "# 학습 과정 시각화\n",
    "plt.figure(figsize=(10, 10))\n",
    "plt.plot(result.history['RMSE'], label=\"Train RMSE\")\n",
    "plt.plot(result.history['val_RMSE'], label=\"Test RMSE\")\n",
    "plt.legend()\n",
    "plt.show()"
   ]
  },
  {
   "cell_type": "code",
   "execution_count": 19,
   "id": "37741455",
   "metadata": {
    "scrolled": true
   },
   "outputs": [
    {
     "data": {
      "text/plain": [
       "array([[3.7709205],\n",
       "       [2.9803004],\n",
       "       [4.4487243],\n",
       "       [3.6739192],\n",
       "       [1.565083 ],\n",
       "       [4.389054 ],\n",
       "       [3.5579152],\n",
       "       [3.2390487],\n",
       "       [5.1090612],\n",
       "       [4.0743403],\n",
       "       [3.620173 ],\n",
       "       [2.2541263],\n",
       "       [4.4799457],\n",
       "       [4.0487514],\n",
       "       [4.200209 ]], dtype=float32)"
      ]
     },
     "execution_count": 19,
     "metadata": {},
     "output_type": "execute_result"
    }
   ],
   "source": [
    "# 모델로 test 데이터 예측\n",
    "predictions = model.predict([test_user_ids, test_movie_ids, test_occs]) + mu\n",
    "\n",
    "# 예측값들 확인\n",
    "predictions[:15]"
   ]
  },
  {
   "cell_type": "code",
   "execution_count": 20,
   "id": "3ee8b422",
   "metadata": {},
   "outputs": [
    {
     "name": "stdout",
     "output_type": "stream",
     "text": [
      "23307    3\n",
      "36679    3\n",
      "36626    5\n",
      "83753    2\n",
      "52604    1\n",
      "49877    5\n",
      "83837    3\n",
      "46797    2\n",
      "31308    5\n",
      "5448     4\n",
      "70587    5\n",
      "70425    2\n",
      "55063    5\n",
      "67450    4\n",
      "86251    4\n",
      "Name: rating, dtype: int64\n"
     ]
    }
   ],
   "source": [
    "# 실제값\n",
    "print(ratings_test.rating[:15])"
   ]
  },
  {
   "cell_type": "code",
   "execution_count": 21,
   "id": "9eb89a91",
   "metadata": {},
   "outputs": [],
   "source": [
    "import numpy as np\n",
    "\n",
    "# 넘파이를 활용한 RMSE 함수\n",
    "def RMSE2(y_true, y_pred):\n",
    "    return np.sqrt(np.mean((np.array(y_true) - np.array(y_pred))**2))"
   ]
  },
  {
   "cell_type": "code",
   "execution_count": 22,
   "id": "24b3ab96",
   "metadata": {},
   "outputs": [
    {
     "data": {
      "text/plain": [
       "0.9309497444413507"
      ]
     },
     "execution_count": 22,
     "metadata": {},
     "output_type": "execute_result"
    }
   ],
   "source": [
    "# ravel : 1차원으로 변환\n",
    "y_pred = np.ravel(predictions, order='C')\n",
    "y_true = np.array(ratings_test.rating)\n",
    "\n",
    "RMSE2(y_true, y_pred)"
   ]
  },
  {
   "cell_type": "raw",
   "id": "9e07e05c",
   "metadata": {},
   "source": [
    "-> 딥러닝에 직업 데이터를 추가했더니, 모델 성능(RMSE)이 소폭 향상되었다(0.946 -> 0.930)\n",
    "만약 추가로 또 다른 유의미한 사용자 변수를 사용한다면 성능이 더욱 향상되지 않을까 생각됨."
   ]
  },
  {
   "cell_type": "code",
   "execution_count": null,
   "id": "a870b3c9",
   "metadata": {},
   "outputs": [],
   "source": []
  },
  {
   "cell_type": "code",
   "execution_count": null,
   "id": "f74604c6",
   "metadata": {},
   "outputs": [],
   "source": []
  }
 ],
 "metadata": {
  "kernelspec": {
   "display_name": "Python 3 (ipykernel)",
   "language": "python",
   "name": "python3"
  },
  "language_info": {
   "codemirror_mode": {
    "name": "ipython",
    "version": 3
   },
   "file_extension": ".py",
   "mimetype": "text/x-python",
   "name": "python",
   "nbconvert_exporter": "python",
   "pygments_lexer": "ipython3",
   "version": "3.8.13"
  },
  "varInspector": {
   "cols": {
    "lenName": 16,
    "lenType": 16,
    "lenVar": 40
   },
   "kernels_config": {
    "python": {
     "delete_cmd_postfix": "",
     "delete_cmd_prefix": "del ",
     "library": "var_list.py",
     "varRefreshCmd": "print(var_dic_list())"
    },
    "r": {
     "delete_cmd_postfix": ") ",
     "delete_cmd_prefix": "rm(",
     "library": "var_list.r",
     "varRefreshCmd": "cat(var_dic_list()) "
    }
   },
   "types_to_exclude": [
    "module",
    "function",
    "builtin_function_or_method",
    "instance",
    "_Feature"
   ],
   "window_display": false
  }
 },
 "nbformat": 4,
 "nbformat_minor": 5
}
