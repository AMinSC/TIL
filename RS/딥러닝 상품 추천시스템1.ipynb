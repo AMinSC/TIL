{
 "cells": [
  {
   "cell_type": "markdown",
   "id": "1959e3e1",
   "metadata": {},
   "source": [
    "# 1. 사용자의 아이템 평점 데이터만을 활용해서 딥러닝 모델링\n"
   ]
  },
  {
   "cell_type": "code",
   "execution_count": 1,
   "id": "6d72a64c",
   "metadata": {},
   "outputs": [
    {
     "name": "stderr",
     "output_type": "stream",
     "text": [
      "/Users/aiden/opt/anaconda3/lib/python3.8/site-packages/requests/__init__.py:89: RequestsDependencyWarning: urllib3 (1.26.10) or chardet (3.0.4) doesn't match a supported version!\n",
      "  warnings.warn(\"urllib3 ({}) or chardet ({}) doesn't match a supported \"\n"
     ]
    }
   ],
   "source": [
    "import pandas as pd\n",
    "import numpy as np\n",
    "import matplotlib.pyplot as plt\n",
    "\n",
    "from sklearn.model_selection import train_test_split\n",
    "\n",
    "import tensorflow as tf\n",
    "from tensorflow.keras import layers\n",
    "from tensorflow.keras.models import Model\n",
    "from tensorflow.keras.layers import Input, Embedding, Dot, Add, Flatten\n",
    "\n",
    "# 딥러닝 layer 관련\n",
    "from tensorflow.keras.layers import Dense, Concatenate, Activation\n",
    "from tensorflow.keras.regularizers import l2\n",
    "from tensorflow.keras.optimizers import SGD, Adamax"
   ]
  },
  {
   "cell_type": "code",
   "execution_count": 2,
   "id": "a7191957",
   "metadata": {},
   "outputs": [
    {
     "name": "stdout",
     "output_type": "stream",
     "text": [
      "(100000, 4)\n"
     ]
    },
    {
     "data": {
      "text/html": [
       "<div>\n",
       "<style scoped>\n",
       "    .dataframe tbody tr th:only-of-type {\n",
       "        vertical-align: middle;\n",
       "    }\n",
       "\n",
       "    .dataframe tbody tr th {\n",
       "        vertical-align: top;\n",
       "    }\n",
       "\n",
       "    .dataframe thead th {\n",
       "        text-align: right;\n",
       "    }\n",
       "</style>\n",
       "<table border=\"1\" class=\"dataframe\">\n",
       "  <thead>\n",
       "    <tr style=\"text-align: right;\">\n",
       "      <th></th>\n",
       "      <th>user_id</th>\n",
       "      <th>movie_id</th>\n",
       "      <th>rating</th>\n",
       "      <th>timestamp</th>\n",
       "    </tr>\n",
       "  </thead>\n",
       "  <tbody>\n",
       "    <tr>\n",
       "      <th>0</th>\n",
       "      <td>196</td>\n",
       "      <td>242</td>\n",
       "      <td>3</td>\n",
       "      <td>881250949</td>\n",
       "    </tr>\n",
       "    <tr>\n",
       "      <th>1</th>\n",
       "      <td>186</td>\n",
       "      <td>302</td>\n",
       "      <td>3</td>\n",
       "      <td>891717742</td>\n",
       "    </tr>\n",
       "    <tr>\n",
       "      <th>2</th>\n",
       "      <td>22</td>\n",
       "      <td>377</td>\n",
       "      <td>1</td>\n",
       "      <td>878887116</td>\n",
       "    </tr>\n",
       "    <tr>\n",
       "      <th>3</th>\n",
       "      <td>244</td>\n",
       "      <td>51</td>\n",
       "      <td>2</td>\n",
       "      <td>880606923</td>\n",
       "    </tr>\n",
       "    <tr>\n",
       "      <th>4</th>\n",
       "      <td>166</td>\n",
       "      <td>346</td>\n",
       "      <td>1</td>\n",
       "      <td>886397596</td>\n",
       "    </tr>\n",
       "  </tbody>\n",
       "</table>\n",
       "</div>"
      ],
      "text/plain": [
       "   user_id  movie_id  rating  timestamp\n",
       "0      196       242       3  881250949\n",
       "1      186       302       3  891717742\n",
       "2       22       377       1  878887116\n",
       "3      244        51       2  880606923\n",
       "4      166       346       1  886397596"
      ]
     },
     "execution_count": 2,
     "metadata": {},
     "output_type": "execute_result"
    }
   ],
   "source": [
    "# DataFrame 형태로 데이터를 읽어온다.\n",
    "r_cols = ['user_id', 'movie_id', 'rating', 'timestamp']\n",
    "\n",
    "# 평점 데이터 \"u.data\" 가져오기\n",
    "ratings = pd.read_csv('./u.data', \n",
    "                     names=r_cols,\n",
    "                      sep='\\t',\n",
    "                      encoding='latin-1'\n",
    "                     )\n",
    "print(ratings.shape)\n",
    "ratings.head()"
   ]
  },
  {
   "cell_type": "code",
   "execution_count": 3,
   "id": "f3c65680",
   "metadata": {},
   "outputs": [],
   "source": [
    "# 학습,테스트 구분하기\n",
    "ratings_train, ratings_test = train_test_split(ratings,\n",
    "                                              test_size=0.2,\n",
    "                                              shuffle=True,\n",
    "                                              random_state=2022)"
   ]
  },
  {
   "cell_type": "code",
   "execution_count": 4,
   "id": "68f8d43b",
   "metadata": {},
   "outputs": [],
   "source": [
    "# RMSE 함수 (keras에는 RMSE 메소드 없어서 만들어줘야 함)\n",
    "def RMSE(y_true, y_pred):\n",
    "    return tf.sqrt(tf.reduce_mean(tf.square(y_true - y_pred)))"
   ]
  },
  {
   "cell_type": "code",
   "execution_count": 5,
   "id": "cd4888e9",
   "metadata": {},
   "outputs": [],
   "source": [
    "# 잠재 요인의 수 \n",
    "K=200\n",
    "\n",
    "# 전체 평점 평균\n",
    "mu = ratings_train.rating.mean()\n",
    "\n",
    "# 사용자id, 영화id의 최대값을 구한다.\n",
    "# bias term의 크기 1을 고려하여 +1을 해준다.\n",
    "M = ratings.user_id.max() + 1\n",
    "N = ratings.movie_id.max() + 1"
   ]
  },
  {
   "cell_type": "code",
   "execution_count": 6,
   "id": "e157b05c",
   "metadata": {},
   "outputs": [
    {
     "name": "stdout",
     "output_type": "stream",
     "text": [
      "사용자 개수 max값: 944\n",
      "아이템 개수 max값: 1683\n"
     ]
    }
   ],
   "source": [
    "print('사용자 개수 max값:', M)\n",
    "print('아이템 개수 max값:', N)"
   ]
  },
  {
   "cell_type": "markdown",
   "id": "f9a81234",
   "metadata": {},
   "source": [
    "# 케라스 모델 생성"
   ]
  },
  {
   "cell_type": "code",
   "execution_count": 7,
   "id": "02fefc87",
   "metadata": {},
   "outputs": [],
   "source": [
    "user = Input(shape=(1, ))\n",
    "item = Input(shape=(1, ))\n",
    "\n",
    "# 행렬 P,Q 임베딩\n",
    "P_embedding = Embedding(M, K, embeddings_regularizer=l2())(user)\n",
    "Q_embedding = Embedding(N, K, embeddings_regularizer=l2())(item)\n",
    "\n",
    "# 사용자, 아이템 평가 경향도 임베딩\n",
    "user_bias = Embedding(M, 1, embeddings_regularizer=l2())(user)\n",
    "item_bias = Embedding(N, 1, embeddings_regularizer=l2())(item)"
   ]
  },
  {
   "cell_type": "code",
   "execution_count": 8,
   "id": "26481564",
   "metadata": {},
   "outputs": [],
   "source": [
    "# concatenate를 위해서는 1차원으로 Flatten해야 한다.\n",
    "P_embedding = Flatten()(P_embedding)\n",
    "Q_embedding = Flatten()(Q_embedding)\n",
    "\n",
    "user_bias = Flatten()(user_bias)\n",
    "item_bias = Flatten()(item_bias)\n",
    "\n",
    "R = Concatenate()([P_embedding, Q_embedding, user_bias, item_bias])"
   ]
  },
  {
   "cell_type": "code",
   "execution_count": 9,
   "id": "9add4fb0",
   "metadata": {},
   "outputs": [],
   "source": [
    "# layer 쌓기\n",
    "\n",
    "# 노드가 2048개인 layer 생성.\n",
    "# 활성화 함수는 'linear'\n",
    "R = Dense(2048)(R)\n",
    "R = Activation('linear')(R)\n",
    "\n",
    "# 노드가 256개인 layer 추가\n",
    "R = Dense(256)(R)\n",
    "R = Activation('linear')(R)\n",
    "\n",
    "# 노드가 1개인 dense layer(출력층) 한 개 추가\n",
    "R = Dense(1)(R)"
   ]
  },
  {
   "cell_type": "code",
   "execution_count": 10,
   "id": "2ccf9da2",
   "metadata": {
    "scrolled": false
   },
   "outputs": [
    {
     "name": "stdout",
     "output_type": "stream",
     "text": [
      "Model: \"model\"\n",
      "__________________________________________________________________________________________________\n",
      " Layer (type)                   Output Shape         Param #     Connected to                     \n",
      "==================================================================================================\n",
      " input_1 (InputLayer)           [(None, 1)]          0           []                               \n",
      "                                                                                                  \n",
      " input_2 (InputLayer)           [(None, 1)]          0           []                               \n",
      "                                                                                                  \n",
      " embedding (Embedding)          (None, 1, 200)       188800      ['input_1[0][0]']                \n",
      "                                                                                                  \n",
      " embedding_1 (Embedding)        (None, 1, 200)       336600      ['input_2[0][0]']                \n",
      "                                                                                                  \n",
      " embedding_2 (Embedding)        (None, 1, 1)         944         ['input_1[0][0]']                \n",
      "                                                                                                  \n",
      " embedding_3 (Embedding)        (None, 1, 1)         1683        ['input_2[0][0]']                \n",
      "                                                                                                  \n",
      " flatten (Flatten)              (None, 200)          0           ['embedding[0][0]']              \n",
      "                                                                                                  \n",
      " flatten_1 (Flatten)            (None, 200)          0           ['embedding_1[0][0]']            \n",
      "                                                                                                  \n",
      " flatten_2 (Flatten)            (None, 1)            0           ['embedding_2[0][0]']            \n",
      "                                                                                                  \n",
      " flatten_3 (Flatten)            (None, 1)            0           ['embedding_3[0][0]']            \n",
      "                                                                                                  \n",
      " concatenate (Concatenate)      (None, 402)          0           ['flatten[0][0]',                \n",
      "                                                                  'flatten_1[0][0]',              \n",
      "                                                                  'flatten_2[0][0]',              \n",
      "                                                                  'flatten_3[0][0]']              \n",
      "                                                                                                  \n",
      " dense (Dense)                  (None, 2048)         825344      ['concatenate[0][0]']            \n",
      "                                                                                                  \n",
      " activation (Activation)        (None, 2048)         0           ['dense[0][0]']                  \n",
      "                                                                                                  \n",
      " dense_1 (Dense)                (None, 256)          524544      ['activation[0][0]']             \n",
      "                                                                                                  \n",
      " activation_1 (Activation)      (None, 256)          0           ['dense_1[0][0]']                \n",
      "                                                                                                  \n",
      " dense_2 (Dense)                (None, 1)            257         ['activation_1[0][0]']           \n",
      "                                                                                                  \n",
      "==================================================================================================\n",
      "Total params: 1,878,172\n",
      "Trainable params: 1,878,172\n",
      "Non-trainable params: 0\n",
      "__________________________________________________________________________________________________\n"
     ]
    }
   ],
   "source": [
    "model = Model(inputs=[user, item], outputs=R)\n",
    "\n",
    "model.compile(\n",
    "    loss = RMSE,\n",
    "    optimizer = SGD(),  # adam, adamax\n",
    "    metrics= [RMSE]\n",
    ")\n",
    "\n",
    "model.summary()\n",
    "# 사용자 수가 944, 잠재요인 수가 200 -> 944x200 = 188800\n",
    "# concatenate를 위해 flatten"
   ]
  },
  {
   "cell_type": "code",
   "execution_count": 11,
   "id": "5e8adbc0",
   "metadata": {},
   "outputs": [],
   "source": [
    "# 학습 데이터 정의\n",
    "train_user_ids = ratings_train.user_id.values, \n",
    "train_movie_ids = ratings_train.movie_id.values\n",
    "train_ratings = ratings_train.rating.values\n",
    "\n",
    "# 테스트 데이터 정의\n",
    "test_user_ids = ratings_test.user_id.values, \n",
    "test_movie_ids = ratings_test.movie_id.values\n",
    "test_ratings = ratings_test.rating.values"
   ]
  },
  {
   "cell_type": "code",
   "execution_count": 12,
   "id": "04bab380",
   "metadata": {
    "scrolled": true
   },
   "outputs": [
    {
     "name": "stdout",
     "output_type": "stream",
     "text": [
      "Epoch 1/65\n",
      "157/157 [==============================] - 4s 25ms/step - loss: 5.3935 - RMSE: 1.1260 - val_loss: 5.2556 - val_RMSE: 1.1193\n",
      "Epoch 2/65\n",
      "157/157 [==============================] - 4s 26ms/step - loss: 5.1321 - RMSE: 1.1243 - val_loss: 5.0025 - val_RMSE: 1.1179\n",
      "Epoch 3/65\n",
      "157/157 [==============================] - 5s 29ms/step - loss: 4.8867 - RMSE: 1.1224 - val_loss: 4.7650 - val_RMSE: 1.1167\n",
      "Epoch 4/65\n",
      "157/157 [==============================] - 4s 27ms/step - loss: 4.6560 - RMSE: 1.1216 - val_loss: 4.5416 - val_RMSE: 1.1151\n",
      "Epoch 5/65\n",
      "157/157 [==============================] - 4s 27ms/step - loss: 4.4395 - RMSE: 1.1197 - val_loss: 4.3319 - val_RMSE: 1.1136\n",
      "Epoch 6/65\n",
      "157/157 [==============================] - 5s 32ms/step - loss: 4.2360 - RMSE: 1.1184 - val_loss: 4.1347 - val_RMSE: 1.1120\n",
      "Epoch 7/65\n",
      "157/157 [==============================] - 5s 31ms/step - loss: 4.0447 - RMSE: 1.1164 - val_loss: 3.9494 - val_RMSE: 1.1103\n",
      "Epoch 8/65\n",
      "157/157 [==============================] - 5s 30ms/step - loss: 3.8650 - RMSE: 1.1146 - val_loss: 3.7753 - val_RMSE: 1.1087\n",
      "Epoch 9/65\n",
      "157/157 [==============================] - 5s 30ms/step - loss: 3.6958 - RMSE: 1.1127 - val_loss: 3.6120 - val_RMSE: 1.1072\n",
      "Epoch 10/65\n",
      "157/157 [==============================] - 5s 29ms/step - loss: 3.5367 - RMSE: 1.1106 - val_loss: 3.4574 - val_RMSE: 1.1046\n",
      "Epoch 11/65\n",
      "157/157 [==============================] - 5s 31ms/step - loss: 3.3868 - RMSE: 1.1072 - val_loss: 3.3118 - val_RMSE: 1.1015\n",
      "Epoch 12/65\n",
      "157/157 [==============================] - 5s 31ms/step - loss: 3.2455 - RMSE: 1.1047 - val_loss: 3.1748 - val_RMSE: 1.0985\n",
      "Epoch 13/65\n",
      "157/157 [==============================] - 5s 29ms/step - loss: 3.1122 - RMSE: 1.1011 - val_loss: 3.0459 - val_RMSE: 1.0952\n",
      "Epoch 14/65\n",
      "157/157 [==============================] - 4s 28ms/step - loss: 2.9864 - RMSE: 1.0962 - val_loss: 2.9239 - val_RMSE: 1.0912\n",
      "Epoch 15/65\n",
      "157/157 [==============================] - 5s 29ms/step - loss: 2.8673 - RMSE: 1.0922 - val_loss: 2.8080 - val_RMSE: 1.0858\n",
      "Epoch 16/65\n",
      "157/157 [==============================] - 5s 30ms/step - loss: 2.7545 - RMSE: 1.0867 - val_loss: 2.6986 - val_RMSE: 1.0803\n",
      "Epoch 17/65\n",
      "157/157 [==============================] - 5s 31ms/step - loss: 2.6476 - RMSE: 1.0797 - val_loss: 2.5951 - val_RMSE: 1.0743\n",
      "Epoch 18/65\n",
      "157/157 [==============================] - 5s 29ms/step - loss: 2.5459 - RMSE: 1.0718 - val_loss: 2.4960 - val_RMSE: 1.0664\n",
      "Epoch 19/65\n",
      "157/157 [==============================] - 5s 29ms/step - loss: 2.4491 - RMSE: 1.0635 - val_loss: 2.4026 - val_RMSE: 1.0587\n",
      "Epoch 20/65\n",
      "157/157 [==============================] - 5s 30ms/step - loss: 2.3570 - RMSE: 1.0541 - val_loss: 2.3129 - val_RMSE: 1.0493\n",
      "Epoch 21/65\n",
      "157/157 [==============================] - 4s 29ms/step - loss: 2.2693 - RMSE: 1.0438 - val_loss: 2.2294 - val_RMSE: 1.0412\n",
      "Epoch 22/65\n",
      "157/157 [==============================] - 5s 30ms/step - loss: 2.1860 - RMSE: 1.0336 - val_loss: 2.1485 - val_RMSE: 1.0310\n",
      "Epoch 23/65\n",
      "157/157 [==============================] - 4s 28ms/step - loss: 2.1072 - RMSE: 1.0228 - val_loss: 2.0725 - val_RMSE: 1.0214\n",
      "Epoch 24/65\n",
      "157/157 [==============================] - 5s 29ms/step - loss: 2.0327 - RMSE: 1.0126 - val_loss: 2.0010 - val_RMSE: 1.0122\n",
      "Epoch 25/65\n",
      "157/157 [==============================] - 4s 29ms/step - loss: 1.9628 - RMSE: 1.0027 - val_loss: 1.9338 - val_RMSE: 1.0035\n",
      "Epoch 26/65\n",
      "157/157 [==============================] - 5s 31ms/step - loss: 1.8971 - RMSE: 0.9932 - val_loss: 1.8712 - val_RMSE: 0.9959\n",
      "Epoch 27/65\n",
      "157/157 [==============================] - 5s 30ms/step - loss: 1.8356 - RMSE: 0.9854 - val_loss: 1.8126 - val_RMSE: 0.9891\n",
      "Epoch 28/65\n",
      "157/157 [==============================] - 5s 30ms/step - loss: 1.7782 - RMSE: 0.9780 - val_loss: 1.7587 - val_RMSE: 0.9839\n",
      "Epoch 29/65\n",
      "157/157 [==============================] - 5s 29ms/step - loss: 1.7247 - RMSE: 0.9710 - val_loss: 1.7074 - val_RMSE: 0.9783\n",
      "Epoch 30/65\n",
      "157/157 [==============================] - 5s 30ms/step - loss: 1.6748 - RMSE: 0.9659 - val_loss: 1.6604 - val_RMSE: 0.9743\n",
      "Epoch 31/65\n",
      "157/157 [==============================] - 5s 29ms/step - loss: 1.6279 - RMSE: 0.9598 - val_loss: 1.6150 - val_RMSE: 0.9693\n",
      "Epoch 32/65\n",
      "157/157 [==============================] - 5s 29ms/step - loss: 1.5842 - RMSE: 0.9560 - val_loss: 1.5735 - val_RMSE: 0.9658\n",
      "Epoch 33/65\n",
      "157/157 [==============================] - 5s 29ms/step - loss: 1.5432 - RMSE: 0.9524 - val_loss: 1.5377 - val_RMSE: 0.9660\n",
      "Epoch 34/65\n",
      "157/157 [==============================] - 5s 31ms/step - loss: 1.5049 - RMSE: 0.9483 - val_loss: 1.5001 - val_RMSE: 0.9620\n",
      "Epoch 35/65\n",
      "157/157 [==============================] - 5s 34ms/step - loss: 1.4692 - RMSE: 0.9452 - val_loss: 1.4642 - val_RMSE: 0.9576\n",
      "Epoch 36/65\n",
      "157/157 [==============================] - 5s 32ms/step - loss: 1.4358 - RMSE: 0.9426 - val_loss: 1.4324 - val_RMSE: 0.9557\n",
      "Epoch 37/65\n",
      "157/157 [==============================] - 5s 32ms/step - loss: 1.4045 - RMSE: 0.9396 - val_loss: 1.4030 - val_RMSE: 0.9542\n",
      "Epoch 38/65\n",
      "157/157 [==============================] - 5s 30ms/step - loss: 1.3750 - RMSE: 0.9378 - val_loss: 1.3745 - val_RMSE: 0.9519\n",
      "Epoch 39/65\n",
      "157/157 [==============================] - 5s 30ms/step - loss: 1.3475 - RMSE: 0.9352 - val_loss: 1.3484 - val_RMSE: 0.9504\n",
      "Epoch 40/65\n",
      "157/157 [==============================] - 5s 31ms/step - loss: 1.3219 - RMSE: 0.9337 - val_loss: 1.3254 - val_RMSE: 0.9508\n",
      "Epoch 41/65\n",
      "157/157 [==============================] - 5s 31ms/step - loss: 1.2977 - RMSE: 0.9320 - val_loss: 1.3054 - val_RMSE: 0.9524\n",
      "Epoch 42/65\n",
      "157/157 [==============================] - 5s 31ms/step - loss: 1.2749 - RMSE: 0.9302 - val_loss: 1.2803 - val_RMSE: 0.9480\n",
      "Epoch 43/65\n",
      "157/157 [==============================] - 5s 32ms/step - loss: 1.2538 - RMSE: 0.9292 - val_loss: 1.2596 - val_RMSE: 0.9465\n",
      "Epoch 44/65\n",
      "157/157 [==============================] - 5s 32ms/step - loss: 1.2340 - RMSE: 0.9282 - val_loss: 1.2408 - val_RMSE: 0.9459\n",
      "Epoch 45/65\n",
      "157/157 [==============================] - 5s 34ms/step - loss: 1.2154 - RMSE: 0.9271 - val_loss: 1.2263 - val_RMSE: 0.9487\n",
      "Epoch 46/65\n",
      "157/157 [==============================] - 5s 33ms/step - loss: 1.1979 - RMSE: 0.9256 - val_loss: 1.2066 - val_RMSE: 0.9447\n",
      "Epoch 47/65\n",
      "157/157 [==============================] - 5s 31ms/step - loss: 1.1816 - RMSE: 0.9249 - val_loss: 1.1908 - val_RMSE: 0.9441\n",
      "Epoch 48/65\n",
      "157/157 [==============================] - 5s 30ms/step - loss: 1.1662 - RMSE: 0.9244 - val_loss: 1.1761 - val_RMSE: 0.9435\n",
      "Epoch 49/65\n",
      "157/157 [==============================] - 5s 30ms/step - loss: 1.1521 - RMSE: 0.9241 - val_loss: 1.1624 - val_RMSE: 0.9433\n",
      "Epoch 50/65\n",
      "157/157 [==============================] - 5s 31ms/step - loss: 1.1386 - RMSE: 0.9236 - val_loss: 1.1497 - val_RMSE: 0.9430\n",
      "Epoch 51/65\n",
      "157/157 [==============================] - 5s 33ms/step - loss: 1.1258 - RMSE: 0.9231 - val_loss: 1.1385 - val_RMSE: 0.9437\n",
      "Epoch 52/65\n",
      "157/157 [==============================] - 5s 34ms/step - loss: 1.1141 - RMSE: 0.9224 - val_loss: 1.1268 - val_RMSE: 0.9431\n",
      "Epoch 53/65\n",
      "157/157 [==============================] - 6s 37ms/step - loss: 1.1030 - RMSE: 0.9218 - val_loss: 1.1175 - val_RMSE: 0.9443\n",
      "Epoch 54/65\n",
      "157/157 [==============================] - 6s 37ms/step - loss: 1.0925 - RMSE: 0.9217 - val_loss: 1.1155 - val_RMSE: 0.9517\n",
      "Epoch 55/65\n",
      "157/157 [==============================] - 5s 35ms/step - loss: 1.0828 - RMSE: 0.9224 - val_loss: 1.0964 - val_RMSE: 0.9421\n",
      "Epoch 56/65\n",
      "157/157 [==============================] - 6s 35ms/step - loss: 1.0736 - RMSE: 0.9215 - val_loss: 1.0887 - val_RMSE: 0.9432\n",
      "Epoch 57/65\n",
      "157/157 [==============================] - 6s 36ms/step - loss: 1.0647 - RMSE: 0.9206 - val_loss: 1.0837 - val_RMSE: 0.9462\n",
      "Epoch 58/65\n",
      "157/157 [==============================] - 6s 37ms/step - loss: 1.0569 - RMSE: 0.9215 - val_loss: 1.0712 - val_RMSE: 0.9412\n",
      "Epoch 59/65\n",
      "157/157 [==============================] - 6s 38ms/step - loss: 1.0493 - RMSE: 0.9213 - val_loss: 1.0643 - val_RMSE: 0.9416\n",
      "Epoch 60/65\n",
      "157/157 [==============================] - 6s 36ms/step - loss: 1.0420 - RMSE: 0.9206 - val_loss: 1.0653 - val_RMSE: 0.9494\n",
      "Epoch 61/65\n",
      "157/157 [==============================] - 6s 37ms/step - loss: 1.0354 - RMSE: 0.9211 - val_loss: 1.0552 - val_RMSE: 0.9455\n",
      "Epoch 62/65\n",
      "157/157 [==============================] - 5s 34ms/step - loss: 1.0292 - RMSE: 0.9207 - val_loss: 1.0449 - val_RMSE: 0.9411\n",
      "Epoch 63/65\n",
      "157/157 [==============================] - 5s 33ms/step - loss: 1.0233 - RMSE: 0.9206 - val_loss: 1.0416 - val_RMSE: 0.9438\n",
      "Epoch 64/65\n",
      "157/157 [==============================] - 6s 36ms/step - loss: 1.0180 - RMSE: 0.9212 - val_loss: 1.0379 - val_RMSE: 0.9454\n",
      "Epoch 65/65\n",
      "157/157 [==============================] - 6s 37ms/step - loss: 1.0126 - RMSE: 0.9211 - val_loss: 1.0358 - val_RMSE: 0.9486\n",
      "CPU times: user 24min 35s, sys: 6min 12s, total: 30min 47s\n",
      "Wall time: 5min 19s\n"
     ]
    }
   ],
   "source": [
    "%%time\n",
    "# 학습시간 약 5분\n",
    "result = model.fit(\n",
    "    x = [train_user_ids, train_movie_ids], \n",
    "    y = train_ratings - mu,\n",
    "    epochs = 65,\n",
    "    batch_size = 512,\n",
    "    validation_data = (\n",
    "        [test_user_ids, test_movie_ids], \n",
    "        test_ratings - mu\n",
    "    )\n",
    ")"
   ]
  },
  {
   "cell_type": "code",
   "execution_count": 13,
   "id": "592a3fd4",
   "metadata": {},
   "outputs": [
    {
     "data": {
      "image/png": "[encoded data removed]",
      "text/plain": [
       "<Figure size 720x720 with 1 Axes>"
      ]
     },
     "metadata": {
      "needs_background": "light"
     },
     "output_type": "display_data"
    }
   ],
   "source": [
    "# 학습 과정 시각화\n",
    "plt.figure(figsize=(10, 10))\n",
    "plt.plot(result.history['RMSE'], label=\"Train RMSE\")\n",
    "plt.plot(result.history['val_RMSE'], label=\"Test RMSE\")\n",
    "plt.legend()\n",
    "plt.show()"
   ]
  },
  {
   "cell_type": "code",
   "execution_count": 15,
   "id": "7ed5c77b",
   "metadata": {},
   "outputs": [
    {
     "data": {
      "text/plain": [
       "array([[3.8208745],\n",
       "       [3.0409997],\n",
       "       [3.2466128],\n",
       "       [4.150758 ],\n",
       "       [3.5898993],\n",
       "       [2.5780704],\n",
       "       [3.5251932],\n",
       "       [3.5610077],\n",
       "       [4.151126 ],\n",
       "       [3.9147153],\n",
       "       [3.4090788],\n",
       "       [3.6488066],\n",
       "       [3.1904917],\n",
       "       [3.2667305],\n",
       "       [2.856459 ]], dtype=float32)"
      ]
     },
     "execution_count": 15,
     "metadata": {},
     "output_type": "execute_result"
    }
   ],
   "source": [
    "# 모델로 test 데이터 예측\n",
    "predictions = model.predict([test_user_ids, test_movie_ids]) + mu\n",
    "\n",
    "# 예측값들 확인\n",
    "predictions[:15]"
   ]
  },
  {
   "cell_type": "code",
   "execution_count": 16,
   "id": "997c7ead",
   "metadata": {},
   "outputs": [
    {
     "name": "stdout",
     "output_type": "stream",
     "text": [
      "59286    4\n",
      "71695    3\n",
      "70788    5\n",
      "48299    4\n",
      "16144    5\n",
      "67827    4\n",
      "59373    2\n",
      "32506    4\n",
      "48843    4\n",
      "3767     4\n",
      "10090    3\n",
      "24858    2\n",
      "43351    3\n",
      "49282    3\n",
      "11074    2\n",
      "Name: rating, dtype: int64\n"
     ]
    }
   ],
   "source": [
    "# 실제값\n",
    "print(ratings_test.rating[:15])"
   ]
  },
  {
   "cell_type": "code",
   "execution_count": 17,
   "id": "c41cbb52",
   "metadata": {},
   "outputs": [],
   "source": [
    "import numpy as np\n",
    "\n",
    "# 넘파이를 활용한 RMSE 함수\n",
    "def RMSE2(y_true, y_pred):\n",
    "    return np.sqrt(np.mean((np.array(y_true) - np.array(y_pred))**2))"
   ]
  },
  {
   "cell_type": "code",
   "execution_count": 18,
   "id": "18ef98b2",
   "metadata": {},
   "outputs": [
    {
     "data": {
      "text/plain": [
       "0.9466724162372433"
      ]
     },
     "execution_count": 18,
     "metadata": {},
     "output_type": "execute_result"
    }
   ],
   "source": [
    "# ravel : 1차원으로 변환\n",
    "y_pred = np.ravel(predictions, order='C')\n",
    "y_true = np.array(ratings_test.rating)\n",
    "\n",
    "RMSE2(y_true, y_pred)"
   ]
  },
  {
   "cell_type": "raw",
   "id": "a0ba6609",
   "metadata": {},
   "source": [
    "결론 : \n",
    "MF에 신경망(딥러닝)을 적용하였더니 RMSE가 향상되었다 (1.09 -> 0.94)\n",
    "RMSE를 더 향상시키려면 다양한 layer와 학습 하이퍼 파라미터들을 조정해봐야 함.\n",
    "\n",
    "MF : 데이터가 연속적인 경우 성능이 좋은 경향.\n",
    "MF+딥러닝 : 데이터가 binary하거나 sparse한 경우 성능이 좋은 경향."
   ]
  },
  {
   "cell_type": "code",
   "execution_count": null,
   "id": "1d8df869",
   "metadata": {},
   "outputs": [],
   "source": []
  },
  {
   "cell_type": "code",
   "execution_count": null,
   "id": "5d72b6e6",
   "metadata": {},
   "outputs": [],
   "source": []
  }
 ],
 "metadata": {
  "kernelspec": {
   "display_name": "Python 3",
   "language": "python",
   "name": "python3"
  },
  "language_info": {
   "codemirror_mode": {
    "name": "ipython",
    "version": 3
   },
   "file_extension": ".py",
   "mimetype": "text/x-python",
   "name": "python",
   "nbconvert_exporter": "python",
   "pygments_lexer": "ipython3",
   "version": "3.8.8"
  },
  "varInspector": {
   "cols": {
    "lenName": 16,
    "lenType": 16,
    "lenVar": 40
   },
   "kernels_config": {
    "python": {
     "delete_cmd_postfix": "",
     "delete_cmd_prefix": "del ",
     "library": "var_list.py",
     "varRefreshCmd": "print(var_dic_list())"
    },
    "r": {
     "delete_cmd_postfix": ") ",
     "delete_cmd_prefix": "rm(",
     "library": "var_list.r",
     "varRefreshCmd": "cat(var_dic_list()) "
    }
   },
   "types_to_exclude": [
    "module",
    "function",
    "builtin_function_or_method",
    "instance",
    "_Feature"
   ],
   "window_display": false
  }
 },
 "nbformat": 4,
 "nbformat_minor": 5
}
